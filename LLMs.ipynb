{
  "cells": [
    {
      "cell_type": "markdown",
      "metadata": {
        "id": "view-in-github",
        "colab_type": "text"
      },
      "source": [
        "<a href=\"https://colab.research.google.com/github/lucia1299/DBMS_InvestigativeJournalism/blob/main/LLMs_experiment.ipynb\" target=\"_parent\"><img src=\"https://colab.research.google.com/assets/colab-badge.svg\" alt=\"Open In Colab\"/></a>"
      ]
    },
    {
      "cell_type": "markdown",
      "metadata": {
        "id": "cCFuCAhnDpdk"
      },
      "source": [
        "# **Gemma**"
      ]
    },
    {
      "cell_type": "code",
      "execution_count": null,
      "metadata": {
        "colab": {
          "base_uri": "https://localhost:8080/"
        },
        "id": "dEiZ917ZDbi8",
        "outputId": "a8ccc92c-f8e0-47e0-b4e9-60b5c67e6580"
      },
      "outputs": [
        {
          "output_type": "stream",
          "name": "stdout",
          "text": [
            "Collecting transformers==4.38.1\n",
            "  Downloading transformers-4.38.1-py3-none-any.whl.metadata (131 kB)\n",
            "\u001b[?25l     \u001b[90m━━━━━━━━━━━━━━━━━━━━━━━━━━━━━━━━━━━━━━━━\u001b[0m \u001b[32m0.0/131.1 kB\u001b[0m \u001b[31m?\u001b[0m eta \u001b[36m-:--:--\u001b[0m\r\u001b[2K     \u001b[90m━━━━━━━━━━━━━━━━━━━━━━━━━━━━━━━━━━━━━━━━\u001b[0m \u001b[32m131.1/131.1 kB\u001b[0m \u001b[31m3.8 MB/s\u001b[0m eta \u001b[36m0:00:00\u001b[0m\n",
            "\u001b[?25hRequirement already satisfied: filelock in /usr/local/lib/python3.10/dist-packages (from transformers==4.38.1) (3.15.4)\n",
            "Requirement already satisfied: huggingface-hub<1.0,>=0.19.3 in /usr/local/lib/python3.10/dist-packages (from transformers==4.38.1) (0.23.5)\n",
            "Requirement already satisfied: numpy>=1.17 in /usr/local/lib/python3.10/dist-packages (from transformers==4.38.1) (1.26.4)\n",
            "Requirement already satisfied: packaging>=20.0 in /usr/local/lib/python3.10/dist-packages (from transformers==4.38.1) (24.1)\n",
            "Requirement already satisfied: pyyaml>=5.1 in /usr/local/lib/python3.10/dist-packages (from transformers==4.38.1) (6.0.2)\n",
            "Requirement already satisfied: regex!=2019.12.17 in /usr/local/lib/python3.10/dist-packages (from transformers==4.38.1) (2024.5.15)\n",
            "Requirement already satisfied: requests in /usr/local/lib/python3.10/dist-packages (from transformers==4.38.1) (2.32.3)\n",
            "Collecting tokenizers<0.19,>=0.14 (from transformers==4.38.1)\n",
            "  Downloading tokenizers-0.15.2-cp310-cp310-manylinux_2_17_x86_64.manylinux2014_x86_64.whl.metadata (6.7 kB)\n",
            "Requirement already satisfied: safetensors>=0.4.1 in /usr/local/lib/python3.10/dist-packages (from transformers==4.38.1) (0.4.4)\n",
            "Requirement already satisfied: tqdm>=4.27 in /usr/local/lib/python3.10/dist-packages (from transformers==4.38.1) (4.66.5)\n",
            "Requirement already satisfied: fsspec>=2023.5.0 in /usr/local/lib/python3.10/dist-packages (from huggingface-hub<1.0,>=0.19.3->transformers==4.38.1) (2024.6.1)\n",
            "Requirement already satisfied: typing-extensions>=3.7.4.3 in /usr/local/lib/python3.10/dist-packages (from huggingface-hub<1.0,>=0.19.3->transformers==4.38.1) (4.12.2)\n",
            "Requirement already satisfied: charset-normalizer<4,>=2 in /usr/local/lib/python3.10/dist-packages (from requests->transformers==4.38.1) (3.3.2)\n",
            "Requirement already satisfied: idna<4,>=2.5 in /usr/local/lib/python3.10/dist-packages (from requests->transformers==4.38.1) (3.8)\n",
            "Requirement already satisfied: urllib3<3,>=1.21.1 in /usr/local/lib/python3.10/dist-packages (from requests->transformers==4.38.1) (2.0.7)\n",
            "Requirement already satisfied: certifi>=2017.4.17 in /usr/local/lib/python3.10/dist-packages (from requests->transformers==4.38.1) (2024.7.4)\n",
            "Downloading transformers-4.38.1-py3-none-any.whl (8.5 MB)\n",
            "\u001b[2K   \u001b[90m━━━━━━━━━━━━━━━━━━━━━━━━━━━━━━━━━━━━━━━━\u001b[0m \u001b[32m8.5/8.5 MB\u001b[0m \u001b[31m37.5 MB/s\u001b[0m eta \u001b[36m0:00:00\u001b[0m\n",
            "\u001b[?25hDownloading tokenizers-0.15.2-cp310-cp310-manylinux_2_17_x86_64.manylinux2014_x86_64.whl (3.6 MB)\n",
            "\u001b[2K   \u001b[90m━━━━━━━━━━━━━━━━━━━━━━━━━━━━━━━━━━━━━━━━\u001b[0m \u001b[32m3.6/3.6 MB\u001b[0m \u001b[31m42.8 MB/s\u001b[0m eta \u001b[36m0:00:00\u001b[0m\n",
            "\u001b[?25hInstalling collected packages: tokenizers, transformers\n",
            "  Attempting uninstall: tokenizers\n",
            "    Found existing installation: tokenizers 0.19.1\n",
            "    Uninstalling tokenizers-0.19.1:\n",
            "      Successfully uninstalled tokenizers-0.19.1\n",
            "  Attempting uninstall: transformers\n",
            "    Found existing installation: transformers 4.42.4\n",
            "    Uninstalling transformers-4.42.4:\n",
            "      Successfully uninstalled transformers-4.42.4\n",
            "Successfully installed tokenizers-0.15.2 transformers-4.38.1\n",
            "Requirement already satisfied: accelerate in /usr/local/lib/python3.10/dist-packages (0.32.1)\n",
            "Requirement already satisfied: numpy<2.0.0,>=1.17 in /usr/local/lib/python3.10/dist-packages (from accelerate) (1.26.4)\n",
            "Requirement already satisfied: packaging>=20.0 in /usr/local/lib/python3.10/dist-packages (from accelerate) (24.1)\n",
            "Requirement already satisfied: psutil in /usr/local/lib/python3.10/dist-packages (from accelerate) (5.9.5)\n",
            "Requirement already satisfied: pyyaml in /usr/local/lib/python3.10/dist-packages (from accelerate) (6.0.2)\n",
            "Requirement already satisfied: torch>=1.10.0 in /usr/local/lib/python3.10/dist-packages (from accelerate) (2.4.0+cu121)\n",
            "Requirement already satisfied: huggingface-hub in /usr/local/lib/python3.10/dist-packages (from accelerate) (0.23.5)\n",
            "Requirement already satisfied: safetensors>=0.3.1 in /usr/local/lib/python3.10/dist-packages (from accelerate) (0.4.4)\n",
            "Requirement already satisfied: filelock in /usr/local/lib/python3.10/dist-packages (from torch>=1.10.0->accelerate) (3.15.4)\n",
            "Requirement already satisfied: typing-extensions>=4.8.0 in /usr/local/lib/python3.10/dist-packages (from torch>=1.10.0->accelerate) (4.12.2)\n",
            "Requirement already satisfied: sympy in /usr/local/lib/python3.10/dist-packages (from torch>=1.10.0->accelerate) (1.13.2)\n",
            "Requirement already satisfied: networkx in /usr/local/lib/python3.10/dist-packages (from torch>=1.10.0->accelerate) (3.3)\n",
            "Requirement already satisfied: jinja2 in /usr/local/lib/python3.10/dist-packages (from torch>=1.10.0->accelerate) (3.1.4)\n",
            "Requirement already satisfied: fsspec in /usr/local/lib/python3.10/dist-packages (from torch>=1.10.0->accelerate) (2024.6.1)\n",
            "Requirement already satisfied: requests in /usr/local/lib/python3.10/dist-packages (from huggingface-hub->accelerate) (2.32.3)\n",
            "Requirement already satisfied: tqdm>=4.42.1 in /usr/local/lib/python3.10/dist-packages (from huggingface-hub->accelerate) (4.66.5)\n",
            "Requirement already satisfied: MarkupSafe>=2.0 in /usr/local/lib/python3.10/dist-packages (from jinja2->torch>=1.10.0->accelerate) (2.1.5)\n",
            "Requirement already satisfied: charset-normalizer<4,>=2 in /usr/local/lib/python3.10/dist-packages (from requests->huggingface-hub->accelerate) (3.3.2)\n",
            "Requirement already satisfied: idna<4,>=2.5 in /usr/local/lib/python3.10/dist-packages (from requests->huggingface-hub->accelerate) (3.8)\n",
            "Requirement already satisfied: urllib3<3,>=1.21.1 in /usr/local/lib/python3.10/dist-packages (from requests->huggingface-hub->accelerate) (2.0.7)\n",
            "Requirement already satisfied: certifi>=2017.4.17 in /usr/local/lib/python3.10/dist-packages (from requests->huggingface-hub->accelerate) (2024.7.4)\n",
            "Requirement already satisfied: mpmath<1.4,>=1.1.0 in /usr/local/lib/python3.10/dist-packages (from sympy->torch>=1.10.0->accelerate) (1.3.0)\n",
            "Looking in indexes: https://pypi.org/simple/\n",
            "Collecting bitsandbytes\n",
            "  Downloading bitsandbytes-0.43.3-py3-none-manylinux_2_24_x86_64.whl.metadata (3.5 kB)\n",
            "Requirement already satisfied: torch in /usr/local/lib/python3.10/dist-packages (from bitsandbytes) (2.4.0+cu121)\n",
            "Requirement already satisfied: numpy in /usr/local/lib/python3.10/dist-packages (from bitsandbytes) (1.26.4)\n",
            "Requirement already satisfied: filelock in /usr/local/lib/python3.10/dist-packages (from torch->bitsandbytes) (3.15.4)\n",
            "Requirement already satisfied: typing-extensions>=4.8.0 in /usr/local/lib/python3.10/dist-packages (from torch->bitsandbytes) (4.12.2)\n",
            "Requirement already satisfied: sympy in /usr/local/lib/python3.10/dist-packages (from torch->bitsandbytes) (1.13.2)\n",
            "Requirement already satisfied: networkx in /usr/local/lib/python3.10/dist-packages (from torch->bitsandbytes) (3.3)\n",
            "Requirement already satisfied: jinja2 in /usr/local/lib/python3.10/dist-packages (from torch->bitsandbytes) (3.1.4)\n",
            "Requirement already satisfied: fsspec in /usr/local/lib/python3.10/dist-packages (from torch->bitsandbytes) (2024.6.1)\n",
            "Requirement already satisfied: MarkupSafe>=2.0 in /usr/local/lib/python3.10/dist-packages (from jinja2->torch->bitsandbytes) (2.1.5)\n",
            "Requirement already satisfied: mpmath<1.4,>=1.1.0 in /usr/local/lib/python3.10/dist-packages (from sympy->torch->bitsandbytes) (1.3.0)\n",
            "Downloading bitsandbytes-0.43.3-py3-none-manylinux_2_24_x86_64.whl (137.5 MB)\n",
            "\u001b[2K   \u001b[90m━━━━━━━━━━━━━━━━━━━━━━━━━━━━━━━━━━━━━━━━\u001b[0m \u001b[32m137.5/137.5 MB\u001b[0m \u001b[31m6.5 MB/s\u001b[0m eta \u001b[36m0:00:00\u001b[0m\n",
            "\u001b[?25hInstalling collected packages: bitsandbytes\n",
            "Successfully installed bitsandbytes-0.43.3\n"
          ]
        }
      ],
      "source": [
        "!pip install -U \"transformers==4.38.1\" --upgrade\n",
        "!pip install accelerate\n",
        "!pip install -i https://pypi.org/simple/ bitsandbytes"
      ]
    },
    {
      "cell_type": "code",
      "execution_count": null,
      "metadata": {
        "colab": {
          "base_uri": "https://localhost:8080/"
        },
        "id": "q6P1Ej7YDwO4",
        "outputId": "4ce57407-17fc-431d-d0e9-a541e44b951f"
      },
      "outputs": [
        {
          "output_type": "stream",
          "name": "stdout",
          "text": [
            "Looking in indexes: https://pypi.org/simple/\n",
            "Requirement already satisfied: bitsandbytes in /usr/local/lib/python3.10/dist-packages (0.43.3)\n",
            "Requirement already satisfied: torch in /usr/local/lib/python3.10/dist-packages (from bitsandbytes) (2.4.0+cu121)\n",
            "Requirement already satisfied: numpy in /usr/local/lib/python3.10/dist-packages (from bitsandbytes) (1.26.4)\n",
            "Requirement already satisfied: filelock in /usr/local/lib/python3.10/dist-packages (from torch->bitsandbytes) (3.15.4)\n",
            "Requirement already satisfied: typing-extensions>=4.8.0 in /usr/local/lib/python3.10/dist-packages (from torch->bitsandbytes) (4.12.2)\n",
            "Requirement already satisfied: sympy in /usr/local/lib/python3.10/dist-packages (from torch->bitsandbytes) (1.13.2)\n",
            "Requirement already satisfied: networkx in /usr/local/lib/python3.10/dist-packages (from torch->bitsandbytes) (3.3)\n",
            "Requirement already satisfied: jinja2 in /usr/local/lib/python3.10/dist-packages (from torch->bitsandbytes) (3.1.4)\n",
            "Requirement already satisfied: fsspec in /usr/local/lib/python3.10/dist-packages (from torch->bitsandbytes) (2024.6.1)\n",
            "Requirement already satisfied: MarkupSafe>=2.0 in /usr/local/lib/python3.10/dist-packages (from jinja2->torch->bitsandbytes) (2.1.5)\n",
            "Requirement already satisfied: mpmath<1.4,>=1.1.0 in /usr/local/lib/python3.10/dist-packages (from sympy->torch->bitsandbytes) (1.3.0)\n"
          ]
        }
      ],
      "source": [
        "!pip install -i https://pypi.org/simple/ bitsandbytes"
      ]
    },
    {
      "cell_type": "markdown",
      "metadata": {
        "id": "9pKzGhwvGOn9"
      },
      "source": [
        "**Gemma2b**"
      ]
    },
    {
      "cell_type": "code",
      "execution_count": null,
      "metadata": {
        "colab": {
          "base_uri": "https://localhost:8080/",
          "height": 458,
          "referenced_widgets": [
            "4de1555ad2ef4e5b90b1698e0dc78144",
            "9f92ec3aef17473997bc90e9fe2cd43c",
            "923231c6fcdb4cd59c301a153bb1307d",
            "2ce7a9e428574465a413fccfd0f079b2",
            "c59479acb6e14e36aa8a980d357299c8",
            "023c781c23194ea9a4a3749c682f9901",
            "d46542f0dd894659b586ea611b641ccf",
            "ce520792cefd493cbf21db9eda1735e9",
            "74afc14f07144c1792596c8130e9353d",
            "77f89a237b284dd28b66b979faaad20a",
            "fd620b1b503843a9b6d661d952d35d1e",
            "c57e49da60a3415d9807da84796a3405",
            "46a394b2364a4ce0b1fb5ca91cad96aa",
            "2ab8af7e13aa465184481a48067e35c5",
            "fb21b97c91db4e528792d8a3819a2ae2",
            "8338dd578aa94784add66ae129ff312e",
            "110b279515c641c6918352d679432a84",
            "46021e8d824749569e39a5be896033ae",
            "4beddc9ed6ce44fb9bb7915d906e3f69",
            "be917e0fe37c485cbc1e4e368e6dd801",
            "057f3bcccc2f47588baccb6824c08297",
            "079265845c64442d8b4b72d142bb5d1d",
            "1d22cf6096f9469b8dd743cd7d3dbdb5",
            "2e4916b6b6264d72bfaf2abcac7e1773",
            "3e299a8156c24922ae7d77fdb7934474",
            "30149d80acfd4ab194044f1d3125383a",
            "ba23b0f8e04743b293fa14ca328c4eb4",
            "e5c3311ff0074f4fb51bf91fcdd04b65",
            "35649c3afe064af3886fd63d7c219bb8",
            "446117f1089f4b3e9dbcd1856d49dc9a",
            "dd387a224c124b0eab2e1fb67de2377c",
            "f8d31df6cf98488c89807aa778bca595",
            "130876d652c448438d76106aeb9bc0a6",
            "eaab956e48da4a4e99b30db40909f3ed",
            "9853876e0c9d4e2dbd06ce9323873803",
            "cbd40c6c9ca945c3bab312ba46948d5b",
            "bbe16abfbd464aba8ae3916e3b53c119",
            "0e06a7316d6f47e4880f8bc4e59131cd",
            "f79b083a53a94f8a9df82e3e8ac90805",
            "1fd3066564964a25adcbfee5675a5012",
            "eee8566c928b4733962c476573b0d43c",
            "a3fa357ea67e43e3b207e43d48627055",
            "dbdba7be3c4e4fd4a5a5b2c1924d09c0",
            "b40b58554f1b476b80dcffd2907776c8",
            "980555a559e3416098c36d26581a115c",
            "86e060154d654d61a239a135e8695c8f",
            "bb9574640d7e4c09a8de0b1d5f46081b",
            "4cee8785dca74d0e93aaadb605a1c26c",
            "0a5f851a50de4d62a07f60a2c1983c91",
            "96e147613e44426bbc8ab047292f0da7",
            "87fe392b13d94ceca8aac4836e069350",
            "018c745af77a4680bc9dec1f58345cf8",
            "901602f006ec44fd97daf833417f4e84",
            "ef897882040b4ca9bbef50b64c8c39b6",
            "6b46ea6891de4504a44ccff167edfd9a",
            "ffae9516c6314fc494b4f4f7b778f0e4",
            "1583cb21b45c4df88c9be4678dd1e712",
            "21e3e9c212a9415f966ce9ef84425d89",
            "b11e0aa11df943a389924f97530e559e",
            "adb3d02be75548b6a1bf09c4205c36ed",
            "ce8cd034b4ea4fb287b2b1c6847cac5a",
            "c072a4df95c54df99fcc28f29773b7bd",
            "edfb87f74a1d443cbabd8a4cb888b1b4",
            "95609710b2174eb2a27819bae0397e86",
            "3c10f129e8864b2e8c5808792982f6a4",
            "8adbb25098574275b13a9d76707af593",
            "0350368669334cc6a0e23d04385cfc22",
            "6582be1e0ec342e7b20076ea70d17809",
            "46a69c8d226d446c9badfa4c7eb16a1d",
            "63139f21bd0a4100a5e33a45744e3363",
            "62b01686cce74ed6849d18a9d247118a",
            "abf61e7eeead4f3ca2e6501333315fc0",
            "2ae51f32c562498fa99793ac00ea036a",
            "4d34764d9a1d49ea8dd472977af72afb",
            "b8fdb8014ea04e8d827dc34f26be2d3f",
            "fa7f5e4cd9e24a1f93a80a09ca075538",
            "282cdcde856144519e49d5fdc50d168f",
            "ccbf7e7f37034ed9b22c93d54683f721",
            "87962d7f7a074c6a8df4c9c0707f9921",
            "08ff0204eb6b471488cf623cd0b52b95",
            "d7b76bdd79cd454c8dce1fd94b08c5b3",
            "a68dae99b2e441468e4a2065e080f09c",
            "a79f9fe5499c46159fb6fbd72be47ff3",
            "fe94e32a50974aa695b129ec56085fd0",
            "f29d40335c6849e0b4fce830150b9f43",
            "188b7ebbe2434264a91d3c706a354025",
            "f062d0877a54491ab1d4c47eaefbd545",
            "c655f73c629d463d9bc9a83d73937a68",
            "e4208ada51fe42fdbfb8423e02d3b8b0",
            "712748659d0f452a95419c5bbe275fde",
            "81d38c926b1943529522c39759e53c6b",
            "209b32f9fe1742d386cde52f4c630365",
            "fcd8ad7c1bac4c91b5e3b911553f0c78",
            "6022ca4e0d814f01993efdb60e64115a",
            "d8a68aad7eac41baa7578ef93cf0413b",
            "f5838ff9a94b4b168e61dc0587b5a433",
            "4d4cd96281c14e458e65c3aa13765d2a",
            "fa165ba6e82b4a6ca609255e5a91c7a3",
            "93a6ed79000f41d0be983b41bfd81633",
            "6bbfc18a07e8499f9b31260bf156c576",
            "8eb7010a339f4fe7aa5f268476f2af76",
            "af0f7567932a4fa9be5882c9ad067645",
            "80b3f8ff8b9048a8a228b2c86f395478",
            "d22594cd93ac426e8a5ad58a4c3daced",
            "cfbc06a4f73d4354bc4e6b4ea2f2d50f",
            "72f4ddf50fc5473289296143ba91f0b9",
            "7ab63e58ace448a7b46f7d16177f5839",
            "264763ccefec429f8bebfca6e85ddd04",
            "db6551526bd74c65a2861d9d9fa191a4",
            "f65fde23b4bf4a3dace87fd1341d5a12",
            "8deeb94a9a4f4cb9814c9bdb7a57098e",
            "69e526521ca74cccad2880d6d74c1972",
            "f967fafaac374c45850bc3563d697dd1",
            "506a0e0d212e482aaab6e5f3d3f9da6f",
            "24923cfef5b84568923e188fe69b3d6b",
            "9b1851791b954125a83f3b0879a87264",
            "926c8563f365435f99e6b96d19badd92",
            "660bfaebfa8f42f889476670a4ac6476",
            "f75eb40114134cae851c417a20d5624c",
            "af7cbaa418ca4b399283102e0ca9a363",
            "2193b97e34404453a953a55d1948aeb3"
          ]
        },
        "id": "Tj5nPZjtD0eG",
        "outputId": "0c12c8b2-69c8-4fd8-f54f-a3677472301c"
      },
      "outputs": [
        {
          "output_type": "stream",
          "name": "stderr",
          "text": [
            "/usr/local/lib/python3.10/dist-packages/huggingface_hub/file_download.py:1132: FutureWarning: `resume_download` is deprecated and will be removed in version 1.0.0. Downloads always resume when possible. If you want to force a new download, use `force_download=True`.\n",
            "  warnings.warn(\n"
          ]
        },
        {
          "output_type": "display_data",
          "data": {
            "text/plain": [
              "tokenizer_config.json:   0%|          | 0.00/33.6k [00:00<?, ?B/s]"
            ],
            "application/vnd.jupyter.widget-view+json": {
              "version_major": 2,
              "version_minor": 0,
              "model_id": "4de1555ad2ef4e5b90b1698e0dc78144"
            }
          },
          "metadata": {}
        },
        {
          "output_type": "display_data",
          "data": {
            "text/plain": [
              "tokenizer.model:   0%|          | 0.00/4.24M [00:00<?, ?B/s]"
            ],
            "application/vnd.jupyter.widget-view+json": {
              "version_major": 2,
              "version_minor": 0,
              "model_id": "c57e49da60a3415d9807da84796a3405"
            }
          },
          "metadata": {}
        },
        {
          "output_type": "display_data",
          "data": {
            "text/plain": [
              "tokenizer.json:   0%|          | 0.00/17.5M [00:00<?, ?B/s]"
            ],
            "application/vnd.jupyter.widget-view+json": {
              "version_major": 2,
              "version_minor": 0,
              "model_id": "1d22cf6096f9469b8dd743cd7d3dbdb5"
            }
          },
          "metadata": {}
        },
        {
          "output_type": "display_data",
          "data": {
            "text/plain": [
              "special_tokens_map.json:   0%|          | 0.00/636 [00:00<?, ?B/s]"
            ],
            "application/vnd.jupyter.widget-view+json": {
              "version_major": 2,
              "version_minor": 0,
              "model_id": "eaab956e48da4a4e99b30db40909f3ed"
            }
          },
          "metadata": {}
        },
        {
          "output_type": "display_data",
          "data": {
            "text/plain": [
              "config.json:   0%|          | 0.00/627 [00:00<?, ?B/s]"
            ],
            "application/vnd.jupyter.widget-view+json": {
              "version_major": 2,
              "version_minor": 0,
              "model_id": "980555a559e3416098c36d26581a115c"
            }
          },
          "metadata": {}
        },
        {
          "output_type": "stream",
          "name": "stderr",
          "text": [
            "/usr/local/lib/python3.10/dist-packages/huggingface_hub/file_download.py:1132: FutureWarning: `resume_download` is deprecated and will be removed in version 1.0.0. Downloads always resume when possible. If you want to force a new download, use `force_download=True`.\n",
            "  warnings.warn(\n"
          ]
        },
        {
          "output_type": "display_data",
          "data": {
            "text/plain": [
              "model.safetensors.index.json:   0%|          | 0.00/13.5k [00:00<?, ?B/s]"
            ],
            "application/vnd.jupyter.widget-view+json": {
              "version_major": 2,
              "version_minor": 0,
              "model_id": "ffae9516c6314fc494b4f4f7b778f0e4"
            }
          },
          "metadata": {}
        },
        {
          "output_type": "display_data",
          "data": {
            "text/plain": [
              "Downloading shards:   0%|          | 0/2 [00:00<?, ?it/s]"
            ],
            "application/vnd.jupyter.widget-view+json": {
              "version_major": 2,
              "version_minor": 0,
              "model_id": "0350368669334cc6a0e23d04385cfc22"
            }
          },
          "metadata": {}
        },
        {
          "output_type": "display_data",
          "data": {
            "text/plain": [
              "model-00001-of-00002.safetensors:   0%|          | 0.00/4.95G [00:00<?, ?B/s]"
            ],
            "application/vnd.jupyter.widget-view+json": {
              "version_major": 2,
              "version_minor": 0,
              "model_id": "ccbf7e7f37034ed9b22c93d54683f721"
            }
          },
          "metadata": {}
        },
        {
          "output_type": "display_data",
          "data": {
            "text/plain": [
              "model-00002-of-00002.safetensors:   0%|          | 0.00/67.1M [00:00<?, ?B/s]"
            ],
            "application/vnd.jupyter.widget-view+json": {
              "version_major": 2,
              "version_minor": 0,
              "model_id": "e4208ada51fe42fdbfb8423e02d3b8b0"
            }
          },
          "metadata": {}
        },
        {
          "output_type": "display_data",
          "data": {
            "text/plain": [
              "Loading checkpoint shards:   0%|          | 0/2 [00:00<?, ?it/s]"
            ],
            "application/vnd.jupyter.widget-view+json": {
              "version_major": 2,
              "version_minor": 0,
              "model_id": "6bbfc18a07e8499f9b31260bf156c576"
            }
          },
          "metadata": {}
        },
        {
          "output_type": "display_data",
          "data": {
            "text/plain": [
              "generation_config.json:   0%|          | 0.00/137 [00:00<?, ?B/s]"
            ],
            "application/vnd.jupyter.widget-view+json": {
              "version_major": 2,
              "version_minor": 0,
              "model_id": "8deeb94a9a4f4cb9814c9bdb7a57098e"
            }
          },
          "metadata": {}
        }
      ],
      "source": [
        "from transformers import AutoTokenizer, AutoModelForCausalLM\n",
        "import torch\n",
        "\n",
        "tokenizer = AutoTokenizer.from_pretrained(\"google/gemma-2b\")\n",
        "model = AutoModelForCausalLM.from_pretrained(\n",
        "    \"google/gemma-2b\",\n",
        "    torch_dtype=torch.bfloat16\n",
        ")"
      ]
    },
    {
      "cell_type": "markdown",
      "metadata": {
        "id": "SKl413r1GMY2"
      },
      "source": [
        "*English Prompt for a Text Generation task*"
      ]
    },
    {
      "cell_type": "code",
      "execution_count": null,
      "metadata": {
        "colab": {
          "base_uri": "https://localhost:8080/"
        },
        "id": "acQMxPLhD-Rs",
        "outputId": "e3d50816-cb80-42bc-802b-ddbd8569196a"
      },
      "outputs": [
        {
          "name": "stderr",
          "output_type": "stream",
          "text": [
            "/usr/local/lib/python3.10/dist-packages/transformers/generation/utils.py:1339: UserWarning: You have modified the pretrained model configuration to control generation. This is a deprecated strategy to control generation and will be removed soon, in a future version. Please use and modify the model generation configuration (see https://huggingface.co/docs/transformers/generation_strategies#default-text-generation-configuration )\n",
            "  warnings.warn(\n"
          ]
        },
        {
          "name": "stdout",
          "output_type": "stream",
          "text": [
            "<bos>Tell me a story that you recently read in the news.\n",
            "\n",
            "I read a story about a man who was arrested for stealing a car. He was caught by the police and was charged with the crime. The man was sentenced to jail for a year.\n",
            "\n",
            "The man was released from jail after serving his sentence. He was then given a job at a local company. He was happy to have a job and was grateful for the opportunity.\n",
            "\n",
            "The man was happy to have a job and was\n"
          ]
        }
      ],
      "source": [
        "text = \"Tell me a story that you recently read in the news.\"\n",
        "\n",
        "input_ids = tokenizer(text, return_tensors=\"pt\")\n",
        "model.config.max_length = 100\n",
        "outputs = model.generate(**input_ids)\n",
        "print(tokenizer.decode(outputs[0]))"
      ]
    },
    {
      "cell_type": "markdown",
      "metadata": {
        "id": "mLyGRhZxKl8F"
      },
      "source": [
        "*Italian Prompt for a Text Generation task*"
      ]
    },
    {
      "cell_type": "code",
      "execution_count": null,
      "metadata": {
        "colab": {
          "base_uri": "https://localhost:8080/"
        },
        "id": "V4YzvqmqGLX4",
        "outputId": "9d1a23d3-93a3-48cb-81ab-a26bc5d3e56e"
      },
      "outputs": [
        {
          "name": "stdout",
          "output_type": "stream",
          "text": [
            "<bos>Raccontami una storia che hai letto recentemente nelle notizie.\n",
            "\n",
            "Un uomo di nome John ha un'idea per un nuovo prodotto. Ha un'idea per un nuovo prodotto che potrebbe essere molto utile per i suoi clienti. Ha un'idea per un nuovo prodotto che potrebbe essere molto utile per i suoi clienti. Ha un'idea per un nuovo prodotto che potrebbe essere molto utile per i suoi clienti. Ha un'idea per un nuovo prodotto che potrebbe essere molto utile per i suoi clienti.\n"
          ]
        }
      ],
      "source": [
        "text = \"Raccontami una storia che hai letto recentemente nelle notizie.\"\n",
        "\n",
        "input_ids = tokenizer(text, return_tensors=\"pt\")\n",
        "model.config.max_length = 100\n",
        "outputs = model.generate(**input_ids)\n",
        "print(tokenizer.decode(outputs[0]))"
      ]
    },
    {
      "cell_type": "code",
      "execution_count": null,
      "metadata": {
        "colab": {
          "base_uri": "https://localhost:8080/"
        },
        "id": "Tojo0cWlOEHw",
        "outputId": "7bed7dc4-6b2f-47f6-8c65-7a54f7bd4311"
      },
      "outputs": [
        {
          "name": "stdout",
          "output_type": "stream",
          "text": [
            "<bos>Raccontami una storia che hai letto recentemente nelle notizie. Il titolo è: \"La vita di un'intelligenza artificiale\". E qui c'è la frase\n",
            "\n",
            "<blockquote>\"Esistono altri problemi per cui potrebbero essere utili le macchine intelligenti, come costruire un'automobile in pochi minuti.\"</blockquote>\n",
            "\n",
            "\n",
            "Non ho mai pensato a questo tipo di problema ma mi ha colpito molto perché non sembrava impossibile che questo fosse possibile (anzi credo sia già fatto) eppure è così\n"
          ]
        }
      ],
      "source": [
        "text = \"Raccontami una storia che hai letto recentemente nelle notizie.\"\n",
        "\n",
        "input_ids = tokenizer(text, return_tensors=\"pt\")\n",
        "model.config.max_length = 100\n",
        "\n",
        "outputs = model.generate(\n",
        "    **input_ids,\n",
        "    do_sample=True,       # Enable sampling\n",
        "    top_k=50,             # Set the number of highest probability vocabulary tokens to keep for top-k-filtering\n",
        "    top_p=0.95,           # Set cumulative probability of parameter highest probability vocabulary tokens to keep for nucleus sampling\n",
        "    temperature=0.7,      # Control the randomness of predictions by scaling the logits before applying softmax\n",
        "    repetition_penalty=1.2, # Penalty for repeating words or phrases\n",
        ")\n",
        "\n",
        "print(tokenizer.decode(outputs[0]))"
      ]
    },
    {
      "cell_type": "markdown",
      "metadata": {
        "id": "uq02JwVVOt-u"
      },
      "source": [
        "*English Prompt for Named Entity Recognition*\n",
        "\n",
        "This task has performed quite badly and it was really slow even if the chunck of text was quite small"
      ]
    },
    {
      "cell_type": "code",
      "execution_count": null,
      "metadata": {
        "colab": {
          "base_uri": "https://localhost:8080/"
        },
        "id": "A_Vn1VFXP5-s",
        "outputId": "5dad988b-141e-413a-e99b-0699c03874e0"
      },
      "outputs": [
        {
          "name": "stderr",
          "output_type": "stream",
          "text": [
            "/usr/local/lib/python3.10/dist-packages/transformers/generation/utils.py:1339: UserWarning: You have modified the pretrained model configuration to control generation. This is a deprecated strategy to control generation and will be removed soon, in a future version. Please use and modify the model generation configuration (see https://huggingface.co/docs/transformers/generation_strategies#default-text-generation-configuration )\n",
            "  warnings.warn(\n"
          ]
        },
        {
          "name": "stdout",
          "output_type": "stream",
          "text": [
            "<bos>I will give you the following text:\n",
            "'On April 22, 2024, at 10:00 a.m., in New York City, TechCorp CEO John Smith and Innovate Inc. CFO Jane Doe announced at the Global Tech Conference, 'Our mission is to innovate and lead the technology industry into the future,' while renowned scientist Dr.ssa Emily Johnson of the University of California stressed the importance of sustainable practices in technology, stating, 'We must integrate sustainability into every aspect of our work'; later, at 3:00, at Central Park, representatives from GreenFuture and CleanTech gathered to discuss further environmental initiatives, with Chief Operating Officer Michael Lee stating, 'Collaboration between our organizations is critical for a green future,' and in the evening, at 8:00 p.m., at the New York Environmental Society headquarters, President Laura Chen reiterated, 'It is essential to join forces to address climate challenges.''\n",
            "In this following text, I would like you to extract entities (ORGANIZATION, PERSON, TIME, LOCATION),\n",
            "so perform a Named Entity Recognition task.\n",
            "I would like you to extract the following entities:\n",
            "ORGANIZATION: TechCorp, Innovate Inc., GreenFuture, CleanTech, New York Environmental Society\n",
            "PERSON: John Smith, Jane Doe, Dr.ssa Emily Johnson, Michael Lee, Laura Chen\n",
            "TIME: 2024, 10:00 a.m., 3:00, 8:00 p.m.\n",
            "LOCATION: New York City, Central Park\n",
            "I would like you to extract the following entities:\n",
            "ORGANIZATION: University of California\n",
            "PERSON: Michael Lee\n",
            "TIME: 3:00\n",
            "LOCATION: Central Park\n",
            "I would like you to extract the following entities:\n",
            "ORGANIZATION: Global Tech Conference\n",
            "PERSON: John Smith, Jane Doe\n",
            "TIME: 10:00 a.m.\n",
            "LOCATION: New York City\n",
            "I would like you to extract the following entities:\n",
            "ORGANIZATION: University of California\n",
            "PERSON: Dr.ssa Emily Johnson\n",
            "TIME: 3:00\n",
            "LOCATION: Central Park\n",
            "I would like you to extract the following entities:\n",
            "ORGANIZATION: New York Environmental Society\n",
            "PERSON: Laura Chen\n",
            "TIME: 8:00 p.m.\n",
            "LOCATION: New York City\n",
            "I would like you to extract the following entities:\n",
            "ORGANIZATION: GreenFuture\n",
            "PERSON: Michael Lee\n",
            "TIME: 3:00\n",
            "LOCATION: Central Park\n",
            "I would like you to extract the following entities:\n",
            "ORGANIZATION: CleanTech\n",
            "PERSON: Michael Lee\n",
            "TIME: 3:00\n",
            "LOCATION: Central Park\n",
            "I would like you to extract the following entities:\n",
            "ORGANIZATION: Global Tech Conference\n",
            "PERSON: John Smith, Jane Doe\n",
            "TIME: 10:00 a.m.\n",
            "LOCATION: New York City\n",
            "I would like you to extract the\n"
          ]
        }
      ],
      "source": [
        "prompt = \"\"\"I will give you the following text:\n",
        "'On April 22, 2024, at 10:00 a.m., in New York City, TechCorp CEO John Smith and Innovate Inc.\n",
        "CFO Jane Doe announced at the Global Tech Conference, 'Our mission is to innovate and lead the\n",
        "technology industry into the future,' while renowned scientist Dr.ssa Emily Johnson of\n",
        "the University of California stressed the importance of sustainable practices in technology, stating,\n",
        "'We must integrate sustainability into every aspect of our work'; later, at 3:00, at Central Park,\n",
        "representatives from GreenFuture and CleanTech gathered to discuss further environmental initiatives,\n",
        "with Chief Operating Officer Michael Lee stating, 'Collaboration between our organizations is critical\n",
        "for a green future,' and in the evening, at 8:00 p.m., at the New York Environmental Society headquarters,\n",
        "President Laura Chen reiterated, 'It is essential to join forces to address climate challenges.''\n",
        "In this following text, I would like you to extract entities (ORGANIZATION, PERSON, TIME, LOCATION),\n",
        "so perform a Named Entity Recognition task.\"\"\"\n",
        "\n",
        "input_ids = tokenizer(prompt, return_tensors=\"pt\")\n",
        "model.config.max_length = 600\n",
        "outputs = model.generate(**input_ids)\n",
        "print(tokenizer.decode(outputs[0]))"
      ]
    },
    {
      "cell_type": "markdown",
      "metadata": {
        "id": "hDMMGSroeyX0"
      },
      "source": [
        "*English Prompt for Quote Extraction and Attribution*\n",
        "\n",
        "The quotes were correctly extracted, but the model also provided an opinion of the speakers, when this was not required."
      ]
    },
    {
      "cell_type": "code",
      "execution_count": null,
      "metadata": {
        "colab": {
          "base_uri": "https://localhost:8080/"
        },
        "id": "ZgE_etpzHQB3",
        "outputId": "8993cd1f-2233-4306-ba15-0d15e27c93a2"
      },
      "outputs": [
        {
          "output_type": "stream",
          "name": "stderr",
          "text": [
            "/usr/local/lib/python3.10/dist-packages/transformers/generation/utils.py:1339: UserWarning: You have modified the pretrained model configuration to control generation. This is a deprecated strategy to control generation and will be removed soon, in a future version. Please use and modify the model generation configuration (see https://huggingface.co/docs/transformers/generation_strategies#default-text-generation-configuration )\n",
            "  warnings.warn(\n"
          ]
        },
        {
          "output_type": "stream",
          "name": "stdout",
          "text": [
            "<bos>I will give you the following text:\n",
            "'On April 22, 2024, at 10:00 a.m., in New York City, TechCorp CEO John Smith and Innovate Inc.\n",
            "CFO Jane Doe announced at the Global Tech Conference, 'Our mission is to innovate and lead the\n",
            "technology industry into the future,' while renowned scientist Dr.ssa Emily Johnson of the\n",
            "University of California stressed the importance of sustainable practices in technology, stating,\n",
            "'We must integrate sustainability into every aspect of our work'; later, at 3:00, at Central Park,\n",
            "representatives from GreenFuture and CleanTech gathered to discuss further environmental initiatives,\n",
            "with Chief Operating Officer Michael Lee stating, 'Collaboration between our organizations is critical\n",
            "for a green future,' and in the evening, at 8:00 p.m., at the New York Environmental Society headquarters,\n",
            "President Laura Chen reiterated, 'It is essential to join forces to address climate challenges.''\n",
            "In this following text, please extract quotes and their speakers (so quote extraction and quote attribution).\n",
            "Please also extract the date and time of the event.\n",
            "Please also extract the name of the organization and the name of the person who gave the quote.\n",
            "Please also extract the name of the organization and the name of the person who gave the quote.\n",
            "Please also extract the name of the organization and the name of the person who gave the quote.\n",
            "Please also extract the name of the organization and the name of the person who gave the quote.\n",
            "Please also extract the name of the organization and the name of the person who gave the quote.\n",
            "Please also extract the name of the organization and the name of the person who gave the quote.\n",
            "Please also extract the name of the organization and the name of the person who gave the quote.\n",
            "Please also extract the name of the organization and the name of the person who gave the quote.\n",
            "Please also extract the name of the organization and the name of the person who gave the quote.\n",
            "Please also extract the name of the organization and the name of the person who gave the quote.\n",
            "Please also extract the name of the organization and the name of the person who gave the quote.\n",
            "Please also extract the name of the organization and the name of the person who gave the quote.\n",
            "Please also extract the name of the organization and the name of the person who gave the quote.\n",
            "Please also extract the name of the organization and the name of the person who gave the quote.\n",
            "Please also extract the name of the organization and the name of the person who gave the quote.\n",
            "Please also extract the name of the organization and the name of the person who gave the quote.\n",
            "Please also extract the name of the organization and the name of the person who gave the quote.\n",
            "Please also extract the name of the organization and the name of the person who gave the quote.\n",
            "Please\n"
          ]
        }
      ],
      "source": [
        "prompt = \"\"\"I will give you the following text:\n",
        "'On April 22, 2024, at 10:00 a.m., in New York City, TechCorp CEO John Smith and Innovate Inc.\n",
        "CFO Jane Doe announced at the Global Tech Conference, 'Our mission is to innovate and lead the\n",
        "technology industry into the future,' while renowned scientist Dr.ssa Emily Johnson of the\n",
        "University of California stressed the importance of sustainable practices in technology, stating,\n",
        "'We must integrate sustainability into every aspect of our work'; later, at 3:00, at Central Park,\n",
        "representatives from GreenFuture and CleanTech gathered to discuss further environmental initiatives,\n",
        "with Chief Operating Officer Michael Lee stating, 'Collaboration between our organizations is critical\n",
        "for a green future,' and in the evening, at 8:00 p.m., at the New York Environmental Society headquarters,\n",
        "President Laura Chen reiterated, 'It is essential to join forces to address climate challenges.''\n",
        "In this following text, please extract quotes and their speakers (so quote extraction and quote attribution).\"\"\"\n",
        "\n",
        "input_ids = tokenizer(prompt, return_tensors=\"pt\")\n",
        "model.config.max_length = 600\n",
        "outputs = model.generate(**input_ids)\n",
        "print(tokenizer.decode(outputs[0]))"
      ]
    },
    {
      "cell_type": "markdown",
      "metadata": {
        "id": "t2JxdeS8e3S_"
      },
      "source": [
        "*English Prompt for Entity Linking to a Knowledge Base*\n",
        "\n",
        "Overall, the model seemed to understand what I wanted it to do. However, it created a link to a non-existing wikipedia page which is also not related to a specific entity."
      ]
    },
    {
      "cell_type": "code",
      "execution_count": null,
      "metadata": {
        "colab": {
          "base_uri": "https://localhost:8080/"
        },
        "id": "IOJjxmmpRY9e",
        "outputId": "d597295e-442b-4032-ed83-6804d224f40c"
      },
      "outputs": [
        {
          "name": "stdout",
          "output_type": "stream",
          "text": [
            "<bos>I will give you the following text:\n",
            "'On April 22, 2024, at 10:00 a.m., in New York City, TechCorp CEO John Smith and Innovate Inc. CFO Jane Doe announced at the Global Tech Conference, 'Our mission is to innovate and lead the technology industry into the future,' while renowned scientist Dr.ssa Emily Johnson of the University of California stressed the importance of sustainable practices in technology, stating, 'We must integrate sustainability into every aspect of our work'; later, at 3:00, at Central Park, representatives from GreenFuture and CleanTech gathered to discuss further environmental initiatives, with Chief Operating Officer Michael Lee stating, 'Collaboration between our organizations is critical for a green future,' and in the evening, at 8:00 p.m., at the New York Environmental Society headquarters, President Laura Chen reiterated, 'It is essential to join forces to address climate challenges.''\n",
            "In this following text, extract entities and link them to an external Knowledge Base (ex. Wikipedia).\n",
            "I will give you the following text:\n",
            "'On April 22, 2024, at 10:00 a.m., in New York City, TechCorp CEO John Smith and Innovate Inc. CFO Jane Doe announced at the Global Tech Conference, 'Our mission is to innovate and lead the technology industry into the future,' while renowned scientist Dr.ssa Emily Johnson of the University of California stressed the importance of sustainable practices in technology, stating, 'We must integrate sustainability into every aspect of our work'; later, at 3:00, at Central Park, representatives from GreenFuture and CleanTech gathered to discuss further environmental initiatives, with Chief Operating Officer Michael Lee stating, 'Collaboration between our organizations is critical for a green future,' and in the evening, at 8:00 p.m., at the New York Environmental Society headquarters, President Laura Chen reiterated, 'It is essential to join forces to address climate challenges.''\n",
            "In this following text, extract entities and link them to an external Knowledge Base (ex. Wikipedia).\n",
            "I will give you the following text:\n",
            "'On April 22, 2024, at 10:00 a.m., in New York City, TechCorp CEO John Smith and Innovate Inc. CFO Jane Doe announced at the Global Tech Conference, 'Our mission is to innovate and lead the technology industry into the future,' while renowned scientist Dr.ssa Emily Johnson of the University of California stressed the importance of sustainable practices in technology, stating, 'We must integrate sustainability into every aspect of our work'; later, at 3:00, at Central Park, representatives from GreenFuture and CleanTech gathered to discuss further environmental initiatives, with Chief Operating Officer Michael Lee stating, 'Collaboration between our organizations is critical for a green future,' and in the evening, at \n"
          ]
        }
      ],
      "source": [
        "prompt = \"\"\"I will give you the following text:\n",
        "'On April 22, 2024, at 10:00 a.m., in New York City, TechCorp CEO John Smith and Innovate Inc. CFO Jane Doe announced at the Global Tech Conference, 'Our mission is to innovate and lead the technology industry into the future,' while renowned scientist Dr.ssa Emily Johnson of the University of California stressed the importance of sustainable practices in technology, stating, 'We must integrate sustainability into every aspect of our work'; later, at 3:00, at Central Park, representatives from GreenFuture and CleanTech gathered to discuss further environmental initiatives, with Chief Operating Officer Michael Lee stating, 'Collaboration between our organizations is critical for a green future,' and in the evening, at 8:00 p.m., at the New York Environmental Society headquarters, President Laura Chen reiterated, 'It is essential to join forces to address climate challenges.''\n",
        "In this following text, extract entities and link them to an external Knowledge Base (ex. Wikipedia).\"\"\"\n",
        "\n",
        "input_ids = tokenizer(prompt, return_tensors=\"pt\")\n",
        "model.config.max_length = 600\n",
        "outputs = model.generate(**input_ids)\n",
        "print(tokenizer.decode(outputs[0]))"
      ]
    },
    {
      "cell_type": "markdown",
      "metadata": {
        "id": "l9zrgUXye-W7"
      },
      "source": [
        "\n",
        "\n",
        "*Italian Prompt for Named Entity Recognition*"
      ]
    },
    {
      "cell_type": "code",
      "execution_count": null,
      "metadata": {
        "colab": {
          "base_uri": "https://localhost:8080/"
        },
        "id": "YKfH7mF9jlpH",
        "outputId": "52765e03-3510-4353-c01a-b0bdad16fe55"
      },
      "outputs": [
        {
          "name": "stdout",
          "output_type": "stream",
          "text": [
            "<bos>Considera questo testo:\n",
            "Il 22 aprile 2024, alle 10:00, a New York, il CEO John Smith di TechCorp e il CFO Jane Doe di Innovate Inc. hanno annunciato alla Global Tech Conference: 'La nostra missione è innovare e guidare l'industria tecnologica verso il futuro', mentre la rinomata scienziata Dott.ssa Emily Johnson dell'Università della California ha sottolineato l'importanza delle pratiche sostenibili nella tecnologia, affermando, 'Dobbiamo integrare la sostenibilità in ogni aspetto del nostro lavoro'; più tardi, alle 15:00, al Central Park, i rappresentanti di GreenFuture e CleanTech si sono riuniti per discutere ulteriori iniziative ambientali, con il direttore operativo Michael Lee che ha dichiarato, 'La collaborazione tra le nostre organizzazioni è fondamentale per un futuro verde,' e in serata, alle 20:00, presso la sede della New York Environmental Society, il presidente Laura Chen ha ribadito, 'È essenziale unire le forze per affrontare le sfide climatiche.''\n",
            "Dal testo, vorrei che estraessi entità (ORGANIZZAZIONE, PERSONA, TEMPO, LUOGO),\n",
            "e quindi fare una task di Named Entity Recognition.\n",
            "Per ora ho fatto questo:\n",
            "1. Ho fatto un dataset con le frasi del testo, e ho fatto un dataset con le entità.\n",
            "2. Ho fatto un dataset con le entità e le frasi.\n",
            "3. Ho fatto un dataset con le entità e le persone.\n",
            "4. Ho fatto un dataset con le entità e le persone e le frasi.\n",
            "5. Ho fatto un dataset con le entità e le persone e le frasi e le date.\n",
            "6. Ho fatto un dataset con le entità e le persone e le frasi e le date e le città.\n",
            "7. Ho fatto un dataset con le entità e le persone e le frasi e le date e le città e le date.\n",
            "8. Ho fatto un dataset con le entità e le persone e le frasi e le date e le città e le date e le persone.\n",
            "9. Ho fatto un dataset con le entità e le persone e le frasi e le date e le città e le date e le persone e le frasi.\n",
            "10. Ho fatto un dataset con le entità e le persone e le frasi e le date e le città e le date e le persone e le frasi e le date.\n",
            "11. Ho fatto un dataset con le entità e le persone e le frasi e le date e le città e le date e le persone e le frasi e le date e le persone.\n",
            "12. Ho fatto un dataset con le entità e le persone e le frasi e le date e le città e le date e le persone e le frasi e le date e le persone e le frasi.\n"
          ]
        }
      ],
      "source": [
        "prompt = \"\"\"Considera questo testo:\n",
        "Il 22 aprile 2024, alle 10:00, a New York, il CEO John Smith di TechCorp e il CFO Jane Doe di Innovate Inc. hanno annunciato alla Global Tech Conference: 'La nostra missione è innovare e guidare l'industria tecnologica verso il futuro', mentre la rinomata scienziata Dott.ssa Emily Johnson dell'Università della California ha sottolineato l'importanza delle pratiche sostenibili nella tecnologia, affermando, 'Dobbiamo integrare la sostenibilità in ogni aspetto del nostro lavoro'; più tardi, alle 15:00, al Central Park, i rappresentanti di GreenFuture e CleanTech si sono riuniti per discutere ulteriori iniziative ambientali, con il direttore operativo Michael Lee che ha dichiarato, 'La collaborazione tra le nostre organizzazioni è fondamentale per un futuro verde,' e in serata, alle 20:00, presso la sede della New York Environmental Society, il presidente Laura Chen ha ribadito, 'È essenziale unire le forze per affrontare le sfide climatiche.''\n",
        "Dal testo, vorrei che estraessi entità (ORGANIZZAZIONE, PERSONA, TEMPO, LUOGO).\"\"\"\n",
        "\n",
        "input_ids = tokenizer(prompt, return_tensors=\"pt\")\n",
        "model.config.max_length = 600\n",
        "outputs = model.generate(**input_ids)\n",
        "print(tokenizer.decode(outputs[0]))"
      ]
    },
    {
      "cell_type": "markdown",
      "metadata": {
        "id": "t9UZSWvsRxFx"
      },
      "source": [
        "*Italian Prompt for Quote Extraction and Attribution*\n",
        "\n",
        "This task was performed quite slowly on a very small chunck of text, and the output is not correct. Even though the model seems to understand the task, there are mistakes in the way it identifies quotes and sources, and the final outcome is not correct."
      ]
    },
    {
      "cell_type": "code",
      "execution_count": null,
      "metadata": {
        "colab": {
          "base_uri": "https://localhost:8080/"
        },
        "id": "wiSKuC3eqMyw",
        "outputId": "dc94c518-342b-4ff7-e4ec-6c967c3aed67"
      },
      "outputs": [
        {
          "name": "stderr",
          "output_type": "stream",
          "text": [
            "/usr/local/lib/python3.10/dist-packages/transformers/generation/utils.py:1339: UserWarning: You have modified the pretrained model configuration to control generation. This is a deprecated strategy to control generation and will be removed soon, in a future version. Please use and modify the model generation configuration (see https://huggingface.co/docs/transformers/generation_strategies#default-text-generation-configuration )\n",
            "  warnings.warn(\n"
          ]
        },
        {
          "name": "stdout",
          "output_type": "stream",
          "text": [
            "<bos>Considera questo testo:\n",
            "Il 22 aprile 2024, alle 10:00, a New York, il CEO John Smith di TechCorp e il CFO Jane Doe di Innovate Inc. hanno annunciato alla Global Tech Conference: 'La nostra missione è innovare e guidare l'industria tecnologica verso il futuro', mentre la rinomata scienziata Dott.ssa Emily Johnson dell'Università della California ha sottolineato l'importanza delle pratiche sostenibili nella tecnologia, affermando, 'Dobbiamo integrare la sostenibilità in ogni aspetto del nostro lavoro'; più tardi, alle 15:00, al Central Park, i rappresentanti di GreenFuture e CleanTech si sono riuniti per discutere ulteriori iniziative ambientali, con il direttore operativo Michael Lee che ha dichiarato, 'La collaborazione tra le nostre organizzazioni è fondamentale per un futuro verde,' e in serata, alle 20:00, presso la sede della New York Environmental Society, il presidente Laura Chen ha ribadito, 'È essenziale unire le forze per affrontare le sfide climatiche.''\n",
            "Da questo testo estrai le citazioni e la relativa fonte.\n",
            "1. Quali sono le citazioni?\n",
            "2. Quali sono le fonti?\n",
            "3. Quali sono le fonti e le citazioni?\n",
            "4. Quali sono le fonti e le citazioni?\n",
            "5. Quali sono le fonti e le citazioni?\n",
            "6. Quali sono le fonti e le citazioni?\n",
            "7. Quali sono le fonti e le citazioni?\n",
            "8. Quali sono le fonti e le citazioni?\n",
            "9. Quali sono le fonti e le citazioni?\n",
            "10. Quali sono le fonti e le citazioni?\n",
            "11. Quali sono le fonti e le citazioni?\n",
            "12. Quali sono le fonti e le citazioni?\n",
            "13. Quali sono le fonti e le citazioni?\n",
            "14. Quali sono le fonti e le citazioni?\n",
            "15. Quali sono le fonti e le citazioni?\n",
            "16. Quali sono le fonti e le citazioni?\n",
            "17. Quali sono le fonti e le citazioni?\n",
            "18. Quali sono le fonti e le citazioni?\n",
            "19. Quali sono le fonti e le citazioni?\n",
            "20. Quali sono le fonti e le citazioni?\n",
            "21. Quali sono le fonti e le citazioni?\n",
            "22. Quali sono le fonti e le citazioni?\n",
            "23. Quali sono le fonti e le citazioni?\n",
            "24. Quali sono le fonti e le citazioni?\n",
            "25. Quali sono le fonti e le citazioni?\n",
            "26. Quali sono le fonti e le citazioni?\n",
            "27. Quali sono le fonti e le citazioni?\n",
            "28. Quali sono le fonti e le citazioni?\n",
            "29. Quali\n"
          ]
        }
      ],
      "source": [
        "prompt = \"\"\"Considera questo testo:\n",
        "Il 22 aprile 2024, alle 10:00, a New York, il CEO John Smith di TechCorp e il CFO Jane Doe di Innovate Inc. hanno annunciato alla Global Tech Conference: 'La nostra missione è innovare e guidare l'industria tecnologica verso il futuro', mentre la rinomata scienziata Dott.ssa Emily Johnson dell'Università della California ha sottolineato l'importanza delle pratiche sostenibili nella tecnologia, affermando, 'Dobbiamo integrare la sostenibilità in ogni aspetto del nostro lavoro'; più tardi, alle 15:00, al Central Park, i rappresentanti di GreenFuture e CleanTech si sono riuniti per discutere ulteriori iniziative ambientali, con il direttore operativo Michael Lee che ha dichiarato, 'La collaborazione tra le nostre organizzazioni è fondamentale per un futuro verde,' e in serata, alle 20:00, presso la sede della New York Environmental Society, il presidente Laura Chen ha ribadito, 'È essenziale unire le forze per affrontare le sfide climatiche.''\n",
        "Da questo testo estrai le citazioni e la relativa fonte.\"\"\"\n",
        "\n",
        "input_ids = tokenizer(prompt, return_tensors=\"pt\")\n",
        "model.config.max_length = 600\n",
        "outputs = model.generate(**input_ids)\n",
        "print(tokenizer.decode(outputs[0]))"
      ]
    },
    {
      "cell_type": "markdown",
      "metadata": {
        "id": "YnCnbTheR4Tl"
      },
      "source": [
        "*Italian Prompt for Entity Linking to a Knowledge Base*\n",
        "\n",
        "The task is performing really slowly on a small chunk of text and then it still does not give a proper output:"
      ]
    },
    {
      "cell_type": "code",
      "execution_count": null,
      "metadata": {
        "colab": {
          "base_uri": "https://localhost:8080/"
        },
        "id": "LVtL2sI_ZoAO",
        "outputId": "1b31c83f-c800-4b6a-bb34-8b825b9d7ed1"
      },
      "outputs": [
        {
          "name": "stdout",
          "output_type": "stream",
          "text": [
            "<bos>Considera questo testo:\n",
            "Il 22 aprile 2024, alle 10:00, a New York, il CEO John Smith di TechCorp e il CFO Jane Doe di Innovate Inc. hanno annunciato alla Global Tech Conference: 'La nostra missione è innovare e guidare l'industria tecnologica verso il futuro', mentre la rinomata scienziata Dott.ssa Emily Johnson dell'Università della California ha sottolineato l'importanza delle pratiche sostenibili nella tecnologia, affermando, 'Dobbiamo integrare la sostenibilità in ogni aspetto del nostro lavoro'; più tardi, alle 15:00, al Central Park, i rappresentanti di GreenFuture e CleanTech si sono riuniti per discutere ulteriori iniziative ambientali, con il direttore operativo Michael Lee che ha dichiarato, 'La collaborazione tra le nostre organizzazioni è fondamentale per un futuro verde,' e in serata, alle 20:00, presso la sede della New York Environmental Society, il presidente Laura Chen ha ribadito, 'È essenziale unire le forze per affrontare le sfide climatiche.''\n",
            "Dal testo, estrai le entità fornisci i loro relativi link ad una Knowledge Base esterna (ad esempio Wikipedia)?\n",
            "Grazie\n",
            "Ciao,\n",
            "la prima frase è un'enciclopedia, la seconda è un'enciclopedia, la terza è un'enciclopedia, la quarta è un'enciclopedia, la quinta è un'enciclopedia, la sesta è un'enciclopedia, la settima è un'enciclopedia, la ottava è un'enciclopedia, la nona è un'enciclopedia, la decima è un'enciclopedia, la undicesima è un'enciclopedia, la dodicesima è un'enciclopedia, la tredicesima è un'enciclopedia, la quattordicesima è un'enciclopedia, la quindicesima è un'enciclopedia, la sedicesima è un'enciclopedia, la diciassettesima è un'enciclopedia, la diciottesima è un'enciclopedia, la nonantesima è un'enciclopedia, la ventitreesima è un'enciclopedia, la ventiquattresima è un'enciclopedia, la venticinquesima è un'enciclopedia, la ventiseiesima è un'enciclopedia, la ventisettesima è un'enciclopedia, la ventunesima è un'enciclopedia, la trentunesima è un'enciclopedia, la trentatredicesima è un'enciclopedia, la trentaseiesima è un'enciclopedia, la trentasettesima è un'enciclopedia, la trentottesima è un'enciclopedia, la quarantesima è un'enciclopedia, la cinquantesima è un'enciclopedia, la sessantesima è un'enciclopedia, la setantesima è un'enciclopedia, la\n"
          ]
        }
      ],
      "source": [
        "prompt = \"\"\"Considera questo testo:\n",
        "Il 22 aprile 2024, alle 10:00, a New York, il CEO John Smith di TechCorp e il CFO Jane Doe di Innovate Inc. hanno annunciato alla Global Tech Conference: 'La nostra missione è innovare e guidare l'industria tecnologica verso il futuro', mentre la rinomata scienziata Dott.ssa Emily Johnson dell'Università della California ha sottolineato l'importanza delle pratiche sostenibili nella tecnologia, affermando, 'Dobbiamo integrare la sostenibilità in ogni aspetto del nostro lavoro'; più tardi, alle 15:00, al Central Park, i rappresentanti di GreenFuture e CleanTech si sono riuniti per discutere ulteriori iniziative ambientali, con il direttore operativo Michael Lee che ha dichiarato, 'La collaborazione tra le nostre organizzazioni è fondamentale per un futuro verde,' e in serata, alle 20:00, presso la sede della New York Environmental Society, il presidente Laura Chen ha ribadito, 'È essenziale unire le forze per affrontare le sfide climatiche.''\n",
        "Dal testo, estrai le entità fornisci i loro relativi link ad una Knowledge Base esterna (ad esempio Wikipedia)?\"\"\"\n",
        "\n",
        "input_ids = tokenizer(prompt, return_tensors=\"pt\")\n",
        "model.config.max_length = 600\n",
        "outputs = model.generate(**input_ids)\n",
        "print(tokenizer.decode(outputs[0]))"
      ]
    },
    {
      "cell_type": "markdown",
      "metadata": {
        "id": "v2ROSntTTPpL"
      },
      "source": [
        "By formatting input text in a specific way, we can guide the LLMs towards generating more relevant responses. In general, it is necessary to provide examples of what the model needs to give as an output. However, there are a few limitations: the token size limit per model, the difficulty in keeping track of the various experiments and evaluating them. On top of this, the outcome is not predictable and it changes every time. ([Microsoft](https://learn.microsoft.com/en-us/ai/playbook/technology-guidance/generative-ai/working-with-llms/prompt-engineering))"
      ]
    },
    {
      "cell_type": "markdown",
      "metadata": {
        "id": "6hy5IKT3dEMa"
      },
      "source": [
        "*One shot learning for Named Entity Recognition in Italian*"
      ]
    },
    {
      "cell_type": "code",
      "execution_count": null,
      "metadata": {
        "colab": {
          "background_save": true
        },
        "id": "Ec3pEOCKZJ7c",
        "outputId": "2d6e448e-a8b3-42f3-c233-751b4d6a249a"
      },
      "outputs": [
        {
          "name": "stdout",
          "output_type": "stream",
          "text": [
            "<bos>Considera questo testo:\n",
            "Il 22 aprile 2024, alle 10:00, a New York, il CEO John Smith di TechCorp e il CFO Jane Doe di Innovate Inc. hanno annunciato alla Global Tech Conference: 'La nostra missione è innovare e guidare l'industria tecnologica verso il futuro', mentre la rinomata scienziata Dott.ssa Emily Johnson dell'Università della California ha sottolineato l'importanza delle pratiche sostenibili nella tecnologia, affermando, 'Dobbiamo integrare la sostenibilità in ogni aspetto del nostro lavoro'; più tardi, alle 15:00, al Central Park, i rappresentanti di GreenFuture e CleanTech si sono riuniti per discutere ulteriori iniziative ambientali, con il direttore operativo Michael Lee che ha dichiarato, 'La collaborazione tra le nostre organizzazioni è fondamentale per un futuro verde,' e in serata, alle 20:00, presso la sede della New York Environmental Society, il presidente Laura Chen ha ribadito, 'È essenziale unire le forze per affrontare le sfide climatiche.''\n",
            "Dal testo, estrai entità (ORGANIZZAZIONE, PERSONA, TEMPO, LUOGO) come ad esempio\n",
            "'New York':'LUOGO', 'John Smith':'PERSONA', e 'TechCorp':'ORGANIZZAZIONE'.\n",
            "Per ogni entità, determinare se è un attributo o un valore.\n",
            "Per ogni entità, determinare se è un attributo o un valore.\n",
            "Per ogni entità, determinare se è un attributo o un valore.\n",
            "Per ogni entità, determinare se è un attributo o un valore.\n",
            "Per ogni entità, determinare se è un attributo o un valore.\n",
            "Per ogni entità, determinare se è un attributo o un valore.\n",
            "Per ogni entità, determinare se è un attributo o un valore.\n",
            "Per ogni entità, determinare se è un attributo o un valore.\n",
            "Per ogni entità, determinare se è un attributo o un valore.\n",
            "Per ogni entità, determinare se è un attributo o un valore.\n",
            "Per ogni entità, determinare se è un attributo o un valore.\n",
            "Per ogni entità, determinare se è un attributo o un valore.\n",
            "Per ogni entità, determinare se è un attributo o un valore.\n",
            "Per ogni entità, determinare se è un attributo o un valore.\n",
            "Per ogni entità, determinare se è un attributo o un valore.\n",
            "Per ogni entità, determinare se è un attributo o un valore.\n",
            "Per ogni entità, determinare se è un attributo o un valore.\n",
            "Per ogni entità, determinare se è un attributo o un valore.\n",
            "Per ogni entità, determinare se è un attributo o un valore.\n",
            "Per ogni entità, determinare se è un attributo o un valore.\n",
            "Per ogni entità, determinare se è un attributo o un valore.\n",
            "Per ogni entità, determinare se è un attributo o un valore.\n",
            "Per ogni entità, determinare se è un attributo o un valore.\n",
            "Per ogni entità, determinare se è un attributo o un valore.\n",
            "Per ogni entità, determinare se è un attributo o un valore.\n",
            "Per ogni entità, determinare se è un attributo o un valore.\n",
            "Per ogni entità, determinare se è un attributo o un valore.\n",
            "Per ogni entità, determinare se è un attributo o un valore.\n",
            "Per ogni entità, determinare se è un attributo o un valore.\n",
            "Per ogni entità, determinare se è un attributo o un valore.\n",
            "Per ogni entità, determinare se è un attributo o un valore.\n",
            "Per ogni entità, determinare se è un attributo o un valore.\n",
            "Per ogni entità, determinare se è un attributo o un valore.\n",
            "Per ogni entità, determinare se è un attributo o un valore.\n",
            "Per ogni entità, determinare se è un attributo o un valore.\n",
            "Per ogni entità, determinare se è un attributo o un valore.\n",
            "Per ogni entità, determinare se è un attributo o un valore.\n",
            "Per ogni entità, determinare se è un attributo o un valore.\n",
            "Per ogni entità, determinare se è un attributo o un valore.\n",
            "Per ogni entità, determinare se è un attributo o un valore.\n",
            "Per ogni entità, determinare se è un attributo o un valore.\n",
            "Per ogni entità, determinare se è un attributo o un valore.\n",
            "Per ogni entità,\n"
          ]
        }
      ],
      "source": [
        "prompt = \"\"\"Considera questo testo:\n",
        "Il 22 aprile 2024, alle 10:00, a New York, il CEO John Smith di TechCorp e il CFO Jane Doe di Innovate Inc. hanno annunciato alla Global Tech Conference: 'La nostra missione è innovare e guidare l'industria tecnologica verso il futuro', mentre la rinomata scienziata Dott.ssa Emily Johnson dell'Università della California ha sottolineato l'importanza delle pratiche sostenibili nella tecnologia, affermando, 'Dobbiamo integrare la sostenibilità in ogni aspetto del nostro lavoro'; più tardi, alle 15:00, al Central Park, i rappresentanti di GreenFuture e CleanTech si sono riuniti per discutere ulteriori iniziative ambientali, con il direttore operativo Michael Lee che ha dichiarato, 'La collaborazione tra le nostre organizzazioni è fondamentale per un futuro verde,' e in serata, alle 20:00, presso la sede della New York Environmental Society, il presidente Laura Chen ha ribadito, 'È essenziale unire le forze per affrontare le sfide climatiche.''\n",
        "Dal testo, estrai entità (ORGANIZZAZIONE, PERSONA, TEMPO, LUOGO) come ad esempio\n",
        "'New York':'LUOGO', 'John Smith':'PERSONA', e 'TechCorp':'ORGANIZZAZIONE'.\"\"\"\n",
        "\n",
        "input_ids = tokenizer(prompt, return_tensors=\"pt\")\n",
        "model.config.max_length = 1000\n",
        "outputs = model.generate(**input_ids)\n",
        "print(tokenizer.decode(outputs[0]))"
      ]
    },
    {
      "cell_type": "markdown",
      "metadata": {
        "id": "1aAC_0ifdtYK"
      },
      "source": [
        "*One shot learning for Quote Extraction and Attribution in Italian*"
      ]
    },
    {
      "cell_type": "code",
      "execution_count": null,
      "metadata": {
        "colab": {
          "base_uri": "https://localhost:8080/"
        },
        "id": "xJ3houx-wTh-",
        "outputId": "a7609cff-058b-47f4-ca05-2d4a8ee71540"
      },
      "outputs": [
        {
          "name": "stderr",
          "output_type": "stream",
          "text": [
            "/usr/local/lib/python3.10/dist-packages/transformers/generation/utils.py:1339: UserWarning: You have modified the pretrained model configuration to control generation. This is a deprecated strategy to control generation and will be removed soon, in a future version. Please use and modify the model generation configuration (see https://huggingface.co/docs/transformers/generation_strategies#default-text-generation-configuration )\n",
            "  warnings.warn(\n"
          ]
        },
        {
          "name": "stdout",
          "output_type": "stream",
          "text": [
            "<bos>Considera questo testo:\n",
            "Il 22 aprile 2024, alle 10:00, a New York, il CEO John Smith di TechCorp e il CFO Jane Doe di Innovate Inc. hanno annunciato alla Global Tech Conference: 'La nostra missione è innovare e guidare l'industria tecnologica verso il futuro', mentre la rinomata scienziata Dott.ssa Emily Johnson dell'Università della California ha sottolineato l'importanza delle pratiche sostenibili nella tecnologia, affermando, 'Dobbiamo integrare la sostenibilità in ogni aspetto del nostro lavoro'; più tardi, alle 15:00, al Central Park, i rappresentanti di GreenFuture e CleanTech si sono riuniti per discutere ulteriori iniziative ambientali, con il direttore operativo Michael Lee che ha dichiarato, 'La collaborazione tra le nostre organizzazioni è fondamentale per un futuro verde,' e in serata, alle 20:00, presso la sede della New York Environmental Society, il presidente Laura Chen ha ribadito, 'È essenziale unire le forze per affrontare le sfide climatiche.''\n",
            "Da questo testo ho estratto la citazione: 'La nostra missione è innovare e guidare l'industria tecnologica verso il futuro', con la FONTE: 'Jane Doe'.\n",
            "Estrai le altre citazioni dal testo e la relativa fonte.\n",
            "E' corretto?\n",
            "Grazie\n",
            "Ciao,\n",
            "la citazione è corretta.\n",
            "La fonte è sbagliata.\n",
            "La fonte è sbagliata.\n",
            "La fonte è sbagliata.\n",
            "La fonte è sbagliata.\n",
            "La fonte è sbagliata.\n",
            "La fonte è sbagliata.\n",
            "La fonte è sbagliata.\n",
            "La fonte è sbagliata.\n",
            "La fonte è sbagliata.\n",
            "La fonte è sbagliata.\n",
            "La fonte è sbagliata.\n",
            "La fonte è sbagliata.\n",
            "La fonte è sbagliata.\n",
            "La fonte è sbagliata.\n",
            "La fonte è sbagliata.\n",
            "La fonte è sbagliata.\n",
            "La fonte è sbagliata.\n",
            "La fonte è sbagliata.\n",
            "La fonte è sbagliata.\n",
            "La fonte è sbagliata.\n",
            "La fonte è sbagliata.\n",
            "La fonte è sbagliata.\n",
            "La fonte è sbagliata.\n",
            "La fonte è sbagliata.\n",
            "La fonte è sbagliata.\n",
            "La fonte è sbagliata.\n",
            "La fonte è sbagliata.\n",
            "La fonte è sbagliata.\n",
            "La fonte è sbagliata.\n",
            "La fonte è sbagliata.\n",
            "La fonte è sbagliata.\n",
            "La fonte è sbagliata.\n",
            "La fonte è sbagliata.\n",
            "La fonte è sbagliata.\n",
            "La fonte è sbagliata.\n",
            "La fonte è sbagliata.\n",
            "La fonte è sbagliata.\n",
            "La fonte è sbagliata.\n",
            "La fonte è sbagliata.\n",
            "La fonte è sbagliata.\n",
            "La fonte è sbagliata.\n",
            "La fonte è sbagliata.\n",
            "La fonte è sbagliata.\n",
            "La fonte è sbagliata.\n",
            "La fonte è sbagliata.\n",
            "La fonte è sbagliata.\n",
            "La fonte è sbagliata.\n",
            "La fonte è sbagliata.\n",
            "La fonte è sbagliata.\n",
            "La fonte è sbagliata.\n",
            "La fonte è sbagliata.\n",
            "La fonte è sbagliata.\n",
            "La fonte è sbagliata.\n",
            "La fonte è sbagliata.\n",
            "La fonte è sbagliata.\n",
            "La fonte è sbagliata.\n",
            "La fonte è sbagliata.\n",
            "La fonte è sbagliata.\n",
            "La fonte è sbagliata.\n",
            "La fonte è sbagliata.\n",
            "La fonte è sbagliata.\n",
            "La fonte è sbagliata.\n",
            "La fonte è sbagliata.\n",
            "La fonte è sbagliata.\n",
            "La fonte è sbagliata.\n",
            "La fonte è sbagliata.\n",
            "La fonte è sbagliata.\n",
            "La fonte è sbagliata.\n",
            "La fonte è sbagliata.\n",
            "La fonte è sbagliata.\n",
            "La fonte è sbagliata.\n",
            "La fonte è sbagliata.\n",
            "La fonte è sbagliata.\n",
            "La fonte è sbagliata.\n",
            "La fonte è sbagliata.\n",
            "La fonte è sbagliata.\n",
            "La fonte è sbagliata.\n",
            "La fonte è sbagliata.\n",
            "La fonte è sbagliata.\n",
            "La fonte è sbagliata.\n",
            "La fonte è sbagliata.\n",
            "La fonte è sbagliata.\n",
            "La fonte è sbagliata.\n",
            "La fonte è sbagliata.\n",
            "La fonte è sbagliata.\n",
            "La fonte è sbagliata.\n",
            "La fonte è sbagliata.\n",
            "\n"
          ]
        }
      ],
      "source": [
        "prompt = \"\"\"Considera questo testo:\n",
        "Il 22 aprile 2024, alle 10:00, a New York, il CEO John Smith di TechCorp e il CFO Jane Doe di Innovate Inc. hanno annunciato alla Global Tech Conference: 'La nostra missione è innovare e guidare l'industria tecnologica verso il futuro', mentre la rinomata scienziata Dott.ssa Emily Johnson dell'Università della California ha sottolineato l'importanza delle pratiche sostenibili nella tecnologia, affermando, 'Dobbiamo integrare la sostenibilità in ogni aspetto del nostro lavoro'; più tardi, alle 15:00, al Central Park, i rappresentanti di GreenFuture e CleanTech si sono riuniti per discutere ulteriori iniziative ambientali, con il direttore operativo Michael Lee che ha dichiarato, 'La collaborazione tra le nostre organizzazioni è fondamentale per un futuro verde,' e in serata, alle 20:00, presso la sede della New York Environmental Society, il presidente Laura Chen ha ribadito, 'È essenziale unire le forze per affrontare le sfide climatiche.''\n",
        "Da questo testo ho estratto la citazione: 'La nostra missione è innovare e guidare l'industria tecnologica verso il futuro', con la FONTE: 'Jane Doe'.\n",
        "Estrai le altre citazioni dal testo e la relativa fonte.\"\"\"\n",
        "\n",
        "input_ids = tokenizer(prompt, return_tensors=\"pt\")\n",
        "model.config.max_length = 1000\n",
        "outputs = model.generate(**input_ids)\n",
        "print(tokenizer.decode(outputs[0]))"
      ]
    },
    {
      "cell_type": "markdown",
      "metadata": {
        "id": "aWV03Z1ddx0o"
      },
      "source": [
        "*One shot learning for Entity Linking to a Knowledge Base in Italian*"
      ]
    },
    {
      "cell_type": "code",
      "execution_count": null,
      "metadata": {
        "colab": {
          "base_uri": "https://localhost:8080/"
        },
        "id": "zlf2yUqzwZ8o",
        "outputId": "fbad3956-eced-42dc-87e5-c3e3fc7e919b"
      },
      "outputs": [
        {
          "name": "stdout",
          "output_type": "stream",
          "text": [
            "<bos>Considera questo testo:\n",
            "Il 22 aprile 2024, alle 10:00, a New York, il CEO John Smith di TechCorp e il CFO Jane Doe di Innovate Inc. hanno annunciato alla Global Tech Conference: 'La nostra missione è innovare e guidare l'industria tecnologica verso il futuro', mentre la rinomata scienziata Dott.ssa Emily Johnson dell'Università della California ha sottolineato l'importanza delle pratiche sostenibili nella tecnologia, affermando, 'Dobbiamo integrare la sostenibilità in ogni aspetto del nostro lavoro'; più tardi, alle 15:00, al Central Park, i rappresentanti di GreenFuture e CleanTech si sono riuniti per discutere ulteriori iniziative ambientali, con il direttore operativo Michael Lee che ha dichiarato, 'La collaborazione tra le nostre organizzazioni è fondamentale per un futuro verde,' e in serata, alle 20:00, presso la sede della New York Environmental Society, il presidente Laura Chen ha ribadito, 'È essenziale unire le forze per affrontare le sfide climatiche.''\n",
            "Da questo testo ho estratto l'entità: 'New York' e l'ho collegata a Wikipedia: https://en.wikipedia.org/wiki/New_York.\n",
            "Estrai le altre entità dal testo e la pagina Wikipedia.\n",
            "Ho fatto un grafo con i nodi delle entità e le relazioni tra loro.\n",
            "Ho fatto un grafo con le entità e le loro entità.\n",
            "Ho fatto un grafo con le entità e le loro entità e le loro entità.\n",
            "Ho fatto un grafo con le entità e le loro entità e le loro entità e le loro entità.\n",
            "Ho fatto un grafo con le entità e le loro entità e le loro entità e le loro entità e le loro entità.\n",
            "Ho fatto un grafo con le entità e le loro entità e le loro entità e le loro entità e le loro entità e le loro entità.\n",
            "Ho fatto un grafo con le entità e le loro entità e le loro entità e le loro entità e le loro entità e le loro entità e le loro entità.\n",
            "Ho fatto un grafo con le entità e le loro entità e le loro entità e le loro entità e le loro entità e le loro entità e le loro entità e le loro entità.\n",
            "Ho fatto un grafo con le entità e le loro entità e le loro entità e le loro entità e le loro entità e le loro entità e le loro entità e le loro entità e le loro entità.\n",
            "Ho fatto un grafo con le entità e le loro entità e le loro entità e le loro entità e le loro entità e le loro entità e le loro entità e le loro entità e le loro entità e le loro entità.\n",
            "Ho fatto un grafo con le entità e le loro entità e le loro entità e le loro entità e le loro entità e le loro entità e le loro entità e le loro entità e le loro entità e le loro entità e le loro entità.\n",
            "Ho fatto un grafo con le entità e le loro entità e le loro entità e le loro entità e le loro entità e le loro entità e le loro entità e le loro entità e le loro entità e le loro entità e le loro entità e le loro entità.\n",
            "Ho fatto un grafo con le entità e le loro entità e le loro entità e le loro entità e le loro entità e le loro entità e le loro entità e le loro entità e le loro entità e le loro entità e le loro entità e le loro entità.\n",
            "Ho fatto un grafo con le entità e le loro entità e le loro entità e le loro entità e le loro entità e le loro entità e le loro entità e le loro entità e le loro entità e le loro entità e le loro entità e le loro entità.\n",
            "Ho fatto un grafo con le entità e le loro entità e le loro entità e le loro entità e le loro entità e le loro entità e le loro entità e le loro entità e le loro entità e le loro entità e le loro entità e le loro entità.\n",
            "Ho fatto un grafo con le entità e le loro entità e le loro entità e le loro entità e le loro entità e le loro entità e le loro entità e le loro entità e\n"
          ]
        }
      ],
      "source": [
        "prompt = \"\"\"Considera questo testo:\n",
        "Il 22 aprile 2024, alle 10:00, a New York, il CEO John Smith di TechCorp e il CFO Jane Doe di Innovate Inc. hanno annunciato alla Global Tech Conference: 'La nostra missione è innovare e guidare l'industria tecnologica verso il futuro', mentre la rinomata scienziata Dott.ssa Emily Johnson dell'Università della California ha sottolineato l'importanza delle pratiche sostenibili nella tecnologia, affermando, 'Dobbiamo integrare la sostenibilità in ogni aspetto del nostro lavoro'; più tardi, alle 15:00, al Central Park, i rappresentanti di GreenFuture e CleanTech si sono riuniti per discutere ulteriori iniziative ambientali, con il direttore operativo Michael Lee che ha dichiarato, 'La collaborazione tra le nostre organizzazioni è fondamentale per un futuro verde,' e in serata, alle 20:00, presso la sede della New York Environmental Society, il presidente Laura Chen ha ribadito, 'È essenziale unire le forze per affrontare le sfide climatiche.''\n",
        "Da questo testo ho estratto l'entità: 'New York' e l'ho collegata a Wikipedia: https://en.wikipedia.org/wiki/New_York.\n",
        "Estrai le altre entità dal testo e la pagina Wikipedia.\"\"\"\n",
        "\n",
        "input_ids = tokenizer(prompt, return_tensors=\"pt\")\n",
        "model.config.max_length = 1000\n",
        "outputs = model.generate(**input_ids)\n",
        "print(tokenizer.decode(outputs[0]))"
      ]
    },
    {
      "cell_type": "markdown",
      "metadata": {
        "id": "KbgObTqEgQ42"
      },
      "source": [
        "# **Llama**\n",
        "\n",
        "This needs to be adjusted with a new example"
      ]
    },
    {
      "cell_type": "code",
      "execution_count": null,
      "metadata": {
        "colab": {
          "base_uri": "https://localhost:8080/"
        },
        "id": "s_hv0sQ49azg",
        "outputId": "2acf781c-eeff-44d8-f990-db7e283e7468"
      },
      "outputs": [
        {
          "name": "stdout",
          "output_type": "stream",
          "text": [
            "Requirement already satisfied: torch in /usr/local/lib/python3.10/dist-packages (2.4.0+cu121)\n",
            "Requirement already satisfied: filelock in /usr/local/lib/python3.10/dist-packages (from torch) (3.15.4)\n",
            "Requirement already satisfied: typing-extensions>=4.8.0 in /usr/local/lib/python3.10/dist-packages (from torch) (4.12.2)\n",
            "Requirement already satisfied: sympy in /usr/local/lib/python3.10/dist-packages (from torch) (1.13.2)\n",
            "Requirement already satisfied: networkx in /usr/local/lib/python3.10/dist-packages (from torch) (3.3)\n",
            "Requirement already satisfied: jinja2 in /usr/local/lib/python3.10/dist-packages (from torch) (3.1.4)\n",
            "Requirement already satisfied: fsspec in /usr/local/lib/python3.10/dist-packages (from torch) (2024.6.1)\n",
            "Requirement already satisfied: MarkupSafe>=2.0 in /usr/local/lib/python3.10/dist-packages (from jinja2->torch) (2.1.5)\n",
            "Requirement already satisfied: mpmath<1.4,>=1.1.0 in /usr/local/lib/python3.10/dist-packages (from sympy->torch) (1.3.0)\n"
          ]
        }
      ],
      "source": [
        "!pip install torch"
      ]
    },
    {
      "cell_type": "code",
      "execution_count": null,
      "metadata": {
        "colab": {
          "base_uri": "https://localhost:8080/"
        },
        "id": "U7BH5jF89duE",
        "outputId": "19b92b66-839b-4154-884a-a7b1906ecedc"
      },
      "outputs": [
        {
          "name": "stdout",
          "output_type": "stream",
          "text": [
            "Requirement already satisfied: transformers in /usr/local/lib/python3.10/dist-packages (4.38.1)\n",
            "Requirement already satisfied: filelock in /usr/local/lib/python3.10/dist-packages (from transformers) (3.15.4)\n",
            "Requirement already satisfied: huggingface-hub<1.0,>=0.19.3 in /usr/local/lib/python3.10/dist-packages (from transformers) (0.23.5)\n",
            "Requirement already satisfied: numpy>=1.17 in /usr/local/lib/python3.10/dist-packages (from transformers) (1.26.4)\n",
            "Requirement already satisfied: packaging>=20.0 in /usr/local/lib/python3.10/dist-packages (from transformers) (24.1)\n",
            "Requirement already satisfied: pyyaml>=5.1 in /usr/local/lib/python3.10/dist-packages (from transformers) (6.0.2)\n",
            "Requirement already satisfied: regex!=2019.12.17 in /usr/local/lib/python3.10/dist-packages (from transformers) (2024.5.15)\n",
            "Requirement already satisfied: requests in /usr/local/lib/python3.10/dist-packages (from transformers) (2.32.3)\n",
            "Requirement already satisfied: tokenizers<0.19,>=0.14 in /usr/local/lib/python3.10/dist-packages (from transformers) (0.15.2)\n",
            "Requirement already satisfied: safetensors>=0.4.1 in /usr/local/lib/python3.10/dist-packages (from transformers) (0.4.4)\n",
            "Requirement already satisfied: tqdm>=4.27 in /usr/local/lib/python3.10/dist-packages (from transformers) (4.66.5)\n",
            "Requirement already satisfied: fsspec>=2023.5.0 in /usr/local/lib/python3.10/dist-packages (from huggingface-hub<1.0,>=0.19.3->transformers) (2024.6.1)\n",
            "Requirement already satisfied: typing-extensions>=3.7.4.3 in /usr/local/lib/python3.10/dist-packages (from huggingface-hub<1.0,>=0.19.3->transformers) (4.12.2)\n",
            "Requirement already satisfied: charset-normalizer<4,>=2 in /usr/local/lib/python3.10/dist-packages (from requests->transformers) (3.3.2)\n",
            "Requirement already satisfied: idna<4,>=2.5 in /usr/local/lib/python3.10/dist-packages (from requests->transformers) (3.8)\n",
            "Requirement already satisfied: urllib3<3,>=1.21.1 in /usr/local/lib/python3.10/dist-packages (from requests->transformers) (2.0.7)\n",
            "Requirement already satisfied: certifi>=2017.4.17 in /usr/local/lib/python3.10/dist-packages (from requests->transformers) (2024.7.4)\n"
          ]
        }
      ],
      "source": [
        "!pip install transformers"
      ]
    },
    {
      "cell_type": "code",
      "execution_count": null,
      "metadata": {
        "colab": {
          "base_uri": "https://localhost:8080/"
        },
        "id": "5bRZtF6UBWx_",
        "outputId": "ba3668cf-432d-4be6-9f07-2d1b76543a7d"
      },
      "outputs": [
        {
          "name": "stdout",
          "output_type": "stream",
          "text": [
            "Requirement already satisfied: accelerate in /usr/local/lib/python3.10/dist-packages (0.32.1)\n",
            "Requirement already satisfied: numpy<2.0.0,>=1.17 in /usr/local/lib/python3.10/dist-packages (from accelerate) (1.26.4)\n",
            "Requirement already satisfied: packaging>=20.0 in /usr/local/lib/python3.10/dist-packages (from accelerate) (24.1)\n",
            "Requirement already satisfied: psutil in /usr/local/lib/python3.10/dist-packages (from accelerate) (5.9.5)\n",
            "Requirement already satisfied: pyyaml in /usr/local/lib/python3.10/dist-packages (from accelerate) (6.0.2)\n",
            "Requirement already satisfied: torch>=1.10.0 in /usr/local/lib/python3.10/dist-packages (from accelerate) (2.4.0+cu121)\n",
            "Requirement already satisfied: huggingface-hub in /usr/local/lib/python3.10/dist-packages (from accelerate) (0.23.5)\n",
            "Requirement already satisfied: safetensors>=0.3.1 in /usr/local/lib/python3.10/dist-packages (from accelerate) (0.4.4)\n",
            "Requirement already satisfied: filelock in /usr/local/lib/python3.10/dist-packages (from torch>=1.10.0->accelerate) (3.15.4)\n",
            "Requirement already satisfied: typing-extensions>=4.8.0 in /usr/local/lib/python3.10/dist-packages (from torch>=1.10.0->accelerate) (4.12.2)\n",
            "Requirement already satisfied: sympy in /usr/local/lib/python3.10/dist-packages (from torch>=1.10.0->accelerate) (1.13.2)\n",
            "Requirement already satisfied: networkx in /usr/local/lib/python3.10/dist-packages (from torch>=1.10.0->accelerate) (3.3)\n",
            "Requirement already satisfied: jinja2 in /usr/local/lib/python3.10/dist-packages (from torch>=1.10.0->accelerate) (3.1.4)\n",
            "Requirement already satisfied: fsspec in /usr/local/lib/python3.10/dist-packages (from torch>=1.10.0->accelerate) (2024.6.1)\n",
            "Requirement already satisfied: requests in /usr/local/lib/python3.10/dist-packages (from huggingface-hub->accelerate) (2.32.3)\n",
            "Requirement already satisfied: tqdm>=4.42.1 in /usr/local/lib/python3.10/dist-packages (from huggingface-hub->accelerate) (4.66.5)\n",
            "Requirement already satisfied: MarkupSafe>=2.0 in /usr/local/lib/python3.10/dist-packages (from jinja2->torch>=1.10.0->accelerate) (2.1.5)\n",
            "Requirement already satisfied: charset-normalizer<4,>=2 in /usr/local/lib/python3.10/dist-packages (from requests->huggingface-hub->accelerate) (3.3.2)\n",
            "Requirement already satisfied: idna<4,>=2.5 in /usr/local/lib/python3.10/dist-packages (from requests->huggingface-hub->accelerate) (3.8)\n",
            "Requirement already satisfied: urllib3<3,>=1.21.1 in /usr/local/lib/python3.10/dist-packages (from requests->huggingface-hub->accelerate) (2.0.7)\n",
            "Requirement already satisfied: certifi>=2017.4.17 in /usr/local/lib/python3.10/dist-packages (from requests->huggingface-hub->accelerate) (2024.7.4)\n",
            "Requirement already satisfied: mpmath<1.4,>=1.1.0 in /usr/local/lib/python3.10/dist-packages (from sympy->torch>=1.10.0->accelerate) (1.3.0)\n"
          ]
        }
      ],
      "source": [
        "!pip install accelerate"
      ]
    },
    {
      "cell_type": "code",
      "execution_count": null,
      "metadata": {
        "colab": {
          "base_uri": "https://localhost:8080/",
          "height": 84,
          "referenced_widgets": [
            "a715597bbdcc4202baca3df8bf0dcacd",
            "15636e1a96e141f79b3192a8553c04c0",
            "c2fe24474986473392d91849973262ec",
            "b2f07a7b24ed453ba9ce86be1d4fd7e2",
            "49742c8ffdd048dc8db968329a63b233",
            "031cdaa5429a4300a35fb342d18bf5a0",
            "f93ceead65f24a3093447ac9826a10b8",
            "9cf7a38f2549492a9f41ac2340357f2b",
            "03c5b91d41bb4401b5ce64f5d2337786",
            "fe524e6992e741d4b335387b7a4bf89b",
            "251ae227cb694b70839a1cd4aaf63db8"
          ]
        },
        "id": "KRS12eXe9aJS",
        "outputId": "6a4247ef-0e41-4d95-96f3-43fec59487d6"
      },
      "outputs": [
        {
          "data": {
            "application/vnd.jupyter.widget-view+json": {
              "model_id": "a715597bbdcc4202baca3df8bf0dcacd",
              "version_major": 2,
              "version_minor": 0
            },
            "text/plain": [
              "Loading checkpoint shards:   0%|          | 0/4 [00:00<?, ?it/s]"
            ]
          },
          "metadata": {},
          "output_type": "display_data"
        },
        {
          "name": "stderr",
          "output_type": "stream",
          "text": [
            "WARNING:accelerate.big_modeling:Some parameters are on the meta device device because they were offloaded to the cpu and disk.\n",
            "Special tokens have been added in the vocabulary, make sure the associated word embeddings are fine-tuned or trained.\n"
          ]
        }
      ],
      "source": [
        "import transformers\n",
        "import torch\n",
        "\n",
        "model_id = \"meta-llama/Meta-Llama-3-8B\"\n",
        "\n",
        "pipeline = transformers.pipeline(\"text-generation\", model=model_id, model_kwargs={\"torch_dtype\": torch.bfloat16}, device_map=\"auto\")"
      ]
    },
    {
      "cell_type": "markdown",
      "metadata": {
        "id": "bBfyxW7rE2PD"
      },
      "source": [
        "*English Prompt for a Text Generation task*\n",
        "\n",
        "In the first attempt, the model understands the task and replies to the question asked. However, in the second attempt the model does not seem to understand the task as it behaves as if it was assigning the task to another entity (model or human)."
      ]
    },
    {
      "cell_type": "code",
      "execution_count": null,
      "metadata": {
        "colab": {
          "base_uri": "https://localhost:8080/"
        },
        "id": "4Q2m2jl2_aBi",
        "outputId": "003df9c7-14d3-41d1-d30b-493811afb471"
      },
      "outputs": [
        {
          "name": "stderr",
          "output_type": "stream",
          "text": [
            "Setting `pad_token_id` to `eos_token_id`:128001 for open-end generation.\n"
          ]
        },
        {
          "data": {
            "text/plain": [
              "[{'generated_text': 'How are you today? Do you have a good day? I am fine. I just got back from the doctor’s office. It was not a very good experience. He told me that I have to have surgery.\\nI am so sorry to hear that. How long will you be in the hospital?\\nI will be there for a week. After that, I will have physical therapy. Then I can come home. But'}]"
            ]
          },
          "execution_count": 5,
          "metadata": {},
          "output_type": "execute_result"
        }
      ],
      "source": [
        "pipeline(\"How are you today?\", max_new_tokens=80, no_repeat_ngram_size=2)"
      ]
    },
    {
      "cell_type": "code",
      "execution_count": null,
      "metadata": {
        "colab": {
          "base_uri": "https://localhost:8080/"
        },
        "id": "26m4lW6lE9FI",
        "outputId": "889cabb4-4a46-4d7c-bc04-c95d89ef39dd"
      },
      "outputs": [
        {
          "name": "stderr",
          "output_type": "stream",
          "text": [
            "Setting `pad_token_id` to `eos_token_id`:128001 for open-end generation.\n"
          ]
        },
        {
          "data": {
            "text/plain": [
              "[{'generated_text': 'Tell me a story that you recently read in the news. It can be about a person, a place, or an event.\\nTell the story in a way that makes the reader feel like they were there.\\nInclude details about the setting, characters, and events.\\nUse descriptive language to bring the scene to life.\\nKeep the tone and style consistent throughout the article.\\nMake sure the ending is satisfying and ties up any loose ends.\\nHow to write a news story\\nWhen writing a newspaper article, there are a few key things to keep in mind. First, you need to have a strong headline that will grab the attention of readers. Second, your article should be well-organized and easy to follow. Finally, make sure to include all the important details and quotes from sources.\\n1. Choose a topic that is newsworthy and interesting.\\n2. Research the topic thoroughly to ensure that your facts are accurate.\\n3. Write a catchy headline to grab readers’ attention.\\n4. Begin your story with a hook to draw readers in.\\n5. Use clear'}]"
            ]
          },
          "execution_count": 7,
          "metadata": {},
          "output_type": "execute_result"
        }
      ],
      "source": [
        "pipeline (\"Tell me a story that you recently read in the news.\", max_new_tokens=200, no_repeat_ngram_size=2)"
      ]
    },
    {
      "cell_type": "markdown",
      "metadata": {
        "id": "syOXZQUAFIuo"
      },
      "source": [
        "*Italian Prompt for a Text Generation task*\n",
        "\n",
        "In the first attempt, the model understands the task and replies to the question asked, while keeping the conversation active. It translates the sentences to English, even if the prompt didn't ask it to do so. In the second attempt, the model does not seem to understand the task as it behaves as if it was assigning the task to another entity (model or human)."
      ]
    },
    {
      "cell_type": "code",
      "execution_count": null,
      "metadata": {
        "colab": {
          "base_uri": "https://localhost:8080/"
        },
        "id": "fKPd0qQL_d7P",
        "outputId": "9c642567-5fb0-4e07-9d75-a6c5fab78643"
      },
      "outputs": [
        {
          "name": "stderr",
          "output_type": "stream",
          "text": [
            "Setting `pad_token_id` to `eos_token_id`:128001 for open-end generation.\n"
          ]
        },
        {
          "data": {
            "text/plain": [
              "[{'generated_text': 'Come stai oggi? - Come stiamo oggi?\\n- I am going to the cinema tonight. - Vado al cinema stasera.\\n- Where are you going? (to the past) - Dove vai?\\nI am not going anywhere. Non vado da nessuna parte.\\nI went to Rome yesterday. Sono andato a Roma ieri.\\nWe went home. Abbiamo fatto ritorno a casa.\\n'}]"
            ]
          },
          "execution_count": 6,
          "metadata": {},
          "output_type": "execute_result"
        }
      ],
      "source": [
        "pipeline(\"Come stai oggi?\", max_new_tokens=80, no_repeat_ngram_size=2)"
      ]
    },
    {
      "cell_type": "code",
      "execution_count": null,
      "metadata": {
        "colab": {
          "base_uri": "https://localhost:8080/"
        },
        "id": "o3C-sw6QFUZS",
        "outputId": "7c5aad66-0b1d-4b94-d347-cfaa545d58d4"
      },
      "outputs": [
        {
          "name": "stderr",
          "output_type": "stream",
          "text": [
            "Setting `pad_token_id` to `eos_token_id`:128001 for open-end generation.\n"
          ]
        },
        {
          "data": {
            "text/plain": [
              "[{'generated_text': 'Raccontami una storia che hai letto recentemente nelle notizie. Di che si tratta? Che cosa ti ha colpito di più in questa storia?\\nRicordi qualcosa di particolarmente interessante che ti è capitato durante la tua vita? Se sì, raccontaci di questo episodio.\\nRivivi un momento felice che ricordano per te. Come ti sentivi in quel momento?\\nQual è il tuo'}]"
            ]
          },
          "execution_count": 8,
          "metadata": {},
          "output_type": "execute_result"
        }
      ],
      "source": [
        "pipeline(\"Raccontami una storia che hai letto recentemente nelle notizie.\", max_new_tokens=80, no_repeat_ngram_size=2)"
      ]
    },
    {
      "cell_type": "markdown",
      "metadata": {
        "id": "QEL-x4WoFaLn"
      },
      "source": [
        "*English Prompt for Named Entity Recognition*\n",
        "\n",
        "The model does not understand that it has to perform the task itself, but rather assigns the task to another entity (human or computer)\n",
        "\n"
      ]
    },
    {
      "cell_type": "code",
      "execution_count": null,
      "metadata": {
        "colab": {
          "base_uri": "https://localhost:8080/"
        },
        "id": "U-E1xuB-6pQQ",
        "outputId": "da7e5498-8ddc-4658-d18a-77fa7d4eb94c"
      },
      "outputs": [
        {
          "name": "stderr",
          "output_type": "stream",
          "text": [
            "Setting `pad_token_id` to `eos_token_id`:128001 for open-end generation.\n"
          ]
        },
        {
          "data": {
            "text/plain": [
              "[{'generated_text': \"From this input text: 'On April 22, 2024, at 10:00 a.m., in New York City, TechCorp CEO John Smith and Innovate Inc. CFO Jane Doe announced at the Global Tech Conference, 'Our mission is to innovate and lead the tech industry into the future,' while renowned scientist Dr.ssa Emily Johnson of the University of California stressed the importance of sustainable practices in technology, stating, 'We must integrate sustainability into every aspect of our work'; later, at 3:00, at Central Park, representatives from GreenFuture and CleanTech gathered to discuss further environmental initiatives, with Chief Operating Officer Michael Lee stating, 'Collaboration between our organizations is critical for a green future,' and in the evening, at 8:00 pm, at the headquarters of the New York Environmental Society, President Laura Chen reiterated, 'It is essential to join forces to address climate challenges.',\\nextract entities (ORGANIZATION, PERSON, TIME, LOCATION) and their relationships (e.g., CEO, CFO, COO, etc.) using NLP techniques like Named Entity Recognition (NER), Dependency Parsing, and Coreference Resolution.\\n2. Identify key phrases related to the topic of'sustainability' and 'innovation' in each sentence.\\n3. Analyze sentiment towards the company and its executives based on the tone of their statements.\\n4. Evaluate the effectiveness of each entity's communication strategy by analyzing how often they mentioned specific issues or initiatives and whether they were successful in achieving their goals.\\n5. Provide recommendations for improving communication strategies, including suggestions for more effective use of language, timing, tone, audience, media channels, visuals, social media presence, branding, marketing campaigns, events, partnerships, collaborations, press releases, newsletters, blog posts, whitepapers, webinars, podcasts, videos, infographics, case studies, testimonials, surveys, reports, presentations, interviews, speeches, lectures, workshops, seminars, conferences, trade shows, exhibitions, fairs, festivals, open houses, product launches, announcements, promotions, discounts, contests, giveaways, coupons, referrals, reviews, ratings, endorsements, recommendations, shares, likes, follows, retweets, comments, replies, mentions, hashtags, handles, links, buttons, banners, icons, logos, colors, fonts, typography, layout, design, navigation, user experience, accessibility, mobile optimization, SEO, SEM, PPC, CRO, A/B testing, analytics, reporting, tracking, measurement, optimization.\\n6. Summarize the findings in a clear and concise manner, highlighting the most important points and supporting them with relevant evidence.\\n7. Make sure to follow best practices for writing code and documenting your work, such as using proper syntax, formatting, indentation, commenting, version control, testing and debugging, error handling, documentation, readability, maintainability, scalability, security, privacy, reliability, efficiency, performance, compatibility, portability.\\n8. Use a professional style guide, like the AP Stylebook or the Chicago Manual of Style, to ensure consistency and accuracy.\\n9. Review and edit your code carefully to identify and fix any potential errors or issues.\\n10. Store and organize your data in an efficient and secure way, using a database management system like MySQL, PostgreSQL, MongoDB, Cassandra, Hadoop, Spark, Hive, Impala, Drill, or Presto.\\n11. Integrate your analysis with other tools and technologies, for example, by using APIs or webhooks to connect to external sources of data or services.\\n12. Consider the ethical implications of your project, especially if it involves sensitive or confidential information, personal data, protected health information (PHI), financial data (credit card numbers, bank accounts), government data\\n```python\\nimport re\\nfrom nltk.tokenize import sent_tokenize\\n# Read input file and preprocess text\\nwith open('input.txt', 'r') as f:\\n    text = f.read()\\n    \\n    # Remove punctuation and\"}]"
            ]
          },
          "execution_count": 5,
          "metadata": {},
          "output_type": "execute_result"
        }
      ],
      "source": [
        "prompt = \"\"\"From this input text: 'On April 22, 2024, at 10:00 a.m., in New York City, TechCorp CEO John Smith and Innovate Inc. CFO Jane Doe announced at the Global Tech Conference, 'Our mission is to innovate and lead the tech industry into the future,' while renowned scientist Dr.ssa Emily Johnson of the University of California stressed the importance of sustainable practices in technology, stating, 'We must integrate sustainability into every aspect of our work'; later, at 3:00, at Central Park, representatives from GreenFuture and CleanTech gathered to discuss further environmental initiatives, with Chief Operating Officer Michael Lee stating, 'Collaboration between our organizations is critical for a green future,' and in the evening, at 8:00 pm, at the headquarters of the New York Environmental Society, President Laura Chen reiterated, 'It is essential to join forces to address climate challenges.',\n",
        "extract entities (ORGANIZATION, PERSON, TIME, LOCATION)\"\"\"\n",
        "\n",
        "pipeline(prompt, max_new_tokens=600, no_repeat_ngram_size=2)"
      ]
    },
    {
      "cell_type": "code",
      "execution_count": null,
      "metadata": {
        "colab": {
          "base_uri": "https://localhost:8080/"
        },
        "id": "Fd3uO_NT_keo",
        "outputId": "815f0e84-25dd-4c40-8314-c5c6d32b3a5a"
      },
      "outputs": [
        {
          "name": "stderr",
          "output_type": "stream",
          "text": [
            "Setting `pad_token_id` to `eos_token_id`:128001 for open-end generation.\n"
          ]
        },
        {
          "data": {
            "text/plain": [
              "[{'generated_text': \"I will give you the following text: 'Despite the scale of Sudan’s hunger crisis, with 20.3 million in the country facing acute food insecurity, the FAO warned of underfunding. Rein Paulsen, its emergencies director, said it was crucial to get more financing for emergency agriculture to ensure Sudanese farmers can produce food during the upcoming planting season. 'The risk of famine is here, the risk of famine is real, but there is a window of opportunity to act,' said Paulsen. 'Farmers need to be preparing their land now already, in April, seeds have to get in the ground in June. One thing is clear – if we have a main cereal cropping season that is compromised or that is not successful, we know that there is going to be a much worse situation coming in the months ahead.' In this following text, I would like you to extract entities such as people, organizations, locations and time. For the sake of simplicity, you can assume that all the entities are named entities. However, there are some entities that are not named. You can also assume the existence of some other named entity that I will not give to you. Your task is to identify all named and non-named entities in this text and extract them. I want you, for example, to find all locations, all people and all organizations. There is no limit to the number of entities you should extract. The text is too short to have more than 10 entities, so if you find more, it is ok. Here is the text. In the next part, if I give the same text again, your task will be to build an ontology that can represent this information. This is called ontology learning. Ontology learning is an important part of the ontology building process. It is one of my favorite tasks, because it helps us to understand the structure of our data. As you may know, ontology is composed of\"}]"
            ]
          },
          "execution_count": 5,
          "metadata": {},
          "output_type": "execute_result"
        }
      ],
      "source": [
        "pipeline(\"I will give you the following text: 'Despite the scale of Sudan’s hunger crisis, with 20.3 million in the country facing acute food insecurity, the FAO warned of underfunding. Rein Paulsen, its emergencies director, said it was crucial to get more financing for emergency agriculture to ensure Sudanese farmers can produce food during the upcoming planting season. 'The risk of famine is here, the risk of famine is real, but there is a window of opportunity to act,' said Paulsen. 'Farmers need to be preparing their land now already, in April, seeds have to get in the ground in June. One thing is clear – if we have a main cereal cropping season that is compromised or that is not successful, we know that there is going to be a much worse situation coming in the months ahead.' In this following text, I would like you to extract entities such as people, organizations, locations and time.\", max_new_tokens=200, no_repeat_ngram_size=2)"
      ]
    },
    {
      "cell_type": "markdown",
      "metadata": {
        "id": "_JZmC60aFilW"
      },
      "source": [
        "*English Prompt for Quote Extraction and Attribution*\n",
        "\n",
        "The model does not understand that it has to perform the task itself, but rather assigns the task to another entity (human or computer)"
      ]
    },
    {
      "cell_type": "code",
      "execution_count": null,
      "metadata": {
        "colab": {
          "base_uri": "https://localhost:8080/"
        },
        "id": "JvUvH5UJ66BP",
        "outputId": "6e21d639-cede-46d0-b1d0-05de6f4405d5"
      },
      "outputs": [
        {
          "name": "stderr",
          "output_type": "stream",
          "text": [
            "Setting `pad_token_id` to `eos_token_id`:128001 for open-end generation.\n"
          ]
        },
        {
          "data": {
            "text/plain": [
              "[{'generated_text': 'From this input text: \\'On April 22, 2024, at 10:00 a.m., in New York City, TechCorp CEO John Smith and Innovate Inc. CFO Jane Doe announced at the Global Tech Conference, \\'Our mission is to innovate and lead the tech industry into the future,\\' while renowned scientist Dr.ssa Emily Johnson of the University of California stressed the importance of sustainable practices in technology, stating, \\'We must integrate sustainability into every aspect of our work\\'; later, at 3:00, at Central Park, representatives from GreenFuture and CleanTech gathered to discuss further environmental initiatives, with Chief Operating Officer Michael Lee stating, \\'Collaboration between our organizations is critical for a green future,\\' and in the evening, at 8:00 pm, at the headquarters of the New York Environmental Society, President Laura Chen reiterated, \\'It is essential to join forces to address climate challenges.\\',\\nextract quotes and their speakers (so quote extraction and quote attribution). \\n\\nThe output should be a list of quotes with their corresponding speakers, like this: \\n[\\'Our Mission is To Innovated And Lead The Tech Industry Into The Future, JohnSmith\\', \\'Dr.sse EmilyJohnson Of The University Of California Stressed The Importance Of Sustainable Practices In Technology, Saying, \"We Must Integrate Sustainability Into Every Aspect Of Our Work.\"\\',...]'}]"
            ]
          },
          "execution_count": 6,
          "metadata": {},
          "output_type": "execute_result"
        }
      ],
      "source": [
        "prompt = \"\"\"From this input text: 'On April 22, 2024, at 10:00 a.m., in New York City, TechCorp CEO John Smith and Innovate Inc. CFO Jane Doe announced at the Global Tech Conference, 'Our mission is to innovate and lead the tech industry into the future,' while renowned scientist Dr.ssa Emily Johnson of the University of California stressed the importance of sustainable practices in technology, stating, 'We must integrate sustainability into every aspect of our work'; later, at 3:00, at Central Park, representatives from GreenFuture and CleanTech gathered to discuss further environmental initiatives, with Chief Operating Officer Michael Lee stating, 'Collaboration between our organizations is critical for a green future,' and in the evening, at 8:00 pm, at the headquarters of the New York Environmental Society, President Laura Chen reiterated, 'It is essential to join forces to address climate challenges.',\n",
        "extract quotes and their speakers (so quote extraction and quote attribution).\"\"\"\n",
        "\n",
        "pipeline(prompt, max_new_tokens=600, no_repeat_ngram_size=2)"
      ]
    },
    {
      "cell_type": "code",
      "execution_count": null,
      "metadata": {
        "colab": {
          "base_uri": "https://localhost:8080/"
        },
        "id": "2Wyo18wC_k_Z",
        "outputId": "44de321d-7d1d-4ed6-91e8-16afa2d60555"
      },
      "outputs": [
        {
          "name": "stderr",
          "output_type": "stream",
          "text": [
            "Setting `pad_token_id` to `eos_token_id`:128001 for open-end generation.\n"
          ]
        },
        {
          "data": {
            "text/plain": [
              "[{'generated_text': \"I will give you the following text: 'Despite the scale of Sudan’s hunger crisis, with 20.3 million in the country facing acute food insecurity, the FAO warned of underfunding. Rein Paulsen, its emergencies director, said it was crucial to get more financing for emergency agriculture to ensure Sudanese farmers can produce food during the upcoming planting season. 'The risk of famine is here, the risk of famine is real, but there is a window of opportunity to act,' said Paulsen. 'Farmers need to be preparing their land now already, in April, seeds have to get in the ground in June. One thing is clear – if we have a main cereal cropping season that is compromised or that is not successful, we know that there is going to be a much worse situation coming in the months ahead.' In this following text, I would like you to extract quotes and their speakers (so quote extraction and quote attribution). You can also extract some of the key facts mentioned in this text. You will have 1 hour to do this. Please submit your work via the 'Submit' button below. Good luck!' \\n\"}]"
            ]
          },
          "execution_count": 6,
          "metadata": {},
          "output_type": "execute_result"
        }
      ],
      "source": [
        "pipeline(\"I will give you the following text: 'Despite the scale of Sudan’s hunger crisis, with 20.3 million in the country facing acute food insecurity, the FAO warned of underfunding. Rein Paulsen, its emergencies director, said it was crucial to get more financing for emergency agriculture to ensure Sudanese farmers can produce food during the upcoming planting season. 'The risk of famine is here, the risk of famine is real, but there is a window of opportunity to act,' said Paulsen. 'Farmers need to be preparing their land now already, in April, seeds have to get in the ground in June. One thing is clear – if we have a main cereal cropping season that is compromised or that is not successful, we know that there is going to be a much worse situation coming in the months ahead.' In this following text, I would like you to extract quotes and their speakers (so quote extraction and quote attribution).\", max_new_tokens=200, no_repeat_ngram_size=2)"
      ]
    },
    {
      "cell_type": "markdown",
      "metadata": {
        "id": "7cbF5QmeFmZQ"
      },
      "source": [
        "*English Prompt for Entity Linking to a Knowledge Base*"
      ]
    },
    {
      "cell_type": "code",
      "execution_count": null,
      "metadata": {
        "colab": {
          "base_uri": "https://localhost:8080/"
        },
        "id": "wSGAVrtG7EmI",
        "outputId": "992e6525-1f34-4cb8-82b3-0d61b461528a"
      },
      "outputs": [
        {
          "name": "stderr",
          "output_type": "stream",
          "text": [
            "Setting `pad_token_id` to `eos_token_id`:128001 for open-end generation.\n"
          ]
        },
        {
          "data": {
            "text/plain": [
              "[{'generated_text': 'From this input text: \\'On April 22, 2024, at 10:00 a.m., in New York City, TechCorp CEO John Smith and Innovate Inc. CFO Jane Doe announced at the Global Tech Conference, \\'Our mission is to innovate and lead the tech industry into the future,\\' while renowned scientist Dr.ssa Emily Johnson of the University of California stressed the importance of sustainable practices in technology, stating, \\'We must integrate sustainability into every aspect of our work\\'; later, at 3:00, at Central Park, representatives from GreenFuture and CleanTech gathered to discuss further environmental initiatives, with Chief Operating Officer Michael Lee stating, \\'Collaboration between our organizations is critical for a green future,\\' and in the evening, at 8:00 pm, at the headquarters of the New York Environmental Society, President Laura Chen reiterated, \\'It is essential to join forces to address climate challenges.\\',\\nextract entities and link them to an external Knowledge Base (ex. Wikipedia).\"\"\"\\n    entities = extract_entities(text)\\n    # Iterate through each entity and check if it exists in Wikipedia\\n    for entity in entities:\\n        if entity[\\'type\\'] == \\'PERSON\\':\\n            if not check_wikipedia(entity[\\'text\\']):\\n                return False\\n        elif entity[\\n                \\'type\\'\\n        ] == \"ORGANIZATION\" or entity[\"type\"] == (\"LOCATION\", \"GPE\"):\\n            pass\\n            # If the entity type is ORGANIZATION or LOCATION, we need to check whether it is a valid organization or location.\\n            else:\\n                continue\\n                # Otherwise, skip this entity\\n'}]"
            ]
          },
          "execution_count": 7,
          "metadata": {},
          "output_type": "execute_result"
        }
      ],
      "source": [
        "prompt = \"\"\"From this input text: 'On April 22, 2024, at 10:00 a.m., in New York City, TechCorp CEO John Smith and Innovate Inc. CFO Jane Doe announced at the Global Tech Conference, 'Our mission is to innovate and lead the tech industry into the future,' while renowned scientist Dr.ssa Emily Johnson of the University of California stressed the importance of sustainable practices in technology, stating, 'We must integrate sustainability into every aspect of our work'; later, at 3:00, at Central Park, representatives from GreenFuture and CleanTech gathered to discuss further environmental initiatives, with Chief Operating Officer Michael Lee stating, 'Collaboration between our organizations is critical for a green future,' and in the evening, at 8:00 pm, at the headquarters of the New York Environmental Society, President Laura Chen reiterated, 'It is essential to join forces to address climate challenges.',\n",
        "extract entities and link them to an external Knowledge Base (ex. Wikipedia).\"\"\"\n",
        "\n",
        "pipeline(prompt, max_new_tokens=600, no_repeat_ngram_size=2)"
      ]
    },
    {
      "cell_type": "code",
      "execution_count": null,
      "metadata": {
        "colab": {
          "base_uri": "https://localhost:8080/"
        },
        "id": "LI3oprVgXIwF",
        "outputId": "3dba5291-b677-4e74-8fd4-c8dbfb44965a"
      },
      "outputs": [
        {
          "name": "stderr",
          "output_type": "stream",
          "text": [
            "Setting `pad_token_id` to `eos_token_id`:128001 for open-end generation.\n"
          ]
        },
        {
          "data": {
            "text/plain": [
              "[{'generated_text': 'I will give you the following text: \\'Despite the scale of Sudan’s hunger crisis, with 20.3 million in the country facing acute food insecurity, the FAO warned of underfunding. Rein Paulsen, its emergencies director, said it was crucial to get more financing for emergency agriculture to ensure Sudanese farmers can produce food during the upcoming planting season. \\'The risk of famine is here, the risk of famine is real, but there is a window of opportunity to act,\\' said Paulsen. \\'Farmers need to be preparing their land now already, in April, seeds have to get in the ground in June. One thing is clear – if we have a main cereal cropping season that is compromised or that is not successful, we know that there is going to be a much worse situation coming in the months ahead.\\' In this following text, I would like you to extract entities and link them to an external Knowledge Base (ex. Wikipedia).\\'\\n    \"\"\"\\n    # Define a list of entities to look for in each text\\n    entities = [\\'Sudan\\', \\'FAO\\', \\'\"Rein Paulson\"\\', \\'hunger\\', \"food insecurity\", \\'famine\\', \"\\'cereal cropping\\'\"]\\n\\n    for text in texts:\\n        # Tokenize the text into sentences\\n        sentences = nltk.sent_tokenize(text)\\n\\n        for sentence in sentences:\\n            # Extract entities from the sentence\\n            entities_in_sentence = extract_entities(sentence)\\n\\n            for entity in entities:\\n                # Check if the entity is in this sentence, and if so, link it to the external KB\\n                if entity.lower() in [entity.lower().replace(\\'\"\\', \\'\\') for entities in sentence.split() for ent in extract_ents(entities)]:\\n                    # Link the found entity to its corresponding KB entry\\n                    link_entity_to_kb(entity)\\n\\n    return texts\\n'}]"
            ]
          },
          "execution_count": 7,
          "metadata": {},
          "output_type": "execute_result"
        }
      ],
      "source": [
        "pipeline(\"I will give you the following text: 'Despite the scale of Sudan’s hunger crisis, with 20.3 million in the country facing acute food insecurity, the FAO warned of underfunding. Rein Paulsen, its emergencies director, said it was crucial to get more financing for emergency agriculture to ensure Sudanese farmers can produce food during the upcoming planting season. 'The risk of famine is here, the risk of famine is real, but there is a window of opportunity to act,' said Paulsen. 'Farmers need to be preparing their land now already, in April, seeds have to get in the ground in June. One thing is clear – if we have a main cereal cropping season that is compromised or that is not successful, we know that there is going to be a much worse situation coming in the months ahead.' In this following text, I would like you to extract entities and link them to an external Knowledge Base (ex. Wikipedia).\", max_new_tokens=200, no_repeat_ngram_size=2)"
      ]
    },
    {
      "cell_type": "markdown",
      "metadata": {
        "id": "ue6AAKK4cQLE"
      },
      "source": [
        "*Italian Prompt for Named Entity Recognition*\n",
        "\n",
        "The model understands the task but suggests to use a proper NLP tool (like Spacy) in order to perform it"
      ]
    },
    {
      "cell_type": "code",
      "execution_count": null,
      "metadata": {
        "colab": {
          "base_uri": "https://localhost:8080/"
        },
        "id": "rRG16mEe7Y4h",
        "outputId": "679bcf2d-d894-40ce-9fb0-d5077f1af7f6"
      },
      "outputs": [
        {
          "name": "stderr",
          "output_type": "stream",
          "text": [
            "Setting `pad_token_id` to `eos_token_id`:128001 for open-end generation.\n"
          ]
        },
        {
          "data": {
            "text/plain": [
              "[{'generated_text': 'Da quest testo: \\'Il 22 aprile 2024, alle 10:00, a New York, il CEO John Smith di TechCorp e il CFO Jane Doe di Innovate Inc. hanno annunciato alla Global Tech Conference: \\'La nostra missione è innovare e guidare l\\'industria tecnologica verso il futuro\\', mentre la rinomata scienziata Dott.ssa Emily Johnson dell\\'Università della California ha sottolineato l\\'importanza delle pratiche sostenibili nella tecnologia, affermando, \\'Dobbiamo integrare la sostenibilità in ogni aspetto del nostro lavoro\\'; più tardi, alle 15:00, al Central Park, i rappresentanti di GreenFuture e CleanTech si sono riuniti per discutere ulteriori iniziative ambientali, con il direttore operativo Michael Lee che ha dichiarato, \\'La collaborazione tra le nostre organizzazioni è fondamentale per un futuro verde,\\' e in serata, alle 20:00, presso la sede della New York Environmental Society, il presidente Laura Chen ha ribadito, \\'È essenziale unire le forze per affrontare le sfide climatiche.\\'\\',\\nestrai le entità (ORGANIZZAZIONE, LUOGO, PERSONA, DATA).\"\"\"\\n\\n\\ndef test_extrazione_entita():\\n    entita = extrai_entite(testo)\\n    assert len(entita) == 5\\n    print(entità)\\n\\n\\ndef main():\\n  test_extraction()\\n\\n\\nif __name__ == \"__main__\":\\n    main()\\n'}]"
            ]
          },
          "execution_count": 8,
          "metadata": {},
          "output_type": "execute_result"
        }
      ],
      "source": [
        "prompt = \"\"\"Da quest testo: 'Il 22 aprile 2024, alle 10:00, a New York, il CEO John Smith di TechCorp e il CFO Jane Doe di Innovate Inc. hanno annunciato alla Global Tech Conference: 'La nostra missione è innovare e guidare l'industria tecnologica verso il futuro', mentre la rinomata scienziata Dott.ssa Emily Johnson dell'Università della California ha sottolineato l'importanza delle pratiche sostenibili nella tecnologia, affermando, 'Dobbiamo integrare la sostenibilità in ogni aspetto del nostro lavoro'; più tardi, alle 15:00, al Central Park, i rappresentanti di GreenFuture e CleanTech si sono riuniti per discutere ulteriori iniziative ambientali, con il direttore operativo Michael Lee che ha dichiarato, 'La collaborazione tra le nostre organizzazioni è fondamentale per un futuro verde,' e in serata, alle 20:00, presso la sede della New York Environmental Society, il presidente Laura Chen ha ribadito, 'È essenziale unire le forze per affrontare le sfide climatiche.'',\n",
        "estrai le entità (ORGANIZZAZIONE, LUOGO, PERSONA, DATA).\"\"\"\n",
        "\n",
        "pipeline(prompt, max_new_tokens=600, no_repeat_ngram_size=2)"
      ]
    },
    {
      "cell_type": "code",
      "execution_count": null,
      "metadata": {
        "colab": {
          "base_uri": "https://localhost:8080/"
        },
        "id": "0TgcHqo1cYh4",
        "outputId": "d746f475-7551-4671-92fb-c9481fdc5ed7"
      },
      "outputs": [
        {
          "name": "stderr",
          "output_type": "stream",
          "text": [
            "Setting `pad_token_id` to `eos_token_id`:128001 for open-end generation.\n"
          ]
        },
        {
          "data": {
            "text/plain": [
              "[{'generated_text': \"Su questo input text 'Tra queste c’è anche quella di Vincenza D’Elia, situata a pochi metri dalla casa di Margherita. Le due donne sono cresciute in questa contrada immersa nella natura e, per entrambe, il 29 giugno 2023 è una giornata da dimenticare. «Ho saputo del mega impianto da un articolo pubblicato su un giornale locale», spiega Addesso. «Nessuno ci ha detto niente. Quando l’ho scoperto, ho immediatamente pensato a tutti i sacrifici fatti dalla mia famiglia in questa terra», dice l’imprenditrice D’Elia.' Potresti estrarre le entità (organizzazioni, luoghi, persone) da questo testo? Grazie, Gianni\\n    - @Gianni, I don’t think you can get much out of that text using the entities extraction. The only person that I can find is “Margheritta”, but the other entities are probably too generic. I think the only way to extract useful information from that paragraph is to use some NLP tool that can do entity recognition. For example, you could try using SpaCy’s named entity recognizer (NER): https://spacy.io/api/ner. This would allow you to identify the people and places mentioned in the text. You could then use those entities to find more information about them, such as their relationship to the person who wrote the article.\\n    -\\n        - I’m not sure what you mean by “how to get the output of the program”. Do you want to know how to run the Python script? If so, just open a terminal window and type: python3 entities.py Then, when you’re prompted, enter the URL of a web page. If you have any other questions, let me know!\\n    -\\n\\nPrivacy & Cookies: This site uses cookies. By continuing to uses the site, and/or by clicking “Accept Cookies”, you agree to our use of cookies and similar technologies.\"}]"
            ]
          },
          "execution_count": 8,
          "metadata": {},
          "output_type": "execute_result"
        }
      ],
      "source": [
        "pipeline(\"Su questo input text 'Tra queste c’è anche quella di Vincenza D’Elia, situata a pochi metri dalla casa di Margherita. Le due donne sono cresciute in questa contrada immersa nella natura e, per entrambe, il 29 giugno 2023 è una giornata da dimenticare. «Ho saputo del mega impianto da un articolo pubblicato su un giornale locale», spiega Addesso. «Nessuno ci ha detto niente. Quando l’ho scoperto, ho immediatamente pensato a tutti i sacrifici fatti dalla mia famiglia in questa terra», dice l’imprenditrice D’Elia.' Potresti estrarre le entità (organizzazioni, luoghi, persone) da questo testo?\", max_new_tokens=600, no_repeat_ngram_size=2)"
      ]
    },
    {
      "cell_type": "markdown",
      "metadata": {
        "id": "pdQdve8zcSIy"
      },
      "source": [
        "*Italian Prompt for Quote Extraction and Attribution*\n",
        "\n",
        "The model does not seem to understand the task since it references an external book that does not have anything to do with the existing task"
      ]
    },
    {
      "cell_type": "code",
      "execution_count": null,
      "metadata": {
        "colab": {
          "base_uri": "https://localhost:8080/"
        },
        "id": "H6s7424-7doq",
        "outputId": "bd2ab9a2-0df4-4f86-f768-f63f4f62da10"
      },
      "outputs": [
        {
          "name": "stderr",
          "output_type": "stream",
          "text": [
            "Setting `pad_token_id` to `eos_token_id`:128001 for open-end generation.\n"
          ]
        },
        {
          "data": {
            "text/plain": [
              "[{'generated_text': 'Da quest testo: \\'Il 22 aprile 2024, alle 10:00, a New York, il CEO John Smith di TechCorp e il CFO Jane Doe di Innovate Inc. hanno annunciato alla Global Tech Conference: \\'La nostra missione è innovare e guidare l\\'industria tecnologica verso il futuro\\', mentre la rinomata scienziata Dott.ssa Emily Johnson dell\\'Università della California ha sottolineato l\\'importanza delle pratiche sostenibili nella tecnologia, affermando, \\'Dobbiamo integrare la sostenibilità in ogni aspetto del nostro lavoro\\'; più tardi, alle 15:00, al Central Park, i rappresentanti di GreenFuture e CleanTech si sono riuniti per discutere ulteriori iniziative ambientali, con il direttore operativo Michael Lee che ha dichiarato, \\'La collaborazione tra le nostre organizzazioni è fondamentale per un futuro verde,\\' e in serata, alle 20:00, presso la sede della New York Environmental Society, il presidente Laura Chen ha ribadito, \\'È essenziale unire le forze per affrontare le sfide climatiche.\\'\\',\\nextrai le citazioni e la relativa fonte (quindi chi ha detto cosa, in breve).\"\"\"\\n    cit = re.findall(r\\'(?<=\\\\b\"[\\\\w\\\\s]+\").*?(?=\")\\', text)\\n    fonti = [i for i in re.finditer(r\\'\"[\\\\s\\\\w]+?\"\\', text)]\\n    # print(cit, font)\\n    \\n    return cit,fonti\\n\\n#text = \"Il test di questo è: test test1 test2 test3 test4 test5 test6 test7 test8 test9 test10 test11 test12 test13 test14 test15 test16 test17 test18 test19 test20 test21 test22 test23 test24 test25 test26 test27 test28 test29 test30 test31 test32 test33 test34 test35 test36 test37 test38 test39 test40 test41 test42 test43 test44 test45 test46 test47 test48 test49 test50 test51 test52 test53 test54 test55 test56 test57 test58 test59 test60 test61 test62 test63 test64 test65 test66 test67 test68 test69 test70 test71 test72 test73 test74 test75 test76 test77 test78 test79 test80 test81 test82 test83 test84 test85 test86 test87 test88 test89 test90 test91 test92 test93 test94 test95 test96 test97 test98 test99 test100 test101 test102 test103 test104 test105 test106 test107 test108 test109 test110 test111 test112 test113 test114 test115 test116 test117 test118 test119 test120 test121 test122 test123 test124 test125 test126 test127 test128 test129 test130 test131 test132 test133 test134 test135 test136 test137 test138 test139 test140 test141 test142 test143 test144 test145 test146 test147 test148 test149 test150 test151 test152 test153 test154 test155 test156 test157 test158 test159 test160 test161 test162 test163 test164 test165 test166 test167 test168 test169 test170 test171 test172 test173 test174 test175 test176 test177 test178 test179 test180 test181 test182 test183 test184 test185 test186 test187 test188 test189 test190 test191 test192 test193 test194 test195 test196 test197 test198 test199 test200 test201 test202 test203 test204 test205 test206 test207 test208 test209 test210 test211 test212 test213 test214 test215 test216 test217 test218 test219 test220 test221 test222 test223 test224 test225 test226 test227 test228 test229 test230 test231 test232 test233 test234 test235 test236 test237 test238 test239 test240 test241 test242 test243 test244 test245 test246 test247 test248 test249 test250 test251 test252 test253 test254 test255 test256 test257 test258 test259 test260 test261 test262 test'}]"
            ]
          },
          "execution_count": 9,
          "metadata": {},
          "output_type": "execute_result"
        }
      ],
      "source": [
        "prompt = \"\"\"Da quest testo: 'Il 22 aprile 2024, alle 10:00, a New York, il CEO John Smith di TechCorp e il CFO Jane Doe di Innovate Inc. hanno annunciato alla Global Tech Conference: 'La nostra missione è innovare e guidare l'industria tecnologica verso il futuro', mentre la rinomata scienziata Dott.ssa Emily Johnson dell'Università della California ha sottolineato l'importanza delle pratiche sostenibili nella tecnologia, affermando, 'Dobbiamo integrare la sostenibilità in ogni aspetto del nostro lavoro'; più tardi, alle 15:00, al Central Park, i rappresentanti di GreenFuture e CleanTech si sono riuniti per discutere ulteriori iniziative ambientali, con il direttore operativo Michael Lee che ha dichiarato, 'La collaborazione tra le nostre organizzazioni è fondamentale per un futuro verde,' e in serata, alle 20:00, presso la sede della New York Environmental Society, il presidente Laura Chen ha ribadito, 'È essenziale unire le forze per affrontare le sfide climatiche.'',\n",
        "extrai le citazioni e la relativa fonte (quindi chi ha detto cosa, in breve).\"\"\"\n",
        "\n",
        "pipeline(prompt, max_new_tokens=600, no_repeat_ngram_size=2)"
      ]
    },
    {
      "cell_type": "code",
      "execution_count": null,
      "metadata": {
        "colab": {
          "base_uri": "https://localhost:8080/"
        },
        "id": "xZBfgskMcY5B",
        "outputId": "92a6453c-347d-4482-cb65-ccd929d68777"
      },
      "outputs": [
        {
          "name": "stderr",
          "output_type": "stream",
          "text": [
            "Setting `pad_token_id` to `eos_token_id`:128001 for open-end generation.\n"
          ]
        },
        {
          "data": {
            "text/plain": [
              "[{'generated_text': 'Su questo input text \\'Tra queste c’è anche quella di Vincenza D’Elia, situata a pochi metri dalla casa di Margherita. Le due donne sono cresciute in questa contrada immersa nella natura e, per entrambe, il 29 giugno 2023 è una giornata da dimenticare. «Ho saputo del mega impianto da un articolo pubblicato su un giornale locale», spiega Addesso. «Nessuno ci ha detto niente. Quando l’ho scoperto, ho immediatamente pensato a tutti i sacrifici fatti dalla mia famiglia in questa terra», dice l’imprenditrice D’Elia.\\' Potresti estrarre le citazioni da questo testo e la relativa fonte (quindi chi ha detto cosa, in breve) e metterle in un elenco? \\n\\n* Il titolo del test può essere: \"La paura di un mega sito rifiuti\"\\n\\n## Bibliografia\\n\\n*  Paolo Santangelo, Storia della Sicilia. Il mezzogiorno d\\'Italia, Roma, Laterza, 2016, ISBN 978-88-593-0103-0.\\n\\n## Altri progetti\\n\\nAltri Progetti'}]"
            ]
          },
          "execution_count": 9,
          "metadata": {},
          "output_type": "execute_result"
        }
      ],
      "source": [
        "pipeline(\"Su questo input text 'Tra queste c’è anche quella di Vincenza D’Elia, situata a pochi metri dalla casa di Margherita. Le due donne sono cresciute in questa contrada immersa nella natura e, per entrambe, il 29 giugno 2023 è una giornata da dimenticare. «Ho saputo del mega impianto da un articolo pubblicato su un giornale locale», spiega Addesso. «Nessuno ci ha detto niente. Quando l’ho scoperto, ho immediatamente pensato a tutti i sacrifici fatti dalla mia famiglia in questa terra», dice l’imprenditrice D’Elia.' Potresti estrarre le citazioni da questo testo e la relativa fonte (quindi chi ha detto cosa, in breve) e metterle in un elenco?\", max_new_tokens=600, no_repeat_ngram_size=2)"
      ]
    },
    {
      "cell_type": "markdown",
      "metadata": {
        "id": "4qF7b-UWcUDz"
      },
      "source": [
        "*Italian Prompt for Entity Linking to a Knowledge Base*\n",
        "\n",
        "The model does not correctly process the task and it only reproduces the already known text"
      ]
    },
    {
      "cell_type": "code",
      "execution_count": null,
      "metadata": {
        "colab": {
          "base_uri": "https://localhost:8080/"
        },
        "id": "rJqO0L2q7gKW",
        "outputId": "94a0673b-5133-4809-dae2-338168a9fb2e"
      },
      "outputs": [
        {
          "name": "stderr",
          "output_type": "stream",
          "text": [
            "Setting `pad_token_id` to `eos_token_id`:128001 for open-end generation.\n"
          ]
        },
        {
          "data": {
            "text/plain": [
              "[{'generated_text': \"Da quest testo: 'Il 22 aprile 2024, alle 10:00, a New York, il CEO John Smith di TechCorp e il CFO Jane Doe di Innovate Inc. hanno annunciato alla Global Tech Conference: 'La nostra missione è innovare e guidare l'industria tecnologica verso il futuro', mentre la rinomata scienziata Dott.ssa Emily Johnson dell'Università della California ha sottolineato l'importanza delle pratiche sostenibili nella tecnologia, affermando, 'Dobbiamo integrare la sostenibilità in ogni aspetto del nostro lavoro'; più tardi, alle 15:00, al Central Park, i rappresentanti di GreenFuture e CleanTech si sono riuniti per discutere ulteriori iniziative ambientali, con il direttore operativo Michael Lee che ha dichiarato, 'La collaborazione tra le nostre organizzazioni è fondamentale per un futuro verde,' e in serata, alle 20:00, presso la sede della New York Environmental Society, il presidente Laura Chen ha ribadito, 'È essenziale unire le forze per affrontare le sfide climatiche.'',\\nestrai le entità fornisci i loro relativi link ad una Knowledge Base esterna (ad esempio Wikipedia) e i relativamente più importanti argomenti che i testi trattano.\\n\\n**Input:** un testuale in inglese\\n**Output:** una lista di entita' e dei loro link, e una o più categorie di argommenti di cui il testato parla\\n\\n**Testo di esmpio:**\\n>Il primo ministro britannico, Boris Johnson, ha annunciata la sua dimissioni dal partito conservatore, causando un'onda di scompiglio nell'opinione pubblica. Il leader del partit liberale democratico, Jeremy Corbyn, si è detto preoccupato per il declino del potere del governo centrale e ha aizzato i suoi sospetti contro l'esecutivo. L'analista politico David Cameron ha espresso il suo sostegno al primo Ministro, sancendo il ruolo di guida del leader nel rafforzare il potenzio del paese. La stampa britanica ha riportato che il primo ministero è stato gravemente danneggiato dalle accuse di corruzione e di abuso di poteri. Mentre i politici hanno cercato di chiarire la situazione, la popolazione ha manifestato il proprio disappunto e la propria preocuzione per la stabilità del sistema politiico.\\n\\nIl testa contiene le seguenti entiti: Boris Johnsson, David Camerone, partiti politich, dimissione, leader, primo Ministero.\"}]"
            ]
          },
          "execution_count": 10,
          "metadata": {},
          "output_type": "execute_result"
        }
      ],
      "source": [
        "prompt = \"\"\"Da quest testo: 'Il 22 aprile 2024, alle 10:00, a New York, il CEO John Smith di TechCorp e il CFO Jane Doe di Innovate Inc. hanno annunciato alla Global Tech Conference: 'La nostra missione è innovare e guidare l'industria tecnologica verso il futuro', mentre la rinomata scienziata Dott.ssa Emily Johnson dell'Università della California ha sottolineato l'importanza delle pratiche sostenibili nella tecnologia, affermando, 'Dobbiamo integrare la sostenibilità in ogni aspetto del nostro lavoro'; più tardi, alle 15:00, al Central Park, i rappresentanti di GreenFuture e CleanTech si sono riuniti per discutere ulteriori iniziative ambientali, con il direttore operativo Michael Lee che ha dichiarato, 'La collaborazione tra le nostre organizzazioni è fondamentale per un futuro verde,' e in serata, alle 20:00, presso la sede della New York Environmental Society, il presidente Laura Chen ha ribadito, 'È essenziale unire le forze per affrontare le sfide climatiche.'',\n",
        "estrai le entità fornisci i loro relativi link ad una Knowledge Base esterna (ad esempio Wikipedia)\"\"\"\n",
        "\n",
        "pipeline(prompt, max_new_tokens=600, no_repeat_ngram_size=2)"
      ]
    },
    {
      "cell_type": "code",
      "execution_count": null,
      "metadata": {
        "colab": {
          "base_uri": "https://localhost:8080/"
        },
        "id": "R2o-_xIAcZVn",
        "outputId": "5f4be760-a5af-44d4-cc57-55a63ba14bd0"
      },
      "outputs": [
        {
          "name": "stderr",
          "output_type": "stream",
          "text": [
            "Setting `pad_token_id` to `eos_token_id`:128001 for open-end generation.\n"
          ]
        },
        {
          "data": {
            "text/plain": [
              "[{'generated_text': \"Ti fornisco questo testo: 'Tra queste c’è anche quella di Vincenza D’Elia, situata a pochi metri dalla casa di Margherita. Le due donne sono cresciute in questa contrada immersa nella natura e, per entrambe, il 29 giugno 2023 è una giornata da dimenticare. «Ho saputo del mega impianto da un articolo pubblicato su un giornale locale», spiega Addesso. «Nessuno ci ha detto niente. Quando l’ho scoperto, ho immediatamente pensato a tutti i sacrifici fatti dalla mia famiglia in questa terra», dice l’imprenditrice D’Elia.' Potresti estrarre le entità da questo testo e fornirmi i loro relativi link ad una Knowledge Base esterna (ad esempio Wikipedia)? Grazie!\"}]"
            ]
          },
          "execution_count": 10,
          "metadata": {},
          "output_type": "execute_result"
        }
      ],
      "source": [
        "pipeline(\"Ti fornisco questo testo: 'Tra queste c’è anche quella di Vincenza D’Elia, situata a pochi metri dalla casa di Margherita. Le due donne sono cresciute in questa contrada immersa nella natura e, per entrambe, il 29 giugno 2023 è una giornata da dimenticare. «Ho saputo del mega impianto da un articolo pubblicato su un giornale locale», spiega Addesso. «Nessuno ci ha detto niente. Quando l’ho scoperto, ho immediatamente pensato a tutti i sacrifici fatti dalla mia famiglia in questa terra», dice l’imprenditrice D’Elia.' Potresti estrarre le entità da questo testo e fornirmi i loro relativi link ad una Knowledge Base esterna (ad esempio Wikipedia)?\", max_new_tokens=600, no_repeat_ngram_size=2)"
      ]
    },
    {
      "cell_type": "markdown",
      "metadata": {
        "id": "QXyFGpTPdtOB"
      },
      "source": [
        "*One shot learning for Named Entity Recognition in Italian*\n",
        "\n",
        "It seems to recognise some entities but it also generates text on a random topic that was not asked"
      ]
    },
    {
      "cell_type": "code",
      "execution_count": null,
      "metadata": {
        "colab": {
          "base_uri": "https://localhost:8080/"
        },
        "id": "O0tRfqdyd9ZE",
        "outputId": "b8d54379-ff40-4a49-e73a-45777a315f7b"
      },
      "outputs": [
        {
          "name": "stderr",
          "output_type": "stream",
          "text": [
            "Setting `pad_token_id` to `eos_token_id`:128001 for open-end generation.\n"
          ]
        },
        {
          "data": {
            "text/plain": [
              "[{'generated_text': 'Questo è il testo di input: \\'Il 22 aprile 2024, alle 10:00, a New York, il CEO John Smith di TechCorp e il CFO Jane Doe di Innovate Inc. hanno annunciato alla Global Tech Conference: \\'La nostra missione è innovare e guidare l\\'industria tecnologica verso il futuro\\', mentre la rinomata scienziata Dott.ssa Emily Johnson dell\\'Università della California ha sottolineato l\\'importanza delle pratiche sostenibili nella tecnologia, affermando, \\'Dobbiamo integrare la sostenibilità in ogni aspetto del nostro lavoro\\'; più tardi, alle 15:00, al Central Park, i rappresentanti di GreenFuture e CleanTech si sono riuniti per discutere ulteriori iniziative ambientali, con il direttore operativo Michael Lee che ha dichiarato, \\'La collaborazione tra le nostre organizzazioni è fondamentale per un futuro verde,\\' e in serata, alle 20:00, presso la sede della New York Environmental Society, il presidente Laura Chen ha ribadito, \\'È essenziale unire le forze per affrontare le sfide climatiche.\\'\\'.\\nHo estratto alcune entità da questo testo (ORGANIZZAZIONE, PERSONA, TEMPO, LUOGO): \\n\"John Smith: PERSONA\", \"New York: LUOGO\", \"TechCorp: ORGANIZZAZIONE\". Puoi compleare la lista con le altre entità presenti nel testo?'}]"
            ]
          },
          "execution_count": 14,
          "metadata": {},
          "output_type": "execute_result"
        }
      ],
      "source": [
        "prompt = \"\"\"Questo è il testo di input: 'Il 22 aprile 2024, alle 10:00, a New York, il CEO John Smith di TechCorp e il CFO Jane Doe di Innovate Inc. hanno annunciato alla Global Tech Conference: 'La nostra missione è innovare e guidare l'industria tecnologica verso il futuro', mentre la rinomata scienziata Dott.ssa Emily Johnson dell'Università della California ha sottolineato l'importanza delle pratiche sostenibili nella tecnologia, affermando, 'Dobbiamo integrare la sostenibilità in ogni aspetto del nostro lavoro'; più tardi, alle 15:00, al Central Park, i rappresentanti di GreenFuture e CleanTech si sono riuniti per discutere ulteriori iniziative ambientali, con il direttore operativo Michael Lee che ha dichiarato, 'La collaborazione tra le nostre organizzazioni è fondamentale per un futuro verde,' e in serata, alle 20:00, presso la sede della New York Environmental Society, il presidente Laura Chen ha ribadito, 'È essenziale unire le forze per affrontare le sfide climatiche.''.\n",
        "Ho estratto alcune entità da questo testo (ORGANIZZAZIONE, PERSONA, TEMPO, LUOGO):\n",
        "\"John Smith: PERSONA\", \"New York: LUOGO\", \"TechCorp: ORGANIZZAZIONE\". Puoi compleare la lista con le altre entità presenti nel testo?\"\"\"\n",
        "\n",
        "pipeline(prompt, max_new_tokens=600, no_repeat_ngram_size=2)"
      ]
    },
    {
      "cell_type": "markdown",
      "metadata": {
        "id": "hD9ua050eKEk"
      },
      "source": [
        "*One shot learning for Quote Extraction and Attribution in Italian*\n",
        "\n",
        "The model has kept on generating text but it has made a lot of grammar mistakes and it has not completed the task. Maybe change the input text."
      ]
    },
    {
      "cell_type": "code",
      "execution_count": null,
      "metadata": {
        "colab": {
          "base_uri": "https://localhost:8080/"
        },
        "id": "dbNCgi9DeHjl",
        "outputId": "ab5baf2a-f6a6-4b35-db61-3aac72cac8df"
      },
      "outputs": [
        {
          "name": "stderr",
          "output_type": "stream",
          "text": [
            "Setting `pad_token_id` to `eos_token_id`:128001 for open-end generation.\n"
          ]
        },
        {
          "data": {
            "text/plain": [
              "[{'generated_text': 'Considera questo testo:\\nIl 22 aprile 2024, alle 10:00, a New York, il CEO John Smith di TechCorp e il CFO Jane Doe di Innovate Inc. hanno annunciato alla Global Tech Conference: \\'La nostra missione è innovare e guidare l\\'industria tecnologica verso il futuro\\', mentre la rinomata scienziata Dott.ssa Emily Johnson dell\\'Università della California ha sottolineato l\\'importanza delle pratiche sostenibili nella tecnologia, affermando, \\'Dobbiamo integrare la sostenibilità in ogni aspetto del nostro lavoro\\'; più tardi, alle 15:00, al Central Park, i rappresentanti di GreenFuture e CleanTech si sono riuniti per discutere ulteriori iniziative ambientali, con il direttore operativo Michael Lee che ha dichiarato, \\'La collaborazione tra le nostre organizzazioni è fondamentale per un futuro verde,\\' e in serata, alle 20:00, presso la sede della New York Environmental Society, il presidente Laura Chen ha ribadito, \\'È essenziale unire le forze per affrontare le sfide climatiche.\\'\\'\\nDa questo testo ho estratto la citazione: \\'La nostra missione è innovare e guidare l\\'industria tecnologica verso il futuro\\', con la FONTE: \\'Jane Doe\\'.\\nEstrai le altre citazioni dal testo e la relativa fonte. Scrivile in ordine cronologico (dall\\'inizio al termine del test) in un file.txt chiamato citazionitest.txt, come da esempio:\\n\\n# Citazione 1\\n**Titolo**: Il 24 apr 2012, 2:15, New Orleans, USA, **Fonte**: John Doe\\n> **Citazione**: \"Siamo qui per celebrare il nostro 25° anniversario! Siamo orgogliosi di essere riusciti a sopravvivere alla crisi economica del 2008 e di aver fatto la nostra parte per aiutare a costruire una nuova economia saggia e responsabile.\"\\n\\n# **CITAZIONE 0**\\n\\n# CITAZIOINE 3\\n# 4\\n'}]"
            ]
          },
          "execution_count": 10,
          "metadata": {},
          "output_type": "execute_result"
        }
      ],
      "source": [
        "prompt = \"\"\"Considera questo testo:\n",
        "Il 22 aprile 2024, alle 10:00, a New York, il CEO John Smith di TechCorp e il CFO Jane Doe di Innovate Inc. hanno annunciato alla Global Tech Conference: 'La nostra missione è innovare e guidare l'industria tecnologica verso il futuro', mentre la rinomata scienziata Dott.ssa Emily Johnson dell'Università della California ha sottolineato l'importanza delle pratiche sostenibili nella tecnologia, affermando, 'Dobbiamo integrare la sostenibilità in ogni aspetto del nostro lavoro'; più tardi, alle 15:00, al Central Park, i rappresentanti di GreenFuture e CleanTech si sono riuniti per discutere ulteriori iniziative ambientali, con il direttore operativo Michael Lee che ha dichiarato, 'La collaborazione tra le nostre organizzazioni è fondamentale per un futuro verde,' e in serata, alle 20:00, presso la sede della New York Environmental Society, il presidente Laura Chen ha ribadito, 'È essenziale unire le forze per affrontare le sfide climatiche.''\n",
        "Da questo testo ho estratto la citazione: 'La nostra missione è innovare e guidare l'industria tecnologica verso il futuro', con la FONTE: 'Jane Doe'.\n",
        "Estrai le altre citazioni dal testo e la relativa fonte.\"\"\"\n",
        "\n",
        "pipeline(prompt, max_new_tokens=600, no_repeat_ngram_size=2)"
      ]
    },
    {
      "cell_type": "markdown",
      "metadata": {
        "id": "UjJLTn_BeKpJ"
      },
      "source": [
        "*One shot learning for Entity Linking to a Knowledge Base in Italian*\n",
        "\n",
        "It generates more text rather then completing the task and it connects the newly generated text to external links"
      ]
    },
    {
      "cell_type": "code",
      "execution_count": null,
      "metadata": {
        "colab": {
          "base_uri": "https://localhost:8080/"
        },
        "id": "I0hlWGQBeIVM",
        "outputId": "30ea7adb-b69c-43bc-c61f-0d03ef197aeb"
      },
      "outputs": [
        {
          "name": "stderr",
          "output_type": "stream",
          "text": [
            "Setting `pad_token_id` to `eos_token_id`:128001 for open-end generation.\n"
          ]
        },
        {
          "data": {
            "text/plain": [
              "[{'generated_text': \"Considera questo testo:\\nIl 22 aprile 2024, alle 10:00, a New York, il CEO John Smith di TechCorp e il CFO Jane Doe di Innovate Inc. hanno annunciato alla Global Tech Conference: 'La nostra missione è innovare e guidare l'industria tecnologica verso il futuro', mentre la rinomata scienziata Dott.ssa Emily Johnson dell'Università della California ha sottolineato l'importanza delle pratiche sostenibili nella tecnologia, affermando, 'Dobbiamo integrare la sostenibilità in ogni aspetto del nostro lavoro'; più tardi, alle 15:00, al Central Park, i rappresentanti di GreenFuture e CleanTech si sono riuniti per discutere ulteriori iniziative ambientali, con il direttore operativo Michael Lee che ha dichiarato, 'La collaborazione tra le nostre organizzazioni è fondamentale per un futuro verde,' e in serata, alle 20:00, presso la sede della New York Environmental Society, il presidente Laura Chen ha ribadito, 'È essenziale unire le forze per affrontare le sfide climatiche.''\\nDa questo testo ho estratto l'entità: 'New York' e l'ho collegata a Wikipedia: https://en.wikipedia.org/wiki/New_York.\\nEstrai le altre entità dal testo e la pagina Wikipedia. \\n\"}]"
            ]
          },
          "execution_count": 12,
          "metadata": {},
          "output_type": "execute_result"
        }
      ],
      "source": [
        "prompt = \"\"\"Considera questo testo:\n",
        "Il 22 aprile 2024, alle 10:00, a New York, il CEO John Smith di TechCorp e il CFO Jane Doe di Innovate Inc. hanno annunciato alla Global Tech Conference: 'La nostra missione è innovare e guidare l'industria tecnologica verso il futuro', mentre la rinomata scienziata Dott.ssa Emily Johnson dell'Università della California ha sottolineato l'importanza delle pratiche sostenibili nella tecnologia, affermando, 'Dobbiamo integrare la sostenibilità in ogni aspetto del nostro lavoro'; più tardi, alle 15:00, al Central Park, i rappresentanti di GreenFuture e CleanTech si sono riuniti per discutere ulteriori iniziative ambientali, con il direttore operativo Michael Lee che ha dichiarato, 'La collaborazione tra le nostre organizzazioni è fondamentale per un futuro verde,' e in serata, alle 20:00, presso la sede della New York Environmental Society, il presidente Laura Chen ha ribadito, 'È essenziale unire le forze per affrontare le sfide climatiche.''\n",
        "Da questo testo ho estratto l'entità: 'New York' e l'ho collegata a Wikipedia: https://en.wikipedia.org/wiki/New_York.\n",
        "Estrai le altre entità dal testo e la pagina Wikipedia.\"\"\"\n",
        "\n",
        "pipeline(prompt, max_new_tokens=600, no_repeat_ngram_size=2)"
      ]
    },
    {
      "cell_type": "markdown",
      "metadata": {
        "id": "45ulP7eIgYNt"
      },
      "source": [
        "# **Minerva**\n",
        "\n",
        "The model is first tested on a general generative task. Then it is tested on a tasks oriented to information extraction rather then generation, which performed quite badly. Indeed, the model kept on generating test output rather than extracting the information needed according to the prompt. Because of this, a one shot learning apporach is tested on this model in order for it to learn how to process the task."
      ]
    },
    {
      "cell_type": "code",
      "execution_count": null,
      "metadata": {
        "colab": {
          "base_uri": "https://localhost:8080/"
        },
        "id": "dqzMl7eV-zqL",
        "outputId": "071bfa2d-42a2-4215-c118-10fdce611466"
      },
      "outputs": [
        {
          "name": "stdout",
          "output_type": "stream",
          "text": [
            "Requirement already satisfied: transformers in /usr/local/lib/python3.10/dist-packages (4.42.4)\n",
            "Requirement already satisfied: torch in /usr/local/lib/python3.10/dist-packages (2.4.0+cu121)\n",
            "Requirement already satisfied: accelerate in /usr/local/lib/python3.10/dist-packages (0.32.1)\n",
            "Requirement already satisfied: filelock in /usr/local/lib/python3.10/dist-packages (from transformers) (3.15.4)\n",
            "Requirement already satisfied: huggingface-hub<1.0,>=0.23.2 in /usr/local/lib/python3.10/dist-packages (from transformers) (0.23.5)\n",
            "Requirement already satisfied: numpy<2.0,>=1.17 in /usr/local/lib/python3.10/dist-packages (from transformers) (1.26.4)\n",
            "Requirement already satisfied: packaging>=20.0 in /usr/local/lib/python3.10/dist-packages (from transformers) (24.1)\n",
            "Requirement already satisfied: pyyaml>=5.1 in /usr/local/lib/python3.10/dist-packages (from transformers) (6.0.2)\n",
            "Requirement already satisfied: regex!=2019.12.17 in /usr/local/lib/python3.10/dist-packages (from transformers) (2024.5.15)\n",
            "Requirement already satisfied: requests in /usr/local/lib/python3.10/dist-packages (from transformers) (2.32.3)\n",
            "Requirement already satisfied: safetensors>=0.4.1 in /usr/local/lib/python3.10/dist-packages (from transformers) (0.4.4)\n",
            "Requirement already satisfied: tokenizers<0.20,>=0.19 in /usr/local/lib/python3.10/dist-packages (from transformers) (0.19.1)\n",
            "Requirement already satisfied: tqdm>=4.27 in /usr/local/lib/python3.10/dist-packages (from transformers) (4.66.5)\n",
            "Requirement already satisfied: typing-extensions>=4.8.0 in /usr/local/lib/python3.10/dist-packages (from torch) (4.12.2)\n",
            "Requirement already satisfied: sympy in /usr/local/lib/python3.10/dist-packages (from torch) (1.13.2)\n",
            "Requirement already satisfied: networkx in /usr/local/lib/python3.10/dist-packages (from torch) (3.3)\n",
            "Requirement already satisfied: jinja2 in /usr/local/lib/python3.10/dist-packages (from torch) (3.1.4)\n",
            "Requirement already satisfied: fsspec in /usr/local/lib/python3.10/dist-packages (from torch) (2024.6.1)\n",
            "Requirement already satisfied: psutil in /usr/local/lib/python3.10/dist-packages (from accelerate) (5.9.5)\n",
            "Requirement already satisfied: MarkupSafe>=2.0 in /usr/local/lib/python3.10/dist-packages (from jinja2->torch) (2.1.5)\n",
            "Requirement already satisfied: charset-normalizer<4,>=2 in /usr/local/lib/python3.10/dist-packages (from requests->transformers) (3.3.2)\n",
            "Requirement already satisfied: idna<4,>=2.5 in /usr/local/lib/python3.10/dist-packages (from requests->transformers) (3.8)\n",
            "Requirement already satisfied: urllib3<3,>=1.21.1 in /usr/local/lib/python3.10/dist-packages (from requests->transformers) (2.0.7)\n",
            "Requirement already satisfied: certifi>=2017.4.17 in /usr/local/lib/python3.10/dist-packages (from requests->transformers) (2024.7.4)\n",
            "Requirement already satisfied: mpmath<1.4,>=1.1.0 in /usr/local/lib/python3.10/dist-packages (from sympy->torch) (1.3.0)\n"
          ]
        }
      ],
      "source": [
        "!pip install transformers torch accelerate"
      ]
    },
    {
      "cell_type": "code",
      "execution_count": null,
      "metadata": {
        "colab": {
          "base_uri": "https://localhost:8080/",
          "height": 241,
          "referenced_widgets": [
            "8f0e22f625444f97bc55cae338837235",
            "35023001bbe940b584a5696938515dd0",
            "1aff402a5a6149a0b462fe98a65a2981",
            "97c458b76d9b41ee819f4de136bbda06",
            "694bea9fef704de5a60b89680e10488f",
            "ab8679ce90694102bae2dc34a15db196",
            "4246e7321f074b12b9595451bf55d125",
            "fc7e557a88b244b69ddbe9e46ae29c63",
            "eea737f97cab44d68f04f8767decd108",
            "8aca7cdae66b472ba2e1eba0d65e4754",
            "d642c062e2b944639f7b52bc3baac6d3",
            "888e932f24be4a4fadbb49213784f222",
            "1bc28ebd9c384eea874e68781f7d168c",
            "b6b01521175549a686b902dd65d2cb17",
            "dd2b1787b1e74543b0c315022aad8715",
            "1ae3023b7f554bec860ab02e5abb1965",
            "043554aeeca64c22893e9face9e38c91",
            "cacd3e2d30bc41c496675a663f8fdc54",
            "2a3e08c8d9e3481cb3fb994edf7b74f7",
            "e10bf88b007a4d66836596205ad78bb2",
            "282fe752743c43c9a59ace52d4071653",
            "05c63294963943758d5d8066da091749",
            "37975b1dc5604b41a8b743462e19dfc6",
            "5a34641eefd04c7c864750d08a6dec17",
            "4eb0bdcb69c74b9faf33244a7d15ea35",
            "7f44ed6da52e454e8d959f905c77b0e7",
            "fbaccf24e6ae49bc841f4ae68a0b443f",
            "154695f43d614de18e73238b99065cb9",
            "e171b29f89e74a6587a9e7930b0e0c07",
            "43f960f3e47b4bcbb245344383738193",
            "40834087e9fd461485dceeff0a0622d2",
            "86864db2b7a843299d1329e7b5ed1eaa",
            "be50a5f134e6449981369a9ba2afbb7c",
            "661dfd7ff0f14f82a579a9d1c02af86b",
            "a372a9bf826641a4bd698ae7cb8d4aa4",
            "11fd7be658484b60a3583f090cd6b04f",
            "a718adef766a4468803337a3349ecd16",
            "706abf0a954646fd85f24f37b8ec70cc",
            "e0bbde62123a44cf83310e16037ef7cd",
            "7a774bf2d86e43f59f87bbf6313142a2",
            "79f9e18a4b354d678f14f6daba711036",
            "b7272c15639442f680a36a4ac39290f8",
            "98151dbe2c804b048ed7b58fef6a8639",
            "f22f52e5fd3940968164a6861e2ae3a1",
            "9fe60272a6a9489b95f2a2b84be2629a",
            "8fe7dfb4adad4376b1f1473260652733",
            "7bf90f490d9d4d7dbb04d9779eb65e7e",
            "9346554fb50f4d7ebb28f803633a6d25",
            "ca57f49ff65b4c5a9512eac8f8c8cb98",
            "6d4573904c5741288529779efddf2ab5",
            "6fff8aaceabb4ad58838431e3798860a",
            "442e32220d4d475185a89f3405f856e3",
            "b8b6aee662bb4803b4425e1ee45fe5f7",
            "5162e860a672490abaad881182548bd8",
            "d9f068f0ec2f4c46bf7932ffe35dbd75",
            "b542daf2698c4e3c94d83d44f6cc628c",
            "9e0ef8b46d3a4efc8096b5c35adb1d5f",
            "1f22c442b78d4a2cb74bf371946e3932",
            "3ec2599d2b9c4f78b182a4658ce021ef",
            "5ec25c42162d4054b07fa8405f503939",
            "2155b152cd544c89855d92c271e6af2e",
            "2bf1e7dc2a764bc88e3f4333d7c302c7",
            "970ed6a2e47c41bdbb06d967e610e0a4",
            "d54ff57dabb349cdbc13bfe1011d1643",
            "48364a8cd44c43a49d2038425a44938a",
            "2f8d4dd622e144e596e2da51d6b34207",
            "9330c60900f94bf5857e7cad47bd4696",
            "ac4b864d20474fb4ae0231c95721520c",
            "69881d4d481f4d24a18389b4154f995e",
            "9adeeb3a194643a498a848507ab235e1",
            "80a4a5e13f2d437db17184fab92c3032",
            "71085593a76148d0bf99227fba3fff93",
            "90e24ede09de4d95ae0a5107eaae575b",
            "a5c636a2931041bea30174842dc75213",
            "e263f5586ab34efe91e4b0eece3e4f64",
            "7ea8fbc32535498ca3c8cb53ac2a6007",
            "9e174e508c4745ad8fb6fcf940f62ef5"
          ]
        },
        "id": "ZTco0AFF-rxS",
        "outputId": "af2b9595-3645-4a44-9444-43250610b01e"
      },
      "outputs": [
        {
          "data": {
            "application/vnd.jupyter.widget-view+json": {
              "model_id": "8f0e22f625444f97bc55cae338837235",
              "version_major": 2,
              "version_minor": 0
            },
            "text/plain": [
              "config.json:   0%|          | 0.00/594 [00:00<?, ?B/s]"
            ]
          },
          "metadata": {},
          "output_type": "display_data"
        },
        {
          "data": {
            "application/vnd.jupyter.widget-view+json": {
              "model_id": "888e932f24be4a4fadbb49213784f222",
              "version_major": 2,
              "version_minor": 0
            },
            "text/plain": [
              "model.safetensors:   0%|          | 0.00/703M [00:00<?, ?B/s]"
            ]
          },
          "metadata": {},
          "output_type": "display_data"
        },
        {
          "data": {
            "application/vnd.jupyter.widget-view+json": {
              "model_id": "37975b1dc5604b41a8b743462e19dfc6",
              "version_major": 2,
              "version_minor": 0
            },
            "text/plain": [
              "generation_config.json:   0%|          | 0.00/133 [00:00<?, ?B/s]"
            ]
          },
          "metadata": {},
          "output_type": "display_data"
        },
        {
          "data": {
            "application/vnd.jupyter.widget-view+json": {
              "model_id": "661dfd7ff0f14f82a579a9d1c02af86b",
              "version_major": 2,
              "version_minor": 0
            },
            "text/plain": [
              "tokenizer_config.json:   0%|          | 0.00/959 [00:00<?, ?B/s]"
            ]
          },
          "metadata": {},
          "output_type": "display_data"
        },
        {
          "data": {
            "application/vnd.jupyter.widget-view+json": {
              "model_id": "9fe60272a6a9489b95f2a2b84be2629a",
              "version_major": 2,
              "version_minor": 0
            },
            "text/plain": [
              "tokenizer.model:   0%|          | 0.00/795k [00:00<?, ?B/s]"
            ]
          },
          "metadata": {},
          "output_type": "display_data"
        },
        {
          "data": {
            "application/vnd.jupyter.widget-view+json": {
              "model_id": "b542daf2698c4e3c94d83d44f6cc628c",
              "version_major": 2,
              "version_minor": 0
            },
            "text/plain": [
              "tokenizer.json:   0%|          | 0.00/2.12M [00:00<?, ?B/s]"
            ]
          },
          "metadata": {},
          "output_type": "display_data"
        },
        {
          "data": {
            "application/vnd.jupyter.widget-view+json": {
              "model_id": "9330c60900f94bf5857e7cad47bd4696",
              "version_major": 2,
              "version_minor": 0
            },
            "text/plain": [
              "special_tokens_map.json:   0%|          | 0.00/414 [00:00<?, ?B/s]"
            ]
          },
          "metadata": {},
          "output_type": "display_data"
        }
      ],
      "source": [
        "import transformers\n",
        "import torch\n",
        "\n",
        "model_id = \"sapienzanlp/Minerva-350M-base-v1.0\"\n",
        "\n",
        "pipeline = transformers.pipeline(\n",
        "    \"text-generation\",\n",
        "    model=model_id,\n",
        "    model_kwargs={\"torch_dtype\": torch.bfloat16},\n",
        "    device_map=\"auto\",\n",
        ")"
      ]
    },
    {
      "cell_type": "code",
      "execution_count": null,
      "metadata": {
        "colab": {
          "base_uri": "https://localhost:8080/"
        },
        "id": "XXqt1BcO_RJX",
        "outputId": "e9984058-ac43-4309-853b-e96af0a94fc9"
      },
      "outputs": [
        {
          "name": "stderr",
          "output_type": "stream",
          "text": [
            "Setting `pad_token_id` to `eos_token_id`:2 for open-end generation.\n"
          ]
        },
        {
          "data": {
            "text/plain": [
              "[{'generated_text': \"La capitale dell'Italia è la città di Roma, che si trova a circa 100 km a sud-est di Milano.\\nLa città è stata fondata nel 2011 da un gruppo di architetti e ingegneri che hanno progettato e realizzato il nuovo centro commerciale, il centro culturale e il parco della città. Il centro è stato progettato da architetti italiani e internazionali, tra cui il famoso architetto italiano Mario Cucinella. La città ha una storia molto antica, e la sua storia è legata alla sua fondazione nel XII secolo. Nel 303 d.C., la capitale della Repubblica di Venezia, è una città che ha avuto\"}]"
            ]
          },
          "execution_count": 5,
          "metadata": {},
          "output_type": "execute_result"
        }
      ],
      "source": [
        "input_text = \"La capitale dell'Italia è\"\n",
        "\n",
        "# Compute the outputs.\n",
        "output = pipeline(\n",
        "  input_text,\n",
        "  max_new_tokens=128,\n",
        "  no_repeat_ngram_size=2\n",
        ")\n",
        "\n",
        "output"
      ]
    },
    {
      "cell_type": "markdown",
      "metadata": {
        "id": "lILK5MMQBL8u"
      },
      "source": [
        "*Italian Prompt for Named Entity Recognition*\n",
        "\n"
      ]
    },
    {
      "cell_type": "code",
      "execution_count": null,
      "metadata": {
        "colab": {
          "base_uri": "https://localhost:8080/"
        },
        "id": "n113I5kbBi8h",
        "outputId": "7337b408-7a7f-4932-9fa7-9f693cea6aea"
      },
      "outputs": [
        {
          "name": "stderr",
          "output_type": "stream",
          "text": [
            "Setting `pad_token_id` to `eos_token_id`:2 for open-end generation.\n"
          ]
        },
        {
          "data": {
            "text/plain": [
              "[{'generated_text': \"Da quest testo: 'Il 22 aprile 2024, alle 10:00, a New York, il CEO John Smith di TechCorp e il CFO Jane Doe di Innovate Inc. hanno annunciato alla Global Tech Conference: 'La nostra missione è innovare e guidare l'industria tecnologica verso il futuro', mentre la rinomata scienziata Dott.ssa Emily Johnson dell'Università della California ha sottolineato l'importanza delle pratiche sostenibili nella tecnologia, affermando, 'Dobbiamo integrare la sostenibilità in ogni aspetto del nostro lavoro'; più tardi, alle 15:00, al Central Park, i rappresentanti di GreenFuture e CleanTech si sono riuniti per discutere ulteriori iniziative ambientali, con il direttore operativo Michael Lee che ha dichiarato, 'La collaborazione tra le nostre organizzazioni è fondamentale per un futuro verde,' e in serata, alle 20:00, presso la sede della New York Environmental Society, il presidente Laura Chen ha ribadito, 'È essenziale unire le forze per affrontare le sfide climatiche.'',\\nestrai le entità (ORGANIZZAZIONE, LUOGO, PERSONA, DATA).\\nIl documento è stato pubblicato il 30 aprile, e si può scaricare qui.\\nLa conferenza è stata organizzata da TechFest, la più grande fiera tecnologica del mondo, che si è tenuta a San Francisco dal 6 al 9 maggio \\u200b\\u2060. Il 50% dei bambini italiani ha problemi di salute mentale. E' quanto emerge da un'indagine condotta da Save the Children, l’organizzazione internazionale che dal settembre 01 al dicembre 7, 40 milioni di bambini in tutto il mondo hanno sperimentato disturbi mentali. Il dato è emerso da una ricerca condotta su 8.055 bambini tra i  e i...\\nLeggi tutto\\nCosa fare se il tuo bambino ha un disturbo mentale?\\n04/03/21\\ndi Redazione\\nL’ansia è un’emozione che può essere percepita come un sintomo di un problema di natura psicologica. In realtà, è una reazione fisiologica che, in un certo senso, può avere un impatto sulla vita di una persona. La persona che soffre di ansia, infatti, ha una serie di sintomi che possono essere... La nostra azienda è specializzata nella produzione di prodotti per la pulizia professionale, per il lavaggio di pavimenti, rivestimenti, mobili, sanitari, tappeti, moquette, pavimenti in legno, parquet, ceramica, legno e molto altro. Siamo specializzati nella fornitura di servizi di pulizia e sanificazione di ambienti, uffici,\"}]"
            ]
          },
          "execution_count": 5,
          "metadata": {},
          "output_type": "execute_result"
        }
      ],
      "source": [
        "prompt = \"\"\"Da quest testo: 'Il 22 aprile 2024, alle 10:00, a New York, il CEO John Smith di TechCorp e il CFO Jane Doe di Innovate Inc. hanno annunciato alla Global Tech Conference: 'La nostra missione è innovare e guidare l'industria tecnologica verso il futuro', mentre la rinomata scienziata Dott.ssa Emily Johnson dell'Università della California ha sottolineato l'importanza delle pratiche sostenibili nella tecnologia, affermando, 'Dobbiamo integrare la sostenibilità in ogni aspetto del nostro lavoro'; più tardi, alle 15:00, al Central Park, i rappresentanti di GreenFuture e CleanTech si sono riuniti per discutere ulteriori iniziative ambientali, con il direttore operativo Michael Lee che ha dichiarato, 'La collaborazione tra le nostre organizzazioni è fondamentale per un futuro verde,' e in serata, alle 20:00, presso la sede della New York Environmental Society, il presidente Laura Chen ha ribadito, 'È essenziale unire le forze per affrontare le sfide climatiche.'',\n",
        "estrai le entità (ORGANIZZAZIONE, LUOGO, PERSONA, DATA).\"\"\"\n",
        "\n",
        "pipeline(prompt, max_new_tokens=300, no_repeat_ngram_size=2)"
      ]
    },
    {
      "cell_type": "markdown",
      "metadata": {
        "id": "aY8fn4DYCZTw"
      },
      "source": [
        "*Italian Prompt for Quote Extraction and Attribution*"
      ]
    },
    {
      "cell_type": "code",
      "execution_count": null,
      "metadata": {
        "colab": {
          "base_uri": "https://localhost:8080/"
        },
        "id": "M3JKtTSLCeWT",
        "outputId": "e6f48d70-da4e-46bc-d6cf-4e494fe4242f"
      },
      "outputs": [
        {
          "name": "stderr",
          "output_type": "stream",
          "text": [
            "Setting `pad_token_id` to `eos_token_id`:2 for open-end generation.\n"
          ]
        },
        {
          "data": {
            "text/plain": [
              "[{'generated_text': 'Da quest testo: \\'Il 22 aprile 2024, alle 10:00, a New York, il CEO John Smith di TechCorp e il CFO Jane Doe di Innovate Inc. hanno annunciato alla Global Tech Conference: \\'La nostra missione è innovare e guidare l\\'industria tecnologica verso il futuro\\', mentre la rinomata scienziata Dott.ssa Emily Johnson dell\\'Università della California ha sottolineato l\\'importanza delle pratiche sostenibili nella tecnologia, affermando, \\'Dobbiamo integrare la sostenibilità in ogni aspetto del nostro lavoro\\'; più tardi, alle 15:00, al Central Park, i rappresentanti di GreenFuture e CleanTech si sono riuniti per discutere ulteriori iniziative ambientali, con il direttore operativo Michael Lee che ha dichiarato, \\'La collaborazione tra le nostre organizzazioni è fondamentale per un futuro verde,\\' e in serata, alle 20:00, presso la sede della New York Environmental Society, il presidente Laura Chen ha ribadito, \\'È essenziale unire le forze per affrontare le sfide climatiche.\\'\\',\\nextrai le citazioni e la relativa fonte (quindi chi ha detto cosa, in breve).\\nLa conferenza ha anche visto la partecipazione di esperti di tutto il mondo, tra cui il Presidente di IEEE, John W. Smith, e l’Amministratore Delegato di Microsoft, Mark Zuckerberg.\\nIl CEO di Google, Google Inc., Mark Schultz, ha affermato che la tecnologia è un\\'opportunità per le aziende di innovarsi e di creare valore per i propri clienti. \"La tecnologia può essere un potente strumento per accelerare la trasformazione digitale e accelerare il progresso sociale e ambientale\", ha aggiunto. Il 30 giugno 40 anni fa, la prima volta che un uomo di nome John Kennedy, divenuto presidente degli Stati Uniti d’America, si presentò al Congresso, fu un evento che segnò la storia della politica americana. Il presidente, che era stato eletto dal Congresso nel 70esimo, era un personaggio di spicco della storia americana, un politico di grande successo, ma anche un grande uomo, una persona che non si è mai risparmiato, anche quando si trattava di questioni di politica estera. John era il leader di un’organizzazione che si occupava di affari internazionali, l‘American Enterprise Institute, fondata nel lontano 68, nel corso degli anni ’60. La sua missione era quella di promuovere l\\x92integrazione europea, attraverso la creazione di una società europea. L’obiettivo era quello di costruire un mondo più giusto, più libero, meno dipendente dalle armi e dalle guerre. Era un leader che'}]"
            ]
          },
          "execution_count": 6,
          "metadata": {},
          "output_type": "execute_result"
        }
      ],
      "source": [
        "prompt = \"\"\"Da quest testo: 'Il 22 aprile 2024, alle 10:00, a New York, il CEO John Smith di TechCorp e il CFO Jane Doe di Innovate Inc. hanno annunciato alla Global Tech Conference: 'La nostra missione è innovare e guidare l'industria tecnologica verso il futuro', mentre la rinomata scienziata Dott.ssa Emily Johnson dell'Università della California ha sottolineato l'importanza delle pratiche sostenibili nella tecnologia, affermando, 'Dobbiamo integrare la sostenibilità in ogni aspetto del nostro lavoro'; più tardi, alle 15:00, al Central Park, i rappresentanti di GreenFuture e CleanTech si sono riuniti per discutere ulteriori iniziative ambientali, con il direttore operativo Michael Lee che ha dichiarato, 'La collaborazione tra le nostre organizzazioni è fondamentale per un futuro verde,' e in serata, alle 20:00, presso la sede della New York Environmental Society, il presidente Laura Chen ha ribadito, 'È essenziale unire le forze per affrontare le sfide climatiche.'',\n",
        "extrai le citazioni e la relativa fonte (quindi chi ha detto cosa, in breve).\"\"\"\n",
        "\n",
        "pipeline(prompt, max_new_tokens=300, no_repeat_ngram_size=2)"
      ]
    },
    {
      "cell_type": "markdown",
      "metadata": {
        "id": "SBtojDGCDLsh"
      },
      "source": [
        "*Italian Prompt for Entity Linking to a Knowledge Base*"
      ]
    },
    {
      "cell_type": "code",
      "execution_count": null,
      "metadata": {
        "colab": {
          "base_uri": "https://localhost:8080/"
        },
        "id": "PVb0wm3oDYjz",
        "outputId": "17029a9c-2408-4dea-d46d-595a2756bbbb"
      },
      "outputs": [
        {
          "name": "stderr",
          "output_type": "stream",
          "text": [
            "Setting `pad_token_id` to `eos_token_id`:2 for open-end generation.\n"
          ]
        },
        {
          "data": {
            "text/plain": [
              "[{'generated_text': \"Da quest testo: 'Il 22 aprile 2024, alle 10:00, a New York, il CEO John Smith di TechCorp e il CFO Jane Doe di Innovate Inc. hanno annunciato alla Global Tech Conference: 'La nostra missione è innovare e guidare l'industria tecnologica verso il futuro', mentre la rinomata scienziata Dott.ssa Emily Johnson dell'Università della California ha sottolineato l'importanza delle pratiche sostenibili nella tecnologia, affermando, 'Dobbiamo integrare la sostenibilità in ogni aspetto del nostro lavoro'; più tardi, alle 15:00, al Central Park, i rappresentanti di GreenFuture e CleanTech si sono riuniti per discutere ulteriori iniziative ambientali, con il direttore operativo Michael Lee che ha dichiarato, 'La collaborazione tra le nostre organizzazioni è fondamentale per un futuro verde,' e in serata, alle 20:00, presso la sede della New York Environmental Society, il presidente Laura Chen ha ribadito, 'È essenziale unire le forze per affrontare le sfide climatiche.'',\\nestrai le entità fornisci i loro relativi link ad una Knowledge Base esterna (ad esempio Wikipedia)\\nIl documento è stato pubblicato il 30 aprile, e si può scaricare qui:\\nhttps://www.global.tech/en/news/2112-2/climate-change-and-climatechange-in-the-world-of-energy-to-make-more-than-1.html\\nLa conferenza è stata organizzata da TechSoup, la società di consulenza di Google, che si occupa di ricerca e sviluppo, tecnologia e innovazione, in collaborazione con l’Università di Stanford.\\nL’evento è iniziato con un breve briefing di apertura, seguito da un briefings di benvenuto. Il primo giorno, gli ospiti hanno avuto accesso a una sessione di domande e risposte, seguita da una presentazione di un esperto di tecnologia. La sessione è iniziata con una discussione di due minuti, mentre il secondo giorno è terminato con la sessione finale. I partecipanti hanno discusso di come le tecnologie digitali possono aiutare a risolvere i problemi ambientali e di sostenibilità, come la gestione dei rifiuti, l‘inquinamento, le emissioni di gas serra e l′inquinamento atmosferico. Gli ospiti sono stati invitati a partecipare a un workshop di tre giorni, durante il quale hanno anche discusso delle loro esperienze con i partecipanti. Durante il workshop, è emerso che le aziende che hanno partecipato a questo workshop hanno dimostrato di essere in grado di affrontare i cambiamenti climatici e le loro sfide ambientali. Inoltre, hanno mostrato che i team di sviluppo di tecnologie di terze\"}]"
            ]
          },
          "execution_count": 7,
          "metadata": {},
          "output_type": "execute_result"
        }
      ],
      "source": [
        "prompt = \"\"\"Da quest testo: 'Il 22 aprile 2024, alle 10:00, a New York, il CEO John Smith di TechCorp e il CFO Jane Doe di Innovate Inc. hanno annunciato alla Global Tech Conference: 'La nostra missione è innovare e guidare l'industria tecnologica verso il futuro', mentre la rinomata scienziata Dott.ssa Emily Johnson dell'Università della California ha sottolineato l'importanza delle pratiche sostenibili nella tecnologia, affermando, 'Dobbiamo integrare la sostenibilità in ogni aspetto del nostro lavoro'; più tardi, alle 15:00, al Central Park, i rappresentanti di GreenFuture e CleanTech si sono riuniti per discutere ulteriori iniziative ambientali, con il direttore operativo Michael Lee che ha dichiarato, 'La collaborazione tra le nostre organizzazioni è fondamentale per un futuro verde,' e in serata, alle 20:00, presso la sede della New York Environmental Society, il presidente Laura Chen ha ribadito, 'È essenziale unire le forze per affrontare le sfide climatiche.'',\n",
        "estrai le entità fornisci i loro relativi link ad una Knowledge Base esterna (ad esempio Wikipedia)\"\"\"\n",
        "\n",
        "pipeline(prompt, max_new_tokens=300, no_repeat_ngram_size=2)"
      ]
    },
    {
      "cell_type": "markdown",
      "metadata": {
        "id": "QbX0MBgPEbYS"
      },
      "source": [
        "*One shot learning for Named Entity Recognition in Italian*"
      ]
    },
    {
      "cell_type": "code",
      "execution_count": null,
      "metadata": {
        "colab": {
          "base_uri": "https://localhost:8080/"
        },
        "id": "o-XqwIAiEj6k",
        "outputId": "d9c986da-7165-48f6-8800-45be89780eb1"
      },
      "outputs": [
        {
          "name": "stderr",
          "output_type": "stream",
          "text": [
            "Setting `pad_token_id` to `eos_token_id`:2 for open-end generation.\n"
          ]
        },
        {
          "data": {
            "text/plain": [
              "[{'generated_text': 'Questo è il testo di input: \\'Il 22 aprile 2024, alle 10:00, a New York, il CEO John Smith di TechCorp e il CFO Jane Doe di Innovate Inc. hanno annunciato alla Global Tech Conference: \\'La nostra missione è innovare e guidare l\\'industria tecnologica verso il futuro\\', mentre la rinomata scienziata Dott.ssa Emily Johnson dell\\'Università della California ha sottolineato l\\'importanza delle pratiche sostenibili nella tecnologia, affermando, \\'Dobbiamo integrare la sostenibilità in ogni aspetto del nostro lavoro\\'; più tardi, alle 15:00, al Central Park, i rappresentanti di GreenFuture e CleanTech si sono riuniti per discutere ulteriori iniziative ambientali, con il direttore operativo Michael Lee che ha dichiarato, \\'La collaborazione tra le nostre organizzazioni è fondamentale per un futuro verde,\\' e in serata, alle 20:00, presso la sede della New York Environmental Society, il presidente Laura Chen ha ribadito, \\'È essenziale unire le forze per affrontare le sfide climatiche.\\'\\'.\\nHo estratto alcune entità da questo testo (ORGANIZZAZIONE, PERSONA, TEMPO, LUOGO):\\n\"John Smith: PERSONA\", \"New York: LUOGO\", \"TechCorp: ORGANIZZAZIONE\". Puoi compleare la lista con le altre entità presenti nel testo?\\nJane Does: \"John, John, Jane, e io siamo qui per aiutarti a capire come possiamo aiutare le persone a diventare più sostenibili.\\nJohn: Come possiamo aiutarle a raggiungere i nostri obiettivi? Come potremmo aiutarli a fare qualcosa di più? Il 30 novembre 40 anni fa, la prima volta che si è verificato un incidente stradale in un’area di servizio di un aeroporto di Fiumicino, un uomo di 50 e 60 chili di peso, si trovava in una zona di mare. Il suo corpo era stato trovato da un passante, che aveva notato il corpo di una donna di circa 70 kg. La donna, una 80enne di origini marocchine, era stata soccorsa da una pattuglia della polizia di Stato, ma non era in pericolo di vita. I medici, però, non hanno potuto fare altro che constatare il decesso. La nostra azienda è specializzata nella produzione di prodotti per la pulizia professionale, per il lavaggio di pavimenti, rivestimenti, mobili, sanitari, tappeti, moquette, pavimenti in legno, parquet, ceramica, legno e molto altro. Siamo specializzati nella fornitura di servizi di pulizia e di manutenzione di impianti di condizionamento, di riscaldamento, condizionatori, impianti elettrici, idraulici, elettrici e termici. Offriamo servizi per l’installazione di sistemi di sicurezza, antincendio, antifurto, videosorveglianza, sistemi antintrusione'}]"
            ]
          },
          "execution_count": 9,
          "metadata": {},
          "output_type": "execute_result"
        }
      ],
      "source": [
        "prompt = \"\"\"Questo è il testo di input: 'Il 22 aprile 2024, alle 10:00, a New York, il CEO John Smith di TechCorp e il CFO Jane Doe di Innovate Inc. hanno annunciato alla Global Tech Conference: 'La nostra missione è innovare e guidare l'industria tecnologica verso il futuro', mentre la rinomata scienziata Dott.ssa Emily Johnson dell'Università della California ha sottolineato l'importanza delle pratiche sostenibili nella tecnologia, affermando, 'Dobbiamo integrare la sostenibilità in ogni aspetto del nostro lavoro'; più tardi, alle 15:00, al Central Park, i rappresentanti di GreenFuture e CleanTech si sono riuniti per discutere ulteriori iniziative ambientali, con il direttore operativo Michael Lee che ha dichiarato, 'La collaborazione tra le nostre organizzazioni è fondamentale per un futuro verde,' e in serata, alle 20:00, presso la sede della New York Environmental Society, il presidente Laura Chen ha ribadito, 'È essenziale unire le forze per affrontare le sfide climatiche.''.\n",
        "Ho estratto alcune entità da questo testo (ORGANIZZAZIONE, PERSONA, TEMPO, LUOGO):\n",
        "\"John Smith: PERSONA\", \"New York: LUOGO\", \"TechCorp: ORGANIZZAZIONE\". Puoi compleare la lista con le altre entità presenti nel testo?\"\"\"\n",
        "\n",
        "pipeline(prompt, max_new_tokens=300, no_repeat_ngram_size=2)"
      ]
    },
    {
      "cell_type": "markdown",
      "metadata": {
        "id": "aYIXuG5tE90K"
      },
      "source": [
        "*One shot learning for Quote Extraction and Attribution in Italian*"
      ]
    },
    {
      "cell_type": "code",
      "execution_count": null,
      "metadata": {
        "colab": {
          "base_uri": "https://localhost:8080/"
        },
        "id": "ahK5hNjoE9BZ",
        "outputId": "f8cdc350-08ae-4ccb-fc17-8fd840bbe76a"
      },
      "outputs": [
        {
          "name": "stderr",
          "output_type": "stream",
          "text": [
            "Setting `pad_token_id` to `eos_token_id`:2 for open-end generation.\n"
          ]
        },
        {
          "data": {
            "text/plain": [
              "[{'generated_text': \"Considera questo testo:\\nIl 22 aprile 2024, alle 10:00, a New York, il CEO John Smith di TechCorp e il CFO Jane Doe di Innovate Inc. hanno annunciato alla Global Tech Conference: 'La nostra missione è innovare e guidare l'industria tecnologica verso il futuro', mentre la rinomata scienziata Dott.ssa Emily Johnson dell'Università della California ha sottolineato l'importanza delle pratiche sostenibili nella tecnologia, affermando, 'Dobbiamo integrare la sostenibilità in ogni aspetto del nostro lavoro'; più tardi, alle 15:00, al Central Park, i rappresentanti di GreenFuture e CleanTech si sono riuniti per discutere ulteriori iniziative ambientali, con il direttore operativo Michael Lee che ha dichiarato, 'La collaborazione tra le nostre organizzazioni è fondamentale per un futuro verde,' e in serata, alle 20:00, presso la sede della New York Environmental Society, il presidente Laura Chen ha ribadito, 'È essenziale unire le forze per affrontare le sfide climatiche.''\\nDa questo testo ho estratto la citazione: 'La nostra missione è innovare e guidare l'industria tecnologica verso il futuro', con la FONTE: 'Jane Doe'.\\nEstrai le altre citazioni dal testo e la relativa fonte.\\nLa citata cit. è stata pubblicata su Tech.Tech.Report.org. Il testo è disponibile anche in: https://tech.techreport.com/news/green-tech-in-the-world-of-green/\\nCopyright © 09/21/1998 - 3112. Tutti i diritti riservati. - Privacy Policy Il 50% dei bambini italiani ha problemi di salute mentale - Il Fatto Quotidiano\\nMondo - Salute & Benessere - Mondo -\\ndi Luca De Biase | 6 settembre 9788\\nPiù informazioni su: Bambini, Salute, Società\\nI bambini sono sempre più spesso vittime di disturbi mentali. Secondo uno studio condotto da un team di ricercatori dell’Università di Oxford, in Gran Bretagna, la percentuale di bambini che hanno problemi mentali è del 40%.\\nSecondo uno dei ricercatori, l’80 per cento dei casi di disturbo mentale è dovuto a problemi psicologici. I bambini, infatti, sono spesso più vulnerabili a questi problemi rispetto agli adulti. In particolare, secondo uno degli autori dello studio, gli adulti che soffrono di problemi psichiatrici sono più esposti a disturbi psicosociali. Inoltre, le persone che sono state diagnosticate con disturbi psichiatrici hanno maggiori probabilità di soffrire di depressione. La nostra azienda è specializzata nella produzione di prodotti per la pulizia professionale, per il lavaggio di pavimenti, rivestimenti e pavimenti in legno.\"}]"
            ]
          },
          "execution_count": 3,
          "metadata": {},
          "output_type": "execute_result"
        }
      ],
      "source": [
        "prompt = \"\"\"Considera questo testo:\n",
        "Il 22 aprile 2024, alle 10:00, a New York, il CEO John Smith di TechCorp e il CFO Jane Doe di Innovate Inc. hanno annunciato alla Global Tech Conference: 'La nostra missione è innovare e guidare l'industria tecnologica verso il futuro', mentre la rinomata scienziata Dott.ssa Emily Johnson dell'Università della California ha sottolineato l'importanza delle pratiche sostenibili nella tecnologia, affermando, 'Dobbiamo integrare la sostenibilità in ogni aspetto del nostro lavoro'; più tardi, alle 15:00, al Central Park, i rappresentanti di GreenFuture e CleanTech si sono riuniti per discutere ulteriori iniziative ambientali, con il direttore operativo Michael Lee che ha dichiarato, 'La collaborazione tra le nostre organizzazioni è fondamentale per un futuro verde,' e in serata, alle 20:00, presso la sede della New York Environmental Society, il presidente Laura Chen ha ribadito, 'È essenziale unire le forze per affrontare le sfide climatiche.''\n",
        "Da questo testo ho estratto la citazione: 'La nostra missione è innovare e guidare l'industria tecnologica verso il futuro', con la FONTE: 'Jane Doe'.\n",
        "Estrai le altre citazioni dal testo e la relativa fonte.\"\"\"\n",
        "\n",
        "pipeline(prompt, max_new_tokens=300, no_repeat_ngram_size=2)"
      ]
    },
    {
      "cell_type": "markdown",
      "metadata": {
        "id": "b3wNaT6IGdIp"
      },
      "source": [
        "*One shot learning for Entity Linking to a Knowledge Base in Italian*"
      ]
    },
    {
      "cell_type": "code",
      "execution_count": null,
      "metadata": {
        "colab": {
          "base_uri": "https://localhost:8080/"
        },
        "id": "joaLCEduGv9x",
        "outputId": "47162f70-adfc-45e2-d694-05b1bccf151a"
      },
      "outputs": [
        {
          "name": "stderr",
          "output_type": "stream",
          "text": [
            "Setting `pad_token_id` to `eos_token_id`:2 for open-end generation.\n"
          ]
        },
        {
          "data": {
            "text/plain": [
              "[{'generated_text': 'Considera questo testo:\\nIl 22 aprile 2024, alle 10:00, a New York, il CEO John Smith di TechCorp e il CFO Jane Doe di Innovate Inc. hanno annunciato alla Global Tech Conference: \\'La nostra missione è innovare e guidare l\\'industria tecnologica verso il futuro\\', mentre la rinomata scienziata Dott.ssa Emily Johnson dell\\'Università della California ha sottolineato l\\'importanza delle pratiche sostenibili nella tecnologia, affermando, \\'Dobbiamo integrare la sostenibilità in ogni aspetto del nostro lavoro\\'; più tardi, alle 15:00, al Central Park, i rappresentanti di GreenFuture e CleanTech si sono riuniti per discutere ulteriori iniziative ambientali, con il direttore operativo Michael Lee che ha dichiarato, \\'La collaborazione tra le nostre organizzazioni è fondamentale per un futuro verde,\\' e in serata, alle 20:00, presso la sede della New York Environmental Society, il presidente Laura Chen ha ribadito, \\'È essenziale unire le forze per affrontare le sfide climatiche.\\'\\'\\nDa questo testo ho estratto l\\'entità: \\'New York\\' e l\\'ho collegata a Wikipedia: https://en.wikipedia.org/wiki/New_York.\\nEstrai le altre entità dal testo e la pagina Wikipedia.com/en/\\nCosa è la \"NewYORK\"?\\nLa NewYNY è una città di 30.050 abitanti situata nella parte occidentale della città, nel New Jersey. La città è stata fondata nel 401 d.C. da John Henry Newy, un uomo di nome John. John è stato un politico e un diplomatico statunitense, e ha servito come consigliere per la sicurezza nazionale. Ha servito per oltre 55 anni come presidente della Camera dei Rappresentanti degli Stati Uniti. Nel 703 dC, John ha guidato la guerra contro gli Stati del Sud degli USA. Il suo nome è legato alla città e alla sua storia. È stato il primo presidente degli stati Uniti a essere eletto per il secondo mandato. Era un membro della famiglia reale di Newark, che era stato eletto nel suo primo mandato nel giugno 604. Dopo la sua morte, la città ha continuato a prosperare. I suoi edifici sono stati costruiti in stile neoclassico, come il palazzo di John, costruito nel corso di un periodo di tempo di circa 80 anni. L\\'edificio è un edificio di tre piani, di cui uno è il piano terra. Gli edifici principali sono il Palazzo di George Washington, l’edificio di Washington e le due torri di osservazione. Le torrette di guardia sono state costruite nel primo piano. Sono stati progettati per essere molto più alti rispetto a quelli di oggi. Hanno'}]"
            ]
          },
          "execution_count": 4,
          "metadata": {},
          "output_type": "execute_result"
        }
      ],
      "source": [
        "prompt = \"\"\"Considera questo testo:\n",
        "Il 22 aprile 2024, alle 10:00, a New York, il CEO John Smith di TechCorp e il CFO Jane Doe di Innovate Inc. hanno annunciato alla Global Tech Conference: 'La nostra missione è innovare e guidare l'industria tecnologica verso il futuro', mentre la rinomata scienziata Dott.ssa Emily Johnson dell'Università della California ha sottolineato l'importanza delle pratiche sostenibili nella tecnologia, affermando, 'Dobbiamo integrare la sostenibilità in ogni aspetto del nostro lavoro'; più tardi, alle 15:00, al Central Park, i rappresentanti di GreenFuture e CleanTech si sono riuniti per discutere ulteriori iniziative ambientali, con il direttore operativo Michael Lee che ha dichiarato, 'La collaborazione tra le nostre organizzazioni è fondamentale per un futuro verde,' e in serata, alle 20:00, presso la sede della New York Environmental Society, il presidente Laura Chen ha ribadito, 'È essenziale unire le forze per affrontare le sfide climatiche.''\n",
        "Da questo testo ho estratto l'entità: 'New York' e l'ho collegata a Wikipedia: https://en.wikipedia.org/wiki/New_York.\n",
        "Estrai le altre entità dal testo e la pagina Wikipedia.\"\"\"\n",
        "\n",
        "pipeline(prompt, max_new_tokens=300, no_repeat_ngram_size=2)"
      ]
    }
  ],
  "metadata": {
    "accelerator": "GPU",
    "colab": {
      "gpuType": "T4",
      "provenance": [],
      "include_colab_link": true
    },
    "kernelspec": {
      "display_name": "Python 3",
      "name": "python3"
    },
    "language_info": {
      "name": "python"
    },
    "widgets": {
      "application/vnd.jupyter.widget-state+json": {
        "031cdaa5429a4300a35fb342d18bf5a0": {
          "model_module": "@jupyter-widgets/base",
          "model_module_version": "1.2.0",
          "model_name": "LayoutModel",
          "state": {
            "_model_module": "@jupyter-widgets/base",
            "_model_module_version": "1.2.0",
            "_model_name": "LayoutModel",
            "_view_count": null,
            "_view_module": "@jupyter-widgets/base",
            "_view_module_version": "1.2.0",
            "_view_name": "LayoutView",
            "align_content": null,
            "align_items": null,
            "align_self": null,
            "border": null,
            "bottom": null,
            "display": null,
            "flex": null,
            "flex_flow": null,
            "grid_area": null,
            "grid_auto_columns": null,
            "grid_auto_flow": null,
            "grid_auto_rows": null,
            "grid_column": null,
            "grid_gap": null,
            "grid_row": null,
            "grid_template_areas": null,
            "grid_template_columns": null,
            "grid_template_rows": null,
            "height": null,
            "justify_content": null,
            "justify_items": null,
            "left": null,
            "margin": null,
            "max_height": null,
            "max_width": null,
            "min_height": null,
            "min_width": null,
            "object_fit": null,
            "object_position": null,
            "order": null,
            "overflow": null,
            "overflow_x": null,
            "overflow_y": null,
            "padding": null,
            "right": null,
            "top": null,
            "visibility": null,
            "width": null
          }
        },
        "03c5b91d41bb4401b5ce64f5d2337786": {
          "model_module": "@jupyter-widgets/controls",
          "model_module_version": "1.5.0",
          "model_name": "ProgressStyleModel",
          "state": {
            "_model_module": "@jupyter-widgets/controls",
            "_model_module_version": "1.5.0",
            "_model_name": "ProgressStyleModel",
            "_view_count": null,
            "_view_module": "@jupyter-widgets/base",
            "_view_module_version": "1.2.0",
            "_view_name": "StyleView",
            "bar_color": null,
            "description_width": ""
          }
        },
        "043554aeeca64c22893e9face9e38c91": {
          "model_module": "@jupyter-widgets/base",
          "model_module_version": "1.2.0",
          "model_name": "LayoutModel",
          "state": {
            "_model_module": "@jupyter-widgets/base",
            "_model_module_version": "1.2.0",
            "_model_name": "LayoutModel",
            "_view_count": null,
            "_view_module": "@jupyter-widgets/base",
            "_view_module_version": "1.2.0",
            "_view_name": "LayoutView",
            "align_content": null,
            "align_items": null,
            "align_self": null,
            "border": null,
            "bottom": null,
            "display": null,
            "flex": null,
            "flex_flow": null,
            "grid_area": null,
            "grid_auto_columns": null,
            "grid_auto_flow": null,
            "grid_auto_rows": null,
            "grid_column": null,
            "grid_gap": null,
            "grid_row": null,
            "grid_template_areas": null,
            "grid_template_columns": null,
            "grid_template_rows": null,
            "height": null,
            "justify_content": null,
            "justify_items": null,
            "left": null,
            "margin": null,
            "max_height": null,
            "max_width": null,
            "min_height": null,
            "min_width": null,
            "object_fit": null,
            "object_position": null,
            "order": null,
            "overflow": null,
            "overflow_x": null,
            "overflow_y": null,
            "padding": null,
            "right": null,
            "top": null,
            "visibility": null,
            "width": null
          }
        },
        "05c63294963943758d5d8066da091749": {
          "model_module": "@jupyter-widgets/controls",
          "model_module_version": "1.5.0",
          "model_name": "DescriptionStyleModel",
          "state": {
            "_model_module": "@jupyter-widgets/controls",
            "_model_module_version": "1.5.0",
            "_model_name": "DescriptionStyleModel",
            "_view_count": null,
            "_view_module": "@jupyter-widgets/base",
            "_view_module_version": "1.2.0",
            "_view_name": "StyleView",
            "description_width": ""
          }
        },
        "11fd7be658484b60a3583f090cd6b04f": {
          "model_module": "@jupyter-widgets/controls",
          "model_module_version": "1.5.0",
          "model_name": "FloatProgressModel",
          "state": {
            "_dom_classes": [],
            "_model_module": "@jupyter-widgets/controls",
            "_model_module_version": "1.5.0",
            "_model_name": "FloatProgressModel",
            "_view_count": null,
            "_view_module": "@jupyter-widgets/controls",
            "_view_module_version": "1.5.0",
            "_view_name": "ProgressView",
            "bar_style": "success",
            "description": "",
            "description_tooltip": null,
            "layout": "IPY_MODEL_79f9e18a4b354d678f14f6daba711036",
            "max": 959,
            "min": 0,
            "orientation": "horizontal",
            "style": "IPY_MODEL_b7272c15639442f680a36a4ac39290f8",
            "value": 959
          }
        },
        "154695f43d614de18e73238b99065cb9": {
          "model_module": "@jupyter-widgets/base",
          "model_module_version": "1.2.0",
          "model_name": "LayoutModel",
          "state": {
            "_model_module": "@jupyter-widgets/base",
            "_model_module_version": "1.2.0",
            "_model_name": "LayoutModel",
            "_view_count": null,
            "_view_module": "@jupyter-widgets/base",
            "_view_module_version": "1.2.0",
            "_view_name": "LayoutView",
            "align_content": null,
            "align_items": null,
            "align_self": null,
            "border": null,
            "bottom": null,
            "display": null,
            "flex": null,
            "flex_flow": null,
            "grid_area": null,
            "grid_auto_columns": null,
            "grid_auto_flow": null,
            "grid_auto_rows": null,
            "grid_column": null,
            "grid_gap": null,
            "grid_row": null,
            "grid_template_areas": null,
            "grid_template_columns": null,
            "grid_template_rows": null,
            "height": null,
            "justify_content": null,
            "justify_items": null,
            "left": null,
            "margin": null,
            "max_height": null,
            "max_width": null,
            "min_height": null,
            "min_width": null,
            "object_fit": null,
            "object_position": null,
            "order": null,
            "overflow": null,
            "overflow_x": null,
            "overflow_y": null,
            "padding": null,
            "right": null,
            "top": null,
            "visibility": null,
            "width": null
          }
        },
        "15636e1a96e141f79b3192a8553c04c0": {
          "model_module": "@jupyter-widgets/controls",
          "model_module_version": "1.5.0",
          "model_name": "HTMLModel",
          "state": {
            "_dom_classes": [],
            "_model_module": "@jupyter-widgets/controls",
            "_model_module_version": "1.5.0",
            "_model_name": "HTMLModel",
            "_view_count": null,
            "_view_module": "@jupyter-widgets/controls",
            "_view_module_version": "1.5.0",
            "_view_name": "HTMLView",
            "description": "",
            "description_tooltip": null,
            "layout": "IPY_MODEL_031cdaa5429a4300a35fb342d18bf5a0",
            "placeholder": "​",
            "style": "IPY_MODEL_f93ceead65f24a3093447ac9826a10b8",
            "value": "Loading checkpoint shards: 100%"
          }
        },
        "1ae3023b7f554bec860ab02e5abb1965": {
          "model_module": "@jupyter-widgets/base",
          "model_module_version": "1.2.0",
          "model_name": "LayoutModel",
          "state": {
            "_model_module": "@jupyter-widgets/base",
            "_model_module_version": "1.2.0",
            "_model_name": "LayoutModel",
            "_view_count": null,
            "_view_module": "@jupyter-widgets/base",
            "_view_module_version": "1.2.0",
            "_view_name": "LayoutView",
            "align_content": null,
            "align_items": null,
            "align_self": null,
            "border": null,
            "bottom": null,
            "display": null,
            "flex": null,
            "flex_flow": null,
            "grid_area": null,
            "grid_auto_columns": null,
            "grid_auto_flow": null,
            "grid_auto_rows": null,
            "grid_column": null,
            "grid_gap": null,
            "grid_row": null,
            "grid_template_areas": null,
            "grid_template_columns": null,
            "grid_template_rows": null,
            "height": null,
            "justify_content": null,
            "justify_items": null,
            "left": null,
            "margin": null,
            "max_height": null,
            "max_width": null,
            "min_height": null,
            "min_width": null,
            "object_fit": null,
            "object_position": null,
            "order": null,
            "overflow": null,
            "overflow_x": null,
            "overflow_y": null,
            "padding": null,
            "right": null,
            "top": null,
            "visibility": null,
            "width": null
          }
        },
        "1aff402a5a6149a0b462fe98a65a2981": {
          "model_module": "@jupyter-widgets/controls",
          "model_module_version": "1.5.0",
          "model_name": "FloatProgressModel",
          "state": {
            "_dom_classes": [],
            "_model_module": "@jupyter-widgets/controls",
            "_model_module_version": "1.5.0",
            "_model_name": "FloatProgressModel",
            "_view_count": null,
            "_view_module": "@jupyter-widgets/controls",
            "_view_module_version": "1.5.0",
            "_view_name": "ProgressView",
            "bar_style": "success",
            "description": "",
            "description_tooltip": null,
            "layout": "IPY_MODEL_fc7e557a88b244b69ddbe9e46ae29c63",
            "max": 594,
            "min": 0,
            "orientation": "horizontal",
            "style": "IPY_MODEL_eea737f97cab44d68f04f8767decd108",
            "value": 594
          }
        },
        "1bc28ebd9c384eea874e68781f7d168c": {
          "model_module": "@jupyter-widgets/controls",
          "model_module_version": "1.5.0",
          "model_name": "HTMLModel",
          "state": {
            "_dom_classes": [],
            "_model_module": "@jupyter-widgets/controls",
            "_model_module_version": "1.5.0",
            "_model_name": "HTMLModel",
            "_view_count": null,
            "_view_module": "@jupyter-widgets/controls",
            "_view_module_version": "1.5.0",
            "_view_name": "HTMLView",
            "description": "",
            "description_tooltip": null,
            "layout": "IPY_MODEL_043554aeeca64c22893e9face9e38c91",
            "placeholder": "​",
            "style": "IPY_MODEL_cacd3e2d30bc41c496675a663f8fdc54",
            "value": "model.safetensors: 100%"
          }
        },
        "1f22c442b78d4a2cb74bf371946e3932": {
          "model_module": "@jupyter-widgets/controls",
          "model_module_version": "1.5.0",
          "model_name": "FloatProgressModel",
          "state": {
            "_dom_classes": [],
            "_model_module": "@jupyter-widgets/controls",
            "_model_module_version": "1.5.0",
            "_model_name": "FloatProgressModel",
            "_view_count": null,
            "_view_module": "@jupyter-widgets/controls",
            "_view_module_version": "1.5.0",
            "_view_name": "ProgressView",
            "bar_style": "success",
            "description": "",
            "description_tooltip": null,
            "layout": "IPY_MODEL_970ed6a2e47c41bdbb06d967e610e0a4",
            "max": 2115276,
            "min": 0,
            "orientation": "horizontal",
            "style": "IPY_MODEL_d54ff57dabb349cdbc13bfe1011d1643",
            "value": 2115276
          }
        },
        "2155b152cd544c89855d92c271e6af2e": {
          "model_module": "@jupyter-widgets/base",
          "model_module_version": "1.2.0",
          "model_name": "LayoutModel",
          "state": {
            "_model_module": "@jupyter-widgets/base",
            "_model_module_version": "1.2.0",
            "_model_name": "LayoutModel",
            "_view_count": null,
            "_view_module": "@jupyter-widgets/base",
            "_view_module_version": "1.2.0",
            "_view_name": "LayoutView",
            "align_content": null,
            "align_items": null,
            "align_self": null,
            "border": null,
            "bottom": null,
            "display": null,
            "flex": null,
            "flex_flow": null,
            "grid_area": null,
            "grid_auto_columns": null,
            "grid_auto_flow": null,
            "grid_auto_rows": null,
            "grid_column": null,
            "grid_gap": null,
            "grid_row": null,
            "grid_template_areas": null,
            "grid_template_columns": null,
            "grid_template_rows": null,
            "height": null,
            "justify_content": null,
            "justify_items": null,
            "left": null,
            "margin": null,
            "max_height": null,
            "max_width": null,
            "min_height": null,
            "min_width": null,
            "object_fit": null,
            "object_position": null,
            "order": null,
            "overflow": null,
            "overflow_x": null,
            "overflow_y": null,
            "padding": null,
            "right": null,
            "top": null,
            "visibility": null,
            "width": null
          }
        },
        "251ae227cb694b70839a1cd4aaf63db8": {
          "model_module": "@jupyter-widgets/controls",
          "model_module_version": "1.5.0",
          "model_name": "DescriptionStyleModel",
          "state": {
            "_model_module": "@jupyter-widgets/controls",
            "_model_module_version": "1.5.0",
            "_model_name": "DescriptionStyleModel",
            "_view_count": null,
            "_view_module": "@jupyter-widgets/base",
            "_view_module_version": "1.2.0",
            "_view_name": "StyleView",
            "description_width": ""
          }
        },
        "282fe752743c43c9a59ace52d4071653": {
          "model_module": "@jupyter-widgets/base",
          "model_module_version": "1.2.0",
          "model_name": "LayoutModel",
          "state": {
            "_model_module": "@jupyter-widgets/base",
            "_model_module_version": "1.2.0",
            "_model_name": "LayoutModel",
            "_view_count": null,
            "_view_module": "@jupyter-widgets/base",
            "_view_module_version": "1.2.0",
            "_view_name": "LayoutView",
            "align_content": null,
            "align_items": null,
            "align_self": null,
            "border": null,
            "bottom": null,
            "display": null,
            "flex": null,
            "flex_flow": null,
            "grid_area": null,
            "grid_auto_columns": null,
            "grid_auto_flow": null,
            "grid_auto_rows": null,
            "grid_column": null,
            "grid_gap": null,
            "grid_row": null,
            "grid_template_areas": null,
            "grid_template_columns": null,
            "grid_template_rows": null,
            "height": null,
            "justify_content": null,
            "justify_items": null,
            "left": null,
            "margin": null,
            "max_height": null,
            "max_width": null,
            "min_height": null,
            "min_width": null,
            "object_fit": null,
            "object_position": null,
            "order": null,
            "overflow": null,
            "overflow_x": null,
            "overflow_y": null,
            "padding": null,
            "right": null,
            "top": null,
            "visibility": null,
            "width": null
          }
        },
        "2a3e08c8d9e3481cb3fb994edf7b74f7": {
          "model_module": "@jupyter-widgets/base",
          "model_module_version": "1.2.0",
          "model_name": "LayoutModel",
          "state": {
            "_model_module": "@jupyter-widgets/base",
            "_model_module_version": "1.2.0",
            "_model_name": "LayoutModel",
            "_view_count": null,
            "_view_module": "@jupyter-widgets/base",
            "_view_module_version": "1.2.0",
            "_view_name": "LayoutView",
            "align_content": null,
            "align_items": null,
            "align_self": null,
            "border": null,
            "bottom": null,
            "display": null,
            "flex": null,
            "flex_flow": null,
            "grid_area": null,
            "grid_auto_columns": null,
            "grid_auto_flow": null,
            "grid_auto_rows": null,
            "grid_column": null,
            "grid_gap": null,
            "grid_row": null,
            "grid_template_areas": null,
            "grid_template_columns": null,
            "grid_template_rows": null,
            "height": null,
            "justify_content": null,
            "justify_items": null,
            "left": null,
            "margin": null,
            "max_height": null,
            "max_width": null,
            "min_height": null,
            "min_width": null,
            "object_fit": null,
            "object_position": null,
            "order": null,
            "overflow": null,
            "overflow_x": null,
            "overflow_y": null,
            "padding": null,
            "right": null,
            "top": null,
            "visibility": null,
            "width": null
          }
        },
        "2bf1e7dc2a764bc88e3f4333d7c302c7": {
          "model_module": "@jupyter-widgets/controls",
          "model_module_version": "1.5.0",
          "model_name": "DescriptionStyleModel",
          "state": {
            "_model_module": "@jupyter-widgets/controls",
            "_model_module_version": "1.5.0",
            "_model_name": "DescriptionStyleModel",
            "_view_count": null,
            "_view_module": "@jupyter-widgets/base",
            "_view_module_version": "1.2.0",
            "_view_name": "StyleView",
            "description_width": ""
          }
        },
        "2f8d4dd622e144e596e2da51d6b34207": {
          "model_module": "@jupyter-widgets/controls",
          "model_module_version": "1.5.0",
          "model_name": "DescriptionStyleModel",
          "state": {
            "_model_module": "@jupyter-widgets/controls",
            "_model_module_version": "1.5.0",
            "_model_name": "DescriptionStyleModel",
            "_view_count": null,
            "_view_module": "@jupyter-widgets/base",
            "_view_module_version": "1.2.0",
            "_view_name": "StyleView",
            "description_width": ""
          }
        },
        "35023001bbe940b584a5696938515dd0": {
          "model_module": "@jupyter-widgets/controls",
          "model_module_version": "1.5.0",
          "model_name": "HTMLModel",
          "state": {
            "_dom_classes": [],
            "_model_module": "@jupyter-widgets/controls",
            "_model_module_version": "1.5.0",
            "_model_name": "HTMLModel",
            "_view_count": null,
            "_view_module": "@jupyter-widgets/controls",
            "_view_module_version": "1.5.0",
            "_view_name": "HTMLView",
            "description": "",
            "description_tooltip": null,
            "layout": "IPY_MODEL_ab8679ce90694102bae2dc34a15db196",
            "placeholder": "​",
            "style": "IPY_MODEL_4246e7321f074b12b9595451bf55d125",
            "value": "config.json: 100%"
          }
        },
        "37975b1dc5604b41a8b743462e19dfc6": {
          "model_module": "@jupyter-widgets/controls",
          "model_module_version": "1.5.0",
          "model_name": "HBoxModel",
          "state": {
            "_dom_classes": [],
            "_model_module": "@jupyter-widgets/controls",
            "_model_module_version": "1.5.0",
            "_model_name": "HBoxModel",
            "_view_count": null,
            "_view_module": "@jupyter-widgets/controls",
            "_view_module_version": "1.5.0",
            "_view_name": "HBoxView",
            "box_style": "",
            "children": [
              "IPY_MODEL_5a34641eefd04c7c864750d08a6dec17",
              "IPY_MODEL_4eb0bdcb69c74b9faf33244a7d15ea35",
              "IPY_MODEL_7f44ed6da52e454e8d959f905c77b0e7"
            ],
            "layout": "IPY_MODEL_fbaccf24e6ae49bc841f4ae68a0b443f"
          }
        },
        "3ec2599d2b9c4f78b182a4658ce021ef": {
          "model_module": "@jupyter-widgets/controls",
          "model_module_version": "1.5.0",
          "model_name": "HTMLModel",
          "state": {
            "_dom_classes": [],
            "_model_module": "@jupyter-widgets/controls",
            "_model_module_version": "1.5.0",
            "_model_name": "HTMLModel",
            "_view_count": null,
            "_view_module": "@jupyter-widgets/controls",
            "_view_module_version": "1.5.0",
            "_view_name": "HTMLView",
            "description": "",
            "description_tooltip": null,
            "layout": "IPY_MODEL_48364a8cd44c43a49d2038425a44938a",
            "placeholder": "​",
            "style": "IPY_MODEL_2f8d4dd622e144e596e2da51d6b34207",
            "value": " 2.12M/2.12M [00:00&lt;00:00, 31.6MB/s]"
          }
        },
        "40834087e9fd461485dceeff0a0622d2": {
          "model_module": "@jupyter-widgets/controls",
          "model_module_version": "1.5.0",
          "model_name": "ProgressStyleModel",
          "state": {
            "_model_module": "@jupyter-widgets/controls",
            "_model_module_version": "1.5.0",
            "_model_name": "ProgressStyleModel",
            "_view_count": null,
            "_view_module": "@jupyter-widgets/base",
            "_view_module_version": "1.2.0",
            "_view_name": "StyleView",
            "bar_color": null,
            "description_width": ""
          }
        },
        "4246e7321f074b12b9595451bf55d125": {
          "model_module": "@jupyter-widgets/controls",
          "model_module_version": "1.5.0",
          "model_name": "DescriptionStyleModel",
          "state": {
            "_model_module": "@jupyter-widgets/controls",
            "_model_module_version": "1.5.0",
            "_model_name": "DescriptionStyleModel",
            "_view_count": null,
            "_view_module": "@jupyter-widgets/base",
            "_view_module_version": "1.2.0",
            "_view_name": "StyleView",
            "description_width": ""
          }
        },
        "43f960f3e47b4bcbb245344383738193": {
          "model_module": "@jupyter-widgets/base",
          "model_module_version": "1.2.0",
          "model_name": "LayoutModel",
          "state": {
            "_model_module": "@jupyter-widgets/base",
            "_model_module_version": "1.2.0",
            "_model_name": "LayoutModel",
            "_view_count": null,
            "_view_module": "@jupyter-widgets/base",
            "_view_module_version": "1.2.0",
            "_view_name": "LayoutView",
            "align_content": null,
            "align_items": null,
            "align_self": null,
            "border": null,
            "bottom": null,
            "display": null,
            "flex": null,
            "flex_flow": null,
            "grid_area": null,
            "grid_auto_columns": null,
            "grid_auto_flow": null,
            "grid_auto_rows": null,
            "grid_column": null,
            "grid_gap": null,
            "grid_row": null,
            "grid_template_areas": null,
            "grid_template_columns": null,
            "grid_template_rows": null,
            "height": null,
            "justify_content": null,
            "justify_items": null,
            "left": null,
            "margin": null,
            "max_height": null,
            "max_width": null,
            "min_height": null,
            "min_width": null,
            "object_fit": null,
            "object_position": null,
            "order": null,
            "overflow": null,
            "overflow_x": null,
            "overflow_y": null,
            "padding": null,
            "right": null,
            "top": null,
            "visibility": null,
            "width": null
          }
        },
        "442e32220d4d475185a89f3405f856e3": {
          "model_module": "@jupyter-widgets/base",
          "model_module_version": "1.2.0",
          "model_name": "LayoutModel",
          "state": {
            "_model_module": "@jupyter-widgets/base",
            "_model_module_version": "1.2.0",
            "_model_name": "LayoutModel",
            "_view_count": null,
            "_view_module": "@jupyter-widgets/base",
            "_view_module_version": "1.2.0",
            "_view_name": "LayoutView",
            "align_content": null,
            "align_items": null,
            "align_self": null,
            "border": null,
            "bottom": null,
            "display": null,
            "flex": null,
            "flex_flow": null,
            "grid_area": null,
            "grid_auto_columns": null,
            "grid_auto_flow": null,
            "grid_auto_rows": null,
            "grid_column": null,
            "grid_gap": null,
            "grid_row": null,
            "grid_template_areas": null,
            "grid_template_columns": null,
            "grid_template_rows": null,
            "height": null,
            "justify_content": null,
            "justify_items": null,
            "left": null,
            "margin": null,
            "max_height": null,
            "max_width": null,
            "min_height": null,
            "min_width": null,
            "object_fit": null,
            "object_position": null,
            "order": null,
            "overflow": null,
            "overflow_x": null,
            "overflow_y": null,
            "padding": null,
            "right": null,
            "top": null,
            "visibility": null,
            "width": null
          }
        },
        "48364a8cd44c43a49d2038425a44938a": {
          "model_module": "@jupyter-widgets/base",
          "model_module_version": "1.2.0",
          "model_name": "LayoutModel",
          "state": {
            "_model_module": "@jupyter-widgets/base",
            "_model_module_version": "1.2.0",
            "_model_name": "LayoutModel",
            "_view_count": null,
            "_view_module": "@jupyter-widgets/base",
            "_view_module_version": "1.2.0",
            "_view_name": "LayoutView",
            "align_content": null,
            "align_items": null,
            "align_self": null,
            "border": null,
            "bottom": null,
            "display": null,
            "flex": null,
            "flex_flow": null,
            "grid_area": null,
            "grid_auto_columns": null,
            "grid_auto_flow": null,
            "grid_auto_rows": null,
            "grid_column": null,
            "grid_gap": null,
            "grid_row": null,
            "grid_template_areas": null,
            "grid_template_columns": null,
            "grid_template_rows": null,
            "height": null,
            "justify_content": null,
            "justify_items": null,
            "left": null,
            "margin": null,
            "max_height": null,
            "max_width": null,
            "min_height": null,
            "min_width": null,
            "object_fit": null,
            "object_position": null,
            "order": null,
            "overflow": null,
            "overflow_x": null,
            "overflow_y": null,
            "padding": null,
            "right": null,
            "top": null,
            "visibility": null,
            "width": null
          }
        },
        "49742c8ffdd048dc8db968329a63b233": {
          "model_module": "@jupyter-widgets/base",
          "model_module_version": "1.2.0",
          "model_name": "LayoutModel",
          "state": {
            "_model_module": "@jupyter-widgets/base",
            "_model_module_version": "1.2.0",
            "_model_name": "LayoutModel",
            "_view_count": null,
            "_view_module": "@jupyter-widgets/base",
            "_view_module_version": "1.2.0",
            "_view_name": "LayoutView",
            "align_content": null,
            "align_items": null,
            "align_self": null,
            "border": null,
            "bottom": null,
            "display": null,
            "flex": null,
            "flex_flow": null,
            "grid_area": null,
            "grid_auto_columns": null,
            "grid_auto_flow": null,
            "grid_auto_rows": null,
            "grid_column": null,
            "grid_gap": null,
            "grid_row": null,
            "grid_template_areas": null,
            "grid_template_columns": null,
            "grid_template_rows": null,
            "height": null,
            "justify_content": null,
            "justify_items": null,
            "left": null,
            "margin": null,
            "max_height": null,
            "max_width": null,
            "min_height": null,
            "min_width": null,
            "object_fit": null,
            "object_position": null,
            "order": null,
            "overflow": null,
            "overflow_x": null,
            "overflow_y": null,
            "padding": null,
            "right": null,
            "top": null,
            "visibility": null,
            "width": null
          }
        },
        "4eb0bdcb69c74b9faf33244a7d15ea35": {
          "model_module": "@jupyter-widgets/controls",
          "model_module_version": "1.5.0",
          "model_name": "FloatProgressModel",
          "state": {
            "_dom_classes": [],
            "_model_module": "@jupyter-widgets/controls",
            "_model_module_version": "1.5.0",
            "_model_name": "FloatProgressModel",
            "_view_count": null,
            "_view_module": "@jupyter-widgets/controls",
            "_view_module_version": "1.5.0",
            "_view_name": "ProgressView",
            "bar_style": "success",
            "description": "",
            "description_tooltip": null,
            "layout": "IPY_MODEL_43f960f3e47b4bcbb245344383738193",
            "max": 133,
            "min": 0,
            "orientation": "horizontal",
            "style": "IPY_MODEL_40834087e9fd461485dceeff0a0622d2",
            "value": 133
          }
        },
        "5162e860a672490abaad881182548bd8": {
          "model_module": "@jupyter-widgets/base",
          "model_module_version": "1.2.0",
          "model_name": "LayoutModel",
          "state": {
            "_model_module": "@jupyter-widgets/base",
            "_model_module_version": "1.2.0",
            "_model_name": "LayoutModel",
            "_view_count": null,
            "_view_module": "@jupyter-widgets/base",
            "_view_module_version": "1.2.0",
            "_view_name": "LayoutView",
            "align_content": null,
            "align_items": null,
            "align_self": null,
            "border": null,
            "bottom": null,
            "display": null,
            "flex": null,
            "flex_flow": null,
            "grid_area": null,
            "grid_auto_columns": null,
            "grid_auto_flow": null,
            "grid_auto_rows": null,
            "grid_column": null,
            "grid_gap": null,
            "grid_row": null,
            "grid_template_areas": null,
            "grid_template_columns": null,
            "grid_template_rows": null,
            "height": null,
            "justify_content": null,
            "justify_items": null,
            "left": null,
            "margin": null,
            "max_height": null,
            "max_width": null,
            "min_height": null,
            "min_width": null,
            "object_fit": null,
            "object_position": null,
            "order": null,
            "overflow": null,
            "overflow_x": null,
            "overflow_y": null,
            "padding": null,
            "right": null,
            "top": null,
            "visibility": null,
            "width": null
          }
        },
        "5a34641eefd04c7c864750d08a6dec17": {
          "model_module": "@jupyter-widgets/controls",
          "model_module_version": "1.5.0",
          "model_name": "HTMLModel",
          "state": {
            "_dom_classes": [],
            "_model_module": "@jupyter-widgets/controls",
            "_model_module_version": "1.5.0",
            "_model_name": "HTMLModel",
            "_view_count": null,
            "_view_module": "@jupyter-widgets/controls",
            "_view_module_version": "1.5.0",
            "_view_name": "HTMLView",
            "description": "",
            "description_tooltip": null,
            "layout": "IPY_MODEL_154695f43d614de18e73238b99065cb9",
            "placeholder": "​",
            "style": "IPY_MODEL_e171b29f89e74a6587a9e7930b0e0c07",
            "value": "generation_config.json: 100%"
          }
        },
        "5ec25c42162d4054b07fa8405f503939": {
          "model_module": "@jupyter-widgets/base",
          "model_module_version": "1.2.0",
          "model_name": "LayoutModel",
          "state": {
            "_model_module": "@jupyter-widgets/base",
            "_model_module_version": "1.2.0",
            "_model_name": "LayoutModel",
            "_view_count": null,
            "_view_module": "@jupyter-widgets/base",
            "_view_module_version": "1.2.0",
            "_view_name": "LayoutView",
            "align_content": null,
            "align_items": null,
            "align_self": null,
            "border": null,
            "bottom": null,
            "display": null,
            "flex": null,
            "flex_flow": null,
            "grid_area": null,
            "grid_auto_columns": null,
            "grid_auto_flow": null,
            "grid_auto_rows": null,
            "grid_column": null,
            "grid_gap": null,
            "grid_row": null,
            "grid_template_areas": null,
            "grid_template_columns": null,
            "grid_template_rows": null,
            "height": null,
            "justify_content": null,
            "justify_items": null,
            "left": null,
            "margin": null,
            "max_height": null,
            "max_width": null,
            "min_height": null,
            "min_width": null,
            "object_fit": null,
            "object_position": null,
            "order": null,
            "overflow": null,
            "overflow_x": null,
            "overflow_y": null,
            "padding": null,
            "right": null,
            "top": null,
            "visibility": null,
            "width": null
          }
        },
        "661dfd7ff0f14f82a579a9d1c02af86b": {
          "model_module": "@jupyter-widgets/controls",
          "model_module_version": "1.5.0",
          "model_name": "HBoxModel",
          "state": {
            "_dom_classes": [],
            "_model_module": "@jupyter-widgets/controls",
            "_model_module_version": "1.5.0",
            "_model_name": "HBoxModel",
            "_view_count": null,
            "_view_module": "@jupyter-widgets/controls",
            "_view_module_version": "1.5.0",
            "_view_name": "HBoxView",
            "box_style": "",
            "children": [
              "IPY_MODEL_a372a9bf826641a4bd698ae7cb8d4aa4",
              "IPY_MODEL_11fd7be658484b60a3583f090cd6b04f",
              "IPY_MODEL_a718adef766a4468803337a3349ecd16"
            ],
            "layout": "IPY_MODEL_706abf0a954646fd85f24f37b8ec70cc"
          }
        },
        "694bea9fef704de5a60b89680e10488f": {
          "model_module": "@jupyter-widgets/base",
          "model_module_version": "1.2.0",
          "model_name": "LayoutModel",
          "state": {
            "_model_module": "@jupyter-widgets/base",
            "_model_module_version": "1.2.0",
            "_model_name": "LayoutModel",
            "_view_count": null,
            "_view_module": "@jupyter-widgets/base",
            "_view_module_version": "1.2.0",
            "_view_name": "LayoutView",
            "align_content": null,
            "align_items": null,
            "align_self": null,
            "border": null,
            "bottom": null,
            "display": null,
            "flex": null,
            "flex_flow": null,
            "grid_area": null,
            "grid_auto_columns": null,
            "grid_auto_flow": null,
            "grid_auto_rows": null,
            "grid_column": null,
            "grid_gap": null,
            "grid_row": null,
            "grid_template_areas": null,
            "grid_template_columns": null,
            "grid_template_rows": null,
            "height": null,
            "justify_content": null,
            "justify_items": null,
            "left": null,
            "margin": null,
            "max_height": null,
            "max_width": null,
            "min_height": null,
            "min_width": null,
            "object_fit": null,
            "object_position": null,
            "order": null,
            "overflow": null,
            "overflow_x": null,
            "overflow_y": null,
            "padding": null,
            "right": null,
            "top": null,
            "visibility": null,
            "width": null
          }
        },
        "69881d4d481f4d24a18389b4154f995e": {
          "model_module": "@jupyter-widgets/controls",
          "model_module_version": "1.5.0",
          "model_name": "FloatProgressModel",
          "state": {
            "_dom_classes": [],
            "_model_module": "@jupyter-widgets/controls",
            "_model_module_version": "1.5.0",
            "_model_name": "FloatProgressModel",
            "_view_count": null,
            "_view_module": "@jupyter-widgets/controls",
            "_view_module_version": "1.5.0",
            "_view_name": "ProgressView",
            "bar_style": "success",
            "description": "",
            "description_tooltip": null,
            "layout": "IPY_MODEL_a5c636a2931041bea30174842dc75213",
            "max": 414,
            "min": 0,
            "orientation": "horizontal",
            "style": "IPY_MODEL_e263f5586ab34efe91e4b0eece3e4f64",
            "value": 414
          }
        },
        "6d4573904c5741288529779efddf2ab5": {
          "model_module": "@jupyter-widgets/base",
          "model_module_version": "1.2.0",
          "model_name": "LayoutModel",
          "state": {
            "_model_module": "@jupyter-widgets/base",
            "_model_module_version": "1.2.0",
            "_model_name": "LayoutModel",
            "_view_count": null,
            "_view_module": "@jupyter-widgets/base",
            "_view_module_version": "1.2.0",
            "_view_name": "LayoutView",
            "align_content": null,
            "align_items": null,
            "align_self": null,
            "border": null,
            "bottom": null,
            "display": null,
            "flex": null,
            "flex_flow": null,
            "grid_area": null,
            "grid_auto_columns": null,
            "grid_auto_flow": null,
            "grid_auto_rows": null,
            "grid_column": null,
            "grid_gap": null,
            "grid_row": null,
            "grid_template_areas": null,
            "grid_template_columns": null,
            "grid_template_rows": null,
            "height": null,
            "justify_content": null,
            "justify_items": null,
            "left": null,
            "margin": null,
            "max_height": null,
            "max_width": null,
            "min_height": null,
            "min_width": null,
            "object_fit": null,
            "object_position": null,
            "order": null,
            "overflow": null,
            "overflow_x": null,
            "overflow_y": null,
            "padding": null,
            "right": null,
            "top": null,
            "visibility": null,
            "width": null
          }
        },
        "6fff8aaceabb4ad58838431e3798860a": {
          "model_module": "@jupyter-widgets/controls",
          "model_module_version": "1.5.0",
          "model_name": "DescriptionStyleModel",
          "state": {
            "_model_module": "@jupyter-widgets/controls",
            "_model_module_version": "1.5.0",
            "_model_name": "DescriptionStyleModel",
            "_view_count": null,
            "_view_module": "@jupyter-widgets/base",
            "_view_module_version": "1.2.0",
            "_view_name": "StyleView",
            "description_width": ""
          }
        },
        "706abf0a954646fd85f24f37b8ec70cc": {
          "model_module": "@jupyter-widgets/base",
          "model_module_version": "1.2.0",
          "model_name": "LayoutModel",
          "state": {
            "_model_module": "@jupyter-widgets/base",
            "_model_module_version": "1.2.0",
            "_model_name": "LayoutModel",
            "_view_count": null,
            "_view_module": "@jupyter-widgets/base",
            "_view_module_version": "1.2.0",
            "_view_name": "LayoutView",
            "align_content": null,
            "align_items": null,
            "align_self": null,
            "border": null,
            "bottom": null,
            "display": null,
            "flex": null,
            "flex_flow": null,
            "grid_area": null,
            "grid_auto_columns": null,
            "grid_auto_flow": null,
            "grid_auto_rows": null,
            "grid_column": null,
            "grid_gap": null,
            "grid_row": null,
            "grid_template_areas": null,
            "grid_template_columns": null,
            "grid_template_rows": null,
            "height": null,
            "justify_content": null,
            "justify_items": null,
            "left": null,
            "margin": null,
            "max_height": null,
            "max_width": null,
            "min_height": null,
            "min_width": null,
            "object_fit": null,
            "object_position": null,
            "order": null,
            "overflow": null,
            "overflow_x": null,
            "overflow_y": null,
            "padding": null,
            "right": null,
            "top": null,
            "visibility": null,
            "width": null
          }
        },
        "71085593a76148d0bf99227fba3fff93": {
          "model_module": "@jupyter-widgets/base",
          "model_module_version": "1.2.0",
          "model_name": "LayoutModel",
          "state": {
            "_model_module": "@jupyter-widgets/base",
            "_model_module_version": "1.2.0",
            "_model_name": "LayoutModel",
            "_view_count": null,
            "_view_module": "@jupyter-widgets/base",
            "_view_module_version": "1.2.0",
            "_view_name": "LayoutView",
            "align_content": null,
            "align_items": null,
            "align_self": null,
            "border": null,
            "bottom": null,
            "display": null,
            "flex": null,
            "flex_flow": null,
            "grid_area": null,
            "grid_auto_columns": null,
            "grid_auto_flow": null,
            "grid_auto_rows": null,
            "grid_column": null,
            "grid_gap": null,
            "grid_row": null,
            "grid_template_areas": null,
            "grid_template_columns": null,
            "grid_template_rows": null,
            "height": null,
            "justify_content": null,
            "justify_items": null,
            "left": null,
            "margin": null,
            "max_height": null,
            "max_width": null,
            "min_height": null,
            "min_width": null,
            "object_fit": null,
            "object_position": null,
            "order": null,
            "overflow": null,
            "overflow_x": null,
            "overflow_y": null,
            "padding": null,
            "right": null,
            "top": null,
            "visibility": null,
            "width": null
          }
        },
        "79f9e18a4b354d678f14f6daba711036": {
          "model_module": "@jupyter-widgets/base",
          "model_module_version": "1.2.0",
          "model_name": "LayoutModel",
          "state": {
            "_model_module": "@jupyter-widgets/base",
            "_model_module_version": "1.2.0",
            "_model_name": "LayoutModel",
            "_view_count": null,
            "_view_module": "@jupyter-widgets/base",
            "_view_module_version": "1.2.0",
            "_view_name": "LayoutView",
            "align_content": null,
            "align_items": null,
            "align_self": null,
            "border": null,
            "bottom": null,
            "display": null,
            "flex": null,
            "flex_flow": null,
            "grid_area": null,
            "grid_auto_columns": null,
            "grid_auto_flow": null,
            "grid_auto_rows": null,
            "grid_column": null,
            "grid_gap": null,
            "grid_row": null,
            "grid_template_areas": null,
            "grid_template_columns": null,
            "grid_template_rows": null,
            "height": null,
            "justify_content": null,
            "justify_items": null,
            "left": null,
            "margin": null,
            "max_height": null,
            "max_width": null,
            "min_height": null,
            "min_width": null,
            "object_fit": null,
            "object_position": null,
            "order": null,
            "overflow": null,
            "overflow_x": null,
            "overflow_y": null,
            "padding": null,
            "right": null,
            "top": null,
            "visibility": null,
            "width": null
          }
        },
        "7a774bf2d86e43f59f87bbf6313142a2": {
          "model_module": "@jupyter-widgets/controls",
          "model_module_version": "1.5.0",
          "model_name": "DescriptionStyleModel",
          "state": {
            "_model_module": "@jupyter-widgets/controls",
            "_model_module_version": "1.5.0",
            "_model_name": "DescriptionStyleModel",
            "_view_count": null,
            "_view_module": "@jupyter-widgets/base",
            "_view_module_version": "1.2.0",
            "_view_name": "StyleView",
            "description_width": ""
          }
        },
        "7bf90f490d9d4d7dbb04d9779eb65e7e": {
          "model_module": "@jupyter-widgets/controls",
          "model_module_version": "1.5.0",
          "model_name": "FloatProgressModel",
          "state": {
            "_dom_classes": [],
            "_model_module": "@jupyter-widgets/controls",
            "_model_module_version": "1.5.0",
            "_model_name": "FloatProgressModel",
            "_view_count": null,
            "_view_module": "@jupyter-widgets/controls",
            "_view_module_version": "1.5.0",
            "_view_name": "ProgressView",
            "bar_style": "success",
            "description": "",
            "description_tooltip": null,
            "layout": "IPY_MODEL_442e32220d4d475185a89f3405f856e3",
            "max": 795167,
            "min": 0,
            "orientation": "horizontal",
            "style": "IPY_MODEL_b8b6aee662bb4803b4425e1ee45fe5f7",
            "value": 795167
          }
        },
        "7ea8fbc32535498ca3c8cb53ac2a6007": {
          "model_module": "@jupyter-widgets/base",
          "model_module_version": "1.2.0",
          "model_name": "LayoutModel",
          "state": {
            "_model_module": "@jupyter-widgets/base",
            "_model_module_version": "1.2.0",
            "_model_name": "LayoutModel",
            "_view_count": null,
            "_view_module": "@jupyter-widgets/base",
            "_view_module_version": "1.2.0",
            "_view_name": "LayoutView",
            "align_content": null,
            "align_items": null,
            "align_self": null,
            "border": null,
            "bottom": null,
            "display": null,
            "flex": null,
            "flex_flow": null,
            "grid_area": null,
            "grid_auto_columns": null,
            "grid_auto_flow": null,
            "grid_auto_rows": null,
            "grid_column": null,
            "grid_gap": null,
            "grid_row": null,
            "grid_template_areas": null,
            "grid_template_columns": null,
            "grid_template_rows": null,
            "height": null,
            "justify_content": null,
            "justify_items": null,
            "left": null,
            "margin": null,
            "max_height": null,
            "max_width": null,
            "min_height": null,
            "min_width": null,
            "object_fit": null,
            "object_position": null,
            "order": null,
            "overflow": null,
            "overflow_x": null,
            "overflow_y": null,
            "padding": null,
            "right": null,
            "top": null,
            "visibility": null,
            "width": null
          }
        },
        "7f44ed6da52e454e8d959f905c77b0e7": {
          "model_module": "@jupyter-widgets/controls",
          "model_module_version": "1.5.0",
          "model_name": "HTMLModel",
          "state": {
            "_dom_classes": [],
            "_model_module": "@jupyter-widgets/controls",
            "_model_module_version": "1.5.0",
            "_model_name": "HTMLModel",
            "_view_count": null,
            "_view_module": "@jupyter-widgets/controls",
            "_view_module_version": "1.5.0",
            "_view_name": "HTMLView",
            "description": "",
            "description_tooltip": null,
            "layout": "IPY_MODEL_86864db2b7a843299d1329e7b5ed1eaa",
            "placeholder": "​",
            "style": "IPY_MODEL_be50a5f134e6449981369a9ba2afbb7c",
            "value": " 133/133 [00:00&lt;00:00, 4.40kB/s]"
          }
        },
        "80a4a5e13f2d437db17184fab92c3032": {
          "model_module": "@jupyter-widgets/base",
          "model_module_version": "1.2.0",
          "model_name": "LayoutModel",
          "state": {
            "_model_module": "@jupyter-widgets/base",
            "_model_module_version": "1.2.0",
            "_model_name": "LayoutModel",
            "_view_count": null,
            "_view_module": "@jupyter-widgets/base",
            "_view_module_version": "1.2.0",
            "_view_name": "LayoutView",
            "align_content": null,
            "align_items": null,
            "align_self": null,
            "border": null,
            "bottom": null,
            "display": null,
            "flex": null,
            "flex_flow": null,
            "grid_area": null,
            "grid_auto_columns": null,
            "grid_auto_flow": null,
            "grid_auto_rows": null,
            "grid_column": null,
            "grid_gap": null,
            "grid_row": null,
            "grid_template_areas": null,
            "grid_template_columns": null,
            "grid_template_rows": null,
            "height": null,
            "justify_content": null,
            "justify_items": null,
            "left": null,
            "margin": null,
            "max_height": null,
            "max_width": null,
            "min_height": null,
            "min_width": null,
            "object_fit": null,
            "object_position": null,
            "order": null,
            "overflow": null,
            "overflow_x": null,
            "overflow_y": null,
            "padding": null,
            "right": null,
            "top": null,
            "visibility": null,
            "width": null
          }
        },
        "86864db2b7a843299d1329e7b5ed1eaa": {
          "model_module": "@jupyter-widgets/base",
          "model_module_version": "1.2.0",
          "model_name": "LayoutModel",
          "state": {
            "_model_module": "@jupyter-widgets/base",
            "_model_module_version": "1.2.0",
            "_model_name": "LayoutModel",
            "_view_count": null,
            "_view_module": "@jupyter-widgets/base",
            "_view_module_version": "1.2.0",
            "_view_name": "LayoutView",
            "align_content": null,
            "align_items": null,
            "align_self": null,
            "border": null,
            "bottom": null,
            "display": null,
            "flex": null,
            "flex_flow": null,
            "grid_area": null,
            "grid_auto_columns": null,
            "grid_auto_flow": null,
            "grid_auto_rows": null,
            "grid_column": null,
            "grid_gap": null,
            "grid_row": null,
            "grid_template_areas": null,
            "grid_template_columns": null,
            "grid_template_rows": null,
            "height": null,
            "justify_content": null,
            "justify_items": null,
            "left": null,
            "margin": null,
            "max_height": null,
            "max_width": null,
            "min_height": null,
            "min_width": null,
            "object_fit": null,
            "object_position": null,
            "order": null,
            "overflow": null,
            "overflow_x": null,
            "overflow_y": null,
            "padding": null,
            "right": null,
            "top": null,
            "visibility": null,
            "width": null
          }
        },
        "888e932f24be4a4fadbb49213784f222": {
          "model_module": "@jupyter-widgets/controls",
          "model_module_version": "1.5.0",
          "model_name": "HBoxModel",
          "state": {
            "_dom_classes": [],
            "_model_module": "@jupyter-widgets/controls",
            "_model_module_version": "1.5.0",
            "_model_name": "HBoxModel",
            "_view_count": null,
            "_view_module": "@jupyter-widgets/controls",
            "_view_module_version": "1.5.0",
            "_view_name": "HBoxView",
            "box_style": "",
            "children": [
              "IPY_MODEL_1bc28ebd9c384eea874e68781f7d168c",
              "IPY_MODEL_b6b01521175549a686b902dd65d2cb17",
              "IPY_MODEL_dd2b1787b1e74543b0c315022aad8715"
            ],
            "layout": "IPY_MODEL_1ae3023b7f554bec860ab02e5abb1965"
          }
        },
        "8aca7cdae66b472ba2e1eba0d65e4754": {
          "model_module": "@jupyter-widgets/base",
          "model_module_version": "1.2.0",
          "model_name": "LayoutModel",
          "state": {
            "_model_module": "@jupyter-widgets/base",
            "_model_module_version": "1.2.0",
            "_model_name": "LayoutModel",
            "_view_count": null,
            "_view_module": "@jupyter-widgets/base",
            "_view_module_version": "1.2.0",
            "_view_name": "LayoutView",
            "align_content": null,
            "align_items": null,
            "align_self": null,
            "border": null,
            "bottom": null,
            "display": null,
            "flex": null,
            "flex_flow": null,
            "grid_area": null,
            "grid_auto_columns": null,
            "grid_auto_flow": null,
            "grid_auto_rows": null,
            "grid_column": null,
            "grid_gap": null,
            "grid_row": null,
            "grid_template_areas": null,
            "grid_template_columns": null,
            "grid_template_rows": null,
            "height": null,
            "justify_content": null,
            "justify_items": null,
            "left": null,
            "margin": null,
            "max_height": null,
            "max_width": null,
            "min_height": null,
            "min_width": null,
            "object_fit": null,
            "object_position": null,
            "order": null,
            "overflow": null,
            "overflow_x": null,
            "overflow_y": null,
            "padding": null,
            "right": null,
            "top": null,
            "visibility": null,
            "width": null
          }
        },
        "8f0e22f625444f97bc55cae338837235": {
          "model_module": "@jupyter-widgets/controls",
          "model_module_version": "1.5.0",
          "model_name": "HBoxModel",
          "state": {
            "_dom_classes": [],
            "_model_module": "@jupyter-widgets/controls",
            "_model_module_version": "1.5.0",
            "_model_name": "HBoxModel",
            "_view_count": null,
            "_view_module": "@jupyter-widgets/controls",
            "_view_module_version": "1.5.0",
            "_view_name": "HBoxView",
            "box_style": "",
            "children": [
              "IPY_MODEL_35023001bbe940b584a5696938515dd0",
              "IPY_MODEL_1aff402a5a6149a0b462fe98a65a2981",
              "IPY_MODEL_97c458b76d9b41ee819f4de136bbda06"
            ],
            "layout": "IPY_MODEL_694bea9fef704de5a60b89680e10488f"
          }
        },
        "8fe7dfb4adad4376b1f1473260652733": {
          "model_module": "@jupyter-widgets/controls",
          "model_module_version": "1.5.0",
          "model_name": "HTMLModel",
          "state": {
            "_dom_classes": [],
            "_model_module": "@jupyter-widgets/controls",
            "_model_module_version": "1.5.0",
            "_model_name": "HTMLModel",
            "_view_count": null,
            "_view_module": "@jupyter-widgets/controls",
            "_view_module_version": "1.5.0",
            "_view_name": "HTMLView",
            "description": "",
            "description_tooltip": null,
            "layout": "IPY_MODEL_6d4573904c5741288529779efddf2ab5",
            "placeholder": "​",
            "style": "IPY_MODEL_6fff8aaceabb4ad58838431e3798860a",
            "value": "tokenizer.model: 100%"
          }
        },
        "90e24ede09de4d95ae0a5107eaae575b": {
          "model_module": "@jupyter-widgets/controls",
          "model_module_version": "1.5.0",
          "model_name": "DescriptionStyleModel",
          "state": {
            "_model_module": "@jupyter-widgets/controls",
            "_model_module_version": "1.5.0",
            "_model_name": "DescriptionStyleModel",
            "_view_count": null,
            "_view_module": "@jupyter-widgets/base",
            "_view_module_version": "1.2.0",
            "_view_name": "StyleView",
            "description_width": ""
          }
        },
        "9330c60900f94bf5857e7cad47bd4696": {
          "model_module": "@jupyter-widgets/controls",
          "model_module_version": "1.5.0",
          "model_name": "HBoxModel",
          "state": {
            "_dom_classes": [],
            "_model_module": "@jupyter-widgets/controls",
            "_model_module_version": "1.5.0",
            "_model_name": "HBoxModel",
            "_view_count": null,
            "_view_module": "@jupyter-widgets/controls",
            "_view_module_version": "1.5.0",
            "_view_name": "HBoxView",
            "box_style": "",
            "children": [
              "IPY_MODEL_ac4b864d20474fb4ae0231c95721520c",
              "IPY_MODEL_69881d4d481f4d24a18389b4154f995e",
              "IPY_MODEL_9adeeb3a194643a498a848507ab235e1"
            ],
            "layout": "IPY_MODEL_80a4a5e13f2d437db17184fab92c3032"
          }
        },
        "9346554fb50f4d7ebb28f803633a6d25": {
          "model_module": "@jupyter-widgets/controls",
          "model_module_version": "1.5.0",
          "model_name": "HTMLModel",
          "state": {
            "_dom_classes": [],
            "_model_module": "@jupyter-widgets/controls",
            "_model_module_version": "1.5.0",
            "_model_name": "HTMLModel",
            "_view_count": null,
            "_view_module": "@jupyter-widgets/controls",
            "_view_module_version": "1.5.0",
            "_view_name": "HTMLView",
            "description": "",
            "description_tooltip": null,
            "layout": "IPY_MODEL_5162e860a672490abaad881182548bd8",
            "placeholder": "​",
            "style": "IPY_MODEL_d9f068f0ec2f4c46bf7932ffe35dbd75",
            "value": " 795k/795k [00:00&lt;00:00, 20.9MB/s]"
          }
        },
        "970ed6a2e47c41bdbb06d967e610e0a4": {
          "model_module": "@jupyter-widgets/base",
          "model_module_version": "1.2.0",
          "model_name": "LayoutModel",
          "state": {
            "_model_module": "@jupyter-widgets/base",
            "_model_module_version": "1.2.0",
            "_model_name": "LayoutModel",
            "_view_count": null,
            "_view_module": "@jupyter-widgets/base",
            "_view_module_version": "1.2.0",
            "_view_name": "LayoutView",
            "align_content": null,
            "align_items": null,
            "align_self": null,
            "border": null,
            "bottom": null,
            "display": null,
            "flex": null,
            "flex_flow": null,
            "grid_area": null,
            "grid_auto_columns": null,
            "grid_auto_flow": null,
            "grid_auto_rows": null,
            "grid_column": null,
            "grid_gap": null,
            "grid_row": null,
            "grid_template_areas": null,
            "grid_template_columns": null,
            "grid_template_rows": null,
            "height": null,
            "justify_content": null,
            "justify_items": null,
            "left": null,
            "margin": null,
            "max_height": null,
            "max_width": null,
            "min_height": null,
            "min_width": null,
            "object_fit": null,
            "object_position": null,
            "order": null,
            "overflow": null,
            "overflow_x": null,
            "overflow_y": null,
            "padding": null,
            "right": null,
            "top": null,
            "visibility": null,
            "width": null
          }
        },
        "97c458b76d9b41ee819f4de136bbda06": {
          "model_module": "@jupyter-widgets/controls",
          "model_module_version": "1.5.0",
          "model_name": "HTMLModel",
          "state": {
            "_dom_classes": [],
            "_model_module": "@jupyter-widgets/controls",
            "_model_module_version": "1.5.0",
            "_model_name": "HTMLModel",
            "_view_count": null,
            "_view_module": "@jupyter-widgets/controls",
            "_view_module_version": "1.5.0",
            "_view_name": "HTMLView",
            "description": "",
            "description_tooltip": null,
            "layout": "IPY_MODEL_8aca7cdae66b472ba2e1eba0d65e4754",
            "placeholder": "​",
            "style": "IPY_MODEL_d642c062e2b944639f7b52bc3baac6d3",
            "value": " 594/594 [00:00&lt;00:00, 24.0kB/s]"
          }
        },
        "98151dbe2c804b048ed7b58fef6a8639": {
          "model_module": "@jupyter-widgets/base",
          "model_module_version": "1.2.0",
          "model_name": "LayoutModel",
          "state": {
            "_model_module": "@jupyter-widgets/base",
            "_model_module_version": "1.2.0",
            "_model_name": "LayoutModel",
            "_view_count": null,
            "_view_module": "@jupyter-widgets/base",
            "_view_module_version": "1.2.0",
            "_view_name": "LayoutView",
            "align_content": null,
            "align_items": null,
            "align_self": null,
            "border": null,
            "bottom": null,
            "display": null,
            "flex": null,
            "flex_flow": null,
            "grid_area": null,
            "grid_auto_columns": null,
            "grid_auto_flow": null,
            "grid_auto_rows": null,
            "grid_column": null,
            "grid_gap": null,
            "grid_row": null,
            "grid_template_areas": null,
            "grid_template_columns": null,
            "grid_template_rows": null,
            "height": null,
            "justify_content": null,
            "justify_items": null,
            "left": null,
            "margin": null,
            "max_height": null,
            "max_width": null,
            "min_height": null,
            "min_width": null,
            "object_fit": null,
            "object_position": null,
            "order": null,
            "overflow": null,
            "overflow_x": null,
            "overflow_y": null,
            "padding": null,
            "right": null,
            "top": null,
            "visibility": null,
            "width": null
          }
        },
        "9adeeb3a194643a498a848507ab235e1": {
          "model_module": "@jupyter-widgets/controls",
          "model_module_version": "1.5.0",
          "model_name": "HTMLModel",
          "state": {
            "_dom_classes": [],
            "_model_module": "@jupyter-widgets/controls",
            "_model_module_version": "1.5.0",
            "_model_name": "HTMLModel",
            "_view_count": null,
            "_view_module": "@jupyter-widgets/controls",
            "_view_module_version": "1.5.0",
            "_view_name": "HTMLView",
            "description": "",
            "description_tooltip": null,
            "layout": "IPY_MODEL_7ea8fbc32535498ca3c8cb53ac2a6007",
            "placeholder": "​",
            "style": "IPY_MODEL_9e174e508c4745ad8fb6fcf940f62ef5",
            "value": " 414/414 [00:00&lt;00:00, 5.11kB/s]"
          }
        },
        "9cf7a38f2549492a9f41ac2340357f2b": {
          "model_module": "@jupyter-widgets/base",
          "model_module_version": "1.2.0",
          "model_name": "LayoutModel",
          "state": {
            "_model_module": "@jupyter-widgets/base",
            "_model_module_version": "1.2.0",
            "_model_name": "LayoutModel",
            "_view_count": null,
            "_view_module": "@jupyter-widgets/base",
            "_view_module_version": "1.2.0",
            "_view_name": "LayoutView",
            "align_content": null,
            "align_items": null,
            "align_self": null,
            "border": null,
            "bottom": null,
            "display": null,
            "flex": null,
            "flex_flow": null,
            "grid_area": null,
            "grid_auto_columns": null,
            "grid_auto_flow": null,
            "grid_auto_rows": null,
            "grid_column": null,
            "grid_gap": null,
            "grid_row": null,
            "grid_template_areas": null,
            "grid_template_columns": null,
            "grid_template_rows": null,
            "height": null,
            "justify_content": null,
            "justify_items": null,
            "left": null,
            "margin": null,
            "max_height": null,
            "max_width": null,
            "min_height": null,
            "min_width": null,
            "object_fit": null,
            "object_position": null,
            "order": null,
            "overflow": null,
            "overflow_x": null,
            "overflow_y": null,
            "padding": null,
            "right": null,
            "top": null,
            "visibility": null,
            "width": null
          }
        },
        "9e0ef8b46d3a4efc8096b5c35adb1d5f": {
          "model_module": "@jupyter-widgets/controls",
          "model_module_version": "1.5.0",
          "model_name": "HTMLModel",
          "state": {
            "_dom_classes": [],
            "_model_module": "@jupyter-widgets/controls",
            "_model_module_version": "1.5.0",
            "_model_name": "HTMLModel",
            "_view_count": null,
            "_view_module": "@jupyter-widgets/controls",
            "_view_module_version": "1.5.0",
            "_view_name": "HTMLView",
            "description": "",
            "description_tooltip": null,
            "layout": "IPY_MODEL_2155b152cd544c89855d92c271e6af2e",
            "placeholder": "​",
            "style": "IPY_MODEL_2bf1e7dc2a764bc88e3f4333d7c302c7",
            "value": "tokenizer.json: 100%"
          }
        },
        "9e174e508c4745ad8fb6fcf940f62ef5": {
          "model_module": "@jupyter-widgets/controls",
          "model_module_version": "1.5.0",
          "model_name": "DescriptionStyleModel",
          "state": {
            "_model_module": "@jupyter-widgets/controls",
            "_model_module_version": "1.5.0",
            "_model_name": "DescriptionStyleModel",
            "_view_count": null,
            "_view_module": "@jupyter-widgets/base",
            "_view_module_version": "1.2.0",
            "_view_name": "StyleView",
            "description_width": ""
          }
        },
        "9fe60272a6a9489b95f2a2b84be2629a": {
          "model_module": "@jupyter-widgets/controls",
          "model_module_version": "1.5.0",
          "model_name": "HBoxModel",
          "state": {
            "_dom_classes": [],
            "_model_module": "@jupyter-widgets/controls",
            "_model_module_version": "1.5.0",
            "_model_name": "HBoxModel",
            "_view_count": null,
            "_view_module": "@jupyter-widgets/controls",
            "_view_module_version": "1.5.0",
            "_view_name": "HBoxView",
            "box_style": "",
            "children": [
              "IPY_MODEL_8fe7dfb4adad4376b1f1473260652733",
              "IPY_MODEL_7bf90f490d9d4d7dbb04d9779eb65e7e",
              "IPY_MODEL_9346554fb50f4d7ebb28f803633a6d25"
            ],
            "layout": "IPY_MODEL_ca57f49ff65b4c5a9512eac8f8c8cb98"
          }
        },
        "a372a9bf826641a4bd698ae7cb8d4aa4": {
          "model_module": "@jupyter-widgets/controls",
          "model_module_version": "1.5.0",
          "model_name": "HTMLModel",
          "state": {
            "_dom_classes": [],
            "_model_module": "@jupyter-widgets/controls",
            "_model_module_version": "1.5.0",
            "_model_name": "HTMLModel",
            "_view_count": null,
            "_view_module": "@jupyter-widgets/controls",
            "_view_module_version": "1.5.0",
            "_view_name": "HTMLView",
            "description": "",
            "description_tooltip": null,
            "layout": "IPY_MODEL_e0bbde62123a44cf83310e16037ef7cd",
            "placeholder": "​",
            "style": "IPY_MODEL_7a774bf2d86e43f59f87bbf6313142a2",
            "value": "tokenizer_config.json: 100%"
          }
        },
        "a5c636a2931041bea30174842dc75213": {
          "model_module": "@jupyter-widgets/base",
          "model_module_version": "1.2.0",
          "model_name": "LayoutModel",
          "state": {
            "_model_module": "@jupyter-widgets/base",
            "_model_module_version": "1.2.0",
            "_model_name": "LayoutModel",
            "_view_count": null,
            "_view_module": "@jupyter-widgets/base",
            "_view_module_version": "1.2.0",
            "_view_name": "LayoutView",
            "align_content": null,
            "align_items": null,
            "align_self": null,
            "border": null,
            "bottom": null,
            "display": null,
            "flex": null,
            "flex_flow": null,
            "grid_area": null,
            "grid_auto_columns": null,
            "grid_auto_flow": null,
            "grid_auto_rows": null,
            "grid_column": null,
            "grid_gap": null,
            "grid_row": null,
            "grid_template_areas": null,
            "grid_template_columns": null,
            "grid_template_rows": null,
            "height": null,
            "justify_content": null,
            "justify_items": null,
            "left": null,
            "margin": null,
            "max_height": null,
            "max_width": null,
            "min_height": null,
            "min_width": null,
            "object_fit": null,
            "object_position": null,
            "order": null,
            "overflow": null,
            "overflow_x": null,
            "overflow_y": null,
            "padding": null,
            "right": null,
            "top": null,
            "visibility": null,
            "width": null
          }
        },
        "a715597bbdcc4202baca3df8bf0dcacd": {
          "model_module": "@jupyter-widgets/controls",
          "model_module_version": "1.5.0",
          "model_name": "HBoxModel",
          "state": {
            "_dom_classes": [],
            "_model_module": "@jupyter-widgets/controls",
            "_model_module_version": "1.5.0",
            "_model_name": "HBoxModel",
            "_view_count": null,
            "_view_module": "@jupyter-widgets/controls",
            "_view_module_version": "1.5.0",
            "_view_name": "HBoxView",
            "box_style": "",
            "children": [
              "IPY_MODEL_15636e1a96e141f79b3192a8553c04c0",
              "IPY_MODEL_c2fe24474986473392d91849973262ec",
              "IPY_MODEL_b2f07a7b24ed453ba9ce86be1d4fd7e2"
            ],
            "layout": "IPY_MODEL_49742c8ffdd048dc8db968329a63b233"
          }
        },
        "a718adef766a4468803337a3349ecd16": {
          "model_module": "@jupyter-widgets/controls",
          "model_module_version": "1.5.0",
          "model_name": "HTMLModel",
          "state": {
            "_dom_classes": [],
            "_model_module": "@jupyter-widgets/controls",
            "_model_module_version": "1.5.0",
            "_model_name": "HTMLModel",
            "_view_count": null,
            "_view_module": "@jupyter-widgets/controls",
            "_view_module_version": "1.5.0",
            "_view_name": "HTMLView",
            "description": "",
            "description_tooltip": null,
            "layout": "IPY_MODEL_98151dbe2c804b048ed7b58fef6a8639",
            "placeholder": "​",
            "style": "IPY_MODEL_f22f52e5fd3940968164a6861e2ae3a1",
            "value": " 959/959 [00:00&lt;00:00, 18.6kB/s]"
          }
        },
        "ab8679ce90694102bae2dc34a15db196": {
          "model_module": "@jupyter-widgets/base",
          "model_module_version": "1.2.0",
          "model_name": "LayoutModel",
          "state": {
            "_model_module": "@jupyter-widgets/base",
            "_model_module_version": "1.2.0",
            "_model_name": "LayoutModel",
            "_view_count": null,
            "_view_module": "@jupyter-widgets/base",
            "_view_module_version": "1.2.0",
            "_view_name": "LayoutView",
            "align_content": null,
            "align_items": null,
            "align_self": null,
            "border": null,
            "bottom": null,
            "display": null,
            "flex": null,
            "flex_flow": null,
            "grid_area": null,
            "grid_auto_columns": null,
            "grid_auto_flow": null,
            "grid_auto_rows": null,
            "grid_column": null,
            "grid_gap": null,
            "grid_row": null,
            "grid_template_areas": null,
            "grid_template_columns": null,
            "grid_template_rows": null,
            "height": null,
            "justify_content": null,
            "justify_items": null,
            "left": null,
            "margin": null,
            "max_height": null,
            "max_width": null,
            "min_height": null,
            "min_width": null,
            "object_fit": null,
            "object_position": null,
            "order": null,
            "overflow": null,
            "overflow_x": null,
            "overflow_y": null,
            "padding": null,
            "right": null,
            "top": null,
            "visibility": null,
            "width": null
          }
        },
        "ac4b864d20474fb4ae0231c95721520c": {
          "model_module": "@jupyter-widgets/controls",
          "model_module_version": "1.5.0",
          "model_name": "HTMLModel",
          "state": {
            "_dom_classes": [],
            "_model_module": "@jupyter-widgets/controls",
            "_model_module_version": "1.5.0",
            "_model_name": "HTMLModel",
            "_view_count": null,
            "_view_module": "@jupyter-widgets/controls",
            "_view_module_version": "1.5.0",
            "_view_name": "HTMLView",
            "description": "",
            "description_tooltip": null,
            "layout": "IPY_MODEL_71085593a76148d0bf99227fba3fff93",
            "placeholder": "​",
            "style": "IPY_MODEL_90e24ede09de4d95ae0a5107eaae575b",
            "value": "special_tokens_map.json: 100%"
          }
        },
        "b2f07a7b24ed453ba9ce86be1d4fd7e2": {
          "model_module": "@jupyter-widgets/controls",
          "model_module_version": "1.5.0",
          "model_name": "HTMLModel",
          "state": {
            "_dom_classes": [],
            "_model_module": "@jupyter-widgets/controls",
            "_model_module_version": "1.5.0",
            "_model_name": "HTMLModel",
            "_view_count": null,
            "_view_module": "@jupyter-widgets/controls",
            "_view_module_version": "1.5.0",
            "_view_name": "HTMLView",
            "description": "",
            "description_tooltip": null,
            "layout": "IPY_MODEL_fe524e6992e741d4b335387b7a4bf89b",
            "placeholder": "​",
            "style": "IPY_MODEL_251ae227cb694b70839a1cd4aaf63db8",
            "value": " 4/4 [00:00&lt;00:00,  1.24it/s]"
          }
        },
        "b542daf2698c4e3c94d83d44f6cc628c": {
          "model_module": "@jupyter-widgets/controls",
          "model_module_version": "1.5.0",
          "model_name": "HBoxModel",
          "state": {
            "_dom_classes": [],
            "_model_module": "@jupyter-widgets/controls",
            "_model_module_version": "1.5.0",
            "_model_name": "HBoxModel",
            "_view_count": null,
            "_view_module": "@jupyter-widgets/controls",
            "_view_module_version": "1.5.0",
            "_view_name": "HBoxView",
            "box_style": "",
            "children": [
              "IPY_MODEL_9e0ef8b46d3a4efc8096b5c35adb1d5f",
              "IPY_MODEL_1f22c442b78d4a2cb74bf371946e3932",
              "IPY_MODEL_3ec2599d2b9c4f78b182a4658ce021ef"
            ],
            "layout": "IPY_MODEL_5ec25c42162d4054b07fa8405f503939"
          }
        },
        "b6b01521175549a686b902dd65d2cb17": {
          "model_module": "@jupyter-widgets/controls",
          "model_module_version": "1.5.0",
          "model_name": "FloatProgressModel",
          "state": {
            "_dom_classes": [],
            "_model_module": "@jupyter-widgets/controls",
            "_model_module_version": "1.5.0",
            "_model_name": "FloatProgressModel",
            "_view_count": null,
            "_view_module": "@jupyter-widgets/controls",
            "_view_module_version": "1.5.0",
            "_view_name": "ProgressView",
            "bar_style": "success",
            "description": "",
            "description_tooltip": null,
            "layout": "IPY_MODEL_2a3e08c8d9e3481cb3fb994edf7b74f7",
            "max": 703162912,
            "min": 0,
            "orientation": "horizontal",
            "style": "IPY_MODEL_e10bf88b007a4d66836596205ad78bb2",
            "value": 703162912
          }
        },
        "b7272c15639442f680a36a4ac39290f8": {
          "model_module": "@jupyter-widgets/controls",
          "model_module_version": "1.5.0",
          "model_name": "ProgressStyleModel",
          "state": {
            "_model_module": "@jupyter-widgets/controls",
            "_model_module_version": "1.5.0",
            "_model_name": "ProgressStyleModel",
            "_view_count": null,
            "_view_module": "@jupyter-widgets/base",
            "_view_module_version": "1.2.0",
            "_view_name": "StyleView",
            "bar_color": null,
            "description_width": ""
          }
        },
        "b8b6aee662bb4803b4425e1ee45fe5f7": {
          "model_module": "@jupyter-widgets/controls",
          "model_module_version": "1.5.0",
          "model_name": "ProgressStyleModel",
          "state": {
            "_model_module": "@jupyter-widgets/controls",
            "_model_module_version": "1.5.0",
            "_model_name": "ProgressStyleModel",
            "_view_count": null,
            "_view_module": "@jupyter-widgets/base",
            "_view_module_version": "1.2.0",
            "_view_name": "StyleView",
            "bar_color": null,
            "description_width": ""
          }
        },
        "be50a5f134e6449981369a9ba2afbb7c": {
          "model_module": "@jupyter-widgets/controls",
          "model_module_version": "1.5.0",
          "model_name": "DescriptionStyleModel",
          "state": {
            "_model_module": "@jupyter-widgets/controls",
            "_model_module_version": "1.5.0",
            "_model_name": "DescriptionStyleModel",
            "_view_count": null,
            "_view_module": "@jupyter-widgets/base",
            "_view_module_version": "1.2.0",
            "_view_name": "StyleView",
            "description_width": ""
          }
        },
        "c2fe24474986473392d91849973262ec": {
          "model_module": "@jupyter-widgets/controls",
          "model_module_version": "1.5.0",
          "model_name": "FloatProgressModel",
          "state": {
            "_dom_classes": [],
            "_model_module": "@jupyter-widgets/controls",
            "_model_module_version": "1.5.0",
            "_model_name": "FloatProgressModel",
            "_view_count": null,
            "_view_module": "@jupyter-widgets/controls",
            "_view_module_version": "1.5.0",
            "_view_name": "ProgressView",
            "bar_style": "success",
            "description": "",
            "description_tooltip": null,
            "layout": "IPY_MODEL_9cf7a38f2549492a9f41ac2340357f2b",
            "max": 4,
            "min": 0,
            "orientation": "horizontal",
            "style": "IPY_MODEL_03c5b91d41bb4401b5ce64f5d2337786",
            "value": 4
          }
        },
        "ca57f49ff65b4c5a9512eac8f8c8cb98": {
          "model_module": "@jupyter-widgets/base",
          "model_module_version": "1.2.0",
          "model_name": "LayoutModel",
          "state": {
            "_model_module": "@jupyter-widgets/base",
            "_model_module_version": "1.2.0",
            "_model_name": "LayoutModel",
            "_view_count": null,
            "_view_module": "@jupyter-widgets/base",
            "_view_module_version": "1.2.0",
            "_view_name": "LayoutView",
            "align_content": null,
            "align_items": null,
            "align_self": null,
            "border": null,
            "bottom": null,
            "display": null,
            "flex": null,
            "flex_flow": null,
            "grid_area": null,
            "grid_auto_columns": null,
            "grid_auto_flow": null,
            "grid_auto_rows": null,
            "grid_column": null,
            "grid_gap": null,
            "grid_row": null,
            "grid_template_areas": null,
            "grid_template_columns": null,
            "grid_template_rows": null,
            "height": null,
            "justify_content": null,
            "justify_items": null,
            "left": null,
            "margin": null,
            "max_height": null,
            "max_width": null,
            "min_height": null,
            "min_width": null,
            "object_fit": null,
            "object_position": null,
            "order": null,
            "overflow": null,
            "overflow_x": null,
            "overflow_y": null,
            "padding": null,
            "right": null,
            "top": null,
            "visibility": null,
            "width": null
          }
        },
        "cacd3e2d30bc41c496675a663f8fdc54": {
          "model_module": "@jupyter-widgets/controls",
          "model_module_version": "1.5.0",
          "model_name": "DescriptionStyleModel",
          "state": {
            "_model_module": "@jupyter-widgets/controls",
            "_model_module_version": "1.5.0",
            "_model_name": "DescriptionStyleModel",
            "_view_count": null,
            "_view_module": "@jupyter-widgets/base",
            "_view_module_version": "1.2.0",
            "_view_name": "StyleView",
            "description_width": ""
          }
        },
        "d54ff57dabb349cdbc13bfe1011d1643": {
          "model_module": "@jupyter-widgets/controls",
          "model_module_version": "1.5.0",
          "model_name": "ProgressStyleModel",
          "state": {
            "_model_module": "@jupyter-widgets/controls",
            "_model_module_version": "1.5.0",
            "_model_name": "ProgressStyleModel",
            "_view_count": null,
            "_view_module": "@jupyter-widgets/base",
            "_view_module_version": "1.2.0",
            "_view_name": "StyleView",
            "bar_color": null,
            "description_width": ""
          }
        },
        "d642c062e2b944639f7b52bc3baac6d3": {
          "model_module": "@jupyter-widgets/controls",
          "model_module_version": "1.5.0",
          "model_name": "DescriptionStyleModel",
          "state": {
            "_model_module": "@jupyter-widgets/controls",
            "_model_module_version": "1.5.0",
            "_model_name": "DescriptionStyleModel",
            "_view_count": null,
            "_view_module": "@jupyter-widgets/base",
            "_view_module_version": "1.2.0",
            "_view_name": "StyleView",
            "description_width": ""
          }
        },
        "d9f068f0ec2f4c46bf7932ffe35dbd75": {
          "model_module": "@jupyter-widgets/controls",
          "model_module_version": "1.5.0",
          "model_name": "DescriptionStyleModel",
          "state": {
            "_model_module": "@jupyter-widgets/controls",
            "_model_module_version": "1.5.0",
            "_model_name": "DescriptionStyleModel",
            "_view_count": null,
            "_view_module": "@jupyter-widgets/base",
            "_view_module_version": "1.2.0",
            "_view_name": "StyleView",
            "description_width": ""
          }
        },
        "dd2b1787b1e74543b0c315022aad8715": {
          "model_module": "@jupyter-widgets/controls",
          "model_module_version": "1.5.0",
          "model_name": "HTMLModel",
          "state": {
            "_dom_classes": [],
            "_model_module": "@jupyter-widgets/controls",
            "_model_module_version": "1.5.0",
            "_model_name": "HTMLModel",
            "_view_count": null,
            "_view_module": "@jupyter-widgets/controls",
            "_view_module_version": "1.5.0",
            "_view_name": "HTMLView",
            "description": "",
            "description_tooltip": null,
            "layout": "IPY_MODEL_282fe752743c43c9a59ace52d4071653",
            "placeholder": "​",
            "style": "IPY_MODEL_05c63294963943758d5d8066da091749",
            "value": " 703M/703M [00:03&lt;00:00, 212MB/s]"
          }
        },
        "e0bbde62123a44cf83310e16037ef7cd": {
          "model_module": "@jupyter-widgets/base",
          "model_module_version": "1.2.0",
          "model_name": "LayoutModel",
          "state": {
            "_model_module": "@jupyter-widgets/base",
            "_model_module_version": "1.2.0",
            "_model_name": "LayoutModel",
            "_view_count": null,
            "_view_module": "@jupyter-widgets/base",
            "_view_module_version": "1.2.0",
            "_view_name": "LayoutView",
            "align_content": null,
            "align_items": null,
            "align_self": null,
            "border": null,
            "bottom": null,
            "display": null,
            "flex": null,
            "flex_flow": null,
            "grid_area": null,
            "grid_auto_columns": null,
            "grid_auto_flow": null,
            "grid_auto_rows": null,
            "grid_column": null,
            "grid_gap": null,
            "grid_row": null,
            "grid_template_areas": null,
            "grid_template_columns": null,
            "grid_template_rows": null,
            "height": null,
            "justify_content": null,
            "justify_items": null,
            "left": null,
            "margin": null,
            "max_height": null,
            "max_width": null,
            "min_height": null,
            "min_width": null,
            "object_fit": null,
            "object_position": null,
            "order": null,
            "overflow": null,
            "overflow_x": null,
            "overflow_y": null,
            "padding": null,
            "right": null,
            "top": null,
            "visibility": null,
            "width": null
          }
        },
        "e10bf88b007a4d66836596205ad78bb2": {
          "model_module": "@jupyter-widgets/controls",
          "model_module_version": "1.5.0",
          "model_name": "ProgressStyleModel",
          "state": {
            "_model_module": "@jupyter-widgets/controls",
            "_model_module_version": "1.5.0",
            "_model_name": "ProgressStyleModel",
            "_view_count": null,
            "_view_module": "@jupyter-widgets/base",
            "_view_module_version": "1.2.0",
            "_view_name": "StyleView",
            "bar_color": null,
            "description_width": ""
          }
        },
        "e171b29f89e74a6587a9e7930b0e0c07": {
          "model_module": "@jupyter-widgets/controls",
          "model_module_version": "1.5.0",
          "model_name": "DescriptionStyleModel",
          "state": {
            "_model_module": "@jupyter-widgets/controls",
            "_model_module_version": "1.5.0",
            "_model_name": "DescriptionStyleModel",
            "_view_count": null,
            "_view_module": "@jupyter-widgets/base",
            "_view_module_version": "1.2.0",
            "_view_name": "StyleView",
            "description_width": ""
          }
        },
        "e263f5586ab34efe91e4b0eece3e4f64": {
          "model_module": "@jupyter-widgets/controls",
          "model_module_version": "1.5.0",
          "model_name": "ProgressStyleModel",
          "state": {
            "_model_module": "@jupyter-widgets/controls",
            "_model_module_version": "1.5.0",
            "_model_name": "ProgressStyleModel",
            "_view_count": null,
            "_view_module": "@jupyter-widgets/base",
            "_view_module_version": "1.2.0",
            "_view_name": "StyleView",
            "bar_color": null,
            "description_width": ""
          }
        },
        "eea737f97cab44d68f04f8767decd108": {
          "model_module": "@jupyter-widgets/controls",
          "model_module_version": "1.5.0",
          "model_name": "ProgressStyleModel",
          "state": {
            "_model_module": "@jupyter-widgets/controls",
            "_model_module_version": "1.5.0",
            "_model_name": "ProgressStyleModel",
            "_view_count": null,
            "_view_module": "@jupyter-widgets/base",
            "_view_module_version": "1.2.0",
            "_view_name": "StyleView",
            "bar_color": null,
            "description_width": ""
          }
        },
        "f22f52e5fd3940968164a6861e2ae3a1": {
          "model_module": "@jupyter-widgets/controls",
          "model_module_version": "1.5.0",
          "model_name": "DescriptionStyleModel",
          "state": {
            "_model_module": "@jupyter-widgets/controls",
            "_model_module_version": "1.5.0",
            "_model_name": "DescriptionStyleModel",
            "_view_count": null,
            "_view_module": "@jupyter-widgets/base",
            "_view_module_version": "1.2.0",
            "_view_name": "StyleView",
            "description_width": ""
          }
        },
        "f93ceead65f24a3093447ac9826a10b8": {
          "model_module": "@jupyter-widgets/controls",
          "model_module_version": "1.5.0",
          "model_name": "DescriptionStyleModel",
          "state": {
            "_model_module": "@jupyter-widgets/controls",
            "_model_module_version": "1.5.0",
            "_model_name": "DescriptionStyleModel",
            "_view_count": null,
            "_view_module": "@jupyter-widgets/base",
            "_view_module_version": "1.2.0",
            "_view_name": "StyleView",
            "description_width": ""
          }
        },
        "fbaccf24e6ae49bc841f4ae68a0b443f": {
          "model_module": "@jupyter-widgets/base",
          "model_module_version": "1.2.0",
          "model_name": "LayoutModel",
          "state": {
            "_model_module": "@jupyter-widgets/base",
            "_model_module_version": "1.2.0",
            "_model_name": "LayoutModel",
            "_view_count": null,
            "_view_module": "@jupyter-widgets/base",
            "_view_module_version": "1.2.0",
            "_view_name": "LayoutView",
            "align_content": null,
            "align_items": null,
            "align_self": null,
            "border": null,
            "bottom": null,
            "display": null,
            "flex": null,
            "flex_flow": null,
            "grid_area": null,
            "grid_auto_columns": null,
            "grid_auto_flow": null,
            "grid_auto_rows": null,
            "grid_column": null,
            "grid_gap": null,
            "grid_row": null,
            "grid_template_areas": null,
            "grid_template_columns": null,
            "grid_template_rows": null,
            "height": null,
            "justify_content": null,
            "justify_items": null,
            "left": null,
            "margin": null,
            "max_height": null,
            "max_width": null,
            "min_height": null,
            "min_width": null,
            "object_fit": null,
            "object_position": null,
            "order": null,
            "overflow": null,
            "overflow_x": null,
            "overflow_y": null,
            "padding": null,
            "right": null,
            "top": null,
            "visibility": null,
            "width": null
          }
        },
        "fc7e557a88b244b69ddbe9e46ae29c63": {
          "model_module": "@jupyter-widgets/base",
          "model_module_version": "1.2.0",
          "model_name": "LayoutModel",
          "state": {
            "_model_module": "@jupyter-widgets/base",
            "_model_module_version": "1.2.0",
            "_model_name": "LayoutModel",
            "_view_count": null,
            "_view_module": "@jupyter-widgets/base",
            "_view_module_version": "1.2.0",
            "_view_name": "LayoutView",
            "align_content": null,
            "align_items": null,
            "align_self": null,
            "border": null,
            "bottom": null,
            "display": null,
            "flex": null,
            "flex_flow": null,
            "grid_area": null,
            "grid_auto_columns": null,
            "grid_auto_flow": null,
            "grid_auto_rows": null,
            "grid_column": null,
            "grid_gap": null,
            "grid_row": null,
            "grid_template_areas": null,
            "grid_template_columns": null,
            "grid_template_rows": null,
            "height": null,
            "justify_content": null,
            "justify_items": null,
            "left": null,
            "margin": null,
            "max_height": null,
            "max_width": null,
            "min_height": null,
            "min_width": null,
            "object_fit": null,
            "object_position": null,
            "order": null,
            "overflow": null,
            "overflow_x": null,
            "overflow_y": null,
            "padding": null,
            "right": null,
            "top": null,
            "visibility": null,
            "width": null
          }
        },
        "fe524e6992e741d4b335387b7a4bf89b": {
          "model_module": "@jupyter-widgets/base",
          "model_module_version": "1.2.0",
          "model_name": "LayoutModel",
          "state": {
            "_model_module": "@jupyter-widgets/base",
            "_model_module_version": "1.2.0",
            "_model_name": "LayoutModel",
            "_view_count": null,
            "_view_module": "@jupyter-widgets/base",
            "_view_module_version": "1.2.0",
            "_view_name": "LayoutView",
            "align_content": null,
            "align_items": null,
            "align_self": null,
            "border": null,
            "bottom": null,
            "display": null,
            "flex": null,
            "flex_flow": null,
            "grid_area": null,
            "grid_auto_columns": null,
            "grid_auto_flow": null,
            "grid_auto_rows": null,
            "grid_column": null,
            "grid_gap": null,
            "grid_row": null,
            "grid_template_areas": null,
            "grid_template_columns": null,
            "grid_template_rows": null,
            "height": null,
            "justify_content": null,
            "justify_items": null,
            "left": null,
            "margin": null,
            "max_height": null,
            "max_width": null,
            "min_height": null,
            "min_width": null,
            "object_fit": null,
            "object_position": null,
            "order": null,
            "overflow": null,
            "overflow_x": null,
            "overflow_y": null,
            "padding": null,
            "right": null,
            "top": null,
            "visibility": null,
            "width": null
          }
        },
        "4de1555ad2ef4e5b90b1698e0dc78144": {
          "model_module": "@jupyter-widgets/controls",
          "model_name": "HBoxModel",
          "model_module_version": "1.5.0",
          "state": {
            "_dom_classes": [],
            "_model_module": "@jupyter-widgets/controls",
            "_model_module_version": "1.5.0",
            "_model_name": "HBoxModel",
            "_view_count": null,
            "_view_module": "@jupyter-widgets/controls",
            "_view_module_version": "1.5.0",
            "_view_name": "HBoxView",
            "box_style": "",
            "children": [
              "IPY_MODEL_9f92ec3aef17473997bc90e9fe2cd43c",
              "IPY_MODEL_923231c6fcdb4cd59c301a153bb1307d",
              "IPY_MODEL_2ce7a9e428574465a413fccfd0f079b2"
            ],
            "layout": "IPY_MODEL_c59479acb6e14e36aa8a980d357299c8"
          }
        },
        "9f92ec3aef17473997bc90e9fe2cd43c": {
          "model_module": "@jupyter-widgets/controls",
          "model_name": "HTMLModel",
          "model_module_version": "1.5.0",
          "state": {
            "_dom_classes": [],
            "_model_module": "@jupyter-widgets/controls",
            "_model_module_version": "1.5.0",
            "_model_name": "HTMLModel",
            "_view_count": null,
            "_view_module": "@jupyter-widgets/controls",
            "_view_module_version": "1.5.0",
            "_view_name": "HTMLView",
            "description": "",
            "description_tooltip": null,
            "layout": "IPY_MODEL_023c781c23194ea9a4a3749c682f9901",
            "placeholder": "​",
            "style": "IPY_MODEL_d46542f0dd894659b586ea611b641ccf",
            "value": "tokenizer_config.json: 100%"
          }
        },
        "923231c6fcdb4cd59c301a153bb1307d": {
          "model_module": "@jupyter-widgets/controls",
          "model_name": "FloatProgressModel",
          "model_module_version": "1.5.0",
          "state": {
            "_dom_classes": [],
            "_model_module": "@jupyter-widgets/controls",
            "_model_module_version": "1.5.0",
            "_model_name": "FloatProgressModel",
            "_view_count": null,
            "_view_module": "@jupyter-widgets/controls",
            "_view_module_version": "1.5.0",
            "_view_name": "ProgressView",
            "bar_style": "success",
            "description": "",
            "description_tooltip": null,
            "layout": "IPY_MODEL_ce520792cefd493cbf21db9eda1735e9",
            "max": 33556,
            "min": 0,
            "orientation": "horizontal",
            "style": "IPY_MODEL_74afc14f07144c1792596c8130e9353d",
            "value": 33556
          }
        },
        "2ce7a9e428574465a413fccfd0f079b2": {
          "model_module": "@jupyter-widgets/controls",
          "model_name": "HTMLModel",
          "model_module_version": "1.5.0",
          "state": {
            "_dom_classes": [],
            "_model_module": "@jupyter-widgets/controls",
            "_model_module_version": "1.5.0",
            "_model_name": "HTMLModel",
            "_view_count": null,
            "_view_module": "@jupyter-widgets/controls",
            "_view_module_version": "1.5.0",
            "_view_name": "HTMLView",
            "description": "",
            "description_tooltip": null,
            "layout": "IPY_MODEL_77f89a237b284dd28b66b979faaad20a",
            "placeholder": "​",
            "style": "IPY_MODEL_fd620b1b503843a9b6d661d952d35d1e",
            "value": " 33.6k/33.6k [00:00&lt;00:00, 741kB/s]"
          }
        },
        "c59479acb6e14e36aa8a980d357299c8": {
          "model_module": "@jupyter-widgets/base",
          "model_name": "LayoutModel",
          "model_module_version": "1.2.0",
          "state": {
            "_model_module": "@jupyter-widgets/base",
            "_model_module_version": "1.2.0",
            "_model_name": "LayoutModel",
            "_view_count": null,
            "_view_module": "@jupyter-widgets/base",
            "_view_module_version": "1.2.0",
            "_view_name": "LayoutView",
            "align_content": null,
            "align_items": null,
            "align_self": null,
            "border": null,
            "bottom": null,
            "display": null,
            "flex": null,
            "flex_flow": null,
            "grid_area": null,
            "grid_auto_columns": null,
            "grid_auto_flow": null,
            "grid_auto_rows": null,
            "grid_column": null,
            "grid_gap": null,
            "grid_row": null,
            "grid_template_areas": null,
            "grid_template_columns": null,
            "grid_template_rows": null,
            "height": null,
            "justify_content": null,
            "justify_items": null,
            "left": null,
            "margin": null,
            "max_height": null,
            "max_width": null,
            "min_height": null,
            "min_width": null,
            "object_fit": null,
            "object_position": null,
            "order": null,
            "overflow": null,
            "overflow_x": null,
            "overflow_y": null,
            "padding": null,
            "right": null,
            "top": null,
            "visibility": null,
            "width": null
          }
        },
        "023c781c23194ea9a4a3749c682f9901": {
          "model_module": "@jupyter-widgets/base",
          "model_name": "LayoutModel",
          "model_module_version": "1.2.0",
          "state": {
            "_model_module": "@jupyter-widgets/base",
            "_model_module_version": "1.2.0",
            "_model_name": "LayoutModel",
            "_view_count": null,
            "_view_module": "@jupyter-widgets/base",
            "_view_module_version": "1.2.0",
            "_view_name": "LayoutView",
            "align_content": null,
            "align_items": null,
            "align_self": null,
            "border": null,
            "bottom": null,
            "display": null,
            "flex": null,
            "flex_flow": null,
            "grid_area": null,
            "grid_auto_columns": null,
            "grid_auto_flow": null,
            "grid_auto_rows": null,
            "grid_column": null,
            "grid_gap": null,
            "grid_row": null,
            "grid_template_areas": null,
            "grid_template_columns": null,
            "grid_template_rows": null,
            "height": null,
            "justify_content": null,
            "justify_items": null,
            "left": null,
            "margin": null,
            "max_height": null,
            "max_width": null,
            "min_height": null,
            "min_width": null,
            "object_fit": null,
            "object_position": null,
            "order": null,
            "overflow": null,
            "overflow_x": null,
            "overflow_y": null,
            "padding": null,
            "right": null,
            "top": null,
            "visibility": null,
            "width": null
          }
        },
        "d46542f0dd894659b586ea611b641ccf": {
          "model_module": "@jupyter-widgets/controls",
          "model_name": "DescriptionStyleModel",
          "model_module_version": "1.5.0",
          "state": {
            "_model_module": "@jupyter-widgets/controls",
            "_model_module_version": "1.5.0",
            "_model_name": "DescriptionStyleModel",
            "_view_count": null,
            "_view_module": "@jupyter-widgets/base",
            "_view_module_version": "1.2.0",
            "_view_name": "StyleView",
            "description_width": ""
          }
        },
        "ce520792cefd493cbf21db9eda1735e9": {
          "model_module": "@jupyter-widgets/base",
          "model_name": "LayoutModel",
          "model_module_version": "1.2.0",
          "state": {
            "_model_module": "@jupyter-widgets/base",
            "_model_module_version": "1.2.0",
            "_model_name": "LayoutModel",
            "_view_count": null,
            "_view_module": "@jupyter-widgets/base",
            "_view_module_version": "1.2.0",
            "_view_name": "LayoutView",
            "align_content": null,
            "align_items": null,
            "align_self": null,
            "border": null,
            "bottom": null,
            "display": null,
            "flex": null,
            "flex_flow": null,
            "grid_area": null,
            "grid_auto_columns": null,
            "grid_auto_flow": null,
            "grid_auto_rows": null,
            "grid_column": null,
            "grid_gap": null,
            "grid_row": null,
            "grid_template_areas": null,
            "grid_template_columns": null,
            "grid_template_rows": null,
            "height": null,
            "justify_content": null,
            "justify_items": null,
            "left": null,
            "margin": null,
            "max_height": null,
            "max_width": null,
            "min_height": null,
            "min_width": null,
            "object_fit": null,
            "object_position": null,
            "order": null,
            "overflow": null,
            "overflow_x": null,
            "overflow_y": null,
            "padding": null,
            "right": null,
            "top": null,
            "visibility": null,
            "width": null
          }
        },
        "74afc14f07144c1792596c8130e9353d": {
          "model_module": "@jupyter-widgets/controls",
          "model_name": "ProgressStyleModel",
          "model_module_version": "1.5.0",
          "state": {
            "_model_module": "@jupyter-widgets/controls",
            "_model_module_version": "1.5.0",
            "_model_name": "ProgressStyleModel",
            "_view_count": null,
            "_view_module": "@jupyter-widgets/base",
            "_view_module_version": "1.2.0",
            "_view_name": "StyleView",
            "bar_color": null,
            "description_width": ""
          }
        },
        "77f89a237b284dd28b66b979faaad20a": {
          "model_module": "@jupyter-widgets/base",
          "model_name": "LayoutModel",
          "model_module_version": "1.2.0",
          "state": {
            "_model_module": "@jupyter-widgets/base",
            "_model_module_version": "1.2.0",
            "_model_name": "LayoutModel",
            "_view_count": null,
            "_view_module": "@jupyter-widgets/base",
            "_view_module_version": "1.2.0",
            "_view_name": "LayoutView",
            "align_content": null,
            "align_items": null,
            "align_self": null,
            "border": null,
            "bottom": null,
            "display": null,
            "flex": null,
            "flex_flow": null,
            "grid_area": null,
            "grid_auto_columns": null,
            "grid_auto_flow": null,
            "grid_auto_rows": null,
            "grid_column": null,
            "grid_gap": null,
            "grid_row": null,
            "grid_template_areas": null,
            "grid_template_columns": null,
            "grid_template_rows": null,
            "height": null,
            "justify_content": null,
            "justify_items": null,
            "left": null,
            "margin": null,
            "max_height": null,
            "max_width": null,
            "min_height": null,
            "min_width": null,
            "object_fit": null,
            "object_position": null,
            "order": null,
            "overflow": null,
            "overflow_x": null,
            "overflow_y": null,
            "padding": null,
            "right": null,
            "top": null,
            "visibility": null,
            "width": null
          }
        },
        "fd620b1b503843a9b6d661d952d35d1e": {
          "model_module": "@jupyter-widgets/controls",
          "model_name": "DescriptionStyleModel",
          "model_module_version": "1.5.0",
          "state": {
            "_model_module": "@jupyter-widgets/controls",
            "_model_module_version": "1.5.0",
            "_model_name": "DescriptionStyleModel",
            "_view_count": null,
            "_view_module": "@jupyter-widgets/base",
            "_view_module_version": "1.2.0",
            "_view_name": "StyleView",
            "description_width": ""
          }
        },
        "c57e49da60a3415d9807da84796a3405": {
          "model_module": "@jupyter-widgets/controls",
          "model_name": "HBoxModel",
          "model_module_version": "1.5.0",
          "state": {
            "_dom_classes": [],
            "_model_module": "@jupyter-widgets/controls",
            "_model_module_version": "1.5.0",
            "_model_name": "HBoxModel",
            "_view_count": null,
            "_view_module": "@jupyter-widgets/controls",
            "_view_module_version": "1.5.0",
            "_view_name": "HBoxView",
            "box_style": "",
            "children": [
              "IPY_MODEL_46a394b2364a4ce0b1fb5ca91cad96aa",
              "IPY_MODEL_2ab8af7e13aa465184481a48067e35c5",
              "IPY_MODEL_fb21b97c91db4e528792d8a3819a2ae2"
            ],
            "layout": "IPY_MODEL_8338dd578aa94784add66ae129ff312e"
          }
        },
        "46a394b2364a4ce0b1fb5ca91cad96aa": {
          "model_module": "@jupyter-widgets/controls",
          "model_name": "HTMLModel",
          "model_module_version": "1.5.0",
          "state": {
            "_dom_classes": [],
            "_model_module": "@jupyter-widgets/controls",
            "_model_module_version": "1.5.0",
            "_model_name": "HTMLModel",
            "_view_count": null,
            "_view_module": "@jupyter-widgets/controls",
            "_view_module_version": "1.5.0",
            "_view_name": "HTMLView",
            "description": "",
            "description_tooltip": null,
            "layout": "IPY_MODEL_110b279515c641c6918352d679432a84",
            "placeholder": "​",
            "style": "IPY_MODEL_46021e8d824749569e39a5be896033ae",
            "value": "tokenizer.model: 100%"
          }
        },
        "2ab8af7e13aa465184481a48067e35c5": {
          "model_module": "@jupyter-widgets/controls",
          "model_name": "FloatProgressModel",
          "model_module_version": "1.5.0",
          "state": {
            "_dom_classes": [],
            "_model_module": "@jupyter-widgets/controls",
            "_model_module_version": "1.5.0",
            "_model_name": "FloatProgressModel",
            "_view_count": null,
            "_view_module": "@jupyter-widgets/controls",
            "_view_module_version": "1.5.0",
            "_view_name": "ProgressView",
            "bar_style": "success",
            "description": "",
            "description_tooltip": null,
            "layout": "IPY_MODEL_4beddc9ed6ce44fb9bb7915d906e3f69",
            "max": 4241003,
            "min": 0,
            "orientation": "horizontal",
            "style": "IPY_MODEL_be917e0fe37c485cbc1e4e368e6dd801",
            "value": 4241003
          }
        },
        "fb21b97c91db4e528792d8a3819a2ae2": {
          "model_module": "@jupyter-widgets/controls",
          "model_name": "HTMLModel",
          "model_module_version": "1.5.0",
          "state": {
            "_dom_classes": [],
            "_model_module": "@jupyter-widgets/controls",
            "_model_module_version": "1.5.0",
            "_model_name": "HTMLModel",
            "_view_count": null,
            "_view_module": "@jupyter-widgets/controls",
            "_view_module_version": "1.5.0",
            "_view_name": "HTMLView",
            "description": "",
            "description_tooltip": null,
            "layout": "IPY_MODEL_057f3bcccc2f47588baccb6824c08297",
            "placeholder": "​",
            "style": "IPY_MODEL_079265845c64442d8b4b72d142bb5d1d",
            "value": " 4.24M/4.24M [00:00&lt;00:00, 19.5MB/s]"
          }
        },
        "8338dd578aa94784add66ae129ff312e": {
          "model_module": "@jupyter-widgets/base",
          "model_name": "LayoutModel",
          "model_module_version": "1.2.0",
          "state": {
            "_model_module": "@jupyter-widgets/base",
            "_model_module_version": "1.2.0",
            "_model_name": "LayoutModel",
            "_view_count": null,
            "_view_module": "@jupyter-widgets/base",
            "_view_module_version": "1.2.0",
            "_view_name": "LayoutView",
            "align_content": null,
            "align_items": null,
            "align_self": null,
            "border": null,
            "bottom": null,
            "display": null,
            "flex": null,
            "flex_flow": null,
            "grid_area": null,
            "grid_auto_columns": null,
            "grid_auto_flow": null,
            "grid_auto_rows": null,
            "grid_column": null,
            "grid_gap": null,
            "grid_row": null,
            "grid_template_areas": null,
            "grid_template_columns": null,
            "grid_template_rows": null,
            "height": null,
            "justify_content": null,
            "justify_items": null,
            "left": null,
            "margin": null,
            "max_height": null,
            "max_width": null,
            "min_height": null,
            "min_width": null,
            "object_fit": null,
            "object_position": null,
            "order": null,
            "overflow": null,
            "overflow_x": null,
            "overflow_y": null,
            "padding": null,
            "right": null,
            "top": null,
            "visibility": null,
            "width": null
          }
        },
        "110b279515c641c6918352d679432a84": {
          "model_module": "@jupyter-widgets/base",
          "model_name": "LayoutModel",
          "model_module_version": "1.2.0",
          "state": {
            "_model_module": "@jupyter-widgets/base",
            "_model_module_version": "1.2.0",
            "_model_name": "LayoutModel",
            "_view_count": null,
            "_view_module": "@jupyter-widgets/base",
            "_view_module_version": "1.2.0",
            "_view_name": "LayoutView",
            "align_content": null,
            "align_items": null,
            "align_self": null,
            "border": null,
            "bottom": null,
            "display": null,
            "flex": null,
            "flex_flow": null,
            "grid_area": null,
            "grid_auto_columns": null,
            "grid_auto_flow": null,
            "grid_auto_rows": null,
            "grid_column": null,
            "grid_gap": null,
            "grid_row": null,
            "grid_template_areas": null,
            "grid_template_columns": null,
            "grid_template_rows": null,
            "height": null,
            "justify_content": null,
            "justify_items": null,
            "left": null,
            "margin": null,
            "max_height": null,
            "max_width": null,
            "min_height": null,
            "min_width": null,
            "object_fit": null,
            "object_position": null,
            "order": null,
            "overflow": null,
            "overflow_x": null,
            "overflow_y": null,
            "padding": null,
            "right": null,
            "top": null,
            "visibility": null,
            "width": null
          }
        },
        "46021e8d824749569e39a5be896033ae": {
          "model_module": "@jupyter-widgets/controls",
          "model_name": "DescriptionStyleModel",
          "model_module_version": "1.5.0",
          "state": {
            "_model_module": "@jupyter-widgets/controls",
            "_model_module_version": "1.5.0",
            "_model_name": "DescriptionStyleModel",
            "_view_count": null,
            "_view_module": "@jupyter-widgets/base",
            "_view_module_version": "1.2.0",
            "_view_name": "StyleView",
            "description_width": ""
          }
        },
        "4beddc9ed6ce44fb9bb7915d906e3f69": {
          "model_module": "@jupyter-widgets/base",
          "model_name": "LayoutModel",
          "model_module_version": "1.2.0",
          "state": {
            "_model_module": "@jupyter-widgets/base",
            "_model_module_version": "1.2.0",
            "_model_name": "LayoutModel",
            "_view_count": null,
            "_view_module": "@jupyter-widgets/base",
            "_view_module_version": "1.2.0",
            "_view_name": "LayoutView",
            "align_content": null,
            "align_items": null,
            "align_self": null,
            "border": null,
            "bottom": null,
            "display": null,
            "flex": null,
            "flex_flow": null,
            "grid_area": null,
            "grid_auto_columns": null,
            "grid_auto_flow": null,
            "grid_auto_rows": null,
            "grid_column": null,
            "grid_gap": null,
            "grid_row": null,
            "grid_template_areas": null,
            "grid_template_columns": null,
            "grid_template_rows": null,
            "height": null,
            "justify_content": null,
            "justify_items": null,
            "left": null,
            "margin": null,
            "max_height": null,
            "max_width": null,
            "min_height": null,
            "min_width": null,
            "object_fit": null,
            "object_position": null,
            "order": null,
            "overflow": null,
            "overflow_x": null,
            "overflow_y": null,
            "padding": null,
            "right": null,
            "top": null,
            "visibility": null,
            "width": null
          }
        },
        "be917e0fe37c485cbc1e4e368e6dd801": {
          "model_module": "@jupyter-widgets/controls",
          "model_name": "ProgressStyleModel",
          "model_module_version": "1.5.0",
          "state": {
            "_model_module": "@jupyter-widgets/controls",
            "_model_module_version": "1.5.0",
            "_model_name": "ProgressStyleModel",
            "_view_count": null,
            "_view_module": "@jupyter-widgets/base",
            "_view_module_version": "1.2.0",
            "_view_name": "StyleView",
            "bar_color": null,
            "description_width": ""
          }
        },
        "057f3bcccc2f47588baccb6824c08297": {
          "model_module": "@jupyter-widgets/base",
          "model_name": "LayoutModel",
          "model_module_version": "1.2.0",
          "state": {
            "_model_module": "@jupyter-widgets/base",
            "_model_module_version": "1.2.0",
            "_model_name": "LayoutModel",
            "_view_count": null,
            "_view_module": "@jupyter-widgets/base",
            "_view_module_version": "1.2.0",
            "_view_name": "LayoutView",
            "align_content": null,
            "align_items": null,
            "align_self": null,
            "border": null,
            "bottom": null,
            "display": null,
            "flex": null,
            "flex_flow": null,
            "grid_area": null,
            "grid_auto_columns": null,
            "grid_auto_flow": null,
            "grid_auto_rows": null,
            "grid_column": null,
            "grid_gap": null,
            "grid_row": null,
            "grid_template_areas": null,
            "grid_template_columns": null,
            "grid_template_rows": null,
            "height": null,
            "justify_content": null,
            "justify_items": null,
            "left": null,
            "margin": null,
            "max_height": null,
            "max_width": null,
            "min_height": null,
            "min_width": null,
            "object_fit": null,
            "object_position": null,
            "order": null,
            "overflow": null,
            "overflow_x": null,
            "overflow_y": null,
            "padding": null,
            "right": null,
            "top": null,
            "visibility": null,
            "width": null
          }
        },
        "079265845c64442d8b4b72d142bb5d1d": {
          "model_module": "@jupyter-widgets/controls",
          "model_name": "DescriptionStyleModel",
          "model_module_version": "1.5.0",
          "state": {
            "_model_module": "@jupyter-widgets/controls",
            "_model_module_version": "1.5.0",
            "_model_name": "DescriptionStyleModel",
            "_view_count": null,
            "_view_module": "@jupyter-widgets/base",
            "_view_module_version": "1.2.0",
            "_view_name": "StyleView",
            "description_width": ""
          }
        },
        "1d22cf6096f9469b8dd743cd7d3dbdb5": {
          "model_module": "@jupyter-widgets/controls",
          "model_name": "HBoxModel",
          "model_module_version": "1.5.0",
          "state": {
            "_dom_classes": [],
            "_model_module": "@jupyter-widgets/controls",
            "_model_module_version": "1.5.0",
            "_model_name": "HBoxModel",
            "_view_count": null,
            "_view_module": "@jupyter-widgets/controls",
            "_view_module_version": "1.5.0",
            "_view_name": "HBoxView",
            "box_style": "",
            "children": [
              "IPY_MODEL_2e4916b6b6264d72bfaf2abcac7e1773",
              "IPY_MODEL_3e299a8156c24922ae7d77fdb7934474",
              "IPY_MODEL_30149d80acfd4ab194044f1d3125383a"
            ],
            "layout": "IPY_MODEL_ba23b0f8e04743b293fa14ca328c4eb4"
          }
        },
        "2e4916b6b6264d72bfaf2abcac7e1773": {
          "model_module": "@jupyter-widgets/controls",
          "model_name": "HTMLModel",
          "model_module_version": "1.5.0",
          "state": {
            "_dom_classes": [],
            "_model_module": "@jupyter-widgets/controls",
            "_model_module_version": "1.5.0",
            "_model_name": "HTMLModel",
            "_view_count": null,
            "_view_module": "@jupyter-widgets/controls",
            "_view_module_version": "1.5.0",
            "_view_name": "HTMLView",
            "description": "",
            "description_tooltip": null,
            "layout": "IPY_MODEL_e5c3311ff0074f4fb51bf91fcdd04b65",
            "placeholder": "​",
            "style": "IPY_MODEL_35649c3afe064af3886fd63d7c219bb8",
            "value": "tokenizer.json: 100%"
          }
        },
        "3e299a8156c24922ae7d77fdb7934474": {
          "model_module": "@jupyter-widgets/controls",
          "model_name": "FloatProgressModel",
          "model_module_version": "1.5.0",
          "state": {
            "_dom_classes": [],
            "_model_module": "@jupyter-widgets/controls",
            "_model_module_version": "1.5.0",
            "_model_name": "FloatProgressModel",
            "_view_count": null,
            "_view_module": "@jupyter-widgets/controls",
            "_view_module_version": "1.5.0",
            "_view_name": "ProgressView",
            "bar_style": "success",
            "description": "",
            "description_tooltip": null,
            "layout": "IPY_MODEL_446117f1089f4b3e9dbcd1856d49dc9a",
            "max": 17518497,
            "min": 0,
            "orientation": "horizontal",
            "style": "IPY_MODEL_dd387a224c124b0eab2e1fb67de2377c",
            "value": 17518497
          }
        },
        "30149d80acfd4ab194044f1d3125383a": {
          "model_module": "@jupyter-widgets/controls",
          "model_name": "HTMLModel",
          "model_module_version": "1.5.0",
          "state": {
            "_dom_classes": [],
            "_model_module": "@jupyter-widgets/controls",
            "_model_module_version": "1.5.0",
            "_model_name": "HTMLModel",
            "_view_count": null,
            "_view_module": "@jupyter-widgets/controls",
            "_view_module_version": "1.5.0",
            "_view_name": "HTMLView",
            "description": "",
            "description_tooltip": null,
            "layout": "IPY_MODEL_f8d31df6cf98488c89807aa778bca595",
            "placeholder": "​",
            "style": "IPY_MODEL_130876d652c448438d76106aeb9bc0a6",
            "value": " 17.5M/17.5M [00:00&lt;00:00, 60.0MB/s]"
          }
        },
        "ba23b0f8e04743b293fa14ca328c4eb4": {
          "model_module": "@jupyter-widgets/base",
          "model_name": "LayoutModel",
          "model_module_version": "1.2.0",
          "state": {
            "_model_module": "@jupyter-widgets/base",
            "_model_module_version": "1.2.0",
            "_model_name": "LayoutModel",
            "_view_count": null,
            "_view_module": "@jupyter-widgets/base",
            "_view_module_version": "1.2.0",
            "_view_name": "LayoutView",
            "align_content": null,
            "align_items": null,
            "align_self": null,
            "border": null,
            "bottom": null,
            "display": null,
            "flex": null,
            "flex_flow": null,
            "grid_area": null,
            "grid_auto_columns": null,
            "grid_auto_flow": null,
            "grid_auto_rows": null,
            "grid_column": null,
            "grid_gap": null,
            "grid_row": null,
            "grid_template_areas": null,
            "grid_template_columns": null,
            "grid_template_rows": null,
            "height": null,
            "justify_content": null,
            "justify_items": null,
            "left": null,
            "margin": null,
            "max_height": null,
            "max_width": null,
            "min_height": null,
            "min_width": null,
            "object_fit": null,
            "object_position": null,
            "order": null,
            "overflow": null,
            "overflow_x": null,
            "overflow_y": null,
            "padding": null,
            "right": null,
            "top": null,
            "visibility": null,
            "width": null
          }
        },
        "e5c3311ff0074f4fb51bf91fcdd04b65": {
          "model_module": "@jupyter-widgets/base",
          "model_name": "LayoutModel",
          "model_module_version": "1.2.0",
          "state": {
            "_model_module": "@jupyter-widgets/base",
            "_model_module_version": "1.2.0",
            "_model_name": "LayoutModel",
            "_view_count": null,
            "_view_module": "@jupyter-widgets/base",
            "_view_module_version": "1.2.0",
            "_view_name": "LayoutView",
            "align_content": null,
            "align_items": null,
            "align_self": null,
            "border": null,
            "bottom": null,
            "display": null,
            "flex": null,
            "flex_flow": null,
            "grid_area": null,
            "grid_auto_columns": null,
            "grid_auto_flow": null,
            "grid_auto_rows": null,
            "grid_column": null,
            "grid_gap": null,
            "grid_row": null,
            "grid_template_areas": null,
            "grid_template_columns": null,
            "grid_template_rows": null,
            "height": null,
            "justify_content": null,
            "justify_items": null,
            "left": null,
            "margin": null,
            "max_height": null,
            "max_width": null,
            "min_height": null,
            "min_width": null,
            "object_fit": null,
            "object_position": null,
            "order": null,
            "overflow": null,
            "overflow_x": null,
            "overflow_y": null,
            "padding": null,
            "right": null,
            "top": null,
            "visibility": null,
            "width": null
          }
        },
        "35649c3afe064af3886fd63d7c219bb8": {
          "model_module": "@jupyter-widgets/controls",
          "model_name": "DescriptionStyleModel",
          "model_module_version": "1.5.0",
          "state": {
            "_model_module": "@jupyter-widgets/controls",
            "_model_module_version": "1.5.0",
            "_model_name": "DescriptionStyleModel",
            "_view_count": null,
            "_view_module": "@jupyter-widgets/base",
            "_view_module_version": "1.2.0",
            "_view_name": "StyleView",
            "description_width": ""
          }
        },
        "446117f1089f4b3e9dbcd1856d49dc9a": {
          "model_module": "@jupyter-widgets/base",
          "model_name": "LayoutModel",
          "model_module_version": "1.2.0",
          "state": {
            "_model_module": "@jupyter-widgets/base",
            "_model_module_version": "1.2.0",
            "_model_name": "LayoutModel",
            "_view_count": null,
            "_view_module": "@jupyter-widgets/base",
            "_view_module_version": "1.2.0",
            "_view_name": "LayoutView",
            "align_content": null,
            "align_items": null,
            "align_self": null,
            "border": null,
            "bottom": null,
            "display": null,
            "flex": null,
            "flex_flow": null,
            "grid_area": null,
            "grid_auto_columns": null,
            "grid_auto_flow": null,
            "grid_auto_rows": null,
            "grid_column": null,
            "grid_gap": null,
            "grid_row": null,
            "grid_template_areas": null,
            "grid_template_columns": null,
            "grid_template_rows": null,
            "height": null,
            "justify_content": null,
            "justify_items": null,
            "left": null,
            "margin": null,
            "max_height": null,
            "max_width": null,
            "min_height": null,
            "min_width": null,
            "object_fit": null,
            "object_position": null,
            "order": null,
            "overflow": null,
            "overflow_x": null,
            "overflow_y": null,
            "padding": null,
            "right": null,
            "top": null,
            "visibility": null,
            "width": null
          }
        },
        "dd387a224c124b0eab2e1fb67de2377c": {
          "model_module": "@jupyter-widgets/controls",
          "model_name": "ProgressStyleModel",
          "model_module_version": "1.5.0",
          "state": {
            "_model_module": "@jupyter-widgets/controls",
            "_model_module_version": "1.5.0",
            "_model_name": "ProgressStyleModel",
            "_view_count": null,
            "_view_module": "@jupyter-widgets/base",
            "_view_module_version": "1.2.0",
            "_view_name": "StyleView",
            "bar_color": null,
            "description_width": ""
          }
        },
        "f8d31df6cf98488c89807aa778bca595": {
          "model_module": "@jupyter-widgets/base",
          "model_name": "LayoutModel",
          "model_module_version": "1.2.0",
          "state": {
            "_model_module": "@jupyter-widgets/base",
            "_model_module_version": "1.2.0",
            "_model_name": "LayoutModel",
            "_view_count": null,
            "_view_module": "@jupyter-widgets/base",
            "_view_module_version": "1.2.0",
            "_view_name": "LayoutView",
            "align_content": null,
            "align_items": null,
            "align_self": null,
            "border": null,
            "bottom": null,
            "display": null,
            "flex": null,
            "flex_flow": null,
            "grid_area": null,
            "grid_auto_columns": null,
            "grid_auto_flow": null,
            "grid_auto_rows": null,
            "grid_column": null,
            "grid_gap": null,
            "grid_row": null,
            "grid_template_areas": null,
            "grid_template_columns": null,
            "grid_template_rows": null,
            "height": null,
            "justify_content": null,
            "justify_items": null,
            "left": null,
            "margin": null,
            "max_height": null,
            "max_width": null,
            "min_height": null,
            "min_width": null,
            "object_fit": null,
            "object_position": null,
            "order": null,
            "overflow": null,
            "overflow_x": null,
            "overflow_y": null,
            "padding": null,
            "right": null,
            "top": null,
            "visibility": null,
            "width": null
          }
        },
        "130876d652c448438d76106aeb9bc0a6": {
          "model_module": "@jupyter-widgets/controls",
          "model_name": "DescriptionStyleModel",
          "model_module_version": "1.5.0",
          "state": {
            "_model_module": "@jupyter-widgets/controls",
            "_model_module_version": "1.5.0",
            "_model_name": "DescriptionStyleModel",
            "_view_count": null,
            "_view_module": "@jupyter-widgets/base",
            "_view_module_version": "1.2.0",
            "_view_name": "StyleView",
            "description_width": ""
          }
        },
        "eaab956e48da4a4e99b30db40909f3ed": {
          "model_module": "@jupyter-widgets/controls",
          "model_name": "HBoxModel",
          "model_module_version": "1.5.0",
          "state": {
            "_dom_classes": [],
            "_model_module": "@jupyter-widgets/controls",
            "_model_module_version": "1.5.0",
            "_model_name": "HBoxModel",
            "_view_count": null,
            "_view_module": "@jupyter-widgets/controls",
            "_view_module_version": "1.5.0",
            "_view_name": "HBoxView",
            "box_style": "",
            "children": [
              "IPY_MODEL_9853876e0c9d4e2dbd06ce9323873803",
              "IPY_MODEL_cbd40c6c9ca945c3bab312ba46948d5b",
              "IPY_MODEL_bbe16abfbd464aba8ae3916e3b53c119"
            ],
            "layout": "IPY_MODEL_0e06a7316d6f47e4880f8bc4e59131cd"
          }
        },
        "9853876e0c9d4e2dbd06ce9323873803": {
          "model_module": "@jupyter-widgets/controls",
          "model_name": "HTMLModel",
          "model_module_version": "1.5.0",
          "state": {
            "_dom_classes": [],
            "_model_module": "@jupyter-widgets/controls",
            "_model_module_version": "1.5.0",
            "_model_name": "HTMLModel",
            "_view_count": null,
            "_view_module": "@jupyter-widgets/controls",
            "_view_module_version": "1.5.0",
            "_view_name": "HTMLView",
            "description": "",
            "description_tooltip": null,
            "layout": "IPY_MODEL_f79b083a53a94f8a9df82e3e8ac90805",
            "placeholder": "​",
            "style": "IPY_MODEL_1fd3066564964a25adcbfee5675a5012",
            "value": "special_tokens_map.json: 100%"
          }
        },
        "cbd40c6c9ca945c3bab312ba46948d5b": {
          "model_module": "@jupyter-widgets/controls",
          "model_name": "FloatProgressModel",
          "model_module_version": "1.5.0",
          "state": {
            "_dom_classes": [],
            "_model_module": "@jupyter-widgets/controls",
            "_model_module_version": "1.5.0",
            "_model_name": "FloatProgressModel",
            "_view_count": null,
            "_view_module": "@jupyter-widgets/controls",
            "_view_module_version": "1.5.0",
            "_view_name": "ProgressView",
            "bar_style": "success",
            "description": "",
            "description_tooltip": null,
            "layout": "IPY_MODEL_eee8566c928b4733962c476573b0d43c",
            "max": 636,
            "min": 0,
            "orientation": "horizontal",
            "style": "IPY_MODEL_a3fa357ea67e43e3b207e43d48627055",
            "value": 636
          }
        },
        "bbe16abfbd464aba8ae3916e3b53c119": {
          "model_module": "@jupyter-widgets/controls",
          "model_name": "HTMLModel",
          "model_module_version": "1.5.0",
          "state": {
            "_dom_classes": [],
            "_model_module": "@jupyter-widgets/controls",
            "_model_module_version": "1.5.0",
            "_model_name": "HTMLModel",
            "_view_count": null,
            "_view_module": "@jupyter-widgets/controls",
            "_view_module_version": "1.5.0",
            "_view_name": "HTMLView",
            "description": "",
            "description_tooltip": null,
            "layout": "IPY_MODEL_dbdba7be3c4e4fd4a5a5b2c1924d09c0",
            "placeholder": "​",
            "style": "IPY_MODEL_b40b58554f1b476b80dcffd2907776c8",
            "value": " 636/636 [00:00&lt;00:00, 15.6kB/s]"
          }
        },
        "0e06a7316d6f47e4880f8bc4e59131cd": {
          "model_module": "@jupyter-widgets/base",
          "model_name": "LayoutModel",
          "model_module_version": "1.2.0",
          "state": {
            "_model_module": "@jupyter-widgets/base",
            "_model_module_version": "1.2.0",
            "_model_name": "LayoutModel",
            "_view_count": null,
            "_view_module": "@jupyter-widgets/base",
            "_view_module_version": "1.2.0",
            "_view_name": "LayoutView",
            "align_content": null,
            "align_items": null,
            "align_self": null,
            "border": null,
            "bottom": null,
            "display": null,
            "flex": null,
            "flex_flow": null,
            "grid_area": null,
            "grid_auto_columns": null,
            "grid_auto_flow": null,
            "grid_auto_rows": null,
            "grid_column": null,
            "grid_gap": null,
            "grid_row": null,
            "grid_template_areas": null,
            "grid_template_columns": null,
            "grid_template_rows": null,
            "height": null,
            "justify_content": null,
            "justify_items": null,
            "left": null,
            "margin": null,
            "max_height": null,
            "max_width": null,
            "min_height": null,
            "min_width": null,
            "object_fit": null,
            "object_position": null,
            "order": null,
            "overflow": null,
            "overflow_x": null,
            "overflow_y": null,
            "padding": null,
            "right": null,
            "top": null,
            "visibility": null,
            "width": null
          }
        },
        "f79b083a53a94f8a9df82e3e8ac90805": {
          "model_module": "@jupyter-widgets/base",
          "model_name": "LayoutModel",
          "model_module_version": "1.2.0",
          "state": {
            "_model_module": "@jupyter-widgets/base",
            "_model_module_version": "1.2.0",
            "_model_name": "LayoutModel",
            "_view_count": null,
            "_view_module": "@jupyter-widgets/base",
            "_view_module_version": "1.2.0",
            "_view_name": "LayoutView",
            "align_content": null,
            "align_items": null,
            "align_self": null,
            "border": null,
            "bottom": null,
            "display": null,
            "flex": null,
            "flex_flow": null,
            "grid_area": null,
            "grid_auto_columns": null,
            "grid_auto_flow": null,
            "grid_auto_rows": null,
            "grid_column": null,
            "grid_gap": null,
            "grid_row": null,
            "grid_template_areas": null,
            "grid_template_columns": null,
            "grid_template_rows": null,
            "height": null,
            "justify_content": null,
            "justify_items": null,
            "left": null,
            "margin": null,
            "max_height": null,
            "max_width": null,
            "min_height": null,
            "min_width": null,
            "object_fit": null,
            "object_position": null,
            "order": null,
            "overflow": null,
            "overflow_x": null,
            "overflow_y": null,
            "padding": null,
            "right": null,
            "top": null,
            "visibility": null,
            "width": null
          }
        },
        "1fd3066564964a25adcbfee5675a5012": {
          "model_module": "@jupyter-widgets/controls",
          "model_name": "DescriptionStyleModel",
          "model_module_version": "1.5.0",
          "state": {
            "_model_module": "@jupyter-widgets/controls",
            "_model_module_version": "1.5.0",
            "_model_name": "DescriptionStyleModel",
            "_view_count": null,
            "_view_module": "@jupyter-widgets/base",
            "_view_module_version": "1.2.0",
            "_view_name": "StyleView",
            "description_width": ""
          }
        },
        "eee8566c928b4733962c476573b0d43c": {
          "model_module": "@jupyter-widgets/base",
          "model_name": "LayoutModel",
          "model_module_version": "1.2.0",
          "state": {
            "_model_module": "@jupyter-widgets/base",
            "_model_module_version": "1.2.0",
            "_model_name": "LayoutModel",
            "_view_count": null,
            "_view_module": "@jupyter-widgets/base",
            "_view_module_version": "1.2.0",
            "_view_name": "LayoutView",
            "align_content": null,
            "align_items": null,
            "align_self": null,
            "border": null,
            "bottom": null,
            "display": null,
            "flex": null,
            "flex_flow": null,
            "grid_area": null,
            "grid_auto_columns": null,
            "grid_auto_flow": null,
            "grid_auto_rows": null,
            "grid_column": null,
            "grid_gap": null,
            "grid_row": null,
            "grid_template_areas": null,
            "grid_template_columns": null,
            "grid_template_rows": null,
            "height": null,
            "justify_content": null,
            "justify_items": null,
            "left": null,
            "margin": null,
            "max_height": null,
            "max_width": null,
            "min_height": null,
            "min_width": null,
            "object_fit": null,
            "object_position": null,
            "order": null,
            "overflow": null,
            "overflow_x": null,
            "overflow_y": null,
            "padding": null,
            "right": null,
            "top": null,
            "visibility": null,
            "width": null
          }
        },
        "a3fa357ea67e43e3b207e43d48627055": {
          "model_module": "@jupyter-widgets/controls",
          "model_name": "ProgressStyleModel",
          "model_module_version": "1.5.0",
          "state": {
            "_model_module": "@jupyter-widgets/controls",
            "_model_module_version": "1.5.0",
            "_model_name": "ProgressStyleModel",
            "_view_count": null,
            "_view_module": "@jupyter-widgets/base",
            "_view_module_version": "1.2.0",
            "_view_name": "StyleView",
            "bar_color": null,
            "description_width": ""
          }
        },
        "dbdba7be3c4e4fd4a5a5b2c1924d09c0": {
          "model_module": "@jupyter-widgets/base",
          "model_name": "LayoutModel",
          "model_module_version": "1.2.0",
          "state": {
            "_model_module": "@jupyter-widgets/base",
            "_model_module_version": "1.2.0",
            "_model_name": "LayoutModel",
            "_view_count": null,
            "_view_module": "@jupyter-widgets/base",
            "_view_module_version": "1.2.0",
            "_view_name": "LayoutView",
            "align_content": null,
            "align_items": null,
            "align_self": null,
            "border": null,
            "bottom": null,
            "display": null,
            "flex": null,
            "flex_flow": null,
            "grid_area": null,
            "grid_auto_columns": null,
            "grid_auto_flow": null,
            "grid_auto_rows": null,
            "grid_column": null,
            "grid_gap": null,
            "grid_row": null,
            "grid_template_areas": null,
            "grid_template_columns": null,
            "grid_template_rows": null,
            "height": null,
            "justify_content": null,
            "justify_items": null,
            "left": null,
            "margin": null,
            "max_height": null,
            "max_width": null,
            "min_height": null,
            "min_width": null,
            "object_fit": null,
            "object_position": null,
            "order": null,
            "overflow": null,
            "overflow_x": null,
            "overflow_y": null,
            "padding": null,
            "right": null,
            "top": null,
            "visibility": null,
            "width": null
          }
        },
        "b40b58554f1b476b80dcffd2907776c8": {
          "model_module": "@jupyter-widgets/controls",
          "model_name": "DescriptionStyleModel",
          "model_module_version": "1.5.0",
          "state": {
            "_model_module": "@jupyter-widgets/controls",
            "_model_module_version": "1.5.0",
            "_model_name": "DescriptionStyleModel",
            "_view_count": null,
            "_view_module": "@jupyter-widgets/base",
            "_view_module_version": "1.2.0",
            "_view_name": "StyleView",
            "description_width": ""
          }
        },
        "980555a559e3416098c36d26581a115c": {
          "model_module": "@jupyter-widgets/controls",
          "model_name": "HBoxModel",
          "model_module_version": "1.5.0",
          "state": {
            "_dom_classes": [],
            "_model_module": "@jupyter-widgets/controls",
            "_model_module_version": "1.5.0",
            "_model_name": "HBoxModel",
            "_view_count": null,
            "_view_module": "@jupyter-widgets/controls",
            "_view_module_version": "1.5.0",
            "_view_name": "HBoxView",
            "box_style": "",
            "children": [
              "IPY_MODEL_86e060154d654d61a239a135e8695c8f",
              "IPY_MODEL_bb9574640d7e4c09a8de0b1d5f46081b",
              "IPY_MODEL_4cee8785dca74d0e93aaadb605a1c26c"
            ],
            "layout": "IPY_MODEL_0a5f851a50de4d62a07f60a2c1983c91"
          }
        },
        "86e060154d654d61a239a135e8695c8f": {
          "model_module": "@jupyter-widgets/controls",
          "model_name": "HTMLModel",
          "model_module_version": "1.5.0",
          "state": {
            "_dom_classes": [],
            "_model_module": "@jupyter-widgets/controls",
            "_model_module_version": "1.5.0",
            "_model_name": "HTMLModel",
            "_view_count": null,
            "_view_module": "@jupyter-widgets/controls",
            "_view_module_version": "1.5.0",
            "_view_name": "HTMLView",
            "description": "",
            "description_tooltip": null,
            "layout": "IPY_MODEL_96e147613e44426bbc8ab047292f0da7",
            "placeholder": "​",
            "style": "IPY_MODEL_87fe392b13d94ceca8aac4836e069350",
            "value": "config.json: 100%"
          }
        },
        "bb9574640d7e4c09a8de0b1d5f46081b": {
          "model_module": "@jupyter-widgets/controls",
          "model_name": "FloatProgressModel",
          "model_module_version": "1.5.0",
          "state": {
            "_dom_classes": [],
            "_model_module": "@jupyter-widgets/controls",
            "_model_module_version": "1.5.0",
            "_model_name": "FloatProgressModel",
            "_view_count": null,
            "_view_module": "@jupyter-widgets/controls",
            "_view_module_version": "1.5.0",
            "_view_name": "ProgressView",
            "bar_style": "success",
            "description": "",
            "description_tooltip": null,
            "layout": "IPY_MODEL_018c745af77a4680bc9dec1f58345cf8",
            "max": 627,
            "min": 0,
            "orientation": "horizontal",
            "style": "IPY_MODEL_901602f006ec44fd97daf833417f4e84",
            "value": 627
          }
        },
        "4cee8785dca74d0e93aaadb605a1c26c": {
          "model_module": "@jupyter-widgets/controls",
          "model_name": "HTMLModel",
          "model_module_version": "1.5.0",
          "state": {
            "_dom_classes": [],
            "_model_module": "@jupyter-widgets/controls",
            "_model_module_version": "1.5.0",
            "_model_name": "HTMLModel",
            "_view_count": null,
            "_view_module": "@jupyter-widgets/controls",
            "_view_module_version": "1.5.0",
            "_view_name": "HTMLView",
            "description": "",
            "description_tooltip": null,
            "layout": "IPY_MODEL_ef897882040b4ca9bbef50b64c8c39b6",
            "placeholder": "​",
            "style": "IPY_MODEL_6b46ea6891de4504a44ccff167edfd9a",
            "value": " 627/627 [00:00&lt;00:00, 18.7kB/s]"
          }
        },
        "0a5f851a50de4d62a07f60a2c1983c91": {
          "model_module": "@jupyter-widgets/base",
          "model_name": "LayoutModel",
          "model_module_version": "1.2.0",
          "state": {
            "_model_module": "@jupyter-widgets/base",
            "_model_module_version": "1.2.0",
            "_model_name": "LayoutModel",
            "_view_count": null,
            "_view_module": "@jupyter-widgets/base",
            "_view_module_version": "1.2.0",
            "_view_name": "LayoutView",
            "align_content": null,
            "align_items": null,
            "align_self": null,
            "border": null,
            "bottom": null,
            "display": null,
            "flex": null,
            "flex_flow": null,
            "grid_area": null,
            "grid_auto_columns": null,
            "grid_auto_flow": null,
            "grid_auto_rows": null,
            "grid_column": null,
            "grid_gap": null,
            "grid_row": null,
            "grid_template_areas": null,
            "grid_template_columns": null,
            "grid_template_rows": null,
            "height": null,
            "justify_content": null,
            "justify_items": null,
            "left": null,
            "margin": null,
            "max_height": null,
            "max_width": null,
            "min_height": null,
            "min_width": null,
            "object_fit": null,
            "object_position": null,
            "order": null,
            "overflow": null,
            "overflow_x": null,
            "overflow_y": null,
            "padding": null,
            "right": null,
            "top": null,
            "visibility": null,
            "width": null
          }
        },
        "96e147613e44426bbc8ab047292f0da7": {
          "model_module": "@jupyter-widgets/base",
          "model_name": "LayoutModel",
          "model_module_version": "1.2.0",
          "state": {
            "_model_module": "@jupyter-widgets/base",
            "_model_module_version": "1.2.0",
            "_model_name": "LayoutModel",
            "_view_count": null,
            "_view_module": "@jupyter-widgets/base",
            "_view_module_version": "1.2.0",
            "_view_name": "LayoutView",
            "align_content": null,
            "align_items": null,
            "align_self": null,
            "border": null,
            "bottom": null,
            "display": null,
            "flex": null,
            "flex_flow": null,
            "grid_area": null,
            "grid_auto_columns": null,
            "grid_auto_flow": null,
            "grid_auto_rows": null,
            "grid_column": null,
            "grid_gap": null,
            "grid_row": null,
            "grid_template_areas": null,
            "grid_template_columns": null,
            "grid_template_rows": null,
            "height": null,
            "justify_content": null,
            "justify_items": null,
            "left": null,
            "margin": null,
            "max_height": null,
            "max_width": null,
            "min_height": null,
            "min_width": null,
            "object_fit": null,
            "object_position": null,
            "order": null,
            "overflow": null,
            "overflow_x": null,
            "overflow_y": null,
            "padding": null,
            "right": null,
            "top": null,
            "visibility": null,
            "width": null
          }
        },
        "87fe392b13d94ceca8aac4836e069350": {
          "model_module": "@jupyter-widgets/controls",
          "model_name": "DescriptionStyleModel",
          "model_module_version": "1.5.0",
          "state": {
            "_model_module": "@jupyter-widgets/controls",
            "_model_module_version": "1.5.0",
            "_model_name": "DescriptionStyleModel",
            "_view_count": null,
            "_view_module": "@jupyter-widgets/base",
            "_view_module_version": "1.2.0",
            "_view_name": "StyleView",
            "description_width": ""
          }
        },
        "018c745af77a4680bc9dec1f58345cf8": {
          "model_module": "@jupyter-widgets/base",
          "model_name": "LayoutModel",
          "model_module_version": "1.2.0",
          "state": {
            "_model_module": "@jupyter-widgets/base",
            "_model_module_version": "1.2.0",
            "_model_name": "LayoutModel",
            "_view_count": null,
            "_view_module": "@jupyter-widgets/base",
            "_view_module_version": "1.2.0",
            "_view_name": "LayoutView",
            "align_content": null,
            "align_items": null,
            "align_self": null,
            "border": null,
            "bottom": null,
            "display": null,
            "flex": null,
            "flex_flow": null,
            "grid_area": null,
            "grid_auto_columns": null,
            "grid_auto_flow": null,
            "grid_auto_rows": null,
            "grid_column": null,
            "grid_gap": null,
            "grid_row": null,
            "grid_template_areas": null,
            "grid_template_columns": null,
            "grid_template_rows": null,
            "height": null,
            "justify_content": null,
            "justify_items": null,
            "left": null,
            "margin": null,
            "max_height": null,
            "max_width": null,
            "min_height": null,
            "min_width": null,
            "object_fit": null,
            "object_position": null,
            "order": null,
            "overflow": null,
            "overflow_x": null,
            "overflow_y": null,
            "padding": null,
            "right": null,
            "top": null,
            "visibility": null,
            "width": null
          }
        },
        "901602f006ec44fd97daf833417f4e84": {
          "model_module": "@jupyter-widgets/controls",
          "model_name": "ProgressStyleModel",
          "model_module_version": "1.5.0",
          "state": {
            "_model_module": "@jupyter-widgets/controls",
            "_model_module_version": "1.5.0",
            "_model_name": "ProgressStyleModel",
            "_view_count": null,
            "_view_module": "@jupyter-widgets/base",
            "_view_module_version": "1.2.0",
            "_view_name": "StyleView",
            "bar_color": null,
            "description_width": ""
          }
        },
        "ef897882040b4ca9bbef50b64c8c39b6": {
          "model_module": "@jupyter-widgets/base",
          "model_name": "LayoutModel",
          "model_module_version": "1.2.0",
          "state": {
            "_model_module": "@jupyter-widgets/base",
            "_model_module_version": "1.2.0",
            "_model_name": "LayoutModel",
            "_view_count": null,
            "_view_module": "@jupyter-widgets/base",
            "_view_module_version": "1.2.0",
            "_view_name": "LayoutView",
            "align_content": null,
            "align_items": null,
            "align_self": null,
            "border": null,
            "bottom": null,
            "display": null,
            "flex": null,
            "flex_flow": null,
            "grid_area": null,
            "grid_auto_columns": null,
            "grid_auto_flow": null,
            "grid_auto_rows": null,
            "grid_column": null,
            "grid_gap": null,
            "grid_row": null,
            "grid_template_areas": null,
            "grid_template_columns": null,
            "grid_template_rows": null,
            "height": null,
            "justify_content": null,
            "justify_items": null,
            "left": null,
            "margin": null,
            "max_height": null,
            "max_width": null,
            "min_height": null,
            "min_width": null,
            "object_fit": null,
            "object_position": null,
            "order": null,
            "overflow": null,
            "overflow_x": null,
            "overflow_y": null,
            "padding": null,
            "right": null,
            "top": null,
            "visibility": null,
            "width": null
          }
        },
        "6b46ea6891de4504a44ccff167edfd9a": {
          "model_module": "@jupyter-widgets/controls",
          "model_name": "DescriptionStyleModel",
          "model_module_version": "1.5.0",
          "state": {
            "_model_module": "@jupyter-widgets/controls",
            "_model_module_version": "1.5.0",
            "_model_name": "DescriptionStyleModel",
            "_view_count": null,
            "_view_module": "@jupyter-widgets/base",
            "_view_module_version": "1.2.0",
            "_view_name": "StyleView",
            "description_width": ""
          }
        },
        "ffae9516c6314fc494b4f4f7b778f0e4": {
          "model_module": "@jupyter-widgets/controls",
          "model_name": "HBoxModel",
          "model_module_version": "1.5.0",
          "state": {
            "_dom_classes": [],
            "_model_module": "@jupyter-widgets/controls",
            "_model_module_version": "1.5.0",
            "_model_name": "HBoxModel",
            "_view_count": null,
            "_view_module": "@jupyter-widgets/controls",
            "_view_module_version": "1.5.0",
            "_view_name": "HBoxView",
            "box_style": "",
            "children": [
              "IPY_MODEL_1583cb21b45c4df88c9be4678dd1e712",
              "IPY_MODEL_21e3e9c212a9415f966ce9ef84425d89",
              "IPY_MODEL_b11e0aa11df943a389924f97530e559e"
            ],
            "layout": "IPY_MODEL_adb3d02be75548b6a1bf09c4205c36ed"
          }
        },
        "1583cb21b45c4df88c9be4678dd1e712": {
          "model_module": "@jupyter-widgets/controls",
          "model_name": "HTMLModel",
          "model_module_version": "1.5.0",
          "state": {
            "_dom_classes": [],
            "_model_module": "@jupyter-widgets/controls",
            "_model_module_version": "1.5.0",
            "_model_name": "HTMLModel",
            "_view_count": null,
            "_view_module": "@jupyter-widgets/controls",
            "_view_module_version": "1.5.0",
            "_view_name": "HTMLView",
            "description": "",
            "description_tooltip": null,
            "layout": "IPY_MODEL_ce8cd034b4ea4fb287b2b1c6847cac5a",
            "placeholder": "​",
            "style": "IPY_MODEL_c072a4df95c54df99fcc28f29773b7bd",
            "value": "model.safetensors.index.json: 100%"
          }
        },
        "21e3e9c212a9415f966ce9ef84425d89": {
          "model_module": "@jupyter-widgets/controls",
          "model_name": "FloatProgressModel",
          "model_module_version": "1.5.0",
          "state": {
            "_dom_classes": [],
            "_model_module": "@jupyter-widgets/controls",
            "_model_module_version": "1.5.0",
            "_model_name": "FloatProgressModel",
            "_view_count": null,
            "_view_module": "@jupyter-widgets/controls",
            "_view_module_version": "1.5.0",
            "_view_name": "ProgressView",
            "bar_style": "success",
            "description": "",
            "description_tooltip": null,
            "layout": "IPY_MODEL_edfb87f74a1d443cbabd8a4cb888b1b4",
            "max": 13489,
            "min": 0,
            "orientation": "horizontal",
            "style": "IPY_MODEL_95609710b2174eb2a27819bae0397e86",
            "value": 13489
          }
        },
        "b11e0aa11df943a389924f97530e559e": {
          "model_module": "@jupyter-widgets/controls",
          "model_name": "HTMLModel",
          "model_module_version": "1.5.0",
          "state": {
            "_dom_classes": [],
            "_model_module": "@jupyter-widgets/controls",
            "_model_module_version": "1.5.0",
            "_model_name": "HTMLModel",
            "_view_count": null,
            "_view_module": "@jupyter-widgets/controls",
            "_view_module_version": "1.5.0",
            "_view_name": "HTMLView",
            "description": "",
            "description_tooltip": null,
            "layout": "IPY_MODEL_3c10f129e8864b2e8c5808792982f6a4",
            "placeholder": "​",
            "style": "IPY_MODEL_8adbb25098574275b13a9d76707af593",
            "value": " 13.5k/13.5k [00:00&lt;00:00, 329kB/s]"
          }
        },
        "adb3d02be75548b6a1bf09c4205c36ed": {
          "model_module": "@jupyter-widgets/base",
          "model_name": "LayoutModel",
          "model_module_version": "1.2.0",
          "state": {
            "_model_module": "@jupyter-widgets/base",
            "_model_module_version": "1.2.0",
            "_model_name": "LayoutModel",
            "_view_count": null,
            "_view_module": "@jupyter-widgets/base",
            "_view_module_version": "1.2.0",
            "_view_name": "LayoutView",
            "align_content": null,
            "align_items": null,
            "align_self": null,
            "border": null,
            "bottom": null,
            "display": null,
            "flex": null,
            "flex_flow": null,
            "grid_area": null,
            "grid_auto_columns": null,
            "grid_auto_flow": null,
            "grid_auto_rows": null,
            "grid_column": null,
            "grid_gap": null,
            "grid_row": null,
            "grid_template_areas": null,
            "grid_template_columns": null,
            "grid_template_rows": null,
            "height": null,
            "justify_content": null,
            "justify_items": null,
            "left": null,
            "margin": null,
            "max_height": null,
            "max_width": null,
            "min_height": null,
            "min_width": null,
            "object_fit": null,
            "object_position": null,
            "order": null,
            "overflow": null,
            "overflow_x": null,
            "overflow_y": null,
            "padding": null,
            "right": null,
            "top": null,
            "visibility": null,
            "width": null
          }
        },
        "ce8cd034b4ea4fb287b2b1c6847cac5a": {
          "model_module": "@jupyter-widgets/base",
          "model_name": "LayoutModel",
          "model_module_version": "1.2.0",
          "state": {
            "_model_module": "@jupyter-widgets/base",
            "_model_module_version": "1.2.0",
            "_model_name": "LayoutModel",
            "_view_count": null,
            "_view_module": "@jupyter-widgets/base",
            "_view_module_version": "1.2.0",
            "_view_name": "LayoutView",
            "align_content": null,
            "align_items": null,
            "align_self": null,
            "border": null,
            "bottom": null,
            "display": null,
            "flex": null,
            "flex_flow": null,
            "grid_area": null,
            "grid_auto_columns": null,
            "grid_auto_flow": null,
            "grid_auto_rows": null,
            "grid_column": null,
            "grid_gap": null,
            "grid_row": null,
            "grid_template_areas": null,
            "grid_template_columns": null,
            "grid_template_rows": null,
            "height": null,
            "justify_content": null,
            "justify_items": null,
            "left": null,
            "margin": null,
            "max_height": null,
            "max_width": null,
            "min_height": null,
            "min_width": null,
            "object_fit": null,
            "object_position": null,
            "order": null,
            "overflow": null,
            "overflow_x": null,
            "overflow_y": null,
            "padding": null,
            "right": null,
            "top": null,
            "visibility": null,
            "width": null
          }
        },
        "c072a4df95c54df99fcc28f29773b7bd": {
          "model_module": "@jupyter-widgets/controls",
          "model_name": "DescriptionStyleModel",
          "model_module_version": "1.5.0",
          "state": {
            "_model_module": "@jupyter-widgets/controls",
            "_model_module_version": "1.5.0",
            "_model_name": "DescriptionStyleModel",
            "_view_count": null,
            "_view_module": "@jupyter-widgets/base",
            "_view_module_version": "1.2.0",
            "_view_name": "StyleView",
            "description_width": ""
          }
        },
        "edfb87f74a1d443cbabd8a4cb888b1b4": {
          "model_module": "@jupyter-widgets/base",
          "model_name": "LayoutModel",
          "model_module_version": "1.2.0",
          "state": {
            "_model_module": "@jupyter-widgets/base",
            "_model_module_version": "1.2.0",
            "_model_name": "LayoutModel",
            "_view_count": null,
            "_view_module": "@jupyter-widgets/base",
            "_view_module_version": "1.2.0",
            "_view_name": "LayoutView",
            "align_content": null,
            "align_items": null,
            "align_self": null,
            "border": null,
            "bottom": null,
            "display": null,
            "flex": null,
            "flex_flow": null,
            "grid_area": null,
            "grid_auto_columns": null,
            "grid_auto_flow": null,
            "grid_auto_rows": null,
            "grid_column": null,
            "grid_gap": null,
            "grid_row": null,
            "grid_template_areas": null,
            "grid_template_columns": null,
            "grid_template_rows": null,
            "height": null,
            "justify_content": null,
            "justify_items": null,
            "left": null,
            "margin": null,
            "max_height": null,
            "max_width": null,
            "min_height": null,
            "min_width": null,
            "object_fit": null,
            "object_position": null,
            "order": null,
            "overflow": null,
            "overflow_x": null,
            "overflow_y": null,
            "padding": null,
            "right": null,
            "top": null,
            "visibility": null,
            "width": null
          }
        },
        "95609710b2174eb2a27819bae0397e86": {
          "model_module": "@jupyter-widgets/controls",
          "model_name": "ProgressStyleModel",
          "model_module_version": "1.5.0",
          "state": {
            "_model_module": "@jupyter-widgets/controls",
            "_model_module_version": "1.5.0",
            "_model_name": "ProgressStyleModel",
            "_view_count": null,
            "_view_module": "@jupyter-widgets/base",
            "_view_module_version": "1.2.0",
            "_view_name": "StyleView",
            "bar_color": null,
            "description_width": ""
          }
        },
        "3c10f129e8864b2e8c5808792982f6a4": {
          "model_module": "@jupyter-widgets/base",
          "model_name": "LayoutModel",
          "model_module_version": "1.2.0",
          "state": {
            "_model_module": "@jupyter-widgets/base",
            "_model_module_version": "1.2.0",
            "_model_name": "LayoutModel",
            "_view_count": null,
            "_view_module": "@jupyter-widgets/base",
            "_view_module_version": "1.2.0",
            "_view_name": "LayoutView",
            "align_content": null,
            "align_items": null,
            "align_self": null,
            "border": null,
            "bottom": null,
            "display": null,
            "flex": null,
            "flex_flow": null,
            "grid_area": null,
            "grid_auto_columns": null,
            "grid_auto_flow": null,
            "grid_auto_rows": null,
            "grid_column": null,
            "grid_gap": null,
            "grid_row": null,
            "grid_template_areas": null,
            "grid_template_columns": null,
            "grid_template_rows": null,
            "height": null,
            "justify_content": null,
            "justify_items": null,
            "left": null,
            "margin": null,
            "max_height": null,
            "max_width": null,
            "min_height": null,
            "min_width": null,
            "object_fit": null,
            "object_position": null,
            "order": null,
            "overflow": null,
            "overflow_x": null,
            "overflow_y": null,
            "padding": null,
            "right": null,
            "top": null,
            "visibility": null,
            "width": null
          }
        },
        "8adbb25098574275b13a9d76707af593": {
          "model_module": "@jupyter-widgets/controls",
          "model_name": "DescriptionStyleModel",
          "model_module_version": "1.5.0",
          "state": {
            "_model_module": "@jupyter-widgets/controls",
            "_model_module_version": "1.5.0",
            "_model_name": "DescriptionStyleModel",
            "_view_count": null,
            "_view_module": "@jupyter-widgets/base",
            "_view_module_version": "1.2.0",
            "_view_name": "StyleView",
            "description_width": ""
          }
        },
        "0350368669334cc6a0e23d04385cfc22": {
          "model_module": "@jupyter-widgets/controls",
          "model_name": "HBoxModel",
          "model_module_version": "1.5.0",
          "state": {
            "_dom_classes": [],
            "_model_module": "@jupyter-widgets/controls",
            "_model_module_version": "1.5.0",
            "_model_name": "HBoxModel",
            "_view_count": null,
            "_view_module": "@jupyter-widgets/controls",
            "_view_module_version": "1.5.0",
            "_view_name": "HBoxView",
            "box_style": "",
            "children": [
              "IPY_MODEL_6582be1e0ec342e7b20076ea70d17809",
              "IPY_MODEL_46a69c8d226d446c9badfa4c7eb16a1d",
              "IPY_MODEL_63139f21bd0a4100a5e33a45744e3363"
            ],
            "layout": "IPY_MODEL_62b01686cce74ed6849d18a9d247118a"
          }
        },
        "6582be1e0ec342e7b20076ea70d17809": {
          "model_module": "@jupyter-widgets/controls",
          "model_name": "HTMLModel",
          "model_module_version": "1.5.0",
          "state": {
            "_dom_classes": [],
            "_model_module": "@jupyter-widgets/controls",
            "_model_module_version": "1.5.0",
            "_model_name": "HTMLModel",
            "_view_count": null,
            "_view_module": "@jupyter-widgets/controls",
            "_view_module_version": "1.5.0",
            "_view_name": "HTMLView",
            "description": "",
            "description_tooltip": null,
            "layout": "IPY_MODEL_abf61e7eeead4f3ca2e6501333315fc0",
            "placeholder": "​",
            "style": "IPY_MODEL_2ae51f32c562498fa99793ac00ea036a",
            "value": "Downloading shards: 100%"
          }
        },
        "46a69c8d226d446c9badfa4c7eb16a1d": {
          "model_module": "@jupyter-widgets/controls",
          "model_name": "FloatProgressModel",
          "model_module_version": "1.5.0",
          "state": {
            "_dom_classes": [],
            "_model_module": "@jupyter-widgets/controls",
            "_model_module_version": "1.5.0",
            "_model_name": "FloatProgressModel",
            "_view_count": null,
            "_view_module": "@jupyter-widgets/controls",
            "_view_module_version": "1.5.0",
            "_view_name": "ProgressView",
            "bar_style": "success",
            "description": "",
            "description_tooltip": null,
            "layout": "IPY_MODEL_4d34764d9a1d49ea8dd472977af72afb",
            "max": 2,
            "min": 0,
            "orientation": "horizontal",
            "style": "IPY_MODEL_b8fdb8014ea04e8d827dc34f26be2d3f",
            "value": 2
          }
        },
        "63139f21bd0a4100a5e33a45744e3363": {
          "model_module": "@jupyter-widgets/controls",
          "model_name": "HTMLModel",
          "model_module_version": "1.5.0",
          "state": {
            "_dom_classes": [],
            "_model_module": "@jupyter-widgets/controls",
            "_model_module_version": "1.5.0",
            "_model_name": "HTMLModel",
            "_view_count": null,
            "_view_module": "@jupyter-widgets/controls",
            "_view_module_version": "1.5.0",
            "_view_name": "HTMLView",
            "description": "",
            "description_tooltip": null,
            "layout": "IPY_MODEL_fa7f5e4cd9e24a1f93a80a09ca075538",
            "placeholder": "​",
            "style": "IPY_MODEL_282cdcde856144519e49d5fdc50d168f",
            "value": " 2/2 [00:27&lt;00:00, 11.37s/it]"
          }
        },
        "62b01686cce74ed6849d18a9d247118a": {
          "model_module": "@jupyter-widgets/base",
          "model_name": "LayoutModel",
          "model_module_version": "1.2.0",
          "state": {
            "_model_module": "@jupyter-widgets/base",
            "_model_module_version": "1.2.0",
            "_model_name": "LayoutModel",
            "_view_count": null,
            "_view_module": "@jupyter-widgets/base",
            "_view_module_version": "1.2.0",
            "_view_name": "LayoutView",
            "align_content": null,
            "align_items": null,
            "align_self": null,
            "border": null,
            "bottom": null,
            "display": null,
            "flex": null,
            "flex_flow": null,
            "grid_area": null,
            "grid_auto_columns": null,
            "grid_auto_flow": null,
            "grid_auto_rows": null,
            "grid_column": null,
            "grid_gap": null,
            "grid_row": null,
            "grid_template_areas": null,
            "grid_template_columns": null,
            "grid_template_rows": null,
            "height": null,
            "justify_content": null,
            "justify_items": null,
            "left": null,
            "margin": null,
            "max_height": null,
            "max_width": null,
            "min_height": null,
            "min_width": null,
            "object_fit": null,
            "object_position": null,
            "order": null,
            "overflow": null,
            "overflow_x": null,
            "overflow_y": null,
            "padding": null,
            "right": null,
            "top": null,
            "visibility": null,
            "width": null
          }
        },
        "abf61e7eeead4f3ca2e6501333315fc0": {
          "model_module": "@jupyter-widgets/base",
          "model_name": "LayoutModel",
          "model_module_version": "1.2.0",
          "state": {
            "_model_module": "@jupyter-widgets/base",
            "_model_module_version": "1.2.0",
            "_model_name": "LayoutModel",
            "_view_count": null,
            "_view_module": "@jupyter-widgets/base",
            "_view_module_version": "1.2.0",
            "_view_name": "LayoutView",
            "align_content": null,
            "align_items": null,
            "align_self": null,
            "border": null,
            "bottom": null,
            "display": null,
            "flex": null,
            "flex_flow": null,
            "grid_area": null,
            "grid_auto_columns": null,
            "grid_auto_flow": null,
            "grid_auto_rows": null,
            "grid_column": null,
            "grid_gap": null,
            "grid_row": null,
            "grid_template_areas": null,
            "grid_template_columns": null,
            "grid_template_rows": null,
            "height": null,
            "justify_content": null,
            "justify_items": null,
            "left": null,
            "margin": null,
            "max_height": null,
            "max_width": null,
            "min_height": null,
            "min_width": null,
            "object_fit": null,
            "object_position": null,
            "order": null,
            "overflow": null,
            "overflow_x": null,
            "overflow_y": null,
            "padding": null,
            "right": null,
            "top": null,
            "visibility": null,
            "width": null
          }
        },
        "2ae51f32c562498fa99793ac00ea036a": {
          "model_module": "@jupyter-widgets/controls",
          "model_name": "DescriptionStyleModel",
          "model_module_version": "1.5.0",
          "state": {
            "_model_module": "@jupyter-widgets/controls",
            "_model_module_version": "1.5.0",
            "_model_name": "DescriptionStyleModel",
            "_view_count": null,
            "_view_module": "@jupyter-widgets/base",
            "_view_module_version": "1.2.0",
            "_view_name": "StyleView",
            "description_width": ""
          }
        },
        "4d34764d9a1d49ea8dd472977af72afb": {
          "model_module": "@jupyter-widgets/base",
          "model_name": "LayoutModel",
          "model_module_version": "1.2.0",
          "state": {
            "_model_module": "@jupyter-widgets/base",
            "_model_module_version": "1.2.0",
            "_model_name": "LayoutModel",
            "_view_count": null,
            "_view_module": "@jupyter-widgets/base",
            "_view_module_version": "1.2.0",
            "_view_name": "LayoutView",
            "align_content": null,
            "align_items": null,
            "align_self": null,
            "border": null,
            "bottom": null,
            "display": null,
            "flex": null,
            "flex_flow": null,
            "grid_area": null,
            "grid_auto_columns": null,
            "grid_auto_flow": null,
            "grid_auto_rows": null,
            "grid_column": null,
            "grid_gap": null,
            "grid_row": null,
            "grid_template_areas": null,
            "grid_template_columns": null,
            "grid_template_rows": null,
            "height": null,
            "justify_content": null,
            "justify_items": null,
            "left": null,
            "margin": null,
            "max_height": null,
            "max_width": null,
            "min_height": null,
            "min_width": null,
            "object_fit": null,
            "object_position": null,
            "order": null,
            "overflow": null,
            "overflow_x": null,
            "overflow_y": null,
            "padding": null,
            "right": null,
            "top": null,
            "visibility": null,
            "width": null
          }
        },
        "b8fdb8014ea04e8d827dc34f26be2d3f": {
          "model_module": "@jupyter-widgets/controls",
          "model_name": "ProgressStyleModel",
          "model_module_version": "1.5.0",
          "state": {
            "_model_module": "@jupyter-widgets/controls",
            "_model_module_version": "1.5.0",
            "_model_name": "ProgressStyleModel",
            "_view_count": null,
            "_view_module": "@jupyter-widgets/base",
            "_view_module_version": "1.2.0",
            "_view_name": "StyleView",
            "bar_color": null,
            "description_width": ""
          }
        },
        "fa7f5e4cd9e24a1f93a80a09ca075538": {
          "model_module": "@jupyter-widgets/base",
          "model_name": "LayoutModel",
          "model_module_version": "1.2.0",
          "state": {
            "_model_module": "@jupyter-widgets/base",
            "_model_module_version": "1.2.0",
            "_model_name": "LayoutModel",
            "_view_count": null,
            "_view_module": "@jupyter-widgets/base",
            "_view_module_version": "1.2.0",
            "_view_name": "LayoutView",
            "align_content": null,
            "align_items": null,
            "align_self": null,
            "border": null,
            "bottom": null,
            "display": null,
            "flex": null,
            "flex_flow": null,
            "grid_area": null,
            "grid_auto_columns": null,
            "grid_auto_flow": null,
            "grid_auto_rows": null,
            "grid_column": null,
            "grid_gap": null,
            "grid_row": null,
            "grid_template_areas": null,
            "grid_template_columns": null,
            "grid_template_rows": null,
            "height": null,
            "justify_content": null,
            "justify_items": null,
            "left": null,
            "margin": null,
            "max_height": null,
            "max_width": null,
            "min_height": null,
            "min_width": null,
            "object_fit": null,
            "object_position": null,
            "order": null,
            "overflow": null,
            "overflow_x": null,
            "overflow_y": null,
            "padding": null,
            "right": null,
            "top": null,
            "visibility": null,
            "width": null
          }
        },
        "282cdcde856144519e49d5fdc50d168f": {
          "model_module": "@jupyter-widgets/controls",
          "model_name": "DescriptionStyleModel",
          "model_module_version": "1.5.0",
          "state": {
            "_model_module": "@jupyter-widgets/controls",
            "_model_module_version": "1.5.0",
            "_model_name": "DescriptionStyleModel",
            "_view_count": null,
            "_view_module": "@jupyter-widgets/base",
            "_view_module_version": "1.2.0",
            "_view_name": "StyleView",
            "description_width": ""
          }
        },
        "ccbf7e7f37034ed9b22c93d54683f721": {
          "model_module": "@jupyter-widgets/controls",
          "model_name": "HBoxModel",
          "model_module_version": "1.5.0",
          "state": {
            "_dom_classes": [],
            "_model_module": "@jupyter-widgets/controls",
            "_model_module_version": "1.5.0",
            "_model_name": "HBoxModel",
            "_view_count": null,
            "_view_module": "@jupyter-widgets/controls",
            "_view_module_version": "1.5.0",
            "_view_name": "HBoxView",
            "box_style": "",
            "children": [
              "IPY_MODEL_87962d7f7a074c6a8df4c9c0707f9921",
              "IPY_MODEL_08ff0204eb6b471488cf623cd0b52b95",
              "IPY_MODEL_d7b76bdd79cd454c8dce1fd94b08c5b3"
            ],
            "layout": "IPY_MODEL_a68dae99b2e441468e4a2065e080f09c"
          }
        },
        "87962d7f7a074c6a8df4c9c0707f9921": {
          "model_module": "@jupyter-widgets/controls",
          "model_name": "HTMLModel",
          "model_module_version": "1.5.0",
          "state": {
            "_dom_classes": [],
            "_model_module": "@jupyter-widgets/controls",
            "_model_module_version": "1.5.0",
            "_model_name": "HTMLModel",
            "_view_count": null,
            "_view_module": "@jupyter-widgets/controls",
            "_view_module_version": "1.5.0",
            "_view_name": "HTMLView",
            "description": "",
            "description_tooltip": null,
            "layout": "IPY_MODEL_a79f9fe5499c46159fb6fbd72be47ff3",
            "placeholder": "​",
            "style": "IPY_MODEL_fe94e32a50974aa695b129ec56085fd0",
            "value": "model-00001-of-00002.safetensors: 100%"
          }
        },
        "08ff0204eb6b471488cf623cd0b52b95": {
          "model_module": "@jupyter-widgets/controls",
          "model_name": "FloatProgressModel",
          "model_module_version": "1.5.0",
          "state": {
            "_dom_classes": [],
            "_model_module": "@jupyter-widgets/controls",
            "_model_module_version": "1.5.0",
            "_model_name": "FloatProgressModel",
            "_view_count": null,
            "_view_module": "@jupyter-widgets/controls",
            "_view_module_version": "1.5.0",
            "_view_name": "ProgressView",
            "bar_style": "success",
            "description": "",
            "description_tooltip": null,
            "layout": "IPY_MODEL_f29d40335c6849e0b4fce830150b9f43",
            "max": 4945242264,
            "min": 0,
            "orientation": "horizontal",
            "style": "IPY_MODEL_188b7ebbe2434264a91d3c706a354025",
            "value": 4945242264
          }
        },
        "d7b76bdd79cd454c8dce1fd94b08c5b3": {
          "model_module": "@jupyter-widgets/controls",
          "model_name": "HTMLModel",
          "model_module_version": "1.5.0",
          "state": {
            "_dom_classes": [],
            "_model_module": "@jupyter-widgets/controls",
            "_model_module_version": "1.5.0",
            "_model_name": "HTMLModel",
            "_view_count": null,
            "_view_module": "@jupyter-widgets/controls",
            "_view_module_version": "1.5.0",
            "_view_name": "HTMLView",
            "description": "",
            "description_tooltip": null,
            "layout": "IPY_MODEL_f062d0877a54491ab1d4c47eaefbd545",
            "placeholder": "​",
            "style": "IPY_MODEL_c655f73c629d463d9bc9a83d73937a68",
            "value": " 4.95G/4.95G [00:26&lt;00:00, 227MB/s]"
          }
        },
        "a68dae99b2e441468e4a2065e080f09c": {
          "model_module": "@jupyter-widgets/base",
          "model_name": "LayoutModel",
          "model_module_version": "1.2.0",
          "state": {
            "_model_module": "@jupyter-widgets/base",
            "_model_module_version": "1.2.0",
            "_model_name": "LayoutModel",
            "_view_count": null,
            "_view_module": "@jupyter-widgets/base",
            "_view_module_version": "1.2.0",
            "_view_name": "LayoutView",
            "align_content": null,
            "align_items": null,
            "align_self": null,
            "border": null,
            "bottom": null,
            "display": null,
            "flex": null,
            "flex_flow": null,
            "grid_area": null,
            "grid_auto_columns": null,
            "grid_auto_flow": null,
            "grid_auto_rows": null,
            "grid_column": null,
            "grid_gap": null,
            "grid_row": null,
            "grid_template_areas": null,
            "grid_template_columns": null,
            "grid_template_rows": null,
            "height": null,
            "justify_content": null,
            "justify_items": null,
            "left": null,
            "margin": null,
            "max_height": null,
            "max_width": null,
            "min_height": null,
            "min_width": null,
            "object_fit": null,
            "object_position": null,
            "order": null,
            "overflow": null,
            "overflow_x": null,
            "overflow_y": null,
            "padding": null,
            "right": null,
            "top": null,
            "visibility": null,
            "width": null
          }
        },
        "a79f9fe5499c46159fb6fbd72be47ff3": {
          "model_module": "@jupyter-widgets/base",
          "model_name": "LayoutModel",
          "model_module_version": "1.2.0",
          "state": {
            "_model_module": "@jupyter-widgets/base",
            "_model_module_version": "1.2.0",
            "_model_name": "LayoutModel",
            "_view_count": null,
            "_view_module": "@jupyter-widgets/base",
            "_view_module_version": "1.2.0",
            "_view_name": "LayoutView",
            "align_content": null,
            "align_items": null,
            "align_self": null,
            "border": null,
            "bottom": null,
            "display": null,
            "flex": null,
            "flex_flow": null,
            "grid_area": null,
            "grid_auto_columns": null,
            "grid_auto_flow": null,
            "grid_auto_rows": null,
            "grid_column": null,
            "grid_gap": null,
            "grid_row": null,
            "grid_template_areas": null,
            "grid_template_columns": null,
            "grid_template_rows": null,
            "height": null,
            "justify_content": null,
            "justify_items": null,
            "left": null,
            "margin": null,
            "max_height": null,
            "max_width": null,
            "min_height": null,
            "min_width": null,
            "object_fit": null,
            "object_position": null,
            "order": null,
            "overflow": null,
            "overflow_x": null,
            "overflow_y": null,
            "padding": null,
            "right": null,
            "top": null,
            "visibility": null,
            "width": null
          }
        },
        "fe94e32a50974aa695b129ec56085fd0": {
          "model_module": "@jupyter-widgets/controls",
          "model_name": "DescriptionStyleModel",
          "model_module_version": "1.5.0",
          "state": {
            "_model_module": "@jupyter-widgets/controls",
            "_model_module_version": "1.5.0",
            "_model_name": "DescriptionStyleModel",
            "_view_count": null,
            "_view_module": "@jupyter-widgets/base",
            "_view_module_version": "1.2.0",
            "_view_name": "StyleView",
            "description_width": ""
          }
        },
        "f29d40335c6849e0b4fce830150b9f43": {
          "model_module": "@jupyter-widgets/base",
          "model_name": "LayoutModel",
          "model_module_version": "1.2.0",
          "state": {
            "_model_module": "@jupyter-widgets/base",
            "_model_module_version": "1.2.0",
            "_model_name": "LayoutModel",
            "_view_count": null,
            "_view_module": "@jupyter-widgets/base",
            "_view_module_version": "1.2.0",
            "_view_name": "LayoutView",
            "align_content": null,
            "align_items": null,
            "align_self": null,
            "border": null,
            "bottom": null,
            "display": null,
            "flex": null,
            "flex_flow": null,
            "grid_area": null,
            "grid_auto_columns": null,
            "grid_auto_flow": null,
            "grid_auto_rows": null,
            "grid_column": null,
            "grid_gap": null,
            "grid_row": null,
            "grid_template_areas": null,
            "grid_template_columns": null,
            "grid_template_rows": null,
            "height": null,
            "justify_content": null,
            "justify_items": null,
            "left": null,
            "margin": null,
            "max_height": null,
            "max_width": null,
            "min_height": null,
            "min_width": null,
            "object_fit": null,
            "object_position": null,
            "order": null,
            "overflow": null,
            "overflow_x": null,
            "overflow_y": null,
            "padding": null,
            "right": null,
            "top": null,
            "visibility": null,
            "width": null
          }
        },
        "188b7ebbe2434264a91d3c706a354025": {
          "model_module": "@jupyter-widgets/controls",
          "model_name": "ProgressStyleModel",
          "model_module_version": "1.5.0",
          "state": {
            "_model_module": "@jupyter-widgets/controls",
            "_model_module_version": "1.5.0",
            "_model_name": "ProgressStyleModel",
            "_view_count": null,
            "_view_module": "@jupyter-widgets/base",
            "_view_module_version": "1.2.0",
            "_view_name": "StyleView",
            "bar_color": null,
            "description_width": ""
          }
        },
        "f062d0877a54491ab1d4c47eaefbd545": {
          "model_module": "@jupyter-widgets/base",
          "model_name": "LayoutModel",
          "model_module_version": "1.2.0",
          "state": {
            "_model_module": "@jupyter-widgets/base",
            "_model_module_version": "1.2.0",
            "_model_name": "LayoutModel",
            "_view_count": null,
            "_view_module": "@jupyter-widgets/base",
            "_view_module_version": "1.2.0",
            "_view_name": "LayoutView",
            "align_content": null,
            "align_items": null,
            "align_self": null,
            "border": null,
            "bottom": null,
            "display": null,
            "flex": null,
            "flex_flow": null,
            "grid_area": null,
            "grid_auto_columns": null,
            "grid_auto_flow": null,
            "grid_auto_rows": null,
            "grid_column": null,
            "grid_gap": null,
            "grid_row": null,
            "grid_template_areas": null,
            "grid_template_columns": null,
            "grid_template_rows": null,
            "height": null,
            "justify_content": null,
            "justify_items": null,
            "left": null,
            "margin": null,
            "max_height": null,
            "max_width": null,
            "min_height": null,
            "min_width": null,
            "object_fit": null,
            "object_position": null,
            "order": null,
            "overflow": null,
            "overflow_x": null,
            "overflow_y": null,
            "padding": null,
            "right": null,
            "top": null,
            "visibility": null,
            "width": null
          }
        },
        "c655f73c629d463d9bc9a83d73937a68": {
          "model_module": "@jupyter-widgets/controls",
          "model_name": "DescriptionStyleModel",
          "model_module_version": "1.5.0",
          "state": {
            "_model_module": "@jupyter-widgets/controls",
            "_model_module_version": "1.5.0",
            "_model_name": "DescriptionStyleModel",
            "_view_count": null,
            "_view_module": "@jupyter-widgets/base",
            "_view_module_version": "1.2.0",
            "_view_name": "StyleView",
            "description_width": ""
          }
        },
        "e4208ada51fe42fdbfb8423e02d3b8b0": {
          "model_module": "@jupyter-widgets/controls",
          "model_name": "HBoxModel",
          "model_module_version": "1.5.0",
          "state": {
            "_dom_classes": [],
            "_model_module": "@jupyter-widgets/controls",
            "_model_module_version": "1.5.0",
            "_model_name": "HBoxModel",
            "_view_count": null,
            "_view_module": "@jupyter-widgets/controls",
            "_view_module_version": "1.5.0",
            "_view_name": "HBoxView",
            "box_style": "",
            "children": [
              "IPY_MODEL_712748659d0f452a95419c5bbe275fde",
              "IPY_MODEL_81d38c926b1943529522c39759e53c6b",
              "IPY_MODEL_209b32f9fe1742d386cde52f4c630365"
            ],
            "layout": "IPY_MODEL_fcd8ad7c1bac4c91b5e3b911553f0c78"
          }
        },
        "712748659d0f452a95419c5bbe275fde": {
          "model_module": "@jupyter-widgets/controls",
          "model_name": "HTMLModel",
          "model_module_version": "1.5.0",
          "state": {
            "_dom_classes": [],
            "_model_module": "@jupyter-widgets/controls",
            "_model_module_version": "1.5.0",
            "_model_name": "HTMLModel",
            "_view_count": null,
            "_view_module": "@jupyter-widgets/controls",
            "_view_module_version": "1.5.0",
            "_view_name": "HTMLView",
            "description": "",
            "description_tooltip": null,
            "layout": "IPY_MODEL_6022ca4e0d814f01993efdb60e64115a",
            "placeholder": "​",
            "style": "IPY_MODEL_d8a68aad7eac41baa7578ef93cf0413b",
            "value": "model-00002-of-00002.safetensors: 100%"
          }
        },
        "81d38c926b1943529522c39759e53c6b": {
          "model_module": "@jupyter-widgets/controls",
          "model_name": "FloatProgressModel",
          "model_module_version": "1.5.0",
          "state": {
            "_dom_classes": [],
            "_model_module": "@jupyter-widgets/controls",
            "_model_module_version": "1.5.0",
            "_model_name": "FloatProgressModel",
            "_view_count": null,
            "_view_module": "@jupyter-widgets/controls",
            "_view_module_version": "1.5.0",
            "_view_name": "ProgressView",
            "bar_style": "success",
            "description": "",
            "description_tooltip": null,
            "layout": "IPY_MODEL_f5838ff9a94b4b168e61dc0587b5a433",
            "max": 67121608,
            "min": 0,
            "orientation": "horizontal",
            "style": "IPY_MODEL_4d4cd96281c14e458e65c3aa13765d2a",
            "value": 67121608
          }
        },
        "209b32f9fe1742d386cde52f4c630365": {
          "model_module": "@jupyter-widgets/controls",
          "model_name": "HTMLModel",
          "model_module_version": "1.5.0",
          "state": {
            "_dom_classes": [],
            "_model_module": "@jupyter-widgets/controls",
            "_model_module_version": "1.5.0",
            "_model_name": "HTMLModel",
            "_view_count": null,
            "_view_module": "@jupyter-widgets/controls",
            "_view_module_version": "1.5.0",
            "_view_name": "HTMLView",
            "description": "",
            "description_tooltip": null,
            "layout": "IPY_MODEL_fa165ba6e82b4a6ca609255e5a91c7a3",
            "placeholder": "​",
            "style": "IPY_MODEL_93a6ed79000f41d0be983b41bfd81633",
            "value": " 67.1M/67.1M [00:00&lt;00:00, 259MB/s]"
          }
        },
        "fcd8ad7c1bac4c91b5e3b911553f0c78": {
          "model_module": "@jupyter-widgets/base",
          "model_name": "LayoutModel",
          "model_module_version": "1.2.0",
          "state": {
            "_model_module": "@jupyter-widgets/base",
            "_model_module_version": "1.2.0",
            "_model_name": "LayoutModel",
            "_view_count": null,
            "_view_module": "@jupyter-widgets/base",
            "_view_module_version": "1.2.0",
            "_view_name": "LayoutView",
            "align_content": null,
            "align_items": null,
            "align_self": null,
            "border": null,
            "bottom": null,
            "display": null,
            "flex": null,
            "flex_flow": null,
            "grid_area": null,
            "grid_auto_columns": null,
            "grid_auto_flow": null,
            "grid_auto_rows": null,
            "grid_column": null,
            "grid_gap": null,
            "grid_row": null,
            "grid_template_areas": null,
            "grid_template_columns": null,
            "grid_template_rows": null,
            "height": null,
            "justify_content": null,
            "justify_items": null,
            "left": null,
            "margin": null,
            "max_height": null,
            "max_width": null,
            "min_height": null,
            "min_width": null,
            "object_fit": null,
            "object_position": null,
            "order": null,
            "overflow": null,
            "overflow_x": null,
            "overflow_y": null,
            "padding": null,
            "right": null,
            "top": null,
            "visibility": null,
            "width": null
          }
        },
        "6022ca4e0d814f01993efdb60e64115a": {
          "model_module": "@jupyter-widgets/base",
          "model_name": "LayoutModel",
          "model_module_version": "1.2.0",
          "state": {
            "_model_module": "@jupyter-widgets/base",
            "_model_module_version": "1.2.0",
            "_model_name": "LayoutModel",
            "_view_count": null,
            "_view_module": "@jupyter-widgets/base",
            "_view_module_version": "1.2.0",
            "_view_name": "LayoutView",
            "align_content": null,
            "align_items": null,
            "align_self": null,
            "border": null,
            "bottom": null,
            "display": null,
            "flex": null,
            "flex_flow": null,
            "grid_area": null,
            "grid_auto_columns": null,
            "grid_auto_flow": null,
            "grid_auto_rows": null,
            "grid_column": null,
            "grid_gap": null,
            "grid_row": null,
            "grid_template_areas": null,
            "grid_template_columns": null,
            "grid_template_rows": null,
            "height": null,
            "justify_content": null,
            "justify_items": null,
            "left": null,
            "margin": null,
            "max_height": null,
            "max_width": null,
            "min_height": null,
            "min_width": null,
            "object_fit": null,
            "object_position": null,
            "order": null,
            "overflow": null,
            "overflow_x": null,
            "overflow_y": null,
            "padding": null,
            "right": null,
            "top": null,
            "visibility": null,
            "width": null
          }
        },
        "d8a68aad7eac41baa7578ef93cf0413b": {
          "model_module": "@jupyter-widgets/controls",
          "model_name": "DescriptionStyleModel",
          "model_module_version": "1.5.0",
          "state": {
            "_model_module": "@jupyter-widgets/controls",
            "_model_module_version": "1.5.0",
            "_model_name": "DescriptionStyleModel",
            "_view_count": null,
            "_view_module": "@jupyter-widgets/base",
            "_view_module_version": "1.2.0",
            "_view_name": "StyleView",
            "description_width": ""
          }
        },
        "f5838ff9a94b4b168e61dc0587b5a433": {
          "model_module": "@jupyter-widgets/base",
          "model_name": "LayoutModel",
          "model_module_version": "1.2.0",
          "state": {
            "_model_module": "@jupyter-widgets/base",
            "_model_module_version": "1.2.0",
            "_model_name": "LayoutModel",
            "_view_count": null,
            "_view_module": "@jupyter-widgets/base",
            "_view_module_version": "1.2.0",
            "_view_name": "LayoutView",
            "align_content": null,
            "align_items": null,
            "align_self": null,
            "border": null,
            "bottom": null,
            "display": null,
            "flex": null,
            "flex_flow": null,
            "grid_area": null,
            "grid_auto_columns": null,
            "grid_auto_flow": null,
            "grid_auto_rows": null,
            "grid_column": null,
            "grid_gap": null,
            "grid_row": null,
            "grid_template_areas": null,
            "grid_template_columns": null,
            "grid_template_rows": null,
            "height": null,
            "justify_content": null,
            "justify_items": null,
            "left": null,
            "margin": null,
            "max_height": null,
            "max_width": null,
            "min_height": null,
            "min_width": null,
            "object_fit": null,
            "object_position": null,
            "order": null,
            "overflow": null,
            "overflow_x": null,
            "overflow_y": null,
            "padding": null,
            "right": null,
            "top": null,
            "visibility": null,
            "width": null
          }
        },
        "4d4cd96281c14e458e65c3aa13765d2a": {
          "model_module": "@jupyter-widgets/controls",
          "model_name": "ProgressStyleModel",
          "model_module_version": "1.5.0",
          "state": {
            "_model_module": "@jupyter-widgets/controls",
            "_model_module_version": "1.5.0",
            "_model_name": "ProgressStyleModel",
            "_view_count": null,
            "_view_module": "@jupyter-widgets/base",
            "_view_module_version": "1.2.0",
            "_view_name": "StyleView",
            "bar_color": null,
            "description_width": ""
          }
        },
        "fa165ba6e82b4a6ca609255e5a91c7a3": {
          "model_module": "@jupyter-widgets/base",
          "model_name": "LayoutModel",
          "model_module_version": "1.2.0",
          "state": {
            "_model_module": "@jupyter-widgets/base",
            "_model_module_version": "1.2.0",
            "_model_name": "LayoutModel",
            "_view_count": null,
            "_view_module": "@jupyter-widgets/base",
            "_view_module_version": "1.2.0",
            "_view_name": "LayoutView",
            "align_content": null,
            "align_items": null,
            "align_self": null,
            "border": null,
            "bottom": null,
            "display": null,
            "flex": null,
            "flex_flow": null,
            "grid_area": null,
            "grid_auto_columns": null,
            "grid_auto_flow": null,
            "grid_auto_rows": null,
            "grid_column": null,
            "grid_gap": null,
            "grid_row": null,
            "grid_template_areas": null,
            "grid_template_columns": null,
            "grid_template_rows": null,
            "height": null,
            "justify_content": null,
            "justify_items": null,
            "left": null,
            "margin": null,
            "max_height": null,
            "max_width": null,
            "min_height": null,
            "min_width": null,
            "object_fit": null,
            "object_position": null,
            "order": null,
            "overflow": null,
            "overflow_x": null,
            "overflow_y": null,
            "padding": null,
            "right": null,
            "top": null,
            "visibility": null,
            "width": null
          }
        },
        "93a6ed79000f41d0be983b41bfd81633": {
          "model_module": "@jupyter-widgets/controls",
          "model_name": "DescriptionStyleModel",
          "model_module_version": "1.5.0",
          "state": {
            "_model_module": "@jupyter-widgets/controls",
            "_model_module_version": "1.5.0",
            "_model_name": "DescriptionStyleModel",
            "_view_count": null,
            "_view_module": "@jupyter-widgets/base",
            "_view_module_version": "1.2.0",
            "_view_name": "StyleView",
            "description_width": ""
          }
        },
        "6bbfc18a07e8499f9b31260bf156c576": {
          "model_module": "@jupyter-widgets/controls",
          "model_name": "HBoxModel",
          "model_module_version": "1.5.0",
          "state": {
            "_dom_classes": [],
            "_model_module": "@jupyter-widgets/controls",
            "_model_module_version": "1.5.0",
            "_model_name": "HBoxModel",
            "_view_count": null,
            "_view_module": "@jupyter-widgets/controls",
            "_view_module_version": "1.5.0",
            "_view_name": "HBoxView",
            "box_style": "",
            "children": [
              "IPY_MODEL_8eb7010a339f4fe7aa5f268476f2af76",
              "IPY_MODEL_af0f7567932a4fa9be5882c9ad067645",
              "IPY_MODEL_80b3f8ff8b9048a8a228b2c86f395478"
            ],
            "layout": "IPY_MODEL_d22594cd93ac426e8a5ad58a4c3daced"
          }
        },
        "8eb7010a339f4fe7aa5f268476f2af76": {
          "model_module": "@jupyter-widgets/controls",
          "model_name": "HTMLModel",
          "model_module_version": "1.5.0",
          "state": {
            "_dom_classes": [],
            "_model_module": "@jupyter-widgets/controls",
            "_model_module_version": "1.5.0",
            "_model_name": "HTMLModel",
            "_view_count": null,
            "_view_module": "@jupyter-widgets/controls",
            "_view_module_version": "1.5.0",
            "_view_name": "HTMLView",
            "description": "",
            "description_tooltip": null,
            "layout": "IPY_MODEL_cfbc06a4f73d4354bc4e6b4ea2f2d50f",
            "placeholder": "​",
            "style": "IPY_MODEL_72f4ddf50fc5473289296143ba91f0b9",
            "value": "Loading checkpoint shards: 100%"
          }
        },
        "af0f7567932a4fa9be5882c9ad067645": {
          "model_module": "@jupyter-widgets/controls",
          "model_name": "FloatProgressModel",
          "model_module_version": "1.5.0",
          "state": {
            "_dom_classes": [],
            "_model_module": "@jupyter-widgets/controls",
            "_model_module_version": "1.5.0",
            "_model_name": "FloatProgressModel",
            "_view_count": null,
            "_view_module": "@jupyter-widgets/controls",
            "_view_module_version": "1.5.0",
            "_view_name": "ProgressView",
            "bar_style": "success",
            "description": "",
            "description_tooltip": null,
            "layout": "IPY_MODEL_7ab63e58ace448a7b46f7d16177f5839",
            "max": 2,
            "min": 0,
            "orientation": "horizontal",
            "style": "IPY_MODEL_264763ccefec429f8bebfca6e85ddd04",
            "value": 2
          }
        },
        "80b3f8ff8b9048a8a228b2c86f395478": {
          "model_module": "@jupyter-widgets/controls",
          "model_name": "HTMLModel",
          "model_module_version": "1.5.0",
          "state": {
            "_dom_classes": [],
            "_model_module": "@jupyter-widgets/controls",
            "_model_module_version": "1.5.0",
            "_model_name": "HTMLModel",
            "_view_count": null,
            "_view_module": "@jupyter-widgets/controls",
            "_view_module_version": "1.5.0",
            "_view_name": "HTMLView",
            "description": "",
            "description_tooltip": null,
            "layout": "IPY_MODEL_db6551526bd74c65a2861d9d9fa191a4",
            "placeholder": "​",
            "style": "IPY_MODEL_f65fde23b4bf4a3dace87fd1341d5a12",
            "value": " 2/2 [00:16&lt;00:00,  6.81s/it]"
          }
        },
        "d22594cd93ac426e8a5ad58a4c3daced": {
          "model_module": "@jupyter-widgets/base",
          "model_name": "LayoutModel",
          "model_module_version": "1.2.0",
          "state": {
            "_model_module": "@jupyter-widgets/base",
            "_model_module_version": "1.2.0",
            "_model_name": "LayoutModel",
            "_view_count": null,
            "_view_module": "@jupyter-widgets/base",
            "_view_module_version": "1.2.0",
            "_view_name": "LayoutView",
            "align_content": null,
            "align_items": null,
            "align_self": null,
            "border": null,
            "bottom": null,
            "display": null,
            "flex": null,
            "flex_flow": null,
            "grid_area": null,
            "grid_auto_columns": null,
            "grid_auto_flow": null,
            "grid_auto_rows": null,
            "grid_column": null,
            "grid_gap": null,
            "grid_row": null,
            "grid_template_areas": null,
            "grid_template_columns": null,
            "grid_template_rows": null,
            "height": null,
            "justify_content": null,
            "justify_items": null,
            "left": null,
            "margin": null,
            "max_height": null,
            "max_width": null,
            "min_height": null,
            "min_width": null,
            "object_fit": null,
            "object_position": null,
            "order": null,
            "overflow": null,
            "overflow_x": null,
            "overflow_y": null,
            "padding": null,
            "right": null,
            "top": null,
            "visibility": null,
            "width": null
          }
        },
        "cfbc06a4f73d4354bc4e6b4ea2f2d50f": {
          "model_module": "@jupyter-widgets/base",
          "model_name": "LayoutModel",
          "model_module_version": "1.2.0",
          "state": {
            "_model_module": "@jupyter-widgets/base",
            "_model_module_version": "1.2.0",
            "_model_name": "LayoutModel",
            "_view_count": null,
            "_view_module": "@jupyter-widgets/base",
            "_view_module_version": "1.2.0",
            "_view_name": "LayoutView",
            "align_content": null,
            "align_items": null,
            "align_self": null,
            "border": null,
            "bottom": null,
            "display": null,
            "flex": null,
            "flex_flow": null,
            "grid_area": null,
            "grid_auto_columns": null,
            "grid_auto_flow": null,
            "grid_auto_rows": null,
            "grid_column": null,
            "grid_gap": null,
            "grid_row": null,
            "grid_template_areas": null,
            "grid_template_columns": null,
            "grid_template_rows": null,
            "height": null,
            "justify_content": null,
            "justify_items": null,
            "left": null,
            "margin": null,
            "max_height": null,
            "max_width": null,
            "min_height": null,
            "min_width": null,
            "object_fit": null,
            "object_position": null,
            "order": null,
            "overflow": null,
            "overflow_x": null,
            "overflow_y": null,
            "padding": null,
            "right": null,
            "top": null,
            "visibility": null,
            "width": null
          }
        },
        "72f4ddf50fc5473289296143ba91f0b9": {
          "model_module": "@jupyter-widgets/controls",
          "model_name": "DescriptionStyleModel",
          "model_module_version": "1.5.0",
          "state": {
            "_model_module": "@jupyter-widgets/controls",
            "_model_module_version": "1.5.0",
            "_model_name": "DescriptionStyleModel",
            "_view_count": null,
            "_view_module": "@jupyter-widgets/base",
            "_view_module_version": "1.2.0",
            "_view_name": "StyleView",
            "description_width": ""
          }
        },
        "7ab63e58ace448a7b46f7d16177f5839": {
          "model_module": "@jupyter-widgets/base",
          "model_name": "LayoutModel",
          "model_module_version": "1.2.0",
          "state": {
            "_model_module": "@jupyter-widgets/base",
            "_model_module_version": "1.2.0",
            "_model_name": "LayoutModel",
            "_view_count": null,
            "_view_module": "@jupyter-widgets/base",
            "_view_module_version": "1.2.0",
            "_view_name": "LayoutView",
            "align_content": null,
            "align_items": null,
            "align_self": null,
            "border": null,
            "bottom": null,
            "display": null,
            "flex": null,
            "flex_flow": null,
            "grid_area": null,
            "grid_auto_columns": null,
            "grid_auto_flow": null,
            "grid_auto_rows": null,
            "grid_column": null,
            "grid_gap": null,
            "grid_row": null,
            "grid_template_areas": null,
            "grid_template_columns": null,
            "grid_template_rows": null,
            "height": null,
            "justify_content": null,
            "justify_items": null,
            "left": null,
            "margin": null,
            "max_height": null,
            "max_width": null,
            "min_height": null,
            "min_width": null,
            "object_fit": null,
            "object_position": null,
            "order": null,
            "overflow": null,
            "overflow_x": null,
            "overflow_y": null,
            "padding": null,
            "right": null,
            "top": null,
            "visibility": null,
            "width": null
          }
        },
        "264763ccefec429f8bebfca6e85ddd04": {
          "model_module": "@jupyter-widgets/controls",
          "model_name": "ProgressStyleModel",
          "model_module_version": "1.5.0",
          "state": {
            "_model_module": "@jupyter-widgets/controls",
            "_model_module_version": "1.5.0",
            "_model_name": "ProgressStyleModel",
            "_view_count": null,
            "_view_module": "@jupyter-widgets/base",
            "_view_module_version": "1.2.0",
            "_view_name": "StyleView",
            "bar_color": null,
            "description_width": ""
          }
        },
        "db6551526bd74c65a2861d9d9fa191a4": {
          "model_module": "@jupyter-widgets/base",
          "model_name": "LayoutModel",
          "model_module_version": "1.2.0",
          "state": {
            "_model_module": "@jupyter-widgets/base",
            "_model_module_version": "1.2.0",
            "_model_name": "LayoutModel",
            "_view_count": null,
            "_view_module": "@jupyter-widgets/base",
            "_view_module_version": "1.2.0",
            "_view_name": "LayoutView",
            "align_content": null,
            "align_items": null,
            "align_self": null,
            "border": null,
            "bottom": null,
            "display": null,
            "flex": null,
            "flex_flow": null,
            "grid_area": null,
            "grid_auto_columns": null,
            "grid_auto_flow": null,
            "grid_auto_rows": null,
            "grid_column": null,
            "grid_gap": null,
            "grid_row": null,
            "grid_template_areas": null,
            "grid_template_columns": null,
            "grid_template_rows": null,
            "height": null,
            "justify_content": null,
            "justify_items": null,
            "left": null,
            "margin": null,
            "max_height": null,
            "max_width": null,
            "min_height": null,
            "min_width": null,
            "object_fit": null,
            "object_position": null,
            "order": null,
            "overflow": null,
            "overflow_x": null,
            "overflow_y": null,
            "padding": null,
            "right": null,
            "top": null,
            "visibility": null,
            "width": null
          }
        },
        "f65fde23b4bf4a3dace87fd1341d5a12": {
          "model_module": "@jupyter-widgets/controls",
          "model_name": "DescriptionStyleModel",
          "model_module_version": "1.5.0",
          "state": {
            "_model_module": "@jupyter-widgets/controls",
            "_model_module_version": "1.5.0",
            "_model_name": "DescriptionStyleModel",
            "_view_count": null,
            "_view_module": "@jupyter-widgets/base",
            "_view_module_version": "1.2.0",
            "_view_name": "StyleView",
            "description_width": ""
          }
        },
        "8deeb94a9a4f4cb9814c9bdb7a57098e": {
          "model_module": "@jupyter-widgets/controls",
          "model_name": "HBoxModel",
          "model_module_version": "1.5.0",
          "state": {
            "_dom_classes": [],
            "_model_module": "@jupyter-widgets/controls",
            "_model_module_version": "1.5.0",
            "_model_name": "HBoxModel",
            "_view_count": null,
            "_view_module": "@jupyter-widgets/controls",
            "_view_module_version": "1.5.0",
            "_view_name": "HBoxView",
            "box_style": "",
            "children": [
              "IPY_MODEL_69e526521ca74cccad2880d6d74c1972",
              "IPY_MODEL_f967fafaac374c45850bc3563d697dd1",
              "IPY_MODEL_506a0e0d212e482aaab6e5f3d3f9da6f"
            ],
            "layout": "IPY_MODEL_24923cfef5b84568923e188fe69b3d6b"
          }
        },
        "69e526521ca74cccad2880d6d74c1972": {
          "model_module": "@jupyter-widgets/controls",
          "model_name": "HTMLModel",
          "model_module_version": "1.5.0",
          "state": {
            "_dom_classes": [],
            "_model_module": "@jupyter-widgets/controls",
            "_model_module_version": "1.5.0",
            "_model_name": "HTMLModel",
            "_view_count": null,
            "_view_module": "@jupyter-widgets/controls",
            "_view_module_version": "1.5.0",
            "_view_name": "HTMLView",
            "description": "",
            "description_tooltip": null,
            "layout": "IPY_MODEL_9b1851791b954125a83f3b0879a87264",
            "placeholder": "​",
            "style": "IPY_MODEL_926c8563f365435f99e6b96d19badd92",
            "value": "generation_config.json: 100%"
          }
        },
        "f967fafaac374c45850bc3563d697dd1": {
          "model_module": "@jupyter-widgets/controls",
          "model_name": "FloatProgressModel",
          "model_module_version": "1.5.0",
          "state": {
            "_dom_classes": [],
            "_model_module": "@jupyter-widgets/controls",
            "_model_module_version": "1.5.0",
            "_model_name": "FloatProgressModel",
            "_view_count": null,
            "_view_module": "@jupyter-widgets/controls",
            "_view_module_version": "1.5.0",
            "_view_name": "ProgressView",
            "bar_style": "success",
            "description": "",
            "description_tooltip": null,
            "layout": "IPY_MODEL_660bfaebfa8f42f889476670a4ac6476",
            "max": 137,
            "min": 0,
            "orientation": "horizontal",
            "style": "IPY_MODEL_f75eb40114134cae851c417a20d5624c",
            "value": 137
          }
        },
        "506a0e0d212e482aaab6e5f3d3f9da6f": {
          "model_module": "@jupyter-widgets/controls",
          "model_name": "HTMLModel",
          "model_module_version": "1.5.0",
          "state": {
            "_dom_classes": [],
            "_model_module": "@jupyter-widgets/controls",
            "_model_module_version": "1.5.0",
            "_model_name": "HTMLModel",
            "_view_count": null,
            "_view_module": "@jupyter-widgets/controls",
            "_view_module_version": "1.5.0",
            "_view_name": "HTMLView",
            "description": "",
            "description_tooltip": null,
            "layout": "IPY_MODEL_af7cbaa418ca4b399283102e0ca9a363",
            "placeholder": "​",
            "style": "IPY_MODEL_2193b97e34404453a953a55d1948aeb3",
            "value": " 137/137 [00:00&lt;00:00, 9.96kB/s]"
          }
        },
        "24923cfef5b84568923e188fe69b3d6b": {
          "model_module": "@jupyter-widgets/base",
          "model_name": "LayoutModel",
          "model_module_version": "1.2.0",
          "state": {
            "_model_module": "@jupyter-widgets/base",
            "_model_module_version": "1.2.0",
            "_model_name": "LayoutModel",
            "_view_count": null,
            "_view_module": "@jupyter-widgets/base",
            "_view_module_version": "1.2.0",
            "_view_name": "LayoutView",
            "align_content": null,
            "align_items": null,
            "align_self": null,
            "border": null,
            "bottom": null,
            "display": null,
            "flex": null,
            "flex_flow": null,
            "grid_area": null,
            "grid_auto_columns": null,
            "grid_auto_flow": null,
            "grid_auto_rows": null,
            "grid_column": null,
            "grid_gap": null,
            "grid_row": null,
            "grid_template_areas": null,
            "grid_template_columns": null,
            "grid_template_rows": null,
            "height": null,
            "justify_content": null,
            "justify_items": null,
            "left": null,
            "margin": null,
            "max_height": null,
            "max_width": null,
            "min_height": null,
            "min_width": null,
            "object_fit": null,
            "object_position": null,
            "order": null,
            "overflow": null,
            "overflow_x": null,
            "overflow_y": null,
            "padding": null,
            "right": null,
            "top": null,
            "visibility": null,
            "width": null
          }
        },
        "9b1851791b954125a83f3b0879a87264": {
          "model_module": "@jupyter-widgets/base",
          "model_name": "LayoutModel",
          "model_module_version": "1.2.0",
          "state": {
            "_model_module": "@jupyter-widgets/base",
            "_model_module_version": "1.2.0",
            "_model_name": "LayoutModel",
            "_view_count": null,
            "_view_module": "@jupyter-widgets/base",
            "_view_module_version": "1.2.0",
            "_view_name": "LayoutView",
            "align_content": null,
            "align_items": null,
            "align_self": null,
            "border": null,
            "bottom": null,
            "display": null,
            "flex": null,
            "flex_flow": null,
            "grid_area": null,
            "grid_auto_columns": null,
            "grid_auto_flow": null,
            "grid_auto_rows": null,
            "grid_column": null,
            "grid_gap": null,
            "grid_row": null,
            "grid_template_areas": null,
            "grid_template_columns": null,
            "grid_template_rows": null,
            "height": null,
            "justify_content": null,
            "justify_items": null,
            "left": null,
            "margin": null,
            "max_height": null,
            "max_width": null,
            "min_height": null,
            "min_width": null,
            "object_fit": null,
            "object_position": null,
            "order": null,
            "overflow": null,
            "overflow_x": null,
            "overflow_y": null,
            "padding": null,
            "right": null,
            "top": null,
            "visibility": null,
            "width": null
          }
        },
        "926c8563f365435f99e6b96d19badd92": {
          "model_module": "@jupyter-widgets/controls",
          "model_name": "DescriptionStyleModel",
          "model_module_version": "1.5.0",
          "state": {
            "_model_module": "@jupyter-widgets/controls",
            "_model_module_version": "1.5.0",
            "_model_name": "DescriptionStyleModel",
            "_view_count": null,
            "_view_module": "@jupyter-widgets/base",
            "_view_module_version": "1.2.0",
            "_view_name": "StyleView",
            "description_width": ""
          }
        },
        "660bfaebfa8f42f889476670a4ac6476": {
          "model_module": "@jupyter-widgets/base",
          "model_name": "LayoutModel",
          "model_module_version": "1.2.0",
          "state": {
            "_model_module": "@jupyter-widgets/base",
            "_model_module_version": "1.2.0",
            "_model_name": "LayoutModel",
            "_view_count": null,
            "_view_module": "@jupyter-widgets/base",
            "_view_module_version": "1.2.0",
            "_view_name": "LayoutView",
            "align_content": null,
            "align_items": null,
            "align_self": null,
            "border": null,
            "bottom": null,
            "display": null,
            "flex": null,
            "flex_flow": null,
            "grid_area": null,
            "grid_auto_columns": null,
            "grid_auto_flow": null,
            "grid_auto_rows": null,
            "grid_column": null,
            "grid_gap": null,
            "grid_row": null,
            "grid_template_areas": null,
            "grid_template_columns": null,
            "grid_template_rows": null,
            "height": null,
            "justify_content": null,
            "justify_items": null,
            "left": null,
            "margin": null,
            "max_height": null,
            "max_width": null,
            "min_height": null,
            "min_width": null,
            "object_fit": null,
            "object_position": null,
            "order": null,
            "overflow": null,
            "overflow_x": null,
            "overflow_y": null,
            "padding": null,
            "right": null,
            "top": null,
            "visibility": null,
            "width": null
          }
        },
        "f75eb40114134cae851c417a20d5624c": {
          "model_module": "@jupyter-widgets/controls",
          "model_name": "ProgressStyleModel",
          "model_module_version": "1.5.0",
          "state": {
            "_model_module": "@jupyter-widgets/controls",
            "_model_module_version": "1.5.0",
            "_model_name": "ProgressStyleModel",
            "_view_count": null,
            "_view_module": "@jupyter-widgets/base",
            "_view_module_version": "1.2.0",
            "_view_name": "StyleView",
            "bar_color": null,
            "description_width": ""
          }
        },
        "af7cbaa418ca4b399283102e0ca9a363": {
          "model_module": "@jupyter-widgets/base",
          "model_name": "LayoutModel",
          "model_module_version": "1.2.0",
          "state": {
            "_model_module": "@jupyter-widgets/base",
            "_model_module_version": "1.2.0",
            "_model_name": "LayoutModel",
            "_view_count": null,
            "_view_module": "@jupyter-widgets/base",
            "_view_module_version": "1.2.0",
            "_view_name": "LayoutView",
            "align_content": null,
            "align_items": null,
            "align_self": null,
            "border": null,
            "bottom": null,
            "display": null,
            "flex": null,
            "flex_flow": null,
            "grid_area": null,
            "grid_auto_columns": null,
            "grid_auto_flow": null,
            "grid_auto_rows": null,
            "grid_column": null,
            "grid_gap": null,
            "grid_row": null,
            "grid_template_areas": null,
            "grid_template_columns": null,
            "grid_template_rows": null,
            "height": null,
            "justify_content": null,
            "justify_items": null,
            "left": null,
            "margin": null,
            "max_height": null,
            "max_width": null,
            "min_height": null,
            "min_width": null,
            "object_fit": null,
            "object_position": null,
            "order": null,
            "overflow": null,
            "overflow_x": null,
            "overflow_y": null,
            "padding": null,
            "right": null,
            "top": null,
            "visibility": null,
            "width": null
          }
        },
        "2193b97e34404453a953a55d1948aeb3": {
          "model_module": "@jupyter-widgets/controls",
          "model_name": "DescriptionStyleModel",
          "model_module_version": "1.5.0",
          "state": {
            "_model_module": "@jupyter-widgets/controls",
            "_model_module_version": "1.5.0",
            "_model_name": "DescriptionStyleModel",
            "_view_count": null,
            "_view_module": "@jupyter-widgets/base",
            "_view_module_version": "1.2.0",
            "_view_name": "StyleView",
            "description_width": ""
          }
        }
      }
    }
  },
  "nbformat": 4,
  "nbformat_minor": 0
}
