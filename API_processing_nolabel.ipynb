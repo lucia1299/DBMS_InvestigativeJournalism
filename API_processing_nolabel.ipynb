{
  "nbformat": 4,
  "nbformat_minor": 0,
  "metadata": {
    "colab": {
      "provenance": [],
      "include_colab_link": true
    },
    "kernelspec": {
      "name": "python3",
      "display_name": "Python 3"
    },
    "language_info": {
      "name": "python"
    },
    "widgets": {
      "application/vnd.jupyter.widget-state+json": {
        "2b002eb692ec448e8c9779e595474ef0": {
          "model_module": "@jupyter-widgets/controls",
          "model_name": "HBoxModel",
          "model_module_version": "1.5.0",
          "state": {
            "_dom_classes": [],
            "_model_module": "@jupyter-widgets/controls",
            "_model_module_version": "1.5.0",
            "_model_name": "HBoxModel",
            "_view_count": null,
            "_view_module": "@jupyter-widgets/controls",
            "_view_module_version": "1.5.0",
            "_view_name": "HBoxView",
            "box_style": "",
            "children": [
              "IPY_MODEL_8f129f84d99940fba9905e9d01943d1d",
              "IPY_MODEL_86da529ecb38447b90dfbb344c3a8f96",
              "IPY_MODEL_46e2ee6a940046349728fcde9b983b03"
            ],
            "layout": "IPY_MODEL_4f106c6f97414c33a44c4af49d0bfc39"
          }
        },
        "8f129f84d99940fba9905e9d01943d1d": {
          "model_module": "@jupyter-widgets/controls",
          "model_name": "HTMLModel",
          "model_module_version": "1.5.0",
          "state": {
            "_dom_classes": [],
            "_model_module": "@jupyter-widgets/controls",
            "_model_module_version": "1.5.0",
            "_model_name": "HTMLModel",
            "_view_count": null,
            "_view_module": "@jupyter-widgets/controls",
            "_view_module_version": "1.5.0",
            "_view_name": "HTMLView",
            "description": "",
            "description_tooltip": null,
            "layout": "IPY_MODEL_1a7d671ca8234a6891800355e659cf6a",
            "placeholder": "​",
            "style": "IPY_MODEL_bfd0c8fec51745afab9dd09b91d7c2d6",
            "value": "tokenizer_config.json: 100%"
          }
        },
        "86da529ecb38447b90dfbb344c3a8f96": {
          "model_module": "@jupyter-widgets/controls",
          "model_name": "FloatProgressModel",
          "model_module_version": "1.5.0",
          "state": {
            "_dom_classes": [],
            "_model_module": "@jupyter-widgets/controls",
            "_model_module_version": "1.5.0",
            "_model_name": "FloatProgressModel",
            "_view_count": null,
            "_view_module": "@jupyter-widgets/controls",
            "_view_module_version": "1.5.0",
            "_view_name": "ProgressView",
            "bar_style": "success",
            "description": "",
            "description_tooltip": null,
            "layout": "IPY_MODEL_691596c84227488cbc718a2d1be9dc3b",
            "max": 1278,
            "min": 0,
            "orientation": "horizontal",
            "style": "IPY_MODEL_d5d2f0a775754cd1bdca13a3d9391209",
            "value": 1278
          }
        },
        "46e2ee6a940046349728fcde9b983b03": {
          "model_module": "@jupyter-widgets/controls",
          "model_name": "HTMLModel",
          "model_module_version": "1.5.0",
          "state": {
            "_dom_classes": [],
            "_model_module": "@jupyter-widgets/controls",
            "_model_module_version": "1.5.0",
            "_model_name": "HTMLModel",
            "_view_count": null,
            "_view_module": "@jupyter-widgets/controls",
            "_view_module_version": "1.5.0",
            "_view_name": "HTMLView",
            "description": "",
            "description_tooltip": null,
            "layout": "IPY_MODEL_939a1daab78a4d3c9ddabce80a846d76",
            "placeholder": "​",
            "style": "IPY_MODEL_a9de47fb88034ff9988bc86da7d0fb0c",
            "value": " 1.28k/1.28k [00:00&lt;00:00, 11.6kB/s]"
          }
        },
        "4f106c6f97414c33a44c4af49d0bfc39": {
          "model_module": "@jupyter-widgets/base",
          "model_name": "LayoutModel",
          "model_module_version": "1.2.0",
          "state": {
            "_model_module": "@jupyter-widgets/base",
            "_model_module_version": "1.2.0",
            "_model_name": "LayoutModel",
            "_view_count": null,
            "_view_module": "@jupyter-widgets/base",
            "_view_module_version": "1.2.0",
            "_view_name": "LayoutView",
            "align_content": null,
            "align_items": null,
            "align_self": null,
            "border": null,
            "bottom": null,
            "display": null,
            "flex": null,
            "flex_flow": null,
            "grid_area": null,
            "grid_auto_columns": null,
            "grid_auto_flow": null,
            "grid_auto_rows": null,
            "grid_column": null,
            "grid_gap": null,
            "grid_row": null,
            "grid_template_areas": null,
            "grid_template_columns": null,
            "grid_template_rows": null,
            "height": null,
            "justify_content": null,
            "justify_items": null,
            "left": null,
            "margin": null,
            "max_height": null,
            "max_width": null,
            "min_height": null,
            "min_width": null,
            "object_fit": null,
            "object_position": null,
            "order": null,
            "overflow": null,
            "overflow_x": null,
            "overflow_y": null,
            "padding": null,
            "right": null,
            "top": null,
            "visibility": null,
            "width": null
          }
        },
        "1a7d671ca8234a6891800355e659cf6a": {
          "model_module": "@jupyter-widgets/base",
          "model_name": "LayoutModel",
          "model_module_version": "1.2.0",
          "state": {
            "_model_module": "@jupyter-widgets/base",
            "_model_module_version": "1.2.0",
            "_model_name": "LayoutModel",
            "_view_count": null,
            "_view_module": "@jupyter-widgets/base",
            "_view_module_version": "1.2.0",
            "_view_name": "LayoutView",
            "align_content": null,
            "align_items": null,
            "align_self": null,
            "border": null,
            "bottom": null,
            "display": null,
            "flex": null,
            "flex_flow": null,
            "grid_area": null,
            "grid_auto_columns": null,
            "grid_auto_flow": null,
            "grid_auto_rows": null,
            "grid_column": null,
            "grid_gap": null,
            "grid_row": null,
            "grid_template_areas": null,
            "grid_template_columns": null,
            "grid_template_rows": null,
            "height": null,
            "justify_content": null,
            "justify_items": null,
            "left": null,
            "margin": null,
            "max_height": null,
            "max_width": null,
            "min_height": null,
            "min_width": null,
            "object_fit": null,
            "object_position": null,
            "order": null,
            "overflow": null,
            "overflow_x": null,
            "overflow_y": null,
            "padding": null,
            "right": null,
            "top": null,
            "visibility": null,
            "width": null
          }
        },
        "bfd0c8fec51745afab9dd09b91d7c2d6": {
          "model_module": "@jupyter-widgets/controls",
          "model_name": "DescriptionStyleModel",
          "model_module_version": "1.5.0",
          "state": {
            "_model_module": "@jupyter-widgets/controls",
            "_model_module_version": "1.5.0",
            "_model_name": "DescriptionStyleModel",
            "_view_count": null,
            "_view_module": "@jupyter-widgets/base",
            "_view_module_version": "1.2.0",
            "_view_name": "StyleView",
            "description_width": ""
          }
        },
        "691596c84227488cbc718a2d1be9dc3b": {
          "model_module": "@jupyter-widgets/base",
          "model_name": "LayoutModel",
          "model_module_version": "1.2.0",
          "state": {
            "_model_module": "@jupyter-widgets/base",
            "_model_module_version": "1.2.0",
            "_model_name": "LayoutModel",
            "_view_count": null,
            "_view_module": "@jupyter-widgets/base",
            "_view_module_version": "1.2.0",
            "_view_name": "LayoutView",
            "align_content": null,
            "align_items": null,
            "align_self": null,
            "border": null,
            "bottom": null,
            "display": null,
            "flex": null,
            "flex_flow": null,
            "grid_area": null,
            "grid_auto_columns": null,
            "grid_auto_flow": null,
            "grid_auto_rows": null,
            "grid_column": null,
            "grid_gap": null,
            "grid_row": null,
            "grid_template_areas": null,
            "grid_template_columns": null,
            "grid_template_rows": null,
            "height": null,
            "justify_content": null,
            "justify_items": null,
            "left": null,
            "margin": null,
            "max_height": null,
            "max_width": null,
            "min_height": null,
            "min_width": null,
            "object_fit": null,
            "object_position": null,
            "order": null,
            "overflow": null,
            "overflow_x": null,
            "overflow_y": null,
            "padding": null,
            "right": null,
            "top": null,
            "visibility": null,
            "width": null
          }
        },
        "d5d2f0a775754cd1bdca13a3d9391209": {
          "model_module": "@jupyter-widgets/controls",
          "model_name": "ProgressStyleModel",
          "model_module_version": "1.5.0",
          "state": {
            "_model_module": "@jupyter-widgets/controls",
            "_model_module_version": "1.5.0",
            "_model_name": "ProgressStyleModel",
            "_view_count": null,
            "_view_module": "@jupyter-widgets/base",
            "_view_module_version": "1.2.0",
            "_view_name": "StyleView",
            "bar_color": null,
            "description_width": ""
          }
        },
        "939a1daab78a4d3c9ddabce80a846d76": {
          "model_module": "@jupyter-widgets/base",
          "model_name": "LayoutModel",
          "model_module_version": "1.2.0",
          "state": {
            "_model_module": "@jupyter-widgets/base",
            "_model_module_version": "1.2.0",
            "_model_name": "LayoutModel",
            "_view_count": null,
            "_view_module": "@jupyter-widgets/base",
            "_view_module_version": "1.2.0",
            "_view_name": "LayoutView",
            "align_content": null,
            "align_items": null,
            "align_self": null,
            "border": null,
            "bottom": null,
            "display": null,
            "flex": null,
            "flex_flow": null,
            "grid_area": null,
            "grid_auto_columns": null,
            "grid_auto_flow": null,
            "grid_auto_rows": null,
            "grid_column": null,
            "grid_gap": null,
            "grid_row": null,
            "grid_template_areas": null,
            "grid_template_columns": null,
            "grid_template_rows": null,
            "height": null,
            "justify_content": null,
            "justify_items": null,
            "left": null,
            "margin": null,
            "max_height": null,
            "max_width": null,
            "min_height": null,
            "min_width": null,
            "object_fit": null,
            "object_position": null,
            "order": null,
            "overflow": null,
            "overflow_x": null,
            "overflow_y": null,
            "padding": null,
            "right": null,
            "top": null,
            "visibility": null,
            "width": null
          }
        },
        "a9de47fb88034ff9988bc86da7d0fb0c": {
          "model_module": "@jupyter-widgets/controls",
          "model_name": "DescriptionStyleModel",
          "model_module_version": "1.5.0",
          "state": {
            "_model_module": "@jupyter-widgets/controls",
            "_model_module_version": "1.5.0",
            "_model_name": "DescriptionStyleModel",
            "_view_count": null,
            "_view_module": "@jupyter-widgets/base",
            "_view_module_version": "1.2.0",
            "_view_name": "StyleView",
            "description_width": ""
          }
        },
        "c98d6520a820409b8a311f3b2db720a9": {
          "model_module": "@jupyter-widgets/controls",
          "model_name": "HBoxModel",
          "model_module_version": "1.5.0",
          "state": {
            "_dom_classes": [],
            "_model_module": "@jupyter-widgets/controls",
            "_model_module_version": "1.5.0",
            "_model_name": "HBoxModel",
            "_view_count": null,
            "_view_module": "@jupyter-widgets/controls",
            "_view_module_version": "1.5.0",
            "_view_name": "HBoxView",
            "box_style": "",
            "children": [
              "IPY_MODEL_58f934dcbb214b5eb01237678cf31b51",
              "IPY_MODEL_75381bc984504e13b6c801bf3691296e",
              "IPY_MODEL_da8f2358fdfb44b6a28d638e7cc02969"
            ],
            "layout": "IPY_MODEL_1862a9d541f84cb59ea388ca31a3921a"
          }
        },
        "58f934dcbb214b5eb01237678cf31b51": {
          "model_module": "@jupyter-widgets/controls",
          "model_name": "HTMLModel",
          "model_module_version": "1.5.0",
          "state": {
            "_dom_classes": [],
            "_model_module": "@jupyter-widgets/controls",
            "_model_module_version": "1.5.0",
            "_model_name": "HTMLModel",
            "_view_count": null,
            "_view_module": "@jupyter-widgets/controls",
            "_view_module_version": "1.5.0",
            "_view_name": "HTMLView",
            "description": "",
            "description_tooltip": null,
            "layout": "IPY_MODEL_5018dc85bc194a48943a5d1abc74fbea",
            "placeholder": "​",
            "style": "IPY_MODEL_ffeee64940434f06bd6db39e1d2dec74",
            "value": "sentencepiece.bpe.model: 100%"
          }
        },
        "75381bc984504e13b6c801bf3691296e": {
          "model_module": "@jupyter-widgets/controls",
          "model_name": "FloatProgressModel",
          "model_module_version": "1.5.0",
          "state": {
            "_dom_classes": [],
            "_model_module": "@jupyter-widgets/controls",
            "_model_module_version": "1.5.0",
            "_model_name": "FloatProgressModel",
            "_view_count": null,
            "_view_module": "@jupyter-widgets/controls",
            "_view_module_version": "1.5.0",
            "_view_name": "ProgressView",
            "bar_style": "success",
            "description": "",
            "description_tooltip": null,
            "layout": "IPY_MODEL_b050fe02dae246b1bc5bf1fdf63d7e67",
            "max": 5069051,
            "min": 0,
            "orientation": "horizontal",
            "style": "IPY_MODEL_8b20708a578e4609a7cfb14330ee70d7",
            "value": 5069051
          }
        },
        "da8f2358fdfb44b6a28d638e7cc02969": {
          "model_module": "@jupyter-widgets/controls",
          "model_name": "HTMLModel",
          "model_module_version": "1.5.0",
          "state": {
            "_dom_classes": [],
            "_model_module": "@jupyter-widgets/controls",
            "_model_module_version": "1.5.0",
            "_model_name": "HTMLModel",
            "_view_count": null,
            "_view_module": "@jupyter-widgets/controls",
            "_view_module_version": "1.5.0",
            "_view_name": "HTMLView",
            "description": "",
            "description_tooltip": null,
            "layout": "IPY_MODEL_20e60e652b8943b091ae6596f2528818",
            "placeholder": "​",
            "style": "IPY_MODEL_078ed1ea49a14e22b27c66aeee108eea",
            "value": " 5.07M/5.07M [00:00&lt;00:00, 8.70MB/s]"
          }
        },
        "1862a9d541f84cb59ea388ca31a3921a": {
          "model_module": "@jupyter-widgets/base",
          "model_name": "LayoutModel",
          "model_module_version": "1.2.0",
          "state": {
            "_model_module": "@jupyter-widgets/base",
            "_model_module_version": "1.2.0",
            "_model_name": "LayoutModel",
            "_view_count": null,
            "_view_module": "@jupyter-widgets/base",
            "_view_module_version": "1.2.0",
            "_view_name": "LayoutView",
            "align_content": null,
            "align_items": null,
            "align_self": null,
            "border": null,
            "bottom": null,
            "display": null,
            "flex": null,
            "flex_flow": null,
            "grid_area": null,
            "grid_auto_columns": null,
            "grid_auto_flow": null,
            "grid_auto_rows": null,
            "grid_column": null,
            "grid_gap": null,
            "grid_row": null,
            "grid_template_areas": null,
            "grid_template_columns": null,
            "grid_template_rows": null,
            "height": null,
            "justify_content": null,
            "justify_items": null,
            "left": null,
            "margin": null,
            "max_height": null,
            "max_width": null,
            "min_height": null,
            "min_width": null,
            "object_fit": null,
            "object_position": null,
            "order": null,
            "overflow": null,
            "overflow_x": null,
            "overflow_y": null,
            "padding": null,
            "right": null,
            "top": null,
            "visibility": null,
            "width": null
          }
        },
        "5018dc85bc194a48943a5d1abc74fbea": {
          "model_module": "@jupyter-widgets/base",
          "model_name": "LayoutModel",
          "model_module_version": "1.2.0",
          "state": {
            "_model_module": "@jupyter-widgets/base",
            "_model_module_version": "1.2.0",
            "_model_name": "LayoutModel",
            "_view_count": null,
            "_view_module": "@jupyter-widgets/base",
            "_view_module_version": "1.2.0",
            "_view_name": "LayoutView",
            "align_content": null,
            "align_items": null,
            "align_self": null,
            "border": null,
            "bottom": null,
            "display": null,
            "flex": null,
            "flex_flow": null,
            "grid_area": null,
            "grid_auto_columns": null,
            "grid_auto_flow": null,
            "grid_auto_rows": null,
            "grid_column": null,
            "grid_gap": null,
            "grid_row": null,
            "grid_template_areas": null,
            "grid_template_columns": null,
            "grid_template_rows": null,
            "height": null,
            "justify_content": null,
            "justify_items": null,
            "left": null,
            "margin": null,
            "max_height": null,
            "max_width": null,
            "min_height": null,
            "min_width": null,
            "object_fit": null,
            "object_position": null,
            "order": null,
            "overflow": null,
            "overflow_x": null,
            "overflow_y": null,
            "padding": null,
            "right": null,
            "top": null,
            "visibility": null,
            "width": null
          }
        },
        "ffeee64940434f06bd6db39e1d2dec74": {
          "model_module": "@jupyter-widgets/controls",
          "model_name": "DescriptionStyleModel",
          "model_module_version": "1.5.0",
          "state": {
            "_model_module": "@jupyter-widgets/controls",
            "_model_module_version": "1.5.0",
            "_model_name": "DescriptionStyleModel",
            "_view_count": null,
            "_view_module": "@jupyter-widgets/base",
            "_view_module_version": "1.2.0",
            "_view_name": "StyleView",
            "description_width": ""
          }
        },
        "b050fe02dae246b1bc5bf1fdf63d7e67": {
          "model_module": "@jupyter-widgets/base",
          "model_name": "LayoutModel",
          "model_module_version": "1.2.0",
          "state": {
            "_model_module": "@jupyter-widgets/base",
            "_model_module_version": "1.2.0",
            "_model_name": "LayoutModel",
            "_view_count": null,
            "_view_module": "@jupyter-widgets/base",
            "_view_module_version": "1.2.0",
            "_view_name": "LayoutView",
            "align_content": null,
            "align_items": null,
            "align_self": null,
            "border": null,
            "bottom": null,
            "display": null,
            "flex": null,
            "flex_flow": null,
            "grid_area": null,
            "grid_auto_columns": null,
            "grid_auto_flow": null,
            "grid_auto_rows": null,
            "grid_column": null,
            "grid_gap": null,
            "grid_row": null,
            "grid_template_areas": null,
            "grid_template_columns": null,
            "grid_template_rows": null,
            "height": null,
            "justify_content": null,
            "justify_items": null,
            "left": null,
            "margin": null,
            "max_height": null,
            "max_width": null,
            "min_height": null,
            "min_width": null,
            "object_fit": null,
            "object_position": null,
            "order": null,
            "overflow": null,
            "overflow_x": null,
            "overflow_y": null,
            "padding": null,
            "right": null,
            "top": null,
            "visibility": null,
            "width": null
          }
        },
        "8b20708a578e4609a7cfb14330ee70d7": {
          "model_module": "@jupyter-widgets/controls",
          "model_name": "ProgressStyleModel",
          "model_module_version": "1.5.0",
          "state": {
            "_model_module": "@jupyter-widgets/controls",
            "_model_module_version": "1.5.0",
            "_model_name": "ProgressStyleModel",
            "_view_count": null,
            "_view_module": "@jupyter-widgets/base",
            "_view_module_version": "1.2.0",
            "_view_name": "StyleView",
            "bar_color": null,
            "description_width": ""
          }
        },
        "20e60e652b8943b091ae6596f2528818": {
          "model_module": "@jupyter-widgets/base",
          "model_name": "LayoutModel",
          "model_module_version": "1.2.0",
          "state": {
            "_model_module": "@jupyter-widgets/base",
            "_model_module_version": "1.2.0",
            "_model_name": "LayoutModel",
            "_view_count": null,
            "_view_module": "@jupyter-widgets/base",
            "_view_module_version": "1.2.0",
            "_view_name": "LayoutView",
            "align_content": null,
            "align_items": null,
            "align_self": null,
            "border": null,
            "bottom": null,
            "display": null,
            "flex": null,
            "flex_flow": null,
            "grid_area": null,
            "grid_auto_columns": null,
            "grid_auto_flow": null,
            "grid_auto_rows": null,
            "grid_column": null,
            "grid_gap": null,
            "grid_row": null,
            "grid_template_areas": null,
            "grid_template_columns": null,
            "grid_template_rows": null,
            "height": null,
            "justify_content": null,
            "justify_items": null,
            "left": null,
            "margin": null,
            "max_height": null,
            "max_width": null,
            "min_height": null,
            "min_width": null,
            "object_fit": null,
            "object_position": null,
            "order": null,
            "overflow": null,
            "overflow_x": null,
            "overflow_y": null,
            "padding": null,
            "right": null,
            "top": null,
            "visibility": null,
            "width": null
          }
        },
        "078ed1ea49a14e22b27c66aeee108eea": {
          "model_module": "@jupyter-widgets/controls",
          "model_name": "DescriptionStyleModel",
          "model_module_version": "1.5.0",
          "state": {
            "_model_module": "@jupyter-widgets/controls",
            "_model_module_version": "1.5.0",
            "_model_name": "DescriptionStyleModel",
            "_view_count": null,
            "_view_module": "@jupyter-widgets/base",
            "_view_module_version": "1.2.0",
            "_view_name": "StyleView",
            "description_width": ""
          }
        },
        "913f1eddceea47f087fcc79fbddd51ad": {
          "model_module": "@jupyter-widgets/controls",
          "model_name": "HBoxModel",
          "model_module_version": "1.5.0",
          "state": {
            "_dom_classes": [],
            "_model_module": "@jupyter-widgets/controls",
            "_model_module_version": "1.5.0",
            "_model_name": "HBoxModel",
            "_view_count": null,
            "_view_module": "@jupyter-widgets/controls",
            "_view_module_version": "1.5.0",
            "_view_name": "HBoxView",
            "box_style": "",
            "children": [
              "IPY_MODEL_3f2a4f9f02fe4a248ace89159c9d3e5f",
              "IPY_MODEL_3db3ab20fb9f43d38f1a24cae0667e7d",
              "IPY_MODEL_69ab3d08c8bb4944b58d1e27188fc30e"
            ],
            "layout": "IPY_MODEL_80595dab05c848b4a868e6eebbcb004a"
          }
        },
        "3f2a4f9f02fe4a248ace89159c9d3e5f": {
          "model_module": "@jupyter-widgets/controls",
          "model_name": "HTMLModel",
          "model_module_version": "1.5.0",
          "state": {
            "_dom_classes": [],
            "_model_module": "@jupyter-widgets/controls",
            "_model_module_version": "1.5.0",
            "_model_name": "HTMLModel",
            "_view_count": null,
            "_view_module": "@jupyter-widgets/controls",
            "_view_module_version": "1.5.0",
            "_view_name": "HTMLView",
            "description": "",
            "description_tooltip": null,
            "layout": "IPY_MODEL_9e22aede5ef94c9e9bb0591a8c96d516",
            "placeholder": "​",
            "style": "IPY_MODEL_6f934481a3c4410ca02263916c2f255e",
            "value": "tokenizer.json: 100%"
          }
        },
        "3db3ab20fb9f43d38f1a24cae0667e7d": {
          "model_module": "@jupyter-widgets/controls",
          "model_name": "FloatProgressModel",
          "model_module_version": "1.5.0",
          "state": {
            "_dom_classes": [],
            "_model_module": "@jupyter-widgets/controls",
            "_model_module_version": "1.5.0",
            "_model_name": "FloatProgressModel",
            "_view_count": null,
            "_view_module": "@jupyter-widgets/controls",
            "_view_module_version": "1.5.0",
            "_view_name": "ProgressView",
            "bar_style": "success",
            "description": "",
            "description_tooltip": null,
            "layout": "IPY_MODEL_adad29ac3200498c9ca6bf92863154b9",
            "max": 17097513,
            "min": 0,
            "orientation": "horizontal",
            "style": "IPY_MODEL_05299bf260e343fa8507d45fb09fafb2",
            "value": 17097513
          }
        },
        "69ab3d08c8bb4944b58d1e27188fc30e": {
          "model_module": "@jupyter-widgets/controls",
          "model_name": "HTMLModel",
          "model_module_version": "1.5.0",
          "state": {
            "_dom_classes": [],
            "_model_module": "@jupyter-widgets/controls",
            "_model_module_version": "1.5.0",
            "_model_name": "HTMLModel",
            "_view_count": null,
            "_view_module": "@jupyter-widgets/controls",
            "_view_module_version": "1.5.0",
            "_view_name": "HTMLView",
            "description": "",
            "description_tooltip": null,
            "layout": "IPY_MODEL_87c81f38758d4902a664bec2802ad9e7",
            "placeholder": "​",
            "style": "IPY_MODEL_96bc07e284d143debf79e292b3d36427",
            "value": " 17.1M/17.1M [00:00&lt;00:00, 16.6MB/s]"
          }
        },
        "80595dab05c848b4a868e6eebbcb004a": {
          "model_module": "@jupyter-widgets/base",
          "model_name": "LayoutModel",
          "model_module_version": "1.2.0",
          "state": {
            "_model_module": "@jupyter-widgets/base",
            "_model_module_version": "1.2.0",
            "_model_name": "LayoutModel",
            "_view_count": null,
            "_view_module": "@jupyter-widgets/base",
            "_view_module_version": "1.2.0",
            "_view_name": "LayoutView",
            "align_content": null,
            "align_items": null,
            "align_self": null,
            "border": null,
            "bottom": null,
            "display": null,
            "flex": null,
            "flex_flow": null,
            "grid_area": null,
            "grid_auto_columns": null,
            "grid_auto_flow": null,
            "grid_auto_rows": null,
            "grid_column": null,
            "grid_gap": null,
            "grid_row": null,
            "grid_template_areas": null,
            "grid_template_columns": null,
            "grid_template_rows": null,
            "height": null,
            "justify_content": null,
            "justify_items": null,
            "left": null,
            "margin": null,
            "max_height": null,
            "max_width": null,
            "min_height": null,
            "min_width": null,
            "object_fit": null,
            "object_position": null,
            "order": null,
            "overflow": null,
            "overflow_x": null,
            "overflow_y": null,
            "padding": null,
            "right": null,
            "top": null,
            "visibility": null,
            "width": null
          }
        },
        "9e22aede5ef94c9e9bb0591a8c96d516": {
          "model_module": "@jupyter-widgets/base",
          "model_name": "LayoutModel",
          "model_module_version": "1.2.0",
          "state": {
            "_model_module": "@jupyter-widgets/base",
            "_model_module_version": "1.2.0",
            "_model_name": "LayoutModel",
            "_view_count": null,
            "_view_module": "@jupyter-widgets/base",
            "_view_module_version": "1.2.0",
            "_view_name": "LayoutView",
            "align_content": null,
            "align_items": null,
            "align_self": null,
            "border": null,
            "bottom": null,
            "display": null,
            "flex": null,
            "flex_flow": null,
            "grid_area": null,
            "grid_auto_columns": null,
            "grid_auto_flow": null,
            "grid_auto_rows": null,
            "grid_column": null,
            "grid_gap": null,
            "grid_row": null,
            "grid_template_areas": null,
            "grid_template_columns": null,
            "grid_template_rows": null,
            "height": null,
            "justify_content": null,
            "justify_items": null,
            "left": null,
            "margin": null,
            "max_height": null,
            "max_width": null,
            "min_height": null,
            "min_width": null,
            "object_fit": null,
            "object_position": null,
            "order": null,
            "overflow": null,
            "overflow_x": null,
            "overflow_y": null,
            "padding": null,
            "right": null,
            "top": null,
            "visibility": null,
            "width": null
          }
        },
        "6f934481a3c4410ca02263916c2f255e": {
          "model_module": "@jupyter-widgets/controls",
          "model_name": "DescriptionStyleModel",
          "model_module_version": "1.5.0",
          "state": {
            "_model_module": "@jupyter-widgets/controls",
            "_model_module_version": "1.5.0",
            "_model_name": "DescriptionStyleModel",
            "_view_count": null,
            "_view_module": "@jupyter-widgets/base",
            "_view_module_version": "1.2.0",
            "_view_name": "StyleView",
            "description_width": ""
          }
        },
        "adad29ac3200498c9ca6bf92863154b9": {
          "model_module": "@jupyter-widgets/base",
          "model_name": "LayoutModel",
          "model_module_version": "1.2.0",
          "state": {
            "_model_module": "@jupyter-widgets/base",
            "_model_module_version": "1.2.0",
            "_model_name": "LayoutModel",
            "_view_count": null,
            "_view_module": "@jupyter-widgets/base",
            "_view_module_version": "1.2.0",
            "_view_name": "LayoutView",
            "align_content": null,
            "align_items": null,
            "align_self": null,
            "border": null,
            "bottom": null,
            "display": null,
            "flex": null,
            "flex_flow": null,
            "grid_area": null,
            "grid_auto_columns": null,
            "grid_auto_flow": null,
            "grid_auto_rows": null,
            "grid_column": null,
            "grid_gap": null,
            "grid_row": null,
            "grid_template_areas": null,
            "grid_template_columns": null,
            "grid_template_rows": null,
            "height": null,
            "justify_content": null,
            "justify_items": null,
            "left": null,
            "margin": null,
            "max_height": null,
            "max_width": null,
            "min_height": null,
            "min_width": null,
            "object_fit": null,
            "object_position": null,
            "order": null,
            "overflow": null,
            "overflow_x": null,
            "overflow_y": null,
            "padding": null,
            "right": null,
            "top": null,
            "visibility": null,
            "width": null
          }
        },
        "05299bf260e343fa8507d45fb09fafb2": {
          "model_module": "@jupyter-widgets/controls",
          "model_name": "ProgressStyleModel",
          "model_module_version": "1.5.0",
          "state": {
            "_model_module": "@jupyter-widgets/controls",
            "_model_module_version": "1.5.0",
            "_model_name": "ProgressStyleModel",
            "_view_count": null,
            "_view_module": "@jupyter-widgets/base",
            "_view_module_version": "1.2.0",
            "_view_name": "StyleView",
            "bar_color": null,
            "description_width": ""
          }
        },
        "87c81f38758d4902a664bec2802ad9e7": {
          "model_module": "@jupyter-widgets/base",
          "model_name": "LayoutModel",
          "model_module_version": "1.2.0",
          "state": {
            "_model_module": "@jupyter-widgets/base",
            "_model_module_version": "1.2.0",
            "_model_name": "LayoutModel",
            "_view_count": null,
            "_view_module": "@jupyter-widgets/base",
            "_view_module_version": "1.2.0",
            "_view_name": "LayoutView",
            "align_content": null,
            "align_items": null,
            "align_self": null,
            "border": null,
            "bottom": null,
            "display": null,
            "flex": null,
            "flex_flow": null,
            "grid_area": null,
            "grid_auto_columns": null,
            "grid_auto_flow": null,
            "grid_auto_rows": null,
            "grid_column": null,
            "grid_gap": null,
            "grid_row": null,
            "grid_template_areas": null,
            "grid_template_columns": null,
            "grid_template_rows": null,
            "height": null,
            "justify_content": null,
            "justify_items": null,
            "left": null,
            "margin": null,
            "max_height": null,
            "max_width": null,
            "min_height": null,
            "min_width": null,
            "object_fit": null,
            "object_position": null,
            "order": null,
            "overflow": null,
            "overflow_x": null,
            "overflow_y": null,
            "padding": null,
            "right": null,
            "top": null,
            "visibility": null,
            "width": null
          }
        },
        "96bc07e284d143debf79e292b3d36427": {
          "model_module": "@jupyter-widgets/controls",
          "model_name": "DescriptionStyleModel",
          "model_module_version": "1.5.0",
          "state": {
            "_model_module": "@jupyter-widgets/controls",
            "_model_module_version": "1.5.0",
            "_model_name": "DescriptionStyleModel",
            "_view_count": null,
            "_view_module": "@jupyter-widgets/base",
            "_view_module_version": "1.2.0",
            "_view_name": "StyleView",
            "description_width": ""
          }
        },
        "f3ef114e51f54d5c92b1ef4a82618863": {
          "model_module": "@jupyter-widgets/controls",
          "model_name": "HBoxModel",
          "model_module_version": "1.5.0",
          "state": {
            "_dom_classes": [],
            "_model_module": "@jupyter-widgets/controls",
            "_model_module_version": "1.5.0",
            "_model_name": "HBoxModel",
            "_view_count": null,
            "_view_module": "@jupyter-widgets/controls",
            "_view_module_version": "1.5.0",
            "_view_name": "HBoxView",
            "box_style": "",
            "children": [
              "IPY_MODEL_daf13f6df62d4e67975f1c0c1b14e299",
              "IPY_MODEL_cd5901c3860d40fabeb2b5a99d9cdac2",
              "IPY_MODEL_6022899f85e14e6ba3c6c83a32373641"
            ],
            "layout": "IPY_MODEL_06f1042dc1ca41569f8106a2b3acfd44"
          }
        },
        "daf13f6df62d4e67975f1c0c1b14e299": {
          "model_module": "@jupyter-widgets/controls",
          "model_name": "HTMLModel",
          "model_module_version": "1.5.0",
          "state": {
            "_dom_classes": [],
            "_model_module": "@jupyter-widgets/controls",
            "_model_module_version": "1.5.0",
            "_model_name": "HTMLModel",
            "_view_count": null,
            "_view_module": "@jupyter-widgets/controls",
            "_view_module_version": "1.5.0",
            "_view_name": "HTMLView",
            "description": "",
            "description_tooltip": null,
            "layout": "IPY_MODEL_65095d27c8d04831b4de117c85db0d7b",
            "placeholder": "​",
            "style": "IPY_MODEL_ca6c0f7699ca413ead87e6a4911b4e2e",
            "value": "added_tokens.json: 100%"
          }
        },
        "cd5901c3860d40fabeb2b5a99d9cdac2": {
          "model_module": "@jupyter-widgets/controls",
          "model_name": "FloatProgressModel",
          "model_module_version": "1.5.0",
          "state": {
            "_dom_classes": [],
            "_model_module": "@jupyter-widgets/controls",
            "_model_module_version": "1.5.0",
            "_model_name": "FloatProgressModel",
            "_view_count": null,
            "_view_module": "@jupyter-widgets/controls",
            "_view_module_version": "1.5.0",
            "_view_name": "ProgressView",
            "bar_style": "success",
            "description": "",
            "description_tooltip": null,
            "layout": "IPY_MODEL_a4e61aa5357c488a9b60d2c0a361183a",
            "max": 307,
            "min": 0,
            "orientation": "horizontal",
            "style": "IPY_MODEL_4f6696dda75143b2b6992e6a964190e9",
            "value": 307
          }
        },
        "6022899f85e14e6ba3c6c83a32373641": {
          "model_module": "@jupyter-widgets/controls",
          "model_name": "HTMLModel",
          "model_module_version": "1.5.0",
          "state": {
            "_dom_classes": [],
            "_model_module": "@jupyter-widgets/controls",
            "_model_module_version": "1.5.0",
            "_model_name": "HTMLModel",
            "_view_count": null,
            "_view_module": "@jupyter-widgets/controls",
            "_view_module_version": "1.5.0",
            "_view_name": "HTMLView",
            "description": "",
            "description_tooltip": null,
            "layout": "IPY_MODEL_62ece4423074403a8bf171faf0cf4abb",
            "placeholder": "​",
            "style": "IPY_MODEL_a32da75953744102a36b20f53f24c5ef",
            "value": " 307/307 [00:00&lt;00:00, 1.31kB/s]"
          }
        },
        "06f1042dc1ca41569f8106a2b3acfd44": {
          "model_module": "@jupyter-widgets/base",
          "model_name": "LayoutModel",
          "model_module_version": "1.2.0",
          "state": {
            "_model_module": "@jupyter-widgets/base",
            "_model_module_version": "1.2.0",
            "_model_name": "LayoutModel",
            "_view_count": null,
            "_view_module": "@jupyter-widgets/base",
            "_view_module_version": "1.2.0",
            "_view_name": "LayoutView",
            "align_content": null,
            "align_items": null,
            "align_self": null,
            "border": null,
            "bottom": null,
            "display": null,
            "flex": null,
            "flex_flow": null,
            "grid_area": null,
            "grid_auto_columns": null,
            "grid_auto_flow": null,
            "grid_auto_rows": null,
            "grid_column": null,
            "grid_gap": null,
            "grid_row": null,
            "grid_template_areas": null,
            "grid_template_columns": null,
            "grid_template_rows": null,
            "height": null,
            "justify_content": null,
            "justify_items": null,
            "left": null,
            "margin": null,
            "max_height": null,
            "max_width": null,
            "min_height": null,
            "min_width": null,
            "object_fit": null,
            "object_position": null,
            "order": null,
            "overflow": null,
            "overflow_x": null,
            "overflow_y": null,
            "padding": null,
            "right": null,
            "top": null,
            "visibility": null,
            "width": null
          }
        },
        "65095d27c8d04831b4de117c85db0d7b": {
          "model_module": "@jupyter-widgets/base",
          "model_name": "LayoutModel",
          "model_module_version": "1.2.0",
          "state": {
            "_model_module": "@jupyter-widgets/base",
            "_model_module_version": "1.2.0",
            "_model_name": "LayoutModel",
            "_view_count": null,
            "_view_module": "@jupyter-widgets/base",
            "_view_module_version": "1.2.0",
            "_view_name": "LayoutView",
            "align_content": null,
            "align_items": null,
            "align_self": null,
            "border": null,
            "bottom": null,
            "display": null,
            "flex": null,
            "flex_flow": null,
            "grid_area": null,
            "grid_auto_columns": null,
            "grid_auto_flow": null,
            "grid_auto_rows": null,
            "grid_column": null,
            "grid_gap": null,
            "grid_row": null,
            "grid_template_areas": null,
            "grid_template_columns": null,
            "grid_template_rows": null,
            "height": null,
            "justify_content": null,
            "justify_items": null,
            "left": null,
            "margin": null,
            "max_height": null,
            "max_width": null,
            "min_height": null,
            "min_width": null,
            "object_fit": null,
            "object_position": null,
            "order": null,
            "overflow": null,
            "overflow_x": null,
            "overflow_y": null,
            "padding": null,
            "right": null,
            "top": null,
            "visibility": null,
            "width": null
          }
        },
        "ca6c0f7699ca413ead87e6a4911b4e2e": {
          "model_module": "@jupyter-widgets/controls",
          "model_name": "DescriptionStyleModel",
          "model_module_version": "1.5.0",
          "state": {
            "_model_module": "@jupyter-widgets/controls",
            "_model_module_version": "1.5.0",
            "_model_name": "DescriptionStyleModel",
            "_view_count": null,
            "_view_module": "@jupyter-widgets/base",
            "_view_module_version": "1.2.0",
            "_view_name": "StyleView",
            "description_width": ""
          }
        },
        "a4e61aa5357c488a9b60d2c0a361183a": {
          "model_module": "@jupyter-widgets/base",
          "model_name": "LayoutModel",
          "model_module_version": "1.2.0",
          "state": {
            "_model_module": "@jupyter-widgets/base",
            "_model_module_version": "1.2.0",
            "_model_name": "LayoutModel",
            "_view_count": null,
            "_view_module": "@jupyter-widgets/base",
            "_view_module_version": "1.2.0",
            "_view_name": "LayoutView",
            "align_content": null,
            "align_items": null,
            "align_self": null,
            "border": null,
            "bottom": null,
            "display": null,
            "flex": null,
            "flex_flow": null,
            "grid_area": null,
            "grid_auto_columns": null,
            "grid_auto_flow": null,
            "grid_auto_rows": null,
            "grid_column": null,
            "grid_gap": null,
            "grid_row": null,
            "grid_template_areas": null,
            "grid_template_columns": null,
            "grid_template_rows": null,
            "height": null,
            "justify_content": null,
            "justify_items": null,
            "left": null,
            "margin": null,
            "max_height": null,
            "max_width": null,
            "min_height": null,
            "min_width": null,
            "object_fit": null,
            "object_position": null,
            "order": null,
            "overflow": null,
            "overflow_x": null,
            "overflow_y": null,
            "padding": null,
            "right": null,
            "top": null,
            "visibility": null,
            "width": null
          }
        },
        "4f6696dda75143b2b6992e6a964190e9": {
          "model_module": "@jupyter-widgets/controls",
          "model_name": "ProgressStyleModel",
          "model_module_version": "1.5.0",
          "state": {
            "_model_module": "@jupyter-widgets/controls",
            "_model_module_version": "1.5.0",
            "_model_name": "ProgressStyleModel",
            "_view_count": null,
            "_view_module": "@jupyter-widgets/base",
            "_view_module_version": "1.2.0",
            "_view_name": "StyleView",
            "bar_color": null,
            "description_width": ""
          }
        },
        "62ece4423074403a8bf171faf0cf4abb": {
          "model_module": "@jupyter-widgets/base",
          "model_name": "LayoutModel",
          "model_module_version": "1.2.0",
          "state": {
            "_model_module": "@jupyter-widgets/base",
            "_model_module_version": "1.2.0",
            "_model_name": "LayoutModel",
            "_view_count": null,
            "_view_module": "@jupyter-widgets/base",
            "_view_module_version": "1.2.0",
            "_view_name": "LayoutView",
            "align_content": null,
            "align_items": null,
            "align_self": null,
            "border": null,
            "bottom": null,
            "display": null,
            "flex": null,
            "flex_flow": null,
            "grid_area": null,
            "grid_auto_columns": null,
            "grid_auto_flow": null,
            "grid_auto_rows": null,
            "grid_column": null,
            "grid_gap": null,
            "grid_row": null,
            "grid_template_areas": null,
            "grid_template_columns": null,
            "grid_template_rows": null,
            "height": null,
            "justify_content": null,
            "justify_items": null,
            "left": null,
            "margin": null,
            "max_height": null,
            "max_width": null,
            "min_height": null,
            "min_width": null,
            "object_fit": null,
            "object_position": null,
            "order": null,
            "overflow": null,
            "overflow_x": null,
            "overflow_y": null,
            "padding": null,
            "right": null,
            "top": null,
            "visibility": null,
            "width": null
          }
        },
        "a32da75953744102a36b20f53f24c5ef": {
          "model_module": "@jupyter-widgets/controls",
          "model_name": "DescriptionStyleModel",
          "model_module_version": "1.5.0",
          "state": {
            "_model_module": "@jupyter-widgets/controls",
            "_model_module_version": "1.5.0",
            "_model_name": "DescriptionStyleModel",
            "_view_count": null,
            "_view_module": "@jupyter-widgets/base",
            "_view_module_version": "1.2.0",
            "_view_name": "StyleView",
            "description_width": ""
          }
        },
        "f445f92e79ec4a85a6ac332567c2fc6d": {
          "model_module": "@jupyter-widgets/controls",
          "model_name": "HBoxModel",
          "model_module_version": "1.5.0",
          "state": {
            "_dom_classes": [],
            "_model_module": "@jupyter-widgets/controls",
            "_model_module_version": "1.5.0",
            "_model_name": "HBoxModel",
            "_view_count": null,
            "_view_module": "@jupyter-widgets/controls",
            "_view_module_version": "1.5.0",
            "_view_name": "HBoxView",
            "box_style": "",
            "children": [
              "IPY_MODEL_de6c7f4f164f4d8a99d07a117e41b65e",
              "IPY_MODEL_81ea9f0825bd4fb9b03f2722ca8be1b7",
              "IPY_MODEL_2aca58c60cc34779a6713a42eb37ad31"
            ],
            "layout": "IPY_MODEL_e059edffa8e347098f29eb3b708614dd"
          }
        },
        "de6c7f4f164f4d8a99d07a117e41b65e": {
          "model_module": "@jupyter-widgets/controls",
          "model_name": "HTMLModel",
          "model_module_version": "1.5.0",
          "state": {
            "_dom_classes": [],
            "_model_module": "@jupyter-widgets/controls",
            "_model_module_version": "1.5.0",
            "_model_name": "HTMLModel",
            "_view_count": null,
            "_view_module": "@jupyter-widgets/controls",
            "_view_module_version": "1.5.0",
            "_view_name": "HTMLView",
            "description": "",
            "description_tooltip": null,
            "layout": "IPY_MODEL_f3c4cadaa84c4b48b8991a122d53cc9d",
            "placeholder": "​",
            "style": "IPY_MODEL_7d59577b54b14c6fb716eb1c23f070de",
            "value": "special_tokens_map.json: 100%"
          }
        },
        "81ea9f0825bd4fb9b03f2722ca8be1b7": {
          "model_module": "@jupyter-widgets/controls",
          "model_name": "FloatProgressModel",
          "model_module_version": "1.5.0",
          "state": {
            "_dom_classes": [],
            "_model_module": "@jupyter-widgets/controls",
            "_model_module_version": "1.5.0",
            "_model_name": "FloatProgressModel",
            "_view_count": null,
            "_view_module": "@jupyter-widgets/controls",
            "_view_module_version": "1.5.0",
            "_view_name": "ProgressView",
            "bar_style": "success",
            "description": "",
            "description_tooltip": null,
            "layout": "IPY_MODEL_4d3a47215fd94bd29ca0c4eb74a3ff0a",
            "max": 829,
            "min": 0,
            "orientation": "horizontal",
            "style": "IPY_MODEL_13820d25e113445fb6f086cdf3ec4ce7",
            "value": 829
          }
        },
        "2aca58c60cc34779a6713a42eb37ad31": {
          "model_module": "@jupyter-widgets/controls",
          "model_name": "HTMLModel",
          "model_module_version": "1.5.0",
          "state": {
            "_dom_classes": [],
            "_model_module": "@jupyter-widgets/controls",
            "_model_module_version": "1.5.0",
            "_model_name": "HTMLModel",
            "_view_count": null,
            "_view_module": "@jupyter-widgets/controls",
            "_view_module_version": "1.5.0",
            "_view_name": "HTMLView",
            "description": "",
            "description_tooltip": null,
            "layout": "IPY_MODEL_4d5a3637a7e64616af98b5deacb9eb61",
            "placeholder": "​",
            "style": "IPY_MODEL_1e066bd3aeef461199fcadcb432448a7",
            "value": " 829/829 [00:00&lt;00:00, 5.26kB/s]"
          }
        },
        "e059edffa8e347098f29eb3b708614dd": {
          "model_module": "@jupyter-widgets/base",
          "model_name": "LayoutModel",
          "model_module_version": "1.2.0",
          "state": {
            "_model_module": "@jupyter-widgets/base",
            "_model_module_version": "1.2.0",
            "_model_name": "LayoutModel",
            "_view_count": null,
            "_view_module": "@jupyter-widgets/base",
            "_view_module_version": "1.2.0",
            "_view_name": "LayoutView",
            "align_content": null,
            "align_items": null,
            "align_self": null,
            "border": null,
            "bottom": null,
            "display": null,
            "flex": null,
            "flex_flow": null,
            "grid_area": null,
            "grid_auto_columns": null,
            "grid_auto_flow": null,
            "grid_auto_rows": null,
            "grid_column": null,
            "grid_gap": null,
            "grid_row": null,
            "grid_template_areas": null,
            "grid_template_columns": null,
            "grid_template_rows": null,
            "height": null,
            "justify_content": null,
            "justify_items": null,
            "left": null,
            "margin": null,
            "max_height": null,
            "max_width": null,
            "min_height": null,
            "min_width": null,
            "object_fit": null,
            "object_position": null,
            "order": null,
            "overflow": null,
            "overflow_x": null,
            "overflow_y": null,
            "padding": null,
            "right": null,
            "top": null,
            "visibility": null,
            "width": null
          }
        },
        "f3c4cadaa84c4b48b8991a122d53cc9d": {
          "model_module": "@jupyter-widgets/base",
          "model_name": "LayoutModel",
          "model_module_version": "1.2.0",
          "state": {
            "_model_module": "@jupyter-widgets/base",
            "_model_module_version": "1.2.0",
            "_model_name": "LayoutModel",
            "_view_count": null,
            "_view_module": "@jupyter-widgets/base",
            "_view_module_version": "1.2.0",
            "_view_name": "LayoutView",
            "align_content": null,
            "align_items": null,
            "align_self": null,
            "border": null,
            "bottom": null,
            "display": null,
            "flex": null,
            "flex_flow": null,
            "grid_area": null,
            "grid_auto_columns": null,
            "grid_auto_flow": null,
            "grid_auto_rows": null,
            "grid_column": null,
            "grid_gap": null,
            "grid_row": null,
            "grid_template_areas": null,
            "grid_template_columns": null,
            "grid_template_rows": null,
            "height": null,
            "justify_content": null,
            "justify_items": null,
            "left": null,
            "margin": null,
            "max_height": null,
            "max_width": null,
            "min_height": null,
            "min_width": null,
            "object_fit": null,
            "object_position": null,
            "order": null,
            "overflow": null,
            "overflow_x": null,
            "overflow_y": null,
            "padding": null,
            "right": null,
            "top": null,
            "visibility": null,
            "width": null
          }
        },
        "7d59577b54b14c6fb716eb1c23f070de": {
          "model_module": "@jupyter-widgets/controls",
          "model_name": "DescriptionStyleModel",
          "model_module_version": "1.5.0",
          "state": {
            "_model_module": "@jupyter-widgets/controls",
            "_model_module_version": "1.5.0",
            "_model_name": "DescriptionStyleModel",
            "_view_count": null,
            "_view_module": "@jupyter-widgets/base",
            "_view_module_version": "1.2.0",
            "_view_name": "StyleView",
            "description_width": ""
          }
        },
        "4d3a47215fd94bd29ca0c4eb74a3ff0a": {
          "model_module": "@jupyter-widgets/base",
          "model_name": "LayoutModel",
          "model_module_version": "1.2.0",
          "state": {
            "_model_module": "@jupyter-widgets/base",
            "_model_module_version": "1.2.0",
            "_model_name": "LayoutModel",
            "_view_count": null,
            "_view_module": "@jupyter-widgets/base",
            "_view_module_version": "1.2.0",
            "_view_name": "LayoutView",
            "align_content": null,
            "align_items": null,
            "align_self": null,
            "border": null,
            "bottom": null,
            "display": null,
            "flex": null,
            "flex_flow": null,
            "grid_area": null,
            "grid_auto_columns": null,
            "grid_auto_flow": null,
            "grid_auto_rows": null,
            "grid_column": null,
            "grid_gap": null,
            "grid_row": null,
            "grid_template_areas": null,
            "grid_template_columns": null,
            "grid_template_rows": null,
            "height": null,
            "justify_content": null,
            "justify_items": null,
            "left": null,
            "margin": null,
            "max_height": null,
            "max_width": null,
            "min_height": null,
            "min_width": null,
            "object_fit": null,
            "object_position": null,
            "order": null,
            "overflow": null,
            "overflow_x": null,
            "overflow_y": null,
            "padding": null,
            "right": null,
            "top": null,
            "visibility": null,
            "width": null
          }
        },
        "13820d25e113445fb6f086cdf3ec4ce7": {
          "model_module": "@jupyter-widgets/controls",
          "model_name": "ProgressStyleModel",
          "model_module_version": "1.5.0",
          "state": {
            "_model_module": "@jupyter-widgets/controls",
            "_model_module_version": "1.5.0",
            "_model_name": "ProgressStyleModel",
            "_view_count": null,
            "_view_module": "@jupyter-widgets/base",
            "_view_module_version": "1.2.0",
            "_view_name": "StyleView",
            "bar_color": null,
            "description_width": ""
          }
        },
        "4d5a3637a7e64616af98b5deacb9eb61": {
          "model_module": "@jupyter-widgets/base",
          "model_name": "LayoutModel",
          "model_module_version": "1.2.0",
          "state": {
            "_model_module": "@jupyter-widgets/base",
            "_model_module_version": "1.2.0",
            "_model_name": "LayoutModel",
            "_view_count": null,
            "_view_module": "@jupyter-widgets/base",
            "_view_module_version": "1.2.0",
            "_view_name": "LayoutView",
            "align_content": null,
            "align_items": null,
            "align_self": null,
            "border": null,
            "bottom": null,
            "display": null,
            "flex": null,
            "flex_flow": null,
            "grid_area": null,
            "grid_auto_columns": null,
            "grid_auto_flow": null,
            "grid_auto_rows": null,
            "grid_column": null,
            "grid_gap": null,
            "grid_row": null,
            "grid_template_areas": null,
            "grid_template_columns": null,
            "grid_template_rows": null,
            "height": null,
            "justify_content": null,
            "justify_items": null,
            "left": null,
            "margin": null,
            "max_height": null,
            "max_width": null,
            "min_height": null,
            "min_width": null,
            "object_fit": null,
            "object_position": null,
            "order": null,
            "overflow": null,
            "overflow_x": null,
            "overflow_y": null,
            "padding": null,
            "right": null,
            "top": null,
            "visibility": null,
            "width": null
          }
        },
        "1e066bd3aeef461199fcadcb432448a7": {
          "model_module": "@jupyter-widgets/controls",
          "model_name": "DescriptionStyleModel",
          "model_module_version": "1.5.0",
          "state": {
            "_model_module": "@jupyter-widgets/controls",
            "_model_module_version": "1.5.0",
            "_model_name": "DescriptionStyleModel",
            "_view_count": null,
            "_view_module": "@jupyter-widgets/base",
            "_view_module_version": "1.2.0",
            "_view_name": "StyleView",
            "description_width": ""
          }
        },
        "be97bf81ab744c04989c40e377691182": {
          "model_module": "@jupyter-widgets/controls",
          "model_name": "HBoxModel",
          "model_module_version": "1.5.0",
          "state": {
            "_dom_classes": [],
            "_model_module": "@jupyter-widgets/controls",
            "_model_module_version": "1.5.0",
            "_model_name": "HBoxModel",
            "_view_count": null,
            "_view_module": "@jupyter-widgets/controls",
            "_view_module_version": "1.5.0",
            "_view_name": "HBoxView",
            "box_style": "",
            "children": [
              "IPY_MODEL_25d9fd6b0d884b19ac9fb924e440a53c",
              "IPY_MODEL_00a98fe4d9f7409299635d833c36d522",
              "IPY_MODEL_62789266f8a74e9b818ebaa9203ceb67"
            ],
            "layout": "IPY_MODEL_19ab6ebcf78340dda1c6dcff65668d28"
          }
        },
        "25d9fd6b0d884b19ac9fb924e440a53c": {
          "model_module": "@jupyter-widgets/controls",
          "model_name": "HTMLModel",
          "model_module_version": "1.5.0",
          "state": {
            "_dom_classes": [],
            "_model_module": "@jupyter-widgets/controls",
            "_model_module_version": "1.5.0",
            "_model_name": "HTMLModel",
            "_view_count": null,
            "_view_module": "@jupyter-widgets/controls",
            "_view_module_version": "1.5.0",
            "_view_name": "HTMLView",
            "description": "",
            "description_tooltip": null,
            "layout": "IPY_MODEL_523f008f12e84fed8b97a01d2eddf102",
            "placeholder": "​",
            "style": "IPY_MODEL_de13243eef04476aa1e97803b0304fd9",
            "value": "config.json: 100%"
          }
        },
        "00a98fe4d9f7409299635d833c36d522": {
          "model_module": "@jupyter-widgets/controls",
          "model_name": "FloatProgressModel",
          "model_module_version": "1.5.0",
          "state": {
            "_dom_classes": [],
            "_model_module": "@jupyter-widgets/controls",
            "_model_module_version": "1.5.0",
            "_model_name": "FloatProgressModel",
            "_view_count": null,
            "_view_module": "@jupyter-widgets/controls",
            "_view_module_version": "1.5.0",
            "_view_name": "ProgressView",
            "bar_style": "success",
            "description": "",
            "description_tooltip": null,
            "layout": "IPY_MODEL_bee1fa14680240a484dacdac9abf12e6",
            "max": 1422,
            "min": 0,
            "orientation": "horizontal",
            "style": "IPY_MODEL_3027a43ec27546ba8bb4d9d8edee8d61",
            "value": 1422
          }
        },
        "62789266f8a74e9b818ebaa9203ceb67": {
          "model_module": "@jupyter-widgets/controls",
          "model_name": "HTMLModel",
          "model_module_version": "1.5.0",
          "state": {
            "_dom_classes": [],
            "_model_module": "@jupyter-widgets/controls",
            "_model_module_version": "1.5.0",
            "_model_name": "HTMLModel",
            "_view_count": null,
            "_view_module": "@jupyter-widgets/controls",
            "_view_module_version": "1.5.0",
            "_view_name": "HTMLView",
            "description": "",
            "description_tooltip": null,
            "layout": "IPY_MODEL_b693b815424c48d4b599d37286f0cb2b",
            "placeholder": "​",
            "style": "IPY_MODEL_b890e321df63423c81ee474900f08c61",
            "value": " 1.42k/1.42k [00:00&lt;00:00, 9.50kB/s]"
          }
        },
        "19ab6ebcf78340dda1c6dcff65668d28": {
          "model_module": "@jupyter-widgets/base",
          "model_name": "LayoutModel",
          "model_module_version": "1.2.0",
          "state": {
            "_model_module": "@jupyter-widgets/base",
            "_model_module_version": "1.2.0",
            "_model_name": "LayoutModel",
            "_view_count": null,
            "_view_module": "@jupyter-widgets/base",
            "_view_module_version": "1.2.0",
            "_view_name": "LayoutView",
            "align_content": null,
            "align_items": null,
            "align_self": null,
            "border": null,
            "bottom": null,
            "display": null,
            "flex": null,
            "flex_flow": null,
            "grid_area": null,
            "grid_auto_columns": null,
            "grid_auto_flow": null,
            "grid_auto_rows": null,
            "grid_column": null,
            "grid_gap": null,
            "grid_row": null,
            "grid_template_areas": null,
            "grid_template_columns": null,
            "grid_template_rows": null,
            "height": null,
            "justify_content": null,
            "justify_items": null,
            "left": null,
            "margin": null,
            "max_height": null,
            "max_width": null,
            "min_height": null,
            "min_width": null,
            "object_fit": null,
            "object_position": null,
            "order": null,
            "overflow": null,
            "overflow_x": null,
            "overflow_y": null,
            "padding": null,
            "right": null,
            "top": null,
            "visibility": null,
            "width": null
          }
        },
        "523f008f12e84fed8b97a01d2eddf102": {
          "model_module": "@jupyter-widgets/base",
          "model_name": "LayoutModel",
          "model_module_version": "1.2.0",
          "state": {
            "_model_module": "@jupyter-widgets/base",
            "_model_module_version": "1.2.0",
            "_model_name": "LayoutModel",
            "_view_count": null,
            "_view_module": "@jupyter-widgets/base",
            "_view_module_version": "1.2.0",
            "_view_name": "LayoutView",
            "align_content": null,
            "align_items": null,
            "align_self": null,
            "border": null,
            "bottom": null,
            "display": null,
            "flex": null,
            "flex_flow": null,
            "grid_area": null,
            "grid_auto_columns": null,
            "grid_auto_flow": null,
            "grid_auto_rows": null,
            "grid_column": null,
            "grid_gap": null,
            "grid_row": null,
            "grid_template_areas": null,
            "grid_template_columns": null,
            "grid_template_rows": null,
            "height": null,
            "justify_content": null,
            "justify_items": null,
            "left": null,
            "margin": null,
            "max_height": null,
            "max_width": null,
            "min_height": null,
            "min_width": null,
            "object_fit": null,
            "object_position": null,
            "order": null,
            "overflow": null,
            "overflow_x": null,
            "overflow_y": null,
            "padding": null,
            "right": null,
            "top": null,
            "visibility": null,
            "width": null
          }
        },
        "de13243eef04476aa1e97803b0304fd9": {
          "model_module": "@jupyter-widgets/controls",
          "model_name": "DescriptionStyleModel",
          "model_module_version": "1.5.0",
          "state": {
            "_model_module": "@jupyter-widgets/controls",
            "_model_module_version": "1.5.0",
            "_model_name": "DescriptionStyleModel",
            "_view_count": null,
            "_view_module": "@jupyter-widgets/base",
            "_view_module_version": "1.2.0",
            "_view_name": "StyleView",
            "description_width": ""
          }
        },
        "bee1fa14680240a484dacdac9abf12e6": {
          "model_module": "@jupyter-widgets/base",
          "model_name": "LayoutModel",
          "model_module_version": "1.2.0",
          "state": {
            "_model_module": "@jupyter-widgets/base",
            "_model_module_version": "1.2.0",
            "_model_name": "LayoutModel",
            "_view_count": null,
            "_view_module": "@jupyter-widgets/base",
            "_view_module_version": "1.2.0",
            "_view_name": "LayoutView",
            "align_content": null,
            "align_items": null,
            "align_self": null,
            "border": null,
            "bottom": null,
            "display": null,
            "flex": null,
            "flex_flow": null,
            "grid_area": null,
            "grid_auto_columns": null,
            "grid_auto_flow": null,
            "grid_auto_rows": null,
            "grid_column": null,
            "grid_gap": null,
            "grid_row": null,
            "grid_template_areas": null,
            "grid_template_columns": null,
            "grid_template_rows": null,
            "height": null,
            "justify_content": null,
            "justify_items": null,
            "left": null,
            "margin": null,
            "max_height": null,
            "max_width": null,
            "min_height": null,
            "min_width": null,
            "object_fit": null,
            "object_position": null,
            "order": null,
            "overflow": null,
            "overflow_x": null,
            "overflow_y": null,
            "padding": null,
            "right": null,
            "top": null,
            "visibility": null,
            "width": null
          }
        },
        "3027a43ec27546ba8bb4d9d8edee8d61": {
          "model_module": "@jupyter-widgets/controls",
          "model_name": "ProgressStyleModel",
          "model_module_version": "1.5.0",
          "state": {
            "_model_module": "@jupyter-widgets/controls",
            "_model_module_version": "1.5.0",
            "_model_name": "ProgressStyleModel",
            "_view_count": null,
            "_view_module": "@jupyter-widgets/base",
            "_view_module_version": "1.2.0",
            "_view_name": "StyleView",
            "bar_color": null,
            "description_width": ""
          }
        },
        "b693b815424c48d4b599d37286f0cb2b": {
          "model_module": "@jupyter-widgets/base",
          "model_name": "LayoutModel",
          "model_module_version": "1.2.0",
          "state": {
            "_model_module": "@jupyter-widgets/base",
            "_model_module_version": "1.2.0",
            "_model_name": "LayoutModel",
            "_view_count": null,
            "_view_module": "@jupyter-widgets/base",
            "_view_module_version": "1.2.0",
            "_view_name": "LayoutView",
            "align_content": null,
            "align_items": null,
            "align_self": null,
            "border": null,
            "bottom": null,
            "display": null,
            "flex": null,
            "flex_flow": null,
            "grid_area": null,
            "grid_auto_columns": null,
            "grid_auto_flow": null,
            "grid_auto_rows": null,
            "grid_column": null,
            "grid_gap": null,
            "grid_row": null,
            "grid_template_areas": null,
            "grid_template_columns": null,
            "grid_template_rows": null,
            "height": null,
            "justify_content": null,
            "justify_items": null,
            "left": null,
            "margin": null,
            "max_height": null,
            "max_width": null,
            "min_height": null,
            "min_width": null,
            "object_fit": null,
            "object_position": null,
            "order": null,
            "overflow": null,
            "overflow_x": null,
            "overflow_y": null,
            "padding": null,
            "right": null,
            "top": null,
            "visibility": null,
            "width": null
          }
        },
        "b890e321df63423c81ee474900f08c61": {
          "model_module": "@jupyter-widgets/controls",
          "model_name": "DescriptionStyleModel",
          "model_module_version": "1.5.0",
          "state": {
            "_model_module": "@jupyter-widgets/controls",
            "_model_module_version": "1.5.0",
            "_model_name": "DescriptionStyleModel",
            "_view_count": null,
            "_view_module": "@jupyter-widgets/base",
            "_view_module_version": "1.2.0",
            "_view_name": "StyleView",
            "description_width": ""
          }
        },
        "596d0ed56cb047c0beaeecb25656b6df": {
          "model_module": "@jupyter-widgets/controls",
          "model_name": "HBoxModel",
          "model_module_version": "1.5.0",
          "state": {
            "_dom_classes": [],
            "_model_module": "@jupyter-widgets/controls",
            "_model_module_version": "1.5.0",
            "_model_name": "HBoxModel",
            "_view_count": null,
            "_view_module": "@jupyter-widgets/controls",
            "_view_module_version": "1.5.0",
            "_view_name": "HBoxView",
            "box_style": "",
            "children": [
              "IPY_MODEL_48bb3566a27c4739b087eb5a003b67e3",
              "IPY_MODEL_ed5422a369084a27abfb3fd2e5d064df",
              "IPY_MODEL_37db055f5bf945b681c45d0c39705539"
            ],
            "layout": "IPY_MODEL_5aa6d40f4d424d82b35a9963b1262e23"
          }
        },
        "48bb3566a27c4739b087eb5a003b67e3": {
          "model_module": "@jupyter-widgets/controls",
          "model_name": "HTMLModel",
          "model_module_version": "1.5.0",
          "state": {
            "_dom_classes": [],
            "_model_module": "@jupyter-widgets/controls",
            "_model_module_version": "1.5.0",
            "_model_name": "HTMLModel",
            "_view_count": null,
            "_view_module": "@jupyter-widgets/controls",
            "_view_module_version": "1.5.0",
            "_view_name": "HTMLView",
            "description": "",
            "description_tooltip": null,
            "layout": "IPY_MODEL_eb2ba6aa647f41ecbd36cc2a262ffd74",
            "placeholder": "​",
            "style": "IPY_MODEL_728d5f851ccc406dbd3a7997323d0dae",
            "value": "model.safetensors: 100%"
          }
        },
        "ed5422a369084a27abfb3fd2e5d064df": {
          "model_module": "@jupyter-widgets/controls",
          "model_name": "FloatProgressModel",
          "model_module_version": "1.5.0",
          "state": {
            "_dom_classes": [],
            "_model_module": "@jupyter-widgets/controls",
            "_model_module_version": "1.5.0",
            "_model_name": "FloatProgressModel",
            "_view_count": null,
            "_view_module": "@jupyter-widgets/controls",
            "_view_module_version": "1.5.0",
            "_view_name": "ProgressView",
            "bar_style": "success",
            "description": "",
            "description_tooltip": null,
            "layout": "IPY_MODEL_1e178040212d4c94a89aa5a5788775a8",
            "max": 2444648388,
            "min": 0,
            "orientation": "horizontal",
            "style": "IPY_MODEL_debc1a94f8e14a168cf42fafe0a52cd8",
            "value": 2444648388
          }
        },
        "37db055f5bf945b681c45d0c39705539": {
          "model_module": "@jupyter-widgets/controls",
          "model_name": "HTMLModel",
          "model_module_version": "1.5.0",
          "state": {
            "_dom_classes": [],
            "_model_module": "@jupyter-widgets/controls",
            "_model_module_version": "1.5.0",
            "_model_name": "HTMLModel",
            "_view_count": null,
            "_view_module": "@jupyter-widgets/controls",
            "_view_module_version": "1.5.0",
            "_view_name": "HTMLView",
            "description": "",
            "description_tooltip": null,
            "layout": "IPY_MODEL_97bb15c1c0744731955e74e5ebca7dca",
            "placeholder": "​",
            "style": "IPY_MODEL_ad2ede38043741c0852db3de31ae560e",
            "value": " 2.44G/2.44G [01:12&lt;00:00, 37.0MB/s]"
          }
        },
        "5aa6d40f4d424d82b35a9963b1262e23": {
          "model_module": "@jupyter-widgets/base",
          "model_name": "LayoutModel",
          "model_module_version": "1.2.0",
          "state": {
            "_model_module": "@jupyter-widgets/base",
            "_model_module_version": "1.2.0",
            "_model_name": "LayoutModel",
            "_view_count": null,
            "_view_module": "@jupyter-widgets/base",
            "_view_module_version": "1.2.0",
            "_view_name": "LayoutView",
            "align_content": null,
            "align_items": null,
            "align_self": null,
            "border": null,
            "bottom": null,
            "display": null,
            "flex": null,
            "flex_flow": null,
            "grid_area": null,
            "grid_auto_columns": null,
            "grid_auto_flow": null,
            "grid_auto_rows": null,
            "grid_column": null,
            "grid_gap": null,
            "grid_row": null,
            "grid_template_areas": null,
            "grid_template_columns": null,
            "grid_template_rows": null,
            "height": null,
            "justify_content": null,
            "justify_items": null,
            "left": null,
            "margin": null,
            "max_height": null,
            "max_width": null,
            "min_height": null,
            "min_width": null,
            "object_fit": null,
            "object_position": null,
            "order": null,
            "overflow": null,
            "overflow_x": null,
            "overflow_y": null,
            "padding": null,
            "right": null,
            "top": null,
            "visibility": null,
            "width": null
          }
        },
        "eb2ba6aa647f41ecbd36cc2a262ffd74": {
          "model_module": "@jupyter-widgets/base",
          "model_name": "LayoutModel",
          "model_module_version": "1.2.0",
          "state": {
            "_model_module": "@jupyter-widgets/base",
            "_model_module_version": "1.2.0",
            "_model_name": "LayoutModel",
            "_view_count": null,
            "_view_module": "@jupyter-widgets/base",
            "_view_module_version": "1.2.0",
            "_view_name": "LayoutView",
            "align_content": null,
            "align_items": null,
            "align_self": null,
            "border": null,
            "bottom": null,
            "display": null,
            "flex": null,
            "flex_flow": null,
            "grid_area": null,
            "grid_auto_columns": null,
            "grid_auto_flow": null,
            "grid_auto_rows": null,
            "grid_column": null,
            "grid_gap": null,
            "grid_row": null,
            "grid_template_areas": null,
            "grid_template_columns": null,
            "grid_template_rows": null,
            "height": null,
            "justify_content": null,
            "justify_items": null,
            "left": null,
            "margin": null,
            "max_height": null,
            "max_width": null,
            "min_height": null,
            "min_width": null,
            "object_fit": null,
            "object_position": null,
            "order": null,
            "overflow": null,
            "overflow_x": null,
            "overflow_y": null,
            "padding": null,
            "right": null,
            "top": null,
            "visibility": null,
            "width": null
          }
        },
        "728d5f851ccc406dbd3a7997323d0dae": {
          "model_module": "@jupyter-widgets/controls",
          "model_name": "DescriptionStyleModel",
          "model_module_version": "1.5.0",
          "state": {
            "_model_module": "@jupyter-widgets/controls",
            "_model_module_version": "1.5.0",
            "_model_name": "DescriptionStyleModel",
            "_view_count": null,
            "_view_module": "@jupyter-widgets/base",
            "_view_module_version": "1.2.0",
            "_view_name": "StyleView",
            "description_width": ""
          }
        },
        "1e178040212d4c94a89aa5a5788775a8": {
          "model_module": "@jupyter-widgets/base",
          "model_name": "LayoutModel",
          "model_module_version": "1.2.0",
          "state": {
            "_model_module": "@jupyter-widgets/base",
            "_model_module_version": "1.2.0",
            "_model_name": "LayoutModel",
            "_view_count": null,
            "_view_module": "@jupyter-widgets/base",
            "_view_module_version": "1.2.0",
            "_view_name": "LayoutView",
            "align_content": null,
            "align_items": null,
            "align_self": null,
            "border": null,
            "bottom": null,
            "display": null,
            "flex": null,
            "flex_flow": null,
            "grid_area": null,
            "grid_auto_columns": null,
            "grid_auto_flow": null,
            "grid_auto_rows": null,
            "grid_column": null,
            "grid_gap": null,
            "grid_row": null,
            "grid_template_areas": null,
            "grid_template_columns": null,
            "grid_template_rows": null,
            "height": null,
            "justify_content": null,
            "justify_items": null,
            "left": null,
            "margin": null,
            "max_height": null,
            "max_width": null,
            "min_height": null,
            "min_width": null,
            "object_fit": null,
            "object_position": null,
            "order": null,
            "overflow": null,
            "overflow_x": null,
            "overflow_y": null,
            "padding": null,
            "right": null,
            "top": null,
            "visibility": null,
            "width": null
          }
        },
        "debc1a94f8e14a168cf42fafe0a52cd8": {
          "model_module": "@jupyter-widgets/controls",
          "model_name": "ProgressStyleModel",
          "model_module_version": "1.5.0",
          "state": {
            "_model_module": "@jupyter-widgets/controls",
            "_model_module_version": "1.5.0",
            "_model_name": "ProgressStyleModel",
            "_view_count": null,
            "_view_module": "@jupyter-widgets/base",
            "_view_module_version": "1.2.0",
            "_view_name": "StyleView",
            "bar_color": null,
            "description_width": ""
          }
        },
        "97bb15c1c0744731955e74e5ebca7dca": {
          "model_module": "@jupyter-widgets/base",
          "model_name": "LayoutModel",
          "model_module_version": "1.2.0",
          "state": {
            "_model_module": "@jupyter-widgets/base",
            "_model_module_version": "1.2.0",
            "_model_name": "LayoutModel",
            "_view_count": null,
            "_view_module": "@jupyter-widgets/base",
            "_view_module_version": "1.2.0",
            "_view_name": "LayoutView",
            "align_content": null,
            "align_items": null,
            "align_self": null,
            "border": null,
            "bottom": null,
            "display": null,
            "flex": null,
            "flex_flow": null,
            "grid_area": null,
            "grid_auto_columns": null,
            "grid_auto_flow": null,
            "grid_auto_rows": null,
            "grid_column": null,
            "grid_gap": null,
            "grid_row": null,
            "grid_template_areas": null,
            "grid_template_columns": null,
            "grid_template_rows": null,
            "height": null,
            "justify_content": null,
            "justify_items": null,
            "left": null,
            "margin": null,
            "max_height": null,
            "max_width": null,
            "min_height": null,
            "min_width": null,
            "object_fit": null,
            "object_position": null,
            "order": null,
            "overflow": null,
            "overflow_x": null,
            "overflow_y": null,
            "padding": null,
            "right": null,
            "top": null,
            "visibility": null,
            "width": null
          }
        },
        "ad2ede38043741c0852db3de31ae560e": {
          "model_module": "@jupyter-widgets/controls",
          "model_name": "DescriptionStyleModel",
          "model_module_version": "1.5.0",
          "state": {
            "_model_module": "@jupyter-widgets/controls",
            "_model_module_version": "1.5.0",
            "_model_name": "DescriptionStyleModel",
            "_view_count": null,
            "_view_module": "@jupyter-widgets/base",
            "_view_module_version": "1.2.0",
            "_view_name": "StyleView",
            "description_width": ""
          }
        }
      }
    }
  },
  "cells": [
    {
      "cell_type": "markdown",
      "metadata": {
        "id": "view-in-github",
        "colab_type": "text"
      },
      "source": [
        "<a href=\"https://colab.research.google.com/github/lucia1299/DBMS_InvestigativeJournalism/blob/main/API_processing_nolabel.ipynb\" target=\"_parent\"><img src=\"https://colab.research.google.com/assets/colab-badge.svg\" alt=\"Open In Colab\"/></a>"
      ]
    },
    {
      "cell_type": "code",
      "source": [
        "from google.colab import drive\n",
        "drive.mount('/content/drive')\n"
      ],
      "metadata": {
        "id": "gxnioDri604E",
        "colab": {
          "base_uri": "https://localhost:8080/"
        },
        "outputId": "ca4a7b6d-aa6d-4145-d62f-1d28c699eecc"
      },
      "execution_count": null,
      "outputs": [
        {
          "output_type": "stream",
          "name": "stdout",
          "text": [
            "Mounted at /content/drive\n"
          ]
        }
      ]
    },
    {
      "cell_type": "code",
      "source": [
        "!pip install requests"
      ],
      "metadata": {
        "colab": {
          "base_uri": "https://localhost:8080/"
        },
        "id": "mM-Xpxf66zPv",
        "outputId": "a9b3eaed-470f-4e31-bbfe-401eec5c22b4"
      },
      "execution_count": null,
      "outputs": [
        {
          "output_type": "stream",
          "name": "stdout",
          "text": [
            "Requirement already satisfied: requests in /usr/local/lib/python3.10/dist-packages (2.32.3)\n",
            "Requirement already satisfied: charset-normalizer<4,>=2 in /usr/local/lib/python3.10/dist-packages (from requests) (3.3.2)\n",
            "Requirement already satisfied: idna<4,>=2.5 in /usr/local/lib/python3.10/dist-packages (from requests) (3.10)\n",
            "Requirement already satisfied: urllib3<3,>=1.21.1 in /usr/local/lib/python3.10/dist-packages (from requests) (2.0.7)\n",
            "Requirement already satisfied: certifi>=2017.4.17 in /usr/local/lib/python3.10/dist-packages (from requests) (2024.8.30)\n"
          ]
        }
      ]
    },
    {
      "cell_type": "markdown",
      "source": [
        "# EXPERIMENT API to get the prefix easily\n",
        "\n",
        "\n",
        "\n"
      ],
      "metadata": {
        "id": "DywMmxB459JF"
      }
    },
    {
      "cell_type": "code",
      "source": [
        "import requests\n",
        "\n",
        "def fetch_data(query):\n",
        "    # Define the URL for the API request\n",
        "    url = \"https://lov.linkeddata.es/dataset/lov/api/v2/term/search\"\n",
        "\n",
        "    # Define the parameters for the request using the query variable\n",
        "    params = {\n",
        "        'q': query,\n",
        "        'type': 'property',\n",
        "        'page_size'\t: 1\n",
        "    }\n",
        "\n",
        "    # Make the GET request to the API\n",
        "    response = requests.get(url, params=params)\n",
        "\n",
        "    # Check if the request was successful\n",
        "    if response.status_code == 200:\n",
        "        # Parse the JSON response\n",
        "        data = response.json()\n",
        "        return data\n",
        "    else:\n",
        "        print(f\"Error: {response.status_code}\")\n",
        "        return None\n",
        "\n",
        "lala = fetch_data('citizenship')\n",
        "lala"
      ],
      "metadata": {
        "colab": {
          "base_uri": "https://localhost:8080/"
        },
        "id": "NnQUqcke6DM2",
        "outputId": "e6b9607c-5e0c-496b-f8cc-ed4e0b892280"
      },
      "execution_count": null,
      "outputs": [
        {
          "output_type": "execute_result",
          "data": {
            "text/plain": [
              "{'total_results': 5,\n",
              " 'page': 1,\n",
              " 'page_size': '1',\n",
              " 'queryString': 'citizenship',\n",
              " 'filters': {'type': 'property'},\n",
              " 'aggregations': {'types': {'doc_count_error_upper_bound': 0,\n",
              "   'sum_other_doc_count': 0,\n",
              "   'buckets': [{'key': 'property', 'doc_count': 5}]},\n",
              "  'vocabs': {'doc_count_error_upper_bound': 0,\n",
              "   'sum_other_doc_count': 0,\n",
              "   'buckets': [{'key': 'cwrc', 'doc_count': 2},\n",
              "    {'key': 'being', 'doc_count': 1},\n",
              "    {'key': 'dbpedia', 'doc_count': 1},\n",
              "    {'key': 'owl', 'doc_count': 1},\n",
              "    {'key': 'person', 'doc_count': 1}]},\n",
              "  'tags': {'doc_count_error_upper_bound': 0,\n",
              "   'sum_other_doc_count': 0,\n",
              "   'buckets': [{'key': 'People', 'doc_count': 3},\n",
              "    {'key': 'General & Upper', 'doc_count': 1},\n",
              "    {'key': 'Multimedia', 'doc_count': 1}]}},\n",
              " 'results': [{'prefixedName': ['dbpedia-owl:citizenship'],\n",
              "   'vocabulary.prefix': ['dbpedia-owl'],\n",
              "   'uri': ['http://dbpedia.org/ontology/citizenship'],\n",
              "   'metrics.occurrencesInDatasets': [315],\n",
              "   'metrics.reusedByDatasets': [2],\n",
              "   'type': 'property',\n",
              "   'score': 1,\n",
              "   'highlight': {'http://www.w3.org/2000/01/rdf-schema#label@en': ['<b>citizenship</b>'],\n",
              "    'localName.ngram': ['<b>citizenship</b>']}}]}"
            ]
          },
          "metadata": {},
          "execution_count": 22
        }
      ]
    },
    {
      "cell_type": "code",
      "source": [
        "lala = fetch_data('winner')\n",
        "lala"
      ],
      "metadata": {
        "colab": {
          "base_uri": "https://localhost:8080/"
        },
        "id": "3jkkrQTz4UBW",
        "outputId": "afa91b25-8762-4bd8-c19a-395a1b021a48"
      },
      "execution_count": null,
      "outputs": [
        {
          "output_type": "execute_result",
          "data": {
            "text/plain": [
              "{'total_results': 13,\n",
              " 'page': 1,\n",
              " 'page_size': '1',\n",
              " 'queryString': 'winner',\n",
              " 'filters': {'type': 'property'},\n",
              " 'aggregations': {'types': {'doc_count_error_upper_bound': 0,\n",
              "   'sum_other_doc_count': 0,\n",
              "   'buckets': [{'key': 'property', 'doc_count': 13}]},\n",
              "  'vocabs': {'doc_count_error_upper_bound': 0,\n",
              "   'sum_other_doc_count': 0,\n",
              "   'buckets': [{'key': 'dbpedia', 'doc_count': 11},\n",
              "    {'key': 'owl', 'doc_count': 11},\n",
              "    {'key': 'game', 'doc_count': 1},\n",
              "    {'key': 'schema', 'doc_count': 1}]},\n",
              "  'tags': {'doc_count_error_upper_bound': 0,\n",
              "   'sum_other_doc_count': 0,\n",
              "   'buckets': [{'key': 'General & Upper', 'doc_count': 12},\n",
              "    {'key': 'Games', 'doc_count': 1}]}},\n",
              " 'results': [{'prefixedName': ['schema:winner'],\n",
              "   'vocabulary.prefix': ['schema'],\n",
              "   'uri': ['http://schema.org/winner'],\n",
              "   'metrics.occurrencesInDatasets': [0],\n",
              "   'metrics.reusedByDatasets': [0],\n",
              "   'type': 'property',\n",
              "   'score': 2.7106304,\n",
              "   'highlight': {'http://www.w3.org/2000/01/rdf-schema#comment': ['A sub property of participant. The <b>winner</b> of the action.'],\n",
              "    'http://www.w3.org/2000/01/rdf-schema#label': ['<b>winner</b>'],\n",
              "    'localName.ngram': ['<b>winner</b>']}}]}"
            ]
          },
          "metadata": {},
          "execution_count": 23
        }
      ]
    },
    {
      "cell_type": "code",
      "source": [
        "if 'results' in lala and len(lala['results']) > 0:\n",
        "    result = lala['results'][0]\n",
        "\n",
        "result"
      ],
      "metadata": {
        "colab": {
          "base_uri": "https://localhost:8080/"
        },
        "id": "XLKAhYs3CNoH",
        "outputId": "fb91bb88-bb3c-4dc5-9f2e-40425a3b01e4"
      },
      "execution_count": null,
      "outputs": [
        {
          "output_type": "execute_result",
          "data": {
            "text/plain": [
              "{'prefixedName': ['schema:winner'],\n",
              " 'vocabulary.prefix': ['schema'],\n",
              " 'uri': ['http://schema.org/winner'],\n",
              " 'metrics.occurrencesInDatasets': [0],\n",
              " 'metrics.reusedByDatasets': [0],\n",
              " 'type': 'property',\n",
              " 'score': 2.7106304,\n",
              " 'highlight': {'http://www.w3.org/2000/01/rdf-schema#comment': ['A sub property of participant. The <b>winner</b> of the action.'],\n",
              "  'http://www.w3.org/2000/01/rdf-schema#label': ['<b>winner</b>'],\n",
              "  'localName.ngram': ['<b>winner</b>']}}"
            ]
          },
          "metadata": {},
          "execution_count": 50
        }
      ]
    },
    {
      "cell_type": "code",
      "source": [
        "RDFprefixes_names = {}"
      ],
      "metadata": {
        "id": "4Xdu3JKFDX8y"
      },
      "execution_count": null,
      "outputs": []
    },
    {
      "cell_type": "code",
      "source": [
        "import requests\n",
        "\n",
        "def extract_and_strip(data):\n",
        "    # Extract the relevant values\n",
        "    prefixed_name = data['results'][0]['prefixedName'][0].strip()\n",
        "    vocabulary_prefix = data['results'][0]['vocabulary.prefix'][0].strip()\n",
        "    uri = data['results'][0]['uri'][0].strip()\n",
        "\n",
        "    return {\n",
        "        'prefixedName': prefixed_name,\n",
        "        'vocabulary.prefix': vocabulary_prefix,\n",
        "        'uri': uri\n",
        "    }\n",
        "\n",
        "def fetch_data(query):\n",
        "    # Define the URL for the API request\n",
        "    url = \"https://lov.linkeddata.es/dataset/lov/api/v2/term/search\"\n",
        "\n",
        "    # Define the parameters for the request using the query variable\n",
        "    params = {\n",
        "        'q': query,\n",
        "        'type': 'property',\n",
        "        'page_size': 1\n",
        "    }\n",
        "\n",
        "    # Make the GET request to the API\n",
        "    response = requests.get(url, params=params)\n",
        "\n",
        "    # Check if the request was successful\n",
        "    if response.status_code == 200:\n",
        "        # Parse the JSON response\n",
        "        data = response.json()\n",
        "        # Extract and strip the required information\n",
        "        extracted_data = extract_and_strip(data)\n",
        "        return extracted_data\n",
        "    else:\n",
        "        print(f\"Error: {response.status_code}\")\n",
        "        return None\n",
        "\n",
        "# Example usage:\n",
        "query = 'citizenship'\n",
        "result = fetch_data(query)\n",
        "print(result)\n"
      ],
      "metadata": {
        "colab": {
          "base_uri": "https://localhost:8080/"
        },
        "id": "kWhVr1ox9Ll6",
        "outputId": "fe259ed5-7c0c-41f3-d229-d23af7502222"
      },
      "execution_count": null,
      "outputs": [
        {
          "output_type": "stream",
          "name": "stdout",
          "text": [
            "{'prefixedName': 'dbpedia-owl:citizenship', 'vocabulary.prefix': 'dbpedia-owl', 'uri': 'http://dbpedia.org/ontology/citizenship'}\n"
          ]
        }
      ]
    },
    {
      "cell_type": "code",
      "source": [
        "if 'vocabulary.prefix' in result:\n",
        "    vocabulary_prefix = result['vocabulary.prefix']\n",
        "\n",
        "vocabulary_prefix"
      ],
      "metadata": {
        "colab": {
          "base_uri": "https://localhost:8080/",
          "height": 36
        },
        "id": "sw36VaIJ46X5",
        "outputId": "d4ebab95-e61a-4cba-8579-45782502aaac"
      },
      "execution_count": null,
      "outputs": [
        {
          "output_type": "execute_result",
          "data": {
            "text/plain": [
              "'dbpedia-owl'"
            ],
            "application/vnd.google.colaboratory.intrinsic+json": {
              "type": "string"
            }
          },
          "metadata": {},
          "execution_count": 43
        }
      ]
    },
    {
      "cell_type": "markdown",
      "source": [
        "#  Processing WN_test.tsv without label"
      ],
      "metadata": {
        "id": "jepwQkOJJL91"
      }
    },
    {
      "cell_type": "code",
      "execution_count": null,
      "metadata": {
        "id": "kBDEL6C2JGpG"
      },
      "outputs": [],
      "source": [
        "def process_tsv(file_path, max_tokens=1000):\n",
        "    with open(file_path, 'r', encoding='utf-8') as file:\n",
        "        lines = file.readlines()\n",
        "\n",
        "    sentences = []\n",
        "    current_sentence = []\n",
        "    sentence_enders = \".!?\"\n",
        "\n",
        "    for line in lines:\n",
        "        token = line.strip()\n",
        "        if token:\n",
        "            current_sentence.append(token)\n",
        "\n",
        "            if token in sentence_enders:\n",
        "                sentences.append(current_sentence)\n",
        "                current_sentence = []\n",
        "        else:\n",
        "            if current_sentence:\n",
        "                sentences.append(current_sentence)\n",
        "                current_sentence = []\n",
        "\n",
        "    if current_sentence:\n",
        "        sentences.append(current_sentence)\n",
        "\n",
        "    return sentences\n",
        "\n",
        "file_path = '/content/drive/MyDrive/Colab Notebooks/TESI/github/WN_test_nolabel.tsv'\n",
        "sentences = process_tsv(file_path)"
      ]
    },
    {
      "cell_type": "code",
      "source": [
        "titles = []\n",
        "title_count = 0\n",
        "\n",
        "for sentence in sentences:\n",
        "    if sentence[-1] not in \".;?!:\":\n",
        "        titles.append(sentence)\n",
        "        title_count += 1\n",
        "\n",
        "print(f\"Number of sentences appended to titles: {title_count}\")\n",
        "\n",
        "#dovrebbe essere il numero degli articoli"
      ],
      "metadata": {
        "colab": {
          "base_uri": "https://localhost:8080/"
        },
        "id": "7xK4KfuZBd71",
        "outputId": "7ce62fb7-b773-40c0-f376-e72e0e2d2d61"
      },
      "execution_count": null,
      "outputs": [
        {
          "output_type": "stream",
          "name": "stdout",
          "text": [
            "Number of sentences appended to titles: 290\n"
          ]
        }
      ]
    },
    {
      "cell_type": "code",
      "source": [
        "def create_dataset_NOlabel(sentences):\n",
        "    dataset_list = []\n",
        "    counterId = 0\n",
        "    titles = []\n",
        "\n",
        "    for sentence in sentences:\n",
        "        if sentence[-1] not in \".;?!:\":\n",
        "            titles.append(sentence)\n",
        "\n",
        "    for i, sentence in enumerate(sentences):\n",
        "        if sentence[-1] not in \".;?!:\":\n",
        "            articles_dict = {}\n",
        "            articles_dict['id'] = counterId\n",
        "            articles_dict['title'] = sentence\n",
        "            articles_dict['article'] = ''\n",
        "\n",
        "            for j in range(i + 1, len(sentences)):\n",
        "                if sentences[j] in titles:\n",
        "                    break\n",
        "                articles_dict['article'] += ' '.join(sentences[j]) + ' '\n",
        "\n",
        "            dataset_list.append(articles_dict)\n",
        "            counterId += 1\n",
        "\n",
        "    return dataset_list"
      ],
      "metadata": {
        "id": "QmjeJgch4yFb"
      },
      "execution_count": null,
      "outputs": []
    },
    {
      "cell_type": "code",
      "source": [
        "dataset_list = create_dataset_NOlabel(sentences)"
      ],
      "metadata": {
        "id": "STXH-heb87MS"
      },
      "execution_count": null,
      "outputs": []
    },
    {
      "cell_type": "code",
      "source": [
        "dataset_list[1]"
      ],
      "metadata": {
        "colab": {
          "base_uri": "https://localhost:8080/"
        },
        "id": "qrIVJLqK_36d",
        "outputId": "7be5c9e0-e57e-4a04-919b-3651d68aba68"
      },
      "execution_count": null,
      "outputs": [
        {
          "output_type": "execute_result",
          "data": {
            "text/plain": [
              "{'id': 1,\n",
              " 'title': ['Rivolta',\n",
              "  'del',\n",
              "  'pane',\n",
              "  'nel',\n",
              "  'Magreb',\n",
              "  ',',\n",
              "  '50',\n",
              "  'morti',\n",
              "  'in',\n",
              "  'Tunisia'],\n",
              " 'article': '50 morti in Tunisia , scontri in Algeria e tensioni in Marocco , aumenti di prezzo per grano , olio , zucchero , oltre che del petrolio . La sommossa ricorda quella dell\\' assalto al forno delle grucce , di manzoniana memoria . È di nuovo la \" rivolta del pane \" , in tutto il Magreb . C\\' è chi ricorda che ciclicamente si ripetono le stesse scene , c\\' è chi invece vede l\\' inizio di un periodo sempre più negativo sul problema alimentare mondiale . I paesi produttori ed esportatori di grano , come la Francia , stanno assumendo un atteggiamento sempre più prudente nel promettere la consegna di partite di cereali , riaffermando la necessità di ricostruire gli stock . I prezzi nel frattempo da 100 euro la tonnellata sono già saliti al doppio e c\\' è anche chi prospetta la possibilità di ulteriori rialzi . Ma sulle cause del fenomeno c\\' è ancora incertezza . C\\' è chi punta più il dito sui fenomeni speculativi e chi invece crede che esistano cause strutturali nell\\' insufficienza della produzione . Dieci anni fa il premio Nobel professor Amartya Sen nell\\' allocuzione per il conferimento della laurea honoris causa , conferita dall\\' Università di Firenze , era enormemente fiducioso che , nel futuro , il problema non sarebbe stato produrre più alimenti , ma solo quello di una equa distribuzione tra paesi ricchi e paesi poveri e tra classi sociali all\\' interno dello stesso paese . Già allora però Norman Borlaug , il grande padre della Rivoluzione verde , che era stato anch\\' esso insignito del Premio Nobel , era enormemente più pessimista : i miglioramenti genetici così rivoluzionari nel secolo scorso ( basta in Italia ricordare le Sementi elette di Nazareno Strampelli ) sono vicine al punto di impossibilità di ulteriori miglioramenti . '}"
            ]
          },
          "metadata": {},
          "execution_count": 7
        }
      ]
    },
    {
      "cell_type": "markdown",
      "source": [
        "# REBEL SECTION"
      ],
      "metadata": {
        "id": "e6N9j-HLNSs4"
      }
    },
    {
      "cell_type": "code",
      "source": [
        "!pip install transformers wikidata requests rdflib"
      ],
      "metadata": {
        "colab": {
          "base_uri": "https://localhost:8080/"
        },
        "outputId": "241eaf4c-c80a-4320-8518-bbcdad2b899e",
        "id": "x16L3lzANSs6"
      },
      "execution_count": null,
      "outputs": [
        {
          "output_type": "stream",
          "name": "stdout",
          "text": [
            "Requirement already satisfied: transformers in /usr/local/lib/python3.10/dist-packages (4.44.2)\n",
            "Collecting wikidata\n",
            "  Downloading Wikidata-0.8.1-py3-none-any.whl.metadata (3.0 kB)\n",
            "Requirement already satisfied: requests in /usr/local/lib/python3.10/dist-packages (2.32.3)\n",
            "Collecting rdflib\n",
            "  Downloading rdflib-7.0.0-py3-none-any.whl.metadata (11 kB)\n",
            "Requirement already satisfied: filelock in /usr/local/lib/python3.10/dist-packages (from transformers) (3.16.0)\n",
            "Requirement already satisfied: huggingface-hub<1.0,>=0.23.2 in /usr/local/lib/python3.10/dist-packages (from transformers) (0.24.7)\n",
            "Requirement already satisfied: numpy>=1.17 in /usr/local/lib/python3.10/dist-packages (from transformers) (1.26.4)\n",
            "Requirement already satisfied: packaging>=20.0 in /usr/local/lib/python3.10/dist-packages (from transformers) (24.1)\n",
            "Requirement already satisfied: pyyaml>=5.1 in /usr/local/lib/python3.10/dist-packages (from transformers) (6.0.2)\n",
            "Requirement already satisfied: regex!=2019.12.17 in /usr/local/lib/python3.10/dist-packages (from transformers) (2024.9.11)\n",
            "Requirement already satisfied: safetensors>=0.4.1 in /usr/local/lib/python3.10/dist-packages (from transformers) (0.4.5)\n",
            "Requirement already satisfied: tokenizers<0.20,>=0.19 in /usr/local/lib/python3.10/dist-packages (from transformers) (0.19.1)\n",
            "Requirement already satisfied: tqdm>=4.27 in /usr/local/lib/python3.10/dist-packages (from transformers) (4.66.5)\n",
            "Requirement already satisfied: charset-normalizer<4,>=2 in /usr/local/lib/python3.10/dist-packages (from requests) (3.3.2)\n",
            "Requirement already satisfied: idna<4,>=2.5 in /usr/local/lib/python3.10/dist-packages (from requests) (3.10)\n",
            "Requirement already satisfied: urllib3<3,>=1.21.1 in /usr/local/lib/python3.10/dist-packages (from requests) (2.0.7)\n",
            "Requirement already satisfied: certifi>=2017.4.17 in /usr/local/lib/python3.10/dist-packages (from requests) (2024.8.30)\n",
            "Collecting isodate<0.7.0,>=0.6.0 (from rdflib)\n",
            "  Downloading isodate-0.6.1-py2.py3-none-any.whl.metadata (9.6 kB)\n",
            "Requirement already satisfied: pyparsing<4,>=2.1.0 in /usr/local/lib/python3.10/dist-packages (from rdflib) (3.1.4)\n",
            "Requirement already satisfied: fsspec>=2023.5.0 in /usr/local/lib/python3.10/dist-packages (from huggingface-hub<1.0,>=0.23.2->transformers) (2024.6.1)\n",
            "Requirement already satisfied: typing-extensions>=3.7.4.3 in /usr/local/lib/python3.10/dist-packages (from huggingface-hub<1.0,>=0.23.2->transformers) (4.12.2)\n",
            "Requirement already satisfied: six in /usr/local/lib/python3.10/dist-packages (from isodate<0.7.0,>=0.6.0->rdflib) (1.16.0)\n",
            "Downloading Wikidata-0.8.1-py3-none-any.whl (29 kB)\n",
            "Downloading rdflib-7.0.0-py3-none-any.whl (531 kB)\n",
            "\u001b[2K   \u001b[90m━━━━━━━━━━━━━━━━━━━━━━━━━━━━━━━━━━━━━━━━\u001b[0m \u001b[32m531.9/531.9 kB\u001b[0m \u001b[31m10.3 MB/s\u001b[0m eta \u001b[36m0:00:00\u001b[0m\n",
            "\u001b[?25hDownloading isodate-0.6.1-py2.py3-none-any.whl (41 kB)\n",
            "\u001b[2K   \u001b[90m━━━━━━━━━━━━━━━━━━━━━━━━━━━━━━━━━━━━━━━━\u001b[0m \u001b[32m41.7/41.7 kB\u001b[0m \u001b[31m3.8 MB/s\u001b[0m eta \u001b[36m0:00:00\u001b[0m\n",
            "\u001b[?25hInstalling collected packages: wikidata, isodate, rdflib\n",
            "Successfully installed isodate-0.6.1 rdflib-7.0.0 wikidata-0.8.1\n"
          ]
        }
      ]
    },
    {
      "cell_type": "code",
      "source": [
        "!pip install nltk"
      ],
      "metadata": {
        "colab": {
          "base_uri": "https://localhost:8080/"
        },
        "id": "duDQNZcGgqPc",
        "outputId": "3c355b93-ed27-463e-e5c3-c3a8e8fcb65b"
      },
      "execution_count": null,
      "outputs": [
        {
          "output_type": "stream",
          "name": "stdout",
          "text": [
            "Requirement already satisfied: nltk in /usr/local/lib/python3.10/dist-packages (3.8.1)\n",
            "Requirement already satisfied: click in /usr/local/lib/python3.10/dist-packages (from nltk) (8.1.7)\n",
            "Requirement already satisfied: joblib in /usr/local/lib/python3.10/dist-packages (from nltk) (1.4.2)\n",
            "Requirement already satisfied: regex>=2021.8.3 in /usr/local/lib/python3.10/dist-packages (from nltk) (2024.9.11)\n",
            "Requirement already satisfied: tqdm in /usr/local/lib/python3.10/dist-packages (from nltk) (4.66.5)\n"
          ]
        }
      ]
    },
    {
      "cell_type": "code",
      "source": [
        "from transformers import AutoModelForSeq2SeqLM, AutoTokenizer\n",
        "import math\n",
        "import torch\n",
        "from wikidata.client import Client\n",
        "import requests\n",
        "import rdflib"
      ],
      "metadata": {
        "id": "94KyVaOeNSs9"
      },
      "execution_count": null,
      "outputs": []
    },
    {
      "cell_type": "code",
      "source": [
        "tokenizer = AutoTokenizer.from_pretrained(\"Babelscape/mrebel-large\", src_lang=\"it_IT\", tgt_lang=\"tp_XX\")"
      ],
      "metadata": {
        "colab": {
          "base_uri": "https://localhost:8080/",
          "height": 232,
          "referenced_widgets": [
            "2b002eb692ec448e8c9779e595474ef0",
            "8f129f84d99940fba9905e9d01943d1d",
            "86da529ecb38447b90dfbb344c3a8f96",
            "46e2ee6a940046349728fcde9b983b03",
            "4f106c6f97414c33a44c4af49d0bfc39",
            "1a7d671ca8234a6891800355e659cf6a",
            "bfd0c8fec51745afab9dd09b91d7c2d6",
            "691596c84227488cbc718a2d1be9dc3b",
            "d5d2f0a775754cd1bdca13a3d9391209",
            "939a1daab78a4d3c9ddabce80a846d76",
            "a9de47fb88034ff9988bc86da7d0fb0c",
            "c98d6520a820409b8a311f3b2db720a9",
            "58f934dcbb214b5eb01237678cf31b51",
            "75381bc984504e13b6c801bf3691296e",
            "da8f2358fdfb44b6a28d638e7cc02969",
            "1862a9d541f84cb59ea388ca31a3921a",
            "5018dc85bc194a48943a5d1abc74fbea",
            "ffeee64940434f06bd6db39e1d2dec74",
            "b050fe02dae246b1bc5bf1fdf63d7e67",
            "8b20708a578e4609a7cfb14330ee70d7",
            "20e60e652b8943b091ae6596f2528818",
            "078ed1ea49a14e22b27c66aeee108eea",
            "913f1eddceea47f087fcc79fbddd51ad",
            "3f2a4f9f02fe4a248ace89159c9d3e5f",
            "3db3ab20fb9f43d38f1a24cae0667e7d",
            "69ab3d08c8bb4944b58d1e27188fc30e",
            "80595dab05c848b4a868e6eebbcb004a",
            "9e22aede5ef94c9e9bb0591a8c96d516",
            "6f934481a3c4410ca02263916c2f255e",
            "adad29ac3200498c9ca6bf92863154b9",
            "05299bf260e343fa8507d45fb09fafb2",
            "87c81f38758d4902a664bec2802ad9e7",
            "96bc07e284d143debf79e292b3d36427",
            "f3ef114e51f54d5c92b1ef4a82618863",
            "daf13f6df62d4e67975f1c0c1b14e299",
            "cd5901c3860d40fabeb2b5a99d9cdac2",
            "6022899f85e14e6ba3c6c83a32373641",
            "06f1042dc1ca41569f8106a2b3acfd44",
            "65095d27c8d04831b4de117c85db0d7b",
            "ca6c0f7699ca413ead87e6a4911b4e2e",
            "a4e61aa5357c488a9b60d2c0a361183a",
            "4f6696dda75143b2b6992e6a964190e9",
            "62ece4423074403a8bf171faf0cf4abb",
            "a32da75953744102a36b20f53f24c5ef",
            "f445f92e79ec4a85a6ac332567c2fc6d",
            "de6c7f4f164f4d8a99d07a117e41b65e",
            "81ea9f0825bd4fb9b03f2722ca8be1b7",
            "2aca58c60cc34779a6713a42eb37ad31",
            "e059edffa8e347098f29eb3b708614dd",
            "f3c4cadaa84c4b48b8991a122d53cc9d",
            "7d59577b54b14c6fb716eb1c23f070de",
            "4d3a47215fd94bd29ca0c4eb74a3ff0a",
            "13820d25e113445fb6f086cdf3ec4ce7",
            "4d5a3637a7e64616af98b5deacb9eb61",
            "1e066bd3aeef461199fcadcb432448a7"
          ]
        },
        "outputId": "cf5093df-1abf-44b2-e41a-dcc2c0cf04d6",
        "id": "wxl-WbwWNSs-"
      },
      "execution_count": null,
      "outputs": [
        {
          "output_type": "display_data",
          "data": {
            "text/plain": [
              "tokenizer_config.json:   0%|          | 0.00/1.28k [00:00<?, ?B/s]"
            ],
            "application/vnd.jupyter.widget-view+json": {
              "version_major": 2,
              "version_minor": 0,
              "model_id": "2b002eb692ec448e8c9779e595474ef0"
            }
          },
          "metadata": {}
        },
        {
          "output_type": "display_data",
          "data": {
            "text/plain": [
              "sentencepiece.bpe.model:   0%|          | 0.00/5.07M [00:00<?, ?B/s]"
            ],
            "application/vnd.jupyter.widget-view+json": {
              "version_major": 2,
              "version_minor": 0,
              "model_id": "c98d6520a820409b8a311f3b2db720a9"
            }
          },
          "metadata": {}
        },
        {
          "output_type": "display_data",
          "data": {
            "text/plain": [
              "tokenizer.json:   0%|          | 0.00/17.1M [00:00<?, ?B/s]"
            ],
            "application/vnd.jupyter.widget-view+json": {
              "version_major": 2,
              "version_minor": 0,
              "model_id": "913f1eddceea47f087fcc79fbddd51ad"
            }
          },
          "metadata": {}
        },
        {
          "output_type": "display_data",
          "data": {
            "text/plain": [
              "added_tokens.json:   0%|          | 0.00/307 [00:00<?, ?B/s]"
            ],
            "application/vnd.jupyter.widget-view+json": {
              "version_major": 2,
              "version_minor": 0,
              "model_id": "f3ef114e51f54d5c92b1ef4a82618863"
            }
          },
          "metadata": {}
        },
        {
          "output_type": "display_data",
          "data": {
            "text/plain": [
              "special_tokens_map.json:   0%|          | 0.00/829 [00:00<?, ?B/s]"
            ],
            "application/vnd.jupyter.widget-view+json": {
              "version_major": 2,
              "version_minor": 0,
              "model_id": "f445f92e79ec4a85a6ac332567c2fc6d"
            }
          },
          "metadata": {}
        },
        {
          "output_type": "stream",
          "name": "stderr",
          "text": [
            "/usr/local/lib/python3.10/dist-packages/transformers/tokenization_utils_base.py:1601: FutureWarning: `clean_up_tokenization_spaces` was not set. It will be set to `True` by default. This behavior will be depracted in transformers v4.45, and will be then set to `False` by default. For more details check this issue: https://github.com/huggingface/transformers/issues/31884\n",
            "  warnings.warn(\n"
          ]
        }
      ]
    },
    {
      "cell_type": "code",
      "source": [
        "model = AutoModelForSeq2SeqLM.from_pretrained(\"Babelscape/mrebel-large\")"
      ],
      "metadata": {
        "colab": {
          "base_uri": "https://localhost:8080/",
          "height": 81,
          "referenced_widgets": [
            "be97bf81ab744c04989c40e377691182",
            "25d9fd6b0d884b19ac9fb924e440a53c",
            "00a98fe4d9f7409299635d833c36d522",
            "62789266f8a74e9b818ebaa9203ceb67",
            "19ab6ebcf78340dda1c6dcff65668d28",
            "523f008f12e84fed8b97a01d2eddf102",
            "de13243eef04476aa1e97803b0304fd9",
            "bee1fa14680240a484dacdac9abf12e6",
            "3027a43ec27546ba8bb4d9d8edee8d61",
            "b693b815424c48d4b599d37286f0cb2b",
            "b890e321df63423c81ee474900f08c61",
            "596d0ed56cb047c0beaeecb25656b6df",
            "48bb3566a27c4739b087eb5a003b67e3",
            "ed5422a369084a27abfb3fd2e5d064df",
            "37db055f5bf945b681c45d0c39705539",
            "5aa6d40f4d424d82b35a9963b1262e23",
            "eb2ba6aa647f41ecbd36cc2a262ffd74",
            "728d5f851ccc406dbd3a7997323d0dae",
            "1e178040212d4c94a89aa5a5788775a8",
            "debc1a94f8e14a168cf42fafe0a52cd8",
            "97bb15c1c0744731955e74e5ebca7dca",
            "ad2ede38043741c0852db3de31ae560e"
          ]
        },
        "outputId": "f00f3878-0cec-4b1b-815b-fb844027ea72",
        "id": "H6IBJN0uNStB"
      },
      "execution_count": null,
      "outputs": [
        {
          "output_type": "display_data",
          "data": {
            "text/plain": [
              "config.json:   0%|          | 0.00/1.42k [00:00<?, ?B/s]"
            ],
            "application/vnd.jupyter.widget-view+json": {
              "version_major": 2,
              "version_minor": 0,
              "model_id": "be97bf81ab744c04989c40e377691182"
            }
          },
          "metadata": {}
        },
        {
          "output_type": "display_data",
          "data": {
            "text/plain": [
              "model.safetensors:   0%|          | 0.00/2.44G [00:00<?, ?B/s]"
            ],
            "application/vnd.jupyter.widget-view+json": {
              "version_major": 2,
              "version_minor": 0,
              "model_id": "596d0ed56cb047c0beaeecb25656b6df"
            }
          },
          "metadata": {}
        }
      ]
    },
    {
      "cell_type": "code",
      "source": [
        "def extract_relations_from_model_output(text):\n",
        "    relations = []\n",
        "    relation = ''\n",
        "    subject, relation, object_, object_type, subject_type = '','','','',''\n",
        "    text = text.strip()\n",
        "    current = 'x'\n",
        "    for token in text.replace(\"<s>\", \"\").replace(\"<pad>\", \"\").replace(\"</s>\", \"\").replace(\"tp_XX\", \"\").replace(\"__en__\", \"\").split():\n",
        "        if token == \"<triplet>\"  or token == \"<relation>\":\n",
        "            current = 't'\n",
        "            if relation != '':\n",
        "                relations.append({'head': subject.strip(), 'head_type': subject_type, 'type': relation.strip(),'tail': object_.strip(), 'tail_type': object_type})\n",
        "                relation = ''\n",
        "            subject = ''\n",
        "        elif token.startswith(\"<\") and token.endswith(\">\"):\n",
        "            if current == 't' or current == 'o':\n",
        "                current = 's'\n",
        "                if relation != '':\n",
        "                    relations.append({'head': subject.strip(), 'head_type': subject_type, 'type': relation.strip(),'tail': object_.strip(), 'tail_type': object_type})\n",
        "                object_ = ''\n",
        "                subject_type = token[1:-1]\n",
        "            else:\n",
        "                current = 'o'\n",
        "                object_type = token[1:-1]\n",
        "                relation = ''\n",
        "        else:\n",
        "            if current == 't':\n",
        "                subject += ' ' + token\n",
        "            elif current == 's':\n",
        "                object_ += ' ' + token\n",
        "            elif current == 'o':\n",
        "                relation += ' ' + token\n",
        "    if subject != '' and relation != '' and object_ != '' and object_type != '' and subject_type != '':\n",
        "        relations.append({'head': subject.strip(), 'head_type': subject_type, 'type': relation.strip(),'tail': object_.strip(), 'tail_type': object_type})\n",
        "    return relations"
      ],
      "metadata": {
        "id": "F0RNmOccNStC"
      },
      "execution_count": null,
      "outputs": []
    },
    {
      "cell_type": "code",
      "source": [
        "def from_text_to_kb(text, span_length=128, verbose=False):\n",
        "    # tokenize whole text\n",
        "    inputs = tokenizer([text], return_tensors=\"pt\")\n",
        "\n",
        "    # compute span boundaries\n",
        "    num_tokens = len(inputs[\"input_ids\"][0])\n",
        "    if verbose:\n",
        "        print(f\"Input has {num_tokens} tokens\")\n",
        "    num_spans = math.ceil(num_tokens / span_length)\n",
        "    if verbose:\n",
        "        print(f\"Input has {num_spans} spans\")\n",
        "    overlap = math.ceil((num_spans * span_length - num_tokens) /\n",
        "                        max(num_spans - 1, 1))\n",
        "    spans_boundaries = []\n",
        "    start = 0\n",
        "    for i in range(num_spans):\n",
        "        spans_boundaries.append([start + span_length * i,\n",
        "                                 start + span_length * (i + 1)])\n",
        "        start -= overlap\n",
        "    if verbose:\n",
        "        print(f\"Span boundaries are {spans_boundaries}\")\n",
        "\n",
        "    # transform input with spans\n",
        "    tensor_ids = [inputs[\"input_ids\"][0][boundary[0]:boundary[1]]\n",
        "                  for boundary in spans_boundaries]\n",
        "    tensor_masks = [inputs[\"attention_mask\"][0][boundary[0]:boundary[1]]\n",
        "                    for boundary in spans_boundaries]\n",
        "    inputs = {\n",
        "        \"input_ids\": torch.stack(tensor_ids),\n",
        "        \"attention_mask\": torch.stack(tensor_masks)\n",
        "    }\n",
        "\n",
        "    # generate relations\n",
        "    gen_kwargs = {\n",
        "        \"max_length\": 256,\n",
        "        \"length_penalty\": 0,\n",
        "        \"num_beams\": 3,\n",
        "        \"num_return_sequences\": 3,\n",
        "        \"forced_bos_token_id\": None,\n",
        "    }\n",
        "    generated_tokens = model.generate(\n",
        "        inputs[\"input_ids\"].to(model.device),\n",
        "        attention_mask=inputs[\"attention_mask\"].to(model.device),\n",
        "        decoder_start_token_id = tokenizer.convert_tokens_to_ids(\"tp_XX\"),\n",
        "        **gen_kwargs,\n",
        "    )\n",
        "\n",
        "    # decode relations\n",
        "    decoded_preds = tokenizer.batch_decode(generated_tokens,\n",
        "                                           skip_special_tokens=False)\n",
        "\n",
        "    kb = KB()\n",
        "    i = 0\n",
        "    for sentence_pred in decoded_preds:\n",
        "        current_span_index = i // 3\n",
        "        relations = extract_relations_from_model_output(sentence_pred)\n",
        "        for relation in relations:\n",
        "            relation[\"meta\"] = {\n",
        "                \"spans\": [spans_boundaries[current_span_index]]\n",
        "            }\n",
        "            kb.add_relation(relation)\n",
        "        i += 1\n",
        "\n",
        "    return kb"
      ],
      "metadata": {
        "id": "ZyUNmHqyNStF"
      },
      "execution_count": null,
      "outputs": []
    },
    {
      "cell_type": "code",
      "source": [
        "import requests\n",
        "import ast\n",
        "\n",
        "class SemanticTripleConverter:\n",
        "    def __init__(self, entities, relations):\n",
        "        self.entities = entities\n",
        "        self.relations = relations\n",
        "        self.url = \"https://lov.linkeddata.es/dataset/lov/api/v2/term/search\"\n",
        "        self.ontology_predicates = {'is': 'http://www.w3.org/2002/07/owl/sameAs'}\n",
        "        self.RDFprefixes_names = {\n",
        "            'vocabulary_prefixes': {},\n",
        "            'prefixed_names': {}\n",
        "        }\n",
        "\n",
        "    def get_valid_predicate(self, predicate):\n",
        "        if predicate in self.ontology_predicates:\n",
        "            return self.ontology_predicates[predicate]\n",
        "\n",
        "        external_predicate = self.fetch_data(predicate)\n",
        "        if external_predicate:\n",
        "            self.ontology_predicates[predicate] = external_predicate['uri']\n",
        "            return external_predicate['uri']\n",
        "\n",
        "        return predicate\n",
        "\n",
        "    def extract_and_strip(self, data):\n",
        "      try:\n",
        "          # Check if 'results' key exists and has at least one item\n",
        "          if 'results' in data and len(data['results']) > 0:\n",
        "              result = data['results'][0]\n",
        "\n",
        "              # Initialize the variables with default values\n",
        "              prefixed_name = None\n",
        "              vocabulary_prefix = None\n",
        "              uri = None\n",
        "\n",
        "              if 'prefixedName' in result and len(result['prefixedName']) > 0:\n",
        "                  prefixed_name = result['prefixedName'][0].strip()\n",
        "\n",
        "              if 'vocabulary.prefix' in result and len(result['vocabulary.prefix']) > 0:\n",
        "                  vocabulary_prefix = result['vocabulary.prefix'][0].strip()\n",
        "\n",
        "              if 'uri' in result and len(result['uri']) > 0:\n",
        "                  uri = result['uri'][0].strip()\n",
        "\n",
        "              # Ensure all required data is found\n",
        "              if prefixed_name and vocabulary_prefix and uri:\n",
        "                  # Store the prefixes and names\n",
        "                  if vocabulary_prefix not in self.RDFprefixes_names['vocabulary_prefixes']:\n",
        "                      self.RDFprefixes_names['vocabulary_prefixes'][vocabulary_prefix] = []\n",
        "                  if uri not in self.RDFprefixes_names['vocabulary_prefixes'][vocabulary_prefix]:\n",
        "                      self.RDFprefixes_names['vocabulary_prefixes'][vocabulary_prefix].append(uri)\n",
        "\n",
        "                  if prefixed_name not in self.RDFprefixes_names['prefixed_names']:\n",
        "                      self.RDFprefixes_names['prefixed_names'][prefixed_name] = uri\n",
        "\n",
        "                  return {\n",
        "                      'prefixedName': prefixed_name,\n",
        "                      'vocabulary.prefix': vocabulary_prefix,\n",
        "                      'uri': uri\n",
        "                      }\n",
        "              else:\n",
        "                  print(\"Required data fields are missing in the result.\")\n",
        "                  return None\n",
        "          else:\n",
        "              print(\"No results found in data.\")\n",
        "              return None\n",
        "      except (KeyError, IndexError, TypeError) as e:\n",
        "          # Handle any other potential errors and print the data that caused the error\n",
        "          print(f\"Error processing data: {data}, error: {e}\")\n",
        "          return None\n",
        "\n",
        "\n",
        "    def fetch_data(self, query):\n",
        "        # Define the parameters for the request using the query variable\n",
        "        params = {\n",
        "            'q': query,\n",
        "            'type': 'property',\n",
        "            'page_size': 1\n",
        "        }\n",
        "\n",
        "        # Make the GET request to the API\n",
        "        response = requests.get(self.url, params=params)\n",
        "\n",
        "        # Check if the request was successful\n",
        "        if response.status_code == 200:\n",
        "            # Parse the JSON response\n",
        "            data = response.json()\n",
        "            # Extract and strip the required information\n",
        "            extracted_data = self.extract_and_strip(data)\n",
        "            return extracted_data\n",
        "        else:\n",
        "            print(f\"Error: {response.status_code}\")\n",
        "            return None\n",
        "\n",
        "    def get_rdf_prefixes(self):\n",
        "        # Implement the actual logic for RDF prefix extraction\n",
        "        return self.RDFprefixes_names\n",
        "\n",
        "    def get_vocabulary_prefixes(self):\n",
        "        return self.RDFprefixes_names['vocabulary_prefixes']\n",
        "\n",
        "    def get_prefixed_names(self):\n",
        "        return self.RDFprefixes_names['prefixed_names']\n",
        "\n",
        "\n",
        "class KB:\n",
        "    def __init__(self):\n",
        "        self.entities = {}\n",
        "        self.relations = []\n",
        "\n",
        "    def are_relations_equal(self, r1, r2):\n",
        "        return all(r1[attr] == r2[attr] for attr in [\"head\", \"type\", \"tail\"])\n",
        "\n",
        "    def exists_relation(self, r1):\n",
        "        return any(self.are_relations_equal(r1, r2) for r2 in self.relations)\n",
        "\n",
        "    def merge_relations(self, r1):\n",
        "        r2 = [r for r in self.relations if self.are_relations_equal(r1, r)][0]\n",
        "        spans_to_add = [span for span in r1[\"meta\"][\"spans\"] if span not in r2[\"meta\"][\"spans\"]]\n",
        "        r2[\"meta\"][\"spans\"] += spans_to_add\n",
        "\n",
        "    def get_wikidata_data(self, candidate_entity, language='it'):\n",
        "        from wikidata.client import Client\n",
        "        client = Client()\n",
        "        search_url = \"https://www.wikidata.org/w/api.php\"\n",
        "        params = {\n",
        "            'action': 'wbsearchentities',\n",
        "            'format': 'json',\n",
        "            'language': language,\n",
        "            'search': candidate_entity,\n",
        "            'limit': 1\n",
        "        }\n",
        "\n",
        "        try:\n",
        "            response = requests.get(search_url, params=params)\n",
        "            search_results = response.json()\n",
        "\n",
        "            if not search_results.get('search'):\n",
        "                return None\n",
        "\n",
        "            entity_id = search_results['search'][0]['id']\n",
        "            wikidata_entity = client.get(entity_id, load=True)\n",
        "            title = wikidata_entity.label.get(language, wikidata_entity.label.get('en'))\n",
        "\n",
        "            entity_data = {\n",
        "                \"title\": title,\n",
        "                \"url\": f\"https://www.wikidata.org/wiki/{entity_id}\",\n",
        "            }\n",
        "            return entity_data\n",
        "        except Exception as e:\n",
        "            print(f\"Error fetching data: {e}\")\n",
        "            return None\n",
        "\n",
        "    def add_entity(self, e):\n",
        "        self.entities[e[\"title\"]] = {k: v for k, v in e.items() if k != \"title\"}\n",
        "\n",
        "    def add_relation(self, r):\n",
        "        candidate_entities = [r[\"head\"], r[\"tail\"]]\n",
        "        entities = [self.get_wikidata_data(ent) for ent in candidate_entities]\n",
        "\n",
        "        for i, e in enumerate(entities):\n",
        "            if e is None:\n",
        "                entities[i] = {\"title\": candidate_entities[i]}\n",
        "            else:\n",
        "                self.add_entity(e)\n",
        "\n",
        "        r[\"head\"] = entities[0][\"title\"]\n",
        "        r[\"tail\"] = entities[1][\"title\"]\n",
        "\n",
        "        if not self.exists_relation(r):\n",
        "            self.relations.append(r)\n",
        "        else:\n",
        "            self.merge_relations(r)\n",
        "\n",
        "    def ensure_string(self, value):\n",
        "        # Check if value is a string representation of a list\n",
        "        if isinstance(value, str) and value.startswith(\"[\") and value.endswith(\"]\"):\n",
        "            try:\n",
        "                # Safely parse the string as a list using ast.literal_eval\n",
        "                parsed_value = ast.literal_eval(value)\n",
        "                # Check if it's a list and has one element, then return the element as a string\n",
        "                if isinstance(parsed_value, list) and len(parsed_value) == 1:\n",
        "                    return str(parsed_value[0])\n",
        "            except (ValueError, SyntaxError):\n",
        "                # Handle cases where the parsing fails\n",
        "                pass\n",
        "        # Default case, convert the value to string\n",
        "        return str(value)\n",
        "\n",
        "    def convert_triples(self):\n",
        "        converter = SemanticTripleConverter(self.entities, self.relations)\n",
        "        triples = []\n",
        "\n",
        "        for entity in self.entities.keys():\n",
        "            triple = {\n",
        "                'subject': entity,\n",
        "                'predicate': converter.get_valid_predicate('is'),\n",
        "                'object': self.entities[entity]['url']\n",
        "            }\n",
        "            triples.append(triple)\n",
        "\n",
        "        for relation in self.relations:\n",
        "            value = converter.get_valid_predicate(relation['type'])\n",
        "            triple = {\n",
        "                'subject': relation['head'],\n",
        "                'predicate': self.ensure_string(value),\n",
        "                'object': relation['tail']\n",
        "            }\n",
        "            triples.append(triple)\n",
        "\n",
        "        return triples\n",
        "\n",
        "    def rdf_extraction(self):\n",
        "        converter = SemanticTripleConverter(self.entities, self.relations)\n",
        "        for entity in self.entities.values():\n",
        "            converter.get_valid_predicate('is')\n",
        "        for relation in self.relations:\n",
        "            converter.get_valid_predicate(relation['type'])\n",
        "        return converter.get_rdf_prefixes()"
      ],
      "metadata": {
        "id": "dqvf199CosYu"
      },
      "execution_count": null,
      "outputs": []
    },
    {
      "cell_type": "markdown",
      "source": [
        "# Tryout on one article"
      ],
      "metadata": {
        "id": "sO-FHXBOJQOt"
      }
    },
    {
      "cell_type": "code",
      "source": [
        "# This first tryout demonstrates that after a few triples the model confuses itself when working on a single article\n",
        "\n",
        "first_try = dataset_list[1]\n",
        "text = first_try['article']\n",
        "kb = from_text_to_kb(text)\n",
        "final_triples = kb.convert_triples()\n",
        "final_triples"
      ],
      "metadata": {
        "colab": {
          "base_uri": "https://localhost:8080/"
        },
        "id": "Lq3bzmu1J3BE",
        "outputId": "e68b5744-d996-49cd-ac4c-f9d2410e18ca"
      },
      "execution_count": null,
      "outputs": [
        {
          "output_type": "stream",
          "name": "stdout",
          "text": [
            "Error processing data: {'total_results': 0, 'page': 1, 'page_size': '1', 'queryString': 'Francia', 'filters': {'type': 'property'}, 'aggregations': {'types': {'doc_count_error_upper_bound': 0, 'sum_other_doc_count': 0, 'buckets': []}, 'vocabs': {'doc_count_error_upper_bound': 0, 'sum_other_doc_count': 0, 'buckets': []}, 'tags': {'doc_count_error_upper_bound': 0, 'sum_other_doc_count': 0, 'buckets': []}}, 'results': []}\n",
            "Error processing data: {'total_results': 0, 'page': 1, 'page_size': '1', 'queryString': 'cereali cereali cereali cereali cereali cereali cereali cereali cereali cereali cereali cereali cereali cereali cereali cereali cereali cereali cereali cereali cereali cereali cereali cereali cereali cereali cereali cereali cereali cereali cereali cereali cereali cereali cereali cereali cereali cereali cereali cereali cereali cereali cereali cereali cereali cereali cereali cereali cereali cereali cereali cereali cereali cereali cereali cereali cereali cereali cereali cereali cereali cereali cereali cereali cereali cereali cereali cereali cereali cereali cereali cereali cereali cereali cereali', 'filters': {'type': 'property'}, 'aggregations': {'types': {'doc_count_error_upper_bound': 0, 'sum_other_doc_count': 0, 'buckets': []}, 'vocabs': {'doc_count_error_upper_bound': 0, 'sum_other_doc_count': 0, 'buckets': []}, 'tags': {'doc_count_error_upper_bound': 0, 'sum_other_doc_count': 0, 'buckets': []}}, 'results': []}\n",
            "Error processing data: {'total_results': 0, 'page': 1, 'page_size': '1', 'queryString': 'Francia', 'filters': {'type': 'property'}, 'aggregations': {'types': {'doc_count_error_upper_bound': 0, 'sum_other_doc_count': 0, 'buckets': []}, 'vocabs': {'doc_count_error_upper_bound': 0, 'sum_other_doc_count': 0, 'buckets': []}, 'tags': {'doc_count_error_upper_bound': 0, 'sum_other_doc_count': 0, 'buckets': []}}, 'results': []}\n",
            "Error processing data: {'total_results': 0, 'page': 1, 'page_size': '1', 'queryString': 'cereali cereali cereali cereali cereali cereali cereali cereali cereali cereali cereali cereali cereali cereali cereali cereali cereali cereali cereali cereali cereali cereali cereali cereali cereali cereali cereali cereali cereali cereali cereali cereali cereali cereali cereali cereali cereali cereali cereali cereali cereali cereali cereali cereali cereali cereali cereali cereali cereali cereali cereali cereali cereali cereali cereali cereali cereali cereali cereali cereali cereali cereali cereali cereali cereali cereali cereali cereali cereali cereali cereali cereali cereali cereali', 'filters': {'type': 'property'}, 'aggregations': {'types': {'doc_count_error_upper_bound': 0, 'sum_other_doc_count': 0, 'buckets': []}, 'vocabs': {'doc_count_error_upper_bound': 0, 'sum_other_doc_count': 0, 'buckets': []}, 'tags': {'doc_count_error_upper_bound': 0, 'sum_other_doc_count': 0, 'buckets': []}}, 'results': []}\n",
            "Error processing data: {'total_results': 0, 'page': 1, 'page_size': '1', 'queryString': 'Norman Borlaug', 'filters': {'type': 'property'}, 'aggregations': {'types': {'doc_count_error_upper_bound': 0, 'sum_other_doc_count': 0, 'buckets': []}, 'vocabs': {'doc_count_error_upper_bound': 0, 'sum_other_doc_count': 0, 'buckets': []}, 'tags': {'doc_count_error_upper_bound': 0, 'sum_other_doc_count': 0, 'buckets': []}}, 'results': []}\n",
            "Error processing data: {'total_results': 0, 'page': 1, 'page_size': '1', 'queryString': 'Norman Borlaug', 'filters': {'type': 'property'}, 'aggregations': {'types': {'doc_count_error_upper_bound': 0, 'sum_other_doc_count': 0, 'buckets': []}, 'vocabs': {'doc_count_error_upper_bound': 0, 'sum_other_doc_count': 0, 'buckets': []}, 'tags': {'doc_count_error_upper_bound': 0, 'sum_other_doc_count': 0, 'buckets': []}}, 'results': []}\n",
            "Error processing data: {'total_results': 0, 'page': 1, 'page_size': '1', 'queryString': 'Norman Borlaug', 'filters': {'type': 'property'}, 'aggregations': {'types': {'doc_count_error_upper_bound': 0, 'sum_other_doc_count': 0, 'buckets': []}, 'vocabs': {'doc_count_error_upper_bound': 0, 'sum_other_doc_count': 0, 'buckets': []}, 'tags': {'doc_count_error_upper_bound': 0, 'sum_other_doc_count': 0, 'buckets': []}}, 'results': []}\n",
            "Error processing data: {'total_results': 0, 'page': 1, 'page_size': '1', 'queryString': 'Rivolu', 'filters': {'type': 'property'}, 'aggregations': {'types': {'doc_count_error_upper_bound': 0, 'sum_other_doc_count': 0, 'buckets': []}, 'vocabs': {'doc_count_error_upper_bound': 0, 'sum_other_doc_count': 0, 'buckets': []}, 'tags': {'doc_count_error_upper_bound': 0, 'sum_other_doc_count': 0, 'buckets': []}}, 'results': []}\n",
            "Error processing data: {'total_results': 0, 'page': 1, 'page_size': '1', 'queryString': 'Norman Bor', 'filters': {'type': 'property'}, 'aggregations': {'types': {'doc_count_error_upper_bound': 0, 'sum_other_doc_count': 0, 'buckets': []}, 'vocabs': {'doc_count_error_upper_bound': 0, 'sum_other_doc_count': 0, 'buckets': []}, 'tags': {'doc_count_error_upper_bound': 0, 'sum_other_doc_count': 0, 'buckets': []}}, 'results': []}\n"
          ]
        },
        {
          "output_type": "execute_result",
          "data": {
            "text/plain": [
              "[{'subject': 'rivolta del pane',\n",
              "  'predicate': 'http://www.w3.org/2002/07/owl/sameAs',\n",
              "  'object': 'https://www.wikidata.org/wiki/Q5465517'},\n",
              " {'subject': 'Maghreb',\n",
              "  'predicate': 'http://www.w3.org/2002/07/owl/sameAs',\n",
              "  'object': 'https://www.wikidata.org/wiki/Q28227'},\n",
              " {'subject': 'Tunisia',\n",
              "  'predicate': 'http://www.w3.org/2002/07/owl/sameAs',\n",
              "  'object': 'https://www.wikidata.org/wiki/Q948'},\n",
              " {'subject': 'Marocco',\n",
              "  'predicate': 'http://www.w3.org/2002/07/owl/sameAs',\n",
              "  'object': 'https://www.wikidata.org/wiki/Q1028'},\n",
              " {'subject': 'Francia',\n",
              "  'predicate': 'http://www.w3.org/2002/07/owl/sameAs',\n",
              "  'object': 'https://www.wikidata.org/wiki/Q142'},\n",
              " {'subject': 'cereale',\n",
              "  'predicate': 'http://www.w3.org/2002/07/owl/sameAs',\n",
              "  'object': 'https://www.wikidata.org/wiki/Q12117'},\n",
              " {'subject': 'grano',\n",
              "  'predicate': 'http://www.w3.org/2002/07/owl/sameAs',\n",
              "  'object': 'https://www.wikidata.org/wiki/Q15645384'},\n",
              " {'subject': 'Amartya Sen',\n",
              "  'predicate': 'http://www.w3.org/2002/07/owl/sameAs',\n",
              "  'object': 'https://www.wikidata.org/wiki/Q132489'},\n",
              " {'subject': 'premio Nobel',\n",
              "  'predicate': 'http://www.w3.org/2002/07/owl/sameAs',\n",
              "  'object': 'https://www.wikidata.org/wiki/Q7191'},\n",
              " {'subject': 'Norman Borlaug',\n",
              "  'predicate': 'http://www.w3.org/2002/07/owl/sameAs',\n",
              "  'object': 'https://www.wikidata.org/wiki/Q154824'},\n",
              " {'subject': 'rivoluzione verde',\n",
              "  'predicate': 'http://www.w3.org/2002/07/owl/sameAs',\n",
              "  'object': 'https://www.wikidata.org/wiki/Q186050'},\n",
              " {'subject': 'rivolta del pane',\n",
              "  'predicate': 'http://sw-portal.deri.org/ontologies/swportal#hasLocation',\n",
              "  'object': 'Maghreb'},\n",
              " {'subject': '50 morti in Tunisia',\n",
              "  'predicate': 'http://www.europeana.eu/schemas/edm/country',\n",
              "  'object': 'Tunisia'},\n",
              " {'subject': 'Tunisia',\n",
              "  'predicate': 'http://purl.org/dc/elements/1.1/relation',\n",
              "  'object': 'Marocco'},\n",
              " {'subject': 'Marocco',\n",
              "  'predicate': 'http://purl.org/dc/elements/1.1/relation',\n",
              "  'object': 'Tunisia'},\n",
              " {'subject': 'Francia', 'predicate': 'Francia', 'object': 'Francia'},\n",
              " {'subject': 'cereale',\n",
              "  'predicate': 'cereali cereali cereali cereali cereali cereali cereali cereali cereali cereali cereali cereali cereali cereali cereali cereali cereali cereali cereali cereali cereali cereali cereali cereali cereali cereali cereali cereali cereali cereali cereali cereali cereali cereali cereali cereali cereali cereali cereali cereali cereali cereali cereali cereali cereali cereali cereali cereali cereali cereali cereali cereali cereali cereali cereali cereali cereali cereali cereali cereali cereali cereali cereali cereali cereali cereali cereali cereali cereali cereali cereali cereali cereali cereali cereali',\n",
              "  'object': 'grano'},\n",
              " {'subject': 'Francia', 'predicate': 'Francia', 'object': ''},\n",
              " {'subject': 'cereale',\n",
              "  'predicate': 'cereali cereali cereali cereali cereali cereali cereali cereali cereali cereali cereali cereali cereali cereali cereali cereali cereali cereali cereali cereali cereali cereali cereali cereali cereali cereali cereali cereali cereali cereali cereali cereali cereali cereali cereali cereali cereali cereali cereali cereali cereali cereali cereali cereali cereali cereali cereali cereali cereali cereali cereali cereali cereali cereali cereali cereali cereali cereali cereali cereali cereali cereali cereali cereali cereali cereali cereali cereali cereali cereali cereali cereali cereali cereali',\n",
              "  'object': 'grano'},\n",
              " {'subject': 'Amartya Sen',\n",
              "  'predicate': 'https://w3id.org/bot#adjacentElement',\n",
              "  'object': 'premio Nobel'},\n",
              " {'subject': 'Amartya Sen',\n",
              "  'predicate': 'https://w3id.org/bot#adjacentElement',\n",
              "  'object': 'Università di Firenze Università di Firenze Università di Firenze Università di Firenze Università Università di Firenze Università Università di Firenze Università Università di Firenze Università Università Università di Firenze Università Università Università di Firenze Università Università Università di Firenze Università Università Università di Firenze Università Università Università Università di Firenze Università Università Università Università di Firenze Università Università Università Università di Firenze Università Università Università Università di Firenze Università Università Università Università di Firenze Università Università Università Università di Firenze Università Università Università Università Università di Firenze Università Università Università Università Università di Firenze Università Università Università Università Università di Firenze Università Università Università Università Università di Firenze Università Università Università Università Università di Firenze Università Università Università Università Università di Firenze Università Università Università Università Università di Firenze Università Università Università Università Università di Firenze Università Università Università Università di Firenze Università Università Università'},\n",
              " {'subject': 'Amartya Sen',\n",
              "  'predicate': 'https://w3id.org/bot#adjacentElement',\n",
              "  'object': 'Università di Firenze Università di Firenze Università di Firenze Università di Firenze Università Università di Firenze Università Università di Firenze Università Università di Firenze Università Università Università di Firenze Università Università Università di Firenze Università Università Università di Firenze Università Università Università di Firenze Università Università Università Università di Firenze Università Università Università Università di Firenze Università Università Università Università di Firenze Università Università Università Università di Firenze Università Università Università Università di Firenze Università Università Università Università Università di Firenze Università Università Università Università Università di Firenze Università Università Università Università Università di Firenze Università Università Università Università Università di Firenze Università Università Università Università Università di Firenze Università Università Università Università Università di Firenze Università Università Università Università Università di Firenze Università Università Università Università Università di Firenze Università Università Università Università Università di Firenze Università Università Università Università Università di Firenze Università'},\n",
              " {'subject': 'Amartya Sen',\n",
              "  'predicate': 'https://w3id.org/bot#adjacentElement',\n",
              "  'object': 'Università di Firenze Università di Firenze Università di Firenze Università di Firenze Università Università di Firenze Università Università di Firenze Università Università di Firenze Università Università Università di Firenze Università Università Università di Firenze Università Università Università di Firenze Università Università Università di Firenze Università Università Università Università di Firenze Università Università Università Università di Firenze Università Università Università Università di Firenze Università Università Università Università di Firenze Università Università Università Università di Firenze Università Università Università Università Università di Firenze Università Università Università Università Università di Firenze Università Università Università Università Università di Firenze Università Università Università Università Università di Firenze Università Università Università Università Università di Firenze Università Università Università Università Università di Firenze Università Università Università Università Università di Firenze Università Università Università Università Università di Firenze Università Università Università Università Università di Firenze Università Università Università Università Università Università di Firenze'},\n",
              " {'subject': 'Norman Borlaug',\n",
              "  'predicate': 'Norman Borlaug',\n",
              "  'object': 'Rivoluzione verde.'},\n",
              " {'subject': 'Norman Borlaug',\n",
              "  'predicate': 'Norman Borlaug',\n",
              "  'object': 'Norman Borlaug'},\n",
              " {'subject': 'Norman Borlaug',\n",
              "  'predicate': 'Norman Borlaug',\n",
              "  'object': 'rivoluzione verde'},\n",
              " {'subject': 'Norman Borlaug',\n",
              "  'predicate': 'Rivolu',\n",
              "  'object': 'Norman Borlaug'},\n",
              " {'subject': 'Norman Borlaug',\n",
              "  'predicate': 'Norman Bor',\n",
              "  'object': 'Norman Borlaug'}]"
            ]
          },
          "metadata": {},
          "execution_count": 18
        }
      ]
    },
    {
      "cell_type": "markdown",
      "source": [
        "Tryout on a group of sentences, instead of the full article"
      ],
      "metadata": {
        "id": "d0SfxQBvSY2F"
      }
    },
    {
      "cell_type": "code",
      "source": [
        "import nltk\n",
        "nltk.download('punkt')\n",
        "from nltk.tokenize import sent_tokenize"
      ],
      "metadata": {
        "colab": {
          "base_uri": "https://localhost:8080/"
        },
        "id": "HK2blwJDBo3n",
        "outputId": "fcc7b9d3-4d78-4381-c00f-3277da8dec35"
      },
      "execution_count": null,
      "outputs": [
        {
          "output_type": "stream",
          "name": "stderr",
          "text": [
            "[nltk_data] Downloading package punkt to /root/nltk_data...\n",
            "[nltk_data]   Unzipping tokenizers/punkt.zip.\n"
          ]
        }
      ]
    },
    {
      "cell_type": "code",
      "source": [
        "first_try = dataset_list[1]\n",
        "text = first_try['article']"
      ],
      "metadata": {
        "id": "1pJXxCR_l04D"
      },
      "execution_count": null,
      "outputs": []
    },
    {
      "cell_type": "code",
      "source": [
        "sentences = sent_tokenize(text, language='italian')\n",
        "\n",
        "grouped_sentences = [' '.join(sentences[i:i+3]) for i in range(0, len(sentences), 3)]\n",
        "print(type(grouped_sentences))\n",
        "grouped_sentences[0]"
      ],
      "metadata": {
        "colab": {
          "base_uri": "https://localhost:8080/",
          "height": 88
        },
        "id": "Vu_WIKZGs9TT",
        "outputId": "da197866-2b14-4b48-fa06-7a172d52fee8"
      },
      "execution_count": null,
      "outputs": [
        {
          "output_type": "stream",
          "name": "stdout",
          "text": [
            "<class 'list'>\n"
          ]
        },
        {
          "output_type": "execute_result",
          "data": {
            "text/plain": [
              "'50 morti in Tunisia , scontri in Algeria e tensioni in Marocco , aumenti di prezzo per grano , olio , zucchero , oltre che del petrolio . La sommossa ricorda quella dell\\' assalto al forno delle grucce , di manzoniana memoria . È di nuovo la \" rivolta del pane \" , in tutto il Magreb .'"
            ],
            "application/vnd.google.colaboratory.intrinsic+json": {
              "type": "string"
            }
          },
          "metadata": {},
          "execution_count": 18
        }
      ]
    },
    {
      "cell_type": "code",
      "source": [
        "first_try = dataset_list[1]\n",
        "text = first_try['article']\n",
        "sentences = sent_tokenize(text, language='italian')\n",
        "grouped_sentences = [' '.join(sentences[i:i+3]) for i in range(0, len(sentences), 3)]\n",
        "example = grouped_sentences[0]\n",
        "kb = from_text_to_kb(example)\n",
        "final_triples = kb.convert_triples()\n",
        "final_triples"
      ],
      "metadata": {
        "colab": {
          "base_uri": "https://localhost:8080/"
        },
        "id": "MSmOE8lVN396",
        "outputId": "e0532711-00b4-440d-d590-6935a35b65ac"
      },
      "execution_count": null,
      "outputs": [
        {
          "output_type": "execute_result",
          "data": {
            "text/plain": [
              "[{'subject': 'rivolta del pane',\n",
              "  'predicate': 'http://www.w3.org/2002/07/owl/sameAs',\n",
              "  'object': 'https://www.wikidata.org/wiki/Q5465517'},\n",
              " {'subject': 'Maghreb',\n",
              "  'predicate': 'http://www.w3.org/2002/07/owl/sameAs',\n",
              "  'object': 'https://www.wikidata.org/wiki/Q28227'},\n",
              " {'subject': 'Tunisia',\n",
              "  'predicate': 'http://www.w3.org/2002/07/owl/sameAs',\n",
              "  'object': 'https://www.wikidata.org/wiki/Q948'},\n",
              " {'subject': 'Marocco',\n",
              "  'predicate': 'http://www.w3.org/2002/07/owl/sameAs',\n",
              "  'object': 'https://www.wikidata.org/wiki/Q1028'},\n",
              " {'subject': 'rivolta del pane',\n",
              "  'predicate': 'http://vocab.resc.info/communication#incidentLocation',\n",
              "  'object': 'Maghreb'},\n",
              " {'subject': 'Tunisia',\n",
              "  'predicate': 'http://purl.org/dc/elements/1.1/relation',\n",
              "  'object': 'Marocco'},\n",
              " {'subject': 'Marocco',\n",
              "  'predicate': 'http://purl.org/dc/elements/1.1/relation',\n",
              "  'object': 'Tunisia'},\n",
              " {'subject': '50 morti in Tunisia',\n",
              "  'predicate': 'http://www.europeana.eu/schemas/edm/country',\n",
              "  'object': 'Tunisia'}]"
            ]
          },
          "metadata": {},
          "execution_count": 19
        }
      ]
    },
    {
      "cell_type": "code",
      "source": [
        "rdf_prefixes = kb.rdf_extraction()\n",
        "rdf_prefixes\n",
        "\n",
        "# una lista per vocabulary prefixes perché così quando posso accedere al prefix da uri diversi collezionati da tutto l'articolo\n",
        "# un dict per prefixed names perché così quando devo creare l'rdf posso usare direttamente la proprietà corretta che corrisponde all'uri che ho nella tripla\n",
        "\n",
        "# perché non creo direttamente l'rdf?\n",
        "# perché triples formato più versatil (è già json pronto per altri tipi di grafi)\n",
        "# tra l'altro facciamo l'esperimento di caricare il formato json-ld in apache jena\n",
        "# invece di rdf"
      ],
      "metadata": {
        "colab": {
          "base_uri": "https://localhost:8080/"
        },
        "id": "LULRvVumriLf",
        "outputId": "720799ce-b7c4-4595-cb8c-0d620c1c53de"
      },
      "execution_count": null,
      "outputs": [
        {
          "output_type": "execute_result",
          "data": {
            "text/plain": [
              "{'vocabulary_prefixes': {'swpo': ['http://sw-portal.deri.org/ontologies/swportal#hasLocation'],\n",
              "  'dce': ['http://purl.org/dc/elements/1.1/relation'],\n",
              "  'edm': ['http://www.europeana.eu/schemas/edm/country']},\n",
              " 'prefixed_names': {'swpo:hasLocation': 'http://sw-portal.deri.org/ontologies/swportal#hasLocation',\n",
              "  'dce:relation': 'http://purl.org/dc/elements/1.1/relation',\n",
              "  'edm:country': 'http://www.europeana.eu/schemas/edm/country'}}"
            ]
          },
          "metadata": {},
          "execution_count": 23
        }
      ]
    },
    {
      "cell_type": "code",
      "source": [
        "print(type(rdf_prefixes))"
      ],
      "metadata": {
        "colab": {
          "base_uri": "https://localhost:8080/"
        },
        "id": "caZa2rY55TaW",
        "outputId": "a85066ab-8185-4724-b5ad-73556dd18b79"
      },
      "execution_count": null,
      "outputs": [
        {
          "output_type": "stream",
          "name": "stdout",
          "text": [
            "<class 'dict'>\n"
          ]
        }
      ]
    },
    {
      "cell_type": "markdown",
      "source": [
        "Tryout on a full article with the method that groups sentences to ease the process"
      ],
      "metadata": {
        "id": "4meY72qlBYOZ"
      }
    },
    {
      "cell_type": "code",
      "source": [
        "import json"
      ],
      "metadata": {
        "id": "m2oLlrDazB5C"
      },
      "execution_count": null,
      "outputs": []
    },
    {
      "cell_type": "code",
      "source": [
        "triples = []\n",
        "\n",
        "article_dict = dataset_list[1]\n",
        "text = article_dict['article']\n",
        "sentences = sent_tokenize(text, language='italian')\n",
        "grouped_sentences = [' '.join(sentences[i:i+3]) for i in range(0, len(sentences), 3)]\n",
        "for j in range(len(grouped_sentences)):\n",
        "    little_group = grouped_sentences[j]\n",
        "    kb = from_text_to_kb(little_group)\n",
        "    article_triples = kb.convert_triples()\n",
        "    triples.append(article_triples)\n",
        "\n",
        "triples"
      ],
      "metadata": {
        "colab": {
          "base_uri": "https://localhost:8080/"
        },
        "id": "XTLLX6VfBY-F",
        "outputId": "b63da3a9-a61e-4cde-b5d3-42fcc726b0b0"
      },
      "execution_count": null,
      "outputs": [
        {
          "output_type": "execute_result",
          "data": {
            "text/plain": [
              "[[{'subject': 'rivolta del pane',\n",
              "   'predicate': 'http://www.w3.org/2002/07/owl/sameAs',\n",
              "   'object': 'https://www.wikidata.org/wiki/Q5465517'},\n",
              "  {'subject': 'Maghreb',\n",
              "   'predicate': 'http://www.w3.org/2002/07/owl/sameAs',\n",
              "   'object': 'https://www.wikidata.org/wiki/Q28227'},\n",
              "  {'subject': 'Tunisia',\n",
              "   'predicate': 'http://www.w3.org/2002/07/owl/sameAs',\n",
              "   'object': 'https://www.wikidata.org/wiki/Q948'},\n",
              "  {'subject': 'Marocco',\n",
              "   'predicate': 'http://www.w3.org/2002/07/owl/sameAs',\n",
              "   'object': 'https://www.wikidata.org/wiki/Q1028'},\n",
              "  {'subject': 'rivolta del pane',\n",
              "   'predicate': 'http://vocab.resc.info/communication#incidentLocation',\n",
              "   'object': 'Maghreb'},\n",
              "  {'subject': 'Tunisia',\n",
              "   'predicate': 'http://purl.org/dc/elements/1.1/relation',\n",
              "   'object': 'Marocco'},\n",
              "  {'subject': 'Marocco',\n",
              "   'predicate': 'http://purl.org/dc/elements/1.1/relation',\n",
              "   'object': 'Tunisia'},\n",
              "  {'subject': '50 morti in Tunisia',\n",
              "   'predicate': 'http://www.europeana.eu/schemas/edm/country',\n",
              "   'object': 'Tunisia'}],\n",
              " [{'subject': 'Francia',\n",
              "   'predicate': 'http://www.w3.org/2002/07/owl/sameAs',\n",
              "   'object': 'https://www.wikidata.org/wiki/Q142'},\n",
              "  {'subject': 'Paesi Bassi',\n",
              "   'predicate': 'http://www.w3.org/2002/07/owl/sameAs',\n",
              "   'object': 'https://www.wikidata.org/wiki/Q55'},\n",
              "  {'subject': 'paese',\n",
              "   'predicate': 'http://www.w3.org/2002/07/owl/sameAs',\n",
              "   'object': 'https://www.wikidata.org/wiki/Q6256'},\n",
              "  {'subject': 'grano',\n",
              "   'predicate': 'http://www.w3.org/2002/07/owl/sameAs',\n",
              "   'object': 'https://www.wikidata.org/wiki/Q15645384'},\n",
              "  {'subject': 'cereale',\n",
              "   'predicate': 'http://www.w3.org/2002/07/owl/sameAs',\n",
              "   'object': 'https://www.wikidata.org/wiki/Q12117'},\n",
              "  {'subject': 'Francia',\n",
              "   'predicate': 'http://lemon-model.net/lemon#isA',\n",
              "   'object': 'paesi produttori'},\n",
              "  {'subject': 'Francia',\n",
              "   'predicate': 'http://lemon-model.net/lemon#isA',\n",
              "   'object': 'Paesi Bassi'},\n",
              "  {'subject': 'Francia',\n",
              "   'predicate': 'http://lemon-model.net/lemon#isA',\n",
              "   'object': 'paese'},\n",
              "  {'subject': 'grano',\n",
              "   'predicate': 'http://premon.fbk.eu/ontology/vn#subclassOf',\n",
              "   'object': 'cereale'},\n",
              "  {'subject': 'Francia',\n",
              "   'predicate': 'http://lemon-model.net/lemon#isA',\n",
              "   'object': 'paesi produttori ed esportatori di grano'}],\n",
              " [{'subject': 'Amartya Sen',\n",
              "   'predicate': 'http://www.w3.org/2002/07/owl/sameAs',\n",
              "   'object': 'https://www.wikidata.org/wiki/Q132489'},\n",
              "  {'subject': 'premio Nobel',\n",
              "   'predicate': 'http://www.w3.org/2002/07/owl/sameAs',\n",
              "   'object': 'https://www.wikidata.org/wiki/Q7191'},\n",
              "  {'subject': 'laurea honoris causa',\n",
              "   'predicate': 'http://www.w3.org/2002/07/owl/sameAs',\n",
              "   'object': 'https://www.wikidata.org/wiki/Q209896'},\n",
              "  {'subject': 'Università degli Studi di Firenze',\n",
              "   'predicate': 'http://www.w3.org/2002/07/owl/sameAs',\n",
              "   'object': 'https://www.wikidata.org/wiki/Q820887'},\n",
              "  {'subject': 'Amartya Sen',\n",
              "   'predicate': 'http://dbpedia.org/ontology/award',\n",
              "   'object': 'premio Nobel'},\n",
              "  {'subject': 'laurea honoris causa',\n",
              "   'predicate': 'http://schema.org/winner',\n",
              "   'object': 'Amartya Sen'},\n",
              "  {'subject': 'Amartya Sen',\n",
              "   'predicate': 'http://www.identity.org/ontologies/identity.owl#employer',\n",
              "   'object': 'Università degli Studi di Firenze'}],\n",
              " [{'subject': 'Norman Borlaug',\n",
              "   'predicate': 'http://www.w3.org/2002/07/owl/sameAs',\n",
              "   'object': 'https://www.wikidata.org/wiki/Q154824'},\n",
              "  {'subject': 'rivoluzione verde',\n",
              "   'predicate': 'http://www.w3.org/2002/07/owl/sameAs',\n",
              "   'object': 'https://www.wikidata.org/wiki/Q186050'},\n",
              "  {'subject': 'Nazareno Strampelli',\n",
              "   'predicate': 'http://www.w3.org/2002/07/owl/sameAs',\n",
              "   'object': 'https://www.wikidata.org/wiki/Q1224426'},\n",
              "  {'subject': 'Italia',\n",
              "   'predicate': 'http://www.w3.org/2002/07/owl/sameAs',\n",
              "   'object': 'https://www.wikidata.org/wiki/Q38'},\n",
              "  {'subject': 'Norman Borlaug',\n",
              "   'predicate': 'http://simile.mit.edu/2003/10/ontologies/vraCore3#movement',\n",
              "   'object': 'rivoluzione verde'},\n",
              "  {'subject': 'Norman Borlaug',\n",
              "   'predicate': 'http://vocab.getty.edu/ontology#tgn3317_member_of',\n",
              "   'object': 'rivoluzione verde'},\n",
              "  {'subject': 'Nazareno Strampelli',\n",
              "   'predicate': 'http://contextus.net/ontology/ontomedia/ext/common/being#place_of_citizenship',\n",
              "   'object': 'Italia'}]]"
            ]
          },
          "metadata": {},
          "execution_count": 20
        }
      ]
    },
    {
      "cell_type": "markdown",
      "source": [
        "# Create triples for two example articles"
      ],
      "metadata": {
        "id": "9C55PfFofbxu"
      }
    },
    {
      "cell_type": "code",
      "source": [
        "import nltk\n",
        "nltk.download('punkt')\n",
        "from nltk.tokenize import sent_tokenize\n",
        "\n",
        "def create_triples_example(dataset_example):\n",
        "    triples = []\n",
        "    prefixes_dict = {'vocabulary_prefixes': {}, 'prefixed_names': {}}\n",
        "\n",
        "    article_dict = dataset_example\n",
        "    text = article_dict['article']\n",
        "    sentences = sent_tokenize(text, language='italian')\n",
        "    grouped_sentences = [' '.join(sentences[i:i+3]) for i in range(0, len(sentences), 3)]\n",
        "\n",
        "    for j in range(len(grouped_sentences)):\n",
        "        little_group = grouped_sentences[j]\n",
        "        kb = from_text_to_kb(little_group)\n",
        "\n",
        "        article_triples = kb.convert_triples()\n",
        "        triples.append(article_triples)\n",
        "\n",
        "        rdf_prefixes = kb.rdf_extraction()\n",
        "\n",
        "        # Update nested dictionaries manually\n",
        "        for key in rdf_prefixes:\n",
        "            if key in prefixes_dict and isinstance(prefixes_dict[key], dict):\n",
        "                prefixes_dict[key].update(rdf_prefixes[key])\n",
        "            else:\n",
        "                prefixes_dict[key] = rdf_prefixes[key]\n",
        "\n",
        "    return triples, prefixes_dict"
      ],
      "metadata": {
        "colab": {
          "base_uri": "https://localhost:8080/"
        },
        "id": "so3Uqa0cfbXs",
        "outputId": "a55cdbb5-49d4-459d-df65-f08691d50323"
      },
      "execution_count": null,
      "outputs": [
        {
          "output_type": "stream",
          "name": "stderr",
          "text": [
            "[nltk_data] Downloading package punkt to /root/nltk_data...\n",
            "[nltk_data]   Package punkt is already up-to-date!\n"
          ]
        }
      ]
    },
    {
      "cell_type": "code",
      "source": [
        "example_triples1, example_RDFprefixes1 = create_triples_example(dataset_list[1])\n",
        "example_triples2, example_RDFprefixes2 = create_triples_example(dataset_list[5])"
      ],
      "metadata": {
        "id": "yqf2Iu-uf2QZ"
      },
      "execution_count": null,
      "outputs": []
    },
    {
      "cell_type": "code",
      "source": [
        "example_RDFprefixes1"
      ],
      "metadata": {
        "colab": {
          "base_uri": "https://localhost:8080/"
        },
        "id": "fS9gV88PB3qc",
        "outputId": "94d2d5b6-b92b-4fac-a21a-588227d79746"
      },
      "execution_count": null,
      "outputs": [
        {
          "output_type": "execute_result",
          "data": {
            "text/plain": [
              "{'vocabulary_prefixes': {'swpo': ['http://sw-portal.deri.org/ontologies/swportal#hasLocation'],\n",
              "  'dce': ['http://purl.org/dc/elements/1.1/relation'],\n",
              "  'edm': ['http://www.europeana.eu/schemas/edm/country'],\n",
              "  'lemon': ['http://lemon-model.net/lemon#isA'],\n",
              "  'pmovn': ['http://premon.fbk.eu/ontology/vn#subclassOf'],\n",
              "  'dbpedia-owl': ['http://dbpedia.org/ontology/award'],\n",
              "  'schema': ['http://schema.org/winner'],\n",
              "  'rdarel2': ['http://metadataregistry.org/uri/schema/RDARelationshipsGR2/employer'],\n",
              "  'vra': ['http://simile.mit.edu/2003/10/ontologies/vraCore3#movement'],\n",
              "  'gvp': ['http://vocab.getty.edu/ontology#tgn3317_member_of'],\n",
              "  'being': ['http://contextus.net/ontology/ontomedia/ext/common/being#place_of_citizenship']},\n",
              " 'prefixed_names': {'swpo:hasLocation': 'http://sw-portal.deri.org/ontologies/swportal#hasLocation',\n",
              "  'dce:relation': 'http://purl.org/dc/elements/1.1/relation',\n",
              "  'edm:country': 'http://www.europeana.eu/schemas/edm/country',\n",
              "  'lemon:isA': 'http://lemon-model.net/lemon#isA',\n",
              "  'pmovn:subclassOf': 'http://premon.fbk.eu/ontology/vn#subclassOf',\n",
              "  'dbpedia-owl:award': 'http://dbpedia.org/ontology/award',\n",
              "  'schema:winner': 'http://schema.org/winner',\n",
              "  'rdarel2:employer': 'http://metadataregistry.org/uri/schema/RDARelationshipsGR2/employer',\n",
              "  'vra:movement': 'http://simile.mit.edu/2003/10/ontologies/vraCore3#movement',\n",
              "  'gvp:tgn3317_member_of': 'http://vocab.getty.edu/ontology#tgn3317_member_of',\n",
              "  'being:place_of_citizenship': 'http://contextus.net/ontology/ontomedia/ext/common/being#place_of_citizenship'}}"
            ]
          },
          "metadata": {},
          "execution_count": 48
        }
      ]
    },
    {
      "cell_type": "code",
      "source": [
        "example_RDFprefixes2"
      ],
      "metadata": {
        "colab": {
          "base_uri": "https://localhost:8080/"
        },
        "id": "P45NauTyB6a9",
        "outputId": "31ad9160-fa08-40a8-f0ab-cd49efdba572"
      },
      "execution_count": null,
      "outputs": [
        {
          "output_type": "execute_result",
          "data": {
            "text/plain": [
              "{'vocabulary_prefixes': {'dbpedia-owl': ['http://dbpedia.org/ontology/subsidiary'],\n",
              "  'lemon': ['http://lemon-model.net/lemon#isA'],\n",
              "  'gvp': ['http://vocab.getty.edu/ontology#tgn3612_administrative_entity_for'],\n",
              "  'locah': ['http://data.archiveshub.ac.uk/def/item'],\n",
              "  'voag': ['http://voag.linkedmodel.org/voag#ownedBy'],\n",
              "  'ngeo': ['http://geovocab.org/geometry#partOf']},\n",
              " 'prefixed_names': {'dbpedia-owl:subsidiary': 'http://dbpedia.org/ontology/subsidiary',\n",
              "  'dbpedia-owl:different': 'http://dbpedia.org/ontology/different',\n",
              "  'lemon:isA': 'http://lemon-model.net/lemon#isA',\n",
              "  'gvp:tgn3612_administrative_entity_for': 'http://vocab.getty.edu/ontology#tgn3612_administrative_entity_for',\n",
              "  'locah:item': 'http://data.archiveshub.ac.uk/def/item',\n",
              "  'voag:ownedBy': 'http://voag.linkedmodel.org/voag#ownedBy',\n",
              "  'ngeo:partOf': 'http://geovocab.org/geometry#partOf'}}"
            ]
          },
          "metadata": {},
          "execution_count": 49
        }
      ]
    },
    {
      "cell_type": "markdown",
      "source": [
        "Save the triples to an external json file"
      ],
      "metadata": {
        "id": "P5xtamLsrO2p"
      }
    },
    {
      "cell_type": "code",
      "source": [
        "example_triples = example_triples1 + example_triples2"
      ],
      "metadata": {
        "id": "yTio9XIN5jet"
      },
      "execution_count": null,
      "outputs": []
    },
    {
      "cell_type": "code",
      "source": [
        "import json\n",
        "\n",
        "file_path = '/content/drive/MyDrive/Colab Notebooks/TESI/github/example_API_triples_nolabel.json'\n",
        "\n",
        "# Write to the JSON file in Google Drive\n",
        "with open(file_path, 'w') as file:\n",
        "    json.dump(example_triples, file, indent=4)"
      ],
      "metadata": {
        "id": "jkn60WLa6skq"
      },
      "execution_count": null,
      "outputs": []
    },
    {
      "cell_type": "markdown",
      "source": [
        "Save the RDF prefixes to an external json file"
      ],
      "metadata": {
        "id": "1qlgaiLtrRgi"
      }
    },
    {
      "cell_type": "code",
      "source": [
        "example_RDFprefixes1['vocabulary_prefixes']"
      ],
      "metadata": {
        "colab": {
          "base_uri": "https://localhost:8080/"
        },
        "id": "8zCzFwBQrBT1",
        "outputId": "fc0f7e91-b123-48fd-cfd8-e0378442495c"
      },
      "execution_count": null,
      "outputs": [
        {
          "output_type": "execute_result",
          "data": {
            "text/plain": [
              "{'swpo': ['http://sw-portal.deri.org/ontologies/swportal#hasLocation'],\n",
              " 'dce': ['http://purl.org/dc/elements/1.1/relation'],\n",
              " 'edm': ['http://www.europeana.eu/schemas/edm/country'],\n",
              " 'lemon': ['http://lemon-model.net/lemon#isA'],\n",
              " 'pmovn': ['http://premon.fbk.eu/ontology/vn#subclassOf'],\n",
              " 'dbpedia-owl': ['http://dbpedia.org/ontology/award'],\n",
              " 'schema': ['http://schema.org/winner'],\n",
              " 'rdarel2': ['http://metadataregistry.org/uri/schema/RDARelationshipsGR2/employer'],\n",
              " 'vra': ['http://simile.mit.edu/2003/10/ontologies/vraCore3#movement'],\n",
              " 'gvp': ['http://vocab.getty.edu/ontology#tgn3317_member_of'],\n",
              " 'being': ['http://contextus.net/ontology/ontomedia/ext/common/being#place_of_citizenship']}"
            ]
          },
          "metadata": {},
          "execution_count": 50
        }
      ]
    },
    {
      "cell_type": "code",
      "source": [
        "general_prefixes = {'vocabulary_prefixes': {}, 'prefixed_names': {}}\n",
        "\n",
        "general_prefixes['vocabulary_prefixes'] = {**example_RDFprefixes1['vocabulary_prefixes'], **example_RDFprefixes2['vocabulary_prefixes']}\n",
        "\n",
        "general_prefixes['prefixed_names'] = {**example_RDFprefixes1['prefixed_names'], **example_RDFprefixes2['prefixed_names']}\n",
        "\n",
        "general_prefixes"
      ],
      "metadata": {
        "colab": {
          "base_uri": "https://localhost:8080/"
        },
        "id": "PWG3SHe0qWJ6",
        "outputId": "82a4f797-5d9e-45e7-a24d-fa2cd0021408"
      },
      "execution_count": null,
      "outputs": [
        {
          "output_type": "execute_result",
          "data": {
            "text/plain": [
              "{'vocabulary_prefixes': {'swpo': ['http://sw-portal.deri.org/ontologies/swportal#hasLocation'],\n",
              "  'dce': ['http://purl.org/dc/elements/1.1/relation'],\n",
              "  'edm': ['http://www.europeana.eu/schemas/edm/country'],\n",
              "  'lemon': ['http://lemon-model.net/lemon#isA'],\n",
              "  'pmovn': ['http://premon.fbk.eu/ontology/vn#subclassOf'],\n",
              "  'dbpedia-owl': ['http://dbpedia.org/ontology/subsidiary'],\n",
              "  'schema': ['http://schema.org/winner'],\n",
              "  'rdarel2': ['http://metadataregistry.org/uri/schema/RDARelationshipsGR2/employer'],\n",
              "  'vra': ['http://simile.mit.edu/2003/10/ontologies/vraCore3#movement'],\n",
              "  'gvp': ['http://vocab.getty.edu/ontology#tgn3612_administrative_entity_for'],\n",
              "  'being': ['http://contextus.net/ontology/ontomedia/ext/common/being#place_of_citizenship'],\n",
              "  'locah': ['http://data.archiveshub.ac.uk/def/item'],\n",
              "  'voag': ['http://voag.linkedmodel.org/voag#ownedBy'],\n",
              "  'ngeo': ['http://geovocab.org/geometry#partOf']},\n",
              " 'prefixed_names': {'swpo:hasLocation': 'http://sw-portal.deri.org/ontologies/swportal#hasLocation',\n",
              "  'dce:relation': 'http://purl.org/dc/elements/1.1/relation',\n",
              "  'edm:country': 'http://www.europeana.eu/schemas/edm/country',\n",
              "  'lemon:isA': 'http://lemon-model.net/lemon#isA',\n",
              "  'pmovn:subclassOf': 'http://premon.fbk.eu/ontology/vn#subclassOf',\n",
              "  'dbpedia-owl:award': 'http://dbpedia.org/ontology/award',\n",
              "  'schema:winner': 'http://schema.org/winner',\n",
              "  'rdarel2:employer': 'http://metadataregistry.org/uri/schema/RDARelationshipsGR2/employer',\n",
              "  'vra:movement': 'http://simile.mit.edu/2003/10/ontologies/vraCore3#movement',\n",
              "  'gvp:tgn3317_member_of': 'http://vocab.getty.edu/ontology#tgn3317_member_of',\n",
              "  'being:place_of_citizenship': 'http://contextus.net/ontology/ontomedia/ext/common/being#place_of_citizenship',\n",
              "  'dbpedia-owl:subsidiary': 'http://dbpedia.org/ontology/subsidiary',\n",
              "  'dbpedia-owl:different': 'http://dbpedia.org/ontology/different',\n",
              "  'gvp:tgn3612_administrative_entity_for': 'http://vocab.getty.edu/ontology#tgn3612_administrative_entity_for',\n",
              "  'locah:item': 'http://data.archiveshub.ac.uk/def/item',\n",
              "  'voag:ownedBy': 'http://voag.linkedmodel.org/voag#ownedBy',\n",
              "  'ngeo:partOf': 'http://geovocab.org/geometry#partOf'}}"
            ]
          },
          "metadata": {},
          "execution_count": 51
        }
      ]
    },
    {
      "cell_type": "code",
      "source": [
        "example_rdf_prefixes =  '/content/drive/MyDrive/Colab Notebooks/TESI/github/example_rdf_prefixes.json'\n",
        "\n",
        "with open(example_rdf_prefixes, 'w') as json_file:\n",
        "    json.dump(general_prefixes, json_file, indent=4)"
      ],
      "metadata": {
        "id": "TLK9irntznKL"
      },
      "execution_count": null,
      "outputs": []
    },
    {
      "cell_type": "markdown",
      "source": [
        "Creating triples for the whole dataset - TO BE RUN (BUT IT TAKES TOO MUCH TIME!)"
      ],
      "metadata": {
        "id": "PF7aS9jsBaNu"
      }
    },
    {
      "cell_type": "code",
      "source": [
        "def generate_triples_labelled(dataset_list):\n",
        "\n",
        "    triples = []\n",
        "\n",
        "    for i in range(len(dataset_list)):\n",
        "        article_dict = dataset_list[i]\n",
        "        text = article_dict['article']\n",
        "        sentences = sent_tokenize(text, language='italian')\n",
        "        grouped_sentences = [' '.join(sentences[i:i+3]) for i in range(0, len(sentences), 3)]\n",
        "        for j in range(len(grouped_sentences)):\n",
        "            little_group = grouped_sentences[j]\n",
        "            kb = from_text_to_kb(little_group)\n",
        "            article_triples = kb.convertJSON()\n",
        "            triples.append(article_triples)\n",
        "\n",
        "    return triples"
      ],
      "metadata": {
        "id": "9u-Hg-jq4C2N"
      },
      "execution_count": null,
      "outputs": []
    },
    {
      "cell_type": "code",
      "source": [
        "triples = generate_triples_labelled(dataset_list)"
      ],
      "metadata": {
        "colab": {
          "base_uri": "https://localhost:8080/",
          "height": 1000
        },
        "id": "1COUCirq6Qq0",
        "outputId": "3bf06edf-214f-4548-bd4e-cb1ebdc6ea68"
      },
      "execution_count": null,
      "outputs": [
        {
          "output_type": "stream",
          "name": "stderr",
          "text": [
            "ERROR:root:Internal Python error in the inspect module.\n",
            "Below is the traceback from this internal error.\n",
            "\n"
          ]
        },
        {
          "output_type": "stream",
          "name": "stdout",
          "text": [
            "Traceback (most recent call last):\n",
            "  File \"/usr/local/lib/python3.10/dist-packages/IPython/core/interactiveshell.py\", line 3553, in run_code\n",
            "    exec(code_obj, self.user_global_ns, self.user_ns)\n",
            "  File \"<ipython-input-24-db8ccafb56bb>\", line 1, in <cell line: 1>\n",
            "    triples = generate_triples_labelled(dataset_list)\n",
            "  File \"<ipython-input-23-58f64399197b>\", line 12, in generate_triples_labelled\n",
            "    kb = from_text_to_kb(little_group)\n",
            "  File \"<ipython-input-12-224df637e982>\", line 61, in from_text_to_kb\n",
            "    kb.add_relation(relation)\n",
            "  File \"<ipython-input-13-e98ff237c9ee>\", line 58, in add_relation\n",
            "    entities = [self.get_wikidata_data(ent) for ent in candidate_entities]\n",
            "  File \"<ipython-input-13-e98ff237c9ee>\", line 58, in <listcomp>\n",
            "    entities = [self.get_wikidata_data(ent) for ent in candidate_entities]\n",
            "  File \"<ipython-input-13-e98ff237c9ee>\", line 41, in get_wikidata_data\n",
            "    wikidata_entity = client.get(entity_id, load=True)\n",
            "  File \"/usr/local/lib/python3.10/dist-packages/wikidata/client.py\", line 148, in get\n",
            "    entity.load()\n",
            "  File \"/usr/local/lib/python3.10/dist-packages/wikidata/entity.py\", line 280, in load\n",
            "    result = self.client.request(url)\n",
            "  File \"/usr/local/lib/python3.10/dist-packages/wikidata/client.py\", line 202, in request\n",
            "    response = self.opener.open(url)\n",
            "  File \"/usr/lib/python3.10/urllib/request.py\", line 519, in open\n",
            "    response = self._open(req, data)\n",
            "  File \"/usr/lib/python3.10/urllib/request.py\", line 536, in _open\n",
            "    result = self._call_chain(self.handle_open, protocol, protocol +\n",
            "  File \"/usr/lib/python3.10/urllib/request.py\", line 496, in _call_chain\n",
            "    result = func(*args)\n",
            "  File \"/usr/lib/python3.10/urllib/request.py\", line 1391, in https_open\n",
            "    return self.do_open(http.client.HTTPSConnection, req,\n",
            "  File \"/usr/lib/python3.10/urllib/request.py\", line 1352, in do_open\n",
            "    r = h.getresponse()\n",
            "  File \"/usr/lib/python3.10/http/client.py\", line 1375, in getresponse\n",
            "    response.begin()\n",
            "  File \"/usr/lib/python3.10/http/client.py\", line 318, in begin\n",
            "    version, status, reason = self._read_status()\n",
            "  File \"/usr/lib/python3.10/http/client.py\", line 279, in _read_status\n",
            "    line = str(self.fp.readline(_MAXLINE + 1), \"iso-8859-1\")\n",
            "  File \"/usr/lib/python3.10/socket.py\", line 705, in readinto\n",
            "    return self._sock.recv_into(b)\n",
            "  File \"/usr/lib/python3.10/ssl.py\", line 1303, in recv_into\n",
            "    return self.read(nbytes, buffer)\n",
            "  File \"/usr/lib/python3.10/ssl.py\", line 1159, in read\n",
            "    return self._sslobj.read(len, buffer)\n",
            "KeyboardInterrupt\n",
            "\n",
            "During handling of the above exception, another exception occurred:\n",
            "\n",
            "Traceback (most recent call last):\n",
            "  File \"/usr/local/lib/python3.10/dist-packages/IPython/core/interactiveshell.py\", line 2099, in showtraceback\n",
            "    stb = value._render_traceback_()\n",
            "AttributeError: 'KeyboardInterrupt' object has no attribute '_render_traceback_'\n",
            "\n",
            "During handling of the above exception, another exception occurred:\n",
            "\n",
            "Traceback (most recent call last):\n",
            "  File \"/usr/local/lib/python3.10/dist-packages/IPython/core/ultratb.py\", line 1101, in get_records\n",
            "    return _fixed_getinnerframes(etb, number_of_lines_of_context, tb_offset)\n",
            "  File \"/usr/local/lib/python3.10/dist-packages/IPython/core/ultratb.py\", line 248, in wrapped\n",
            "    return f(*args, **kwargs)\n",
            "  File \"/usr/local/lib/python3.10/dist-packages/IPython/core/ultratb.py\", line 281, in _fixed_getinnerframes\n",
            "    records = fix_frame_records_filenames(inspect.getinnerframes(etb, context))\n",
            "  File \"/usr/lib/python3.10/inspect.py\", line 1662, in getinnerframes\n",
            "    frameinfo = (tb.tb_frame,) + getframeinfo(tb, context)\n",
            "  File \"/usr/lib/python3.10/inspect.py\", line 1620, in getframeinfo\n",
            "    filename = getsourcefile(frame) or getfile(frame)\n",
            "  File \"/usr/lib/python3.10/inspect.py\", line 829, in getsourcefile\n",
            "    module = getmodule(object, filename)\n",
            "  File \"/usr/lib/python3.10/inspect.py\", line 878, in getmodule\n",
            "    os.path.realpath(f)] = module.__name__\n",
            "  File \"/usr/lib/python3.10/posixpath.py\", line 396, in realpath\n",
            "    path, ok = _joinrealpath(filename[:0], filename, strict, {})\n",
            "  File \"/usr/lib/python3.10/posixpath.py\", line 431, in _joinrealpath\n",
            "    st = os.lstat(newpath)\n",
            "KeyboardInterrupt\n"
          ]
        },
        {
          "output_type": "error",
          "ename": "TypeError",
          "evalue": "object of type 'NoneType' has no len()",
          "traceback": [
            "\u001b[0;31m---------------------------------------------------------------------------\u001b[0m",
            "\u001b[0;31mKeyboardInterrupt\u001b[0m                         Traceback (most recent call last)",
            "    \u001b[0;31m[... skipping hidden 1 frame]\u001b[0m\n",
            "\u001b[0;32m<ipython-input-24-db8ccafb56bb>\u001b[0m in \u001b[0;36m<cell line: 1>\u001b[0;34m()\u001b[0m\n\u001b[0;32m----> 1\u001b[0;31m \u001b[0mtriples\u001b[0m \u001b[0;34m=\u001b[0m \u001b[0mgenerate_triples_labelled\u001b[0m\u001b[0;34m(\u001b[0m\u001b[0mdataset_list\u001b[0m\u001b[0;34m)\u001b[0m\u001b[0;34m\u001b[0m\u001b[0;34m\u001b[0m\u001b[0m\n\u001b[0m",
            "\u001b[0;32m<ipython-input-23-58f64399197b>\u001b[0m in \u001b[0;36mgenerate_triples_labelled\u001b[0;34m(dataset_list)\u001b[0m\n\u001b[1;32m     11\u001b[0m             \u001b[0mlittle_group\u001b[0m \u001b[0;34m=\u001b[0m \u001b[0mgrouped_sentences\u001b[0m\u001b[0;34m[\u001b[0m\u001b[0mj\u001b[0m\u001b[0;34m]\u001b[0m\u001b[0;34m\u001b[0m\u001b[0;34m\u001b[0m\u001b[0m\n\u001b[0;32m---> 12\u001b[0;31m             \u001b[0mkb\u001b[0m \u001b[0;34m=\u001b[0m \u001b[0mfrom_text_to_kb\u001b[0m\u001b[0;34m(\u001b[0m\u001b[0mlittle_group\u001b[0m\u001b[0;34m)\u001b[0m\u001b[0;34m\u001b[0m\u001b[0;34m\u001b[0m\u001b[0m\n\u001b[0m\u001b[1;32m     13\u001b[0m             \u001b[0marticle_triples\u001b[0m \u001b[0;34m=\u001b[0m \u001b[0mkb\u001b[0m\u001b[0;34m.\u001b[0m\u001b[0mconvertJSON\u001b[0m\u001b[0;34m(\u001b[0m\u001b[0;34m)\u001b[0m\u001b[0;34m\u001b[0m\u001b[0;34m\u001b[0m\u001b[0m\n",
            "\u001b[0;32m<ipython-input-12-224df637e982>\u001b[0m in \u001b[0;36mfrom_text_to_kb\u001b[0;34m(text, span_length, verbose)\u001b[0m\n\u001b[1;32m     60\u001b[0m             }\n\u001b[0;32m---> 61\u001b[0;31m             \u001b[0mkb\u001b[0m\u001b[0;34m.\u001b[0m\u001b[0madd_relation\u001b[0m\u001b[0;34m(\u001b[0m\u001b[0mrelation\u001b[0m\u001b[0;34m)\u001b[0m\u001b[0;34m\u001b[0m\u001b[0;34m\u001b[0m\u001b[0m\n\u001b[0m\u001b[1;32m     62\u001b[0m         \u001b[0mi\u001b[0m \u001b[0;34m+=\u001b[0m \u001b[0;36m1\u001b[0m\u001b[0;34m\u001b[0m\u001b[0;34m\u001b[0m\u001b[0m\n",
            "\u001b[0;32m<ipython-input-13-e98ff237c9ee>\u001b[0m in \u001b[0;36madd_relation\u001b[0;34m(self, r)\u001b[0m\n\u001b[1;32m     57\u001b[0m         \u001b[0mcandidate_entities\u001b[0m \u001b[0;34m=\u001b[0m \u001b[0;34m[\u001b[0m\u001b[0mr\u001b[0m\u001b[0;34m[\u001b[0m\u001b[0;34m\"head\"\u001b[0m\u001b[0;34m]\u001b[0m\u001b[0;34m,\u001b[0m \u001b[0mr\u001b[0m\u001b[0;34m[\u001b[0m\u001b[0;34m\"tail\"\u001b[0m\u001b[0;34m]\u001b[0m\u001b[0;34m]\u001b[0m\u001b[0;34m\u001b[0m\u001b[0;34m\u001b[0m\u001b[0m\n\u001b[0;32m---> 58\u001b[0;31m         \u001b[0mentities\u001b[0m \u001b[0;34m=\u001b[0m \u001b[0;34m[\u001b[0m\u001b[0mself\u001b[0m\u001b[0;34m.\u001b[0m\u001b[0mget_wikidata_data\u001b[0m\u001b[0;34m(\u001b[0m\u001b[0ment\u001b[0m\u001b[0;34m)\u001b[0m \u001b[0;32mfor\u001b[0m \u001b[0ment\u001b[0m \u001b[0;32min\u001b[0m \u001b[0mcandidate_entities\u001b[0m\u001b[0;34m]\u001b[0m\u001b[0;34m\u001b[0m\u001b[0;34m\u001b[0m\u001b[0m\n\u001b[0m\u001b[1;32m     59\u001b[0m \u001b[0;34m\u001b[0m\u001b[0m\n",
            "\u001b[0;32m<ipython-input-13-e98ff237c9ee>\u001b[0m in \u001b[0;36m<listcomp>\u001b[0;34m(.0)\u001b[0m\n\u001b[1;32m     57\u001b[0m         \u001b[0mcandidate_entities\u001b[0m \u001b[0;34m=\u001b[0m \u001b[0;34m[\u001b[0m\u001b[0mr\u001b[0m\u001b[0;34m[\u001b[0m\u001b[0;34m\"head\"\u001b[0m\u001b[0;34m]\u001b[0m\u001b[0;34m,\u001b[0m \u001b[0mr\u001b[0m\u001b[0;34m[\u001b[0m\u001b[0;34m\"tail\"\u001b[0m\u001b[0;34m]\u001b[0m\u001b[0;34m]\u001b[0m\u001b[0;34m\u001b[0m\u001b[0;34m\u001b[0m\u001b[0m\n\u001b[0;32m---> 58\u001b[0;31m         \u001b[0mentities\u001b[0m \u001b[0;34m=\u001b[0m \u001b[0;34m[\u001b[0m\u001b[0mself\u001b[0m\u001b[0;34m.\u001b[0m\u001b[0mget_wikidata_data\u001b[0m\u001b[0;34m(\u001b[0m\u001b[0ment\u001b[0m\u001b[0;34m)\u001b[0m \u001b[0;32mfor\u001b[0m \u001b[0ment\u001b[0m \u001b[0;32min\u001b[0m \u001b[0mcandidate_entities\u001b[0m\u001b[0;34m]\u001b[0m\u001b[0;34m\u001b[0m\u001b[0;34m\u001b[0m\u001b[0m\n\u001b[0m\u001b[1;32m     59\u001b[0m \u001b[0;34m\u001b[0m\u001b[0m\n",
            "\u001b[0;32m<ipython-input-13-e98ff237c9ee>\u001b[0m in \u001b[0;36mget_wikidata_data\u001b[0;34m(self, candidate_entity, language)\u001b[0m\n\u001b[1;32m     40\u001b[0m             \u001b[0mentity_id\u001b[0m \u001b[0;34m=\u001b[0m \u001b[0msearch_results\u001b[0m\u001b[0;34m[\u001b[0m\u001b[0;34m'search'\u001b[0m\u001b[0;34m]\u001b[0m\u001b[0;34m[\u001b[0m\u001b[0;36m0\u001b[0m\u001b[0;34m]\u001b[0m\u001b[0;34m[\u001b[0m\u001b[0;34m'id'\u001b[0m\u001b[0;34m]\u001b[0m\u001b[0;34m\u001b[0m\u001b[0;34m\u001b[0m\u001b[0m\n\u001b[0;32m---> 41\u001b[0;31m             \u001b[0mwikidata_entity\u001b[0m \u001b[0;34m=\u001b[0m \u001b[0mclient\u001b[0m\u001b[0;34m.\u001b[0m\u001b[0mget\u001b[0m\u001b[0;34m(\u001b[0m\u001b[0mentity_id\u001b[0m\u001b[0;34m,\u001b[0m \u001b[0mload\u001b[0m\u001b[0;34m=\u001b[0m\u001b[0;32mTrue\u001b[0m\u001b[0;34m)\u001b[0m\u001b[0;34m\u001b[0m\u001b[0;34m\u001b[0m\u001b[0m\n\u001b[0m\u001b[1;32m     42\u001b[0m             \u001b[0mtitle\u001b[0m \u001b[0;34m=\u001b[0m \u001b[0mwikidata_entity\u001b[0m\u001b[0;34m.\u001b[0m\u001b[0mlabel\u001b[0m\u001b[0;34m.\u001b[0m\u001b[0mget\u001b[0m\u001b[0;34m(\u001b[0m\u001b[0mlanguage\u001b[0m\u001b[0;34m,\u001b[0m \u001b[0mwikidata_entity\u001b[0m\u001b[0;34m.\u001b[0m\u001b[0mlabel\u001b[0m\u001b[0;34m.\u001b[0m\u001b[0mget\u001b[0m\u001b[0;34m(\u001b[0m\u001b[0;34m'en'\u001b[0m\u001b[0;34m)\u001b[0m\u001b[0;34m)\u001b[0m\u001b[0;34m\u001b[0m\u001b[0;34m\u001b[0m\u001b[0m\n",
            "\u001b[0;32m/usr/local/lib/python3.10/dist-packages/wikidata/client.py\u001b[0m in \u001b[0;36mget\u001b[0;34m(self, entity_id, load)\u001b[0m\n\u001b[1;32m    147\u001b[0m         \u001b[0;32mif\u001b[0m \u001b[0mload\u001b[0m\u001b[0;34m:\u001b[0m\u001b[0;34m\u001b[0m\u001b[0;34m\u001b[0m\u001b[0m\n\u001b[0;32m--> 148\u001b[0;31m             \u001b[0mentity\u001b[0m\u001b[0;34m.\u001b[0m\u001b[0mload\u001b[0m\u001b[0;34m(\u001b[0m\u001b[0;34m)\u001b[0m\u001b[0;34m\u001b[0m\u001b[0;34m\u001b[0m\u001b[0m\n\u001b[0m\u001b[1;32m    149\u001b[0m         \u001b[0;32mreturn\u001b[0m \u001b[0mentity\u001b[0m\u001b[0;34m\u001b[0m\u001b[0;34m\u001b[0m\u001b[0m\n",
            "\u001b[0;32m/usr/local/lib/python3.10/dist-packages/wikidata/entity.py\u001b[0m in \u001b[0;36mload\u001b[0;34m(self)\u001b[0m\n\u001b[1;32m    279\u001b[0m         \u001b[0murl\u001b[0m \u001b[0;34m=\u001b[0m \u001b[0;34m'./wiki/Special:EntityData/{}.json'\u001b[0m\u001b[0;34m.\u001b[0m\u001b[0mformat\u001b[0m\u001b[0;34m(\u001b[0m\u001b[0mself\u001b[0m\u001b[0;34m.\u001b[0m\u001b[0mid\u001b[0m\u001b[0;34m)\u001b[0m\u001b[0;34m\u001b[0m\u001b[0;34m\u001b[0m\u001b[0m\n\u001b[0;32m--> 280\u001b[0;31m         \u001b[0mresult\u001b[0m \u001b[0;34m=\u001b[0m \u001b[0mself\u001b[0m\u001b[0;34m.\u001b[0m\u001b[0mclient\u001b[0m\u001b[0;34m.\u001b[0m\u001b[0mrequest\u001b[0m\u001b[0;34m(\u001b[0m\u001b[0murl\u001b[0m\u001b[0;34m)\u001b[0m\u001b[0;34m\u001b[0m\u001b[0;34m\u001b[0m\u001b[0m\n\u001b[0m\u001b[1;32m    281\u001b[0m         \u001b[0;32mif\u001b[0m \u001b[0mresult\u001b[0m \u001b[0;32mis\u001b[0m \u001b[0;32mNone\u001b[0m\u001b[0;34m:\u001b[0m\u001b[0;34m\u001b[0m\u001b[0;34m\u001b[0m\u001b[0m\n",
            "\u001b[0;32m/usr/local/lib/python3.10/dist-packages/wikidata/client.py\u001b[0m in \u001b[0;36mrequest\u001b[0;34m(self, path)\u001b[0m\n\u001b[1;32m    201\u001b[0m             \u001b[0;32mtry\u001b[0m\u001b[0;34m:\u001b[0m\u001b[0;34m\u001b[0m\u001b[0;34m\u001b[0m\u001b[0m\n\u001b[0;32m--> 202\u001b[0;31m                 \u001b[0mresponse\u001b[0m \u001b[0;34m=\u001b[0m \u001b[0mself\u001b[0m\u001b[0;34m.\u001b[0m\u001b[0mopener\u001b[0m\u001b[0;34m.\u001b[0m\u001b[0mopen\u001b[0m\u001b[0;34m(\u001b[0m\u001b[0murl\u001b[0m\u001b[0;34m)\u001b[0m\u001b[0;34m\u001b[0m\u001b[0;34m\u001b[0m\u001b[0m\n\u001b[0m\u001b[1;32m    203\u001b[0m             \u001b[0;32mexcept\u001b[0m \u001b[0murllib\u001b[0m\u001b[0;34m.\u001b[0m\u001b[0merror\u001b[0m\u001b[0;34m.\u001b[0m\u001b[0mHTTPError\u001b[0m \u001b[0;32mas\u001b[0m \u001b[0me\u001b[0m\u001b[0;34m:\u001b[0m\u001b[0;34m\u001b[0m\u001b[0;34m\u001b[0m\u001b[0m\n",
            "\u001b[0;32m/usr/lib/python3.10/urllib/request.py\u001b[0m in \u001b[0;36mopen\u001b[0;34m(self, fullurl, data, timeout)\u001b[0m\n\u001b[1;32m    518\u001b[0m         \u001b[0msys\u001b[0m\u001b[0;34m.\u001b[0m\u001b[0maudit\u001b[0m\u001b[0;34m(\u001b[0m\u001b[0;34m'urllib.Request'\u001b[0m\u001b[0;34m,\u001b[0m \u001b[0mreq\u001b[0m\u001b[0;34m.\u001b[0m\u001b[0mfull_url\u001b[0m\u001b[0;34m,\u001b[0m \u001b[0mreq\u001b[0m\u001b[0;34m.\u001b[0m\u001b[0mdata\u001b[0m\u001b[0;34m,\u001b[0m \u001b[0mreq\u001b[0m\u001b[0;34m.\u001b[0m\u001b[0mheaders\u001b[0m\u001b[0;34m,\u001b[0m \u001b[0mreq\u001b[0m\u001b[0;34m.\u001b[0m\u001b[0mget_method\u001b[0m\u001b[0;34m(\u001b[0m\u001b[0;34m)\u001b[0m\u001b[0;34m)\u001b[0m\u001b[0;34m\u001b[0m\u001b[0;34m\u001b[0m\u001b[0m\n\u001b[0;32m--> 519\u001b[0;31m         \u001b[0mresponse\u001b[0m \u001b[0;34m=\u001b[0m \u001b[0mself\u001b[0m\u001b[0;34m.\u001b[0m\u001b[0m_open\u001b[0m\u001b[0;34m(\u001b[0m\u001b[0mreq\u001b[0m\u001b[0;34m,\u001b[0m \u001b[0mdata\u001b[0m\u001b[0;34m)\u001b[0m\u001b[0;34m\u001b[0m\u001b[0;34m\u001b[0m\u001b[0m\n\u001b[0m\u001b[1;32m    520\u001b[0m \u001b[0;34m\u001b[0m\u001b[0m\n",
            "\u001b[0;32m/usr/lib/python3.10/urllib/request.py\u001b[0m in \u001b[0;36m_open\u001b[0;34m(self, req, data)\u001b[0m\n\u001b[1;32m    535\u001b[0m         \u001b[0mprotocol\u001b[0m \u001b[0;34m=\u001b[0m \u001b[0mreq\u001b[0m\u001b[0;34m.\u001b[0m\u001b[0mtype\u001b[0m\u001b[0;34m\u001b[0m\u001b[0;34m\u001b[0m\u001b[0m\n\u001b[0;32m--> 536\u001b[0;31m         result = self._call_chain(self.handle_open, protocol, protocol +\n\u001b[0m\u001b[1;32m    537\u001b[0m                                   '_open', req)\n",
            "\u001b[0;32m/usr/lib/python3.10/urllib/request.py\u001b[0m in \u001b[0;36m_call_chain\u001b[0;34m(self, chain, kind, meth_name, *args)\u001b[0m\n\u001b[1;32m    495\u001b[0m             \u001b[0mfunc\u001b[0m \u001b[0;34m=\u001b[0m \u001b[0mgetattr\u001b[0m\u001b[0;34m(\u001b[0m\u001b[0mhandler\u001b[0m\u001b[0;34m,\u001b[0m \u001b[0mmeth_name\u001b[0m\u001b[0;34m)\u001b[0m\u001b[0;34m\u001b[0m\u001b[0;34m\u001b[0m\u001b[0m\n\u001b[0;32m--> 496\u001b[0;31m             \u001b[0mresult\u001b[0m \u001b[0;34m=\u001b[0m \u001b[0mfunc\u001b[0m\u001b[0;34m(\u001b[0m\u001b[0;34m*\u001b[0m\u001b[0margs\u001b[0m\u001b[0;34m)\u001b[0m\u001b[0;34m\u001b[0m\u001b[0;34m\u001b[0m\u001b[0m\n\u001b[0m\u001b[1;32m    497\u001b[0m             \u001b[0;32mif\u001b[0m \u001b[0mresult\u001b[0m \u001b[0;32mis\u001b[0m \u001b[0;32mnot\u001b[0m \u001b[0;32mNone\u001b[0m\u001b[0;34m:\u001b[0m\u001b[0;34m\u001b[0m\u001b[0;34m\u001b[0m\u001b[0m\n",
            "\u001b[0;32m/usr/lib/python3.10/urllib/request.py\u001b[0m in \u001b[0;36mhttps_open\u001b[0;34m(self, req)\u001b[0m\n\u001b[1;32m   1390\u001b[0m         \u001b[0;32mdef\u001b[0m \u001b[0mhttps_open\u001b[0m\u001b[0;34m(\u001b[0m\u001b[0mself\u001b[0m\u001b[0;34m,\u001b[0m \u001b[0mreq\u001b[0m\u001b[0;34m)\u001b[0m\u001b[0;34m:\u001b[0m\u001b[0;34m\u001b[0m\u001b[0;34m\u001b[0m\u001b[0m\n\u001b[0;32m-> 1391\u001b[0;31m             return self.do_open(http.client.HTTPSConnection, req,\n\u001b[0m\u001b[1;32m   1392\u001b[0m                 context=self._context, check_hostname=self._check_hostname)\n",
            "\u001b[0;32m/usr/lib/python3.10/urllib/request.py\u001b[0m in \u001b[0;36mdo_open\u001b[0;34m(self, http_class, req, **http_conn_args)\u001b[0m\n\u001b[1;32m   1351\u001b[0m                 \u001b[0;32mraise\u001b[0m \u001b[0mURLError\u001b[0m\u001b[0;34m(\u001b[0m\u001b[0merr\u001b[0m\u001b[0;34m)\u001b[0m\u001b[0;34m\u001b[0m\u001b[0;34m\u001b[0m\u001b[0m\n\u001b[0;32m-> 1352\u001b[0;31m             \u001b[0mr\u001b[0m \u001b[0;34m=\u001b[0m \u001b[0mh\u001b[0m\u001b[0;34m.\u001b[0m\u001b[0mgetresponse\u001b[0m\u001b[0;34m(\u001b[0m\u001b[0;34m)\u001b[0m\u001b[0;34m\u001b[0m\u001b[0;34m\u001b[0m\u001b[0m\n\u001b[0m\u001b[1;32m   1353\u001b[0m         \u001b[0;32mexcept\u001b[0m\u001b[0;34m:\u001b[0m\u001b[0;34m\u001b[0m\u001b[0;34m\u001b[0m\u001b[0m\n",
            "\u001b[0;32m/usr/lib/python3.10/http/client.py\u001b[0m in \u001b[0;36mgetresponse\u001b[0;34m(self)\u001b[0m\n\u001b[1;32m   1374\u001b[0m             \u001b[0;32mtry\u001b[0m\u001b[0;34m:\u001b[0m\u001b[0;34m\u001b[0m\u001b[0;34m\u001b[0m\u001b[0m\n\u001b[0;32m-> 1375\u001b[0;31m                 \u001b[0mresponse\u001b[0m\u001b[0;34m.\u001b[0m\u001b[0mbegin\u001b[0m\u001b[0;34m(\u001b[0m\u001b[0;34m)\u001b[0m\u001b[0;34m\u001b[0m\u001b[0;34m\u001b[0m\u001b[0m\n\u001b[0m\u001b[1;32m   1376\u001b[0m             \u001b[0;32mexcept\u001b[0m \u001b[0mConnectionError\u001b[0m\u001b[0;34m:\u001b[0m\u001b[0;34m\u001b[0m\u001b[0;34m\u001b[0m\u001b[0m\n",
            "\u001b[0;32m/usr/lib/python3.10/http/client.py\u001b[0m in \u001b[0;36mbegin\u001b[0;34m(self)\u001b[0m\n\u001b[1;32m    317\u001b[0m         \u001b[0;32mwhile\u001b[0m \u001b[0;32mTrue\u001b[0m\u001b[0;34m:\u001b[0m\u001b[0;34m\u001b[0m\u001b[0;34m\u001b[0m\u001b[0m\n\u001b[0;32m--> 318\u001b[0;31m             \u001b[0mversion\u001b[0m\u001b[0;34m,\u001b[0m \u001b[0mstatus\u001b[0m\u001b[0;34m,\u001b[0m \u001b[0mreason\u001b[0m \u001b[0;34m=\u001b[0m \u001b[0mself\u001b[0m\u001b[0;34m.\u001b[0m\u001b[0m_read_status\u001b[0m\u001b[0;34m(\u001b[0m\u001b[0;34m)\u001b[0m\u001b[0;34m\u001b[0m\u001b[0;34m\u001b[0m\u001b[0m\n\u001b[0m\u001b[1;32m    319\u001b[0m             \u001b[0;32mif\u001b[0m \u001b[0mstatus\u001b[0m \u001b[0;34m!=\u001b[0m \u001b[0mCONTINUE\u001b[0m\u001b[0;34m:\u001b[0m\u001b[0;34m\u001b[0m\u001b[0;34m\u001b[0m\u001b[0m\n",
            "\u001b[0;32m/usr/lib/python3.10/http/client.py\u001b[0m in \u001b[0;36m_read_status\u001b[0;34m(self)\u001b[0m\n\u001b[1;32m    278\u001b[0m     \u001b[0;32mdef\u001b[0m \u001b[0m_read_status\u001b[0m\u001b[0;34m(\u001b[0m\u001b[0mself\u001b[0m\u001b[0;34m)\u001b[0m\u001b[0;34m:\u001b[0m\u001b[0;34m\u001b[0m\u001b[0;34m\u001b[0m\u001b[0m\n\u001b[0;32m--> 279\u001b[0;31m         \u001b[0mline\u001b[0m \u001b[0;34m=\u001b[0m \u001b[0mstr\u001b[0m\u001b[0;34m(\u001b[0m\u001b[0mself\u001b[0m\u001b[0;34m.\u001b[0m\u001b[0mfp\u001b[0m\u001b[0;34m.\u001b[0m\u001b[0mreadline\u001b[0m\u001b[0;34m(\u001b[0m\u001b[0m_MAXLINE\u001b[0m \u001b[0;34m+\u001b[0m \u001b[0;36m1\u001b[0m\u001b[0;34m)\u001b[0m\u001b[0;34m,\u001b[0m \u001b[0;34m\"iso-8859-1\"\u001b[0m\u001b[0;34m)\u001b[0m\u001b[0;34m\u001b[0m\u001b[0;34m\u001b[0m\u001b[0m\n\u001b[0m\u001b[1;32m    280\u001b[0m         \u001b[0;32mif\u001b[0m \u001b[0mlen\u001b[0m\u001b[0;34m(\u001b[0m\u001b[0mline\u001b[0m\u001b[0;34m)\u001b[0m \u001b[0;34m>\u001b[0m \u001b[0m_MAXLINE\u001b[0m\u001b[0;34m:\u001b[0m\u001b[0;34m\u001b[0m\u001b[0;34m\u001b[0m\u001b[0m\n",
            "\u001b[0;32m/usr/lib/python3.10/socket.py\u001b[0m in \u001b[0;36mreadinto\u001b[0;34m(self, b)\u001b[0m\n\u001b[1;32m    704\u001b[0m             \u001b[0;32mtry\u001b[0m\u001b[0;34m:\u001b[0m\u001b[0;34m\u001b[0m\u001b[0;34m\u001b[0m\u001b[0m\n\u001b[0;32m--> 705\u001b[0;31m                 \u001b[0;32mreturn\u001b[0m \u001b[0mself\u001b[0m\u001b[0;34m.\u001b[0m\u001b[0m_sock\u001b[0m\u001b[0;34m.\u001b[0m\u001b[0mrecv_into\u001b[0m\u001b[0;34m(\u001b[0m\u001b[0mb\u001b[0m\u001b[0;34m)\u001b[0m\u001b[0;34m\u001b[0m\u001b[0;34m\u001b[0m\u001b[0m\n\u001b[0m\u001b[1;32m    706\u001b[0m             \u001b[0;32mexcept\u001b[0m \u001b[0mtimeout\u001b[0m\u001b[0;34m:\u001b[0m\u001b[0;34m\u001b[0m\u001b[0;34m\u001b[0m\u001b[0m\n",
            "\u001b[0;32m/usr/lib/python3.10/ssl.py\u001b[0m in \u001b[0;36mrecv_into\u001b[0;34m(self, buffer, nbytes, flags)\u001b[0m\n\u001b[1;32m   1302\u001b[0m                   self.__class__)\n\u001b[0;32m-> 1303\u001b[0;31m             \u001b[0;32mreturn\u001b[0m \u001b[0mself\u001b[0m\u001b[0;34m.\u001b[0m\u001b[0mread\u001b[0m\u001b[0;34m(\u001b[0m\u001b[0mnbytes\u001b[0m\u001b[0;34m,\u001b[0m \u001b[0mbuffer\u001b[0m\u001b[0;34m)\u001b[0m\u001b[0;34m\u001b[0m\u001b[0;34m\u001b[0m\u001b[0m\n\u001b[0m\u001b[1;32m   1304\u001b[0m         \u001b[0;32melse\u001b[0m\u001b[0;34m:\u001b[0m\u001b[0;34m\u001b[0m\u001b[0;34m\u001b[0m\u001b[0m\n",
            "\u001b[0;32m/usr/lib/python3.10/ssl.py\u001b[0m in \u001b[0;36mread\u001b[0;34m(self, len, buffer)\u001b[0m\n\u001b[1;32m   1158\u001b[0m             \u001b[0;32mif\u001b[0m \u001b[0mbuffer\u001b[0m \u001b[0;32mis\u001b[0m \u001b[0;32mnot\u001b[0m \u001b[0;32mNone\u001b[0m\u001b[0;34m:\u001b[0m\u001b[0;34m\u001b[0m\u001b[0;34m\u001b[0m\u001b[0m\n\u001b[0;32m-> 1159\u001b[0;31m                 \u001b[0;32mreturn\u001b[0m \u001b[0mself\u001b[0m\u001b[0;34m.\u001b[0m\u001b[0m_sslobj\u001b[0m\u001b[0;34m.\u001b[0m\u001b[0mread\u001b[0m\u001b[0;34m(\u001b[0m\u001b[0mlen\u001b[0m\u001b[0;34m,\u001b[0m \u001b[0mbuffer\u001b[0m\u001b[0;34m)\u001b[0m\u001b[0;34m\u001b[0m\u001b[0;34m\u001b[0m\u001b[0m\n\u001b[0m\u001b[1;32m   1160\u001b[0m             \u001b[0;32melse\u001b[0m\u001b[0;34m:\u001b[0m\u001b[0;34m\u001b[0m\u001b[0;34m\u001b[0m\u001b[0m\n",
            "\u001b[0;31mKeyboardInterrupt\u001b[0m: ",
            "\nDuring handling of the above exception, another exception occurred:\n",
            "\u001b[0;31mAttributeError\u001b[0m                            Traceback (most recent call last)",
            "\u001b[0;32m/usr/local/lib/python3.10/dist-packages/IPython/core/interactiveshell.py\u001b[0m in \u001b[0;36mshowtraceback\u001b[0;34m(self, exc_tuple, filename, tb_offset, exception_only, running_compiled_code)\u001b[0m\n\u001b[1;32m   2098\u001b[0m                         \u001b[0;31m# in the engines. This should return a list of strings.\u001b[0m\u001b[0;34m\u001b[0m\u001b[0;34m\u001b[0m\u001b[0m\n\u001b[0;32m-> 2099\u001b[0;31m                         \u001b[0mstb\u001b[0m \u001b[0;34m=\u001b[0m \u001b[0mvalue\u001b[0m\u001b[0;34m.\u001b[0m\u001b[0m_render_traceback_\u001b[0m\u001b[0;34m(\u001b[0m\u001b[0;34m)\u001b[0m\u001b[0;34m\u001b[0m\u001b[0;34m\u001b[0m\u001b[0m\n\u001b[0m\u001b[1;32m   2100\u001b[0m                     \u001b[0;32mexcept\u001b[0m \u001b[0mException\u001b[0m\u001b[0;34m:\u001b[0m\u001b[0;34m\u001b[0m\u001b[0;34m\u001b[0m\u001b[0m\n",
            "\u001b[0;31mAttributeError\u001b[0m: 'KeyboardInterrupt' object has no attribute '_render_traceback_'",
            "\nDuring handling of the above exception, another exception occurred:\n",
            "\u001b[0;31mTypeError\u001b[0m                                 Traceback (most recent call last)",
            "    \u001b[0;31m[... skipping hidden 1 frame]\u001b[0m\n",
            "\u001b[0;32m/usr/local/lib/python3.10/dist-packages/IPython/core/interactiveshell.py\u001b[0m in \u001b[0;36mshowtraceback\u001b[0;34m(self, exc_tuple, filename, tb_offset, exception_only, running_compiled_code)\u001b[0m\n\u001b[1;32m   2099\u001b[0m                         \u001b[0mstb\u001b[0m \u001b[0;34m=\u001b[0m \u001b[0mvalue\u001b[0m\u001b[0;34m.\u001b[0m\u001b[0m_render_traceback_\u001b[0m\u001b[0;34m(\u001b[0m\u001b[0;34m)\u001b[0m\u001b[0;34m\u001b[0m\u001b[0;34m\u001b[0m\u001b[0m\n\u001b[1;32m   2100\u001b[0m                     \u001b[0;32mexcept\u001b[0m \u001b[0mException\u001b[0m\u001b[0;34m:\u001b[0m\u001b[0;34m\u001b[0m\u001b[0;34m\u001b[0m\u001b[0m\n\u001b[0;32m-> 2101\u001b[0;31m                         stb = self.InteractiveTB.structured_traceback(etype,\n\u001b[0m\u001b[1;32m   2102\u001b[0m                                             value, tb, tb_offset=tb_offset)\n\u001b[1;32m   2103\u001b[0m \u001b[0;34m\u001b[0m\u001b[0m\n",
            "\u001b[0;32m/usr/local/lib/python3.10/dist-packages/IPython/core/ultratb.py\u001b[0m in \u001b[0;36mstructured_traceback\u001b[0;34m(self, etype, value, tb, tb_offset, number_of_lines_of_context)\u001b[0m\n\u001b[1;32m   1365\u001b[0m         \u001b[0;32melse\u001b[0m\u001b[0;34m:\u001b[0m\u001b[0;34m\u001b[0m\u001b[0;34m\u001b[0m\u001b[0m\n\u001b[1;32m   1366\u001b[0m             \u001b[0mself\u001b[0m\u001b[0;34m.\u001b[0m\u001b[0mtb\u001b[0m \u001b[0;34m=\u001b[0m \u001b[0mtb\u001b[0m\u001b[0;34m\u001b[0m\u001b[0;34m\u001b[0m\u001b[0m\n\u001b[0;32m-> 1367\u001b[0;31m         return FormattedTB.structured_traceback(\n\u001b[0m\u001b[1;32m   1368\u001b[0m             self, etype, value, tb, tb_offset, number_of_lines_of_context)\n\u001b[1;32m   1369\u001b[0m \u001b[0;34m\u001b[0m\u001b[0m\n",
            "\u001b[0;32m/usr/local/lib/python3.10/dist-packages/IPython/core/ultratb.py\u001b[0m in \u001b[0;36mstructured_traceback\u001b[0;34m(self, etype, value, tb, tb_offset, number_of_lines_of_context)\u001b[0m\n\u001b[1;32m   1265\u001b[0m         \u001b[0;32mif\u001b[0m \u001b[0mmode\u001b[0m \u001b[0;32min\u001b[0m \u001b[0mself\u001b[0m\u001b[0;34m.\u001b[0m\u001b[0mverbose_modes\u001b[0m\u001b[0;34m:\u001b[0m\u001b[0;34m\u001b[0m\u001b[0;34m\u001b[0m\u001b[0m\n\u001b[1;32m   1266\u001b[0m             \u001b[0;31m# Verbose modes need a full traceback\u001b[0m\u001b[0;34m\u001b[0m\u001b[0;34m\u001b[0m\u001b[0m\n\u001b[0;32m-> 1267\u001b[0;31m             return VerboseTB.structured_traceback(\n\u001b[0m\u001b[1;32m   1268\u001b[0m                 \u001b[0mself\u001b[0m\u001b[0;34m,\u001b[0m \u001b[0metype\u001b[0m\u001b[0;34m,\u001b[0m \u001b[0mvalue\u001b[0m\u001b[0;34m,\u001b[0m \u001b[0mtb\u001b[0m\u001b[0;34m,\u001b[0m \u001b[0mtb_offset\u001b[0m\u001b[0;34m,\u001b[0m \u001b[0mnumber_of_lines_of_context\u001b[0m\u001b[0;34m\u001b[0m\u001b[0;34m\u001b[0m\u001b[0m\n\u001b[1;32m   1269\u001b[0m             )\n",
            "\u001b[0;32m/usr/local/lib/python3.10/dist-packages/IPython/core/ultratb.py\u001b[0m in \u001b[0;36mstructured_traceback\u001b[0;34m(self, etype, evalue, etb, tb_offset, number_of_lines_of_context)\u001b[0m\n\u001b[1;32m   1122\u001b[0m         \u001b[0;34m\"\"\"Return a nice text document describing the traceback.\"\"\"\u001b[0m\u001b[0;34m\u001b[0m\u001b[0;34m\u001b[0m\u001b[0m\n\u001b[1;32m   1123\u001b[0m \u001b[0;34m\u001b[0m\u001b[0m\n\u001b[0;32m-> 1124\u001b[0;31m         formatted_exception = self.format_exception_as_a_whole(etype, evalue, etb, number_of_lines_of_context,\n\u001b[0m\u001b[1;32m   1125\u001b[0m                                                                tb_offset)\n\u001b[1;32m   1126\u001b[0m \u001b[0;34m\u001b[0m\u001b[0m\n",
            "\u001b[0;32m/usr/local/lib/python3.10/dist-packages/IPython/core/ultratb.py\u001b[0m in \u001b[0;36mformat_exception_as_a_whole\u001b[0;34m(self, etype, evalue, etb, number_of_lines_of_context, tb_offset)\u001b[0m\n\u001b[1;32m   1080\u001b[0m \u001b[0;34m\u001b[0m\u001b[0m\n\u001b[1;32m   1081\u001b[0m \u001b[0;34m\u001b[0m\u001b[0m\n\u001b[0;32m-> 1082\u001b[0;31m         \u001b[0mlast_unique\u001b[0m\u001b[0;34m,\u001b[0m \u001b[0mrecursion_repeat\u001b[0m \u001b[0;34m=\u001b[0m \u001b[0mfind_recursion\u001b[0m\u001b[0;34m(\u001b[0m\u001b[0morig_etype\u001b[0m\u001b[0;34m,\u001b[0m \u001b[0mevalue\u001b[0m\u001b[0;34m,\u001b[0m \u001b[0mrecords\u001b[0m\u001b[0;34m)\u001b[0m\u001b[0;34m\u001b[0m\u001b[0;34m\u001b[0m\u001b[0m\n\u001b[0m\u001b[1;32m   1083\u001b[0m \u001b[0;34m\u001b[0m\u001b[0m\n\u001b[1;32m   1084\u001b[0m         \u001b[0mframes\u001b[0m \u001b[0;34m=\u001b[0m \u001b[0mself\u001b[0m\u001b[0;34m.\u001b[0m\u001b[0mformat_records\u001b[0m\u001b[0;34m(\u001b[0m\u001b[0mrecords\u001b[0m\u001b[0;34m,\u001b[0m \u001b[0mlast_unique\u001b[0m\u001b[0;34m,\u001b[0m \u001b[0mrecursion_repeat\u001b[0m\u001b[0;34m)\u001b[0m\u001b[0;34m\u001b[0m\u001b[0;34m\u001b[0m\u001b[0m\n",
            "\u001b[0;32m/usr/local/lib/python3.10/dist-packages/IPython/core/ultratb.py\u001b[0m in \u001b[0;36mfind_recursion\u001b[0;34m(etype, value, records)\u001b[0m\n\u001b[1;32m    380\u001b[0m     \u001b[0;31m# first frame (from in to out) that looks different.\u001b[0m\u001b[0;34m\u001b[0m\u001b[0;34m\u001b[0m\u001b[0m\n\u001b[1;32m    381\u001b[0m     \u001b[0;32mif\u001b[0m \u001b[0;32mnot\u001b[0m \u001b[0mis_recursion_error\u001b[0m\u001b[0;34m(\u001b[0m\u001b[0metype\u001b[0m\u001b[0;34m,\u001b[0m \u001b[0mvalue\u001b[0m\u001b[0;34m,\u001b[0m \u001b[0mrecords\u001b[0m\u001b[0;34m)\u001b[0m\u001b[0;34m:\u001b[0m\u001b[0;34m\u001b[0m\u001b[0;34m\u001b[0m\u001b[0m\n\u001b[0;32m--> 382\u001b[0;31m         \u001b[0;32mreturn\u001b[0m \u001b[0mlen\u001b[0m\u001b[0;34m(\u001b[0m\u001b[0mrecords\u001b[0m\u001b[0;34m)\u001b[0m\u001b[0;34m,\u001b[0m \u001b[0;36m0\u001b[0m\u001b[0;34m\u001b[0m\u001b[0;34m\u001b[0m\u001b[0m\n\u001b[0m\u001b[1;32m    383\u001b[0m \u001b[0;34m\u001b[0m\u001b[0m\n\u001b[1;32m    384\u001b[0m     \u001b[0;31m# Select filename, lineno, func_name to track frames with\u001b[0m\u001b[0;34m\u001b[0m\u001b[0;34m\u001b[0m\u001b[0m\n",
            "\u001b[0;31mTypeError\u001b[0m: object of type 'NoneType' has no len()"
          ]
        }
      ]
    }
  ]
}