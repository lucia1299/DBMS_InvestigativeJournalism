{
  "cells": [
    {
      "cell_type": "markdown",
      "metadata": {
        "id": "view-in-github",
        "colab_type": "text"
      },
      "source": [
        "<a href=\"https://colab.research.google.com/github/lucia1299/DBMS_InvestigativeJournalism/blob/main/binary_fine_tuning.ipynb\" target=\"_parent\"><img src=\"https://colab.research.google.com/assets/colab-badge.svg\" alt=\"Open In Colab\"/></a>"
      ]
    },
    {
      "cell_type": "code",
      "execution_count": null,
      "metadata": {
        "colab": {
          "base_uri": "https://localhost:8080/"
        },
        "id": "xuYfoh66eAT8",
        "outputId": "ae88a742-749f-4226-c454-472bb04ab6ef"
      },
      "outputs": [
        {
          "output_type": "stream",
          "name": "stdout",
          "text": [
            "Collecting seqeval\n",
            "  Downloading seqeval-1.2.2.tar.gz (43 kB)\n",
            "\u001b[?25l     \u001b[90m━━━━━━━━━━━━━━━━━━━━━━━━━━━━━━━━━━━━━━━━\u001b[0m \u001b[32m0.0/43.6 kB\u001b[0m \u001b[31m?\u001b[0m eta \u001b[36m-:--:--\u001b[0m\r\u001b[2K     \u001b[90m━━━━━━━━━━━━━━━━━━━━━━━━━━━━━━━━━━━━━━━━\u001b[0m \u001b[32m43.6/43.6 kB\u001b[0m \u001b[31m1.7 MB/s\u001b[0m eta \u001b[36m0:00:00\u001b[0m\n",
            "\u001b[?25h  Preparing metadata (setup.py) ... \u001b[?25l\u001b[?25hdone\n",
            "Requirement already satisfied: numpy>=1.14.0 in /usr/local/lib/python3.10/dist-packages (from seqeval) (1.26.4)\n",
            "Requirement already satisfied: scikit-learn>=0.21.3 in /usr/local/lib/python3.10/dist-packages (from seqeval) (1.3.2)\n",
            "Requirement already satisfied: scipy>=1.5.0 in /usr/local/lib/python3.10/dist-packages (from scikit-learn>=0.21.3->seqeval) (1.13.1)\n",
            "Requirement already satisfied: joblib>=1.1.1 in /usr/local/lib/python3.10/dist-packages (from scikit-learn>=0.21.3->seqeval) (1.4.2)\n",
            "Requirement already satisfied: threadpoolctl>=2.0.0 in /usr/local/lib/python3.10/dist-packages (from scikit-learn>=0.21.3->seqeval) (3.5.0)\n",
            "Building wheels for collected packages: seqeval\n",
            "  Building wheel for seqeval (setup.py) ... \u001b[?25l\u001b[?25hdone\n",
            "  Created wheel for seqeval: filename=seqeval-1.2.2-py3-none-any.whl size=16161 sha256=8af8e40383dcd9b3db6bb8ac404fdbaae434fc661a2aca7ff975c2324e9845ef\n",
            "  Stored in directory: /root/.cache/pip/wheels/1a/67/4a/ad4082dd7dfc30f2abfe4d80a2ed5926a506eb8a972b4767fa\n",
            "Successfully built seqeval\n",
            "Installing collected packages: seqeval\n",
            "Successfully installed seqeval-1.2.2\n"
          ]
        }
      ],
      "source": [
        "!pip install seqeval"
      ]
    },
    {
      "cell_type": "code",
      "execution_count": null,
      "metadata": {
        "colab": {
          "base_uri": "https://localhost:8080/"
        },
        "id": "zCye1_6El626",
        "outputId": "016b655b-ca57-4953-aff2-4cf81a2ca3b5"
      },
      "outputs": [
        {
          "output_type": "stream",
          "name": "stdout",
          "text": [
            "Collecting evaluate\n",
            "  Downloading evaluate-0.4.2-py3-none-any.whl.metadata (9.3 kB)\n",
            "Collecting datasets>=2.0.0 (from evaluate)\n",
            "  Downloading datasets-2.21.0-py3-none-any.whl.metadata (21 kB)\n",
            "Requirement already satisfied: numpy>=1.17 in /usr/local/lib/python3.10/dist-packages (from evaluate) (1.26.4)\n",
            "Collecting dill (from evaluate)\n",
            "  Downloading dill-0.3.8-py3-none-any.whl.metadata (10 kB)\n",
            "Requirement already satisfied: pandas in /usr/local/lib/python3.10/dist-packages (from evaluate) (2.1.4)\n",
            "Requirement already satisfied: requests>=2.19.0 in /usr/local/lib/python3.10/dist-packages (from evaluate) (2.32.3)\n",
            "Requirement already satisfied: tqdm>=4.62.1 in /usr/local/lib/python3.10/dist-packages (from evaluate) (4.66.5)\n",
            "Collecting xxhash (from evaluate)\n",
            "  Downloading xxhash-3.5.0-cp310-cp310-manylinux_2_17_x86_64.manylinux2014_x86_64.whl.metadata (12 kB)\n",
            "Collecting multiprocess (from evaluate)\n",
            "  Downloading multiprocess-0.70.16-py310-none-any.whl.metadata (7.2 kB)\n",
            "Requirement already satisfied: fsspec>=2021.05.0 in /usr/local/lib/python3.10/dist-packages (from fsspec[http]>=2021.05.0->evaluate) (2024.6.1)\n",
            "Requirement already satisfied: huggingface-hub>=0.7.0 in /usr/local/lib/python3.10/dist-packages (from evaluate) (0.23.5)\n",
            "Requirement already satisfied: packaging in /usr/local/lib/python3.10/dist-packages (from evaluate) (24.1)\n",
            "Requirement already satisfied: filelock in /usr/local/lib/python3.10/dist-packages (from datasets>=2.0.0->evaluate) (3.15.4)\n",
            "Collecting pyarrow>=15.0.0 (from datasets>=2.0.0->evaluate)\n",
            "  Downloading pyarrow-17.0.0-cp310-cp310-manylinux_2_28_x86_64.whl.metadata (3.3 kB)\n",
            "Requirement already satisfied: aiohttp in /usr/local/lib/python3.10/dist-packages (from datasets>=2.0.0->evaluate) (3.10.5)\n",
            "Requirement already satisfied: pyyaml>=5.1 in /usr/local/lib/python3.10/dist-packages (from datasets>=2.0.0->evaluate) (6.0.2)\n",
            "Requirement already satisfied: typing-extensions>=3.7.4.3 in /usr/local/lib/python3.10/dist-packages (from huggingface-hub>=0.7.0->evaluate) (4.12.2)\n",
            "Requirement already satisfied: charset-normalizer<4,>=2 in /usr/local/lib/python3.10/dist-packages (from requests>=2.19.0->evaluate) (3.3.2)\n",
            "Requirement already satisfied: idna<4,>=2.5 in /usr/local/lib/python3.10/dist-packages (from requests>=2.19.0->evaluate) (3.7)\n",
            "Requirement already satisfied: urllib3<3,>=1.21.1 in /usr/local/lib/python3.10/dist-packages (from requests>=2.19.0->evaluate) (2.0.7)\n",
            "Requirement already satisfied: certifi>=2017.4.17 in /usr/local/lib/python3.10/dist-packages (from requests>=2.19.0->evaluate) (2024.7.4)\n",
            "Requirement already satisfied: python-dateutil>=2.8.2 in /usr/local/lib/python3.10/dist-packages (from pandas->evaluate) (2.8.2)\n",
            "Requirement already satisfied: pytz>=2020.1 in /usr/local/lib/python3.10/dist-packages (from pandas->evaluate) (2024.1)\n",
            "Requirement already satisfied: tzdata>=2022.1 in /usr/local/lib/python3.10/dist-packages (from pandas->evaluate) (2024.1)\n",
            "Requirement already satisfied: aiohappyeyeballs>=2.3.0 in /usr/local/lib/python3.10/dist-packages (from aiohttp->datasets>=2.0.0->evaluate) (2.4.0)\n",
            "Requirement already satisfied: aiosignal>=1.1.2 in /usr/local/lib/python3.10/dist-packages (from aiohttp->datasets>=2.0.0->evaluate) (1.3.1)\n",
            "Requirement already satisfied: attrs>=17.3.0 in /usr/local/lib/python3.10/dist-packages (from aiohttp->datasets>=2.0.0->evaluate) (24.2.0)\n",
            "Requirement already satisfied: frozenlist>=1.1.1 in /usr/local/lib/python3.10/dist-packages (from aiohttp->datasets>=2.0.0->evaluate) (1.4.1)\n",
            "Requirement already satisfied: multidict<7.0,>=4.5 in /usr/local/lib/python3.10/dist-packages (from aiohttp->datasets>=2.0.0->evaluate) (6.0.5)\n",
            "Requirement already satisfied: yarl<2.0,>=1.0 in /usr/local/lib/python3.10/dist-packages (from aiohttp->datasets>=2.0.0->evaluate) (1.9.4)\n",
            "Requirement already satisfied: async-timeout<5.0,>=4.0 in /usr/local/lib/python3.10/dist-packages (from aiohttp->datasets>=2.0.0->evaluate) (4.0.3)\n",
            "Requirement already satisfied: six>=1.5 in /usr/local/lib/python3.10/dist-packages (from python-dateutil>=2.8.2->pandas->evaluate) (1.16.0)\n",
            "Downloading evaluate-0.4.2-py3-none-any.whl (84 kB)\n",
            "\u001b[2K   \u001b[90m━━━━━━━━━━━━━━━━━━━━━━━━━━━━━━━━━━━━━━━━\u001b[0m \u001b[32m84.1/84.1 kB\u001b[0m \u001b[31m3.8 MB/s\u001b[0m eta \u001b[36m0:00:00\u001b[0m\n",
            "\u001b[?25hDownloading datasets-2.21.0-py3-none-any.whl (527 kB)\n",
            "\u001b[2K   \u001b[90m━━━━━━━━━━━━━━━━━━━━━━━━━━━━━━━━━━━━━━━━\u001b[0m \u001b[32m527.3/527.3 kB\u001b[0m \u001b[31m14.1 MB/s\u001b[0m eta \u001b[36m0:00:00\u001b[0m\n",
            "\u001b[?25hDownloading dill-0.3.8-py3-none-any.whl (116 kB)\n",
            "\u001b[2K   \u001b[90m━━━━━━━━━━━━━━━━━━━━━━━━━━━━━━━━━━━━━━━━\u001b[0m \u001b[32m116.3/116.3 kB\u001b[0m \u001b[31m11.7 MB/s\u001b[0m eta \u001b[36m0:00:00\u001b[0m\n",
            "\u001b[?25hDownloading multiprocess-0.70.16-py310-none-any.whl (134 kB)\n",
            "\u001b[2K   \u001b[90m━━━━━━━━━━━━━━━━━━━━━━━━━━━━━━━━━━━━━━━━\u001b[0m \u001b[32m134.8/134.8 kB\u001b[0m \u001b[31m10.6 MB/s\u001b[0m eta \u001b[36m0:00:00\u001b[0m\n",
            "\u001b[?25hDownloading xxhash-3.5.0-cp310-cp310-manylinux_2_17_x86_64.manylinux2014_x86_64.whl (194 kB)\n",
            "\u001b[2K   \u001b[90m━━━━━━━━━━━━━━━━━━━━━━━━━━━━━━━━━━━━━━━━\u001b[0m \u001b[32m194.1/194.1 kB\u001b[0m \u001b[31m19.8 MB/s\u001b[0m eta \u001b[36m0:00:00\u001b[0m\n",
            "\u001b[?25hDownloading pyarrow-17.0.0-cp310-cp310-manylinux_2_28_x86_64.whl (39.9 MB)\n",
            "\u001b[2K   \u001b[90m━━━━━━━━━━━━━━━━━━━━━━━━━━━━━━━━━━━━━━━━\u001b[0m \u001b[32m39.9/39.9 MB\u001b[0m \u001b[31m15.1 MB/s\u001b[0m eta \u001b[36m0:00:00\u001b[0m\n",
            "\u001b[?25hInstalling collected packages: xxhash, pyarrow, dill, multiprocess, datasets, evaluate\n",
            "  Attempting uninstall: pyarrow\n",
            "    Found existing installation: pyarrow 14.0.2\n",
            "    Uninstalling pyarrow-14.0.2:\n",
            "      Successfully uninstalled pyarrow-14.0.2\n",
            "\u001b[31mERROR: pip's dependency resolver does not currently take into account all the packages that are installed. This behaviour is the source of the following dependency conflicts.\n",
            "cudf-cu12 24.4.1 requires pyarrow<15.0.0a0,>=14.0.1, but you have pyarrow 17.0.0 which is incompatible.\n",
            "ibis-framework 8.0.0 requires pyarrow<16,>=2, but you have pyarrow 17.0.0 which is incompatible.\u001b[0m\u001b[31m\n",
            "\u001b[0mSuccessfully installed datasets-2.21.0 dill-0.3.8 evaluate-0.4.2 multiprocess-0.70.16 pyarrow-17.0.0 xxhash-3.5.0\n"
          ]
        }
      ],
      "source": [
        "!pip install evaluate"
      ]
    },
    {
      "cell_type": "code",
      "execution_count": null,
      "metadata": {
        "colab": {
          "base_uri": "https://localhost:8080/"
        },
        "id": "m5Pn5Gkpn266",
        "outputId": "205c6382-da8e-4931-e595-10657a1a0525"
      },
      "outputs": [
        {
          "output_type": "stream",
          "name": "stdout",
          "text": [
            "Requirement already satisfied: accelerate in /usr/local/lib/python3.10/dist-packages (0.32.1)\n",
            "Collecting accelerate\n",
            "  Downloading accelerate-0.33.0-py3-none-any.whl.metadata (18 kB)\n",
            "Requirement already satisfied: numpy<2.0.0,>=1.17 in /usr/local/lib/python3.10/dist-packages (from accelerate) (1.26.4)\n",
            "Requirement already satisfied: packaging>=20.0 in /usr/local/lib/python3.10/dist-packages (from accelerate) (24.1)\n",
            "Requirement already satisfied: psutil in /usr/local/lib/python3.10/dist-packages (from accelerate) (5.9.5)\n",
            "Requirement already satisfied: pyyaml in /usr/local/lib/python3.10/dist-packages (from accelerate) (6.0.2)\n",
            "Requirement already satisfied: torch>=1.10.0 in /usr/local/lib/python3.10/dist-packages (from accelerate) (2.4.0+cu121)\n",
            "Requirement already satisfied: huggingface-hub>=0.21.0 in /usr/local/lib/python3.10/dist-packages (from accelerate) (0.23.5)\n",
            "Requirement already satisfied: safetensors>=0.3.1 in /usr/local/lib/python3.10/dist-packages (from accelerate) (0.4.4)\n",
            "Requirement already satisfied: filelock in /usr/local/lib/python3.10/dist-packages (from huggingface-hub>=0.21.0->accelerate) (3.15.4)\n",
            "Requirement already satisfied: fsspec>=2023.5.0 in /usr/local/lib/python3.10/dist-packages (from huggingface-hub>=0.21.0->accelerate) (2024.6.1)\n",
            "Requirement already satisfied: requests in /usr/local/lib/python3.10/dist-packages (from huggingface-hub>=0.21.0->accelerate) (2.32.3)\n",
            "Requirement already satisfied: tqdm>=4.42.1 in /usr/local/lib/python3.10/dist-packages (from huggingface-hub>=0.21.0->accelerate) (4.66.5)\n",
            "Requirement already satisfied: typing-extensions>=3.7.4.3 in /usr/local/lib/python3.10/dist-packages (from huggingface-hub>=0.21.0->accelerate) (4.12.2)\n",
            "Requirement already satisfied: sympy in /usr/local/lib/python3.10/dist-packages (from torch>=1.10.0->accelerate) (1.13.2)\n",
            "Requirement already satisfied: networkx in /usr/local/lib/python3.10/dist-packages (from torch>=1.10.0->accelerate) (3.3)\n",
            "Requirement already satisfied: jinja2 in /usr/local/lib/python3.10/dist-packages (from torch>=1.10.0->accelerate) (3.1.4)\n",
            "Requirement already satisfied: MarkupSafe>=2.0 in /usr/local/lib/python3.10/dist-packages (from jinja2->torch>=1.10.0->accelerate) (2.1.5)\n",
            "Requirement already satisfied: charset-normalizer<4,>=2 in /usr/local/lib/python3.10/dist-packages (from requests->huggingface-hub>=0.21.0->accelerate) (3.3.2)\n",
            "Requirement already satisfied: idna<4,>=2.5 in /usr/local/lib/python3.10/dist-packages (from requests->huggingface-hub>=0.21.0->accelerate) (3.7)\n",
            "Requirement already satisfied: urllib3<3,>=1.21.1 in /usr/local/lib/python3.10/dist-packages (from requests->huggingface-hub>=0.21.0->accelerate) (2.0.7)\n",
            "Requirement already satisfied: certifi>=2017.4.17 in /usr/local/lib/python3.10/dist-packages (from requests->huggingface-hub>=0.21.0->accelerate) (2024.7.4)\n",
            "Requirement already satisfied: mpmath<1.4,>=1.1.0 in /usr/local/lib/python3.10/dist-packages (from sympy->torch>=1.10.0->accelerate) (1.3.0)\n",
            "Downloading accelerate-0.33.0-py3-none-any.whl (315 kB)\n",
            "\u001b[2K   \u001b[90m━━━━━━━━━━━━━━━━━━━━━━━━━━━━━━━━━━━━━━━━\u001b[0m \u001b[32m315.1/315.1 kB\u001b[0m \u001b[31m6.7 MB/s\u001b[0m eta \u001b[36m0:00:00\u001b[0m\n",
            "\u001b[?25hInstalling collected packages: accelerate\n",
            "  Attempting uninstall: accelerate\n",
            "    Found existing installation: accelerate 0.32.1\n",
            "    Uninstalling accelerate-0.32.1:\n",
            "      Successfully uninstalled accelerate-0.32.1\n",
            "Successfully installed accelerate-0.33.0\n"
          ]
        }
      ],
      "source": [
        "!pip install accelerate -U"
      ]
    },
    {
      "cell_type": "code",
      "execution_count": null,
      "metadata": {
        "colab": {
          "base_uri": "https://localhost:8080/"
        },
        "id": "v_lMnq2jlRho",
        "outputId": "2d895a78-cc84-4151-d88e-4e1575d71b73"
      },
      "outputs": [
        {
          "output_type": "stream",
          "name": "stdout",
          "text": [
            "Requirement already satisfied: transformers[torch] in /usr/local/lib/python3.10/dist-packages (4.42.4)\n",
            "Requirement already satisfied: filelock in /usr/local/lib/python3.10/dist-packages (from transformers[torch]) (3.15.4)\n",
            "Requirement already satisfied: huggingface-hub<1.0,>=0.23.2 in /usr/local/lib/python3.10/dist-packages (from transformers[torch]) (0.23.5)\n",
            "Requirement already satisfied: numpy<2.0,>=1.17 in /usr/local/lib/python3.10/dist-packages (from transformers[torch]) (1.26.4)\n",
            "Requirement already satisfied: packaging>=20.0 in /usr/local/lib/python3.10/dist-packages (from transformers[torch]) (24.1)\n",
            "Requirement already satisfied: pyyaml>=5.1 in /usr/local/lib/python3.10/dist-packages (from transformers[torch]) (6.0.2)\n",
            "Requirement already satisfied: regex!=2019.12.17 in /usr/local/lib/python3.10/dist-packages (from transformers[torch]) (2024.5.15)\n",
            "Requirement already satisfied: requests in /usr/local/lib/python3.10/dist-packages (from transformers[torch]) (2.32.3)\n",
            "Requirement already satisfied: safetensors>=0.4.1 in /usr/local/lib/python3.10/dist-packages (from transformers[torch]) (0.4.4)\n",
            "Requirement already satisfied: tokenizers<0.20,>=0.19 in /usr/local/lib/python3.10/dist-packages (from transformers[torch]) (0.19.1)\n",
            "Requirement already satisfied: tqdm>=4.27 in /usr/local/lib/python3.10/dist-packages (from transformers[torch]) (4.66.5)\n",
            "Requirement already satisfied: accelerate>=0.21.0 in /usr/local/lib/python3.10/dist-packages (from transformers[torch]) (0.33.0)\n",
            "Requirement already satisfied: torch in /usr/local/lib/python3.10/dist-packages (from transformers[torch]) (2.4.0+cu121)\n",
            "Requirement already satisfied: psutil in /usr/local/lib/python3.10/dist-packages (from accelerate>=0.21.0->transformers[torch]) (5.9.5)\n",
            "Requirement already satisfied: fsspec>=2023.5.0 in /usr/local/lib/python3.10/dist-packages (from huggingface-hub<1.0,>=0.23.2->transformers[torch]) (2024.6.1)\n",
            "Requirement already satisfied: typing-extensions>=3.7.4.3 in /usr/local/lib/python3.10/dist-packages (from huggingface-hub<1.0,>=0.23.2->transformers[torch]) (4.12.2)\n",
            "Requirement already satisfied: sympy in /usr/local/lib/python3.10/dist-packages (from torch->transformers[torch]) (1.13.2)\n",
            "Requirement already satisfied: networkx in /usr/local/lib/python3.10/dist-packages (from torch->transformers[torch]) (3.3)\n",
            "Requirement already satisfied: jinja2 in /usr/local/lib/python3.10/dist-packages (from torch->transformers[torch]) (3.1.4)\n",
            "Requirement already satisfied: charset-normalizer<4,>=2 in /usr/local/lib/python3.10/dist-packages (from requests->transformers[torch]) (3.3.2)\n",
            "Requirement already satisfied: idna<4,>=2.5 in /usr/local/lib/python3.10/dist-packages (from requests->transformers[torch]) (3.7)\n",
            "Requirement already satisfied: urllib3<3,>=1.21.1 in /usr/local/lib/python3.10/dist-packages (from requests->transformers[torch]) (2.0.7)\n",
            "Requirement already satisfied: certifi>=2017.4.17 in /usr/local/lib/python3.10/dist-packages (from requests->transformers[torch]) (2024.7.4)\n",
            "Requirement already satisfied: MarkupSafe>=2.0 in /usr/local/lib/python3.10/dist-packages (from jinja2->torch->transformers[torch]) (2.1.5)\n",
            "Requirement already satisfied: mpmath<1.4,>=1.1.0 in /usr/local/lib/python3.10/dist-packages (from sympy->torch->transformers[torch]) (1.3.0)\n"
          ]
        }
      ],
      "source": [
        "!pip install transformers[torch]"
      ]
    },
    {
      "cell_type": "code",
      "execution_count": null,
      "metadata": {
        "colab": {
          "base_uri": "https://localhost:8080/"
        },
        "id": "lMQFIeK-SXQA",
        "outputId": "6f5ba60c-d297-4cad-924c-6f0a99a8d429"
      },
      "outputs": [
        {
          "output_type": "stream",
          "name": "stdout",
          "text": [
            "Requirement already satisfied: datasets in /usr/local/lib/python3.10/dist-packages (2.21.0)\n",
            "Requirement already satisfied: filelock in /usr/local/lib/python3.10/dist-packages (from datasets) (3.15.4)\n",
            "Requirement already satisfied: numpy>=1.17 in /usr/local/lib/python3.10/dist-packages (from datasets) (1.26.4)\n",
            "Requirement already satisfied: pyarrow>=15.0.0 in /usr/local/lib/python3.10/dist-packages (from datasets) (17.0.0)\n",
            "Requirement already satisfied: dill<0.3.9,>=0.3.0 in /usr/local/lib/python3.10/dist-packages (from datasets) (0.3.8)\n",
            "Requirement already satisfied: pandas in /usr/local/lib/python3.10/dist-packages (from datasets) (2.1.4)\n",
            "Requirement already satisfied: requests>=2.32.2 in /usr/local/lib/python3.10/dist-packages (from datasets) (2.32.3)\n",
            "Requirement already satisfied: tqdm>=4.66.3 in /usr/local/lib/python3.10/dist-packages (from datasets) (4.66.5)\n",
            "Requirement already satisfied: xxhash in /usr/local/lib/python3.10/dist-packages (from datasets) (3.5.0)\n",
            "Requirement already satisfied: multiprocess in /usr/local/lib/python3.10/dist-packages (from datasets) (0.70.16)\n",
            "Requirement already satisfied: fsspec<=2024.6.1,>=2023.1.0 in /usr/local/lib/python3.10/dist-packages (from fsspec[http]<=2024.6.1,>=2023.1.0->datasets) (2024.6.1)\n",
            "Requirement already satisfied: aiohttp in /usr/local/lib/python3.10/dist-packages (from datasets) (3.10.5)\n",
            "Requirement already satisfied: huggingface-hub>=0.21.2 in /usr/local/lib/python3.10/dist-packages (from datasets) (0.23.5)\n",
            "Requirement already satisfied: packaging in /usr/local/lib/python3.10/dist-packages (from datasets) (24.1)\n",
            "Requirement already satisfied: pyyaml>=5.1 in /usr/local/lib/python3.10/dist-packages (from datasets) (6.0.2)\n",
            "Requirement already satisfied: aiohappyeyeballs>=2.3.0 in /usr/local/lib/python3.10/dist-packages (from aiohttp->datasets) (2.4.0)\n",
            "Requirement already satisfied: aiosignal>=1.1.2 in /usr/local/lib/python3.10/dist-packages (from aiohttp->datasets) (1.3.1)\n",
            "Requirement already satisfied: attrs>=17.3.0 in /usr/local/lib/python3.10/dist-packages (from aiohttp->datasets) (24.2.0)\n",
            "Requirement already satisfied: frozenlist>=1.1.1 in /usr/local/lib/python3.10/dist-packages (from aiohttp->datasets) (1.4.1)\n",
            "Requirement already satisfied: multidict<7.0,>=4.5 in /usr/local/lib/python3.10/dist-packages (from aiohttp->datasets) (6.0.5)\n",
            "Requirement already satisfied: yarl<2.0,>=1.0 in /usr/local/lib/python3.10/dist-packages (from aiohttp->datasets) (1.9.4)\n",
            "Requirement already satisfied: async-timeout<5.0,>=4.0 in /usr/local/lib/python3.10/dist-packages (from aiohttp->datasets) (4.0.3)\n",
            "Requirement already satisfied: typing-extensions>=3.7.4.3 in /usr/local/lib/python3.10/dist-packages (from huggingface-hub>=0.21.2->datasets) (4.12.2)\n",
            "Requirement already satisfied: charset-normalizer<4,>=2 in /usr/local/lib/python3.10/dist-packages (from requests>=2.32.2->datasets) (3.3.2)\n",
            "Requirement already satisfied: idna<4,>=2.5 in /usr/local/lib/python3.10/dist-packages (from requests>=2.32.2->datasets) (3.7)\n",
            "Requirement already satisfied: urllib3<3,>=1.21.1 in /usr/local/lib/python3.10/dist-packages (from requests>=2.32.2->datasets) (2.0.7)\n",
            "Requirement already satisfied: certifi>=2017.4.17 in /usr/local/lib/python3.10/dist-packages (from requests>=2.32.2->datasets) (2024.7.4)\n",
            "Requirement already satisfied: python-dateutil>=2.8.2 in /usr/local/lib/python3.10/dist-packages (from pandas->datasets) (2.8.2)\n",
            "Requirement already satisfied: pytz>=2020.1 in /usr/local/lib/python3.10/dist-packages (from pandas->datasets) (2024.1)\n",
            "Requirement already satisfied: tzdata>=2022.1 in /usr/local/lib/python3.10/dist-packages (from pandas->datasets) (2024.1)\n",
            "Requirement already satisfied: six>=1.5 in /usr/local/lib/python3.10/dist-packages (from python-dateutil>=2.8.2->pandas->datasets) (1.16.0)\n"
          ]
        }
      ],
      "source": [
        "!pip install datasets"
      ]
    },
    {
      "cell_type": "code",
      "source": [
        "!pip install -U scikit-learn"
      ],
      "metadata": {
        "colab": {
          "base_uri": "https://localhost:8080/"
        },
        "id": "dNYa2DAxVYBY",
        "outputId": "a2c2c7c5-152b-4dc1-e700-8997e3667550"
      },
      "execution_count": null,
      "outputs": [
        {
          "output_type": "stream",
          "name": "stdout",
          "text": [
            "Requirement already satisfied: scikit-learn in /usr/local/lib/python3.10/dist-packages (1.3.2)\n",
            "Collecting scikit-learn\n",
            "  Downloading scikit_learn-1.5.1-cp310-cp310-manylinux_2_17_x86_64.manylinux2014_x86_64.whl.metadata (12 kB)\n",
            "Requirement already satisfied: numpy>=1.19.5 in /usr/local/lib/python3.10/dist-packages (from scikit-learn) (1.26.4)\n",
            "Requirement already satisfied: scipy>=1.6.0 in /usr/local/lib/python3.10/dist-packages (from scikit-learn) (1.13.1)\n",
            "Requirement already satisfied: joblib>=1.2.0 in /usr/local/lib/python3.10/dist-packages (from scikit-learn) (1.4.2)\n",
            "Requirement already satisfied: threadpoolctl>=3.1.0 in /usr/local/lib/python3.10/dist-packages (from scikit-learn) (3.5.0)\n",
            "Downloading scikit_learn-1.5.1-cp310-cp310-manylinux_2_17_x86_64.manylinux2014_x86_64.whl (13.4 MB)\n",
            "\u001b[2K   \u001b[90m━━━━━━━━━━━━━━━━━━━━━━━━━━━━━━━━━━━━━━━━\u001b[0m \u001b[32m13.4/13.4 MB\u001b[0m \u001b[31m65.8 MB/s\u001b[0m eta \u001b[36m0:00:00\u001b[0m\n",
            "\u001b[?25hInstalling collected packages: scikit-learn\n",
            "  Attempting uninstall: scikit-learn\n",
            "    Found existing installation: scikit-learn 1.3.2\n",
            "    Uninstalling scikit-learn-1.3.2:\n",
            "      Successfully uninstalled scikit-learn-1.3.2\n",
            "Successfully installed scikit-learn-1.5.1\n"
          ]
        }
      ]
    },
    {
      "cell_type": "code",
      "execution_count": null,
      "metadata": {
        "id": "iEsbLrc6SiVZ"
      },
      "outputs": [],
      "source": [
        "import numpy as np\n",
        "import torch\n",
        "from datasets import load_from_disk\n",
        "from transformers import BertTokenizerFast, BertForSequenceClassification, DataCollatorForTokenClassification, AutoModelForSequenceClassification, AutoModelForTokenClassification"
      ]
    },
    {
      "cell_type": "code",
      "execution_count": null,
      "metadata": {
        "id": "uowWbw09AmAH",
        "colab": {
          "base_uri": "https://localhost:8080/"
        },
        "outputId": "65e6382c-81ec-46e2-8e3e-28f5bce17ab0"
      },
      "outputs": [
        {
          "output_type": "stream",
          "name": "stdout",
          "text": [
            "Mounted at /content/drive\n"
          ]
        }
      ],
      "source": [
        "from google.colab import drive\n",
        "drive.mount('/content/drive')"
      ]
    },
    {
      "cell_type": "code",
      "execution_count": null,
      "metadata": {
        "id": "H9-SeeDISmks"
      },
      "outputs": [],
      "source": [
        "train_dataset = load_from_disk('/content/drive/MyDrive/Colab Notebooks/TESI/tryout/binary_training')\n",
        "validation_dataset = load_from_disk('/content/drive/MyDrive/Colab Notebooks/TESI/tryout/binary_evaluating')\n",
        "test_dataset = load_from_disk('/content/drive/MyDrive/Colab Notebooks/TESI/tryout/binary_testing')"
      ]
    },
    {
      "cell_type": "code",
      "execution_count": null,
      "metadata": {
        "id": "rlQ5RKXThv7G",
        "colab": {
          "base_uri": "https://localhost:8080/",
          "height": 237,
          "referenced_widgets": [
            "dd14e0e033364c80ad242bbaed74f39e",
            "781cb5178fbb468fae123bbddad07a46",
            "50d066f6729241e38f22ff929d035dbe",
            "515f672df632401984e12d0a11658794",
            "72feb275501c4406a1d801b00c0ff599",
            "d1dcf93f763d4df295d6432c97bca3f0",
            "dc8aba0145654954b9c21bca86d2f1e9",
            "1a4e1c8d023d45d79599ae1df5714313",
            "04c96dddf5a24315839e16f6256a2aa3",
            "743de31450594305af69a9765d902439",
            "ebeb6f06c93b4af28c677604677c06e9",
            "30720f50d41d4f728665f4f27fbe8840",
            "4a25de62ac36421385c8e802177e20d9",
            "60ef772e28c747438a6bac7f7d578d41",
            "7914dde3234848c994ef2d6543693d4d",
            "87003f889fd341b3ad661ceacad225a2",
            "e9a9c786682544099aac69d14b6b3d35",
            "9943a413b6fb4e00a759ee4b8a113dfd",
            "a08d501c93e64122b54240d4779cf885",
            "827eba3708a446ec80f41764793bb648",
            "1e5abb25f18f4e94994d69abb7cda76f",
            "eab1e395e16c4df98caef703f1461c14",
            "5d94e4298c154215ade67720df135db8",
            "905f83b3372d4f8398cb130da65fadaf",
            "f521feec2fb247eab6470220477401a7",
            "9f0d399565ef420e83ca62aafe4866f9",
            "1813a51c7f614f30b758638ac7cebb46",
            "bde273336b7748fcbd990d80597495fc",
            "e2f7c75d08ab43a7b5294184375574dc",
            "638097a48c5c451bad45aa504d74150a",
            "4d2a142cb9274866a13366a745649414",
            "de8d83ecc6d64d70b9067da757563ee8",
            "c09a492d84f84cb4a4b7ebdc3b7148bb"
          ]
        },
        "outputId": "fa6b7c37-b533-45ad-8994-c35da048bd0c"
      },
      "outputs": [
        {
          "output_type": "stream",
          "name": "stderr",
          "text": [
            "/usr/local/lib/python3.10/dist-packages/huggingface_hub/utils/_token.py:89: UserWarning: \n",
            "The secret `HF_TOKEN` does not exist in your Colab secrets.\n",
            "To authenticate with the Hugging Face Hub, create a token in your settings tab (https://huggingface.co/settings/tokens), set it as secret in your Google Colab and restart your session.\n",
            "You will be able to reuse this secret in all of your notebooks.\n",
            "Please note that authentication is recommended but still optional to access public models or datasets.\n",
            "  warnings.warn(\n"
          ]
        },
        {
          "output_type": "display_data",
          "data": {
            "text/plain": [
              "tokenizer_config.json:   0%|          | 0.00/59.0 [00:00<?, ?B/s]"
            ],
            "application/vnd.jupyter.widget-view+json": {
              "version_major": 2,
              "version_minor": 0,
              "model_id": "dd14e0e033364c80ad242bbaed74f39e"
            }
          },
          "metadata": {}
        },
        {
          "output_type": "display_data",
          "data": {
            "text/plain": [
              "vocab.txt:   0%|          | 0.00/235k [00:00<?, ?B/s]"
            ],
            "application/vnd.jupyter.widget-view+json": {
              "version_major": 2,
              "version_minor": 0,
              "model_id": "30720f50d41d4f728665f4f27fbe8840"
            }
          },
          "metadata": {}
        },
        {
          "output_type": "display_data",
          "data": {
            "text/plain": [
              "config.json:   0%|          | 0.00/433 [00:00<?, ?B/s]"
            ],
            "application/vnd.jupyter.widget-view+json": {
              "version_major": 2,
              "version_minor": 0,
              "model_id": "5d94e4298c154215ade67720df135db8"
            }
          },
          "metadata": {}
        }
      ],
      "source": [
        "tokenizer=BertTokenizerFast.from_pretrained('dbmdz/bert-base-italian-cased')"
      ]
    },
    {
      "cell_type": "code",
      "execution_count": null,
      "metadata": {
        "id": "8N6CyQzDifT-",
        "colab": {
          "base_uri": "https://localhost:8080/"
        },
        "outputId": "d5d7a596-4405-400b-c6e7-0aff414259df"
      },
      "outputs": [
        {
          "output_type": "execute_result",
          "data": {
            "text/plain": [
              "{'sentence_id': ['1749'],\n",
              " 'tokens': ['E',\n",
              "  'il',\n",
              "  'presidente',\n",
              "  'Tudjman',\n",
              "  ',',\n",
              "  'che',\n",
              "  'ha',\n",
              "  'visitato',\n",
              "  'Knin',\n",
              "  ',',\n",
              "  'ha',\n",
              "  'proclamato',\n",
              "  ':',\n",
              "  '\"',\n",
              "  'Oggi',\n",
              "  'abbiamo',\n",
              "  'finalmente',\n",
              "  'completato',\n",
              "  'le',\n",
              "  'fondamenta',\n",
              "  'per',\n",
              "  'una',\n",
              "  'Croazia',\n",
              "  'libera',\n",
              "  'e',\n",
              "  'stabile',\n",
              "  '\"',\n",
              "  '.'],\n",
              " 'words_ids': ['word_816',\n",
              "  'word_817',\n",
              "  'word_818',\n",
              "  'word_819',\n",
              "  'word_820',\n",
              "  'word_821',\n",
              "  'word_822',\n",
              "  'word_823',\n",
              "  'word_824',\n",
              "  'word_825',\n",
              "  'word_826',\n",
              "  'word_827',\n",
              "  'word_828',\n",
              "  'word_829',\n",
              "  'word_830',\n",
              "  'word_831',\n",
              "  'word_832',\n",
              "  'word_833',\n",
              "  'word_834',\n",
              "  'word_835',\n",
              "  'word_836',\n",
              "  'word_837',\n",
              "  'word_838',\n",
              "  'word_839',\n",
              "  'word_840',\n",
              "  'word_841',\n",
              "  'word_842',\n",
              "  'word_843'],\n",
              " 'tag': [1,\n",
              "  1,\n",
              "  1,\n",
              "  1,\n",
              "  1,\n",
              "  1,\n",
              "  1,\n",
              "  1,\n",
              "  1,\n",
              "  1,\n",
              "  1,\n",
              "  1,\n",
              "  1,\n",
              "  1,\n",
              "  1,\n",
              "  1,\n",
              "  1,\n",
              "  1,\n",
              "  1,\n",
              "  1,\n",
              "  1,\n",
              "  1,\n",
              "  1,\n",
              "  1,\n",
              "  1,\n",
              "  1,\n",
              "  1,\n",
              "  1]}"
            ]
          },
          "metadata": {},
          "execution_count": 11
        }
      ],
      "source": [
        "example_text=train_dataset[1]\n",
        "example_text"
      ]
    },
    {
      "cell_type": "code",
      "execution_count": null,
      "metadata": {
        "id": "_3n-2oV2eqcm",
        "colab": {
          "base_uri": "https://localhost:8080/"
        },
        "outputId": "53b07036-27c5-41c2-bbe8-61bf33c7b21c"
      },
      "outputs": [
        {
          "output_type": "execute_result",
          "data": {
            "text/plain": [
              "Sequence(feature=ClassLabel(names=['quote', 'O'], id=None), length=-1, id=None)"
            ]
          },
          "metadata": {},
          "execution_count": 12
        }
      ],
      "source": [
        "train_dataset.features['tag']"
      ]
    },
    {
      "cell_type": "code",
      "execution_count": null,
      "metadata": {
        "id": "SNodDY5FitUn",
        "colab": {
          "base_uri": "https://localhost:8080/"
        },
        "outputId": "86972a16-a976-4387-b66a-dd906fb1b268"
      },
      "outputs": [
        {
          "output_type": "execute_result",
          "data": {
            "text/plain": [
              "[None,\n",
              " 0,\n",
              " 1,\n",
              " 2,\n",
              " 3,\n",
              " 3,\n",
              " 3,\n",
              " 3,\n",
              " 4,\n",
              " 5,\n",
              " 6,\n",
              " 7,\n",
              " 8,\n",
              " 8,\n",
              " 9,\n",
              " 10,\n",
              " 11,\n",
              " 12,\n",
              " 13,\n",
              " 14,\n",
              " 15,\n",
              " 16,\n",
              " 17,\n",
              " 18,\n",
              " 19,\n",
              " 20,\n",
              " 21,\n",
              " 22,\n",
              " 23,\n",
              " 24,\n",
              " 25,\n",
              " 26,\n",
              " 27,\n",
              " None]"
            ]
          },
          "metadata": {},
          "execution_count": 13
        }
      ],
      "source": [
        "tokenized_input=tokenizer(example_text['tokens'], is_split_into_words=True)\n",
        "tokens=tokenizer.convert_ids_to_tokens(tokenized_input['input_ids'])\n",
        "word_ids=tokenized_input.word_ids()\n",
        "word_ids"
      ]
    },
    {
      "cell_type": "code",
      "execution_count": null,
      "metadata": {
        "id": "vbLWB_zxjbjX",
        "colab": {
          "base_uri": "https://localhost:8080/"
        },
        "outputId": "e2cda665-7bae-4d41-ead0-e428bf3d878b"
      },
      "outputs": [
        {
          "output_type": "execute_result",
          "data": {
            "text/plain": [
              "['[CLS]',\n",
              " 'E',\n",
              " 'il',\n",
              " 'presidente',\n",
              " 'Tu',\n",
              " '##d',\n",
              " '##j',\n",
              " '##man',\n",
              " ',',\n",
              " 'che',\n",
              " 'ha',\n",
              " 'visitato',\n",
              " 'Kn',\n",
              " '##in',\n",
              " ',',\n",
              " 'ha',\n",
              " 'proclamato',\n",
              " ':',\n",
              " '\"',\n",
              " 'Oggi',\n",
              " 'abbiamo',\n",
              " 'finalmente',\n",
              " 'completato',\n",
              " 'le',\n",
              " 'fondamenta',\n",
              " 'per',\n",
              " 'una',\n",
              " 'Croazia',\n",
              " 'libera',\n",
              " 'e',\n",
              " 'stabile',\n",
              " '\"',\n",
              " '.',\n",
              " '[SEP]']"
            ]
          },
          "metadata": {},
          "execution_count": 14
        }
      ],
      "source": [
        "tokens=tokenizer.convert_ids_to_tokens(tokenized_input['input_ids'])\n",
        "tokens"
      ]
    },
    {
      "cell_type": "code",
      "execution_count": null,
      "metadata": {
        "id": "vDulldZOjpkK",
        "colab": {
          "base_uri": "https://localhost:8080/"
        },
        "outputId": "e8d612fe-155f-42c3-ccc2-bae446e24364"
      },
      "outputs": [
        {
          "output_type": "execute_result",
          "data": {
            "text/plain": [
              "(28, 34)"
            ]
          },
          "metadata": {},
          "execution_count": 15
        }
      ],
      "source": [
        "len(example_text['tag']), len(tokenized_input['input_ids'])"
      ]
    },
    {
      "cell_type": "code",
      "execution_count": null,
      "metadata": {
        "id": "ksHSDuzuBMo2"
      },
      "outputs": [],
      "source": [
        "def tokenize_and_align_labels(example, label_all_tokens=True):\n",
        "    tokenized_input = tokenizer(example['tokens'], padding='max_length', truncation=True, return_tensors='pt', is_split_into_words=True)\n",
        "    labels = []\n",
        "\n",
        "    for i, label in enumerate(example['tag']):\n",
        "        word_ids = tokenized_input.word_ids(batch_index=i)\n",
        "        previous_word_idx = None\n",
        "        label_ids = []\n",
        "\n",
        "        for word_idx in word_ids:\n",
        "            if word_idx is None:\n",
        "                label_ids.append(-100)\n",
        "            elif word_idx != previous_word_idx:\n",
        "                label_ids.append(label[word_idx])\n",
        "            else:\n",
        "                label_ids.append(label[word_idx] if label_all_tokens else -100)\n",
        "            previous_word_idx = word_idx\n",
        "\n",
        "        labels.append(label_ids)\n",
        "\n",
        "    labels = torch.tensor(labels).reshape(tokenized_input[\"input_ids\"].shape)\n",
        "    tokenized_input['labels'] = labels\n",
        "\n",
        "    return tokenized_input"
      ]
    },
    {
      "cell_type": "code",
      "execution_count": null,
      "metadata": {
        "id": "NKaHAOfERg4a",
        "colab": {
          "base_uri": "https://localhost:8080/"
        },
        "outputId": "7510a9ad-1f2c-45e4-b839-3ac5199b0233"
      },
      "outputs": [
        {
          "output_type": "stream",
          "name": "stdout",
          "text": [
            "{'input_ids': tensor([[  102,   211,   162,  2792,   670, 30886, 30957,   457,  1307,   158,\n",
            "           278, 16056, 30610,   117,  1307,   278, 30317,  1587,   284,  4231,\n",
            "          1053,  5858, 11285,   199, 23682,   156,   224,  9352,  2201,   126,\n",
            "          9699,   284,   697,   103,     0,     0,     0,     0,     0,     0,\n",
            "             0,     0,     0,     0,     0,     0,     0,     0,     0,     0,\n",
            "             0,     0,     0,     0,     0,     0,     0,     0,     0,     0,\n",
            "             0,     0,     0,     0,     0,     0,     0,     0,     0,     0,\n",
            "             0,     0,     0,     0,     0,     0,     0,     0,     0,     0,\n",
            "             0,     0,     0,     0,     0,     0,     0,     0,     0,     0,\n",
            "             0,     0,     0,     0,     0,     0,     0,     0,     0,     0,\n",
            "             0,     0,     0,     0,     0,     0,     0,     0,     0,     0,\n",
            "             0,     0,     0,     0,     0,     0,     0,     0,     0,     0,\n",
            "             0,     0,     0,     0,     0,     0,     0,     0,     0,     0,\n",
            "             0,     0,     0,     0,     0,     0,     0,     0,     0,     0,\n",
            "             0,     0,     0,     0,     0,     0,     0,     0,     0,     0,\n",
            "             0,     0,     0,     0,     0,     0,     0,     0,     0,     0,\n",
            "             0,     0,     0,     0,     0,     0,     0,     0,     0,     0,\n",
            "             0,     0,     0,     0,     0,     0,     0,     0,     0,     0,\n",
            "             0,     0,     0,     0,     0,     0,     0,     0,     0,     0,\n",
            "             0,     0,     0,     0,     0,     0,     0,     0,     0,     0,\n",
            "             0,     0,     0,     0,     0,     0,     0,     0,     0,     0,\n",
            "             0,     0,     0,     0,     0,     0,     0,     0,     0,     0,\n",
            "             0,     0,     0,     0,     0,     0,     0,     0,     0,     0,\n",
            "             0,     0,     0,     0,     0,     0,     0,     0,     0,     0,\n",
            "             0,     0,     0,     0,     0,     0,     0,     0,     0,     0,\n",
            "             0,     0,     0,     0,     0,     0,     0,     0,     0,     0,\n",
            "             0,     0,     0,     0,     0,     0,     0,     0,     0,     0,\n",
            "             0,     0,     0,     0,     0,     0,     0,     0,     0,     0,\n",
            "             0,     0,     0,     0,     0,     0,     0,     0,     0,     0,\n",
            "             0,     0,     0,     0,     0,     0,     0,     0,     0,     0,\n",
            "             0,     0,     0,     0,     0,     0,     0,     0,     0,     0,\n",
            "             0,     0,     0,     0,     0,     0,     0,     0,     0,     0,\n",
            "             0,     0,     0,     0,     0,     0,     0,     0,     0,     0,\n",
            "             0,     0,     0,     0,     0,     0,     0,     0,     0,     0,\n",
            "             0,     0,     0,     0,     0,     0,     0,     0,     0,     0,\n",
            "             0,     0,     0,     0,     0,     0,     0,     0,     0,     0,\n",
            "             0,     0,     0,     0,     0,     0,     0,     0,     0,     0,\n",
            "             0,     0,     0,     0,     0,     0,     0,     0,     0,     0,\n",
            "             0,     0,     0,     0,     0,     0,     0,     0,     0,     0,\n",
            "             0,     0,     0,     0,     0,     0,     0,     0,     0,     0,\n",
            "             0,     0,     0,     0,     0,     0,     0,     0,     0,     0,\n",
            "             0,     0,     0,     0,     0,     0,     0,     0,     0,     0,\n",
            "             0,     0,     0,     0,     0,     0,     0,     0,     0,     0,\n",
            "             0,     0,     0,     0,     0,     0,     0,     0,     0,     0,\n",
            "             0,     0,     0,     0,     0,     0,     0,     0,     0,     0,\n",
            "             0,     0,     0,     0,     0,     0,     0,     0,     0,     0,\n",
            "             0,     0,     0,     0,     0,     0,     0,     0,     0,     0,\n",
            "             0,     0,     0,     0,     0,     0,     0,     0,     0,     0,\n",
            "             0,     0,     0,     0,     0,     0,     0,     0,     0,     0,\n",
            "             0,     0,     0,     0,     0,     0,     0,     0,     0,     0,\n",
            "             0,     0,     0,     0,     0,     0,     0,     0,     0,     0,\n",
            "             0,     0]]), 'token_type_ids': tensor([[0, 0, 0, 0, 0, 0, 0, 0, 0, 0, 0, 0, 0, 0, 0, 0, 0, 0, 0, 0, 0, 0, 0, 0,\n",
            "         0, 0, 0, 0, 0, 0, 0, 0, 0, 0, 0, 0, 0, 0, 0, 0, 0, 0, 0, 0, 0, 0, 0, 0,\n",
            "         0, 0, 0, 0, 0, 0, 0, 0, 0, 0, 0, 0, 0, 0, 0, 0, 0, 0, 0, 0, 0, 0, 0, 0,\n",
            "         0, 0, 0, 0, 0, 0, 0, 0, 0, 0, 0, 0, 0, 0, 0, 0, 0, 0, 0, 0, 0, 0, 0, 0,\n",
            "         0, 0, 0, 0, 0, 0, 0, 0, 0, 0, 0, 0, 0, 0, 0, 0, 0, 0, 0, 0, 0, 0, 0, 0,\n",
            "         0, 0, 0, 0, 0, 0, 0, 0, 0, 0, 0, 0, 0, 0, 0, 0, 0, 0, 0, 0, 0, 0, 0, 0,\n",
            "         0, 0, 0, 0, 0, 0, 0, 0, 0, 0, 0, 0, 0, 0, 0, 0, 0, 0, 0, 0, 0, 0, 0, 0,\n",
            "         0, 0, 0, 0, 0, 0, 0, 0, 0, 0, 0, 0, 0, 0, 0, 0, 0, 0, 0, 0, 0, 0, 0, 0,\n",
            "         0, 0, 0, 0, 0, 0, 0, 0, 0, 0, 0, 0, 0, 0, 0, 0, 0, 0, 0, 0, 0, 0, 0, 0,\n",
            "         0, 0, 0, 0, 0, 0, 0, 0, 0, 0, 0, 0, 0, 0, 0, 0, 0, 0, 0, 0, 0, 0, 0, 0,\n",
            "         0, 0, 0, 0, 0, 0, 0, 0, 0, 0, 0, 0, 0, 0, 0, 0, 0, 0, 0, 0, 0, 0, 0, 0,\n",
            "         0, 0, 0, 0, 0, 0, 0, 0, 0, 0, 0, 0, 0, 0, 0, 0, 0, 0, 0, 0, 0, 0, 0, 0,\n",
            "         0, 0, 0, 0, 0, 0, 0, 0, 0, 0, 0, 0, 0, 0, 0, 0, 0, 0, 0, 0, 0, 0, 0, 0,\n",
            "         0, 0, 0, 0, 0, 0, 0, 0, 0, 0, 0, 0, 0, 0, 0, 0, 0, 0, 0, 0, 0, 0, 0, 0,\n",
            "         0, 0, 0, 0, 0, 0, 0, 0, 0, 0, 0, 0, 0, 0, 0, 0, 0, 0, 0, 0, 0, 0, 0, 0,\n",
            "         0, 0, 0, 0, 0, 0, 0, 0, 0, 0, 0, 0, 0, 0, 0, 0, 0, 0, 0, 0, 0, 0, 0, 0,\n",
            "         0, 0, 0, 0, 0, 0, 0, 0, 0, 0, 0, 0, 0, 0, 0, 0, 0, 0, 0, 0, 0, 0, 0, 0,\n",
            "         0, 0, 0, 0, 0, 0, 0, 0, 0, 0, 0, 0, 0, 0, 0, 0, 0, 0, 0, 0, 0, 0, 0, 0,\n",
            "         0, 0, 0, 0, 0, 0, 0, 0, 0, 0, 0, 0, 0, 0, 0, 0, 0, 0, 0, 0, 0, 0, 0, 0,\n",
            "         0, 0, 0, 0, 0, 0, 0, 0, 0, 0, 0, 0, 0, 0, 0, 0, 0, 0, 0, 0, 0, 0, 0, 0,\n",
            "         0, 0, 0, 0, 0, 0, 0, 0, 0, 0, 0, 0, 0, 0, 0, 0, 0, 0, 0, 0, 0, 0, 0, 0,\n",
            "         0, 0, 0, 0, 0, 0, 0, 0]]), 'attention_mask': tensor([[1, 1, 1, 1, 1, 1, 1, 1, 1, 1, 1, 1, 1, 1, 1, 1, 1, 1, 1, 1, 1, 1, 1, 1,\n",
            "         1, 1, 1, 1, 1, 1, 1, 1, 1, 1, 0, 0, 0, 0, 0, 0, 0, 0, 0, 0, 0, 0, 0, 0,\n",
            "         0, 0, 0, 0, 0, 0, 0, 0, 0, 0, 0, 0, 0, 0, 0, 0, 0, 0, 0, 0, 0, 0, 0, 0,\n",
            "         0, 0, 0, 0, 0, 0, 0, 0, 0, 0, 0, 0, 0, 0, 0, 0, 0, 0, 0, 0, 0, 0, 0, 0,\n",
            "         0, 0, 0, 0, 0, 0, 0, 0, 0, 0, 0, 0, 0, 0, 0, 0, 0, 0, 0, 0, 0, 0, 0, 0,\n",
            "         0, 0, 0, 0, 0, 0, 0, 0, 0, 0, 0, 0, 0, 0, 0, 0, 0, 0, 0, 0, 0, 0, 0, 0,\n",
            "         0, 0, 0, 0, 0, 0, 0, 0, 0, 0, 0, 0, 0, 0, 0, 0, 0, 0, 0, 0, 0, 0, 0, 0,\n",
            "         0, 0, 0, 0, 0, 0, 0, 0, 0, 0, 0, 0, 0, 0, 0, 0, 0, 0, 0, 0, 0, 0, 0, 0,\n",
            "         0, 0, 0, 0, 0, 0, 0, 0, 0, 0, 0, 0, 0, 0, 0, 0, 0, 0, 0, 0, 0, 0, 0, 0,\n",
            "         0, 0, 0, 0, 0, 0, 0, 0, 0, 0, 0, 0, 0, 0, 0, 0, 0, 0, 0, 0, 0, 0, 0, 0,\n",
            "         0, 0, 0, 0, 0, 0, 0, 0, 0, 0, 0, 0, 0, 0, 0, 0, 0, 0, 0, 0, 0, 0, 0, 0,\n",
            "         0, 0, 0, 0, 0, 0, 0, 0, 0, 0, 0, 0, 0, 0, 0, 0, 0, 0, 0, 0, 0, 0, 0, 0,\n",
            "         0, 0, 0, 0, 0, 0, 0, 0, 0, 0, 0, 0, 0, 0, 0, 0, 0, 0, 0, 0, 0, 0, 0, 0,\n",
            "         0, 0, 0, 0, 0, 0, 0, 0, 0, 0, 0, 0, 0, 0, 0, 0, 0, 0, 0, 0, 0, 0, 0, 0,\n",
            "         0, 0, 0, 0, 0, 0, 0, 0, 0, 0, 0, 0, 0, 0, 0, 0, 0, 0, 0, 0, 0, 0, 0, 0,\n",
            "         0, 0, 0, 0, 0, 0, 0, 0, 0, 0, 0, 0, 0, 0, 0, 0, 0, 0, 0, 0, 0, 0, 0, 0,\n",
            "         0, 0, 0, 0, 0, 0, 0, 0, 0, 0, 0, 0, 0, 0, 0, 0, 0, 0, 0, 0, 0, 0, 0, 0,\n",
            "         0, 0, 0, 0, 0, 0, 0, 0, 0, 0, 0, 0, 0, 0, 0, 0, 0, 0, 0, 0, 0, 0, 0, 0,\n",
            "         0, 0, 0, 0, 0, 0, 0, 0, 0, 0, 0, 0, 0, 0, 0, 0, 0, 0, 0, 0, 0, 0, 0, 0,\n",
            "         0, 0, 0, 0, 0, 0, 0, 0, 0, 0, 0, 0, 0, 0, 0, 0, 0, 0, 0, 0, 0, 0, 0, 0,\n",
            "         0, 0, 0, 0, 0, 0, 0, 0, 0, 0, 0, 0, 0, 0, 0, 0, 0, 0, 0, 0, 0, 0, 0, 0,\n",
            "         0, 0, 0, 0, 0, 0, 0, 0]]), 'labels': tensor([[-100,    1,    1,    1,    1,    1,    1,    1,    1,    1,    1,    1,\n",
            "            1,    1,    1,    1,    1,    1,    1,    1,    1,    1,    1,    1,\n",
            "            1,    1,    1,    1,    1,    1,    1,    1,    1, -100, -100, -100,\n",
            "         -100, -100, -100, -100, -100, -100, -100, -100, -100, -100, -100, -100,\n",
            "         -100, -100, -100, -100, -100, -100, -100, -100, -100, -100, -100, -100,\n",
            "         -100, -100, -100, -100, -100, -100, -100, -100, -100, -100, -100, -100,\n",
            "         -100, -100, -100, -100, -100, -100, -100, -100, -100, -100, -100, -100,\n",
            "         -100, -100, -100, -100, -100, -100, -100, -100, -100, -100, -100, -100,\n",
            "         -100, -100, -100, -100, -100, -100, -100, -100, -100, -100, -100, -100,\n",
            "         -100, -100, -100, -100, -100, -100, -100, -100, -100, -100, -100, -100,\n",
            "         -100, -100, -100, -100, -100, -100, -100, -100, -100, -100, -100, -100,\n",
            "         -100, -100, -100, -100, -100, -100, -100, -100, -100, -100, -100, -100,\n",
            "         -100, -100, -100, -100, -100, -100, -100, -100, -100, -100, -100, -100,\n",
            "         -100, -100, -100, -100, -100, -100, -100, -100, -100, -100, -100, -100,\n",
            "         -100, -100, -100, -100, -100, -100, -100, -100, -100, -100, -100, -100,\n",
            "         -100, -100, -100, -100, -100, -100, -100, -100, -100, -100, -100, -100,\n",
            "         -100, -100, -100, -100, -100, -100, -100, -100, -100, -100, -100, -100,\n",
            "         -100, -100, -100, -100, -100, -100, -100, -100, -100, -100, -100, -100,\n",
            "         -100, -100, -100, -100, -100, -100, -100, -100, -100, -100, -100, -100,\n",
            "         -100, -100, -100, -100, -100, -100, -100, -100, -100, -100, -100, -100,\n",
            "         -100, -100, -100, -100, -100, -100, -100, -100, -100, -100, -100, -100,\n",
            "         -100, -100, -100, -100, -100, -100, -100, -100, -100, -100, -100, -100,\n",
            "         -100, -100, -100, -100, -100, -100, -100, -100, -100, -100, -100, -100,\n",
            "         -100, -100, -100, -100, -100, -100, -100, -100, -100, -100, -100, -100,\n",
            "         -100, -100, -100, -100, -100, -100, -100, -100, -100, -100, -100, -100,\n",
            "         -100, -100, -100, -100, -100, -100, -100, -100, -100, -100, -100, -100,\n",
            "         -100, -100, -100, -100, -100, -100, -100, -100, -100, -100, -100, -100,\n",
            "         -100, -100, -100, -100, -100, -100, -100, -100, -100, -100, -100, -100,\n",
            "         -100, -100, -100, -100, -100, -100, -100, -100, -100, -100, -100, -100,\n",
            "         -100, -100, -100, -100, -100, -100, -100, -100, -100, -100, -100, -100,\n",
            "         -100, -100, -100, -100, -100, -100, -100, -100, -100, -100, -100, -100,\n",
            "         -100, -100, -100, -100, -100, -100, -100, -100, -100, -100, -100, -100,\n",
            "         -100, -100, -100, -100, -100, -100, -100, -100, -100, -100, -100, -100,\n",
            "         -100, -100, -100, -100, -100, -100, -100, -100, -100, -100, -100, -100,\n",
            "         -100, -100, -100, -100, -100, -100, -100, -100, -100, -100, -100, -100,\n",
            "         -100, -100, -100, -100, -100, -100, -100, -100, -100, -100, -100, -100,\n",
            "         -100, -100, -100, -100, -100, -100, -100, -100, -100, -100, -100, -100,\n",
            "         -100, -100, -100, -100, -100, -100, -100, -100, -100, -100, -100, -100,\n",
            "         -100, -100, -100, -100, -100, -100, -100, -100, -100, -100, -100, -100,\n",
            "         -100, -100, -100, -100, -100, -100, -100, -100, -100, -100, -100, -100,\n",
            "         -100, -100, -100, -100, -100, -100, -100, -100, -100, -100, -100, -100,\n",
            "         -100, -100, -100, -100, -100, -100, -100, -100, -100, -100, -100, -100,\n",
            "         -100, -100, -100, -100, -100, -100, -100, -100]])}\n"
          ]
        }
      ],
      "source": [
        "q = tokenize_and_align_labels(train_dataset[1:2])\n",
        "print(q)"
      ]
    },
    {
      "cell_type": "code",
      "execution_count": null,
      "metadata": {
        "id": "RIFS42yPRyJD",
        "colab": {
          "base_uri": "https://localhost:8080/"
        },
        "outputId": "344a2a90-db97-4fa9-8554-51cfcb602beb"
      },
      "outputs": [
        {
          "output_type": "stream",
          "name": "stdout",
          "text": [
            "[CLS]___________________________________ -100\n",
            "E_______________________________________ 1\n",
            "il______________________________________ 1\n",
            "presidente______________________________ 1\n",
            "Tu______________________________________ 1\n",
            "##d_____________________________________ 1\n",
            "##j_____________________________________ 1\n",
            "##man___________________________________ 1\n",
            ",_______________________________________ 1\n",
            "che_____________________________________ 1\n",
            "ha______________________________________ 1\n",
            "visitato________________________________ 1\n",
            "Kn______________________________________ 1\n",
            "##in____________________________________ 1\n",
            ",_______________________________________ 1\n",
            "ha______________________________________ 1\n",
            "proclamato______________________________ 1\n",
            ":_______________________________________ 1\n",
            "\"_______________________________________ 1\n",
            "Oggi____________________________________ 1\n",
            "abbiamo_________________________________ 1\n",
            "finalmente______________________________ 1\n",
            "completato______________________________ 1\n",
            "le______________________________________ 1\n",
            "fondamenta______________________________ 1\n",
            "per_____________________________________ 1\n",
            "una_____________________________________ 1\n",
            "Croazia_________________________________ 1\n",
            "libera__________________________________ 1\n",
            "e_______________________________________ 1\n",
            "stabile_________________________________ 1\n",
            "\"_______________________________________ 1\n",
            "._______________________________________ 1\n",
            "[SEP]___________________________________ -100\n",
            "[PAD]___________________________________ -100\n",
            "[PAD]___________________________________ -100\n",
            "[PAD]___________________________________ -100\n",
            "[PAD]___________________________________ -100\n",
            "[PAD]___________________________________ -100\n",
            "[PAD]___________________________________ -100\n",
            "[PAD]___________________________________ -100\n",
            "[PAD]___________________________________ -100\n",
            "[PAD]___________________________________ -100\n",
            "[PAD]___________________________________ -100\n",
            "[PAD]___________________________________ -100\n",
            "[PAD]___________________________________ -100\n",
            "[PAD]___________________________________ -100\n",
            "[PAD]___________________________________ -100\n",
            "[PAD]___________________________________ -100\n",
            "[PAD]___________________________________ -100\n",
            "[PAD]___________________________________ -100\n",
            "[PAD]___________________________________ -100\n",
            "[PAD]___________________________________ -100\n",
            "[PAD]___________________________________ -100\n",
            "[PAD]___________________________________ -100\n",
            "[PAD]___________________________________ -100\n",
            "[PAD]___________________________________ -100\n",
            "[PAD]___________________________________ -100\n",
            "[PAD]___________________________________ -100\n",
            "[PAD]___________________________________ -100\n",
            "[PAD]___________________________________ -100\n",
            "[PAD]___________________________________ -100\n",
            "[PAD]___________________________________ -100\n",
            "[PAD]___________________________________ -100\n",
            "[PAD]___________________________________ -100\n",
            "[PAD]___________________________________ -100\n",
            "[PAD]___________________________________ -100\n",
            "[PAD]___________________________________ -100\n",
            "[PAD]___________________________________ -100\n",
            "[PAD]___________________________________ -100\n",
            "[PAD]___________________________________ -100\n",
            "[PAD]___________________________________ -100\n",
            "[PAD]___________________________________ -100\n",
            "[PAD]___________________________________ -100\n",
            "[PAD]___________________________________ -100\n",
            "[PAD]___________________________________ -100\n",
            "[PAD]___________________________________ -100\n",
            "[PAD]___________________________________ -100\n",
            "[PAD]___________________________________ -100\n",
            "[PAD]___________________________________ -100\n",
            "[PAD]___________________________________ -100\n",
            "[PAD]___________________________________ -100\n",
            "[PAD]___________________________________ -100\n",
            "[PAD]___________________________________ -100\n",
            "[PAD]___________________________________ -100\n",
            "[PAD]___________________________________ -100\n",
            "[PAD]___________________________________ -100\n",
            "[PAD]___________________________________ -100\n",
            "[PAD]___________________________________ -100\n",
            "[PAD]___________________________________ -100\n",
            "[PAD]___________________________________ -100\n",
            "[PAD]___________________________________ -100\n",
            "[PAD]___________________________________ -100\n",
            "[PAD]___________________________________ -100\n",
            "[PAD]___________________________________ -100\n",
            "[PAD]___________________________________ -100\n",
            "[PAD]___________________________________ -100\n",
            "[PAD]___________________________________ -100\n",
            "[PAD]___________________________________ -100\n",
            "[PAD]___________________________________ -100\n",
            "[PAD]___________________________________ -100\n",
            "[PAD]___________________________________ -100\n",
            "[PAD]___________________________________ -100\n",
            "[PAD]___________________________________ -100\n",
            "[PAD]___________________________________ -100\n",
            "[PAD]___________________________________ -100\n",
            "[PAD]___________________________________ -100\n",
            "[PAD]___________________________________ -100\n",
            "[PAD]___________________________________ -100\n",
            "[PAD]___________________________________ -100\n",
            "[PAD]___________________________________ -100\n",
            "[PAD]___________________________________ -100\n",
            "[PAD]___________________________________ -100\n",
            "[PAD]___________________________________ -100\n",
            "[PAD]___________________________________ -100\n",
            "[PAD]___________________________________ -100\n",
            "[PAD]___________________________________ -100\n",
            "[PAD]___________________________________ -100\n",
            "[PAD]___________________________________ -100\n",
            "[PAD]___________________________________ -100\n",
            "[PAD]___________________________________ -100\n",
            "[PAD]___________________________________ -100\n",
            "[PAD]___________________________________ -100\n",
            "[PAD]___________________________________ -100\n",
            "[PAD]___________________________________ -100\n",
            "[PAD]___________________________________ -100\n",
            "[PAD]___________________________________ -100\n",
            "[PAD]___________________________________ -100\n",
            "[PAD]___________________________________ -100\n",
            "[PAD]___________________________________ -100\n",
            "[PAD]___________________________________ -100\n",
            "[PAD]___________________________________ -100\n",
            "[PAD]___________________________________ -100\n",
            "[PAD]___________________________________ -100\n",
            "[PAD]___________________________________ -100\n",
            "[PAD]___________________________________ -100\n",
            "[PAD]___________________________________ -100\n",
            "[PAD]___________________________________ -100\n",
            "[PAD]___________________________________ -100\n",
            "[PAD]___________________________________ -100\n",
            "[PAD]___________________________________ -100\n",
            "[PAD]___________________________________ -100\n",
            "[PAD]___________________________________ -100\n",
            "[PAD]___________________________________ -100\n",
            "[PAD]___________________________________ -100\n",
            "[PAD]___________________________________ -100\n",
            "[PAD]___________________________________ -100\n",
            "[PAD]___________________________________ -100\n",
            "[PAD]___________________________________ -100\n",
            "[PAD]___________________________________ -100\n",
            "[PAD]___________________________________ -100\n",
            "[PAD]___________________________________ -100\n",
            "[PAD]___________________________________ -100\n",
            "[PAD]___________________________________ -100\n",
            "[PAD]___________________________________ -100\n",
            "[PAD]___________________________________ -100\n",
            "[PAD]___________________________________ -100\n",
            "[PAD]___________________________________ -100\n",
            "[PAD]___________________________________ -100\n",
            "[PAD]___________________________________ -100\n",
            "[PAD]___________________________________ -100\n",
            "[PAD]___________________________________ -100\n",
            "[PAD]___________________________________ -100\n",
            "[PAD]___________________________________ -100\n",
            "[PAD]___________________________________ -100\n",
            "[PAD]___________________________________ -100\n",
            "[PAD]___________________________________ -100\n",
            "[PAD]___________________________________ -100\n",
            "[PAD]___________________________________ -100\n",
            "[PAD]___________________________________ -100\n",
            "[PAD]___________________________________ -100\n",
            "[PAD]___________________________________ -100\n",
            "[PAD]___________________________________ -100\n",
            "[PAD]___________________________________ -100\n",
            "[PAD]___________________________________ -100\n",
            "[PAD]___________________________________ -100\n",
            "[PAD]___________________________________ -100\n",
            "[PAD]___________________________________ -100\n",
            "[PAD]___________________________________ -100\n",
            "[PAD]___________________________________ -100\n",
            "[PAD]___________________________________ -100\n",
            "[PAD]___________________________________ -100\n",
            "[PAD]___________________________________ -100\n",
            "[PAD]___________________________________ -100\n",
            "[PAD]___________________________________ -100\n",
            "[PAD]___________________________________ -100\n",
            "[PAD]___________________________________ -100\n",
            "[PAD]___________________________________ -100\n",
            "[PAD]___________________________________ -100\n",
            "[PAD]___________________________________ -100\n",
            "[PAD]___________________________________ -100\n",
            "[PAD]___________________________________ -100\n",
            "[PAD]___________________________________ -100\n",
            "[PAD]___________________________________ -100\n",
            "[PAD]___________________________________ -100\n",
            "[PAD]___________________________________ -100\n",
            "[PAD]___________________________________ -100\n",
            "[PAD]___________________________________ -100\n",
            "[PAD]___________________________________ -100\n",
            "[PAD]___________________________________ -100\n",
            "[PAD]___________________________________ -100\n",
            "[PAD]___________________________________ -100\n",
            "[PAD]___________________________________ -100\n",
            "[PAD]___________________________________ -100\n",
            "[PAD]___________________________________ -100\n",
            "[PAD]___________________________________ -100\n",
            "[PAD]___________________________________ -100\n",
            "[PAD]___________________________________ -100\n",
            "[PAD]___________________________________ -100\n",
            "[PAD]___________________________________ -100\n",
            "[PAD]___________________________________ -100\n",
            "[PAD]___________________________________ -100\n",
            "[PAD]___________________________________ -100\n",
            "[PAD]___________________________________ -100\n",
            "[PAD]___________________________________ -100\n",
            "[PAD]___________________________________ -100\n",
            "[PAD]___________________________________ -100\n",
            "[PAD]___________________________________ -100\n",
            "[PAD]___________________________________ -100\n",
            "[PAD]___________________________________ -100\n",
            "[PAD]___________________________________ -100\n",
            "[PAD]___________________________________ -100\n",
            "[PAD]___________________________________ -100\n",
            "[PAD]___________________________________ -100\n",
            "[PAD]___________________________________ -100\n",
            "[PAD]___________________________________ -100\n",
            "[PAD]___________________________________ -100\n",
            "[PAD]___________________________________ -100\n",
            "[PAD]___________________________________ -100\n",
            "[PAD]___________________________________ -100\n",
            "[PAD]___________________________________ -100\n",
            "[PAD]___________________________________ -100\n",
            "[PAD]___________________________________ -100\n",
            "[PAD]___________________________________ -100\n",
            "[PAD]___________________________________ -100\n",
            "[PAD]___________________________________ -100\n",
            "[PAD]___________________________________ -100\n",
            "[PAD]___________________________________ -100\n",
            "[PAD]___________________________________ -100\n",
            "[PAD]___________________________________ -100\n",
            "[PAD]___________________________________ -100\n",
            "[PAD]___________________________________ -100\n",
            "[PAD]___________________________________ -100\n",
            "[PAD]___________________________________ -100\n",
            "[PAD]___________________________________ -100\n",
            "[PAD]___________________________________ -100\n",
            "[PAD]___________________________________ -100\n",
            "[PAD]___________________________________ -100\n",
            "[PAD]___________________________________ -100\n",
            "[PAD]___________________________________ -100\n",
            "[PAD]___________________________________ -100\n",
            "[PAD]___________________________________ -100\n",
            "[PAD]___________________________________ -100\n",
            "[PAD]___________________________________ -100\n",
            "[PAD]___________________________________ -100\n",
            "[PAD]___________________________________ -100\n",
            "[PAD]___________________________________ -100\n",
            "[PAD]___________________________________ -100\n",
            "[PAD]___________________________________ -100\n",
            "[PAD]___________________________________ -100\n",
            "[PAD]___________________________________ -100\n",
            "[PAD]___________________________________ -100\n",
            "[PAD]___________________________________ -100\n",
            "[PAD]___________________________________ -100\n",
            "[PAD]___________________________________ -100\n",
            "[PAD]___________________________________ -100\n",
            "[PAD]___________________________________ -100\n",
            "[PAD]___________________________________ -100\n",
            "[PAD]___________________________________ -100\n",
            "[PAD]___________________________________ -100\n",
            "[PAD]___________________________________ -100\n",
            "[PAD]___________________________________ -100\n",
            "[PAD]___________________________________ -100\n",
            "[PAD]___________________________________ -100\n",
            "[PAD]___________________________________ -100\n",
            "[PAD]___________________________________ -100\n",
            "[PAD]___________________________________ -100\n",
            "[PAD]___________________________________ -100\n",
            "[PAD]___________________________________ -100\n",
            "[PAD]___________________________________ -100\n",
            "[PAD]___________________________________ -100\n",
            "[PAD]___________________________________ -100\n",
            "[PAD]___________________________________ -100\n",
            "[PAD]___________________________________ -100\n",
            "[PAD]___________________________________ -100\n",
            "[PAD]___________________________________ -100\n",
            "[PAD]___________________________________ -100\n",
            "[PAD]___________________________________ -100\n",
            "[PAD]___________________________________ -100\n",
            "[PAD]___________________________________ -100\n",
            "[PAD]___________________________________ -100\n",
            "[PAD]___________________________________ -100\n",
            "[PAD]___________________________________ -100\n",
            "[PAD]___________________________________ -100\n",
            "[PAD]___________________________________ -100\n",
            "[PAD]___________________________________ -100\n",
            "[PAD]___________________________________ -100\n",
            "[PAD]___________________________________ -100\n",
            "[PAD]___________________________________ -100\n",
            "[PAD]___________________________________ -100\n",
            "[PAD]___________________________________ -100\n",
            "[PAD]___________________________________ -100\n",
            "[PAD]___________________________________ -100\n",
            "[PAD]___________________________________ -100\n",
            "[PAD]___________________________________ -100\n",
            "[PAD]___________________________________ -100\n",
            "[PAD]___________________________________ -100\n",
            "[PAD]___________________________________ -100\n",
            "[PAD]___________________________________ -100\n",
            "[PAD]___________________________________ -100\n",
            "[PAD]___________________________________ -100\n",
            "[PAD]___________________________________ -100\n",
            "[PAD]___________________________________ -100\n",
            "[PAD]___________________________________ -100\n",
            "[PAD]___________________________________ -100\n",
            "[PAD]___________________________________ -100\n",
            "[PAD]___________________________________ -100\n",
            "[PAD]___________________________________ -100\n",
            "[PAD]___________________________________ -100\n",
            "[PAD]___________________________________ -100\n",
            "[PAD]___________________________________ -100\n",
            "[PAD]___________________________________ -100\n",
            "[PAD]___________________________________ -100\n",
            "[PAD]___________________________________ -100\n",
            "[PAD]___________________________________ -100\n",
            "[PAD]___________________________________ -100\n",
            "[PAD]___________________________________ -100\n",
            "[PAD]___________________________________ -100\n",
            "[PAD]___________________________________ -100\n",
            "[PAD]___________________________________ -100\n",
            "[PAD]___________________________________ -100\n",
            "[PAD]___________________________________ -100\n",
            "[PAD]___________________________________ -100\n",
            "[PAD]___________________________________ -100\n",
            "[PAD]___________________________________ -100\n",
            "[PAD]___________________________________ -100\n",
            "[PAD]___________________________________ -100\n",
            "[PAD]___________________________________ -100\n",
            "[PAD]___________________________________ -100\n",
            "[PAD]___________________________________ -100\n",
            "[PAD]___________________________________ -100\n",
            "[PAD]___________________________________ -100\n",
            "[PAD]___________________________________ -100\n",
            "[PAD]___________________________________ -100\n",
            "[PAD]___________________________________ -100\n",
            "[PAD]___________________________________ -100\n",
            "[PAD]___________________________________ -100\n",
            "[PAD]___________________________________ -100\n",
            "[PAD]___________________________________ -100\n",
            "[PAD]___________________________________ -100\n",
            "[PAD]___________________________________ -100\n",
            "[PAD]___________________________________ -100\n",
            "[PAD]___________________________________ -100\n",
            "[PAD]___________________________________ -100\n",
            "[PAD]___________________________________ -100\n",
            "[PAD]___________________________________ -100\n",
            "[PAD]___________________________________ -100\n",
            "[PAD]___________________________________ -100\n",
            "[PAD]___________________________________ -100\n",
            "[PAD]___________________________________ -100\n",
            "[PAD]___________________________________ -100\n",
            "[PAD]___________________________________ -100\n",
            "[PAD]___________________________________ -100\n",
            "[PAD]___________________________________ -100\n",
            "[PAD]___________________________________ -100\n",
            "[PAD]___________________________________ -100\n",
            "[PAD]___________________________________ -100\n",
            "[PAD]___________________________________ -100\n",
            "[PAD]___________________________________ -100\n",
            "[PAD]___________________________________ -100\n",
            "[PAD]___________________________________ -100\n",
            "[PAD]___________________________________ -100\n",
            "[PAD]___________________________________ -100\n",
            "[PAD]___________________________________ -100\n",
            "[PAD]___________________________________ -100\n",
            "[PAD]___________________________________ -100\n",
            "[PAD]___________________________________ -100\n",
            "[PAD]___________________________________ -100\n",
            "[PAD]___________________________________ -100\n",
            "[PAD]___________________________________ -100\n",
            "[PAD]___________________________________ -100\n",
            "[PAD]___________________________________ -100\n",
            "[PAD]___________________________________ -100\n",
            "[PAD]___________________________________ -100\n",
            "[PAD]___________________________________ -100\n",
            "[PAD]___________________________________ -100\n",
            "[PAD]___________________________________ -100\n",
            "[PAD]___________________________________ -100\n",
            "[PAD]___________________________________ -100\n",
            "[PAD]___________________________________ -100\n",
            "[PAD]___________________________________ -100\n",
            "[PAD]___________________________________ -100\n",
            "[PAD]___________________________________ -100\n",
            "[PAD]___________________________________ -100\n",
            "[PAD]___________________________________ -100\n",
            "[PAD]___________________________________ -100\n",
            "[PAD]___________________________________ -100\n",
            "[PAD]___________________________________ -100\n",
            "[PAD]___________________________________ -100\n",
            "[PAD]___________________________________ -100\n",
            "[PAD]___________________________________ -100\n",
            "[PAD]___________________________________ -100\n",
            "[PAD]___________________________________ -100\n",
            "[PAD]___________________________________ -100\n",
            "[PAD]___________________________________ -100\n",
            "[PAD]___________________________________ -100\n",
            "[PAD]___________________________________ -100\n",
            "[PAD]___________________________________ -100\n",
            "[PAD]___________________________________ -100\n",
            "[PAD]___________________________________ -100\n",
            "[PAD]___________________________________ -100\n",
            "[PAD]___________________________________ -100\n",
            "[PAD]___________________________________ -100\n",
            "[PAD]___________________________________ -100\n",
            "[PAD]___________________________________ -100\n",
            "[PAD]___________________________________ -100\n",
            "[PAD]___________________________________ -100\n",
            "[PAD]___________________________________ -100\n",
            "[PAD]___________________________________ -100\n",
            "[PAD]___________________________________ -100\n",
            "[PAD]___________________________________ -100\n",
            "[PAD]___________________________________ -100\n",
            "[PAD]___________________________________ -100\n",
            "[PAD]___________________________________ -100\n",
            "[PAD]___________________________________ -100\n",
            "[PAD]___________________________________ -100\n",
            "[PAD]___________________________________ -100\n",
            "[PAD]___________________________________ -100\n",
            "[PAD]___________________________________ -100\n",
            "[PAD]___________________________________ -100\n",
            "[PAD]___________________________________ -100\n",
            "[PAD]___________________________________ -100\n",
            "[PAD]___________________________________ -100\n",
            "[PAD]___________________________________ -100\n",
            "[PAD]___________________________________ -100\n",
            "[PAD]___________________________________ -100\n",
            "[PAD]___________________________________ -100\n",
            "[PAD]___________________________________ -100\n",
            "[PAD]___________________________________ -100\n",
            "[PAD]___________________________________ -100\n",
            "[PAD]___________________________________ -100\n",
            "[PAD]___________________________________ -100\n",
            "[PAD]___________________________________ -100\n",
            "[PAD]___________________________________ -100\n",
            "[PAD]___________________________________ -100\n",
            "[PAD]___________________________________ -100\n",
            "[PAD]___________________________________ -100\n",
            "[PAD]___________________________________ -100\n",
            "[PAD]___________________________________ -100\n",
            "[PAD]___________________________________ -100\n",
            "[PAD]___________________________________ -100\n",
            "[PAD]___________________________________ -100\n",
            "[PAD]___________________________________ -100\n",
            "[PAD]___________________________________ -100\n",
            "[PAD]___________________________________ -100\n",
            "[PAD]___________________________________ -100\n",
            "[PAD]___________________________________ -100\n",
            "[PAD]___________________________________ -100\n",
            "[PAD]___________________________________ -100\n",
            "[PAD]___________________________________ -100\n",
            "[PAD]___________________________________ -100\n",
            "[PAD]___________________________________ -100\n",
            "[PAD]___________________________________ -100\n",
            "[PAD]___________________________________ -100\n",
            "[PAD]___________________________________ -100\n",
            "[PAD]___________________________________ -100\n",
            "[PAD]___________________________________ -100\n",
            "[PAD]___________________________________ -100\n",
            "[PAD]___________________________________ -100\n",
            "[PAD]___________________________________ -100\n",
            "[PAD]___________________________________ -100\n",
            "[PAD]___________________________________ -100\n",
            "[PAD]___________________________________ -100\n",
            "[PAD]___________________________________ -100\n",
            "[PAD]___________________________________ -100\n",
            "[PAD]___________________________________ -100\n",
            "[PAD]___________________________________ -100\n",
            "[PAD]___________________________________ -100\n",
            "[PAD]___________________________________ -100\n",
            "[PAD]___________________________________ -100\n",
            "[PAD]___________________________________ -100\n",
            "[PAD]___________________________________ -100\n",
            "[PAD]___________________________________ -100\n",
            "[PAD]___________________________________ -100\n",
            "[PAD]___________________________________ -100\n",
            "[PAD]___________________________________ -100\n",
            "[PAD]___________________________________ -100\n",
            "[PAD]___________________________________ -100\n",
            "[PAD]___________________________________ -100\n",
            "[PAD]___________________________________ -100\n",
            "[PAD]___________________________________ -100\n",
            "[PAD]___________________________________ -100\n",
            "[PAD]___________________________________ -100\n",
            "[PAD]___________________________________ -100\n",
            "[PAD]___________________________________ -100\n",
            "[PAD]___________________________________ -100\n",
            "[PAD]___________________________________ -100\n",
            "[PAD]___________________________________ -100\n",
            "[PAD]___________________________________ -100\n",
            "[PAD]___________________________________ -100\n",
            "[PAD]___________________________________ -100\n",
            "[PAD]___________________________________ -100\n",
            "[PAD]___________________________________ -100\n",
            "[PAD]___________________________________ -100\n",
            "[PAD]___________________________________ -100\n",
            "[PAD]___________________________________ -100\n",
            "[PAD]___________________________________ -100\n",
            "[PAD]___________________________________ -100\n",
            "[PAD]___________________________________ -100\n",
            "[PAD]___________________________________ -100\n",
            "[PAD]___________________________________ -100\n",
            "[PAD]___________________________________ -100\n"
          ]
        }
      ],
      "source": [
        "for token, label in zip(tokenizer.convert_ids_to_tokens(q['input_ids'][0]), (q['labels'][0])):\n",
        "    print(f\"{token:_<40} {label}\")"
      ]
    },
    {
      "cell_type": "code",
      "execution_count": null,
      "metadata": {
        "id": "Fvd-IqOtkNwL"
      },
      "outputs": [],
      "source": [
        "tokenized_train = train_dataset.map(tokenize_and_align_labels, batched=True)\n",
        "tokenized_eval = validation_dataset.map(tokenize_and_align_labels, batched=True)\n",
        "tokenized_test = test_dataset.map(tokenize_and_align_labels, batched=True)"
      ]
    },
    {
      "cell_type": "code",
      "execution_count": null,
      "metadata": {
        "id": "qSF3e95BEXqE",
        "colab": {
          "base_uri": "https://localhost:8080/"
        },
        "outputId": "77166aa2-b3bc-4f53-cd8d-72880d4cd329"
      },
      "outputs": [
        {
          "output_type": "execute_result",
          "data": {
            "text/plain": [
              "956"
            ]
          },
          "metadata": {},
          "execution_count": 20
        }
      ],
      "source": [
        "len(tokenized_train['input_ids'])"
      ]
    },
    {
      "cell_type": "code",
      "source": [
        "for i in range(len(tokenized_train)):\n",
        "    try:\n",
        "        example = tokenized_train[i]\n",
        "        input_batch = {\n",
        "            'input_ids': example['input_ids'],\n",
        "            'token_type_ids': example['token_type_ids'],\n",
        "            'attention_mask': example['attention_mask']\n",
        "        }\n",
        "        target_batch = example['labels']\n",
        "\n",
        "        input_batch_size = len(input_batch['input_ids'])\n",
        "        target_batch_size = len(target_batch)\n",
        "\n",
        "        if input_batch_size != target_batch_size:\n",
        "            raise ValueError(f\"Input batch size ({input_batch_size}) does not match target batch size ({target_batch_size}) at index {i}\")\n",
        "    except Exception as e:\n",
        "        print(\"Exception occurred:\", e)\n",
        "        break\n"
      ],
      "metadata": {
        "id": "Y058SIBGS5ij"
      },
      "execution_count": null,
      "outputs": []
    },
    {
      "cell_type": "code",
      "execution_count": null,
      "metadata": {
        "id": "rmfCLqTlfHH3",
        "colab": {
          "base_uri": "https://localhost:8080/"
        },
        "outputId": "a042dd59-fa0f-4360-c47d-8634e1f2def8"
      },
      "outputs": [
        {
          "output_type": "stream",
          "name": "stdout",
          "text": [
            "<class 'datasets.arrow_dataset.Dataset'>\n"
          ]
        }
      ],
      "source": [
        "print(type(tokenized_train))"
      ]
    },
    {
      "cell_type": "code",
      "execution_count": null,
      "metadata": {
        "id": "4zOGT66wXUUT",
        "colab": {
          "base_uri": "https://localhost:8080/"
        },
        "outputId": "2f198941-95ef-4e4b-e0f0-563a29d74740"
      },
      "outputs": [
        {
          "output_type": "execute_result",
          "data": {
            "text/plain": [
              "(956, 8)"
            ]
          },
          "metadata": {},
          "execution_count": 23
        }
      ],
      "source": [
        "tokenized_train.shape"
      ]
    },
    {
      "cell_type": "code",
      "execution_count": null,
      "metadata": {
        "id": "tT30uvSYXYEJ",
        "colab": {
          "base_uri": "https://localhost:8080/"
        },
        "outputId": "df77a71e-f619-412d-e27b-adb56c8b6763"
      },
      "outputs": [
        {
          "output_type": "execute_result",
          "data": {
            "text/plain": [
              "(240, 8)"
            ]
          },
          "metadata": {},
          "execution_count": 24
        }
      ],
      "source": [
        "tokenized_eval.shape"
      ]
    },
    {
      "cell_type": "code",
      "execution_count": null,
      "metadata": {
        "id": "S1-vIW_1XbpQ",
        "colab": {
          "base_uri": "https://localhost:8080/"
        },
        "outputId": "ac656ff6-dca2-40da-a3dc-44a7e201ccaa"
      },
      "outputs": [
        {
          "output_type": "execute_result",
          "data": {
            "text/plain": [
              "(299, 8)"
            ]
          },
          "metadata": {},
          "execution_count": 25
        }
      ],
      "source": [
        "tokenized_test.shape"
      ]
    },
    {
      "cell_type": "code",
      "execution_count": null,
      "metadata": {
        "id": "6o4wMV-OW4lf",
        "colab": {
          "base_uri": "https://localhost:8080/"
        },
        "outputId": "da57db18-7867-4ce8-eb2a-383c3feb7e35"
      },
      "outputs": [
        {
          "output_type": "execute_result",
          "data": {
            "text/plain": [
              "Dataset({\n",
              "    features: ['sentence_id', 'tokens', 'words_ids', 'tag', 'input_ids', 'token_type_ids', 'attention_mask', 'labels'],\n",
              "    num_rows: 240\n",
              "})"
            ]
          },
          "metadata": {},
          "execution_count": 26
        }
      ],
      "source": [
        "tokenized_eval"
      ]
    },
    {
      "cell_type": "code",
      "execution_count": null,
      "metadata": {
        "id": "VOHQnRFxk4Gn",
        "colab": {
          "base_uri": "https://localhost:8080/"
        },
        "outputId": "dca9818f-f774-40b2-c1a4-719f9ebffcaa"
      },
      "outputs": [
        {
          "output_type": "execute_result",
          "data": {
            "text/plain": [
              "2"
            ]
          },
          "metadata": {},
          "execution_count": 27
        }
      ],
      "source": [
        "num_labels = train_dataset.features['tag'].feature.num_classes\n",
        "num_labels"
      ]
    },
    {
      "cell_type": "code",
      "execution_count": null,
      "metadata": {
        "id": "zY3lKB0ulLAM",
        "colab": {
          "base_uri": "https://localhost:8080/",
          "height": 136,
          "referenced_widgets": [
            "e49516a662a342ae858a471f732f49b2",
            "67bca30b72984ac9838025585f55d8da",
            "5186f175d15a4f459e8e84d7c42dda81",
            "4fa49f5cec4346e6ab4da895f5803fdb",
            "b3887369630245e5adcc4a4da31c49a2",
            "982da7d004c942ecae7b08820e078596",
            "4ae3d803fefa4eff81ce2a5df6beeb08",
            "0403c8259c1845cea40ce492c5b6ecd9",
            "5266fe30f791487c94e8c490c4ce63f0",
            "e8d8a6a0b0e14f7e912e6429c799db6a",
            "3e477098ffcb4a1d9951156d1f93f922",
            "32c20470abe543ba82a86609a4c3b083",
            "0a7fca0fc7d8459fa3de66f50a26504d",
            "8e243532b14b4396bb2ef69e60b754cd",
            "da3ba3b721bf4da899e89034b1e98a34",
            "ebfe644c901d449b83ec66cfb2699e05",
            "2ba38e2f2c624eadacb3f6d7d8691a25",
            "ae5b877bde024ef89687fe3344d79bdb",
            "b603afa31a494613a55a59a944a1c1ae",
            "e62c80e63f884638a5efa1cb6aeda1d7",
            "989c2262eec1435481384ce3ae607e1d",
            "668f99f2c3f6451984e042d5cdd27bda"
          ]
        },
        "outputId": "0f9fa7b8-402b-416a-afdb-e3e92ffb927a"
      },
      "outputs": [
        {
          "output_type": "display_data",
          "data": {
            "text/plain": [
              "config.json:   0%|          | 0.00/433 [00:00<?, ?B/s]"
            ],
            "application/vnd.jupyter.widget-view+json": {
              "version_major": 2,
              "version_minor": 0,
              "model_id": "e49516a662a342ae858a471f732f49b2"
            }
          },
          "metadata": {}
        },
        {
          "output_type": "display_data",
          "data": {
            "text/plain": [
              "model.safetensors:   0%|          | 0.00/445M [00:00<?, ?B/s]"
            ],
            "application/vnd.jupyter.widget-view+json": {
              "version_major": 2,
              "version_minor": 0,
              "model_id": "32c20470abe543ba82a86609a4c3b083"
            }
          },
          "metadata": {}
        },
        {
          "output_type": "stream",
          "name": "stderr",
          "text": [
            "Some weights of BertForTokenClassification were not initialized from the model checkpoint at dbmdz/bert-base-italian-xxl-cased and are newly initialized: ['classifier.bias', 'classifier.weight']\n",
            "You should probably TRAIN this model on a down-stream task to be able to use it for predictions and inference.\n"
          ]
        }
      ],
      "source": [
        "model = AutoModelForTokenClassification.from_pretrained(\"dbmdz/bert-base-italian-xxl-cased\", num_labels = num_labels)"
      ]
    },
    {
      "cell_type": "code",
      "execution_count": null,
      "metadata": {
        "id": "wsDo88tal0Ge"
      },
      "outputs": [],
      "source": [
        "from transformers import TrainingArguments, Trainer"
      ]
    },
    {
      "cell_type": "code",
      "execution_count": null,
      "metadata": {
        "id": "HCALuI7MBvBv",
        "colab": {
          "base_uri": "https://localhost:8080/"
        },
        "outputId": "c0cbe5d8-b8d6-414e-9442-d82787816a99"
      },
      "outputs": [
        {
          "output_type": "execute_result",
          "data": {
            "text/plain": [
              "['quote', 'O']"
            ]
          },
          "metadata": {},
          "execution_count": 30
        }
      ],
      "source": [
        "label_list = train_dataset.features['tag'].feature.names\n",
        "label_list"
      ]
    },
    {
      "cell_type": "code",
      "execution_count": null,
      "metadata": {
        "id": "koiIbqp7dlLw"
      },
      "outputs": [],
      "source": [
        "data_collator = DataCollatorForTokenClassification(tokenizer=tokenizer)"
      ]
    },
    {
      "cell_type": "code",
      "execution_count": null,
      "metadata": {
        "id": "yJHDRQgGdrI0",
        "colab": {
          "base_uri": "https://localhost:8080/",
          "height": 173,
          "referenced_widgets": [
            "40d21c47281d41ba956939484ecd4992",
            "91738b3515564ae89429540045c115ce",
            "4176db36bc6748509077e0859d30383c",
            "743ed94f9aaa495da5562b71eac7cc93",
            "78cf3afec6ff42f69c7a8c0b68c3b180",
            "446c98f1a7ef47ac839f5d572791d361",
            "20d9ec0cce764c2699eb48833bd6d805",
            "9df86ee1952e4d7fb66fcfc1c81fbaa1",
            "588966c975294e8d9d464a263ea354ba",
            "b45ef63237a849f782e6418f2eedaea9",
            "58ead09c8b7847658896021d9ba16508"
          ]
        },
        "outputId": "953981fc-0004-4e96-81d7-863f3c503db6"
      },
      "outputs": [
        {
          "output_type": "stream",
          "name": "stderr",
          "text": [
            "<ipython-input-32-d7016c6cacf8>:2: FutureWarning: load_metric is deprecated and will be removed in the next major version of datasets. Use 'evaluate.load' instead, from the new library 🤗 Evaluate: https://huggingface.co/docs/evaluate\n",
            "  metric=datasets.load_metric('seqeval')\n"
          ]
        },
        {
          "output_type": "display_data",
          "data": {
            "text/plain": [
              "Downloading builder script:   0%|          | 0.00/2.47k [00:00<?, ?B/s]"
            ],
            "application/vnd.jupyter.widget-view+json": {
              "version_major": 2,
              "version_minor": 0,
              "model_id": "40d21c47281d41ba956939484ecd4992"
            }
          },
          "metadata": {}
        },
        {
          "name": "stdout",
          "output_type": "stream",
          "text": [
            "The repository for seqeval contains custom code which must be executed to correctly load the dataset. You can inspect the repository content at https://hf.co/datasets/seqeval.\n",
            "You can avoid this prompt in future by passing the argument `trust_remote_code=True`.\n",
            "\n",
            "Do you wish to run the custom code? [y/N] y\n"
          ]
        }
      ],
      "source": [
        "import datasets\n",
        "metric=datasets.load_metric('seqeval')"
      ]
    },
    {
      "cell_type": "code",
      "source": [
        "example = tokenized_train[1]"
      ],
      "metadata": {
        "id": "mdq1R4urtHZx"
      },
      "execution_count": null,
      "outputs": []
    },
    {
      "cell_type": "code",
      "source": [
        "labels = [label_list[i] for i in example['tag']]\n",
        "labels"
      ],
      "metadata": {
        "colab": {
          "base_uri": "https://localhost:8080/"
        },
        "id": "6onLsaGqt_j_",
        "outputId": "e4bfb531-efb5-4b4a-8bae-1ec41ed54aa7"
      },
      "execution_count": null,
      "outputs": [
        {
          "output_type": "execute_result",
          "data": {
            "text/plain": [
              "['O',\n",
              " 'O',\n",
              " 'O',\n",
              " 'O',\n",
              " 'O',\n",
              " 'O',\n",
              " 'O',\n",
              " 'O',\n",
              " 'O',\n",
              " 'O',\n",
              " 'O',\n",
              " 'O',\n",
              " 'O',\n",
              " 'O',\n",
              " 'O',\n",
              " 'O',\n",
              " 'O',\n",
              " 'O',\n",
              " 'O',\n",
              " 'O',\n",
              " 'O',\n",
              " 'O',\n",
              " 'O',\n",
              " 'O',\n",
              " 'O',\n",
              " 'O',\n",
              " 'O',\n",
              " 'O']"
            ]
          },
          "metadata": {},
          "execution_count": 34
        }
      ]
    },
    {
      "cell_type": "code",
      "source": [
        "metric.compute(predictions=[labels], references=[labels], zero_division=1)"
      ],
      "metadata": {
        "id": "UryDdo5X-i9y",
        "colab": {
          "base_uri": "https://localhost:8080/"
        },
        "outputId": "75be3b9e-c993-4544-b8cb-d15bf22ff8d3"
      },
      "execution_count": null,
      "outputs": [
        {
          "output_type": "stream",
          "name": "stderr",
          "text": [
            "/usr/local/lib/python3.10/dist-packages/numpy/lib/function_base.py:520: RuntimeWarning: Mean of empty slice.\n",
            "  avg = a.mean(axis, **keepdims_kw)\n",
            "/usr/local/lib/python3.10/dist-packages/numpy/core/_methods.py:129: RuntimeWarning: invalid value encountered in scalar divide\n",
            "  ret = ret.dtype.type(ret / rcount)\n"
          ]
        },
        {
          "output_type": "execute_result",
          "data": {
            "text/plain": [
              "{'overall_precision': 1.0,\n",
              " 'overall_recall': 1.0,\n",
              " 'overall_f1': 1.0,\n",
              " 'overall_accuracy': 1.0}"
            ]
          },
          "metadata": {},
          "execution_count": 35
        }
      ]
    },
    {
      "cell_type": "code",
      "source": [
        "# import evaluate\n",
        "\n",
        "# poseval = evaluate.load(\"poseval\")"
      ],
      "metadata": {
        "id": "ud7iTv50hCZD"
      },
      "execution_count": null,
      "outputs": []
    },
    {
      "cell_type": "code",
      "source": [
        "# poseval.compute(predictions=[labels], references=[labels])"
      ],
      "metadata": {
        "id": "Ywf2J0bQszHe"
      },
      "execution_count": null,
      "outputs": []
    },
    {
      "cell_type": "code",
      "execution_count": null,
      "metadata": {
        "id": "r0Bic8LomIxT"
      },
      "outputs": [],
      "source": [
        "# def compute_metrics(eval_preds):\n",
        "    # pred_logits, labels = eval_preds\n",
        "\n",
        "# pred_logits are obtained by passing numpy.argmax\n",
        "    # pred_logits = np.argmax(pred_logits, axis=2)\n",
        "# the logits and the probabilities are in the same order,\n",
        "# so we don’t need to apply the softmax\n",
        "\n",
        "# We remove all the values where the label is -100\n",
        "# define the variable prediction\n",
        "    # predictions = [\n",
        "    #     [label_list[eval_preds] for (eval_preds, l) in zip(prediction, label) if l != -100]\n",
        "    #     for prediction, label in zip(pred_logits, labels)\n",
        "    # ]\n",
        "# define the variable true_labels\n",
        "  #   true_labels = [\n",
        "  #     [label_list[l] for (eval_preds, l) in zip(prediction, label) if l != -100]\n",
        "  #      for prediction, label in zip(pred_logits, labels)\n",
        "  #   ]\n",
        "  #   results = metric.compute(predictions=predictions, references=true_labels, zero_division=1)\n",
        "\n",
        "  #   global stored_predictions, stored_labels\n",
        "  #   stored_predictions.extend(predictions)\n",
        "  #   stored_labels.extend(true_labels)\n",
        "\n",
        "  #   return {\n",
        "  #  \"precision\": results[\"overall_precision\"],\n",
        "  #  \"recall\": results[\"overall_recall\"],\n",
        "  #  \"f1\": results[\"overall_f1\"],\n",
        "  #   \"accuracy\": results[\"overall_accuracy\"],\n",
        "  # }"
      ]
    },
    {
      "cell_type": "code",
      "source": [
        "from sklearn.metrics import precision_score, recall_score, f1_score, accuracy_score\n",
        "\n",
        "def compute_metrics(eval_preds):\n",
        "    pred_logits, labels = eval_preds\n",
        "    pred_logits = np.argmax(pred_logits, axis=2)\n",
        "\n",
        "    # Flatten the predictions and labels for sklearn metrics\n",
        "    flat_predictions = [item for sublist in pred_logits for item in sublist]\n",
        "    flat_labels = [item for sublist in labels for item in sublist]\n",
        "\n",
        "    # We remove all the values where the label is -100\n",
        "    filtered_predictions = []\n",
        "    filtered_labels = []\n",
        "    for pred, label in zip(flat_predictions, flat_labels):\n",
        "        if label != -100:\n",
        "            filtered_predictions.append(pred)\n",
        "            filtered_labels.append(label)\n",
        "\n",
        "    return {\n",
        "        \"precision\": precision_score(filtered_labels, filtered_predictions, average='weighted', zero_division=1),\n",
        "        \"recall\": recall_score(filtered_labels, filtered_predictions, average='weighted', zero_division=1),\n",
        "        \"f1\": f1_score(filtered_labels, filtered_predictions, average='weighted', zero_division=1),\n",
        "        \"accuracy\": accuracy_score(filtered_labels, filtered_predictions),\n",
        "    }"
      ],
      "metadata": {
        "id": "gDnVR0mlUl7O"
      },
      "execution_count": null,
      "outputs": []
    },
    {
      "cell_type": "code",
      "source": [
        "stored_predictions = []\n",
        "stored_labels = []"
      ],
      "metadata": {
        "id": "zY0Eh8aec9G4"
      },
      "execution_count": null,
      "outputs": []
    },
    {
      "cell_type": "code",
      "execution_count": null,
      "metadata": {
        "id": "tfnKntQHmL-L",
        "colab": {
          "base_uri": "https://localhost:8080/"
        },
        "outputId": "385e9dc4-b3b9-4711-9c6c-87a9542627c0"
      },
      "outputs": [
        {
          "output_type": "stream",
          "name": "stderr",
          "text": [
            "/usr/local/lib/python3.10/dist-packages/transformers/training_args.py:1494: FutureWarning: `evaluation_strategy` is deprecated and will be removed in version 4.46 of 🤗 Transformers. Use `eval_strategy` instead\n",
            "  warnings.warn(\n"
          ]
        }
      ],
      "source": [
        "training_args = TrainingArguments(\n",
        "    output_dir=\"test_trainer\",\n",
        "    evaluation_strategy=\"epoch\",\n",
        "    learning_rate=5e-5,\n",
        "    logging_steps=1,\n",
        "    per_device_train_batch_size=8,\n",
        "    per_device_eval_batch_size=8,\n",
        "    num_train_epochs=3,\n",
        ")"
      ]
    },
    {
      "cell_type": "code",
      "execution_count": null,
      "metadata": {
        "id": "XGj8c1I5nchv"
      },
      "outputs": [],
      "source": [
        "trainer = Trainer(\n",
        "    model=model,\n",
        "    args=training_args,\n",
        "    train_dataset=tokenized_train,\n",
        "    eval_dataset=tokenized_eval,\n",
        "    data_collator=data_collator,\n",
        "    tokenizer=tokenizer,\n",
        "    compute_metrics=compute_metrics,\n",
        ")"
      ]
    },
    {
      "cell_type": "code",
      "source": [
        "%env PYTORCH_CUDA_ALLOC_CONF=expandable_segments:True"
      ],
      "metadata": {
        "colab": {
          "base_uri": "https://localhost:8080/"
        },
        "id": "k_OzyQ7rQUYb",
        "outputId": "e068fb58-6f45-4e08-8a45-57d6f7fcae0b"
      },
      "execution_count": null,
      "outputs": [
        {
          "output_type": "stream",
          "name": "stdout",
          "text": [
            "env: PYTORCH_CUDA_ALLOC_CONF=expandable_segments:True\n"
          ]
        }
      ]
    },
    {
      "cell_type": "code",
      "source": [
        "torch.cuda.empty_cache()"
      ],
      "metadata": {
        "id": "_VH50tXgQtvk"
      },
      "execution_count": null,
      "outputs": []
    },
    {
      "cell_type": "code",
      "execution_count": null,
      "metadata": {
        "id": "vUevn6EW6yqW",
        "colab": {
          "base_uri": "https://localhost:8080/",
          "height": 204
        },
        "outputId": "0164ca77-d76b-4db5-fb14-8226bba7ed83"
      },
      "outputs": [
        {
          "output_type": "display_data",
          "data": {
            "text/plain": [
              "<IPython.core.display.HTML object>"
            ],
            "text/html": [
              "\n",
              "    <div>\n",
              "      \n",
              "      <progress value='360' max='360' style='width:300px; height:20px; vertical-align: middle;'></progress>\n",
              "      [360/360 04:52, Epoch 3/3]\n",
              "    </div>\n",
              "    <table border=\"1\" class=\"dataframe\">\n",
              "  <thead>\n",
              " <tr style=\"text-align: left;\">\n",
              "      <th>Epoch</th>\n",
              "      <th>Training Loss</th>\n",
              "      <th>Validation Loss</th>\n",
              "      <th>Precision</th>\n",
              "      <th>Recall</th>\n",
              "      <th>F1</th>\n",
              "      <th>Accuracy</th>\n",
              "    </tr>\n",
              "  </thead>\n",
              "  <tbody>\n",
              "    <tr>\n",
              "      <td>1</td>\n",
              "      <td>0.003300</td>\n",
              "      <td>0.070235</td>\n",
              "      <td>0.989433</td>\n",
              "      <td>0.989319</td>\n",
              "      <td>0.984007</td>\n",
              "      <td>0.989319</td>\n",
              "    </tr>\n",
              "    <tr>\n",
              "      <td>2</td>\n",
              "      <td>0.004500</td>\n",
              "      <td>0.069699</td>\n",
              "      <td>0.989433</td>\n",
              "      <td>0.989319</td>\n",
              "      <td>0.984007</td>\n",
              "      <td>0.989319</td>\n",
              "    </tr>\n",
              "    <tr>\n",
              "      <td>3</td>\n",
              "      <td>0.001200</td>\n",
              "      <td>0.083696</td>\n",
              "      <td>0.989433</td>\n",
              "      <td>0.989319</td>\n",
              "      <td>0.984007</td>\n",
              "      <td>0.989319</td>\n",
              "    </tr>\n",
              "  </tbody>\n",
              "</table><p>"
            ]
          },
          "metadata": {}
        },
        {
          "output_type": "execute_result",
          "data": {
            "text/plain": [
              "TrainOutput(global_step=360, training_loss=0.053799354456613296, metrics={'train_runtime': 294.9954, 'train_samples_per_second': 9.722, 'train_steps_per_second': 1.22, 'total_flos': 749399098318848.0, 'train_loss': 0.053799354456613296, 'epoch': 3.0})"
            ]
          },
          "metadata": {},
          "execution_count": 45
        }
      ],
      "source": [
        "trainer.train()"
      ]
    },
    {
      "cell_type": "code",
      "source": [
        "model.save_pretrained('/content/drive/MyDrive/TESI/tryout/quote_model')\n",
        "\n",
        "tokenizer.save_pretrained('/content/drive/MyDrive/TESI/tryout/quote_tokenizer')"
      ],
      "metadata": {
        "colab": {
          "base_uri": "https://localhost:8080/"
        },
        "id": "r3iwzyD6EsO8",
        "outputId": "9c54af69-e7ad-4043-e460-52eb3b58b0ff"
      },
      "execution_count": null,
      "outputs": [
        {
          "output_type": "execute_result",
          "data": {
            "text/plain": [
              "('/content/drive/MyDrive/TESI/tryout/quote_tokenizer/tokenizer_config.json',\n",
              " '/content/drive/MyDrive/TESI/tryout/quote_tokenizer/special_tokens_map.json',\n",
              " '/content/drive/MyDrive/TESI/tryout/quote_tokenizer/vocab.txt',\n",
              " '/content/drive/MyDrive/TESI/tryout/quote_tokenizer/added_tokens.json',\n",
              " '/content/drive/MyDrive/TESI/tryout/quote_tokenizer/tokenizer.json')"
            ]
          },
          "metadata": {},
          "execution_count": 46
        }
      ]
    },
    {
      "cell_type": "code",
      "source": [
        "from transformers import pipeline"
      ],
      "metadata": {
        "id": "-ST7S53ZJex3"
      },
      "execution_count": null,
      "outputs": []
    },
    {
      "cell_type": "code",
      "source": [
        "model_fine_tuned = AutoModelForTokenClassification.from_pretrained('/content/drive/MyDrive/TESI/tryout/quote_model')"
      ],
      "metadata": {
        "id": "R8ZsX7_bKC_f"
      },
      "execution_count": null,
      "outputs": []
    },
    {
      "cell_type": "code",
      "source": [
        "import json\n",
        "\n",
        "config = json.load(open('/content/drive/MyDrive/TESI/tryout/quote_model/config.json'))"
      ],
      "metadata": {
        "id": "2JtQTpe_Kttw"
      },
      "execution_count": null,
      "outputs": []
    },
    {
      "cell_type": "code",
      "source": [
        "id2label= {\n",
        "    str(i):label for i, label in enumerate(label_list)\n",
        "}\n",
        "\n",
        "label2id = {\n",
        "    label:str(i) for i, label in enumerate(label_list)\n",
        "}"
      ],
      "metadata": {
        "id": "Us3rIPCcK2Yf"
      },
      "execution_count": null,
      "outputs": []
    },
    {
      "cell_type": "code",
      "source": [
        "config['id2label'] = id2label\n",
        "config['label2id'] = label2id\n",
        "\n",
        "json.dump(config, open('/content/drive/MyDrive/TESI/tryout/quote_model/config.json', 'w'))"
      ],
      "metadata": {
        "id": "cMSBDAVBK3nI"
      },
      "execution_count": null,
      "outputs": []
    },
    {
      "cell_type": "code",
      "source": [
        "nlp = pipeline('ner', model=model_fine_tuned, tokenizer=tokenizer)\n",
        "\n",
        "italian_text = \"\"\"Il 22 aprile 2024, a New York, il CEO John Smith di TechCorp e il CFO Jane Doe di Innovate Inc. hanno annunciato alla Global Tech Conference: 'La nostra missione è innovare e guidare l'industria tecnologica verso il futuro'.\"\"\"\n",
        "\n",
        "quote_results = nlp (italian_text)\n",
        "\n",
        "print(quote_results)"
      ],
      "metadata": {
        "colab": {
          "base_uri": "https://localhost:8080/"
        },
        "id": "4BflY-dmJ5f9",
        "outputId": "e7befecf-e533-4c8d-98b7-b23e7fa0ad09"
      },
      "execution_count": null,
      "outputs": [
        {
          "output_type": "stream",
          "name": "stderr",
          "text": [
            "Hardware accelerator e.g. GPU is available in the environment, but no `device` argument is passed to the `Pipeline` object. Model will be on CPU.\n"
          ]
        },
        {
          "output_type": "stream",
          "name": "stdout",
          "text": [
            "[{'entity': 'LABEL_1', 'score': 0.99910516, 'index': 1, 'word': 'Il', 'start': 0, 'end': 2}, {'entity': 'LABEL_1', 'score': 0.9990513, 'index': 2, 'word': '22', 'start': 3, 'end': 5}, {'entity': 'LABEL_1', 'score': 0.9991491, 'index': 3, 'word': 'aprile', 'start': 6, 'end': 12}, {'entity': 'LABEL_1', 'score': 0.9988945, 'index': 4, 'word': '202', 'start': 13, 'end': 16}, {'entity': 'LABEL_1', 'score': 0.99905556, 'index': 5, 'word': '##4', 'start': 16, 'end': 17}, {'entity': 'LABEL_1', 'score': 0.9989427, 'index': 6, 'word': ',', 'start': 17, 'end': 18}, {'entity': 'LABEL_1', 'score': 0.99941206, 'index': 7, 'word': 'a', 'start': 19, 'end': 20}, {'entity': 'LABEL_1', 'score': 0.9992028, 'index': 8, 'word': 'New', 'start': 21, 'end': 24}, {'entity': 'LABEL_1', 'score': 0.9990564, 'index': 9, 'word': 'York', 'start': 25, 'end': 29}, {'entity': 'LABEL_1', 'score': 0.99908316, 'index': 10, 'word': ',', 'start': 29, 'end': 30}, {'entity': 'LABEL_1', 'score': 0.9993907, 'index': 11, 'word': 'il', 'start': 31, 'end': 33}, {'entity': 'LABEL_1', 'score': 0.999376, 'index': 12, 'word': 'CE', 'start': 34, 'end': 36}, {'entity': 'LABEL_1', 'score': 0.99941766, 'index': 13, 'word': '##O', 'start': 36, 'end': 37}, {'entity': 'LABEL_1', 'score': 0.9994605, 'index': 14, 'word': 'John', 'start': 38, 'end': 42}, {'entity': 'LABEL_1', 'score': 0.99923503, 'index': 15, 'word': 'Smith', 'start': 43, 'end': 48}, {'entity': 'LABEL_1', 'score': 0.99942553, 'index': 16, 'word': 'di', 'start': 49, 'end': 51}, {'entity': 'LABEL_1', 'score': 0.9992391, 'index': 17, 'word': 'Tech', 'start': 52, 'end': 56}, {'entity': 'LABEL_1', 'score': 0.99903405, 'index': 18, 'word': '##Cor', 'start': 56, 'end': 59}, {'entity': 'LABEL_1', 'score': 0.99918693, 'index': 19, 'word': '##p', 'start': 59, 'end': 60}, {'entity': 'LABEL_1', 'score': 0.99934965, 'index': 20, 'word': 'e', 'start': 61, 'end': 62}, {'entity': 'LABEL_1', 'score': 0.9993943, 'index': 21, 'word': 'il', 'start': 63, 'end': 65}, {'entity': 'LABEL_1', 'score': 0.99921584, 'index': 22, 'word': 'C', 'start': 66, 'end': 67}, {'entity': 'LABEL_1', 'score': 0.99942684, 'index': 23, 'word': '##FO', 'start': 67, 'end': 69}, {'entity': 'LABEL_1', 'score': 0.99927884, 'index': 24, 'word': 'Jane', 'start': 70, 'end': 74}, {'entity': 'LABEL_1', 'score': 0.9992823, 'index': 25, 'word': 'Do', 'start': 75, 'end': 77}, {'entity': 'LABEL_1', 'score': 0.9991548, 'index': 26, 'word': '##e', 'start': 77, 'end': 78}, {'entity': 'LABEL_1', 'score': 0.9993753, 'index': 27, 'word': 'di', 'start': 79, 'end': 81}, {'entity': 'LABEL_1', 'score': 0.99914885, 'index': 28, 'word': 'Inno', 'start': 82, 'end': 86}, {'entity': 'LABEL_1', 'score': 0.9989429, 'index': 29, 'word': '##vate', 'start': 86, 'end': 90}, {'entity': 'LABEL_1', 'score': 0.99895763, 'index': 30, 'word': 'Inc', 'start': 91, 'end': 94}, {'entity': 'LABEL_1', 'score': 0.9989526, 'index': 31, 'word': '.', 'start': 94, 'end': 95}, {'entity': 'LABEL_1', 'score': 0.9989862, 'index': 32, 'word': 'hanno', 'start': 96, 'end': 101}, {'entity': 'LABEL_1', 'score': 0.9988972, 'index': 33, 'word': 'annunciato', 'start': 102, 'end': 112}, {'entity': 'LABEL_1', 'score': 0.999159, 'index': 34, 'word': 'alla', 'start': 113, 'end': 117}, {'entity': 'LABEL_1', 'score': 0.9990036, 'index': 35, 'word': 'Global', 'start': 118, 'end': 124}, {'entity': 'LABEL_1', 'score': 0.99902916, 'index': 36, 'word': 'Tech', 'start': 125, 'end': 129}, {'entity': 'LABEL_1', 'score': 0.9989599, 'index': 37, 'word': 'Conference', 'start': 130, 'end': 140}, {'entity': 'LABEL_1', 'score': 0.99883157, 'index': 38, 'word': ':', 'start': 140, 'end': 141}, {'entity': 'LABEL_1', 'score': 0.9990427, 'index': 39, 'word': \"'\", 'start': 142, 'end': 143}, {'entity': 'LABEL_1', 'score': 0.99905676, 'index': 40, 'word': 'La', 'start': 143, 'end': 145}, {'entity': 'LABEL_1', 'score': 0.99906415, 'index': 41, 'word': 'nostra', 'start': 146, 'end': 152}, {'entity': 'LABEL_1', 'score': 0.99855787, 'index': 42, 'word': 'missione', 'start': 153, 'end': 161}, {'entity': 'LABEL_1', 'score': 0.9991266, 'index': 43, 'word': 'è', 'start': 162, 'end': 163}, {'entity': 'LABEL_1', 'score': 0.9988411, 'index': 44, 'word': 'innova', 'start': 164, 'end': 170}, {'entity': 'LABEL_1', 'score': 0.99895096, 'index': 45, 'word': '##re', 'start': 170, 'end': 172}, {'entity': 'LABEL_1', 'score': 0.9993162, 'index': 46, 'word': 'e', 'start': 173, 'end': 174}, {'entity': 'LABEL_1', 'score': 0.9991147, 'index': 47, 'word': 'guidare', 'start': 175, 'end': 182}, {'entity': 'LABEL_1', 'score': 0.9993393, 'index': 48, 'word': 'l', 'start': 183, 'end': 184}, {'entity': 'LABEL_1', 'score': 0.9991918, 'index': 49, 'word': \"'\", 'start': 184, 'end': 185}, {'entity': 'LABEL_1', 'score': 0.99915445, 'index': 50, 'word': 'industria', 'start': 185, 'end': 194}, {'entity': 'LABEL_1', 'score': 0.9991523, 'index': 51, 'word': 'tecnologica', 'start': 195, 'end': 206}, {'entity': 'LABEL_1', 'score': 0.99921644, 'index': 52, 'word': 'verso', 'start': 207, 'end': 212}, {'entity': 'LABEL_1', 'score': 0.9992204, 'index': 53, 'word': 'il', 'start': 213, 'end': 215}, {'entity': 'LABEL_1', 'score': 0.9990702, 'index': 54, 'word': 'futuro', 'start': 216, 'end': 222}, {'entity': 'LABEL_1', 'score': 0.9991829, 'index': 55, 'word': \"'\", 'start': 222, 'end': 223}, {'entity': 'LABEL_1', 'score': 0.9983171, 'index': 56, 'word': '.', 'start': 223, 'end': 224}]\n"
          ]
        }
      ]
    },
    {
      "cell_type": "code",
      "source": [
        "print(type(quote_results))"
      ],
      "metadata": {
        "colab": {
          "base_uri": "https://localhost:8080/"
        },
        "id": "OlUIyrfALUu3",
        "outputId": "226f4b82-beeb-4fa4-f4b1-8ab28614ea5e"
      },
      "execution_count": null,
      "outputs": [
        {
          "output_type": "stream",
          "name": "stdout",
          "text": [
            "<class 'list'>\n"
          ]
        }
      ]
    },
    {
      "cell_type": "code",
      "source": [
        "x=0\n",
        "y=0\n",
        "\n",
        "for my_dict in quote_results:\n",
        "    if my_dict['entity'] == \"LABEL_1\":\n",
        "        x += 1\n",
        "    else:\n",
        "        y += 1\n",
        "print(y)"
      ],
      "metadata": {
        "colab": {
          "base_uri": "https://localhost:8080/"
        },
        "id": "-WdqhQ2lLZH0",
        "outputId": "6978dc28-fd66-4f81-e788-0f8e16930ad5"
      },
      "execution_count": null,
      "outputs": [
        {
          "output_type": "stream",
          "name": "stdout",
          "text": [
            "0\n"
          ]
        }
      ]
    }
  ],
  "metadata": {
    "accelerator": "GPU",
    "colab": {
      "gpuType": "T4",
      "provenance": [],
      "include_colab_link": true
    },
    "kernelspec": {
      "display_name": "Python 3",
      "name": "python3"
    },
    "language_info": {
      "name": "python"
    },
    "widgets": {
      "application/vnd.jupyter.widget-state+json": {
        "dd14e0e033364c80ad242bbaed74f39e": {
          "model_module": "@jupyter-widgets/controls",
          "model_name": "HBoxModel",
          "model_module_version": "1.5.0",
          "state": {
            "_dom_classes": [],
            "_model_module": "@jupyter-widgets/controls",
            "_model_module_version": "1.5.0",
            "_model_name": "HBoxModel",
            "_view_count": null,
            "_view_module": "@jupyter-widgets/controls",
            "_view_module_version": "1.5.0",
            "_view_name": "HBoxView",
            "box_style": "",
            "children": [
              "IPY_MODEL_781cb5178fbb468fae123bbddad07a46",
              "IPY_MODEL_50d066f6729241e38f22ff929d035dbe",
              "IPY_MODEL_515f672df632401984e12d0a11658794"
            ],
            "layout": "IPY_MODEL_72feb275501c4406a1d801b00c0ff599"
          }
        },
        "781cb5178fbb468fae123bbddad07a46": {
          "model_module": "@jupyter-widgets/controls",
          "model_name": "HTMLModel",
          "model_module_version": "1.5.0",
          "state": {
            "_dom_classes": [],
            "_model_module": "@jupyter-widgets/controls",
            "_model_module_version": "1.5.0",
            "_model_name": "HTMLModel",
            "_view_count": null,
            "_view_module": "@jupyter-widgets/controls",
            "_view_module_version": "1.5.0",
            "_view_name": "HTMLView",
            "description": "",
            "description_tooltip": null,
            "layout": "IPY_MODEL_d1dcf93f763d4df295d6432c97bca3f0",
            "placeholder": "​",
            "style": "IPY_MODEL_dc8aba0145654954b9c21bca86d2f1e9",
            "value": "tokenizer_config.json: 100%"
          }
        },
        "50d066f6729241e38f22ff929d035dbe": {
          "model_module": "@jupyter-widgets/controls",
          "model_name": "FloatProgressModel",
          "model_module_version": "1.5.0",
          "state": {
            "_dom_classes": [],
            "_model_module": "@jupyter-widgets/controls",
            "_model_module_version": "1.5.0",
            "_model_name": "FloatProgressModel",
            "_view_count": null,
            "_view_module": "@jupyter-widgets/controls",
            "_view_module_version": "1.5.0",
            "_view_name": "ProgressView",
            "bar_style": "success",
            "description": "",
            "description_tooltip": null,
            "layout": "IPY_MODEL_1a4e1c8d023d45d79599ae1df5714313",
            "max": 59,
            "min": 0,
            "orientation": "horizontal",
            "style": "IPY_MODEL_04c96dddf5a24315839e16f6256a2aa3",
            "value": 59
          }
        },
        "515f672df632401984e12d0a11658794": {
          "model_module": "@jupyter-widgets/controls",
          "model_name": "HTMLModel",
          "model_module_version": "1.5.0",
          "state": {
            "_dom_classes": [],
            "_model_module": "@jupyter-widgets/controls",
            "_model_module_version": "1.5.0",
            "_model_name": "HTMLModel",
            "_view_count": null,
            "_view_module": "@jupyter-widgets/controls",
            "_view_module_version": "1.5.0",
            "_view_name": "HTMLView",
            "description": "",
            "description_tooltip": null,
            "layout": "IPY_MODEL_743de31450594305af69a9765d902439",
            "placeholder": "​",
            "style": "IPY_MODEL_ebeb6f06c93b4af28c677604677c06e9",
            "value": " 59.0/59.0 [00:00&lt;00:00, 4.34kB/s]"
          }
        },
        "72feb275501c4406a1d801b00c0ff599": {
          "model_module": "@jupyter-widgets/base",
          "model_name": "LayoutModel",
          "model_module_version": "1.2.0",
          "state": {
            "_model_module": "@jupyter-widgets/base",
            "_model_module_version": "1.2.0",
            "_model_name": "LayoutModel",
            "_view_count": null,
            "_view_module": "@jupyter-widgets/base",
            "_view_module_version": "1.2.0",
            "_view_name": "LayoutView",
            "align_content": null,
            "align_items": null,
            "align_self": null,
            "border": null,
            "bottom": null,
            "display": null,
            "flex": null,
            "flex_flow": null,
            "grid_area": null,
            "grid_auto_columns": null,
            "grid_auto_flow": null,
            "grid_auto_rows": null,
            "grid_column": null,
            "grid_gap": null,
            "grid_row": null,
            "grid_template_areas": null,
            "grid_template_columns": null,
            "grid_template_rows": null,
            "height": null,
            "justify_content": null,
            "justify_items": null,
            "left": null,
            "margin": null,
            "max_height": null,
            "max_width": null,
            "min_height": null,
            "min_width": null,
            "object_fit": null,
            "object_position": null,
            "order": null,
            "overflow": null,
            "overflow_x": null,
            "overflow_y": null,
            "padding": null,
            "right": null,
            "top": null,
            "visibility": null,
            "width": null
          }
        },
        "d1dcf93f763d4df295d6432c97bca3f0": {
          "model_module": "@jupyter-widgets/base",
          "model_name": "LayoutModel",
          "model_module_version": "1.2.0",
          "state": {
            "_model_module": "@jupyter-widgets/base",
            "_model_module_version": "1.2.0",
            "_model_name": "LayoutModel",
            "_view_count": null,
            "_view_module": "@jupyter-widgets/base",
            "_view_module_version": "1.2.0",
            "_view_name": "LayoutView",
            "align_content": null,
            "align_items": null,
            "align_self": null,
            "border": null,
            "bottom": null,
            "display": null,
            "flex": null,
            "flex_flow": null,
            "grid_area": null,
            "grid_auto_columns": null,
            "grid_auto_flow": null,
            "grid_auto_rows": null,
            "grid_column": null,
            "grid_gap": null,
            "grid_row": null,
            "grid_template_areas": null,
            "grid_template_columns": null,
            "grid_template_rows": null,
            "height": null,
            "justify_content": null,
            "justify_items": null,
            "left": null,
            "margin": null,
            "max_height": null,
            "max_width": null,
            "min_height": null,
            "min_width": null,
            "object_fit": null,
            "object_position": null,
            "order": null,
            "overflow": null,
            "overflow_x": null,
            "overflow_y": null,
            "padding": null,
            "right": null,
            "top": null,
            "visibility": null,
            "width": null
          }
        },
        "dc8aba0145654954b9c21bca86d2f1e9": {
          "model_module": "@jupyter-widgets/controls",
          "model_name": "DescriptionStyleModel",
          "model_module_version": "1.5.0",
          "state": {
            "_model_module": "@jupyter-widgets/controls",
            "_model_module_version": "1.5.0",
            "_model_name": "DescriptionStyleModel",
            "_view_count": null,
            "_view_module": "@jupyter-widgets/base",
            "_view_module_version": "1.2.0",
            "_view_name": "StyleView",
            "description_width": ""
          }
        },
        "1a4e1c8d023d45d79599ae1df5714313": {
          "model_module": "@jupyter-widgets/base",
          "model_name": "LayoutModel",
          "model_module_version": "1.2.0",
          "state": {
            "_model_module": "@jupyter-widgets/base",
            "_model_module_version": "1.2.0",
            "_model_name": "LayoutModel",
            "_view_count": null,
            "_view_module": "@jupyter-widgets/base",
            "_view_module_version": "1.2.0",
            "_view_name": "LayoutView",
            "align_content": null,
            "align_items": null,
            "align_self": null,
            "border": null,
            "bottom": null,
            "display": null,
            "flex": null,
            "flex_flow": null,
            "grid_area": null,
            "grid_auto_columns": null,
            "grid_auto_flow": null,
            "grid_auto_rows": null,
            "grid_column": null,
            "grid_gap": null,
            "grid_row": null,
            "grid_template_areas": null,
            "grid_template_columns": null,
            "grid_template_rows": null,
            "height": null,
            "justify_content": null,
            "justify_items": null,
            "left": null,
            "margin": null,
            "max_height": null,
            "max_width": null,
            "min_height": null,
            "min_width": null,
            "object_fit": null,
            "object_position": null,
            "order": null,
            "overflow": null,
            "overflow_x": null,
            "overflow_y": null,
            "padding": null,
            "right": null,
            "top": null,
            "visibility": null,
            "width": null
          }
        },
        "04c96dddf5a24315839e16f6256a2aa3": {
          "model_module": "@jupyter-widgets/controls",
          "model_name": "ProgressStyleModel",
          "model_module_version": "1.5.0",
          "state": {
            "_model_module": "@jupyter-widgets/controls",
            "_model_module_version": "1.5.0",
            "_model_name": "ProgressStyleModel",
            "_view_count": null,
            "_view_module": "@jupyter-widgets/base",
            "_view_module_version": "1.2.0",
            "_view_name": "StyleView",
            "bar_color": null,
            "description_width": ""
          }
        },
        "743de31450594305af69a9765d902439": {
          "model_module": "@jupyter-widgets/base",
          "model_name": "LayoutModel",
          "model_module_version": "1.2.0",
          "state": {
            "_model_module": "@jupyter-widgets/base",
            "_model_module_version": "1.2.0",
            "_model_name": "LayoutModel",
            "_view_count": null,
            "_view_module": "@jupyter-widgets/base",
            "_view_module_version": "1.2.0",
            "_view_name": "LayoutView",
            "align_content": null,
            "align_items": null,
            "align_self": null,
            "border": null,
            "bottom": null,
            "display": null,
            "flex": null,
            "flex_flow": null,
            "grid_area": null,
            "grid_auto_columns": null,
            "grid_auto_flow": null,
            "grid_auto_rows": null,
            "grid_column": null,
            "grid_gap": null,
            "grid_row": null,
            "grid_template_areas": null,
            "grid_template_columns": null,
            "grid_template_rows": null,
            "height": null,
            "justify_content": null,
            "justify_items": null,
            "left": null,
            "margin": null,
            "max_height": null,
            "max_width": null,
            "min_height": null,
            "min_width": null,
            "object_fit": null,
            "object_position": null,
            "order": null,
            "overflow": null,
            "overflow_x": null,
            "overflow_y": null,
            "padding": null,
            "right": null,
            "top": null,
            "visibility": null,
            "width": null
          }
        },
        "ebeb6f06c93b4af28c677604677c06e9": {
          "model_module": "@jupyter-widgets/controls",
          "model_name": "DescriptionStyleModel",
          "model_module_version": "1.5.0",
          "state": {
            "_model_module": "@jupyter-widgets/controls",
            "_model_module_version": "1.5.0",
            "_model_name": "DescriptionStyleModel",
            "_view_count": null,
            "_view_module": "@jupyter-widgets/base",
            "_view_module_version": "1.2.0",
            "_view_name": "StyleView",
            "description_width": ""
          }
        },
        "30720f50d41d4f728665f4f27fbe8840": {
          "model_module": "@jupyter-widgets/controls",
          "model_name": "HBoxModel",
          "model_module_version": "1.5.0",
          "state": {
            "_dom_classes": [],
            "_model_module": "@jupyter-widgets/controls",
            "_model_module_version": "1.5.0",
            "_model_name": "HBoxModel",
            "_view_count": null,
            "_view_module": "@jupyter-widgets/controls",
            "_view_module_version": "1.5.0",
            "_view_name": "HBoxView",
            "box_style": "",
            "children": [
              "IPY_MODEL_4a25de62ac36421385c8e802177e20d9",
              "IPY_MODEL_60ef772e28c747438a6bac7f7d578d41",
              "IPY_MODEL_7914dde3234848c994ef2d6543693d4d"
            ],
            "layout": "IPY_MODEL_87003f889fd341b3ad661ceacad225a2"
          }
        },
        "4a25de62ac36421385c8e802177e20d9": {
          "model_module": "@jupyter-widgets/controls",
          "model_name": "HTMLModel",
          "model_module_version": "1.5.0",
          "state": {
            "_dom_classes": [],
            "_model_module": "@jupyter-widgets/controls",
            "_model_module_version": "1.5.0",
            "_model_name": "HTMLModel",
            "_view_count": null,
            "_view_module": "@jupyter-widgets/controls",
            "_view_module_version": "1.5.0",
            "_view_name": "HTMLView",
            "description": "",
            "description_tooltip": null,
            "layout": "IPY_MODEL_e9a9c786682544099aac69d14b6b3d35",
            "placeholder": "​",
            "style": "IPY_MODEL_9943a413b6fb4e00a759ee4b8a113dfd",
            "value": "vocab.txt: 100%"
          }
        },
        "60ef772e28c747438a6bac7f7d578d41": {
          "model_module": "@jupyter-widgets/controls",
          "model_name": "FloatProgressModel",
          "model_module_version": "1.5.0",
          "state": {
            "_dom_classes": [],
            "_model_module": "@jupyter-widgets/controls",
            "_model_module_version": "1.5.0",
            "_model_name": "FloatProgressModel",
            "_view_count": null,
            "_view_module": "@jupyter-widgets/controls",
            "_view_module_version": "1.5.0",
            "_view_name": "ProgressView",
            "bar_style": "success",
            "description": "",
            "description_tooltip": null,
            "layout": "IPY_MODEL_a08d501c93e64122b54240d4779cf885",
            "max": 235127,
            "min": 0,
            "orientation": "horizontal",
            "style": "IPY_MODEL_827eba3708a446ec80f41764793bb648",
            "value": 235127
          }
        },
        "7914dde3234848c994ef2d6543693d4d": {
          "model_module": "@jupyter-widgets/controls",
          "model_name": "HTMLModel",
          "model_module_version": "1.5.0",
          "state": {
            "_dom_classes": [],
            "_model_module": "@jupyter-widgets/controls",
            "_model_module_version": "1.5.0",
            "_model_name": "HTMLModel",
            "_view_count": null,
            "_view_module": "@jupyter-widgets/controls",
            "_view_module_version": "1.5.0",
            "_view_name": "HTMLView",
            "description": "",
            "description_tooltip": null,
            "layout": "IPY_MODEL_1e5abb25f18f4e94994d69abb7cda76f",
            "placeholder": "​",
            "style": "IPY_MODEL_eab1e395e16c4df98caef703f1461c14",
            "value": " 235k/235k [00:00&lt;00:00, 677kB/s]"
          }
        },
        "87003f889fd341b3ad661ceacad225a2": {
          "model_module": "@jupyter-widgets/base",
          "model_name": "LayoutModel",
          "model_module_version": "1.2.0",
          "state": {
            "_model_module": "@jupyter-widgets/base",
            "_model_module_version": "1.2.0",
            "_model_name": "LayoutModel",
            "_view_count": null,
            "_view_module": "@jupyter-widgets/base",
            "_view_module_version": "1.2.0",
            "_view_name": "LayoutView",
            "align_content": null,
            "align_items": null,
            "align_self": null,
            "border": null,
            "bottom": null,
            "display": null,
            "flex": null,
            "flex_flow": null,
            "grid_area": null,
            "grid_auto_columns": null,
            "grid_auto_flow": null,
            "grid_auto_rows": null,
            "grid_column": null,
            "grid_gap": null,
            "grid_row": null,
            "grid_template_areas": null,
            "grid_template_columns": null,
            "grid_template_rows": null,
            "height": null,
            "justify_content": null,
            "justify_items": null,
            "left": null,
            "margin": null,
            "max_height": null,
            "max_width": null,
            "min_height": null,
            "min_width": null,
            "object_fit": null,
            "object_position": null,
            "order": null,
            "overflow": null,
            "overflow_x": null,
            "overflow_y": null,
            "padding": null,
            "right": null,
            "top": null,
            "visibility": null,
            "width": null
          }
        },
        "e9a9c786682544099aac69d14b6b3d35": {
          "model_module": "@jupyter-widgets/base",
          "model_name": "LayoutModel",
          "model_module_version": "1.2.0",
          "state": {
            "_model_module": "@jupyter-widgets/base",
            "_model_module_version": "1.2.0",
            "_model_name": "LayoutModel",
            "_view_count": null,
            "_view_module": "@jupyter-widgets/base",
            "_view_module_version": "1.2.0",
            "_view_name": "LayoutView",
            "align_content": null,
            "align_items": null,
            "align_self": null,
            "border": null,
            "bottom": null,
            "display": null,
            "flex": null,
            "flex_flow": null,
            "grid_area": null,
            "grid_auto_columns": null,
            "grid_auto_flow": null,
            "grid_auto_rows": null,
            "grid_column": null,
            "grid_gap": null,
            "grid_row": null,
            "grid_template_areas": null,
            "grid_template_columns": null,
            "grid_template_rows": null,
            "height": null,
            "justify_content": null,
            "justify_items": null,
            "left": null,
            "margin": null,
            "max_height": null,
            "max_width": null,
            "min_height": null,
            "min_width": null,
            "object_fit": null,
            "object_position": null,
            "order": null,
            "overflow": null,
            "overflow_x": null,
            "overflow_y": null,
            "padding": null,
            "right": null,
            "top": null,
            "visibility": null,
            "width": null
          }
        },
        "9943a413b6fb4e00a759ee4b8a113dfd": {
          "model_module": "@jupyter-widgets/controls",
          "model_name": "DescriptionStyleModel",
          "model_module_version": "1.5.0",
          "state": {
            "_model_module": "@jupyter-widgets/controls",
            "_model_module_version": "1.5.0",
            "_model_name": "DescriptionStyleModel",
            "_view_count": null,
            "_view_module": "@jupyter-widgets/base",
            "_view_module_version": "1.2.0",
            "_view_name": "StyleView",
            "description_width": ""
          }
        },
        "a08d501c93e64122b54240d4779cf885": {
          "model_module": "@jupyter-widgets/base",
          "model_name": "LayoutModel",
          "model_module_version": "1.2.0",
          "state": {
            "_model_module": "@jupyter-widgets/base",
            "_model_module_version": "1.2.0",
            "_model_name": "LayoutModel",
            "_view_count": null,
            "_view_module": "@jupyter-widgets/base",
            "_view_module_version": "1.2.0",
            "_view_name": "LayoutView",
            "align_content": null,
            "align_items": null,
            "align_self": null,
            "border": null,
            "bottom": null,
            "display": null,
            "flex": null,
            "flex_flow": null,
            "grid_area": null,
            "grid_auto_columns": null,
            "grid_auto_flow": null,
            "grid_auto_rows": null,
            "grid_column": null,
            "grid_gap": null,
            "grid_row": null,
            "grid_template_areas": null,
            "grid_template_columns": null,
            "grid_template_rows": null,
            "height": null,
            "justify_content": null,
            "justify_items": null,
            "left": null,
            "margin": null,
            "max_height": null,
            "max_width": null,
            "min_height": null,
            "min_width": null,
            "object_fit": null,
            "object_position": null,
            "order": null,
            "overflow": null,
            "overflow_x": null,
            "overflow_y": null,
            "padding": null,
            "right": null,
            "top": null,
            "visibility": null,
            "width": null
          }
        },
        "827eba3708a446ec80f41764793bb648": {
          "model_module": "@jupyter-widgets/controls",
          "model_name": "ProgressStyleModel",
          "model_module_version": "1.5.0",
          "state": {
            "_model_module": "@jupyter-widgets/controls",
            "_model_module_version": "1.5.0",
            "_model_name": "ProgressStyleModel",
            "_view_count": null,
            "_view_module": "@jupyter-widgets/base",
            "_view_module_version": "1.2.0",
            "_view_name": "StyleView",
            "bar_color": null,
            "description_width": ""
          }
        },
        "1e5abb25f18f4e94994d69abb7cda76f": {
          "model_module": "@jupyter-widgets/base",
          "model_name": "LayoutModel",
          "model_module_version": "1.2.0",
          "state": {
            "_model_module": "@jupyter-widgets/base",
            "_model_module_version": "1.2.0",
            "_model_name": "LayoutModel",
            "_view_count": null,
            "_view_module": "@jupyter-widgets/base",
            "_view_module_version": "1.2.0",
            "_view_name": "LayoutView",
            "align_content": null,
            "align_items": null,
            "align_self": null,
            "border": null,
            "bottom": null,
            "display": null,
            "flex": null,
            "flex_flow": null,
            "grid_area": null,
            "grid_auto_columns": null,
            "grid_auto_flow": null,
            "grid_auto_rows": null,
            "grid_column": null,
            "grid_gap": null,
            "grid_row": null,
            "grid_template_areas": null,
            "grid_template_columns": null,
            "grid_template_rows": null,
            "height": null,
            "justify_content": null,
            "justify_items": null,
            "left": null,
            "margin": null,
            "max_height": null,
            "max_width": null,
            "min_height": null,
            "min_width": null,
            "object_fit": null,
            "object_position": null,
            "order": null,
            "overflow": null,
            "overflow_x": null,
            "overflow_y": null,
            "padding": null,
            "right": null,
            "top": null,
            "visibility": null,
            "width": null
          }
        },
        "eab1e395e16c4df98caef703f1461c14": {
          "model_module": "@jupyter-widgets/controls",
          "model_name": "DescriptionStyleModel",
          "model_module_version": "1.5.0",
          "state": {
            "_model_module": "@jupyter-widgets/controls",
            "_model_module_version": "1.5.0",
            "_model_name": "DescriptionStyleModel",
            "_view_count": null,
            "_view_module": "@jupyter-widgets/base",
            "_view_module_version": "1.2.0",
            "_view_name": "StyleView",
            "description_width": ""
          }
        },
        "5d94e4298c154215ade67720df135db8": {
          "model_module": "@jupyter-widgets/controls",
          "model_name": "HBoxModel",
          "model_module_version": "1.5.0",
          "state": {
            "_dom_classes": [],
            "_model_module": "@jupyter-widgets/controls",
            "_model_module_version": "1.5.0",
            "_model_name": "HBoxModel",
            "_view_count": null,
            "_view_module": "@jupyter-widgets/controls",
            "_view_module_version": "1.5.0",
            "_view_name": "HBoxView",
            "box_style": "",
            "children": [
              "IPY_MODEL_905f83b3372d4f8398cb130da65fadaf",
              "IPY_MODEL_f521feec2fb247eab6470220477401a7",
              "IPY_MODEL_9f0d399565ef420e83ca62aafe4866f9"
            ],
            "layout": "IPY_MODEL_1813a51c7f614f30b758638ac7cebb46"
          }
        },
        "905f83b3372d4f8398cb130da65fadaf": {
          "model_module": "@jupyter-widgets/controls",
          "model_name": "HTMLModel",
          "model_module_version": "1.5.0",
          "state": {
            "_dom_classes": [],
            "_model_module": "@jupyter-widgets/controls",
            "_model_module_version": "1.5.0",
            "_model_name": "HTMLModel",
            "_view_count": null,
            "_view_module": "@jupyter-widgets/controls",
            "_view_module_version": "1.5.0",
            "_view_name": "HTMLView",
            "description": "",
            "description_tooltip": null,
            "layout": "IPY_MODEL_bde273336b7748fcbd990d80597495fc",
            "placeholder": "​",
            "style": "IPY_MODEL_e2f7c75d08ab43a7b5294184375574dc",
            "value": "config.json: 100%"
          }
        },
        "f521feec2fb247eab6470220477401a7": {
          "model_module": "@jupyter-widgets/controls",
          "model_name": "FloatProgressModel",
          "model_module_version": "1.5.0",
          "state": {
            "_dom_classes": [],
            "_model_module": "@jupyter-widgets/controls",
            "_model_module_version": "1.5.0",
            "_model_name": "FloatProgressModel",
            "_view_count": null,
            "_view_module": "@jupyter-widgets/controls",
            "_view_module_version": "1.5.0",
            "_view_name": "ProgressView",
            "bar_style": "success",
            "description": "",
            "description_tooltip": null,
            "layout": "IPY_MODEL_638097a48c5c451bad45aa504d74150a",
            "max": 433,
            "min": 0,
            "orientation": "horizontal",
            "style": "IPY_MODEL_4d2a142cb9274866a13366a745649414",
            "value": 433
          }
        },
        "9f0d399565ef420e83ca62aafe4866f9": {
          "model_module": "@jupyter-widgets/controls",
          "model_name": "HTMLModel",
          "model_module_version": "1.5.0",
          "state": {
            "_dom_classes": [],
            "_model_module": "@jupyter-widgets/controls",
            "_model_module_version": "1.5.0",
            "_model_name": "HTMLModel",
            "_view_count": null,
            "_view_module": "@jupyter-widgets/controls",
            "_view_module_version": "1.5.0",
            "_view_name": "HTMLView",
            "description": "",
            "description_tooltip": null,
            "layout": "IPY_MODEL_de8d83ecc6d64d70b9067da757563ee8",
            "placeholder": "​",
            "style": "IPY_MODEL_c09a492d84f84cb4a4b7ebdc3b7148bb",
            "value": " 433/433 [00:00&lt;00:00, 34.9kB/s]"
          }
        },
        "1813a51c7f614f30b758638ac7cebb46": {
          "model_module": "@jupyter-widgets/base",
          "model_name": "LayoutModel",
          "model_module_version": "1.2.0",
          "state": {
            "_model_module": "@jupyter-widgets/base",
            "_model_module_version": "1.2.0",
            "_model_name": "LayoutModel",
            "_view_count": null,
            "_view_module": "@jupyter-widgets/base",
            "_view_module_version": "1.2.0",
            "_view_name": "LayoutView",
            "align_content": null,
            "align_items": null,
            "align_self": null,
            "border": null,
            "bottom": null,
            "display": null,
            "flex": null,
            "flex_flow": null,
            "grid_area": null,
            "grid_auto_columns": null,
            "grid_auto_flow": null,
            "grid_auto_rows": null,
            "grid_column": null,
            "grid_gap": null,
            "grid_row": null,
            "grid_template_areas": null,
            "grid_template_columns": null,
            "grid_template_rows": null,
            "height": null,
            "justify_content": null,
            "justify_items": null,
            "left": null,
            "margin": null,
            "max_height": null,
            "max_width": null,
            "min_height": null,
            "min_width": null,
            "object_fit": null,
            "object_position": null,
            "order": null,
            "overflow": null,
            "overflow_x": null,
            "overflow_y": null,
            "padding": null,
            "right": null,
            "top": null,
            "visibility": null,
            "width": null
          }
        },
        "bde273336b7748fcbd990d80597495fc": {
          "model_module": "@jupyter-widgets/base",
          "model_name": "LayoutModel",
          "model_module_version": "1.2.0",
          "state": {
            "_model_module": "@jupyter-widgets/base",
            "_model_module_version": "1.2.0",
            "_model_name": "LayoutModel",
            "_view_count": null,
            "_view_module": "@jupyter-widgets/base",
            "_view_module_version": "1.2.0",
            "_view_name": "LayoutView",
            "align_content": null,
            "align_items": null,
            "align_self": null,
            "border": null,
            "bottom": null,
            "display": null,
            "flex": null,
            "flex_flow": null,
            "grid_area": null,
            "grid_auto_columns": null,
            "grid_auto_flow": null,
            "grid_auto_rows": null,
            "grid_column": null,
            "grid_gap": null,
            "grid_row": null,
            "grid_template_areas": null,
            "grid_template_columns": null,
            "grid_template_rows": null,
            "height": null,
            "justify_content": null,
            "justify_items": null,
            "left": null,
            "margin": null,
            "max_height": null,
            "max_width": null,
            "min_height": null,
            "min_width": null,
            "object_fit": null,
            "object_position": null,
            "order": null,
            "overflow": null,
            "overflow_x": null,
            "overflow_y": null,
            "padding": null,
            "right": null,
            "top": null,
            "visibility": null,
            "width": null
          }
        },
        "e2f7c75d08ab43a7b5294184375574dc": {
          "model_module": "@jupyter-widgets/controls",
          "model_name": "DescriptionStyleModel",
          "model_module_version": "1.5.0",
          "state": {
            "_model_module": "@jupyter-widgets/controls",
            "_model_module_version": "1.5.0",
            "_model_name": "DescriptionStyleModel",
            "_view_count": null,
            "_view_module": "@jupyter-widgets/base",
            "_view_module_version": "1.2.0",
            "_view_name": "StyleView",
            "description_width": ""
          }
        },
        "638097a48c5c451bad45aa504d74150a": {
          "model_module": "@jupyter-widgets/base",
          "model_name": "LayoutModel",
          "model_module_version": "1.2.0",
          "state": {
            "_model_module": "@jupyter-widgets/base",
            "_model_module_version": "1.2.0",
            "_model_name": "LayoutModel",
            "_view_count": null,
            "_view_module": "@jupyter-widgets/base",
            "_view_module_version": "1.2.0",
            "_view_name": "LayoutView",
            "align_content": null,
            "align_items": null,
            "align_self": null,
            "border": null,
            "bottom": null,
            "display": null,
            "flex": null,
            "flex_flow": null,
            "grid_area": null,
            "grid_auto_columns": null,
            "grid_auto_flow": null,
            "grid_auto_rows": null,
            "grid_column": null,
            "grid_gap": null,
            "grid_row": null,
            "grid_template_areas": null,
            "grid_template_columns": null,
            "grid_template_rows": null,
            "height": null,
            "justify_content": null,
            "justify_items": null,
            "left": null,
            "margin": null,
            "max_height": null,
            "max_width": null,
            "min_height": null,
            "min_width": null,
            "object_fit": null,
            "object_position": null,
            "order": null,
            "overflow": null,
            "overflow_x": null,
            "overflow_y": null,
            "padding": null,
            "right": null,
            "top": null,
            "visibility": null,
            "width": null
          }
        },
        "4d2a142cb9274866a13366a745649414": {
          "model_module": "@jupyter-widgets/controls",
          "model_name": "ProgressStyleModel",
          "model_module_version": "1.5.0",
          "state": {
            "_model_module": "@jupyter-widgets/controls",
            "_model_module_version": "1.5.0",
            "_model_name": "ProgressStyleModel",
            "_view_count": null,
            "_view_module": "@jupyter-widgets/base",
            "_view_module_version": "1.2.0",
            "_view_name": "StyleView",
            "bar_color": null,
            "description_width": ""
          }
        },
        "de8d83ecc6d64d70b9067da757563ee8": {
          "model_module": "@jupyter-widgets/base",
          "model_name": "LayoutModel",
          "model_module_version": "1.2.0",
          "state": {
            "_model_module": "@jupyter-widgets/base",
            "_model_module_version": "1.2.0",
            "_model_name": "LayoutModel",
            "_view_count": null,
            "_view_module": "@jupyter-widgets/base",
            "_view_module_version": "1.2.0",
            "_view_name": "LayoutView",
            "align_content": null,
            "align_items": null,
            "align_self": null,
            "border": null,
            "bottom": null,
            "display": null,
            "flex": null,
            "flex_flow": null,
            "grid_area": null,
            "grid_auto_columns": null,
            "grid_auto_flow": null,
            "grid_auto_rows": null,
            "grid_column": null,
            "grid_gap": null,
            "grid_row": null,
            "grid_template_areas": null,
            "grid_template_columns": null,
            "grid_template_rows": null,
            "height": null,
            "justify_content": null,
            "justify_items": null,
            "left": null,
            "margin": null,
            "max_height": null,
            "max_width": null,
            "min_height": null,
            "min_width": null,
            "object_fit": null,
            "object_position": null,
            "order": null,
            "overflow": null,
            "overflow_x": null,
            "overflow_y": null,
            "padding": null,
            "right": null,
            "top": null,
            "visibility": null,
            "width": null
          }
        },
        "c09a492d84f84cb4a4b7ebdc3b7148bb": {
          "model_module": "@jupyter-widgets/controls",
          "model_name": "DescriptionStyleModel",
          "model_module_version": "1.5.0",
          "state": {
            "_model_module": "@jupyter-widgets/controls",
            "_model_module_version": "1.5.0",
            "_model_name": "DescriptionStyleModel",
            "_view_count": null,
            "_view_module": "@jupyter-widgets/base",
            "_view_module_version": "1.2.0",
            "_view_name": "StyleView",
            "description_width": ""
          }
        },
        "e49516a662a342ae858a471f732f49b2": {
          "model_module": "@jupyter-widgets/controls",
          "model_name": "HBoxModel",
          "model_module_version": "1.5.0",
          "state": {
            "_dom_classes": [],
            "_model_module": "@jupyter-widgets/controls",
            "_model_module_version": "1.5.0",
            "_model_name": "HBoxModel",
            "_view_count": null,
            "_view_module": "@jupyter-widgets/controls",
            "_view_module_version": "1.5.0",
            "_view_name": "HBoxView",
            "box_style": "",
            "children": [
              "IPY_MODEL_67bca30b72984ac9838025585f55d8da",
              "IPY_MODEL_5186f175d15a4f459e8e84d7c42dda81",
              "IPY_MODEL_4fa49f5cec4346e6ab4da895f5803fdb"
            ],
            "layout": "IPY_MODEL_b3887369630245e5adcc4a4da31c49a2"
          }
        },
        "67bca30b72984ac9838025585f55d8da": {
          "model_module": "@jupyter-widgets/controls",
          "model_name": "HTMLModel",
          "model_module_version": "1.5.0",
          "state": {
            "_dom_classes": [],
            "_model_module": "@jupyter-widgets/controls",
            "_model_module_version": "1.5.0",
            "_model_name": "HTMLModel",
            "_view_count": null,
            "_view_module": "@jupyter-widgets/controls",
            "_view_module_version": "1.5.0",
            "_view_name": "HTMLView",
            "description": "",
            "description_tooltip": null,
            "layout": "IPY_MODEL_982da7d004c942ecae7b08820e078596",
            "placeholder": "​",
            "style": "IPY_MODEL_4ae3d803fefa4eff81ce2a5df6beeb08",
            "value": "config.json: 100%"
          }
        },
        "5186f175d15a4f459e8e84d7c42dda81": {
          "model_module": "@jupyter-widgets/controls",
          "model_name": "FloatProgressModel",
          "model_module_version": "1.5.0",
          "state": {
            "_dom_classes": [],
            "_model_module": "@jupyter-widgets/controls",
            "_model_module_version": "1.5.0",
            "_model_name": "FloatProgressModel",
            "_view_count": null,
            "_view_module": "@jupyter-widgets/controls",
            "_view_module_version": "1.5.0",
            "_view_name": "ProgressView",
            "bar_style": "success",
            "description": "",
            "description_tooltip": null,
            "layout": "IPY_MODEL_0403c8259c1845cea40ce492c5b6ecd9",
            "max": 433,
            "min": 0,
            "orientation": "horizontal",
            "style": "IPY_MODEL_5266fe30f791487c94e8c490c4ce63f0",
            "value": 433
          }
        },
        "4fa49f5cec4346e6ab4da895f5803fdb": {
          "model_module": "@jupyter-widgets/controls",
          "model_name": "HTMLModel",
          "model_module_version": "1.5.0",
          "state": {
            "_dom_classes": [],
            "_model_module": "@jupyter-widgets/controls",
            "_model_module_version": "1.5.0",
            "_model_name": "HTMLModel",
            "_view_count": null,
            "_view_module": "@jupyter-widgets/controls",
            "_view_module_version": "1.5.0",
            "_view_name": "HTMLView",
            "description": "",
            "description_tooltip": null,
            "layout": "IPY_MODEL_e8d8a6a0b0e14f7e912e6429c799db6a",
            "placeholder": "​",
            "style": "IPY_MODEL_3e477098ffcb4a1d9951156d1f93f922",
            "value": " 433/433 [00:00&lt;00:00, 25.0kB/s]"
          }
        },
        "b3887369630245e5adcc4a4da31c49a2": {
          "model_module": "@jupyter-widgets/base",
          "model_name": "LayoutModel",
          "model_module_version": "1.2.0",
          "state": {
            "_model_module": "@jupyter-widgets/base",
            "_model_module_version": "1.2.0",
            "_model_name": "LayoutModel",
            "_view_count": null,
            "_view_module": "@jupyter-widgets/base",
            "_view_module_version": "1.2.0",
            "_view_name": "LayoutView",
            "align_content": null,
            "align_items": null,
            "align_self": null,
            "border": null,
            "bottom": null,
            "display": null,
            "flex": null,
            "flex_flow": null,
            "grid_area": null,
            "grid_auto_columns": null,
            "grid_auto_flow": null,
            "grid_auto_rows": null,
            "grid_column": null,
            "grid_gap": null,
            "grid_row": null,
            "grid_template_areas": null,
            "grid_template_columns": null,
            "grid_template_rows": null,
            "height": null,
            "justify_content": null,
            "justify_items": null,
            "left": null,
            "margin": null,
            "max_height": null,
            "max_width": null,
            "min_height": null,
            "min_width": null,
            "object_fit": null,
            "object_position": null,
            "order": null,
            "overflow": null,
            "overflow_x": null,
            "overflow_y": null,
            "padding": null,
            "right": null,
            "top": null,
            "visibility": null,
            "width": null
          }
        },
        "982da7d004c942ecae7b08820e078596": {
          "model_module": "@jupyter-widgets/base",
          "model_name": "LayoutModel",
          "model_module_version": "1.2.0",
          "state": {
            "_model_module": "@jupyter-widgets/base",
            "_model_module_version": "1.2.0",
            "_model_name": "LayoutModel",
            "_view_count": null,
            "_view_module": "@jupyter-widgets/base",
            "_view_module_version": "1.2.0",
            "_view_name": "LayoutView",
            "align_content": null,
            "align_items": null,
            "align_self": null,
            "border": null,
            "bottom": null,
            "display": null,
            "flex": null,
            "flex_flow": null,
            "grid_area": null,
            "grid_auto_columns": null,
            "grid_auto_flow": null,
            "grid_auto_rows": null,
            "grid_column": null,
            "grid_gap": null,
            "grid_row": null,
            "grid_template_areas": null,
            "grid_template_columns": null,
            "grid_template_rows": null,
            "height": null,
            "justify_content": null,
            "justify_items": null,
            "left": null,
            "margin": null,
            "max_height": null,
            "max_width": null,
            "min_height": null,
            "min_width": null,
            "object_fit": null,
            "object_position": null,
            "order": null,
            "overflow": null,
            "overflow_x": null,
            "overflow_y": null,
            "padding": null,
            "right": null,
            "top": null,
            "visibility": null,
            "width": null
          }
        },
        "4ae3d803fefa4eff81ce2a5df6beeb08": {
          "model_module": "@jupyter-widgets/controls",
          "model_name": "DescriptionStyleModel",
          "model_module_version": "1.5.0",
          "state": {
            "_model_module": "@jupyter-widgets/controls",
            "_model_module_version": "1.5.0",
            "_model_name": "DescriptionStyleModel",
            "_view_count": null,
            "_view_module": "@jupyter-widgets/base",
            "_view_module_version": "1.2.0",
            "_view_name": "StyleView",
            "description_width": ""
          }
        },
        "0403c8259c1845cea40ce492c5b6ecd9": {
          "model_module": "@jupyter-widgets/base",
          "model_name": "LayoutModel",
          "model_module_version": "1.2.0",
          "state": {
            "_model_module": "@jupyter-widgets/base",
            "_model_module_version": "1.2.0",
            "_model_name": "LayoutModel",
            "_view_count": null,
            "_view_module": "@jupyter-widgets/base",
            "_view_module_version": "1.2.0",
            "_view_name": "LayoutView",
            "align_content": null,
            "align_items": null,
            "align_self": null,
            "border": null,
            "bottom": null,
            "display": null,
            "flex": null,
            "flex_flow": null,
            "grid_area": null,
            "grid_auto_columns": null,
            "grid_auto_flow": null,
            "grid_auto_rows": null,
            "grid_column": null,
            "grid_gap": null,
            "grid_row": null,
            "grid_template_areas": null,
            "grid_template_columns": null,
            "grid_template_rows": null,
            "height": null,
            "justify_content": null,
            "justify_items": null,
            "left": null,
            "margin": null,
            "max_height": null,
            "max_width": null,
            "min_height": null,
            "min_width": null,
            "object_fit": null,
            "object_position": null,
            "order": null,
            "overflow": null,
            "overflow_x": null,
            "overflow_y": null,
            "padding": null,
            "right": null,
            "top": null,
            "visibility": null,
            "width": null
          }
        },
        "5266fe30f791487c94e8c490c4ce63f0": {
          "model_module": "@jupyter-widgets/controls",
          "model_name": "ProgressStyleModel",
          "model_module_version": "1.5.0",
          "state": {
            "_model_module": "@jupyter-widgets/controls",
            "_model_module_version": "1.5.0",
            "_model_name": "ProgressStyleModel",
            "_view_count": null,
            "_view_module": "@jupyter-widgets/base",
            "_view_module_version": "1.2.0",
            "_view_name": "StyleView",
            "bar_color": null,
            "description_width": ""
          }
        },
        "e8d8a6a0b0e14f7e912e6429c799db6a": {
          "model_module": "@jupyter-widgets/base",
          "model_name": "LayoutModel",
          "model_module_version": "1.2.0",
          "state": {
            "_model_module": "@jupyter-widgets/base",
            "_model_module_version": "1.2.0",
            "_model_name": "LayoutModel",
            "_view_count": null,
            "_view_module": "@jupyter-widgets/base",
            "_view_module_version": "1.2.0",
            "_view_name": "LayoutView",
            "align_content": null,
            "align_items": null,
            "align_self": null,
            "border": null,
            "bottom": null,
            "display": null,
            "flex": null,
            "flex_flow": null,
            "grid_area": null,
            "grid_auto_columns": null,
            "grid_auto_flow": null,
            "grid_auto_rows": null,
            "grid_column": null,
            "grid_gap": null,
            "grid_row": null,
            "grid_template_areas": null,
            "grid_template_columns": null,
            "grid_template_rows": null,
            "height": null,
            "justify_content": null,
            "justify_items": null,
            "left": null,
            "margin": null,
            "max_height": null,
            "max_width": null,
            "min_height": null,
            "min_width": null,
            "object_fit": null,
            "object_position": null,
            "order": null,
            "overflow": null,
            "overflow_x": null,
            "overflow_y": null,
            "padding": null,
            "right": null,
            "top": null,
            "visibility": null,
            "width": null
          }
        },
        "3e477098ffcb4a1d9951156d1f93f922": {
          "model_module": "@jupyter-widgets/controls",
          "model_name": "DescriptionStyleModel",
          "model_module_version": "1.5.0",
          "state": {
            "_model_module": "@jupyter-widgets/controls",
            "_model_module_version": "1.5.0",
            "_model_name": "DescriptionStyleModel",
            "_view_count": null,
            "_view_module": "@jupyter-widgets/base",
            "_view_module_version": "1.2.0",
            "_view_name": "StyleView",
            "description_width": ""
          }
        },
        "32c20470abe543ba82a86609a4c3b083": {
          "model_module": "@jupyter-widgets/controls",
          "model_name": "HBoxModel",
          "model_module_version": "1.5.0",
          "state": {
            "_dom_classes": [],
            "_model_module": "@jupyter-widgets/controls",
            "_model_module_version": "1.5.0",
            "_model_name": "HBoxModel",
            "_view_count": null,
            "_view_module": "@jupyter-widgets/controls",
            "_view_module_version": "1.5.0",
            "_view_name": "HBoxView",
            "box_style": "",
            "children": [
              "IPY_MODEL_0a7fca0fc7d8459fa3de66f50a26504d",
              "IPY_MODEL_8e243532b14b4396bb2ef69e60b754cd",
              "IPY_MODEL_da3ba3b721bf4da899e89034b1e98a34"
            ],
            "layout": "IPY_MODEL_ebfe644c901d449b83ec66cfb2699e05"
          }
        },
        "0a7fca0fc7d8459fa3de66f50a26504d": {
          "model_module": "@jupyter-widgets/controls",
          "model_name": "HTMLModel",
          "model_module_version": "1.5.0",
          "state": {
            "_dom_classes": [],
            "_model_module": "@jupyter-widgets/controls",
            "_model_module_version": "1.5.0",
            "_model_name": "HTMLModel",
            "_view_count": null,
            "_view_module": "@jupyter-widgets/controls",
            "_view_module_version": "1.5.0",
            "_view_name": "HTMLView",
            "description": "",
            "description_tooltip": null,
            "layout": "IPY_MODEL_2ba38e2f2c624eadacb3f6d7d8691a25",
            "placeholder": "​",
            "style": "IPY_MODEL_ae5b877bde024ef89687fe3344d79bdb",
            "value": "model.safetensors: 100%"
          }
        },
        "8e243532b14b4396bb2ef69e60b754cd": {
          "model_module": "@jupyter-widgets/controls",
          "model_name": "FloatProgressModel",
          "model_module_version": "1.5.0",
          "state": {
            "_dom_classes": [],
            "_model_module": "@jupyter-widgets/controls",
            "_model_module_version": "1.5.0",
            "_model_name": "FloatProgressModel",
            "_view_count": null,
            "_view_module": "@jupyter-widgets/controls",
            "_view_module_version": "1.5.0",
            "_view_name": "ProgressView",
            "bar_style": "success",
            "description": "",
            "description_tooltip": null,
            "layout": "IPY_MODEL_b603afa31a494613a55a59a944a1c1ae",
            "max": 445309892,
            "min": 0,
            "orientation": "horizontal",
            "style": "IPY_MODEL_e62c80e63f884638a5efa1cb6aeda1d7",
            "value": 445309892
          }
        },
        "da3ba3b721bf4da899e89034b1e98a34": {
          "model_module": "@jupyter-widgets/controls",
          "model_name": "HTMLModel",
          "model_module_version": "1.5.0",
          "state": {
            "_dom_classes": [],
            "_model_module": "@jupyter-widgets/controls",
            "_model_module_version": "1.5.0",
            "_model_name": "HTMLModel",
            "_view_count": null,
            "_view_module": "@jupyter-widgets/controls",
            "_view_module_version": "1.5.0",
            "_view_name": "HTMLView",
            "description": "",
            "description_tooltip": null,
            "layout": "IPY_MODEL_989c2262eec1435481384ce3ae607e1d",
            "placeholder": "​",
            "style": "IPY_MODEL_668f99f2c3f6451984e042d5cdd27bda",
            "value": " 445M/445M [00:21&lt;00:00, 21.5MB/s]"
          }
        },
        "ebfe644c901d449b83ec66cfb2699e05": {
          "model_module": "@jupyter-widgets/base",
          "model_name": "LayoutModel",
          "model_module_version": "1.2.0",
          "state": {
            "_model_module": "@jupyter-widgets/base",
            "_model_module_version": "1.2.0",
            "_model_name": "LayoutModel",
            "_view_count": null,
            "_view_module": "@jupyter-widgets/base",
            "_view_module_version": "1.2.0",
            "_view_name": "LayoutView",
            "align_content": null,
            "align_items": null,
            "align_self": null,
            "border": null,
            "bottom": null,
            "display": null,
            "flex": null,
            "flex_flow": null,
            "grid_area": null,
            "grid_auto_columns": null,
            "grid_auto_flow": null,
            "grid_auto_rows": null,
            "grid_column": null,
            "grid_gap": null,
            "grid_row": null,
            "grid_template_areas": null,
            "grid_template_columns": null,
            "grid_template_rows": null,
            "height": null,
            "justify_content": null,
            "justify_items": null,
            "left": null,
            "margin": null,
            "max_height": null,
            "max_width": null,
            "min_height": null,
            "min_width": null,
            "object_fit": null,
            "object_position": null,
            "order": null,
            "overflow": null,
            "overflow_x": null,
            "overflow_y": null,
            "padding": null,
            "right": null,
            "top": null,
            "visibility": null,
            "width": null
          }
        },
        "2ba38e2f2c624eadacb3f6d7d8691a25": {
          "model_module": "@jupyter-widgets/base",
          "model_name": "LayoutModel",
          "model_module_version": "1.2.0",
          "state": {
            "_model_module": "@jupyter-widgets/base",
            "_model_module_version": "1.2.0",
            "_model_name": "LayoutModel",
            "_view_count": null,
            "_view_module": "@jupyter-widgets/base",
            "_view_module_version": "1.2.0",
            "_view_name": "LayoutView",
            "align_content": null,
            "align_items": null,
            "align_self": null,
            "border": null,
            "bottom": null,
            "display": null,
            "flex": null,
            "flex_flow": null,
            "grid_area": null,
            "grid_auto_columns": null,
            "grid_auto_flow": null,
            "grid_auto_rows": null,
            "grid_column": null,
            "grid_gap": null,
            "grid_row": null,
            "grid_template_areas": null,
            "grid_template_columns": null,
            "grid_template_rows": null,
            "height": null,
            "justify_content": null,
            "justify_items": null,
            "left": null,
            "margin": null,
            "max_height": null,
            "max_width": null,
            "min_height": null,
            "min_width": null,
            "object_fit": null,
            "object_position": null,
            "order": null,
            "overflow": null,
            "overflow_x": null,
            "overflow_y": null,
            "padding": null,
            "right": null,
            "top": null,
            "visibility": null,
            "width": null
          }
        },
        "ae5b877bde024ef89687fe3344d79bdb": {
          "model_module": "@jupyter-widgets/controls",
          "model_name": "DescriptionStyleModel",
          "model_module_version": "1.5.0",
          "state": {
            "_model_module": "@jupyter-widgets/controls",
            "_model_module_version": "1.5.0",
            "_model_name": "DescriptionStyleModel",
            "_view_count": null,
            "_view_module": "@jupyter-widgets/base",
            "_view_module_version": "1.2.0",
            "_view_name": "StyleView",
            "description_width": ""
          }
        },
        "b603afa31a494613a55a59a944a1c1ae": {
          "model_module": "@jupyter-widgets/base",
          "model_name": "LayoutModel",
          "model_module_version": "1.2.0",
          "state": {
            "_model_module": "@jupyter-widgets/base",
            "_model_module_version": "1.2.0",
            "_model_name": "LayoutModel",
            "_view_count": null,
            "_view_module": "@jupyter-widgets/base",
            "_view_module_version": "1.2.0",
            "_view_name": "LayoutView",
            "align_content": null,
            "align_items": null,
            "align_self": null,
            "border": null,
            "bottom": null,
            "display": null,
            "flex": null,
            "flex_flow": null,
            "grid_area": null,
            "grid_auto_columns": null,
            "grid_auto_flow": null,
            "grid_auto_rows": null,
            "grid_column": null,
            "grid_gap": null,
            "grid_row": null,
            "grid_template_areas": null,
            "grid_template_columns": null,
            "grid_template_rows": null,
            "height": null,
            "justify_content": null,
            "justify_items": null,
            "left": null,
            "margin": null,
            "max_height": null,
            "max_width": null,
            "min_height": null,
            "min_width": null,
            "object_fit": null,
            "object_position": null,
            "order": null,
            "overflow": null,
            "overflow_x": null,
            "overflow_y": null,
            "padding": null,
            "right": null,
            "top": null,
            "visibility": null,
            "width": null
          }
        },
        "e62c80e63f884638a5efa1cb6aeda1d7": {
          "model_module": "@jupyter-widgets/controls",
          "model_name": "ProgressStyleModel",
          "model_module_version": "1.5.0",
          "state": {
            "_model_module": "@jupyter-widgets/controls",
            "_model_module_version": "1.5.0",
            "_model_name": "ProgressStyleModel",
            "_view_count": null,
            "_view_module": "@jupyter-widgets/base",
            "_view_module_version": "1.2.0",
            "_view_name": "StyleView",
            "bar_color": null,
            "description_width": ""
          }
        },
        "989c2262eec1435481384ce3ae607e1d": {
          "model_module": "@jupyter-widgets/base",
          "model_name": "LayoutModel",
          "model_module_version": "1.2.0",
          "state": {
            "_model_module": "@jupyter-widgets/base",
            "_model_module_version": "1.2.0",
            "_model_name": "LayoutModel",
            "_view_count": null,
            "_view_module": "@jupyter-widgets/base",
            "_view_module_version": "1.2.0",
            "_view_name": "LayoutView",
            "align_content": null,
            "align_items": null,
            "align_self": null,
            "border": null,
            "bottom": null,
            "display": null,
            "flex": null,
            "flex_flow": null,
            "grid_area": null,
            "grid_auto_columns": null,
            "grid_auto_flow": null,
            "grid_auto_rows": null,
            "grid_column": null,
            "grid_gap": null,
            "grid_row": null,
            "grid_template_areas": null,
            "grid_template_columns": null,
            "grid_template_rows": null,
            "height": null,
            "justify_content": null,
            "justify_items": null,
            "left": null,
            "margin": null,
            "max_height": null,
            "max_width": null,
            "min_height": null,
            "min_width": null,
            "object_fit": null,
            "object_position": null,
            "order": null,
            "overflow": null,
            "overflow_x": null,
            "overflow_y": null,
            "padding": null,
            "right": null,
            "top": null,
            "visibility": null,
            "width": null
          }
        },
        "668f99f2c3f6451984e042d5cdd27bda": {
          "model_module": "@jupyter-widgets/controls",
          "model_name": "DescriptionStyleModel",
          "model_module_version": "1.5.0",
          "state": {
            "_model_module": "@jupyter-widgets/controls",
            "_model_module_version": "1.5.0",
            "_model_name": "DescriptionStyleModel",
            "_view_count": null,
            "_view_module": "@jupyter-widgets/base",
            "_view_module_version": "1.2.0",
            "_view_name": "StyleView",
            "description_width": ""
          }
        },
        "40d21c47281d41ba956939484ecd4992": {
          "model_module": "@jupyter-widgets/controls",
          "model_name": "HBoxModel",
          "model_module_version": "1.5.0",
          "state": {
            "_dom_classes": [],
            "_model_module": "@jupyter-widgets/controls",
            "_model_module_version": "1.5.0",
            "_model_name": "HBoxModel",
            "_view_count": null,
            "_view_module": "@jupyter-widgets/controls",
            "_view_module_version": "1.5.0",
            "_view_name": "HBoxView",
            "box_style": "",
            "children": [
              "IPY_MODEL_91738b3515564ae89429540045c115ce",
              "IPY_MODEL_4176db36bc6748509077e0859d30383c",
              "IPY_MODEL_743ed94f9aaa495da5562b71eac7cc93"
            ],
            "layout": "IPY_MODEL_78cf3afec6ff42f69c7a8c0b68c3b180"
          }
        },
        "91738b3515564ae89429540045c115ce": {
          "model_module": "@jupyter-widgets/controls",
          "model_name": "HTMLModel",
          "model_module_version": "1.5.0",
          "state": {
            "_dom_classes": [],
            "_model_module": "@jupyter-widgets/controls",
            "_model_module_version": "1.5.0",
            "_model_name": "HTMLModel",
            "_view_count": null,
            "_view_module": "@jupyter-widgets/controls",
            "_view_module_version": "1.5.0",
            "_view_name": "HTMLView",
            "description": "",
            "description_tooltip": null,
            "layout": "IPY_MODEL_446c98f1a7ef47ac839f5d572791d361",
            "placeholder": "​",
            "style": "IPY_MODEL_20d9ec0cce764c2699eb48833bd6d805",
            "value": "Downloading builder script: "
          }
        },
        "4176db36bc6748509077e0859d30383c": {
          "model_module": "@jupyter-widgets/controls",
          "model_name": "FloatProgressModel",
          "model_module_version": "1.5.0",
          "state": {
            "_dom_classes": [],
            "_model_module": "@jupyter-widgets/controls",
            "_model_module_version": "1.5.0",
            "_model_name": "FloatProgressModel",
            "_view_count": null,
            "_view_module": "@jupyter-widgets/controls",
            "_view_module_version": "1.5.0",
            "_view_name": "ProgressView",
            "bar_style": "success",
            "description": "",
            "description_tooltip": null,
            "layout": "IPY_MODEL_9df86ee1952e4d7fb66fcfc1c81fbaa1",
            "max": 2471,
            "min": 0,
            "orientation": "horizontal",
            "style": "IPY_MODEL_588966c975294e8d9d464a263ea354ba",
            "value": 2471
          }
        },
        "743ed94f9aaa495da5562b71eac7cc93": {
          "model_module": "@jupyter-widgets/controls",
          "model_name": "HTMLModel",
          "model_module_version": "1.5.0",
          "state": {
            "_dom_classes": [],
            "_model_module": "@jupyter-widgets/controls",
            "_model_module_version": "1.5.0",
            "_model_name": "HTMLModel",
            "_view_count": null,
            "_view_module": "@jupyter-widgets/controls",
            "_view_module_version": "1.5.0",
            "_view_name": "HTMLView",
            "description": "",
            "description_tooltip": null,
            "layout": "IPY_MODEL_b45ef63237a849f782e6418f2eedaea9",
            "placeholder": "​",
            "style": "IPY_MODEL_58ead09c8b7847658896021d9ba16508",
            "value": " 6.33k/? [00:00&lt;00:00, 432kB/s]"
          }
        },
        "78cf3afec6ff42f69c7a8c0b68c3b180": {
          "model_module": "@jupyter-widgets/base",
          "model_name": "LayoutModel",
          "model_module_version": "1.2.0",
          "state": {
            "_model_module": "@jupyter-widgets/base",
            "_model_module_version": "1.2.0",
            "_model_name": "LayoutModel",
            "_view_count": null,
            "_view_module": "@jupyter-widgets/base",
            "_view_module_version": "1.2.0",
            "_view_name": "LayoutView",
            "align_content": null,
            "align_items": null,
            "align_self": null,
            "border": null,
            "bottom": null,
            "display": null,
            "flex": null,
            "flex_flow": null,
            "grid_area": null,
            "grid_auto_columns": null,
            "grid_auto_flow": null,
            "grid_auto_rows": null,
            "grid_column": null,
            "grid_gap": null,
            "grid_row": null,
            "grid_template_areas": null,
            "grid_template_columns": null,
            "grid_template_rows": null,
            "height": null,
            "justify_content": null,
            "justify_items": null,
            "left": null,
            "margin": null,
            "max_height": null,
            "max_width": null,
            "min_height": null,
            "min_width": null,
            "object_fit": null,
            "object_position": null,
            "order": null,
            "overflow": null,
            "overflow_x": null,
            "overflow_y": null,
            "padding": null,
            "right": null,
            "top": null,
            "visibility": null,
            "width": null
          }
        },
        "446c98f1a7ef47ac839f5d572791d361": {
          "model_module": "@jupyter-widgets/base",
          "model_name": "LayoutModel",
          "model_module_version": "1.2.0",
          "state": {
            "_model_module": "@jupyter-widgets/base",
            "_model_module_version": "1.2.0",
            "_model_name": "LayoutModel",
            "_view_count": null,
            "_view_module": "@jupyter-widgets/base",
            "_view_module_version": "1.2.0",
            "_view_name": "LayoutView",
            "align_content": null,
            "align_items": null,
            "align_self": null,
            "border": null,
            "bottom": null,
            "display": null,
            "flex": null,
            "flex_flow": null,
            "grid_area": null,
            "grid_auto_columns": null,
            "grid_auto_flow": null,
            "grid_auto_rows": null,
            "grid_column": null,
            "grid_gap": null,
            "grid_row": null,
            "grid_template_areas": null,
            "grid_template_columns": null,
            "grid_template_rows": null,
            "height": null,
            "justify_content": null,
            "justify_items": null,
            "left": null,
            "margin": null,
            "max_height": null,
            "max_width": null,
            "min_height": null,
            "min_width": null,
            "object_fit": null,
            "object_position": null,
            "order": null,
            "overflow": null,
            "overflow_x": null,
            "overflow_y": null,
            "padding": null,
            "right": null,
            "top": null,
            "visibility": null,
            "width": null
          }
        },
        "20d9ec0cce764c2699eb48833bd6d805": {
          "model_module": "@jupyter-widgets/controls",
          "model_name": "DescriptionStyleModel",
          "model_module_version": "1.5.0",
          "state": {
            "_model_module": "@jupyter-widgets/controls",
            "_model_module_version": "1.5.0",
            "_model_name": "DescriptionStyleModel",
            "_view_count": null,
            "_view_module": "@jupyter-widgets/base",
            "_view_module_version": "1.2.0",
            "_view_name": "StyleView",
            "description_width": ""
          }
        },
        "9df86ee1952e4d7fb66fcfc1c81fbaa1": {
          "model_module": "@jupyter-widgets/base",
          "model_name": "LayoutModel",
          "model_module_version": "1.2.0",
          "state": {
            "_model_module": "@jupyter-widgets/base",
            "_model_module_version": "1.2.0",
            "_model_name": "LayoutModel",
            "_view_count": null,
            "_view_module": "@jupyter-widgets/base",
            "_view_module_version": "1.2.0",
            "_view_name": "LayoutView",
            "align_content": null,
            "align_items": null,
            "align_self": null,
            "border": null,
            "bottom": null,
            "display": null,
            "flex": null,
            "flex_flow": null,
            "grid_area": null,
            "grid_auto_columns": null,
            "grid_auto_flow": null,
            "grid_auto_rows": null,
            "grid_column": null,
            "grid_gap": null,
            "grid_row": null,
            "grid_template_areas": null,
            "grid_template_columns": null,
            "grid_template_rows": null,
            "height": null,
            "justify_content": null,
            "justify_items": null,
            "left": null,
            "margin": null,
            "max_height": null,
            "max_width": null,
            "min_height": null,
            "min_width": null,
            "object_fit": null,
            "object_position": null,
            "order": null,
            "overflow": null,
            "overflow_x": null,
            "overflow_y": null,
            "padding": null,
            "right": null,
            "top": null,
            "visibility": null,
            "width": null
          }
        },
        "588966c975294e8d9d464a263ea354ba": {
          "model_module": "@jupyter-widgets/controls",
          "model_name": "ProgressStyleModel",
          "model_module_version": "1.5.0",
          "state": {
            "_model_module": "@jupyter-widgets/controls",
            "_model_module_version": "1.5.0",
            "_model_name": "ProgressStyleModel",
            "_view_count": null,
            "_view_module": "@jupyter-widgets/base",
            "_view_module_version": "1.2.0",
            "_view_name": "StyleView",
            "bar_color": null,
            "description_width": ""
          }
        },
        "b45ef63237a849f782e6418f2eedaea9": {
          "model_module": "@jupyter-widgets/base",
          "model_name": "LayoutModel",
          "model_module_version": "1.2.0",
          "state": {
            "_model_module": "@jupyter-widgets/base",
            "_model_module_version": "1.2.0",
            "_model_name": "LayoutModel",
            "_view_count": null,
            "_view_module": "@jupyter-widgets/base",
            "_view_module_version": "1.2.0",
            "_view_name": "LayoutView",
            "align_content": null,
            "align_items": null,
            "align_self": null,
            "border": null,
            "bottom": null,
            "display": null,
            "flex": null,
            "flex_flow": null,
            "grid_area": null,
            "grid_auto_columns": null,
            "grid_auto_flow": null,
            "grid_auto_rows": null,
            "grid_column": null,
            "grid_gap": null,
            "grid_row": null,
            "grid_template_areas": null,
            "grid_template_columns": null,
            "grid_template_rows": null,
            "height": null,
            "justify_content": null,
            "justify_items": null,
            "left": null,
            "margin": null,
            "max_height": null,
            "max_width": null,
            "min_height": null,
            "min_width": null,
            "object_fit": null,
            "object_position": null,
            "order": null,
            "overflow": null,
            "overflow_x": null,
            "overflow_y": null,
            "padding": null,
            "right": null,
            "top": null,
            "visibility": null,
            "width": null
          }
        },
        "58ead09c8b7847658896021d9ba16508": {
          "model_module": "@jupyter-widgets/controls",
          "model_name": "DescriptionStyleModel",
          "model_module_version": "1.5.0",
          "state": {
            "_model_module": "@jupyter-widgets/controls",
            "_model_module_version": "1.5.0",
            "_model_name": "DescriptionStyleModel",
            "_view_count": null,
            "_view_module": "@jupyter-widgets/base",
            "_view_module_version": "1.2.0",
            "_view_name": "StyleView",
            "description_width": ""
          }
        }
      }
    }
  },
  "nbformat": 4,
  "nbformat_minor": 0
}