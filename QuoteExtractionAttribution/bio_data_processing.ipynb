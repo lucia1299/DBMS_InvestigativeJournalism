{
  "nbformat": 4,
  "nbformat_minor": 0,
  "metadata": {
    "colab": {
      "provenance": [],
      "include_colab_link": true
    },
    "kernelspec": {
      "name": "python3",
      "display_name": "Python 3"
    },
    "language_info": {
      "name": "python"
    },
    "widgets": {
      "application/vnd.jupyter.widget-state+json": {
        "bc86c74b220b4324a2c56bd9159e49d5": {
          "model_module": "@jupyter-widgets/controls",
          "model_name": "HBoxModel",
          "model_module_version": "1.5.0",
          "state": {
            "_dom_classes": [],
            "_model_module": "@jupyter-widgets/controls",
            "_model_module_version": "1.5.0",
            "_model_name": "HBoxModel",
            "_view_count": null,
            "_view_module": "@jupyter-widgets/controls",
            "_view_module_version": "1.5.0",
            "_view_name": "HBoxView",
            "box_style": "",
            "children": [
              "IPY_MODEL_322d3313ea5c49a49674db3bb55dd0ea",
              "IPY_MODEL_ad8d507006674c98866d839ca0db4e6c",
              "IPY_MODEL_150d2871e14341019d72f7ee596eff6d"
            ],
            "layout": "IPY_MODEL_5ef10587527d42b6a0c2060a5437d42e"
          }
        },
        "322d3313ea5c49a49674db3bb55dd0ea": {
          "model_module": "@jupyter-widgets/controls",
          "model_name": "HTMLModel",
          "model_module_version": "1.5.0",
          "state": {
            "_dom_classes": [],
            "_model_module": "@jupyter-widgets/controls",
            "_model_module_version": "1.5.0",
            "_model_name": "HTMLModel",
            "_view_count": null,
            "_view_module": "@jupyter-widgets/controls",
            "_view_module_version": "1.5.0",
            "_view_name": "HTMLView",
            "description": "",
            "description_tooltip": null,
            "layout": "IPY_MODEL_9dfa20c2a01a43f0a37fd58af4801345",
            "placeholder": "​",
            "style": "IPY_MODEL_2c0b490b87fc49ecbda5ff98af769c07",
            "value": "Saving the dataset (1/1 shards): 100%"
          }
        },
        "ad8d507006674c98866d839ca0db4e6c": {
          "model_module": "@jupyter-widgets/controls",
          "model_name": "FloatProgressModel",
          "model_module_version": "1.5.0",
          "state": {
            "_dom_classes": [],
            "_model_module": "@jupyter-widgets/controls",
            "_model_module_version": "1.5.0",
            "_model_name": "FloatProgressModel",
            "_view_count": null,
            "_view_module": "@jupyter-widgets/controls",
            "_view_module_version": "1.5.0",
            "_view_name": "ProgressView",
            "bar_style": "success",
            "description": "",
            "description_tooltip": null,
            "layout": "IPY_MODEL_c544a4547d2944babec24830818927fd",
            "max": 956,
            "min": 0,
            "orientation": "horizontal",
            "style": "IPY_MODEL_e843f82113e843deaab2b07bdd1dcec9",
            "value": 956
          }
        },
        "150d2871e14341019d72f7ee596eff6d": {
          "model_module": "@jupyter-widgets/controls",
          "model_name": "HTMLModel",
          "model_module_version": "1.5.0",
          "state": {
            "_dom_classes": [],
            "_model_module": "@jupyter-widgets/controls",
            "_model_module_version": "1.5.0",
            "_model_name": "HTMLModel",
            "_view_count": null,
            "_view_module": "@jupyter-widgets/controls",
            "_view_module_version": "1.5.0",
            "_view_name": "HTMLView",
            "description": "",
            "description_tooltip": null,
            "layout": "IPY_MODEL_a2a8ba6e0c244ac0b415257a7d1f54f9",
            "placeholder": "​",
            "style": "IPY_MODEL_15cc8a306a8944cd842fb8b78ab915ae",
            "value": " 956/956 [00:00&lt;00:00, 13812.07 examples/s]"
          }
        },
        "5ef10587527d42b6a0c2060a5437d42e": {
          "model_module": "@jupyter-widgets/base",
          "model_name": "LayoutModel",
          "model_module_version": "1.2.0",
          "state": {
            "_model_module": "@jupyter-widgets/base",
            "_model_module_version": "1.2.0",
            "_model_name": "LayoutModel",
            "_view_count": null,
            "_view_module": "@jupyter-widgets/base",
            "_view_module_version": "1.2.0",
            "_view_name": "LayoutView",
            "align_content": null,
            "align_items": null,
            "align_self": null,
            "border": null,
            "bottom": null,
            "display": null,
            "flex": null,
            "flex_flow": null,
            "grid_area": null,
            "grid_auto_columns": null,
            "grid_auto_flow": null,
            "grid_auto_rows": null,
            "grid_column": null,
            "grid_gap": null,
            "grid_row": null,
            "grid_template_areas": null,
            "grid_template_columns": null,
            "grid_template_rows": null,
            "height": null,
            "justify_content": null,
            "justify_items": null,
            "left": null,
            "margin": null,
            "max_height": null,
            "max_width": null,
            "min_height": null,
            "min_width": null,
            "object_fit": null,
            "object_position": null,
            "order": null,
            "overflow": null,
            "overflow_x": null,
            "overflow_y": null,
            "padding": null,
            "right": null,
            "top": null,
            "visibility": null,
            "width": null
          }
        },
        "9dfa20c2a01a43f0a37fd58af4801345": {
          "model_module": "@jupyter-widgets/base",
          "model_name": "LayoutModel",
          "model_module_version": "1.2.0",
          "state": {
            "_model_module": "@jupyter-widgets/base",
            "_model_module_version": "1.2.0",
            "_model_name": "LayoutModel",
            "_view_count": null,
            "_view_module": "@jupyter-widgets/base",
            "_view_module_version": "1.2.0",
            "_view_name": "LayoutView",
            "align_content": null,
            "align_items": null,
            "align_self": null,
            "border": null,
            "bottom": null,
            "display": null,
            "flex": null,
            "flex_flow": null,
            "grid_area": null,
            "grid_auto_columns": null,
            "grid_auto_flow": null,
            "grid_auto_rows": null,
            "grid_column": null,
            "grid_gap": null,
            "grid_row": null,
            "grid_template_areas": null,
            "grid_template_columns": null,
            "grid_template_rows": null,
            "height": null,
            "justify_content": null,
            "justify_items": null,
            "left": null,
            "margin": null,
            "max_height": null,
            "max_width": null,
            "min_height": null,
            "min_width": null,
            "object_fit": null,
            "object_position": null,
            "order": null,
            "overflow": null,
            "overflow_x": null,
            "overflow_y": null,
            "padding": null,
            "right": null,
            "top": null,
            "visibility": null,
            "width": null
          }
        },
        "2c0b490b87fc49ecbda5ff98af769c07": {
          "model_module": "@jupyter-widgets/controls",
          "model_name": "DescriptionStyleModel",
          "model_module_version": "1.5.0",
          "state": {
            "_model_module": "@jupyter-widgets/controls",
            "_model_module_version": "1.5.0",
            "_model_name": "DescriptionStyleModel",
            "_view_count": null,
            "_view_module": "@jupyter-widgets/base",
            "_view_module_version": "1.2.0",
            "_view_name": "StyleView",
            "description_width": ""
          }
        },
        "c544a4547d2944babec24830818927fd": {
          "model_module": "@jupyter-widgets/base",
          "model_name": "LayoutModel",
          "model_module_version": "1.2.0",
          "state": {
            "_model_module": "@jupyter-widgets/base",
            "_model_module_version": "1.2.0",
            "_model_name": "LayoutModel",
            "_view_count": null,
            "_view_module": "@jupyter-widgets/base",
            "_view_module_version": "1.2.0",
            "_view_name": "LayoutView",
            "align_content": null,
            "align_items": null,
            "align_self": null,
            "border": null,
            "bottom": null,
            "display": null,
            "flex": null,
            "flex_flow": null,
            "grid_area": null,
            "grid_auto_columns": null,
            "grid_auto_flow": null,
            "grid_auto_rows": null,
            "grid_column": null,
            "grid_gap": null,
            "grid_row": null,
            "grid_template_areas": null,
            "grid_template_columns": null,
            "grid_template_rows": null,
            "height": null,
            "justify_content": null,
            "justify_items": null,
            "left": null,
            "margin": null,
            "max_height": null,
            "max_width": null,
            "min_height": null,
            "min_width": null,
            "object_fit": null,
            "object_position": null,
            "order": null,
            "overflow": null,
            "overflow_x": null,
            "overflow_y": null,
            "padding": null,
            "right": null,
            "top": null,
            "visibility": null,
            "width": null
          }
        },
        "e843f82113e843deaab2b07bdd1dcec9": {
          "model_module": "@jupyter-widgets/controls",
          "model_name": "ProgressStyleModel",
          "model_module_version": "1.5.0",
          "state": {
            "_model_module": "@jupyter-widgets/controls",
            "_model_module_version": "1.5.0",
            "_model_name": "ProgressStyleModel",
            "_view_count": null,
            "_view_module": "@jupyter-widgets/base",
            "_view_module_version": "1.2.0",
            "_view_name": "StyleView",
            "bar_color": null,
            "description_width": ""
          }
        },
        "a2a8ba6e0c244ac0b415257a7d1f54f9": {
          "model_module": "@jupyter-widgets/base",
          "model_name": "LayoutModel",
          "model_module_version": "1.2.0",
          "state": {
            "_model_module": "@jupyter-widgets/base",
            "_model_module_version": "1.2.0",
            "_model_name": "LayoutModel",
            "_view_count": null,
            "_view_module": "@jupyter-widgets/base",
            "_view_module_version": "1.2.0",
            "_view_name": "LayoutView",
            "align_content": null,
            "align_items": null,
            "align_self": null,
            "border": null,
            "bottom": null,
            "display": null,
            "flex": null,
            "flex_flow": null,
            "grid_area": null,
            "grid_auto_columns": null,
            "grid_auto_flow": null,
            "grid_auto_rows": null,
            "grid_column": null,
            "grid_gap": null,
            "grid_row": null,
            "grid_template_areas": null,
            "grid_template_columns": null,
            "grid_template_rows": null,
            "height": null,
            "justify_content": null,
            "justify_items": null,
            "left": null,
            "margin": null,
            "max_height": null,
            "max_width": null,
            "min_height": null,
            "min_width": null,
            "object_fit": null,
            "object_position": null,
            "order": null,
            "overflow": null,
            "overflow_x": null,
            "overflow_y": null,
            "padding": null,
            "right": null,
            "top": null,
            "visibility": null,
            "width": null
          }
        },
        "15cc8a306a8944cd842fb8b78ab915ae": {
          "model_module": "@jupyter-widgets/controls",
          "model_name": "DescriptionStyleModel",
          "model_module_version": "1.5.0",
          "state": {
            "_model_module": "@jupyter-widgets/controls",
            "_model_module_version": "1.5.0",
            "_model_name": "DescriptionStyleModel",
            "_view_count": null,
            "_view_module": "@jupyter-widgets/base",
            "_view_module_version": "1.2.0",
            "_view_name": "StyleView",
            "description_width": ""
          }
        },
        "a1f6ed1d6dbe48939260ed7b6ffaa5c3": {
          "model_module": "@jupyter-widgets/controls",
          "model_name": "HBoxModel",
          "model_module_version": "1.5.0",
          "state": {
            "_dom_classes": [],
            "_model_module": "@jupyter-widgets/controls",
            "_model_module_version": "1.5.0",
            "_model_name": "HBoxModel",
            "_view_count": null,
            "_view_module": "@jupyter-widgets/controls",
            "_view_module_version": "1.5.0",
            "_view_name": "HBoxView",
            "box_style": "",
            "children": [
              "IPY_MODEL_b5e7d11f573c4ee89fde02126d307d28",
              "IPY_MODEL_23151597caa3490293e53bf68594386e",
              "IPY_MODEL_036b1df04912457180e4610dd0f88767"
            ],
            "layout": "IPY_MODEL_3dfcce3940bd4a1883b57871d9276b28"
          }
        },
        "b5e7d11f573c4ee89fde02126d307d28": {
          "model_module": "@jupyter-widgets/controls",
          "model_name": "HTMLModel",
          "model_module_version": "1.5.0",
          "state": {
            "_dom_classes": [],
            "_model_module": "@jupyter-widgets/controls",
            "_model_module_version": "1.5.0",
            "_model_name": "HTMLModel",
            "_view_count": null,
            "_view_module": "@jupyter-widgets/controls",
            "_view_module_version": "1.5.0",
            "_view_name": "HTMLView",
            "description": "",
            "description_tooltip": null,
            "layout": "IPY_MODEL_419165f1e745465994c6dad1541465e1",
            "placeholder": "​",
            "style": "IPY_MODEL_51b4f096fc544a4d90cadce78e32230e",
            "value": "Saving the dataset (1/1 shards): 100%"
          }
        },
        "23151597caa3490293e53bf68594386e": {
          "model_module": "@jupyter-widgets/controls",
          "model_name": "FloatProgressModel",
          "model_module_version": "1.5.0",
          "state": {
            "_dom_classes": [],
            "_model_module": "@jupyter-widgets/controls",
            "_model_module_version": "1.5.0",
            "_model_name": "FloatProgressModel",
            "_view_count": null,
            "_view_module": "@jupyter-widgets/controls",
            "_view_module_version": "1.5.0",
            "_view_name": "ProgressView",
            "bar_style": "success",
            "description": "",
            "description_tooltip": null,
            "layout": "IPY_MODEL_14ad20fd679f46e6b56e3c2cf2879248",
            "max": 240,
            "min": 0,
            "orientation": "horizontal",
            "style": "IPY_MODEL_4234c899f2994b6488fd0de98d8d844c",
            "value": 240
          }
        },
        "036b1df04912457180e4610dd0f88767": {
          "model_module": "@jupyter-widgets/controls",
          "model_name": "HTMLModel",
          "model_module_version": "1.5.0",
          "state": {
            "_dom_classes": [],
            "_model_module": "@jupyter-widgets/controls",
            "_model_module_version": "1.5.0",
            "_model_name": "HTMLModel",
            "_view_count": null,
            "_view_module": "@jupyter-widgets/controls",
            "_view_module_version": "1.5.0",
            "_view_name": "HTMLView",
            "description": "",
            "description_tooltip": null,
            "layout": "IPY_MODEL_84d64b47c8cc4920a8cb70c0895c0fec",
            "placeholder": "​",
            "style": "IPY_MODEL_a1bb5c47aa2f401faa0af606deaa14a1",
            "value": " 240/240 [00:00&lt;00:00, 5064.31 examples/s]"
          }
        },
        "3dfcce3940bd4a1883b57871d9276b28": {
          "model_module": "@jupyter-widgets/base",
          "model_name": "LayoutModel",
          "model_module_version": "1.2.0",
          "state": {
            "_model_module": "@jupyter-widgets/base",
            "_model_module_version": "1.2.0",
            "_model_name": "LayoutModel",
            "_view_count": null,
            "_view_module": "@jupyter-widgets/base",
            "_view_module_version": "1.2.0",
            "_view_name": "LayoutView",
            "align_content": null,
            "align_items": null,
            "align_self": null,
            "border": null,
            "bottom": null,
            "display": null,
            "flex": null,
            "flex_flow": null,
            "grid_area": null,
            "grid_auto_columns": null,
            "grid_auto_flow": null,
            "grid_auto_rows": null,
            "grid_column": null,
            "grid_gap": null,
            "grid_row": null,
            "grid_template_areas": null,
            "grid_template_columns": null,
            "grid_template_rows": null,
            "height": null,
            "justify_content": null,
            "justify_items": null,
            "left": null,
            "margin": null,
            "max_height": null,
            "max_width": null,
            "min_height": null,
            "min_width": null,
            "object_fit": null,
            "object_position": null,
            "order": null,
            "overflow": null,
            "overflow_x": null,
            "overflow_y": null,
            "padding": null,
            "right": null,
            "top": null,
            "visibility": null,
            "width": null
          }
        },
        "419165f1e745465994c6dad1541465e1": {
          "model_module": "@jupyter-widgets/base",
          "model_name": "LayoutModel",
          "model_module_version": "1.2.0",
          "state": {
            "_model_module": "@jupyter-widgets/base",
            "_model_module_version": "1.2.0",
            "_model_name": "LayoutModel",
            "_view_count": null,
            "_view_module": "@jupyter-widgets/base",
            "_view_module_version": "1.2.0",
            "_view_name": "LayoutView",
            "align_content": null,
            "align_items": null,
            "align_self": null,
            "border": null,
            "bottom": null,
            "display": null,
            "flex": null,
            "flex_flow": null,
            "grid_area": null,
            "grid_auto_columns": null,
            "grid_auto_flow": null,
            "grid_auto_rows": null,
            "grid_column": null,
            "grid_gap": null,
            "grid_row": null,
            "grid_template_areas": null,
            "grid_template_columns": null,
            "grid_template_rows": null,
            "height": null,
            "justify_content": null,
            "justify_items": null,
            "left": null,
            "margin": null,
            "max_height": null,
            "max_width": null,
            "min_height": null,
            "min_width": null,
            "object_fit": null,
            "object_position": null,
            "order": null,
            "overflow": null,
            "overflow_x": null,
            "overflow_y": null,
            "padding": null,
            "right": null,
            "top": null,
            "visibility": null,
            "width": null
          }
        },
        "51b4f096fc544a4d90cadce78e32230e": {
          "model_module": "@jupyter-widgets/controls",
          "model_name": "DescriptionStyleModel",
          "model_module_version": "1.5.0",
          "state": {
            "_model_module": "@jupyter-widgets/controls",
            "_model_module_version": "1.5.0",
            "_model_name": "DescriptionStyleModel",
            "_view_count": null,
            "_view_module": "@jupyter-widgets/base",
            "_view_module_version": "1.2.0",
            "_view_name": "StyleView",
            "description_width": ""
          }
        },
        "14ad20fd679f46e6b56e3c2cf2879248": {
          "model_module": "@jupyter-widgets/base",
          "model_name": "LayoutModel",
          "model_module_version": "1.2.0",
          "state": {
            "_model_module": "@jupyter-widgets/base",
            "_model_module_version": "1.2.0",
            "_model_name": "LayoutModel",
            "_view_count": null,
            "_view_module": "@jupyter-widgets/base",
            "_view_module_version": "1.2.0",
            "_view_name": "LayoutView",
            "align_content": null,
            "align_items": null,
            "align_self": null,
            "border": null,
            "bottom": null,
            "display": null,
            "flex": null,
            "flex_flow": null,
            "grid_area": null,
            "grid_auto_columns": null,
            "grid_auto_flow": null,
            "grid_auto_rows": null,
            "grid_column": null,
            "grid_gap": null,
            "grid_row": null,
            "grid_template_areas": null,
            "grid_template_columns": null,
            "grid_template_rows": null,
            "height": null,
            "justify_content": null,
            "justify_items": null,
            "left": null,
            "margin": null,
            "max_height": null,
            "max_width": null,
            "min_height": null,
            "min_width": null,
            "object_fit": null,
            "object_position": null,
            "order": null,
            "overflow": null,
            "overflow_x": null,
            "overflow_y": null,
            "padding": null,
            "right": null,
            "top": null,
            "visibility": null,
            "width": null
          }
        },
        "4234c899f2994b6488fd0de98d8d844c": {
          "model_module": "@jupyter-widgets/controls",
          "model_name": "ProgressStyleModel",
          "model_module_version": "1.5.0",
          "state": {
            "_model_module": "@jupyter-widgets/controls",
            "_model_module_version": "1.5.0",
            "_model_name": "ProgressStyleModel",
            "_view_count": null,
            "_view_module": "@jupyter-widgets/base",
            "_view_module_version": "1.2.0",
            "_view_name": "StyleView",
            "bar_color": null,
            "description_width": ""
          }
        },
        "84d64b47c8cc4920a8cb70c0895c0fec": {
          "model_module": "@jupyter-widgets/base",
          "model_name": "LayoutModel",
          "model_module_version": "1.2.0",
          "state": {
            "_model_module": "@jupyter-widgets/base",
            "_model_module_version": "1.2.0",
            "_model_name": "LayoutModel",
            "_view_count": null,
            "_view_module": "@jupyter-widgets/base",
            "_view_module_version": "1.2.0",
            "_view_name": "LayoutView",
            "align_content": null,
            "align_items": null,
            "align_self": null,
            "border": null,
            "bottom": null,
            "display": null,
            "flex": null,
            "flex_flow": null,
            "grid_area": null,
            "grid_auto_columns": null,
            "grid_auto_flow": null,
            "grid_auto_rows": null,
            "grid_column": null,
            "grid_gap": null,
            "grid_row": null,
            "grid_template_areas": null,
            "grid_template_columns": null,
            "grid_template_rows": null,
            "height": null,
            "justify_content": null,
            "justify_items": null,
            "left": null,
            "margin": null,
            "max_height": null,
            "max_width": null,
            "min_height": null,
            "min_width": null,
            "object_fit": null,
            "object_position": null,
            "order": null,
            "overflow": null,
            "overflow_x": null,
            "overflow_y": null,
            "padding": null,
            "right": null,
            "top": null,
            "visibility": null,
            "width": null
          }
        },
        "a1bb5c47aa2f401faa0af606deaa14a1": {
          "model_module": "@jupyter-widgets/controls",
          "model_name": "DescriptionStyleModel",
          "model_module_version": "1.5.0",
          "state": {
            "_model_module": "@jupyter-widgets/controls",
            "_model_module_version": "1.5.0",
            "_model_name": "DescriptionStyleModel",
            "_view_count": null,
            "_view_module": "@jupyter-widgets/base",
            "_view_module_version": "1.2.0",
            "_view_name": "StyleView",
            "description_width": ""
          }
        },
        "331c24a952754bdba1bba6647eae1389": {
          "model_module": "@jupyter-widgets/controls",
          "model_name": "HBoxModel",
          "model_module_version": "1.5.0",
          "state": {
            "_dom_classes": [],
            "_model_module": "@jupyter-widgets/controls",
            "_model_module_version": "1.5.0",
            "_model_name": "HBoxModel",
            "_view_count": null,
            "_view_module": "@jupyter-widgets/controls",
            "_view_module_version": "1.5.0",
            "_view_name": "HBoxView",
            "box_style": "",
            "children": [
              "IPY_MODEL_2af39e8b536749f4a12d6d46cc2794c8",
              "IPY_MODEL_88096328e82e4d6589d5ff01024e6315",
              "IPY_MODEL_f9406c50a6dd46be9bf3a85e053aaaad"
            ],
            "layout": "IPY_MODEL_55e485e99a81400d9647e9c2935613bf"
          }
        },
        "2af39e8b536749f4a12d6d46cc2794c8": {
          "model_module": "@jupyter-widgets/controls",
          "model_name": "HTMLModel",
          "model_module_version": "1.5.0",
          "state": {
            "_dom_classes": [],
            "_model_module": "@jupyter-widgets/controls",
            "_model_module_version": "1.5.0",
            "_model_name": "HTMLModel",
            "_view_count": null,
            "_view_module": "@jupyter-widgets/controls",
            "_view_module_version": "1.5.0",
            "_view_name": "HTMLView",
            "description": "",
            "description_tooltip": null,
            "layout": "IPY_MODEL_261cfe9656914113abe06325bb971dbc",
            "placeholder": "​",
            "style": "IPY_MODEL_60f12b960f154239a3570396d73635e7",
            "value": "Saving the dataset (1/1 shards): 100%"
          }
        },
        "88096328e82e4d6589d5ff01024e6315": {
          "model_module": "@jupyter-widgets/controls",
          "model_name": "FloatProgressModel",
          "model_module_version": "1.5.0",
          "state": {
            "_dom_classes": [],
            "_model_module": "@jupyter-widgets/controls",
            "_model_module_version": "1.5.0",
            "_model_name": "FloatProgressModel",
            "_view_count": null,
            "_view_module": "@jupyter-widgets/controls",
            "_view_module_version": "1.5.0",
            "_view_name": "ProgressView",
            "bar_style": "success",
            "description": "",
            "description_tooltip": null,
            "layout": "IPY_MODEL_eeb08d92eb9d453d8f8e6129c77f4a8f",
            "max": 299,
            "min": 0,
            "orientation": "horizontal",
            "style": "IPY_MODEL_1c8ad49ac33a4f9bb4ed3e1e5f34c502",
            "value": 299
          }
        },
        "f9406c50a6dd46be9bf3a85e053aaaad": {
          "model_module": "@jupyter-widgets/controls",
          "model_name": "HTMLModel",
          "model_module_version": "1.5.0",
          "state": {
            "_dom_classes": [],
            "_model_module": "@jupyter-widgets/controls",
            "_model_module_version": "1.5.0",
            "_model_name": "HTMLModel",
            "_view_count": null,
            "_view_module": "@jupyter-widgets/controls",
            "_view_module_version": "1.5.0",
            "_view_name": "HTMLView",
            "description": "",
            "description_tooltip": null,
            "layout": "IPY_MODEL_7272293580e84495ba7751cdfa33ebd9",
            "placeholder": "​",
            "style": "IPY_MODEL_c7a40b0e28ba4c6eba386521265afac4",
            "value": " 299/299 [00:00&lt;00:00, 4390.60 examples/s]"
          }
        },
        "55e485e99a81400d9647e9c2935613bf": {
          "model_module": "@jupyter-widgets/base",
          "model_name": "LayoutModel",
          "model_module_version": "1.2.0",
          "state": {
            "_model_module": "@jupyter-widgets/base",
            "_model_module_version": "1.2.0",
            "_model_name": "LayoutModel",
            "_view_count": null,
            "_view_module": "@jupyter-widgets/base",
            "_view_module_version": "1.2.0",
            "_view_name": "LayoutView",
            "align_content": null,
            "align_items": null,
            "align_self": null,
            "border": null,
            "bottom": null,
            "display": null,
            "flex": null,
            "flex_flow": null,
            "grid_area": null,
            "grid_auto_columns": null,
            "grid_auto_flow": null,
            "grid_auto_rows": null,
            "grid_column": null,
            "grid_gap": null,
            "grid_row": null,
            "grid_template_areas": null,
            "grid_template_columns": null,
            "grid_template_rows": null,
            "height": null,
            "justify_content": null,
            "justify_items": null,
            "left": null,
            "margin": null,
            "max_height": null,
            "max_width": null,
            "min_height": null,
            "min_width": null,
            "object_fit": null,
            "object_position": null,
            "order": null,
            "overflow": null,
            "overflow_x": null,
            "overflow_y": null,
            "padding": null,
            "right": null,
            "top": null,
            "visibility": null,
            "width": null
          }
        },
        "261cfe9656914113abe06325bb971dbc": {
          "model_module": "@jupyter-widgets/base",
          "model_name": "LayoutModel",
          "model_module_version": "1.2.0",
          "state": {
            "_model_module": "@jupyter-widgets/base",
            "_model_module_version": "1.2.0",
            "_model_name": "LayoutModel",
            "_view_count": null,
            "_view_module": "@jupyter-widgets/base",
            "_view_module_version": "1.2.0",
            "_view_name": "LayoutView",
            "align_content": null,
            "align_items": null,
            "align_self": null,
            "border": null,
            "bottom": null,
            "display": null,
            "flex": null,
            "flex_flow": null,
            "grid_area": null,
            "grid_auto_columns": null,
            "grid_auto_flow": null,
            "grid_auto_rows": null,
            "grid_column": null,
            "grid_gap": null,
            "grid_row": null,
            "grid_template_areas": null,
            "grid_template_columns": null,
            "grid_template_rows": null,
            "height": null,
            "justify_content": null,
            "justify_items": null,
            "left": null,
            "margin": null,
            "max_height": null,
            "max_width": null,
            "min_height": null,
            "min_width": null,
            "object_fit": null,
            "object_position": null,
            "order": null,
            "overflow": null,
            "overflow_x": null,
            "overflow_y": null,
            "padding": null,
            "right": null,
            "top": null,
            "visibility": null,
            "width": null
          }
        },
        "60f12b960f154239a3570396d73635e7": {
          "model_module": "@jupyter-widgets/controls",
          "model_name": "DescriptionStyleModel",
          "model_module_version": "1.5.0",
          "state": {
            "_model_module": "@jupyter-widgets/controls",
            "_model_module_version": "1.5.0",
            "_model_name": "DescriptionStyleModel",
            "_view_count": null,
            "_view_module": "@jupyter-widgets/base",
            "_view_module_version": "1.2.0",
            "_view_name": "StyleView",
            "description_width": ""
          }
        },
        "eeb08d92eb9d453d8f8e6129c77f4a8f": {
          "model_module": "@jupyter-widgets/base",
          "model_name": "LayoutModel",
          "model_module_version": "1.2.0",
          "state": {
            "_model_module": "@jupyter-widgets/base",
            "_model_module_version": "1.2.0",
            "_model_name": "LayoutModel",
            "_view_count": null,
            "_view_module": "@jupyter-widgets/base",
            "_view_module_version": "1.2.0",
            "_view_name": "LayoutView",
            "align_content": null,
            "align_items": null,
            "align_self": null,
            "border": null,
            "bottom": null,
            "display": null,
            "flex": null,
            "flex_flow": null,
            "grid_area": null,
            "grid_auto_columns": null,
            "grid_auto_flow": null,
            "grid_auto_rows": null,
            "grid_column": null,
            "grid_gap": null,
            "grid_row": null,
            "grid_template_areas": null,
            "grid_template_columns": null,
            "grid_template_rows": null,
            "height": null,
            "justify_content": null,
            "justify_items": null,
            "left": null,
            "margin": null,
            "max_height": null,
            "max_width": null,
            "min_height": null,
            "min_width": null,
            "object_fit": null,
            "object_position": null,
            "order": null,
            "overflow": null,
            "overflow_x": null,
            "overflow_y": null,
            "padding": null,
            "right": null,
            "top": null,
            "visibility": null,
            "width": null
          }
        },
        "1c8ad49ac33a4f9bb4ed3e1e5f34c502": {
          "model_module": "@jupyter-widgets/controls",
          "model_name": "ProgressStyleModel",
          "model_module_version": "1.5.0",
          "state": {
            "_model_module": "@jupyter-widgets/controls",
            "_model_module_version": "1.5.0",
            "_model_name": "ProgressStyleModel",
            "_view_count": null,
            "_view_module": "@jupyter-widgets/base",
            "_view_module_version": "1.2.0",
            "_view_name": "StyleView",
            "bar_color": null,
            "description_width": ""
          }
        },
        "7272293580e84495ba7751cdfa33ebd9": {
          "model_module": "@jupyter-widgets/base",
          "model_name": "LayoutModel",
          "model_module_version": "1.2.0",
          "state": {
            "_model_module": "@jupyter-widgets/base",
            "_model_module_version": "1.2.0",
            "_model_name": "LayoutModel",
            "_view_count": null,
            "_view_module": "@jupyter-widgets/base",
            "_view_module_version": "1.2.0",
            "_view_name": "LayoutView",
            "align_content": null,
            "align_items": null,
            "align_self": null,
            "border": null,
            "bottom": null,
            "display": null,
            "flex": null,
            "flex_flow": null,
            "grid_area": null,
            "grid_auto_columns": null,
            "grid_auto_flow": null,
            "grid_auto_rows": null,
            "grid_column": null,
            "grid_gap": null,
            "grid_row": null,
            "grid_template_areas": null,
            "grid_template_columns": null,
            "grid_template_rows": null,
            "height": null,
            "justify_content": null,
            "justify_items": null,
            "left": null,
            "margin": null,
            "max_height": null,
            "max_width": null,
            "min_height": null,
            "min_width": null,
            "object_fit": null,
            "object_position": null,
            "order": null,
            "overflow": null,
            "overflow_x": null,
            "overflow_y": null,
            "padding": null,
            "right": null,
            "top": null,
            "visibility": null,
            "width": null
          }
        },
        "c7a40b0e28ba4c6eba386521265afac4": {
          "model_module": "@jupyter-widgets/controls",
          "model_name": "DescriptionStyleModel",
          "model_module_version": "1.5.0",
          "state": {
            "_model_module": "@jupyter-widgets/controls",
            "_model_module_version": "1.5.0",
            "_model_name": "DescriptionStyleModel",
            "_view_count": null,
            "_view_module": "@jupyter-widgets/base",
            "_view_module_version": "1.2.0",
            "_view_name": "StyleView",
            "description_width": ""
          }
        }
      }
    }
  },
  "cells": [
    {
      "cell_type": "markdown",
      "metadata": {
        "id": "view-in-github",
        "colab_type": "text"
      },
      "source": [
        "<a href=\"https://colab.research.google.com/github/lucia1299/DBMS_InvestigativeJournalism/blob/main/bio_data_processing.ipynb\" target=\"_parent\"><img src=\"https://colab.research.google.com/assets/colab-badge.svg\" alt=\"Open In Colab\"/></a>"
      ]
    },
    {
      "cell_type": "code",
      "source": [
        "!pip install xmltodict"
      ],
      "metadata": {
        "colab": {
          "base_uri": "https://localhost:8080/"
        },
        "id": "WtvMIGeZ6RJh",
        "outputId": "c45ce646-1fa6-41a1-caa8-0d30cac3d327"
      },
      "execution_count": null,
      "outputs": [
        {
          "output_type": "stream",
          "name": "stdout",
          "text": [
            "Collecting xmltodict\n",
            "  Downloading xmltodict-0.13.0-py2.py3-none-any.whl (10.0 kB)\n",
            "Installing collected packages: xmltodict\n",
            "Successfully installed xmltodict-0.13.0\n"
          ]
        }
      ]
    },
    {
      "cell_type": "code",
      "source": [
        "!pip install datasets"
      ],
      "metadata": {
        "colab": {
          "base_uri": "https://localhost:8080/"
        },
        "id": "7r_e9fBvEygb",
        "outputId": "344632bc-28f2-4e50-e353-963fcf626667"
      },
      "execution_count": null,
      "outputs": [
        {
          "output_type": "stream",
          "name": "stdout",
          "text": [
            "Collecting datasets\n",
            "  Downloading datasets-2.19.0-py3-none-any.whl (542 kB)\n",
            "\u001b[2K     \u001b[90m━━━━━━━━━━━━━━━━━━━━━━━━━━━━━━━━━━━━━━━━\u001b[0m \u001b[32m542.0/542.0 kB\u001b[0m \u001b[31m3.2 MB/s\u001b[0m eta \u001b[36m0:00:00\u001b[0m\n",
            "\u001b[?25hRequirement already satisfied: filelock in /usr/local/lib/python3.10/dist-packages (from datasets) (3.13.4)\n",
            "Requirement already satisfied: numpy>=1.17 in /usr/local/lib/python3.10/dist-packages (from datasets) (1.25.2)\n",
            "Requirement already satisfied: pyarrow>=12.0.0 in /usr/local/lib/python3.10/dist-packages (from datasets) (14.0.2)\n",
            "Requirement already satisfied: pyarrow-hotfix in /usr/local/lib/python3.10/dist-packages (from datasets) (0.6)\n",
            "Collecting dill<0.3.9,>=0.3.0 (from datasets)\n",
            "  Downloading dill-0.3.8-py3-none-any.whl (116 kB)\n",
            "\u001b[2K     \u001b[90m━━━━━━━━━━━━━━━━━━━━━━━━━━━━━━━━━━━━━━━━\u001b[0m \u001b[32m116.3/116.3 kB\u001b[0m \u001b[31m12.7 MB/s\u001b[0m eta \u001b[36m0:00:00\u001b[0m\n",
            "\u001b[?25hRequirement already satisfied: pandas in /usr/local/lib/python3.10/dist-packages (from datasets) (2.0.3)\n",
            "Requirement already satisfied: requests>=2.19.0 in /usr/local/lib/python3.10/dist-packages (from datasets) (2.31.0)\n",
            "Requirement already satisfied: tqdm>=4.62.1 in /usr/local/lib/python3.10/dist-packages (from datasets) (4.66.2)\n",
            "Collecting xxhash (from datasets)\n",
            "  Downloading xxhash-3.4.1-cp310-cp310-manylinux_2_17_x86_64.manylinux2014_x86_64.whl (194 kB)\n",
            "\u001b[2K     \u001b[90m━━━━━━━━━━━━━━━━━━━━━━━━━━━━━━━━━━━━━━━━\u001b[0m \u001b[32m194.1/194.1 kB\u001b[0m \u001b[31m8.1 MB/s\u001b[0m eta \u001b[36m0:00:00\u001b[0m\n",
            "\u001b[?25hCollecting multiprocess (from datasets)\n",
            "  Downloading multiprocess-0.70.16-py310-none-any.whl (134 kB)\n",
            "\u001b[2K     \u001b[90m━━━━━━━━━━━━━━━━━━━━━━━━━━━━━━━━━━━━━━━━\u001b[0m \u001b[32m134.8/134.8 kB\u001b[0m \u001b[31m12.3 MB/s\u001b[0m eta \u001b[36m0:00:00\u001b[0m\n",
            "\u001b[?25hRequirement already satisfied: fsspec[http]<=2024.3.1,>=2023.1.0 in /usr/local/lib/python3.10/dist-packages (from datasets) (2023.6.0)\n",
            "Requirement already satisfied: aiohttp in /usr/local/lib/python3.10/dist-packages (from datasets) (3.9.5)\n",
            "Collecting huggingface-hub>=0.21.2 (from datasets)\n",
            "  Downloading huggingface_hub-0.22.2-py3-none-any.whl (388 kB)\n",
            "\u001b[2K     \u001b[90m━━━━━━━━━━━━━━━━━━━━━━━━━━━━━━━━━━━━━━━━\u001b[0m \u001b[32m388.9/388.9 kB\u001b[0m \u001b[31m20.5 MB/s\u001b[0m eta \u001b[36m0:00:00\u001b[0m\n",
            "\u001b[?25hRequirement already satisfied: packaging in /usr/local/lib/python3.10/dist-packages (from datasets) (24.0)\n",
            "Requirement already satisfied: pyyaml>=5.1 in /usr/local/lib/python3.10/dist-packages (from datasets) (6.0.1)\n",
            "Requirement already satisfied: aiosignal>=1.1.2 in /usr/local/lib/python3.10/dist-packages (from aiohttp->datasets) (1.3.1)\n",
            "Requirement already satisfied: attrs>=17.3.0 in /usr/local/lib/python3.10/dist-packages (from aiohttp->datasets) (23.2.0)\n",
            "Requirement already satisfied: frozenlist>=1.1.1 in /usr/local/lib/python3.10/dist-packages (from aiohttp->datasets) (1.4.1)\n",
            "Requirement already satisfied: multidict<7.0,>=4.5 in /usr/local/lib/python3.10/dist-packages (from aiohttp->datasets) (6.0.5)\n",
            "Requirement already satisfied: yarl<2.0,>=1.0 in /usr/local/lib/python3.10/dist-packages (from aiohttp->datasets) (1.9.4)\n",
            "Requirement already satisfied: async-timeout<5.0,>=4.0 in /usr/local/lib/python3.10/dist-packages (from aiohttp->datasets) (4.0.3)\n",
            "Requirement already satisfied: typing-extensions>=3.7.4.3 in /usr/local/lib/python3.10/dist-packages (from huggingface-hub>=0.21.2->datasets) (4.11.0)\n",
            "Requirement already satisfied: charset-normalizer<4,>=2 in /usr/local/lib/python3.10/dist-packages (from requests>=2.19.0->datasets) (3.3.2)\n",
            "Requirement already satisfied: idna<4,>=2.5 in /usr/local/lib/python3.10/dist-packages (from requests>=2.19.0->datasets) (3.7)\n",
            "Requirement already satisfied: urllib3<3,>=1.21.1 in /usr/local/lib/python3.10/dist-packages (from requests>=2.19.0->datasets) (2.0.7)\n",
            "Requirement already satisfied: certifi>=2017.4.17 in /usr/local/lib/python3.10/dist-packages (from requests>=2.19.0->datasets) (2024.2.2)\n",
            "Requirement already satisfied: python-dateutil>=2.8.2 in /usr/local/lib/python3.10/dist-packages (from pandas->datasets) (2.8.2)\n",
            "Requirement already satisfied: pytz>=2020.1 in /usr/local/lib/python3.10/dist-packages (from pandas->datasets) (2023.4)\n",
            "Requirement already satisfied: tzdata>=2022.1 in /usr/local/lib/python3.10/dist-packages (from pandas->datasets) (2024.1)\n",
            "Requirement already satisfied: six>=1.5 in /usr/local/lib/python3.10/dist-packages (from python-dateutil>=2.8.2->pandas->datasets) (1.16.0)\n",
            "Installing collected packages: xxhash, dill, multiprocess, huggingface-hub, datasets\n",
            "  Attempting uninstall: huggingface-hub\n",
            "    Found existing installation: huggingface-hub 0.20.3\n",
            "    Uninstalling huggingface-hub-0.20.3:\n",
            "      Successfully uninstalled huggingface-hub-0.20.3\n",
            "Successfully installed datasets-2.19.0 dill-0.3.8 huggingface-hub-0.22.2 multiprocess-0.70.16 xxhash-3.4.1\n"
          ]
        }
      ]
    },
    {
      "cell_type": "code",
      "source": [
        "from google.colab import drive\n",
        "drive.mount('/content/drive')"
      ],
      "metadata": {
        "colab": {
          "base_uri": "https://localhost:8080/"
        },
        "id": "VU7pDWgWyMhU",
        "outputId": "b73c5a90-b6a3-41c1-c54b-6de0b85bacaf"
      },
      "execution_count": null,
      "outputs": [
        {
          "output_type": "stream",
          "name": "stdout",
          "text": [
            "Mounted at /content/drive\n"
          ]
        }
      ]
    },
    {
      "cell_type": "code",
      "source": [
        "from datasets import Dataset, concatenate_datasets, Features, Sequence, ClassLabel, Value\n",
        "import os\n",
        "import xmltodict\n",
        "import random\n",
        "import nltk\n",
        "nltk.download('punkt')\n",
        "from nltk.tokenize import sent_tokenize, word_tokenize"
      ],
      "metadata": {
        "id": "K-RHh016E4C2",
        "colab": {
          "base_uri": "https://localhost:8080/"
        },
        "outputId": "9ebd52f0-37f4-4357-88ec-3e3e38d600db"
      },
      "execution_count": null,
      "outputs": [
        {
          "output_type": "stream",
          "name": "stderr",
          "text": [
            "[nltk_data] Downloading package punkt to /root/nltk_data...\n",
            "[nltk_data]   Unzipping tokenizers/punkt.zip.\n"
          ]
        }
      ]
    },
    {
      "cell_type": "code",
      "source": [
        "def parse_xml_files(word_directory, attribute_directory):\n",
        "    dict_pairs = []\n",
        "    for word_filename in os.listdir(word_directory):\n",
        "        if word_filename.endswith(\".xml\"):\n",
        "            with open(os.path.join(word_directory, word_filename), 'r') as file:\n",
        "                xml_string = file.read()\n",
        "                word_dict = xmltodict.parse(xml_string)\n",
        "                for attribute_filename in os.listdir(attribute_directory):\n",
        "                    if attribute_filename.endswith(\".xml\") and attribute_filename == word_filename:\n",
        "                        with open(os.path.join(attribute_directory, attribute_filename), 'r') as file:\n",
        "                            xml_string = file.read()\n",
        "                            attribute_dict = xmltodict.parse(xml_string)\n",
        "                            dict_pairs.append((word_dict, attribute_dict))\n",
        "    return dict_pairs\n",
        "\n",
        "dict_pairs=parse_xml_files('/content/drive/MyDrive/TESI/tryout/Basedata', '/content/drive/MyDrive/TESI/tryout/Markable')\n",
        "print(len(dict_pairs))\n",
        "print(dict_pairs[1][0])"
      ],
      "metadata": {
        "colab": {
          "base_uri": "https://localhost:8080/"
        },
        "id": "D64gZtl7M7Sh",
        "outputId": "296eebbc-01f7-4acc-faf3-d08a804253ea"
      },
      "execution_count": null,
      "outputs": [
        {
          "output_type": "stream",
          "name": "stdout",
          "text": [
            "50\n",
            "{'words': {'word': [{'@id': 'word_1', '#text': 'A'}, {'@id': 'word_2', '#text': 'Fernandez'}, {'@id': 'word_3', '#text': 'il'}, {'@id': 'word_4', '#text': '50%'}, {'@id': 'word_5', '#text': 'delle'}, {'@id': 'word_6', '#text': \"attivita'\"}, {'@id': 'word_7', '#text': 'brasiliane'}, {'@id': 'word_8', '#text': '.'}, {'@id': 'word_9', '#text': '('}, {'@id': 'word_10', '#text': 'NOSTRO'}, {'@id': 'word_11', '#text': 'SERVIZIO'}, {'@id': 'word_12', '#text': ')'}, {'@id': 'word_13', '#text': 'BOSTON'}, {'@id': 'word_14', '#text': '_'}, {'@id': 'word_15', '#text': 'Dopo'}, {'@id': 'word_16', '#text': 'la'}, {'@id': 'word_17', '#text': 'joint-venture'}, {'@id': 'word_18', '#text': 'in'}, {'@id': 'word_19', '#text': 'Cina'}, {'@id': 'word_20', '#text': ','}, {'@id': 'word_21', '#text': 'Benetton'}, {'@id': 'word_22', '#text': 'torna'}, {'@id': 'word_23', '#text': 'a'}, {'@id': 'word_24', '#text': 'tessere'}, {'@id': 'word_25', '#text': 'dalle'}, {'@id': 'word_26', '#text': 'Americhe'}, {'@id': 'word_27', '#text': 'la'}, {'@id': 'word_28', '#text': 'strategia'}, {'@id': 'word_29', '#text': 'di'}, {'@id': 'word_30', '#text': 'accordi'}, {'@id': 'word_31', '#text': 'internazionali'}, {'@id': 'word_32', '#text': 'e'}, {'@id': 'word_33', '#text': 'rivela'}, {'@id': 'word_34', '#text': 'la'}, {'@id': 'word_35', '#text': 'cessione'}, {'@id': 'word_36', '#text': 'del'}, {'@id': 'word_37', '#text': '50%'}, {'@id': 'word_38', '#text': 'delle'}, {'@id': 'word_39', '#text': 'proprie'}, {'@id': 'word_40', '#text': \"attivita'\"}, {'@id': 'word_41', '#text': 'brasiliane'}, {'@id': 'word_42', '#text': 'al'}, {'@id': 'word_43', '#text': 'gruppo'}, {'@id': 'word_44', '#text': 'finanziario'}, {'@id': 'word_45', '#text': 'Fernandez'}, {'@id': 'word_46', '#text': '.'}, {'@id': 'word_47', '#text': 'In'}, {'@id': 'word_48', '#text': 'visita'}, {'@id': 'word_49', '#text': 'negli'}, {'@id': 'word_50', '#text': 'Stati Uniti'}, {'@id': 'word_51', '#text': 'per'}, {'@id': 'word_52', '#text': 'ricevere'}, {'@id': 'word_53', '#text': 'una'}, {'@id': 'word_54', '#text': 'laurea'}, {'@id': 'word_55', '#text': 'ad honorem'}, {'@id': 'word_56', '#text': 'in'}, {'@id': 'word_57', '#text': 'legge'}, {'@id': 'word_58', '#text': 'dalla'}, {'@id': 'word_59', '#text': 'Boston'}, {'@id': 'word_60', '#text': 'University'}, {'@id': 'word_61', '#text': ','}, {'@id': 'word_62', '#text': 'insieme al'}, {'@id': 'word_63', '#text': 'magnate'}, {'@id': 'word_64', '#text': 'texano'}, {'@id': 'word_65', '#text': 'Ross'}, {'@id': 'word_66', '#text': 'Perot'}, {'@id': 'word_67', '#text': 'e'}, {'@id': 'word_68', '#text': 'al'}, {'@id': 'word_69', '#text': 'capo'}, {'@id': 'word_70', '#text': 'della'}, {'@id': 'word_71', '#text': 'Viacom-Paramount'}, {'@id': 'word_72', '#text': 'Summer'}, {'@id': 'word_73', '#text': 'Redstone'}, {'@id': 'word_74', '#text': ','}, {'@id': 'word_75', '#text': \"e'\"}, {'@id': 'word_76', '#text': 'lo'}, {'@id': 'word_77', '#text': 'stesso'}, {'@id': 'word_78', '#text': 'Luciano'}, {'@id': 'word_79', '#text': 'Benetton'}, {'@id': 'word_80', '#text': 'a'}, {'@id': 'word_81', '#text': 'spiegare'}, {'@id': 'word_82', '#text': 'il'}, {'@id': 'word_83', '#text': 'nuovo'}, {'@id': 'word_84', '#text': 'passo'}, {'@id': 'word_85', '#text': 'del'}, {'@id': 'word_86', '#text': 'gruppo'}, {'@id': 'word_87', '#text': 'di'}, {'@id': 'word_88', '#text': 'Treviso'}, {'@id': 'word_89', '#text': ':'}, {'@id': 'word_90', '#text': '<<'}, {'@id': 'word_91', '#text': 'Il'}, {'@id': 'word_92', '#text': 'Brasile'}, {'@id': 'word_93', '#text': \"e'\"}, {'@id': 'word_94', '#text': 'uno'}, {'@id': 'word_95', '#text': 'dei'}, {'@id': 'word_96', '#text': \"piu'\"}, {'@id': 'word_97', '#text': 'interessanti'}, {'@id': 'word_98', '#text': 'mercati'}, {'@id': 'word_99', '#text': 'latino'}, {'@id': 'word_100', '#text': 'americani'}, {'@id': 'word_101', '#text': ','}, {'@id': 'word_102', '#text': 'anche se'}, {'@id': 'word_103', '#text': 'ancora'}, {'@id': 'word_104', '#text': 'fortemente'}, {'@id': 'word_105', '#text': 'instabile'}, {'@id': 'word_106', '#text': ':'}, {'@id': 'word_107', '#text': \"un'\"}, {'@id': 'word_108', '#text': 'inflazione'}, {'@id': 'word_109', '#text': 'al'}, {'@id': 'word_110', '#text': '30%'}, {'@id': 'word_111', '#text': 'al'}, {'@id': 'word_112', '#text': 'mese'}, {'@id': 'word_113', '#text': 'fa'}, {'@id': 'word_114', '#text': 'spesso'}, {'@id': 'word_115', '#text': 'saltare'}, {'@id': 'word_116', '#text': 'le'}, {'@id': 'word_117', '#text': 'stime'}, {'@id': 'word_118', '#text': 'sulle'}, {'@id': 'word_119', '#text': 'vendite'}, {'@id': 'word_120', '#text': 'e'}, {'@id': 'word_121', '#text': 'sui'}, {'@id': 'word_122', '#text': 'flussi'}, {'@id': 'word_123', '#text': 'di'}, {'@id': 'word_124', '#text': 'pagamento'}, {'@id': 'word_125', '#text': '>>'}, {'@id': 'word_126', '#text': '.'}, {'@id': 'word_127', '#text': 'Il'}, {'@id': 'word_128', '#text': 'gruppo'}, {'@id': 'word_129', '#text': 'Fernandez'}, {'@id': 'word_130', '#text': ','}, {'@id': 'word_131', '#text': 'che'}, {'@id': 'word_132', '#text': 'opera'}, {'@id': 'word_133', '#text': 'soprattutto'}, {'@id': 'word_134', '#text': 'nel'}, {'@id': 'word_135', '#text': 'settore'}, {'@id': 'word_136', '#text': 'finanziario'}, {'@id': 'word_137', '#text': 'brasiliano'}, {'@id': 'word_138', '#text': ','}, {'@id': 'word_139', '#text': 'oltre ad'}, {'@id': 'word_140', '#text': 'apportare'}, {'@id': 'word_141', '#text': 'nuovo'}, {'@id': 'word_142', '#text': 'capitale'}, {'@id': 'word_143', '#text': \"avra'\"}, {'@id': 'word_144', '#text': 'anche'}, {'@id': 'word_145', '#text': 'il'}, {'@id': 'word_146', '#text': 'compito'}, {'@id': 'word_147', '#text': 'di'}, {'@id': 'word_148', '#text': 'indicare'}, {'@id': 'word_149', '#text': 'le'}, {'@id': 'word_150', '#text': 'strategie'}, {'@id': 'word_151', '#text': 'finanziarie'}, {'@id': 'word_152', '#text': 'e'}, {'@id': 'word_153', '#text': 'fornire'}, {'@id': 'word_154', '#text': 'manager'}, {'@id': 'word_155', '#text': 'locali'}, {'@id': 'word_156', '#text': 'alla'}, {'@id': 'word_157', '#text': 'Benetton'}, {'@id': 'word_158', '#text': 'do'}, {'@id': 'word_159', '#text': 'Brasil'}, {'@id': 'word_160', '#text': '.'}, {'@id': 'word_161', '#text': 'Il'}, {'@id': 'word_162', '#text': 'presidente'}, {'@id': 'word_163', '#text': 'della'}, {'@id': 'word_164', '#text': 'Benetton'}, {'@id': 'word_165', '#text': 'Group'}, {'@id': 'word_166', '#text': 'fa'}, {'@id': 'word_167', '#text': 'anche'}, {'@id': 'word_168', '#text': 'il'}, {'@id': 'word_169', '#text': 'punto'}, {'@id': 'word_170', '#text': 'sulla'}, {'@id': 'word_171', '#text': 'strategia'}, {'@id': 'word_172', '#text': 'di'}, {'@id': 'word_173', '#text': 'sviluppo'}, {'@id': 'word_174', '#text': 'negli'}, {'@id': 'word_175', '#text': 'Stati Uniti'}, {'@id': 'word_176', '#text': ','}, {'@id': 'word_177', '#text': 'un'}, {'@id': 'word_178', '#text': 'mercato'}, {'@id': 'word_179', '#text': 'dove'}, {'@id': 'word_180', '#text': \"l'\"}, {'@id': 'word_181', '#text': 'azienda'}, {'@id': 'word_182', '#text': 'italiana'}, {'@id': 'word_183', '#text': 'ha'}, {'@id': 'word_184', '#text': 'accusato'}, {'@id': 'word_185', '#text': 'in'}, {'@id': 'word_186', '#text': 'passato'}, {'@id': 'word_187', '#text': \"piu'\"}, {'@id': 'word_188', '#text': 'di'}, {'@id': 'word_189', '#text': 'una'}, {'@id': 'word_190', '#text': \"difficolta'\"}, {'@id': 'word_191', '#text': ':'}, {'@id': 'word_192', '#text': '<<'}, {'@id': 'word_193', '#text': 'La'}, {'@id': 'word_194', '#text': 'ripresa'}, {'@id': 'word_195', '#text': 'si'}, {'@id': 'word_196', '#text': 'sente'}, {'@id': 'word_197', '#text': 'e'}, {'@id': 'word_198', '#text': ','}, {'@id': 'word_199', '#text': 'insieme al'}, {'@id': 'word_200', '#text': 'vantaggio'}, {'@id': 'word_201', '#text': 'di'}, {'@id': 'word_202', '#text': 'cambio'}, {'@id': 'word_203', '#text': ','}, {'@id': 'word_204', '#text': 'ha'}, {'@id': 'word_205', '#text': 'consentito'}, {'@id': 'word_206', '#text': 'forti'}, {'@id': 'word_207', '#text': 'aumenti'}, {'@id': 'word_208', '#text': 'delle'}, {'@id': 'word_209', '#text': 'vendite'}, {'@id': 'word_210', '#text': 'nel'}, {'@id': 'word_211', '#text': '1993'}, {'@id': 'word_212', '#text': '.'}, {'@id': 'word_213', '#text': 'Ma'}, {'@id': 'word_214', '#text': 'a'}, {'@id': 'word_215', '#text': 'differenza'}, {'@id': 'word_216', '#text': 'del'}, {'@id': 'word_217', '#text': 'mercato'}, {'@id': 'word_218', '#text': 'latino'}, {'@id': 'word_219', '#text': 'americano'}, {'@id': 'word_220', '#text': ','}, {'@id': 'word_221', '#text': 'dove'}, {'@id': 'word_222', '#text': 'ci'}, {'@id': 'word_223', '#text': 'caratterizziamo'}, {'@id': 'word_224', '#text': 'per'}, {'@id': 'word_225', '#text': 'gli'}, {'@id': 'word_226', '#text': 'standard'}, {'@id': 'word_227', '#text': 'di'}, {'@id': 'word_228', '#text': \"qualita'\"}, {'@id': 'word_229', '#text': ','}, {'@id': 'word_230', '#text': 'qui'}, {'@id': 'word_231', '#text': 'dobbiamo'}, {'@id': 'word_232', '#text': 'competere'}, {'@id': 'word_233', '#text': 'anche'}, {'@id': 'word_234', '#text': 'sul'}, {'@id': 'word_235', '#text': 'prezzo'}, {'@id': 'word_236', '#text': '>>'}, {'@id': 'word_237', '#text': '.'}, {'@id': 'word_238', '#text': \"L'\"}, {'@id': 'word_239', '#text': 'anno'}, {'@id': 'word_240', '#text': 'scorso'}, {'@id': 'word_241', '#text': 'negli'}, {'@id': 'word_242', '#text': 'Stati Uniti'}, {'@id': 'word_243', '#text': 'la'}, {'@id': 'word_244', '#text': 'Benetton'}, {'@id': 'word_245', '#text': 'Group'}, {'@id': 'word_246', '#text': 'ha'}, {'@id': 'word_247', '#text': 'registrato'}, {'@id': 'word_248', '#text': 'un'}, {'@id': 'word_249', '#text': 'aumento'}, {'@id': 'word_250', '#text': 'in'}, {'@id': 'word_251', '#text': 'volume'}, {'@id': 'word_252', '#text': 'delle'}, {'@id': 'word_253', '#text': 'vendite'}, {'@id': 'word_254', '#text': 'del'}, {'@id': 'word_255', '#text': '20%'}, {'@id': 'word_256', '#text': 'e'}, {'@id': 'word_257', '#text': 'i'}, {'@id': 'word_258', '#text': 'primi'}, {'@id': 'word_259', '#text': 'mesi'}, {'@id': 'word_260', '#text': 'del'}, {'@id': 'word_261', '#text': '1994'}, {'@id': 'word_262', '#text': 'hanno'}, {'@id': 'word_263', '#text': 'confermato'}, {'@id': 'word_264', '#text': 'questa'}, {'@id': 'word_265', '#text': 'tendenza'}, {'@id': 'word_266', '#text': '.'}, {'@id': 'word_267', '#text': 'Nello'}, {'@id': 'word_268', '#text': 'stesso'}, {'@id': 'word_269', '#text': 'periodo'}, {'@id': 'word_270', '#text': 'la'}, {'@id': 'word_271', '#text': 'crescita'}, {'@id': 'word_272', '#text': 'in'}, {'@id': 'word_273', '#text': 'dollari'}, {'@id': 'word_274', '#text': 'delle'}, {'@id': 'word_275', '#text': 'vendite'}, {'@id': 'word_276', '#text': 'Usa'}, {'@id': 'word_277', '#text': \"e'\"}, {'@id': 'word_278', '#text': 'stata'}, {'@id': 'word_279', '#text': 'soddisfacente'}, {'@id': 'word_280', '#text': 'ma'}, {'@id': 'word_281', '#text': 'molto'}, {'@id': 'word_282', '#text': \"piu'\"}, {'@id': 'word_283', '#text': 'bassa'}, {'@id': 'word_284', '#text': '.'}, {'@id': 'word_285', '#text': \"Grazie all'\"}, {'@id': 'word_286', '#text': 'alleanza'}, {'@id': 'word_287', '#text': 'con'}, {'@id': 'word_288', '#text': 'il'}, {'@id': 'word_289', '#text': 'gruppo'}, {'@id': 'word_290', '#text': 'Fernandez'}, {'@id': 'word_291', '#text': ','}, {'@id': 'word_292', '#text': \"l'\"}, {'@id': 'word_293', '#text': 'azienda'}, {'@id': 'word_294', '#text': 'italiana'}, {'@id': 'word_295', '#text': 'punta'}, {'@id': 'word_296', '#text': 'ora'}, {'@id': 'word_297', '#text': 'a'}, {'@id': 'word_298', '#text': 'far'}, {'@id': 'word_299', '#text': 'salire'}, {'@id': 'word_300', '#text': 'in'}, {'@id': 'word_301', '#text': 'tre'}, {'@id': 'word_302', '#text': 'anni'}, {'@id': 'word_303', '#text': 'da'}, {'@id': 'word_304', '#text': '130'}, {'@id': 'word_305', '#text': 'a'}, {'@id': 'word_306', '#text': '270'}, {'@id': 'word_307', '#text': 'i'}, {'@id': 'word_308', '#text': 'negozi'}, {'@id': 'word_309', '#text': 'assegnati'}, {'@id': 'word_310', '#text': 'su'}, {'@id': 'word_311', '#text': 'licenza'}, {'@id': 'word_312', '#text': 'in'}, {'@id': 'word_313', '#text': 'Brasile'}, {'@id': 'word_314', '#text': 'e'}, {'@id': 'word_315', '#text': 'a'}, {'@id': 'word_316', '#text': 'raddoppiare'}, {'@id': 'word_317', '#text': 'il'}, {'@id': 'word_318', '#text': 'giro'}, {'@id': 'word_319', '#text': \"d'\"}, {'@id': 'word_320', '#text': 'affari'}, {'@id': 'word_321', '#text': 'a'}, {'@id': 'word_322', '#text': '50'}, {'@id': 'word_323', '#text': 'milioni'}, {'@id': 'word_324', '#text': 'di'}, {'@id': 'word_325', '#text': 'dollari'}, {'@id': 'word_326', '#text': '.'}, {'@id': 'word_327', '#text': 'Insieme a'}, {'@id': 'word_328', '#text': 'Francia'}, {'@id': 'word_329', '#text': ','}, {'@id': 'word_330', '#text': 'Spagna'}, {'@id': 'word_331', '#text': ','}, {'@id': 'word_332', '#text': 'Turchia'}, {'@id': 'word_333', '#text': ','}, {'@id': 'word_334', '#text': 'India'}, {'@id': 'word_335', '#text': ','}, {'@id': 'word_336', '#text': 'Egitto'}, {'@id': 'word_337', '#text': '('}, {'@id': 'word_338', '#text': 'e'}, {'@id': 'word_339', '#text': 'in'}, {'@id': 'word_340', '#text': 'prospettiva'}, {'@id': 'word_341', '#text': 'anche'}, {'@id': 'word_342', '#text': 'la'}, {'@id': 'word_343', '#text': 'Cina'}, {'@id': 'word_344', '#text': 'dopo'}, {'@id': 'word_345', '#text': 'la'}, {'@id': 'word_346', '#text': 'joint-venture'}, {'@id': 'word_347', '#text': 'con'}, {'@id': 'word_348', '#text': 'i'}, {'@id': 'word_349', '#text': 'malesiani'}, {'@id': 'word_350', '#text': 'del'}, {'@id': 'word_351', '#text': 'gruppo'}, {'@id': 'word_352', '#text': 'Lyons'}, {'@id': 'word_353', '#text': ')'}, {'@id': 'word_354', '#text': ','}, {'@id': 'word_355', '#text': 'il'}, {'@id': 'word_356', '#text': 'Brasile'}, {'@id': 'word_357', '#text': \"e'\"}, {'@id': 'word_358', '#text': 'uno'}, {'@id': 'word_359', '#text': 'dei'}, {'@id': 'word_360', '#text': 'pochi'}, {'@id': 'word_361', '#text': 'mercati'}, {'@id': 'word_362', '#text': 'esteri'}, {'@id': 'word_363', '#text': 'in'}, {'@id': 'word_364', '#text': 'cui'}, {'@id': 'word_365', '#text': 'la'}, {'@id': 'word_366', '#text': 'Benetton'}, {'@id': 'word_367', '#text': 'ha'}, {'@id': 'word_368', '#text': 'anche'}, {'@id': 'word_369', '#text': 'una'}, {'@id': 'word_370', '#text': 'presenza'}, {'@id': 'word_371', '#text': 'produttiva'}, {'@id': 'word_372', '#text': 'oltre che'}, {'@id': 'word_373', '#text': 'commerciale'}, {'@id': 'word_374', '#text': ':'}, {'@id': 'word_375', '#text': \"l'\"}, {'@id': 'word_376', '#text': 'impianto'}, {'@id': 'word_377', '#text': 'di'}, {'@id': 'word_378', '#text': 'Curitiba'}, {'@id': 'word_379', '#text': 'serve'}, {'@id': 'word_380', '#text': 'una'}, {'@id': 'word_381', '#text': 'parte'}, {'@id': 'word_382', '#text': 'del'}, {'@id': 'word_383', '#text': 'mercato'}, {'@id': 'word_384', '#text': 'Benetton'}, {'@id': 'word_385', '#text': 'in'}, {'@id': 'word_386', '#text': 'Brasile'}, {'@id': 'word_387', '#text': ','}, {'@id': 'word_388', '#text': 'ma'}, {'@id': 'word_389', '#text': 'in'}, {'@id': 'word_390', '#text': 'futuro'}, {'@id': 'word_391', '#text': 'potrebbe'}, {'@id': 'word_392', '#text': 'servire'}, {'@id': 'word_393', '#text': 'i'}, {'@id': 'word_394', '#text': 'paesi'}, {'@id': 'word_395', '#text': 'limitrofi'}, {'@id': 'word_396', '#text': 'e'}, {'@id': 'word_397', '#text': 'lo'}, {'@id': 'word_398', '#text': 'stesso'}, {'@id': 'word_399', '#text': 'mercato'}, {'@id': 'word_400', '#text': 'nordamericano'}, {'@id': 'word_401', '#text': '.'}]}}\n"
          ]
        }
      ]
    },
    {
      "cell_type": "code",
      "source": [
        "#create a list of dictionaries containing word ids and correponding tags\n",
        "\n",
        "def create_single_markable(attribute_dict):\n",
        "    result_dict = {}\n",
        "    container_list = []\n",
        "\n",
        "    for markable in attribute_dict['markables']['markable']:\n",
        "        id = markable['@id']\n",
        "        span = markable['@span']\n",
        "        attrib_role = markable['@attribution_role']\n",
        "        sub_span = span.split(',')\n",
        "        for sub in sub_span:\n",
        "            if '..' in sub:\n",
        "                start, end = [int(i.split('_')[1]) for i in sub.split('..')]\n",
        "                words = [f'word_{i}' for i in range(start, end+1)]\n",
        "                result_dict['word_id'] = words\n",
        "                attrib_list = []\n",
        "                for word in words:\n",
        "                    attrib_list.append(attrib_role)\n",
        "                result_dict['tag'] = attrib_list\n",
        "                container_list.append(result_dict)\n",
        "                result_dict = {}\n",
        "            elif ',' in sub and '..' not in sub:\n",
        "                words = sub.split(',')\n",
        "                result_dict['word_id'] = words\n",
        "                attrib_list = [attrib_role for _ in words]\n",
        "                result_dict['tag'] = attrib_list\n",
        "                container_list.append(result_dict)\n",
        "                result_dict={}\n",
        "            else:\n",
        "                result_dict['word_id'] = [span]\n",
        "                result_dict['tag'] = [attrib_role]\n",
        "                container_list.append(result_dict)\n",
        "                result_dict = {}\n",
        "\n",
        "    return container_list"
      ],
      "metadata": {
        "id": "ykgt9J7a9QfN"
      },
      "execution_count": null,
      "outputs": []
    },
    {
      "cell_type": "code",
      "source": [
        "attribute_dict=dict_pairs[1][1]\n",
        "container_list = create_single_markable(attribute_dict)\n",
        "container_list[2]"
      ],
      "metadata": {
        "id": "E57Lq7axFhtK",
        "colab": {
          "base_uri": "https://localhost:8080/"
        },
        "outputId": "ed997101-8ce5-461b-cf9b-365f1065fd7a"
      },
      "execution_count": null,
      "outputs": [
        {
          "output_type": "execute_result",
          "data": {
            "text/plain": [
              "{'word_id': ['word_76', 'word_77', 'word_78', 'word_79'],\n",
              " 'tag': ['source', 'source', 'source', 'source']}"
            ]
          },
          "metadata": {},
          "execution_count": 7
        }
      ]
    },
    {
      "cell_type": "code",
      "source": [
        "#check which markable dictionaries are empty and therefore raise an error message: markable\n",
        "\n",
        "attribute_dicts=[]\n",
        "main_list = []\n",
        "\n",
        "for x in dict_pairs:\n",
        "    attribute_dicts.append(x[1])\n",
        "\n",
        "print(len(attribute_dicts))\n",
        "\n",
        "for i, attribute_dict in enumerate(attribute_dicts):\n",
        "    try:\n",
        "        container_list = create_single_markable(attribute_dict)\n",
        "        main_list.append(container_list)\n",
        "    except Exception as e:\n",
        "        print(f\"An error occurred at index {i} of attribute_dicts. Error message: {str(e)}\")"
      ],
      "metadata": {
        "colab": {
          "base_uri": "https://localhost:8080/"
        },
        "id": "VxVObknIQ03-",
        "outputId": "a7d33203-5162-48bc-bbb7-8668cbe61626"
      },
      "execution_count": null,
      "outputs": [
        {
          "output_type": "stream",
          "name": "stdout",
          "text": [
            "50\n",
            "An error occurred at index 4 of attribute_dicts. Error message: 'markable'\n",
            "An error occurred at index 13 of attribute_dicts. Error message: 'markable'\n",
            "An error occurred at index 15 of attribute_dicts. Error message: 'markable'\n",
            "An error occurred at index 23 of attribute_dicts. Error message: 'markable'\n",
            "An error occurred at index 25 of attribute_dicts. Error message: 'markable'\n",
            "An error occurred at index 34 of attribute_dicts. Error message: 'markable'\n",
            "An error occurred at index 43 of attribute_dicts. Error message: 'markable'\n"
          ]
        }
      ]
    },
    {
      "cell_type": "code",
      "source": [
        "# create a list of dictionaries in which there is a sentence id, the word ids and the actual words in that sentence\n",
        "\n",
        "def create_wordID_list(word_dict):\n",
        "    list_words_dicts=[]\n",
        "\n",
        "    words_list = word_dict['words']['word']\n",
        "    random_number = random.randint(1, 10000)\n",
        "\n",
        "    sentence = []\n",
        "    word_ids = []\n",
        "    for idx, word in enumerate(words_list):\n",
        "        sentence.append(word['#text'])\n",
        "        word_ids.append(word['@id'])\n",
        "        if word['#text'] == '.':\n",
        "            other_dict={}\n",
        "            other_dict['sentence_id']=[str(random_number)]\n",
        "            other_dict['tokens']=sentence\n",
        "            other_dict['words_ids'] = word_ids\n",
        "            list_words_dicts.append(other_dict)\n",
        "            sentence = []\n",
        "            word_ids = []\n",
        "\n",
        "    return list_words_dicts"
      ],
      "metadata": {
        "id": "s9c1T7lNaFVD"
      },
      "execution_count": null,
      "outputs": []
    },
    {
      "cell_type": "code",
      "source": [
        "word_dict = dict_pairs[1][0]\n",
        "list_words_dicts = create_wordID_list(word_dict)\n",
        "list_words_dicts[0]"
      ],
      "metadata": {
        "id": "WVgvuQQIHo7D",
        "colab": {
          "base_uri": "https://localhost:8080/"
        },
        "outputId": "fec775bb-5cee-47f9-ecc9-e7049d7de1e6"
      },
      "execution_count": null,
      "outputs": [
        {
          "output_type": "execute_result",
          "data": {
            "text/plain": [
              "{'sentence_id': ['6822'],\n",
              " 'tokens': ['A',\n",
              "  'Fernandez',\n",
              "  'il',\n",
              "  '50%',\n",
              "  'delle',\n",
              "  \"attivita'\",\n",
              "  'brasiliane',\n",
              "  '.'],\n",
              " 'words_ids': ['word_1',\n",
              "  'word_2',\n",
              "  'word_3',\n",
              "  'word_4',\n",
              "  'word_5',\n",
              "  'word_6',\n",
              "  'word_7',\n",
              "  'word_8']}"
            ]
          },
          "metadata": {},
          "execution_count": 10
        }
      ]
    },
    {
      "cell_type": "code",
      "source": [
        "# check to see whether there there are any files that raise an issue in the word dict\n",
        "\n",
        "main_list_2 = []\n",
        "word_dicts=[]\n",
        "for x in dict_pairs:\n",
        "    word_dicts.append(x[0])\n",
        "\n",
        "print(len(word_dicts))\n",
        "\n",
        "for i, word_dict in enumerate(word_dicts):\n",
        "    try:\n",
        "        list_words_dicts = create_wordID_list(word_dict)\n",
        "        main_list_2.append(list_words_dicts)\n",
        "    except Exception as e:\n",
        "        print(f\"An error occurred at index {i} of word_dicts. Error message: {str(e)}\")"
      ],
      "metadata": {
        "colab": {
          "base_uri": "https://localhost:8080/"
        },
        "id": "zEmdriy1Ldvk",
        "outputId": "9f7819fc-b411-4eb4-afbf-38350f60aafe"
      },
      "execution_count": null,
      "outputs": [
        {
          "output_type": "stream",
          "name": "stdout",
          "text": [
            "50\n"
          ]
        }
      ]
    },
    {
      "cell_type": "code",
      "source": [
        "# def add_tags(container_list, list_words_dicts):\n",
        "\n",
        "#     for markable_dict in list_words_dicts:\n",
        "#         word_ids = markable_dict['words_ids']\n",
        "#         new_tag_list=[]\n",
        "#         for id in word_ids:\n",
        "#             for word_dict in container_list:\n",
        "#                 tags_list=word_dict['tag']\n",
        "#                 word_ids_2=word_dict['word_id']\n",
        "#                 if id in word_ids_2:\n",
        "#                     corresponding_tag=tags_list[0]\n",
        "#                     new_tag_list.append(corresponding_tag)\n",
        "#                 else:\n",
        "#                     new_tag_list.append('O')\n",
        "#                 break\n",
        "#         markable_dict['tag']=new_tag_list\n",
        "\n",
        "#     return list_words_dicts"
      ],
      "metadata": {
        "id": "pEiXcglJsocB"
      },
      "execution_count": null,
      "outputs": []
    },
    {
      "cell_type": "code",
      "source": [
        "def add_tags(container_list, list_words_dicts):\n",
        "    for markable_dict in list_words_dicts:\n",
        "        word_ids = markable_dict['words_ids']\n",
        "        new_tag_list = []\n",
        "        for i, id in enumerate(word_ids):\n",
        "            for word_dict in container_list:\n",
        "                tags_list = word_dict['tag']\n",
        "                word_ids_2 = word_dict['word_id']\n",
        "                if id in word_ids_2:\n",
        "                    corresponding_tag = tags_list[0]\n",
        "                    if i == 0:\n",
        "                        corresponding_tag = 'B-' + corresponding_tag\n",
        "                    else:\n",
        "                        corresponding_tag = 'I-' + corresponding_tag\n",
        "                    new_tag_list.append(corresponding_tag)\n",
        "                else:\n",
        "                    new_tag_list.append('O')\n",
        "                break\n",
        "        markable_dict['tag'] = new_tag_list\n",
        "    return list_words_dicts"
      ],
      "metadata": {
        "id": "FmhRojpt4WRC"
      },
      "execution_count": null,
      "outputs": []
    },
    {
      "cell_type": "code",
      "source": [
        "list_enriched = add_tags(container_list, list_words_dicts)\n",
        "list_enriched[0]"
      ],
      "metadata": {
        "colab": {
          "base_uri": "https://localhost:8080/"
        },
        "id": "TcIHaPRoxf7q",
        "outputId": "2e0332ca-5ae8-42a8-abb9-7f2aedb7a5b0"
      },
      "execution_count": null,
      "outputs": [
        {
          "output_type": "execute_result",
          "data": {
            "text/plain": [
              "{'sentence_id': ['7425'],\n",
              " 'tokens': ['I',\n",
              "  'colpiti',\n",
              "  'sono',\n",
              "  'uomini',\n",
              "  'di',\n",
              "  'Bardellino',\n",
              "  ',',\n",
              "  're',\n",
              "  'del',\n",
              "  'traffico',\n",
              "  'di',\n",
              "  'cocaina',\n",
              "  '.'],\n",
              " 'words_ids': ['word_1',\n",
              "  'word_2',\n",
              "  'word_3',\n",
              "  'word_4',\n",
              "  'word_5',\n",
              "  'word_6',\n",
              "  'word_7',\n",
              "  'word_8',\n",
              "  'word_9',\n",
              "  'word_10',\n",
              "  'word_11',\n",
              "  'word_12',\n",
              "  'word_13'],\n",
              " 'tag': ['O', 'O', 'O', 'O', 'O', 'O', 'O', 'O', 'O', 'O', 'O', 'O', 'O']}"
            ]
          },
          "metadata": {},
          "execution_count": 13
        }
      ]
    },
    {
      "cell_type": "code",
      "source": [
        "def tags_exception(list_words_dicts):\n",
        "\n",
        "    for word_dict in list_words_dicts:\n",
        "        word_list = word_dict['tokens']\n",
        "        attr_list=[]\n",
        "\n",
        "        for word in word_list:\n",
        "            attr_list.append('O')\n",
        "        word_dict['tag'] = attr_list\n",
        "\n",
        "    return list_words_dicts"
      ],
      "metadata": {
        "id": "WqXwVFwhbXLj"
      },
      "execution_count": null,
      "outputs": []
    },
    {
      "cell_type": "code",
      "source": [
        "new_list_words = tags_exception(list_words_dicts)\n",
        "new_list_words[1]"
      ],
      "metadata": {
        "colab": {
          "base_uri": "https://localhost:8080/"
        },
        "id": "XsNUL92WTJ2P",
        "outputId": "753a6365-c470-412f-86f5-ca5a8f4e5c03"
      },
      "execution_count": null,
      "outputs": [
        {
          "output_type": "execute_result",
          "data": {
            "text/plain": [
              "{'sentence_id': ['7425'],\n",
              " 'tokens': ['GUERRA',\n",
              "  'PER',\n",
              "  'BANDE',\n",
              "  'NEL',\n",
              "  'NAPOLETANO',\n",
              "  'TRE',\n",
              "  'UCCISI',\n",
              "  ',',\n",
              "  'GRAVISSIMO',\n",
              "  'UN',\n",
              "  'PASSANTE',\n",
              "  '.'],\n",
              " 'words_ids': ['word_14',\n",
              "  'word_15',\n",
              "  'word_16',\n",
              "  'word_17',\n",
              "  'word_18',\n",
              "  'word_19',\n",
              "  'word_20',\n",
              "  'word_21',\n",
              "  'word_22',\n",
              "  'word_23',\n",
              "  'word_24',\n",
              "  'word_25'],\n",
              " 'tag': ['O', 'O', 'O', 'O', 'O', 'O', 'O', 'O', 'O', 'O', 'O', 'O']}"
            ]
          },
          "metadata": {},
          "execution_count": 15
        }
      ]
    },
    {
      "cell_type": "code",
      "source": [
        "def create_dataset_per_file(enriched_list):\n",
        "\n",
        "    container_dict = {key: [d[key] for d in enriched_list] for key in enriched_list[0]}\n",
        "    ds = Dataset.from_dict(container_dict, features=Features({\n",
        "                    'sentence_id': Sequence(Value(dtype='string')),\n",
        "                    'words_ids': Sequence(Value(dtype='string')),\n",
        "                    'tag': Sequence(ClassLabel(names=['B-cue', 'B-source', 'B-supplement', 'B-content', 'I-cue', 'I-source', 'I-supplement', 'I-content','O'])),\n",
        "                    'tokens': Sequence(Value(dtype='string'))\n",
        "                    }))\n",
        "\n",
        "    return ds"
      ],
      "metadata": {
        "id": "dkiG_SOy7eRB"
      },
      "execution_count": null,
      "outputs": []
    },
    {
      "cell_type": "code",
      "source": [
        "def general_function(word_directory, attribute_directory):\n",
        "    dataset_list=[]\n",
        "\n",
        "    dict_pairs=parse_xml_files(word_directory, attribute_directory)\n",
        "\n",
        "    for i in dict_pairs:\n",
        "        enriched_list=[]\n",
        "        word_dict=i[0]\n",
        "        attribute_dict=i[1]\n",
        "        list_words_dicts = create_wordID_list(word_dict)\n",
        "        for dict_val in attribute_dict.values():\n",
        "            if 'markable' in dict_val:\n",
        "                container_list = create_single_markable(attribute_dict)\n",
        "                enriched_list = add_tags(container_list, list_words_dicts)\n",
        "            else:\n",
        "                enriched_list = tags_exception(list_words_dicts)\n",
        "\n",
        "        single_dataset = create_dataset_per_file(enriched_list)\n",
        "        dataset_list.append(single_dataset)\n",
        "\n",
        "    main_dataset=concatenate_datasets(dataset_list)\n",
        "\n",
        "    return main_dataset"
      ],
      "metadata": {
        "id": "kHq0N5K8_erl"
      },
      "execution_count": null,
      "outputs": []
    },
    {
      "cell_type": "code",
      "source": [
        "main_dataset = general_function('/content/drive/MyDrive/TESI/tryout/Basedata', '/content/drive/MyDrive/TESI/tryout/Markable')\n",
        "main_dataset"
      ],
      "metadata": {
        "colab": {
          "base_uri": "https://localhost:8080/"
        },
        "id": "4PvL2eY1MdcW",
        "outputId": "43dba64f-1ac6-49a9-fa7f-73f9fb57849c"
      },
      "execution_count": null,
      "outputs": [
        {
          "output_type": "execute_result",
          "data": {
            "text/plain": [
              "Dataset({\n",
              "    features: ['sentence_id', 'tokens', 'words_ids', 'tag'],\n",
              "    num_rows: 1495\n",
              "})"
            ]
          },
          "metadata": {},
          "execution_count": 18
        }
      ]
    },
    {
      "cell_type": "code",
      "source": [
        "main_dataset[0]"
      ],
      "metadata": {
        "colab": {
          "base_uri": "https://localhost:8080/"
        },
        "id": "SMzlFMCfAGuU",
        "outputId": "22418131-febf-4cff-ba35-8c8cfbe97599"
      },
      "execution_count": null,
      "outputs": [
        {
          "output_type": "execute_result",
          "data": {
            "text/plain": [
              "{'sentence_id': ['7600'],\n",
              " 'tokens': ['SALONE', 'DEL', 'LIBRO', ':', 'AFFLUENZA', 'RECORD', '.'],\n",
              " 'words_ids': ['word_1',\n",
              "  'word_2',\n",
              "  'word_3',\n",
              "  'word_4',\n",
              "  'word_5',\n",
              "  'word_6',\n",
              "  'word_7'],\n",
              " 'tag': [8, 8, 8, 8, 8, 8, 8]}"
            ]
          },
          "metadata": {},
          "execution_count": 19
        }
      ]
    },
    {
      "cell_type": "code",
      "source": [
        "print(type(main_dataset))"
      ],
      "metadata": {
        "id": "o7cOxQILBR2T",
        "colab": {
          "base_uri": "https://localhost:8080/"
        },
        "outputId": "537c136c-702e-4e2e-903d-6e144ec53c88"
      },
      "execution_count": null,
      "outputs": [
        {
          "output_type": "stream",
          "name": "stdout",
          "text": [
            "<class 'datasets.arrow_dataset.Dataset'>\n"
          ]
        }
      ]
    },
    {
      "cell_type": "code",
      "source": [
        "main_dataset.features['tag']"
      ],
      "metadata": {
        "id": "2OQEgxRfXJOn",
        "colab": {
          "base_uri": "https://localhost:8080/"
        },
        "outputId": "59076727-64f2-43e6-cd1a-8491d112dc8f"
      },
      "execution_count": null,
      "outputs": [
        {
          "output_type": "execute_result",
          "data": {
            "text/plain": [
              "Sequence(feature=ClassLabel(names=['B-cue', 'B-source', 'B-supplement', 'B-content', 'I-cue', 'I-source', 'I-supplement', 'I-content', 'O'], id=None), length=-1, id=None)"
            ]
          },
          "metadata": {},
          "execution_count": 21
        }
      ]
    },
    {
      "cell_type": "code",
      "source": [
        "train_test_split_ratio = 0.8  # 80% for training\n",
        "train_val_split_ratio = 0.75  # 75% of 80% for training, 25% of 80% for validation\n",
        "\n",
        "# Compute the actual split sizes\n",
        "test_split = 1 - train_test_split_ratio\n",
        "val_split = (1 - train_val_split_ratio) * train_test_split_ratio\n",
        "\n",
        "# Perform the splits\n",
        "dataset = main_dataset.train_test_split(test_size=test_split)\n",
        "train_dataset = dataset['train'].train_test_split(test_size=val_split)\n",
        "test_dataset = dataset['test']\n",
        "\n",
        "\n",
        "# Now, `train_dataset['train']` is the training set,\n",
        "# `train_dataset['test']` is the validation set,\n",
        "# and `test_dataset` is the test set.\n",
        "\n",
        "test_dataset"
      ],
      "metadata": {
        "id": "Kla-ummpUuum",
        "colab": {
          "base_uri": "https://localhost:8080/"
        },
        "outputId": "78e7bc79-1e6c-4948-a90d-c37d26819340"
      },
      "execution_count": null,
      "outputs": [
        {
          "output_type": "execute_result",
          "data": {
            "text/plain": [
              "Dataset({\n",
              "    features: ['sentence_id', 'tokens', 'words_ids', 'tag'],\n",
              "    num_rows: 299\n",
              "})"
            ]
          },
          "metadata": {},
          "execution_count": 22
        }
      ]
    },
    {
      "cell_type": "code",
      "source": [
        "train_dataset['train']"
      ],
      "metadata": {
        "colab": {
          "base_uri": "https://localhost:8080/"
        },
        "id": "ah0eJi1WZ_i4",
        "outputId": "49d84dc4-0261-415f-f65b-287b3572185f"
      },
      "execution_count": null,
      "outputs": [
        {
          "output_type": "execute_result",
          "data": {
            "text/plain": [
              "Dataset({\n",
              "    features: ['sentence_id', 'tokens', 'words_ids', 'tag'],\n",
              "    num_rows: 956\n",
              "})"
            ]
          },
          "metadata": {},
          "execution_count": 23
        }
      ]
    },
    {
      "cell_type": "code",
      "source": [
        "train_dataset['test']"
      ],
      "metadata": {
        "id": "h2D7WVkVU-YN",
        "colab": {
          "base_uri": "https://localhost:8080/"
        },
        "outputId": "9a4c956d-cb51-4e1b-8412-962176336066"
      },
      "execution_count": null,
      "outputs": [
        {
          "output_type": "execute_result",
          "data": {
            "text/plain": [
              "Dataset({\n",
              "    features: ['sentence_id', 'tokens', 'words_ids', 'tag'],\n",
              "    num_rows: 240\n",
              "})"
            ]
          },
          "metadata": {},
          "execution_count": 24
        }
      ]
    },
    {
      "cell_type": "code",
      "source": [
        "from collections import Counter\n",
        "\n",
        "# Assuming 'dataset' is your Dataset object\n",
        "tag_counter = Counter()\n",
        "\n",
        "for row in train_dataset['train']:\n",
        "    for tag in row['tag']:  # Assuming 'tag' is a list\n",
        "        tag_counter[tag] += 1\n",
        "\n",
        "for tag, count in tag_counter.items():\n",
        "    print(f\"Tag: {tag}, Count: {count}\")\n"
      ],
      "metadata": {
        "colab": {
          "base_uri": "https://localhost:8080/"
        },
        "id": "xKefJgNoBxuO",
        "outputId": "90ba9831-b10b-4c9d-d3ef-98cbf1099ba2"
      },
      "execution_count": null,
      "outputs": [
        {
          "output_type": "stream",
          "name": "stdout",
          "text": [
            "Tag: 8, Count: 23224\n",
            "Tag: 5, Count: 5\n",
            "Tag: 7, Count: 186\n",
            "Tag: 3, Count: 3\n",
            "Tag: 4, Count: 14\n",
            "Tag: 6, Count: 5\n",
            "Tag: 0, Count: 2\n"
          ]
        }
      ]
    },
    {
      "cell_type": "code",
      "source": [
        "train_dataset['train'].save_to_disk('/content/drive/MyDrive/TESI/tryout/BIOtraining')\n",
        "train_dataset['test'].save_to_disk('/content/drive/MyDrive/TESI/tryout/BIOevaluating')\n",
        "test_dataset.save_to_disk('/content/drive/MyDrive/TESI/tryout/BIOtesting')"
      ],
      "metadata": {
        "colab": {
          "base_uri": "https://localhost:8080/",
          "height": 113,
          "referenced_widgets": [
            "bc86c74b220b4324a2c56bd9159e49d5",
            "322d3313ea5c49a49674db3bb55dd0ea",
            "ad8d507006674c98866d839ca0db4e6c",
            "150d2871e14341019d72f7ee596eff6d",
            "5ef10587527d42b6a0c2060a5437d42e",
            "9dfa20c2a01a43f0a37fd58af4801345",
            "2c0b490b87fc49ecbda5ff98af769c07",
            "c544a4547d2944babec24830818927fd",
            "e843f82113e843deaab2b07bdd1dcec9",
            "a2a8ba6e0c244ac0b415257a7d1f54f9",
            "15cc8a306a8944cd842fb8b78ab915ae",
            "a1f6ed1d6dbe48939260ed7b6ffaa5c3",
            "b5e7d11f573c4ee89fde02126d307d28",
            "23151597caa3490293e53bf68594386e",
            "036b1df04912457180e4610dd0f88767",
            "3dfcce3940bd4a1883b57871d9276b28",
            "419165f1e745465994c6dad1541465e1",
            "51b4f096fc544a4d90cadce78e32230e",
            "14ad20fd679f46e6b56e3c2cf2879248",
            "4234c899f2994b6488fd0de98d8d844c",
            "84d64b47c8cc4920a8cb70c0895c0fec",
            "a1bb5c47aa2f401faa0af606deaa14a1",
            "331c24a952754bdba1bba6647eae1389",
            "2af39e8b536749f4a12d6d46cc2794c8",
            "88096328e82e4d6589d5ff01024e6315",
            "f9406c50a6dd46be9bf3a85e053aaaad",
            "55e485e99a81400d9647e9c2935613bf",
            "261cfe9656914113abe06325bb971dbc",
            "60f12b960f154239a3570396d73635e7",
            "eeb08d92eb9d453d8f8e6129c77f4a8f",
            "1c8ad49ac33a4f9bb4ed3e1e5f34c502",
            "7272293580e84495ba7751cdfa33ebd9",
            "c7a40b0e28ba4c6eba386521265afac4"
          ]
        },
        "id": "NcmwCRoSeJJI",
        "outputId": "d9f52098-1b29-4cb2-e0b2-485b65e0456e"
      },
      "execution_count": null,
      "outputs": [
        {
          "output_type": "display_data",
          "data": {
            "text/plain": [
              "Saving the dataset (0/1 shards):   0%|          | 0/956 [00:00<?, ? examples/s]"
            ],
            "application/vnd.jupyter.widget-view+json": {
              "version_major": 2,
              "version_minor": 0,
              "model_id": "bc86c74b220b4324a2c56bd9159e49d5"
            }
          },
          "metadata": {}
        },
        {
          "output_type": "display_data",
          "data": {
            "text/plain": [
              "Saving the dataset (0/1 shards):   0%|          | 0/240 [00:00<?, ? examples/s]"
            ],
            "application/vnd.jupyter.widget-view+json": {
              "version_major": 2,
              "version_minor": 0,
              "model_id": "a1f6ed1d6dbe48939260ed7b6ffaa5c3"
            }
          },
          "metadata": {}
        },
        {
          "output_type": "display_data",
          "data": {
            "text/plain": [
              "Saving the dataset (0/1 shards):   0%|          | 0/299 [00:00<?, ? examples/s]"
            ],
            "application/vnd.jupyter.widget-view+json": {
              "version_major": 2,
              "version_minor": 0,
              "model_id": "331c24a952754bdba1bba6647eae1389"
            }
          },
          "metadata": {}
        }
      ]
    }
  ]
}
