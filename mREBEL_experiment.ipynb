{
  "cells": [
    {
      "cell_type": "markdown",
      "metadata": {
        "id": "view-in-github",
        "colab_type": "text"
      },
      "source": [
        "<a href=\"https://colab.research.google.com/github/lucia1299/DBMS_InvestigativeJournalism/blob/main/mREBEL_experiment.ipynb\" target=\"_parent\"><img src=\"https://colab.research.google.com/assets/colab-badge.svg\" alt=\"Open In Colab\"/></a>"
      ]
    },
    {
      "cell_type": "markdown",
      "metadata": {
        "id": "zaLEy7issHF-"
      },
      "source": [
        "# Install the relevant libraries"
      ]
    },
    {
      "cell_type": "code",
      "execution_count": null,
      "metadata": {
        "colab": {
          "base_uri": "https://localhost:8080/"
        },
        "id": "TbNHzwH3kU4f",
        "outputId": "6c6ccd2b-7243-4e50-cf64-db3051949955"
      },
      "outputs": [
        {
          "output_type": "stream",
          "name": "stdout",
          "text": [
            "Requirement already satisfied: transformers in /usr/local/lib/python3.10/dist-packages (4.44.2)\n",
            "Collecting wikidata\n",
            "  Downloading Wikidata-0.8.1-py3-none-any.whl.metadata (3.0 kB)\n",
            "Requirement already satisfied: requests in /usr/local/lib/python3.10/dist-packages (2.32.3)\n",
            "Collecting rdflib\n",
            "  Downloading rdflib-7.0.0-py3-none-any.whl.metadata (11 kB)\n",
            "Collecting SPARQLWrapper\n",
            "  Downloading SPARQLWrapper-2.0.0-py3-none-any.whl.metadata (2.0 kB)\n",
            "Requirement already satisfied: filelock in /usr/local/lib/python3.10/dist-packages (from transformers) (3.16.1)\n",
            "Requirement already satisfied: huggingface-hub<1.0,>=0.23.2 in /usr/local/lib/python3.10/dist-packages (from transformers) (0.24.7)\n",
            "Requirement already satisfied: numpy>=1.17 in /usr/local/lib/python3.10/dist-packages (from transformers) (1.26.4)\n",
            "Requirement already satisfied: packaging>=20.0 in /usr/local/lib/python3.10/dist-packages (from transformers) (24.1)\n",
            "Requirement already satisfied: pyyaml>=5.1 in /usr/local/lib/python3.10/dist-packages (from transformers) (6.0.2)\n",
            "Requirement already satisfied: regex!=2019.12.17 in /usr/local/lib/python3.10/dist-packages (from transformers) (2024.9.11)\n",
            "Requirement already satisfied: safetensors>=0.4.1 in /usr/local/lib/python3.10/dist-packages (from transformers) (0.4.5)\n",
            "Requirement already satisfied: tokenizers<0.20,>=0.19 in /usr/local/lib/python3.10/dist-packages (from transformers) (0.19.1)\n",
            "Requirement already satisfied: tqdm>=4.27 in /usr/local/lib/python3.10/dist-packages (from transformers) (4.66.5)\n",
            "Requirement already satisfied: charset-normalizer<4,>=2 in /usr/local/lib/python3.10/dist-packages (from requests) (3.3.2)\n",
            "Requirement already satisfied: idna<4,>=2.5 in /usr/local/lib/python3.10/dist-packages (from requests) (3.10)\n",
            "Requirement already satisfied: urllib3<3,>=1.21.1 in /usr/local/lib/python3.10/dist-packages (from requests) (2.2.3)\n",
            "Requirement already satisfied: certifi>=2017.4.17 in /usr/local/lib/python3.10/dist-packages (from requests) (2024.8.30)\n",
            "Collecting isodate<0.7.0,>=0.6.0 (from rdflib)\n",
            "  Downloading isodate-0.6.1-py2.py3-none-any.whl.metadata (9.6 kB)\n",
            "Requirement already satisfied: pyparsing<4,>=2.1.0 in /usr/local/lib/python3.10/dist-packages (from rdflib) (3.1.4)\n",
            "Requirement already satisfied: fsspec>=2023.5.0 in /usr/local/lib/python3.10/dist-packages (from huggingface-hub<1.0,>=0.23.2->transformers) (2024.6.1)\n",
            "Requirement already satisfied: typing-extensions>=3.7.4.3 in /usr/local/lib/python3.10/dist-packages (from huggingface-hub<1.0,>=0.23.2->transformers) (4.12.2)\n",
            "Requirement already satisfied: six in /usr/local/lib/python3.10/dist-packages (from isodate<0.7.0,>=0.6.0->rdflib) (1.16.0)\n",
            "Downloading Wikidata-0.8.1-py3-none-any.whl (29 kB)\n",
            "Downloading rdflib-7.0.0-py3-none-any.whl (531 kB)\n",
            "\u001b[2K   \u001b[90m━━━━━━━━━━━━━━━━━━━━━━━━━━━━━━━━━━━━━━━━\u001b[0m \u001b[32m531.9/531.9 kB\u001b[0m \u001b[31m17.5 MB/s\u001b[0m eta \u001b[36m0:00:00\u001b[0m\n",
            "\u001b[?25hDownloading SPARQLWrapper-2.0.0-py3-none-any.whl (28 kB)\n",
            "Downloading isodate-0.6.1-py2.py3-none-any.whl (41 kB)\n",
            "\u001b[2K   \u001b[90m━━━━━━━━━━━━━━━━━━━━━━━━━━━━━━━━━━━━━━━━\u001b[0m \u001b[32m41.7/41.7 kB\u001b[0m \u001b[31m2.9 MB/s\u001b[0m eta \u001b[36m0:00:00\u001b[0m\n",
            "\u001b[?25hInstalling collected packages: wikidata, isodate, rdflib, SPARQLWrapper\n",
            "Successfully installed SPARQLWrapper-2.0.0 isodate-0.6.1 rdflib-7.0.0 wikidata-0.8.1\n"
          ]
        }
      ],
      "source": [
        "!pip install transformers wikidata requests rdflib SPARQLWrapper"
      ]
    },
    {
      "cell_type": "code",
      "execution_count": null,
      "metadata": {
        "id": "oMVVc3epkQbC"
      },
      "outputs": [],
      "source": [
        "from transformers import AutoModelForSeq2SeqLM, AutoTokenizer\n",
        "import math\n",
        "import torch\n",
        "import IPython\n",
        "from wikidata.client import Client\n",
        "import requests\n",
        "import rdflib\n",
        "from SPARQLWrapper import SPARQLWrapper, JSON"
      ]
    },
    {
      "cell_type": "markdown",
      "source": [
        "# Tryout with Wikidata"
      ],
      "metadata": {
        "id": "j3N7gLCYj1nH"
      }
    },
    {
      "cell_type": "code",
      "source": [
        "    def get_wikidata_data(candidate_entity):\n",
        "        client = Client()\n",
        "        search_url = \"https://www.wikidata.org/w/api.php\"\n",
        "        params = {\n",
        "            'action': 'wbsearchentities',\n",
        "            'format': 'json',\n",
        "            'language': 'it',\n",
        "            'search': candidate_entity,\n",
        "            'limit': 1\n",
        "        }\n",
        "\n",
        "        try:\n",
        "            # Search for the entity using the Wikidata API\n",
        "            response = requests.get(search_url, params=params)\n",
        "            search_results = response.json()\n",
        "\n",
        "            if not search_results.get('search'):\n",
        "                return None\n",
        "\n",
        "            # Get the first matched entity's ID\n",
        "            entity_id = search_results['search'][0]['id']\n",
        "\n",
        "            # Fetch the entity data using the Wikidata client\n",
        "            wikidata_entity = client.get(entity_id, load=True)\n",
        "\n",
        "            title = wikidata_entity.label.get('en')\n",
        "\n",
        "            entity_data = {\n",
        "                \"title\": title,\n",
        "                \"url\": f\"https://www.wikidata.org/wiki/{entity_id}\",\n",
        "                # You can also extract more data as needed\n",
        "            }\n",
        "\n",
        "            return entity_data\n",
        "        except Exception as e:\n",
        "            print(f\"Error fetching data: {e}\")\n",
        "            return None"
      ],
      "metadata": {
        "id": "HEEai-eOjlPP"
      },
      "execution_count": null,
      "outputs": []
    },
    {
      "cell_type": "code",
      "source": [
        "entity_data = get_wikidata_data(\"Cina\")\n",
        "if entity_data:\n",
        "    print(f\"Title: {entity_data['title']}\")\n",
        "    print(f\"URL: {entity_data['url']}\")\n",
        "else:\n",
        "    print(\"Entity not found or error occurred.\")"
      ],
      "metadata": {
        "colab": {
          "base_uri": "https://localhost:8080/"
        },
        "id": "DuXZQYY0nXQ7",
        "outputId": "2c870cbc-ac9e-47fa-a8c9-5700ccc0de1b"
      },
      "execution_count": null,
      "outputs": [
        {
          "output_type": "stream",
          "name": "stdout",
          "text": [
            "Title: People's Republic of China\n",
            "URL: https://www.wikidata.org/wiki/Q148\n"
          ]
        }
      ]
    },
    {
      "cell_type": "markdown",
      "source": [
        "# Tryout with LOV query\n"
      ],
      "metadata": {
        "id": "rVqVY-Zg3SmY"
      }
    },
    {
      "cell_type": "code",
      "source": [
        "import requests\n",
        "\n",
        "def search_lov_property(prop_name):\n",
        "    base_url = \"https://lov.linkeddata.es/dataset/lov/api/v2/term/search\"\n",
        "\n",
        "    params = {\n",
        "        \"q\": prop_name,\n",
        "        \"type\": \"property\"\n",
        "    }\n",
        "\n",
        "    response = requests.get(base_url, params=params)\n",
        "\n",
        "    if response.status_code == 200:\n",
        "        return response.json()\n",
        "    else:\n",
        "        return None\n",
        "\n",
        "property_name = \"country of citizenship\"\n",
        "\n",
        "def get_lov_property(property_name):\n",
        "    results = search_lov_property(property_name)\n",
        "    if results:\n",
        "        max_score = float('-inf')\n",
        "        result_with_max_score = None\n",
        "\n",
        "        for result in results.get(\"results\", []):\n",
        "            score = result.get('score', float('-inf'))\n",
        "\n",
        "            if score > max_score:\n",
        "                max_score = score\n",
        "                result_with_max_score = result\n",
        "\n",
        "            if result_with_max_score:\n",
        "                return str(result_with_max_score.get('uri', 'N/A')[0])\n",
        "            else:\n",
        "                print(\"No results found or an error occurred.\")\n",
        "\n",
        "final = get_lov_property(property_name)\n",
        "print(final)\n",
        "print(type(final))"
      ],
      "metadata": {
        "colab": {
          "base_uri": "https://localhost:8080/"
        },
        "id": "MZolf6OS5ZlI",
        "outputId": "ce4c7275-03a6-4d9f-8926-dfb63b14685b"
      },
      "execution_count": null,
      "outputs": [
        {
          "output_type": "stream",
          "name": "stdout",
          "text": [
            "http://contextus.net/ontology/ontomedia/ext/common/being#place_of_citizenship\n",
            "<class 'str'>\n"
          ]
        }
      ]
    },
    {
      "cell_type": "markdown",
      "source": [
        "# Tryout with SemanticTripleConverter"
      ],
      "metadata": {
        "id": "97O4MbACLxD9"
      }
    },
    {
      "cell_type": "code",
      "source": [
        "class SemanticTripleConverter:\n",
        "    def __init__(self, entities, relations):\n",
        "        self.entities = entities\n",
        "        self.relations = relations\n",
        "        self.sparql_endpoint = \"https://dbpedia.org/sparql\"\n",
        "        self.ontology_predicates = {\n",
        "            'is': 'http://www.w3.org/1999/02/22-rdf-syntax-ns#type',\n",
        "        }\n",
        "\n",
        "    def get_valid_predicate(self, predicate):\n",
        "        # First, check initial mappings\n",
        "        if predicate in self.ontology_predicates:\n",
        "            return self.ontology_predicates[predicate]\n",
        "\n",
        "        # Second, query external SPARQL endpoint\n",
        "        external_predicate = self.query_external_ontology(predicate)\n",
        "        if external_predicate:\n",
        "            # Cache the result to avoid future queries\n",
        "            self.ontology_predicates[predicate] = external_predicate\n",
        "            return external_predicate\n",
        "\n",
        "        # Fallback to original predicate if no match found\n",
        "        return predicate\n",
        "\n",
        "    def search_lov_property(prop_name):\n",
        "        base_url = \"https://lov.linkeddata.es/dataset/lov/api/v2/term/search\"\n",
        "\n",
        "        params = {\n",
        "            \"q\": prop_name,\n",
        "            \"type\": \"property\"\n",
        "        }\n",
        "\n",
        "        response = requests.get(base_url, params=params)\n",
        "\n",
        "        if response.status_code == 200:\n",
        "            return response.json()\n",
        "        else:\n",
        "            return None\n",
        "\n",
        "    def get_lov_property(property_name):\n",
        "        results = search_lov_property(property_name)\n",
        "        if results:\n",
        "            max_score = float('-inf')\n",
        "            result_with_max_score = None\n",
        "\n",
        "            for result in results.get(\"results\", []):\n",
        "                score = result.get('score', float('-inf'))\n",
        "\n",
        "                if score > max_score:\n",
        "                    max_score = score\n",
        "                    result_with_max_score = result\n",
        "\n",
        "                if result_with_max_score:\n",
        "                    return str(result_with_max_score.get('uri', 'N/A')[0])\n",
        "                return None\n",
        "\n",
        "    def query_external_ontology(self, predicate):\n",
        "        sparql = SPARQLWrapper(self.sparql_endpoint)\n",
        "        query = f\"\"\"\n",
        "        SELECT ?property ?label\n",
        "        WHERE {{\n",
        "        ?property a rdf:Property .\n",
        "        ?property rdfs:label ?label .\n",
        "        FILTER (lang(?label) = \"en\" && CONTAINS(LCASE(?label), LCASE(\"{predicate}\")))\n",
        "        }}\n",
        "        \"\"\"\n",
        "        sparql.setQuery(query)\n",
        "        sparql.setReturnFormat(JSON)\n",
        "        results = sparql.query().convert()\n",
        "\n",
        "        if results[\"results\"][\"bindings\"]:\n",
        "            return results[\"results\"][\"bindings\"][0][\"property\"][\"value\"]\n",
        "        else:\n",
        "            lov_predicate = get_lov_property(predicate)\n",
        "            return lov_predicate\n",
        "\n",
        "    def convertJSON(self):\n",
        "        triples = []\n",
        "        for entity in self.entities.keys():\n",
        "            triple = {\n",
        "                'subject': entity,\n",
        "                'predicate': str(self.get_valid_predicate('is')),\n",
        "                'object': self.entities[entity]['url']\n",
        "            }\n",
        "            triples.append(triple)\n",
        "        for relation in self.relations:\n",
        "            triple = {\n",
        "                'subject': relation['head'],\n",
        "                'predicate': str(self.get_valid_predicate(relation['type'])),\n",
        "                'object': relation['tail']\n",
        "            }\n",
        "            triples.append(triple)\n",
        "        return triples\n",
        "\n",
        "# Example usage:\n",
        "entities = {\n",
        "    'Serbia': {'url': 'http://www.wikidata.org/entity/Q403'}\n",
        "}\n",
        "relations = [\n",
        "    {'head': 'Serbia', 'type': 'diplomatic relation', 'tail': 'European Union'},\n",
        "    {'head': 'Serbia', 'type': 'head of state', 'tail': 'Aleksandar Vučić'},\n",
        "    {'head': 'Serbia', 'type': 'country of citizenship', 'tail': 'Mihajlo Pupin'}\n",
        "]\n",
        "\n",
        "converter = SemanticTripleConverter(entities, relations)\n",
        "triples = converter.convertJSON()\n",
        "\n",
        "for triple in triples:\n",
        "    print(triple)"
      ],
      "metadata": {
        "colab": {
          "base_uri": "https://localhost:8080/"
        },
        "id": "gzrMQrjr3iwK",
        "outputId": "070dc75c-464f-4560-8f03-06b84fa41544"
      },
      "execution_count": null,
      "outputs": [
        {
          "output_type": "stream",
          "name": "stdout",
          "text": [
            "{'subject': 'Serbia', 'predicate': 'http://www.w3.org/1999/02/22-rdf-syntax-ns#type', 'object': 'http://www.wikidata.org/entity/Q403'}\n",
            "{'subject': 'Serbia', 'predicate': 'http://purl.org/dc/elements/1.1/relation', 'object': 'European Union'}\n",
            "{'subject': 'Serbia', 'predicate': 'http://dbpedia.org/property/headOfState', 'object': 'Aleksandar Vučić'}\n",
            "{'subject': 'Serbia', 'predicate': 'http://contextus.net/ontology/ontomedia/ext/common/being#place_of_citizenship', 'object': 'Mihajlo Pupin'}\n"
          ]
        }
      ]
    }
  ],
  "metadata": {
    "colab": {
      "provenance": [],
      "include_colab_link": true
    },
    "kernelspec": {
      "display_name": "Python 3",
      "name": "python3"
    },
    "language_info": {
      "name": "python"
    }
  },
  "nbformat": 4,
  "nbformat_minor": 0
}